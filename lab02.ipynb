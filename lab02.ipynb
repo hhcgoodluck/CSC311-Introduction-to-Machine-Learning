{
  "cells": [
    {
      "cell_type": "markdown",
      "id": "ready-external",
      "metadata": {
        "id": "ready-external"
      },
      "source": [
        "# CSC311 Lab 2: Decision Trees and Accuracy-based Diagnostics\n",
        "\n",
        "All artificial intelligence systems have the potential to fail and in some domains\n",
        "(like health) failures can have grave consequences.  When we work in these domains,\n",
        "it's important for us to understand our algorithmic errors and their potential risk.\n",
        "\n",
        "<!--\n",
        "In labs 2, 5 and 7, we'll loosely be following the autiding procedure suggested by [Lui et. al](https://www.thelancet.com/journals/landig/article/PIIS2589-7500(22)00003-6/fulltext) in order to build and analyze a decision making system that operates in a high risk domain.\n",
        "-->\n",
        "\n",
        "In labs 2, 5 and 7, we will use data from The National Health and Nutrition Examination Survey [NHANES](https://www.cdc.gov/nchs/nhanes/index.htm) in the United States.\n",
        "This survey runs annually to assess people's health and nutritional status, and it combines data from interviews and physical examinations. We will be exploring a\n",
        "handful of attributes from the 2014 instance of this survey and their ability to predict heart disease.\n",
        "Making decisions using health data is particularly high risk, so we will use this opportunity to discuss\n",
        "how to assess our model prior to using it.\n",
        "\n",
        "<!--\n",
        "We will then do some testing according to\n",
        "the [auditing recipe](https://www.thelancet.com/journals/landig/article/PIIS2589-7500(22)00003-6/fulltext#seccestitle40) presented by Liu.\n",
        "-->\n",
        "\n",
        "In this lab, we will explore the features in this data set, use `sklearn` to fit a\n",
        "decision tree to our data, and do some work to select hyperparamters that maximize\n",
        "accuracy (or minimize the number of our classification mistakes). In future labs, we\n",
        "will be exploring our mistakes, relating them to important subgroups, and reflecting\n",
        "on our model's robustness. We will also consider how assessments of risk associated\n",
        "with our errors should or could inform our decision making criteria.\n",
        "\n",
        "By the end of this lab, you will be able to:\n",
        "\n",
        "1. Perform an exploratory analysis to understand the features that we use to make predictions.\n",
        "2. Transform features into formats amenable to machine learning (i.e. using one-hot embeddings).\n",
        "3. Use `sklearn` to fit a decision tree to our data and determine its training/validation/test accuracy.\n",
        "4. Visualize, understand and interpret a decision tree diagram.\n",
        "5. Explain how various hyperparameter choices may cause our decision tree to underfit or overfit data.\n",
        "6. Perform hyperparameter tuning to search for the optimal hyperparameters of a decision tree.\n",
        "\n",
        "Please work in groups of 1-2 during the labs.\n",
        "\n",
        "Acknowledgements:\n",
        "\n",
        "- Thanks to https://www.kaggle.com/code/tobyanderson/health-survey-analysis for some utilities to decode NHANES categories!  \n",
        "- This lab was created in collaboration with, Prof. Sonya Allin, Mustafa Haiderbhai, Carolyn Quinlan, Brandon Jaipersaud and others.\n",
        "\n",
        "## Submission\n",
        "\n",
        "If you are working with a partner, start by creating a group on Markus. If you are working alone,\n",
        "click \"Working Alone\".\n",
        "\n",
        "Submit the ipynb file `lab02.ipynb` on Markus\n",
        "**containing all your solutions to the Graded Tasks**.\n",
        "Your notebook file must contain your code **and outputs** where applicable,\n",
        "including printed lines and images.\n",
        "Your TA will not run your code for the purpose of grading.\n",
        "\n",
        "For this lab, you should submit the following:\n",
        "\n",
        "\n",
        "- Part 1. Your explanation for whether our features are likely to be informative predictors. (1 point)\n",
        "- Part 1. Your explanation for why encoding categorical variables as numeric values is problematic for a decision tree. (1 point)\n",
        "- Part 1. Your explanation as to why there is no need to normalize the features of a decision tree. (1 point)\n",
        "- Part 2. Your classification of `X_train[5]` based on your generated decision tree diagram and a justification for your classification. (1 point)\n",
        "- Part 2. The values of `max_depth` you chose to make your decision tree underfit/overfit, along with the generated diagrams. A justification as to why those values make the tree underfit/overfit. (1 point)\n",
        "- Part 2. The values of `min_samples_split` you chose to make your decision tree underfit/overfit. A justification as to why those values make the tree underfit/overfit. (1 point)\n",
        "- Part 3. Your implementation of `build_all_models`.  (2 points)\n",
        "- Part 3. Your implementation of grid search, including print statement(s) that show your best parameters and corresponding scores for both `entropy` and `gini` criteria.  (1 point)\n",
        "- Part 4. Your reflections on the exercise, and our definition of a model that performs \"well\". (1 point)\n",
        "\n",
        "## Google Colab Setup\n",
        "\n",
        "As before, we will import `matplotlib` and `numpy` for plotting and linear algebra\n",
        "manipulations."
      ]
    },
    {
      "cell_type": "code",
      "execution_count": 1,
      "id": "certified-instrument",
      "metadata": {
        "id": "certified-instrument"
      },
      "outputs": [],
      "source": [
        "import matplotlib.pyplot as plt # For plotting\n",
        "import numpy as np              # Linear algebra library"
      ]
    },
    {
      "cell_type": "markdown",
      "id": "numeric-turning",
      "metadata": {
        "id": "numeric-turning"
      },
      "source": [
        "In addition to using `numpy` for its linear algebra functionalities, we will also use\n",
        "a library called `pandas` to help us read CSV files and manipulate tabular data.\n",
        "The below code reads each of the csv files into a **data frame**, which is a way that\n",
        "`pandas` stores tabular data.\n",
        "As an added bonus, Jupyter notebooks display these data frames in a human-readable way."
      ]
    },
    {
      "cell_type": "code",
      "execution_count": 2,
      "id": "competitive-thomson",
      "metadata": {
        "id": "competitive-thomson"
      },
      "outputs": [],
      "source": [
        "import pandas as pd"
      ]
    },
    {
      "cell_type": "markdown",
      "id": "fitting-bullet",
      "metadata": {
        "id": "fitting-bullet"
      },
      "source": [
        "As before, we will start by downloading the data to Google Colab."
      ]
    },
    {
      "cell_type": "code",
      "execution_count": 3,
      "id": "blind-israeli",
      "metadata": {
        "id": "blind-israeli",
        "outputId": "c626c3cc-4400-4ef9-a12e-df5f5ef08c31",
        "colab": {
          "base_uri": "https://localhost:8080/"
        }
      },
      "outputs": [
        {
          "output_type": "stream",
          "name": "stdout",
          "text": [
            "--2025-09-11 22:43:40--  https://www.cs.toronto.edu/~lczhang/311/lab02/NHANES-heart.csv\n",
            "Resolving www.cs.toronto.edu (www.cs.toronto.edu)... 128.100.3.30\n",
            "Connecting to www.cs.toronto.edu (www.cs.toronto.edu)|128.100.3.30|:443... connected.\n",
            "HTTP request sent, awaiting response... 200 OK\n",
            "Length: 450659 (440K) [text/csv]\n",
            "Saving to: ‘NHANES-heart.csv’\n",
            "\n",
            "NHANES-heart.csv    100%[===================>] 440.10K   501KB/s    in 0.9s    \n",
            "\n",
            "2025-09-11 22:43:41 (501 KB/s) - ‘NHANES-heart.csv’ saved [450659/450659]\n",
            "\n"
          ]
        }
      ],
      "source": [
        "!wget https://www.cs.toronto.edu/~lczhang/311/lab02/NHANES-heart.csv"
      ]
    },
    {
      "cell_type": "markdown",
      "id": "handy-korea",
      "metadata": {
        "id": "handy-korea"
      },
      "source": [
        "Use pandas to read the dataset."
      ]
    },
    {
      "cell_type": "code",
      "execution_count": 4,
      "id": "gentle-howard",
      "metadata": {
        "id": "gentle-howard",
        "outputId": "896ac6b6-c411-47c5-d47b-31ad3ac44587",
        "colab": {
          "base_uri": "https://localhost:8080/",
          "height": 444
        }
      },
      "outputs": [
        {
          "output_type": "execute_result",
          "data": {
            "text/plain": [
              "      gender  race_ethnicity  chest_pain_ever  drink_alcohol  age   BMI  \\\n",
              "0          1               4              1.0            1.0   62  29.1   \n",
              "1          1               6              2.0            1.0   50  20.9   \n",
              "2          2               1              2.0            2.0   62  16.6   \n",
              "3          1               3              2.0            1.0   61  17.6   \n",
              "4          1               4              2.0            1.0   69  13.5   \n",
              "...      ...             ...              ...            ...  ...   ...   \n",
              "7995       2               3              1.0            2.0   76  24.6   \n",
              "7996       2               2              2.0            2.0   43  29.0   \n",
              "7997       1               6              2.0            2.0   51  14.3   \n",
              "7998       1               2              1.0            1.0   64  24.6   \n",
              "7999       2               3              2.0            2.0   80  32.2   \n",
              "\n",
              "      weight_kg  blood_pressure_sys  diastolic_bp  blood_cholesterol  \\\n",
              "0          77.3               104.0          56.0               5.64   \n",
              "1          42.9               118.0          46.0               5.25   \n",
              "2          27.3               116.0          66.0               3.23   \n",
              "3          26.2                90.0          52.0               3.67   \n",
              "4          21.0               116.0          66.0               4.50   \n",
              "...         ...                 ...           ...                ...   \n",
              "7995       13.1               116.0          66.0               4.50   \n",
              "7996       81.4               134.0          62.0               3.05   \n",
              "7997       15.6               116.0          66.0               4.50   \n",
              "7998       11.6               116.0          66.0               4.50   \n",
              "7999       78.3               114.0          66.0               4.55   \n",
              "\n",
              "      calories  family_income  target_heart  \n",
              "0        815.0           0.87           0.0  \n",
              "1       2339.0           3.63           0.0  \n",
              "2       1405.0           3.09           0.0  \n",
              "3       1735.0           2.13           0.0  \n",
              "4       1735.0           1.74           0.0  \n",
              "...        ...            ...           ...  \n",
              "7995    1735.0           2.05           1.0  \n",
              "7996    1735.0           0.45           1.0  \n",
              "7997    1735.0           0.48           1.0  \n",
              "7998    1120.0           0.31           1.0  \n",
              "7999    3274.0           0.62           1.0  \n",
              "\n",
              "[8000 rows x 13 columns]"
            ],
            "text/html": [
              "\n",
              "  <div id=\"df-910086f4-0721-41c0-8134-10261465b890\" class=\"colab-df-container\">\n",
              "    <div>\n",
              "<style scoped>\n",
              "    .dataframe tbody tr th:only-of-type {\n",
              "        vertical-align: middle;\n",
              "    }\n",
              "\n",
              "    .dataframe tbody tr th {\n",
              "        vertical-align: top;\n",
              "    }\n",
              "\n",
              "    .dataframe thead th {\n",
              "        text-align: right;\n",
              "    }\n",
              "</style>\n",
              "<table border=\"1\" class=\"dataframe\">\n",
              "  <thead>\n",
              "    <tr style=\"text-align: right;\">\n",
              "      <th></th>\n",
              "      <th>gender</th>\n",
              "      <th>race_ethnicity</th>\n",
              "      <th>chest_pain_ever</th>\n",
              "      <th>drink_alcohol</th>\n",
              "      <th>age</th>\n",
              "      <th>BMI</th>\n",
              "      <th>weight_kg</th>\n",
              "      <th>blood_pressure_sys</th>\n",
              "      <th>diastolic_bp</th>\n",
              "      <th>blood_cholesterol</th>\n",
              "      <th>calories</th>\n",
              "      <th>family_income</th>\n",
              "      <th>target_heart</th>\n",
              "    </tr>\n",
              "  </thead>\n",
              "  <tbody>\n",
              "    <tr>\n",
              "      <th>0</th>\n",
              "      <td>1</td>\n",
              "      <td>4</td>\n",
              "      <td>1.0</td>\n",
              "      <td>1.0</td>\n",
              "      <td>62</td>\n",
              "      <td>29.1</td>\n",
              "      <td>77.3</td>\n",
              "      <td>104.0</td>\n",
              "      <td>56.0</td>\n",
              "      <td>5.64</td>\n",
              "      <td>815.0</td>\n",
              "      <td>0.87</td>\n",
              "      <td>0.0</td>\n",
              "    </tr>\n",
              "    <tr>\n",
              "      <th>1</th>\n",
              "      <td>1</td>\n",
              "      <td>6</td>\n",
              "      <td>2.0</td>\n",
              "      <td>1.0</td>\n",
              "      <td>50</td>\n",
              "      <td>20.9</td>\n",
              "      <td>42.9</td>\n",
              "      <td>118.0</td>\n",
              "      <td>46.0</td>\n",
              "      <td>5.25</td>\n",
              "      <td>2339.0</td>\n",
              "      <td>3.63</td>\n",
              "      <td>0.0</td>\n",
              "    </tr>\n",
              "    <tr>\n",
              "      <th>2</th>\n",
              "      <td>2</td>\n",
              "      <td>1</td>\n",
              "      <td>2.0</td>\n",
              "      <td>2.0</td>\n",
              "      <td>62</td>\n",
              "      <td>16.6</td>\n",
              "      <td>27.3</td>\n",
              "      <td>116.0</td>\n",
              "      <td>66.0</td>\n",
              "      <td>3.23</td>\n",
              "      <td>1405.0</td>\n",
              "      <td>3.09</td>\n",
              "      <td>0.0</td>\n",
              "    </tr>\n",
              "    <tr>\n",
              "      <th>3</th>\n",
              "      <td>1</td>\n",
              "      <td>3</td>\n",
              "      <td>2.0</td>\n",
              "      <td>1.0</td>\n",
              "      <td>61</td>\n",
              "      <td>17.6</td>\n",
              "      <td>26.2</td>\n",
              "      <td>90.0</td>\n",
              "      <td>52.0</td>\n",
              "      <td>3.67</td>\n",
              "      <td>1735.0</td>\n",
              "      <td>2.13</td>\n",
              "      <td>0.0</td>\n",
              "    </tr>\n",
              "    <tr>\n",
              "      <th>4</th>\n",
              "      <td>1</td>\n",
              "      <td>4</td>\n",
              "      <td>2.0</td>\n",
              "      <td>1.0</td>\n",
              "      <td>69</td>\n",
              "      <td>13.5</td>\n",
              "      <td>21.0</td>\n",
              "      <td>116.0</td>\n",
              "      <td>66.0</td>\n",
              "      <td>4.50</td>\n",
              "      <td>1735.0</td>\n",
              "      <td>1.74</td>\n",
              "      <td>0.0</td>\n",
              "    </tr>\n",
              "    <tr>\n",
              "      <th>...</th>\n",
              "      <td>...</td>\n",
              "      <td>...</td>\n",
              "      <td>...</td>\n",
              "      <td>...</td>\n",
              "      <td>...</td>\n",
              "      <td>...</td>\n",
              "      <td>...</td>\n",
              "      <td>...</td>\n",
              "      <td>...</td>\n",
              "      <td>...</td>\n",
              "      <td>...</td>\n",
              "      <td>...</td>\n",
              "      <td>...</td>\n",
              "    </tr>\n",
              "    <tr>\n",
              "      <th>7995</th>\n",
              "      <td>2</td>\n",
              "      <td>3</td>\n",
              "      <td>1.0</td>\n",
              "      <td>2.0</td>\n",
              "      <td>76</td>\n",
              "      <td>24.6</td>\n",
              "      <td>13.1</td>\n",
              "      <td>116.0</td>\n",
              "      <td>66.0</td>\n",
              "      <td>4.50</td>\n",
              "      <td>1735.0</td>\n",
              "      <td>2.05</td>\n",
              "      <td>1.0</td>\n",
              "    </tr>\n",
              "    <tr>\n",
              "      <th>7996</th>\n",
              "      <td>2</td>\n",
              "      <td>2</td>\n",
              "      <td>2.0</td>\n",
              "      <td>2.0</td>\n",
              "      <td>43</td>\n",
              "      <td>29.0</td>\n",
              "      <td>81.4</td>\n",
              "      <td>134.0</td>\n",
              "      <td>62.0</td>\n",
              "      <td>3.05</td>\n",
              "      <td>1735.0</td>\n",
              "      <td>0.45</td>\n",
              "      <td>1.0</td>\n",
              "    </tr>\n",
              "    <tr>\n",
              "      <th>7997</th>\n",
              "      <td>1</td>\n",
              "      <td>6</td>\n",
              "      <td>2.0</td>\n",
              "      <td>2.0</td>\n",
              "      <td>51</td>\n",
              "      <td>14.3</td>\n",
              "      <td>15.6</td>\n",
              "      <td>116.0</td>\n",
              "      <td>66.0</td>\n",
              "      <td>4.50</td>\n",
              "      <td>1735.0</td>\n",
              "      <td>0.48</td>\n",
              "      <td>1.0</td>\n",
              "    </tr>\n",
              "    <tr>\n",
              "      <th>7998</th>\n",
              "      <td>1</td>\n",
              "      <td>2</td>\n",
              "      <td>1.0</td>\n",
              "      <td>1.0</td>\n",
              "      <td>64</td>\n",
              "      <td>24.6</td>\n",
              "      <td>11.6</td>\n",
              "      <td>116.0</td>\n",
              "      <td>66.0</td>\n",
              "      <td>4.50</td>\n",
              "      <td>1120.0</td>\n",
              "      <td>0.31</td>\n",
              "      <td>1.0</td>\n",
              "    </tr>\n",
              "    <tr>\n",
              "      <th>7999</th>\n",
              "      <td>2</td>\n",
              "      <td>3</td>\n",
              "      <td>2.0</td>\n",
              "      <td>2.0</td>\n",
              "      <td>80</td>\n",
              "      <td>32.2</td>\n",
              "      <td>78.3</td>\n",
              "      <td>114.0</td>\n",
              "      <td>66.0</td>\n",
              "      <td>4.55</td>\n",
              "      <td>3274.0</td>\n",
              "      <td>0.62</td>\n",
              "      <td>1.0</td>\n",
              "    </tr>\n",
              "  </tbody>\n",
              "</table>\n",
              "<p>8000 rows × 13 columns</p>\n",
              "</div>\n",
              "    <div class=\"colab-df-buttons\">\n",
              "\n",
              "  <div class=\"colab-df-container\">\n",
              "    <button class=\"colab-df-convert\" onclick=\"convertToInteractive('df-910086f4-0721-41c0-8134-10261465b890')\"\n",
              "            title=\"Convert this dataframe to an interactive table.\"\n",
              "            style=\"display:none;\">\n",
              "\n",
              "  <svg xmlns=\"http://www.w3.org/2000/svg\" height=\"24px\" viewBox=\"0 -960 960 960\">\n",
              "    <path d=\"M120-120v-720h720v720H120Zm60-500h600v-160H180v160Zm220 220h160v-160H400v160Zm0 220h160v-160H400v160ZM180-400h160v-160H180v160Zm440 0h160v-160H620v160ZM180-180h160v-160H180v160Zm440 0h160v-160H620v160Z\"/>\n",
              "  </svg>\n",
              "    </button>\n",
              "\n",
              "  <style>\n",
              "    .colab-df-container {\n",
              "      display:flex;\n",
              "      gap: 12px;\n",
              "    }\n",
              "\n",
              "    .colab-df-convert {\n",
              "      background-color: #E8F0FE;\n",
              "      border: none;\n",
              "      border-radius: 50%;\n",
              "      cursor: pointer;\n",
              "      display: none;\n",
              "      fill: #1967D2;\n",
              "      height: 32px;\n",
              "      padding: 0 0 0 0;\n",
              "      width: 32px;\n",
              "    }\n",
              "\n",
              "    .colab-df-convert:hover {\n",
              "      background-color: #E2EBFA;\n",
              "      box-shadow: 0px 1px 2px rgba(60, 64, 67, 0.3), 0px 1px 3px 1px rgba(60, 64, 67, 0.15);\n",
              "      fill: #174EA6;\n",
              "    }\n",
              "\n",
              "    .colab-df-buttons div {\n",
              "      margin-bottom: 4px;\n",
              "    }\n",
              "\n",
              "    [theme=dark] .colab-df-convert {\n",
              "      background-color: #3B4455;\n",
              "      fill: #D2E3FC;\n",
              "    }\n",
              "\n",
              "    [theme=dark] .colab-df-convert:hover {\n",
              "      background-color: #434B5C;\n",
              "      box-shadow: 0px 1px 3px 1px rgba(0, 0, 0, 0.15);\n",
              "      filter: drop-shadow(0px 1px 2px rgba(0, 0, 0, 0.3));\n",
              "      fill: #FFFFFF;\n",
              "    }\n",
              "  </style>\n",
              "\n",
              "    <script>\n",
              "      const buttonEl =\n",
              "        document.querySelector('#df-910086f4-0721-41c0-8134-10261465b890 button.colab-df-convert');\n",
              "      buttonEl.style.display =\n",
              "        google.colab.kernel.accessAllowed ? 'block' : 'none';\n",
              "\n",
              "      async function convertToInteractive(key) {\n",
              "        const element = document.querySelector('#df-910086f4-0721-41c0-8134-10261465b890');\n",
              "        const dataTable =\n",
              "          await google.colab.kernel.invokeFunction('convertToInteractive',\n",
              "                                                    [key], {});\n",
              "        if (!dataTable) return;\n",
              "\n",
              "        const docLinkHtml = 'Like what you see? Visit the ' +\n",
              "          '<a target=\"_blank\" href=https://colab.research.google.com/notebooks/data_table.ipynb>data table notebook</a>'\n",
              "          + ' to learn more about interactive tables.';\n",
              "        element.innerHTML = '';\n",
              "        dataTable['output_type'] = 'display_data';\n",
              "        await google.colab.output.renderOutput(dataTable, element);\n",
              "        const docLink = document.createElement('div');\n",
              "        docLink.innerHTML = docLinkHtml;\n",
              "        element.appendChild(docLink);\n",
              "      }\n",
              "    </script>\n",
              "  </div>\n",
              "\n",
              "\n",
              "    <div id=\"df-739ee94d-962e-4f8f-9996-7b11afc8e116\">\n",
              "      <button class=\"colab-df-quickchart\" onclick=\"quickchart('df-739ee94d-962e-4f8f-9996-7b11afc8e116')\"\n",
              "                title=\"Suggest charts\"\n",
              "                style=\"display:none;\">\n",
              "\n",
              "<svg xmlns=\"http://www.w3.org/2000/svg\" height=\"24px\"viewBox=\"0 0 24 24\"\n",
              "     width=\"24px\">\n",
              "    <g>\n",
              "        <path d=\"M19 3H5c-1.1 0-2 .9-2 2v14c0 1.1.9 2 2 2h14c1.1 0 2-.9 2-2V5c0-1.1-.9-2-2-2zM9 17H7v-7h2v7zm4 0h-2V7h2v10zm4 0h-2v-4h2v4z\"/>\n",
              "    </g>\n",
              "</svg>\n",
              "      </button>\n",
              "\n",
              "<style>\n",
              "  .colab-df-quickchart {\n",
              "      --bg-color: #E8F0FE;\n",
              "      --fill-color: #1967D2;\n",
              "      --hover-bg-color: #E2EBFA;\n",
              "      --hover-fill-color: #174EA6;\n",
              "      --disabled-fill-color: #AAA;\n",
              "      --disabled-bg-color: #DDD;\n",
              "  }\n",
              "\n",
              "  [theme=dark] .colab-df-quickchart {\n",
              "      --bg-color: #3B4455;\n",
              "      --fill-color: #D2E3FC;\n",
              "      --hover-bg-color: #434B5C;\n",
              "      --hover-fill-color: #FFFFFF;\n",
              "      --disabled-bg-color: #3B4455;\n",
              "      --disabled-fill-color: #666;\n",
              "  }\n",
              "\n",
              "  .colab-df-quickchart {\n",
              "    background-color: var(--bg-color);\n",
              "    border: none;\n",
              "    border-radius: 50%;\n",
              "    cursor: pointer;\n",
              "    display: none;\n",
              "    fill: var(--fill-color);\n",
              "    height: 32px;\n",
              "    padding: 0;\n",
              "    width: 32px;\n",
              "  }\n",
              "\n",
              "  .colab-df-quickchart:hover {\n",
              "    background-color: var(--hover-bg-color);\n",
              "    box-shadow: 0 1px 2px rgba(60, 64, 67, 0.3), 0 1px 3px 1px rgba(60, 64, 67, 0.15);\n",
              "    fill: var(--button-hover-fill-color);\n",
              "  }\n",
              "\n",
              "  .colab-df-quickchart-complete:disabled,\n",
              "  .colab-df-quickchart-complete:disabled:hover {\n",
              "    background-color: var(--disabled-bg-color);\n",
              "    fill: var(--disabled-fill-color);\n",
              "    box-shadow: none;\n",
              "  }\n",
              "\n",
              "  .colab-df-spinner {\n",
              "    border: 2px solid var(--fill-color);\n",
              "    border-color: transparent;\n",
              "    border-bottom-color: var(--fill-color);\n",
              "    animation:\n",
              "      spin 1s steps(1) infinite;\n",
              "  }\n",
              "\n",
              "  @keyframes spin {\n",
              "    0% {\n",
              "      border-color: transparent;\n",
              "      border-bottom-color: var(--fill-color);\n",
              "      border-left-color: var(--fill-color);\n",
              "    }\n",
              "    20% {\n",
              "      border-color: transparent;\n",
              "      border-left-color: var(--fill-color);\n",
              "      border-top-color: var(--fill-color);\n",
              "    }\n",
              "    30% {\n",
              "      border-color: transparent;\n",
              "      border-left-color: var(--fill-color);\n",
              "      border-top-color: var(--fill-color);\n",
              "      border-right-color: var(--fill-color);\n",
              "    }\n",
              "    40% {\n",
              "      border-color: transparent;\n",
              "      border-right-color: var(--fill-color);\n",
              "      border-top-color: var(--fill-color);\n",
              "    }\n",
              "    60% {\n",
              "      border-color: transparent;\n",
              "      border-right-color: var(--fill-color);\n",
              "    }\n",
              "    80% {\n",
              "      border-color: transparent;\n",
              "      border-right-color: var(--fill-color);\n",
              "      border-bottom-color: var(--fill-color);\n",
              "    }\n",
              "    90% {\n",
              "      border-color: transparent;\n",
              "      border-bottom-color: var(--fill-color);\n",
              "    }\n",
              "  }\n",
              "</style>\n",
              "\n",
              "      <script>\n",
              "        async function quickchart(key) {\n",
              "          const quickchartButtonEl =\n",
              "            document.querySelector('#' + key + ' button');\n",
              "          quickchartButtonEl.disabled = true;  // To prevent multiple clicks.\n",
              "          quickchartButtonEl.classList.add('colab-df-spinner');\n",
              "          try {\n",
              "            const charts = await google.colab.kernel.invokeFunction(\n",
              "                'suggestCharts', [key], {});\n",
              "          } catch (error) {\n",
              "            console.error('Error during call to suggestCharts:', error);\n",
              "          }\n",
              "          quickchartButtonEl.classList.remove('colab-df-spinner');\n",
              "          quickchartButtonEl.classList.add('colab-df-quickchart-complete');\n",
              "        }\n",
              "        (() => {\n",
              "          let quickchartButtonEl =\n",
              "            document.querySelector('#df-739ee94d-962e-4f8f-9996-7b11afc8e116 button');\n",
              "          quickchartButtonEl.style.display =\n",
              "            google.colab.kernel.accessAllowed ? 'block' : 'none';\n",
              "        })();\n",
              "      </script>\n",
              "    </div>\n",
              "\n",
              "  <div id=\"id_4c20799e-50b1-429e-8d0c-281c05ed4f37\">\n",
              "    <style>\n",
              "      .colab-df-generate {\n",
              "        background-color: #E8F0FE;\n",
              "        border: none;\n",
              "        border-radius: 50%;\n",
              "        cursor: pointer;\n",
              "        display: none;\n",
              "        fill: #1967D2;\n",
              "        height: 32px;\n",
              "        padding: 0 0 0 0;\n",
              "        width: 32px;\n",
              "      }\n",
              "\n",
              "      .colab-df-generate:hover {\n",
              "        background-color: #E2EBFA;\n",
              "        box-shadow: 0px 1px 2px rgba(60, 64, 67, 0.3), 0px 1px 3px 1px rgba(60, 64, 67, 0.15);\n",
              "        fill: #174EA6;\n",
              "      }\n",
              "\n",
              "      [theme=dark] .colab-df-generate {\n",
              "        background-color: #3B4455;\n",
              "        fill: #D2E3FC;\n",
              "      }\n",
              "\n",
              "      [theme=dark] .colab-df-generate:hover {\n",
              "        background-color: #434B5C;\n",
              "        box-shadow: 0px 1px 3px 1px rgba(0, 0, 0, 0.15);\n",
              "        filter: drop-shadow(0px 1px 2px rgba(0, 0, 0, 0.3));\n",
              "        fill: #FFFFFF;\n",
              "      }\n",
              "    </style>\n",
              "    <button class=\"colab-df-generate\" onclick=\"generateWithVariable('data')\"\n",
              "            title=\"Generate code using this dataframe.\"\n",
              "            style=\"display:none;\">\n",
              "\n",
              "  <svg xmlns=\"http://www.w3.org/2000/svg\" height=\"24px\"viewBox=\"0 0 24 24\"\n",
              "       width=\"24px\">\n",
              "    <path d=\"M7,19H8.4L18.45,9,17,7.55,7,17.6ZM5,21V16.75L18.45,3.32a2,2,0,0,1,2.83,0l1.4,1.43a1.91,1.91,0,0,1,.58,1.4,1.91,1.91,0,0,1-.58,1.4L9.25,21ZM18.45,9,17,7.55Zm-12,3A5.31,5.31,0,0,0,4.9,8.1,5.31,5.31,0,0,0,1,6.5,5.31,5.31,0,0,0,4.9,4.9,5.31,5.31,0,0,0,6.5,1,5.31,5.31,0,0,0,8.1,4.9,5.31,5.31,0,0,0,12,6.5,5.46,5.46,0,0,0,6.5,12Z\"/>\n",
              "  </svg>\n",
              "    </button>\n",
              "    <script>\n",
              "      (() => {\n",
              "      const buttonEl =\n",
              "        document.querySelector('#id_4c20799e-50b1-429e-8d0c-281c05ed4f37 button.colab-df-generate');\n",
              "      buttonEl.style.display =\n",
              "        google.colab.kernel.accessAllowed ? 'block' : 'none';\n",
              "\n",
              "      buttonEl.onclick = () => {\n",
              "        google.colab.notebook.generateWithVariable('data');\n",
              "      }\n",
              "      })();\n",
              "    </script>\n",
              "  </div>\n",
              "\n",
              "    </div>\n",
              "  </div>\n"
            ],
            "application/vnd.google.colaboratory.intrinsic+json": {
              "type": "dataframe",
              "variable_name": "data",
              "summary": "{\n  \"name\": \"data\",\n  \"rows\": 8000,\n  \"fields\": [\n    {\n      \"column\": \"gender\",\n      \"properties\": {\n        \"dtype\": \"number\",\n        \"std\": 0,\n        \"min\": 1,\n        \"max\": 2,\n        \"num_unique_values\": 2,\n        \"samples\": [\n          2,\n          1\n        ],\n        \"semantic_type\": \"\",\n        \"description\": \"\"\n      }\n    },\n    {\n      \"column\": \"race_ethnicity\",\n      \"properties\": {\n        \"dtype\": \"number\",\n        \"std\": 1,\n        \"min\": 1,\n        \"max\": 7,\n        \"num_unique_values\": 6,\n        \"samples\": [\n          4,\n          6\n        ],\n        \"semantic_type\": \"\",\n        \"description\": \"\"\n      }\n    },\n    {\n      \"column\": \"chest_pain_ever\",\n      \"properties\": {\n        \"dtype\": \"number\",\n        \"std\": 0.47727372455543154,\n        \"min\": 1.0,\n        \"max\": 2.0,\n        \"num_unique_values\": 2,\n        \"samples\": [\n          2.0,\n          1.0\n        ],\n        \"semantic_type\": \"\",\n        \"description\": \"\"\n      }\n    },\n    {\n      \"column\": \"drink_alcohol\",\n      \"properties\": {\n        \"dtype\": \"number\",\n        \"std\": 0.46017097805176493,\n        \"min\": 1.0,\n        \"max\": 2.0,\n        \"num_unique_values\": 2,\n        \"samples\": [\n          2.0,\n          1.0\n        ],\n        \"semantic_type\": \"\",\n        \"description\": \"\"\n      }\n    },\n    {\n      \"column\": \"age\",\n      \"properties\": {\n        \"dtype\": \"number\",\n        \"std\": 12,\n        \"min\": 40,\n        \"max\": 80,\n        \"num_unique_values\": 41,\n        \"samples\": [\n          57,\n          47\n        ],\n        \"semantic_type\": \"\",\n        \"description\": \"\"\n      }\n    },\n    {\n      \"column\": \"BMI\",\n      \"properties\": {\n        \"dtype\": \"number\",\n        \"std\": 7.6834655093013104,\n        \"min\": 12.9,\n        \"max\": 82.9,\n        \"num_unique_values\": 349,\n        \"samples\": [\n          24.4,\n          46.8\n        ],\n        \"semantic_type\": \"\",\n        \"description\": \"\"\n      }\n    },\n    {\n      \"column\": \"weight_kg\",\n      \"properties\": {\n        \"dtype\": \"number\",\n        \"std\": 32.80324239692345,\n        \"min\": 3.3,\n        \"max\": 201.6,\n        \"num_unique_values\": 1023,\n        \"samples\": [\n          3.9,\n          59.3\n        ],\n        \"semantic_type\": \"\",\n        \"description\": \"\"\n      }\n    },\n    {\n      \"column\": \"blood_pressure_sys\",\n      \"properties\": {\n        \"dtype\": \"number\",\n        \"std\": 15.050114716976,\n        \"min\": 82.0,\n        \"max\": 220.0,\n        \"num_unique_values\": 57,\n        \"samples\": [\n          104.0,\n          100.0\n        ],\n        \"semantic_type\": \"\",\n        \"description\": \"\"\n      }\n    },\n    {\n      \"column\": \"diastolic_bp\",\n      \"properties\": {\n        \"dtype\": \"number\",\n        \"std\": 11.610892584264533,\n        \"min\": 0.0,\n        \"max\": 116.0,\n        \"num_unique_values\": 46,\n        \"samples\": [\n          28.0,\n          94.0\n        ],\n        \"semantic_type\": \"\",\n        \"description\": \"\"\n      }\n    },\n    {\n      \"column\": \"blood_cholesterol\",\n      \"properties\": {\n        \"dtype\": \"number\",\n        \"std\": 0.9084032890202964,\n        \"min\": 2.02,\n        \"max\": 11.97,\n        \"num_unique_values\": 209,\n        \"samples\": [\n          4.63,\n          6.57\n        ],\n        \"semantic_type\": \"\",\n        \"description\": \"\"\n      }\n    },\n    {\n      \"column\": \"calories\",\n      \"properties\": {\n        \"dtype\": \"number\",\n        \"std\": 867.4943115089055,\n        \"min\": 171.0,\n        \"max\": 8496.0,\n        \"num_unique_values\": 1576,\n        \"samples\": [\n          844.0,\n          2259.0\n        ],\n        \"semantic_type\": \"\",\n        \"description\": \"\"\n      }\n    },\n    {\n      \"column\": \"family_income\",\n      \"properties\": {\n        \"dtype\": \"number\",\n        \"std\": 1.532800386326236,\n        \"min\": 0.0,\n        \"max\": 5.0,\n        \"num_unique_values\": 366,\n        \"samples\": [\n          1.23,\n          4.45\n        ],\n        \"semantic_type\": \"\",\n        \"description\": \"\"\n      }\n    },\n    {\n      \"column\": \"target_heart\",\n      \"properties\": {\n        \"dtype\": \"number\",\n        \"std\": 0.5000312529299927,\n        \"min\": 0.0,\n        \"max\": 1.0,\n        \"num_unique_values\": 2,\n        \"samples\": [\n          1.0,\n          0.0\n        ],\n        \"semantic_type\": \"\",\n        \"description\": \"\"\n      }\n    }\n  ]\n}"
            }
          },
          "metadata": {},
          "execution_count": 4
        }
      ],
      "source": [
        "# read each of the csv files as a *pandas data frame*\n",
        "data = pd.read_csv(\"NHANES-heart.csv\")\n",
        "\n",
        "# display one the dataframes in the notebook\n",
        "data"
      ]
    },
    {
      "cell_type": "markdown",
      "id": "known-insight",
      "metadata": {
        "id": "known-insight"
      },
      "source": [
        "## Part 1. Data\n",
        "\n",
        "We will be focusing on NHANES survey data relevant to the assessment of heart disease.\n",
        "Note however that assessing the presence of heart disease based on this survey data is not an easy task.\n",
        "This is because people may have heart disease but not know it, or people may think they have heart disease\n",
        "when they do not. In our data, we have defined an individual as having heart disease if they answered \"Yes\"\n",
        "to this question on the NHANES survey: \"Have you ever been told by a doctor that you had congestive heart\n",
        "failure, coronary heart disease, a heart attack, or a stroke?\".  This is, as you may notice, not the perfect\n",
        "measure of heart disease! It is however the information we have in hand and it is consistent with the way others\n",
        "have defined heart disease in the [literature](https://www.ncbi.nlm.nih.gov/pmc/articles/PMC6836338/).\n",
        "\n",
        "If you are interested in better understanding the NHANES survey responses, we encourage you to look at\n",
        "the [NHANES data dictionary](https://wwwn.cdc.gov/nchs/nhanes/continuousnhanes/default.aspx). Understanding\n",
        "your data is extremely important, as there are often situations in which measurements may be ambiguous or\n",
        "inaccurate, and these inaccuracies impact any decision making algorithm you create.\n",
        "\n",
        "If you do work to gather data, it will be your responsibility to document this data.  And if you use data to\n",
        "create an algorithm, it will be your responsibility to understand its limitations.  If you are interested in\n",
        "best practices related to data documentation, we encourage you to read [Gebru's article on this topic](https://arxiv.org/pdf/1803.09010.pdf).\n",
        "You may also be interested in current data [reporting standards](https://www.bmj.com/content/370/bmj.m3164) for clinical trials that involve automated decision making tools.\n",
        "\n",
        "In this lab, we will be looking at 10 features from the NHANES data set. We have done work to clean the data for you so that it is approachable, but we encourage you to take a look at the raw data as you are able.  The definitions of the features are as follows:\n",
        "\n",
        "- `gender` (RIAGENDR): which is binary 2=female, 1=male\n",
        "- `race_ethnicity` (RIDRETH3): which can be 1=mexican american, 2=other hispanic, 3=white, 4=black, 6=asian, ...\n",
        "- `age` (RIDAGEYR): Age in years\n",
        "- `drink_alcohol` (ALQ101): which is binary; 1 indicates the individual reportedly drinks alcohol and 2 indicates they do not\n",
        "- `blood_cholesterol` (LBDTCSI): Results of an individual's blood cholesterol tests (mmol of cholesterol/L of blood)\n",
        "- `blood_pressure_sys` (BPXSY1): an individual's systolic blood pressure\n",
        "- `diastolic_bp` (BPXDI1): an individual's diastolic blood pressure\n",
        "- `calories` (DR1TKCAL): the number of calories an individual eats per day\n",
        "- `BMI` (BMXBMI): an individual's Body Mass Index (which can be used to assess obesity)\n",
        "- `chest_pain_ever` (CDQ001): If an individual has ever reported chest pain.\n",
        "- `family_income` (INDFMPIR): Ratio of a family's income to poverty threshold\n",
        "\n",
        "We will be using these features to predict the column `target_heart`:\n",
        "\n",
        "- `target_heart`: An individual reports that they have heart disease (1=yes, 0=no).\n",
        "\n",
        "\n",
        "Let's start by exploring the data that we have in hand. Pandas has a nice function to summarize the mean and dispersion of each feature in our data frame:"
      ]
    },
    {
      "cell_type": "code",
      "execution_count": 5,
      "id": "bridal-lawrence",
      "metadata": {
        "collapsed": true,
        "id": "bridal-lawrence",
        "outputId": "ce7716c7-8fed-4f82-958c-70fdc9c1442a",
        "colab": {
          "base_uri": "https://localhost:8080/",
          "height": 320
        }
      },
      "outputs": [
        {
          "output_type": "execute_result",
          "data": {
            "text/plain": [
              "            gender  race_ethnicity  chest_pain_ever  drink_alcohol  \\\n",
              "count  8000.000000     8000.000000      8000.000000    8000.000000   \n",
              "mean      1.498375        3.222000         1.649125       1.304375   \n",
              "std       0.500029        1.330672         0.477274       0.460171   \n",
              "min       1.000000        1.000000         1.000000       1.000000   \n",
              "25%       1.000000        3.000000         1.000000       1.000000   \n",
              "50%       1.000000        3.000000         2.000000       1.000000   \n",
              "75%       2.000000        4.000000         2.000000       2.000000   \n",
              "max       2.000000        7.000000         2.000000       2.000000   \n",
              "\n",
              "               age          BMI    weight_kg  blood_pressure_sys  \\\n",
              "count  8000.000000  8000.000000  8000.000000         8000.000000   \n",
              "mean     62.627875    25.352687    61.112887          117.135500   \n",
              "std      12.225806     7.683466    32.803242           15.050115   \n",
              "min      40.000000    12.900000     3.300000           82.000000   \n",
              "25%      52.000000    19.700000    33.600000          108.000000   \n",
              "50%      63.000000    24.600000    63.700000          116.000000   \n",
              "75%      73.000000    29.500000    83.000000          122.000000   \n",
              "max      80.000000    82.900000   201.600000          220.000000   \n",
              "\n",
              "       diastolic_bp  blood_cholesterol     calories  family_income  \\\n",
              "count   8000.000000        8000.000000  8000.000000    8000.000000   \n",
              "mean      65.705000           4.584376  1866.986875       2.456017   \n",
              "std       11.610893           0.908403   867.494312       1.532800   \n",
              "min        0.000000           2.020000   171.000000       0.000000   \n",
              "25%       60.000000           4.090000  1337.750000       1.180000   \n",
              "50%       66.000000           4.500000  1735.000000       2.050000   \n",
              "75%       72.000000           4.970000  2215.250000       3.800000   \n",
              "max      116.000000          11.970000  8496.000000       5.000000   \n",
              "\n",
              "       target_heart  \n",
              "count   8000.000000  \n",
              "mean       0.500000  \n",
              "std        0.500031  \n",
              "min        0.000000  \n",
              "25%        0.000000  \n",
              "50%        0.500000  \n",
              "75%        1.000000  \n",
              "max        1.000000  "
            ],
            "text/html": [
              "\n",
              "  <div id=\"df-4ffbe344-9095-4cac-8b86-8805078b19c5\" class=\"colab-df-container\">\n",
              "    <div>\n",
              "<style scoped>\n",
              "    .dataframe tbody tr th:only-of-type {\n",
              "        vertical-align: middle;\n",
              "    }\n",
              "\n",
              "    .dataframe tbody tr th {\n",
              "        vertical-align: top;\n",
              "    }\n",
              "\n",
              "    .dataframe thead th {\n",
              "        text-align: right;\n",
              "    }\n",
              "</style>\n",
              "<table border=\"1\" class=\"dataframe\">\n",
              "  <thead>\n",
              "    <tr style=\"text-align: right;\">\n",
              "      <th></th>\n",
              "      <th>gender</th>\n",
              "      <th>race_ethnicity</th>\n",
              "      <th>chest_pain_ever</th>\n",
              "      <th>drink_alcohol</th>\n",
              "      <th>age</th>\n",
              "      <th>BMI</th>\n",
              "      <th>weight_kg</th>\n",
              "      <th>blood_pressure_sys</th>\n",
              "      <th>diastolic_bp</th>\n",
              "      <th>blood_cholesterol</th>\n",
              "      <th>calories</th>\n",
              "      <th>family_income</th>\n",
              "      <th>target_heart</th>\n",
              "    </tr>\n",
              "  </thead>\n",
              "  <tbody>\n",
              "    <tr>\n",
              "      <th>count</th>\n",
              "      <td>8000.000000</td>\n",
              "      <td>8000.000000</td>\n",
              "      <td>8000.000000</td>\n",
              "      <td>8000.000000</td>\n",
              "      <td>8000.000000</td>\n",
              "      <td>8000.000000</td>\n",
              "      <td>8000.000000</td>\n",
              "      <td>8000.000000</td>\n",
              "      <td>8000.000000</td>\n",
              "      <td>8000.000000</td>\n",
              "      <td>8000.000000</td>\n",
              "      <td>8000.000000</td>\n",
              "      <td>8000.000000</td>\n",
              "    </tr>\n",
              "    <tr>\n",
              "      <th>mean</th>\n",
              "      <td>1.498375</td>\n",
              "      <td>3.222000</td>\n",
              "      <td>1.649125</td>\n",
              "      <td>1.304375</td>\n",
              "      <td>62.627875</td>\n",
              "      <td>25.352687</td>\n",
              "      <td>61.112887</td>\n",
              "      <td>117.135500</td>\n",
              "      <td>65.705000</td>\n",
              "      <td>4.584376</td>\n",
              "      <td>1866.986875</td>\n",
              "      <td>2.456017</td>\n",
              "      <td>0.500000</td>\n",
              "    </tr>\n",
              "    <tr>\n",
              "      <th>std</th>\n",
              "      <td>0.500029</td>\n",
              "      <td>1.330672</td>\n",
              "      <td>0.477274</td>\n",
              "      <td>0.460171</td>\n",
              "      <td>12.225806</td>\n",
              "      <td>7.683466</td>\n",
              "      <td>32.803242</td>\n",
              "      <td>15.050115</td>\n",
              "      <td>11.610893</td>\n",
              "      <td>0.908403</td>\n",
              "      <td>867.494312</td>\n",
              "      <td>1.532800</td>\n",
              "      <td>0.500031</td>\n",
              "    </tr>\n",
              "    <tr>\n",
              "      <th>min</th>\n",
              "      <td>1.000000</td>\n",
              "      <td>1.000000</td>\n",
              "      <td>1.000000</td>\n",
              "      <td>1.000000</td>\n",
              "      <td>40.000000</td>\n",
              "      <td>12.900000</td>\n",
              "      <td>3.300000</td>\n",
              "      <td>82.000000</td>\n",
              "      <td>0.000000</td>\n",
              "      <td>2.020000</td>\n",
              "      <td>171.000000</td>\n",
              "      <td>0.000000</td>\n",
              "      <td>0.000000</td>\n",
              "    </tr>\n",
              "    <tr>\n",
              "      <th>25%</th>\n",
              "      <td>1.000000</td>\n",
              "      <td>3.000000</td>\n",
              "      <td>1.000000</td>\n",
              "      <td>1.000000</td>\n",
              "      <td>52.000000</td>\n",
              "      <td>19.700000</td>\n",
              "      <td>33.600000</td>\n",
              "      <td>108.000000</td>\n",
              "      <td>60.000000</td>\n",
              "      <td>4.090000</td>\n",
              "      <td>1337.750000</td>\n",
              "      <td>1.180000</td>\n",
              "      <td>0.000000</td>\n",
              "    </tr>\n",
              "    <tr>\n",
              "      <th>50%</th>\n",
              "      <td>1.000000</td>\n",
              "      <td>3.000000</td>\n",
              "      <td>2.000000</td>\n",
              "      <td>1.000000</td>\n",
              "      <td>63.000000</td>\n",
              "      <td>24.600000</td>\n",
              "      <td>63.700000</td>\n",
              "      <td>116.000000</td>\n",
              "      <td>66.000000</td>\n",
              "      <td>4.500000</td>\n",
              "      <td>1735.000000</td>\n",
              "      <td>2.050000</td>\n",
              "      <td>0.500000</td>\n",
              "    </tr>\n",
              "    <tr>\n",
              "      <th>75%</th>\n",
              "      <td>2.000000</td>\n",
              "      <td>4.000000</td>\n",
              "      <td>2.000000</td>\n",
              "      <td>2.000000</td>\n",
              "      <td>73.000000</td>\n",
              "      <td>29.500000</td>\n",
              "      <td>83.000000</td>\n",
              "      <td>122.000000</td>\n",
              "      <td>72.000000</td>\n",
              "      <td>4.970000</td>\n",
              "      <td>2215.250000</td>\n",
              "      <td>3.800000</td>\n",
              "      <td>1.000000</td>\n",
              "    </tr>\n",
              "    <tr>\n",
              "      <th>max</th>\n",
              "      <td>2.000000</td>\n",
              "      <td>7.000000</td>\n",
              "      <td>2.000000</td>\n",
              "      <td>2.000000</td>\n",
              "      <td>80.000000</td>\n",
              "      <td>82.900000</td>\n",
              "      <td>201.600000</td>\n",
              "      <td>220.000000</td>\n",
              "      <td>116.000000</td>\n",
              "      <td>11.970000</td>\n",
              "      <td>8496.000000</td>\n",
              "      <td>5.000000</td>\n",
              "      <td>1.000000</td>\n",
              "    </tr>\n",
              "  </tbody>\n",
              "</table>\n",
              "</div>\n",
              "    <div class=\"colab-df-buttons\">\n",
              "\n",
              "  <div class=\"colab-df-container\">\n",
              "    <button class=\"colab-df-convert\" onclick=\"convertToInteractive('df-4ffbe344-9095-4cac-8b86-8805078b19c5')\"\n",
              "            title=\"Convert this dataframe to an interactive table.\"\n",
              "            style=\"display:none;\">\n",
              "\n",
              "  <svg xmlns=\"http://www.w3.org/2000/svg\" height=\"24px\" viewBox=\"0 -960 960 960\">\n",
              "    <path d=\"M120-120v-720h720v720H120Zm60-500h600v-160H180v160Zm220 220h160v-160H400v160Zm0 220h160v-160H400v160ZM180-400h160v-160H180v160Zm440 0h160v-160H620v160ZM180-180h160v-160H180v160Zm440 0h160v-160H620v160Z\"/>\n",
              "  </svg>\n",
              "    </button>\n",
              "\n",
              "  <style>\n",
              "    .colab-df-container {\n",
              "      display:flex;\n",
              "      gap: 12px;\n",
              "    }\n",
              "\n",
              "    .colab-df-convert {\n",
              "      background-color: #E8F0FE;\n",
              "      border: none;\n",
              "      border-radius: 50%;\n",
              "      cursor: pointer;\n",
              "      display: none;\n",
              "      fill: #1967D2;\n",
              "      height: 32px;\n",
              "      padding: 0 0 0 0;\n",
              "      width: 32px;\n",
              "    }\n",
              "\n",
              "    .colab-df-convert:hover {\n",
              "      background-color: #E2EBFA;\n",
              "      box-shadow: 0px 1px 2px rgba(60, 64, 67, 0.3), 0px 1px 3px 1px rgba(60, 64, 67, 0.15);\n",
              "      fill: #174EA6;\n",
              "    }\n",
              "\n",
              "    .colab-df-buttons div {\n",
              "      margin-bottom: 4px;\n",
              "    }\n",
              "\n",
              "    [theme=dark] .colab-df-convert {\n",
              "      background-color: #3B4455;\n",
              "      fill: #D2E3FC;\n",
              "    }\n",
              "\n",
              "    [theme=dark] .colab-df-convert:hover {\n",
              "      background-color: #434B5C;\n",
              "      box-shadow: 0px 1px 3px 1px rgba(0, 0, 0, 0.15);\n",
              "      filter: drop-shadow(0px 1px 2px rgba(0, 0, 0, 0.3));\n",
              "      fill: #FFFFFF;\n",
              "    }\n",
              "  </style>\n",
              "\n",
              "    <script>\n",
              "      const buttonEl =\n",
              "        document.querySelector('#df-4ffbe344-9095-4cac-8b86-8805078b19c5 button.colab-df-convert');\n",
              "      buttonEl.style.display =\n",
              "        google.colab.kernel.accessAllowed ? 'block' : 'none';\n",
              "\n",
              "      async function convertToInteractive(key) {\n",
              "        const element = document.querySelector('#df-4ffbe344-9095-4cac-8b86-8805078b19c5');\n",
              "        const dataTable =\n",
              "          await google.colab.kernel.invokeFunction('convertToInteractive',\n",
              "                                                    [key], {});\n",
              "        if (!dataTable) return;\n",
              "\n",
              "        const docLinkHtml = 'Like what you see? Visit the ' +\n",
              "          '<a target=\"_blank\" href=https://colab.research.google.com/notebooks/data_table.ipynb>data table notebook</a>'\n",
              "          + ' to learn more about interactive tables.';\n",
              "        element.innerHTML = '';\n",
              "        dataTable['output_type'] = 'display_data';\n",
              "        await google.colab.output.renderOutput(dataTable, element);\n",
              "        const docLink = document.createElement('div');\n",
              "        docLink.innerHTML = docLinkHtml;\n",
              "        element.appendChild(docLink);\n",
              "      }\n",
              "    </script>\n",
              "  </div>\n",
              "\n",
              "\n",
              "    <div id=\"df-ceba095a-899a-40a2-b583-21e81defa76a\">\n",
              "      <button class=\"colab-df-quickchart\" onclick=\"quickchart('df-ceba095a-899a-40a2-b583-21e81defa76a')\"\n",
              "                title=\"Suggest charts\"\n",
              "                style=\"display:none;\">\n",
              "\n",
              "<svg xmlns=\"http://www.w3.org/2000/svg\" height=\"24px\"viewBox=\"0 0 24 24\"\n",
              "     width=\"24px\">\n",
              "    <g>\n",
              "        <path d=\"M19 3H5c-1.1 0-2 .9-2 2v14c0 1.1.9 2 2 2h14c1.1 0 2-.9 2-2V5c0-1.1-.9-2-2-2zM9 17H7v-7h2v7zm4 0h-2V7h2v10zm4 0h-2v-4h2v4z\"/>\n",
              "    </g>\n",
              "</svg>\n",
              "      </button>\n",
              "\n",
              "<style>\n",
              "  .colab-df-quickchart {\n",
              "      --bg-color: #E8F0FE;\n",
              "      --fill-color: #1967D2;\n",
              "      --hover-bg-color: #E2EBFA;\n",
              "      --hover-fill-color: #174EA6;\n",
              "      --disabled-fill-color: #AAA;\n",
              "      --disabled-bg-color: #DDD;\n",
              "  }\n",
              "\n",
              "  [theme=dark] .colab-df-quickchart {\n",
              "      --bg-color: #3B4455;\n",
              "      --fill-color: #D2E3FC;\n",
              "      --hover-bg-color: #434B5C;\n",
              "      --hover-fill-color: #FFFFFF;\n",
              "      --disabled-bg-color: #3B4455;\n",
              "      --disabled-fill-color: #666;\n",
              "  }\n",
              "\n",
              "  .colab-df-quickchart {\n",
              "    background-color: var(--bg-color);\n",
              "    border: none;\n",
              "    border-radius: 50%;\n",
              "    cursor: pointer;\n",
              "    display: none;\n",
              "    fill: var(--fill-color);\n",
              "    height: 32px;\n",
              "    padding: 0;\n",
              "    width: 32px;\n",
              "  }\n",
              "\n",
              "  .colab-df-quickchart:hover {\n",
              "    background-color: var(--hover-bg-color);\n",
              "    box-shadow: 0 1px 2px rgba(60, 64, 67, 0.3), 0 1px 3px 1px rgba(60, 64, 67, 0.15);\n",
              "    fill: var(--button-hover-fill-color);\n",
              "  }\n",
              "\n",
              "  .colab-df-quickchart-complete:disabled,\n",
              "  .colab-df-quickchart-complete:disabled:hover {\n",
              "    background-color: var(--disabled-bg-color);\n",
              "    fill: var(--disabled-fill-color);\n",
              "    box-shadow: none;\n",
              "  }\n",
              "\n",
              "  .colab-df-spinner {\n",
              "    border: 2px solid var(--fill-color);\n",
              "    border-color: transparent;\n",
              "    border-bottom-color: var(--fill-color);\n",
              "    animation:\n",
              "      spin 1s steps(1) infinite;\n",
              "  }\n",
              "\n",
              "  @keyframes spin {\n",
              "    0% {\n",
              "      border-color: transparent;\n",
              "      border-bottom-color: var(--fill-color);\n",
              "      border-left-color: var(--fill-color);\n",
              "    }\n",
              "    20% {\n",
              "      border-color: transparent;\n",
              "      border-left-color: var(--fill-color);\n",
              "      border-top-color: var(--fill-color);\n",
              "    }\n",
              "    30% {\n",
              "      border-color: transparent;\n",
              "      border-left-color: var(--fill-color);\n",
              "      border-top-color: var(--fill-color);\n",
              "      border-right-color: var(--fill-color);\n",
              "    }\n",
              "    40% {\n",
              "      border-color: transparent;\n",
              "      border-right-color: var(--fill-color);\n",
              "      border-top-color: var(--fill-color);\n",
              "    }\n",
              "    60% {\n",
              "      border-color: transparent;\n",
              "      border-right-color: var(--fill-color);\n",
              "    }\n",
              "    80% {\n",
              "      border-color: transparent;\n",
              "      border-right-color: var(--fill-color);\n",
              "      border-bottom-color: var(--fill-color);\n",
              "    }\n",
              "    90% {\n",
              "      border-color: transparent;\n",
              "      border-bottom-color: var(--fill-color);\n",
              "    }\n",
              "  }\n",
              "</style>\n",
              "\n",
              "      <script>\n",
              "        async function quickchart(key) {\n",
              "          const quickchartButtonEl =\n",
              "            document.querySelector('#' + key + ' button');\n",
              "          quickchartButtonEl.disabled = true;  // To prevent multiple clicks.\n",
              "          quickchartButtonEl.classList.add('colab-df-spinner');\n",
              "          try {\n",
              "            const charts = await google.colab.kernel.invokeFunction(\n",
              "                'suggestCharts', [key], {});\n",
              "          } catch (error) {\n",
              "            console.error('Error during call to suggestCharts:', error);\n",
              "          }\n",
              "          quickchartButtonEl.classList.remove('colab-df-spinner');\n",
              "          quickchartButtonEl.classList.add('colab-df-quickchart-complete');\n",
              "        }\n",
              "        (() => {\n",
              "          let quickchartButtonEl =\n",
              "            document.querySelector('#df-ceba095a-899a-40a2-b583-21e81defa76a button');\n",
              "          quickchartButtonEl.style.display =\n",
              "            google.colab.kernel.accessAllowed ? 'block' : 'none';\n",
              "        })();\n",
              "      </script>\n",
              "    </div>\n",
              "\n",
              "    </div>\n",
              "  </div>\n"
            ],
            "application/vnd.google.colaboratory.intrinsic+json": {
              "type": "dataframe",
              "summary": "{\n  \"name\": \"data\",\n  \"rows\": 8,\n  \"fields\": [\n    {\n      \"column\": \"gender\",\n      \"properties\": {\n        \"dtype\": \"number\",\n        \"std\": 2827.9726854238465,\n        \"min\": 0.5000286121329514,\n        \"max\": 8000.0,\n        \"num_unique_values\": 5,\n        \"samples\": [\n          1.498375,\n          2.0,\n          0.5000286121329514\n        ],\n        \"semantic_type\": \"\",\n        \"description\": \"\"\n      }\n    },\n    {\n      \"column\": \"race_ethnicity\",\n      \"properties\": {\n        \"dtype\": \"number\",\n        \"std\": 2827.288636297873,\n        \"min\": 1.0,\n        \"max\": 8000.0,\n        \"num_unique_values\": 7,\n        \"samples\": [\n          8000.0,\n          3.222,\n          4.0\n        ],\n        \"semantic_type\": \"\",\n        \"description\": \"\"\n      }\n    },\n    {\n      \"column\": \"chest_pain_ever\",\n      \"properties\": {\n        \"dtype\": \"number\",\n        \"std\": 2827.91572242477,\n        \"min\": 0.47727372455543154,\n        \"max\": 8000.0,\n        \"num_unique_values\": 5,\n        \"samples\": [\n          1.649125,\n          2.0,\n          0.47727372455543154\n        ],\n        \"semantic_type\": \"\",\n        \"description\": \"\"\n      }\n    },\n    {\n      \"column\": \"drink_alcohol\",\n      \"properties\": {\n        \"dtype\": \"number\",\n        \"std\": 2827.984497306394,\n        \"min\": 0.46017097805176493,\n        \"max\": 8000.0,\n        \"num_unique_values\": 5,\n        \"samples\": [\n          1.304375,\n          2.0,\n          0.46017097805176493\n        ],\n        \"semantic_type\": \"\",\n        \"description\": \"\"\n      }\n    },\n    {\n      \"column\": \"age\",\n      \"properties\": {\n        \"dtype\": \"number\",\n        \"std\": 2809.169786901361,\n        \"min\": 12.225805976533609,\n        \"max\": 8000.0,\n        \"num_unique_values\": 8,\n        \"samples\": [\n          62.627875,\n          63.0,\n          8000.0\n        ],\n        \"semantic_type\": \"\",\n        \"description\": \"\"\n      }\n    },\n    {\n      \"column\": \"BMI\",\n      \"properties\": {\n        \"dtype\": \"number\",\n        \"std\": 2818.2871984865915,\n        \"min\": 7.6834655093013104,\n        \"max\": 8000.0,\n        \"num_unique_values\": 8,\n        \"samples\": [\n          25.3526875,\n          24.6,\n          8000.0\n        ],\n        \"semantic_type\": \"\",\n        \"description\": \"\"\n      }\n    },\n    {\n      \"column\": \"weight_kg\",\n      \"properties\": {\n        \"dtype\": \"number\",\n        \"std\": 2804.8583780060617,\n        \"min\": 3.3,\n        \"max\": 8000.0,\n        \"num_unique_values\": 8,\n        \"samples\": [\n          61.1128875,\n          63.7,\n          8000.0\n        ],\n        \"semantic_type\": \"\",\n        \"description\": \"\"\n      }\n    },\n    {\n      \"column\": \"blood_pressure_sys\",\n      \"properties\": {\n        \"dtype\": \"number\",\n        \"std\": 2789.5882390136485,\n        \"min\": 15.050114716976,\n        \"max\": 8000.0,\n        \"num_unique_values\": 8,\n        \"samples\": [\n          117.1355,\n          116.0,\n          8000.0\n        ],\n        \"semantic_type\": \"\",\n        \"description\": \"\"\n      }\n    },\n    {\n      \"column\": \"diastolic_bp\",\n      \"properties\": {\n        \"dtype\": \"number\",\n        \"std\": 2808.8959488105297,\n        \"min\": 0.0,\n        \"max\": 8000.0,\n        \"num_unique_values\": 8,\n        \"samples\": [\n          65.705,\n          66.0,\n          8000.0\n        ],\n        \"semantic_type\": \"\",\n        \"description\": \"\"\n      }\n    },\n    {\n      \"column\": \"blood_cholesterol\",\n      \"properties\": {\n        \"dtype\": \"number\",\n        \"std\": 2826.7601051573447,\n        \"min\": 0.9084032890202964,\n        \"max\": 8000.0,\n        \"num_unique_values\": 8,\n        \"samples\": [\n          4.584376249999999,\n          4.5,\n          8000.0\n        ],\n        \"semantic_type\": \"\",\n        \"description\": \"\"\n      }\n    },\n    {\n      \"column\": \"calories\",\n      \"properties\": {\n        \"dtype\": \"number\",\n        \"std\": 3250.5003096128016,\n        \"min\": 171.0,\n        \"max\": 8496.0,\n        \"num_unique_values\": 8,\n        \"samples\": [\n          1866.986875,\n          1735.0,\n          8000.0\n        ],\n        \"semantic_type\": \"\",\n        \"description\": \"\"\n      }\n    },\n    {\n      \"column\": \"family_income\",\n      \"properties\": {\n        \"dtype\": \"number\",\n        \"std\": 2827.6184756108432,\n        \"min\": 0.0,\n        \"max\": 8000.0,\n        \"num_unique_values\": 8,\n        \"samples\": [\n          2.4560174999999997,\n          2.05,\n          8000.0\n        ],\n        \"semantic_type\": \"\",\n        \"description\": \"\"\n      }\n    },\n    {\n      \"column\": \"target_heart\",\n      \"properties\": {\n        \"dtype\": \"number\",\n        \"std\": 2828.250371727774,\n        \"min\": 0.0,\n        \"max\": 8000.0,\n        \"num_unique_values\": 5,\n        \"samples\": [\n          0.5,\n          1.0,\n          0.5000312529299927\n        ],\n        \"semantic_type\": \"\",\n        \"description\": \"\"\n      }\n    }\n  ]\n}"
            }
          },
          "metadata": {},
          "execution_count": 5
        }
      ],
      "source": [
        "data.describe()"
      ]
    },
    {
      "cell_type": "markdown",
      "id": "polished-treatment",
      "metadata": {
        "id": "polished-treatment"
      },
      "source": [
        "We can also visualize the spread of numerical features using *box plots*. A box plot visually summarizes much of the information that is produced by a call to data.describe(). The orange line in the middle of each box represents the median (or 50th percentile) of the data.  Each box spans a range from the 25th to 75th percentile of the attribute in question. Outliers are plotted as points outside of the box.\n",
        "\n",
        "If, after you review some box plots, you are not comfortable with how box plots work, [Khan Academy has a good series of videos that explain how to read and interpret them.](https://www.khanacademy.org/math/statistics-probability/summarizing-quantitative-data/box-whisker-plots/v/reading-box-and-whisker-plots)"
      ]
    },
    {
      "cell_type": "code",
      "execution_count": 6,
      "id": "norman-mandate",
      "metadata": {
        "collapsed": true,
        "id": "norman-mandate",
        "outputId": "48a1dab9-8dfc-407c-9d34-b2d4dba89340",
        "colab": {
          "base_uri": "https://localhost:8080/",
          "height": 595
        }
      },
      "outputs": [
        {
          "output_type": "execute_result",
          "data": {
            "text/plain": [
              "{'whiskers': [<matplotlib.lines.Line2D at 0x7de7ba222510>,\n",
              "  <matplotlib.lines.Line2D at 0x7de7ba2226c0>],\n",
              " 'caps': [<matplotlib.lines.Line2D at 0x7de7ba222990>,\n",
              "  <matplotlib.lines.Line2D at 0x7de7ba222c60>],\n",
              " 'boxes': [<matplotlib.lines.Line2D at 0x7de7ba2222a0>],\n",
              " 'medians': [<matplotlib.lines.Line2D at 0x7de7ba222f00>],\n",
              " 'fliers': [<matplotlib.lines.Line2D at 0x7de7ba2231d0>],\n",
              " 'means': []}"
            ]
          },
          "metadata": {},
          "execution_count": 6
        },
        {
          "output_type": "display_data",
          "data": {
            "text/plain": [
              "<Figure size 640x480 with 1 Axes>"
            ],
            "image/png": "[encoded data removed]"
          },
          "metadata": {}
        }
      ],
      "source": [
        "plt.title(\"Box Plot Showing the Distribution of 'weight_kg'\")\n",
        "plt.boxplot(data[\"weight_kg\"])"
      ]
    },
    {
      "cell_type": "code",
      "execution_count": 7,
      "id": "japanese-index",
      "metadata": {
        "collapsed": true,
        "id": "japanese-index",
        "outputId": "1afa29b7-559d-4a91-9276-df2a283cabc1",
        "colab": {
          "base_uri": "https://localhost:8080/",
          "height": 595
        }
      },
      "outputs": [
        {
          "output_type": "execute_result",
          "data": {
            "text/plain": [
              "{'whiskers': [<matplotlib.lines.Line2D at 0x7de7b9fc81d0>,\n",
              "  <matplotlib.lines.Line2D at 0x7de7b9fc84a0>],\n",
              " 'caps': [<matplotlib.lines.Line2D at 0x7de7b9fc8890>,\n",
              "  <matplotlib.lines.Line2D at 0x7de7b9fc8b60>],\n",
              " 'boxes': [<matplotlib.lines.Line2D at 0x7de7b9fbbf80>],\n",
              " 'medians': [<matplotlib.lines.Line2D at 0x7de7b9fc8ec0>],\n",
              " 'fliers': [<matplotlib.lines.Line2D at 0x7de7b9fc91c0>],\n",
              " 'means': []}"
            ]
          },
          "metadata": {},
          "execution_count": 7
        },
        {
          "output_type": "display_data",
          "data": {
            "text/plain": [
              "<Figure size 640x480 with 1 Axes>"
            ],
            "image/png": "[encoded data removed]"
          },
          "metadata": {}
        }
      ],
      "source": [
        "plt.title(\"Box Plot Showing the Distribution of 'age'\")\n",
        "plt.boxplot(data[\"age\"])"
      ]
    },
    {
      "cell_type": "markdown",
      "id": "circular-cheat",
      "metadata": {
        "id": "circular-cheat"
      },
      "source": [
        "In the first box plot, we see that half of the people in the data set are under 64 kg,\n",
        "just as shown in the table generated by `data.describe()`. We see also that there are some outliers who weigh more than the general population of people in our data set.\n",
        "\n",
        "\n",
        "**Task:** Plot box plots for the remaining numerical features."
      ]
    },
    {
      "cell_type": "code",
      "execution_count": 8,
      "id": "brutal-pioneer",
      "metadata": {
        "collapsed": true,
        "id": "brutal-pioneer",
        "outputId": "960054b2-92e0-4b15-b5c8-0908756b0e10",
        "colab": {
          "base_uri": "https://localhost:8080/",
          "height": 595
        }
      },
      "outputs": [
        {
          "output_type": "execute_result",
          "data": {
            "text/plain": [
              "{'whiskers': [<matplotlib.lines.Line2D at 0x7de7ba0014f0>,\n",
              "  <matplotlib.lines.Line2D at 0x7de7ba000e00>],\n",
              " 'caps': [<matplotlib.lines.Line2D at 0x7de7ba0005c0>,\n",
              "  <matplotlib.lines.Line2D at 0x7de7ba1d3d10>],\n",
              " 'boxes': [<matplotlib.lines.Line2D at 0x7de7ba002c00>],\n",
              " 'medians': [<matplotlib.lines.Line2D at 0x7de7ba1d2ae0>],\n",
              " 'fliers': [<matplotlib.lines.Line2D at 0x7de7b7e57560>],\n",
              " 'means': []}"
            ]
          },
          "metadata": {},
          "execution_count": 8
        },
        {
          "output_type": "display_data",
          "data": {
            "text/plain": [
              "<Figure size 640x480 with 1 Axes>"
            ],
            "image/png": "[encoded data removed]"
          },
          "metadata": {}
        }
      ],
      "source": [
        "plt.title(\"Box Plot Showing the Distribution of 'blood_cholesterol'\")\n",
        "plt.boxplot(data[\"blood_cholesterol\"])"
      ]
    },
    {
      "cell_type": "code",
      "source": [
        "plt.title(\"Box Plot Showing the Distribution of 'blood_pressure_sys'\")\n",
        "plt.boxplot(data[\"blood_pressure_sys\"])"
      ],
      "metadata": {
        "collapsed": true,
        "id": "61BfTxbm89Vp",
        "outputId": "ec2555b3-99a0-404c-b0ea-05fbdffc4888",
        "colab": {
          "base_uri": "https://localhost:8080/",
          "height": 595
        }
      },
      "id": "61BfTxbm89Vp",
      "execution_count": 9,
      "outputs": [
        {
          "output_type": "execute_result",
          "data": {
            "text/plain": [
              "{'whiskers': [<matplotlib.lines.Line2D at 0x7de7b713c530>,\n",
              "  <matplotlib.lines.Line2D at 0x7de7b713da30>],\n",
              " 'caps': [<matplotlib.lines.Line2D at 0x7de7b713dcd0>,\n",
              "  <matplotlib.lines.Line2D at 0x7de7b713dfa0>],\n",
              " 'boxes': [<matplotlib.lines.Line2D at 0x7de7b713d640>],\n",
              " 'medians': [<matplotlib.lines.Line2D at 0x7de7b713e210>],\n",
              " 'fliers': [<matplotlib.lines.Line2D at 0x7de7b713e4b0>],\n",
              " 'means': []}"
            ]
          },
          "metadata": {},
          "execution_count": 9
        },
        {
          "output_type": "display_data",
          "data": {
            "text/plain": [
              "<Figure size 640x480 with 1 Axes>"
            ],
            "image/png": "[encoded data removed]"
          },
          "metadata": {}
        }
      ]
    },
    {
      "cell_type": "code",
      "source": [
        "plt.title(\"Box Plot Showing the Distribution of 'diastolic_bp'\")\n",
        "plt.boxplot(data[\"diastolic_bp\"])"
      ],
      "metadata": {
        "collapsed": true,
        "id": "wOR5gQDJ9c6B",
        "outputId": "7b422bbc-06a5-4f00-9a45-8a5e56368724",
        "colab": {
          "base_uri": "https://localhost:8080/",
          "height": 595
        }
      },
      "id": "wOR5gQDJ9c6B",
      "execution_count": 10,
      "outputs": [
        {
          "output_type": "execute_result",
          "data": {
            "text/plain": [
              "{'whiskers': [<matplotlib.lines.Line2D at 0x7de7b70902f0>,\n",
              "  <matplotlib.lines.Line2D at 0x7de7b7091d00>],\n",
              " 'caps': [<matplotlib.lines.Line2D at 0x7de7b70917c0>,\n",
              "  <matplotlib.lines.Line2D at 0x7de7b7091a90>],\n",
              " 'boxes': [<matplotlib.lines.Line2D at 0x7de7b712e120>],\n",
              " 'medians': [<matplotlib.lines.Line2D at 0x7de7b7090e00>],\n",
              " 'fliers': [<matplotlib.lines.Line2D at 0x7de7b7090e90>],\n",
              " 'means': []}"
            ]
          },
          "metadata": {},
          "execution_count": 10
        },
        {
          "output_type": "display_data",
          "data": {
            "text/plain": [
              "<Figure size 640x480 with 1 Axes>"
            ],
            "image/png": "[encoded data removed]"
          },
          "metadata": {}
        }
      ]
    },
    {
      "cell_type": "code",
      "source": [
        "plt.title(\"Box Plot Showing the Distribution of 'calories'\")\n",
        "plt.boxplot(data[\"calories\"])"
      ],
      "metadata": {
        "collapsed": true,
        "id": "Tn4czGup9li6",
        "outputId": "09c0cb90-3140-462f-fbbd-9af6b6db0321",
        "colab": {
          "base_uri": "https://localhost:8080/",
          "height": 595
        }
      },
      "id": "Tn4czGup9li6",
      "execution_count": 11,
      "outputs": [
        {
          "output_type": "execute_result",
          "data": {
            "text/plain": [
              "{'whiskers': [<matplotlib.lines.Line2D at 0x7de7b73029f0>,\n",
              "  <matplotlib.lines.Line2D at 0x7de7b7302d20>],\n",
              " 'caps': [<matplotlib.lines.Line2D at 0x7de7b7303140>,\n",
              "  <matplotlib.lines.Line2D at 0x7de7b7303740>],\n",
              " 'boxes': [<matplotlib.lines.Line2D at 0x7de7b7302540>],\n",
              " 'medians': [<matplotlib.lines.Line2D at 0x7de7b7303b30>],\n",
              " 'fliers': [<matplotlib.lines.Line2D at 0x7de7b7303f20>],\n",
              " 'means': []}"
            ]
          },
          "metadata": {},
          "execution_count": 11
        },
        {
          "output_type": "display_data",
          "data": {
            "text/plain": [
              "<Figure size 640x480 with 1 Axes>"
            ],
            "image/png": "[encoded data removed]"
          },
          "metadata": {}
        }
      ]
    },
    {
      "cell_type": "code",
      "source": [
        "plt.title(\"Box Plot Showing the Distribution of 'BMI'\")\n",
        "plt.boxplot(data[\"BMI\"])"
      ],
      "metadata": {
        "collapsed": true,
        "id": "TmNoDEM_9ntx",
        "outputId": "feb30318-ee0c-4423-a427-84afb7ae7f0f",
        "colab": {
          "base_uri": "https://localhost:8080/",
          "height": 595
        }
      },
      "id": "TmNoDEM_9ntx",
      "execution_count": 12,
      "outputs": [
        {
          "output_type": "execute_result",
          "data": {
            "text/plain": [
              "{'whiskers': [<matplotlib.lines.Line2D at 0x7de7b6ccc5c0>,\n",
              "  <matplotlib.lines.Line2D at 0x7de7b6ccdd00>],\n",
              " 'caps': [<matplotlib.lines.Line2D at 0x7de7b6ccc620>,\n",
              "  <matplotlib.lines.Line2D at 0x7de7b6c49ac0>],\n",
              " 'boxes': [<matplotlib.lines.Line2D at 0x7de7b6cce840>],\n",
              " 'medians': [<matplotlib.lines.Line2D at 0x7de7b6cceba0>],\n",
              " 'fliers': [<matplotlib.lines.Line2D at 0x7de7b6ccf5f0>],\n",
              " 'means': []}"
            ]
          },
          "metadata": {},
          "execution_count": 12
        },
        {
          "output_type": "display_data",
          "data": {
            "text/plain": [
              "<Figure size 640x480 with 1 Axes>"
            ],
            "image/png": "[encoded data removed]"
          },
          "metadata": {}
        }
      ]
    },
    {
      "cell_type": "code",
      "source": [
        "plt.title(\"Box Plot Showing the Distribution of 'family_income'\")\n",
        "plt.boxplot(data[\"family_income\"])"
      ],
      "metadata": {
        "collapsed": true,
        "id": "LPZPv6kA9pyW",
        "outputId": "35904f27-638a-4e02-c275-8bf189537e04",
        "colab": {
          "base_uri": "https://localhost:8080/",
          "height": 595
        }
      },
      "id": "LPZPv6kA9pyW",
      "execution_count": 13,
      "outputs": [
        {
          "output_type": "execute_result",
          "data": {
            "text/plain": [
              "{'whiskers': [<matplotlib.lines.Line2D at 0x7de7b6c613a0>,\n",
              "  <matplotlib.lines.Line2D at 0x7de7b6c621e0>],\n",
              " 'caps': [<matplotlib.lines.Line2D at 0x7de7b6c62570>,\n",
              "  <matplotlib.lines.Line2D at 0x7de7b6c62960>],\n",
              " 'boxes': [<matplotlib.lines.Line2D at 0x7de7b6c60e60>],\n",
              " 'medians': [<matplotlib.lines.Line2D at 0x7de7b6c62d80>],\n",
              " 'fliers': [<matplotlib.lines.Line2D at 0x7de7b6c63380>],\n",
              " 'means': []}"
            ]
          },
          "metadata": {},
          "execution_count": 13
        },
        {
          "output_type": "display_data",
          "data": {
            "text/plain": [
              "<Figure size 640x480 with 1 Axes>"
            ],
            "image/png": "[encoded data removed]"
          },
          "metadata": {}
        }
      ]
    },
    {
      "cell_type": "markdown",
      "id": "blocked-variation",
      "metadata": {
        "id": "blocked-variation"
      },
      "source": [
        "For the categorical features, we can also tabulate the frequency that each category\n",
        "occurs in the data set:"
      ]
    },
    {
      "cell_type": "code",
      "execution_count": null,
      "id": "marked-respect",
      "metadata": {
        "id": "marked-respect"
      },
      "outputs": [],
      "source": [
        "data['gender'].value_counts()"
      ]
    },
    {
      "cell_type": "code",
      "execution_count": null,
      "id": "mediterranean-interest",
      "metadata": {
        "id": "mediterranean-interest"
      },
      "outputs": [],
      "source": [
        "data['drink_alcohol'].value_counts()"
      ]
    },
    {
      "cell_type": "code",
      "execution_count": null,
      "id": "alert-copper",
      "metadata": {
        "id": "alert-copper"
      },
      "outputs": [],
      "source": [
        "data['chest_pain_ever'].value_counts()"
      ]
    },
    {
      "cell_type": "markdown",
      "id": "smaller-lottery",
      "metadata": {
        "id": "smaller-lottery"
      },
      "source": [
        "We see there are roughly equal numbers of men and women in the dataset and the majority report they drink alcohol.  About 1 in 4 report that they have experienced chest pain at some point in their lives.\n",
        "\n",
        "Finally, let's take a look at the distribution of our target variable."
      ]
    },
    {
      "cell_type": "code",
      "execution_count": null,
      "id": "statutory-hamburg",
      "metadata": {
        "id": "statutory-hamburg"
      },
      "outputs": [],
      "source": [
        "data['target_heart'].value_counts()"
      ]
    },
    {
      "cell_type": "markdown",
      "id": "scheduled-gallery",
      "metadata": {
        "id": "scheduled-gallery"
      },
      "source": [
        "Note there are an equal number of cases that are labelled as having heart disease as not having heart disease.  This is both curious and convenient but it is absolutely **NOT** representative of the distribution of heart disease in the general population.  In the general population of Canada, about 1 in 12 (or 8%) have heart disease.  This is roughly the same as the distribution of reported heart disease across all NHANES survey respondents.  So why doesn't the data we are analyzing here reflect this distribution?  This is because we have sampled the NHANES survey data so as to **balance** the cases of heart disease against the cases without.\n",
        "\n",
        "**Task** Why did we create a dataset with a roughly equal number of data points that have `target_heart=1` and `target_heart=0`? In particular, what do you think might happen to our decision tree if we allowed 92% our training data to reflect the true prevalence of heart disease? <!-- ... and to therefore consist of data points with `target_heart=0`? -->"
      ]
    },
    {
      "cell_type": "code",
      "execution_count": null,
      "id": "fancy-closure",
      "metadata": {
        "id": "fancy-closure"
      },
      "outputs": [],
      "source": [
        "# TODO"
      ]
    },
    {
      "cell_type": "markdown",
      "id": "olive-message",
      "metadata": {
        "id": "olive-message"
      },
      "source": [
        "**Task**: Let's continue exploring our data by plotting separate box plots for people with heart disease and people without heart disease. These box plots for (for `blood_cholesterol`, `age`, `calories` and `BMI`) should give you a sense of whether people with heart disease are\n",
        "different from those without heart disease, according to each of these characteristics. You should see that those with heart disease are, on average, older."
      ]
    },
    {
      "cell_type": "code",
      "execution_count": null,
      "id": "scientific-generator",
      "metadata": {
        "id": "scientific-generator"
      },
      "outputs": [],
      "source": [
        "# analyze the distribution of blood_cholesterol for people with and without heart disease\n",
        "data.boxplot(column='blood_cholesterol', by='target_heart')\n",
        "\n",
        "# TODO do the same for 'age', 'calories', and 'BMI'"
      ]
    },
    {
      "cell_type": "markdown",
      "id": "empirical-jaguar",
      "metadata": {
        "id": "empirical-jaguar"
      },
      "source": [
        "**Task**: We will do the same type of exploration for the categorical\n",
        "variables. Read the documentation for\n",
        "[pandas.crosstab](https://pandas.pydata.org/docs/reference/api/pandas.crosstab.html)\n",
        "so that you can explain the results of the following calls:"
      ]
    },
    {
      "cell_type": "code",
      "execution_count": null,
      "id": "interesting-kelly",
      "metadata": {
        "id": "interesting-kelly"
      },
      "outputs": [],
      "source": [
        "pd.crosstab(data[\"target_heart\"], data[\"gender\"])"
      ]
    },
    {
      "cell_type": "code",
      "execution_count": null,
      "id": "living-nashville",
      "metadata": {
        "id": "living-nashville"
      },
      "outputs": [],
      "source": [
        "pd.crosstab(data[\"target_heart\"], data[\"drink_alcohol\"])"
      ]
    },
    {
      "cell_type": "code",
      "execution_count": null,
      "id": "ideal-registrar",
      "metadata": {
        "id": "ideal-registrar"
      },
      "outputs": [],
      "source": [
        "pd.crosstab(data[\"target_heart\"], data[\"chest_pain_ever\"])"
      ]
    },
    {
      "cell_type": "markdown",
      "id": "alone-matrix",
      "metadata": {
        "id": "alone-matrix"
      },
      "source": [
        "**Graded Task**:\n",
        "Do you expect each of \"blood_cholesterol\", \"age\",  \"calories\", and \"BMI\" to be an informative predictor for \"target_heart\"?\n",
        "What about \"gender\", \"drink_alcohol\" and \"chest_pain_ever\"?\n",
        "Using your output from above, briefly explain why or why not."
      ]
    },
    {
      "cell_type": "code",
      "execution_count": null,
      "id": "logical-aging",
      "metadata": {
        "id": "logical-aging"
      },
      "outputs": [],
      "source": [
        "# TODO: your prediction as to whether these features are informative predictors.\n",
        "# For full credit, justify your answer with the figures above. Include the\n",
        "# figures above in your submission."
      ]
    },
    {
      "cell_type": "markdown",
      "id": "exclusive-munich",
      "metadata": {
        "id": "exclusive-munich"
      },
      "source": [
        "**Task**: Complete the exploratory data analysis by visualizing the remaining features.\n",
        "You should get a sense of whether these features may be informative predictors,\n",
        "and the distribution of these features.\n",
        "\n",
        "As a side note, this is also a great time to look for unexpected issues with the data.\n",
        "Is there missing data? Is there data that is outside the normal range that you would expect\n",
        "(e.g. an age of 500)? Are there features that almost always take on the same value,\n",
        "and would therefore likely not to be useful?"
      ]
    },
    {
      "cell_type": "code",
      "execution_count": null,
      "id": "aggregate-delicious",
      "metadata": {
        "id": "aggregate-delicious"
      },
      "outputs": [],
      "source": [
        "# TODO"
      ]
    },
    {
      "cell_type": "markdown",
      "id": "adapted-completion",
      "metadata": {
        "id": "adapted-completion"
      },
      "source": [
        "**Graded Task**: Before being able to use our data to train a decision tree model,\n",
        "we need to transform some of the ways that our features are encoded. In particular, we need to change our current encoding of `gender`\n",
        "and `race_ethnicity`.  Explain why the current encoding should not be used with a decision tree classifier."
      ]
    },
    {
      "cell_type": "code",
      "execution_count": null,
      "id": "under-computer",
      "metadata": {
        "id": "under-computer"
      },
      "outputs": [],
      "source": [
        "# TODO: your explanation"
      ]
    },
    {
      "cell_type": "markdown",
      "id": "solid-zealand",
      "metadata": {
        "id": "solid-zealand"
      },
      "source": [
        "To solve the problem with our current encoding, we will encode categorical features using\n",
        "**indicator variables**. We will construct an indicator variable for every possible\n",
        "*value* or *category*.  More specifically, we will make a separate indicator variable for `race_ethicity_white`,\n",
        "`race_ethicity_black`, etc, with each feature taking on a value of 1 or 0.\n",
        "\n",
        "We will also group together `race_ethnicity=1` and\n",
        "`race_ethnicity=2` since these groups represent \"Mexican American\" and\n",
        "\"Other Hispanic\" and these groups are smaller than the others.\n",
        "This is a modeling decision born out of our understanding of the data,\n",
        "**and it may not be the correct decision**!\n",
        "Typically, many factors would go into decisions like this, including discussions\n",
        "with colleagues to understand where the data comes from and how the model will be used.\n",
        "Model building is also an iterative process: we may want to build multiple models with different\n",
        "feature representations, and compare the performance and other characteristics of\n",
        "these models.\n",
        "\n",
        "**Task**: Convert `data` into a numpy array `data_fets` with $N=8000$\n",
        "rows and with the following columns:\n",
        "\n",
        "- An indicator feature with value 1 iff `gender=2` (female)\n",
        "- An indicator feature with value 1 iff `race_ethnicity=1` or `race_ethnicity=2` (hispanic)\n",
        "- An indicator feature with value 1 iff `race_ethnicity=3` (white)\n",
        "- An indicator feature with value 1 iff `race_ethnicity=4` (black)\n",
        "- An indicator feature with value 1 iff `race_ethnicity=6` (asian)\n",
        "- An indicator feature with value 1 iff `chest_pain_ever=1`\n",
        "- An indicator feature with value 1 iff `drink_alcohol=1`\n",
        "- The numerical `age` feature\n",
        "- The numerical `blood_cholesterol` feature\n",
        "- The numerical `BMI` feature\n",
        "- The numerical `blood_pressure_sys` feature\n",
        "- The numerical `diastolic_bp` feature\n",
        "- The numerical `calories` feature\n",
        "- The numerical `family_income` feature\n",
        "\n",
        "Some of the features are provided for you. Complete the remaining features.\n",
        "\n",
        "This code works by creating individual numpy (1D) arrays for each feature,\n",
        "and then stacking them together into a single (2D) numpy array."
      ]
    },
    {
      "cell_type": "code",
      "execution_count": null,
      "id": "understood-bhutan",
      "metadata": {
        "id": "understood-bhutan"
      },
      "outputs": [],
      "source": [
        "data_fets = np.stack([\n",
        "    # gender_female: this code creates an array of booleans, which converted into 0 and 1\n",
        "    data[\"gender\"] == 2,\n",
        "    # re_hispanic: this code leverages addition to perform an \"or\" operation\n",
        "    (data[\"race_ethnicity\"] == 1) + (data[\"race_ethnicity\"] == 2),\n",
        "    # re_white\n",
        "    data[\"race_ethnicity\"] == 3,\n",
        "    # re_black\n",
        "    data[\"race_ethnicity\"] == 4,\n",
        "    # re_aisan\n",
        "    data[\"race_ethnicity\"] == 6,\n",
        "    # chest_pain_ever\n",
        "    data[\"chest_pain_ever\"] == 1,\n",
        "    # drink_alcohol\n",
        "    data[\"drink_alcohol\"] == 1,\n",
        "    # age: this is a numeric value and no transformations are required\n",
        "    data[\"age\"],\n",
        "    # blood_cholesterol: TODO\n",
        "    # BMI: TODO\n",
        "    # blood_pressure_sys: TODO\n",
        "    # diastolic_bp: TODO\n",
        "    # calories: TODO\n",
        "    # family_income: TODO\n",
        "], axis=1)\n",
        "\n",
        "print(data_fets.shape) # Should be (8000, 14)"
      ]
    },
    {
      "cell_type": "markdown",
      "id": "hollywood-anatomy",
      "metadata": {
        "id": "hollywood-anatomy"
      },
      "source": [
        "We will also declare a new array to store all the feature names. This will come in handy later when we visualize decision trees."
      ]
    },
    {
      "cell_type": "code",
      "execution_count": null,
      "id": "endless-corruption",
      "metadata": {
        "id": "endless-corruption"
      },
      "outputs": [],
      "source": [
        "feature_names = [\n",
        "    \"gender_female\",\n",
        "    \"re_hispanic\",\n",
        "    \"re_white\",\n",
        "    \"re_black\",\n",
        "    \"re_asian\",\n",
        "    \"chest_pain\",\n",
        "    \"drink_alcohol\",\n",
        "    \"age\",\n",
        "    \"blood_cholesterol\",\n",
        "    \"BMI\",\n",
        "    \"blood_pressure_sys\",\n",
        "    \"diastolic_bp\",\n",
        "    \"calories\",\n",
        "    \"family_income\"]"
      ]
    },
    {
      "cell_type": "markdown",
      "id": "opened-psychology",
      "metadata": {
        "id": "opened-psychology"
      },
      "source": [
        "**Task** Finally, let's separate our data into training, validation, and test sets.\n",
        "We will use 5000 data points for training, 1500 for validation, and 1500 for test.\n",
        "\n",
        "Instead of manually splitting the data into two sets, we will use a function provided by `sklearn` which randomly splits the data for us. Use the `train_test_split` function to split the data into training and test sets. To ensure that the randomization is consistent across runs, please supply the following parameter to the `train_test_split` function: 'random_state=1'.  This will ensure that the each time you run your code, you are placing the same data points in your training, test and validation sets.\n",
        "\n",
        "You will likely need to read the [documentation](https://scikit-learn.org/stable/modules/generated/sklearn.model_selection.train_test_split.html) for the `sklearn.model_selection.train_test_splits` to get this job done."
      ]
    },
    {
      "cell_type": "code",
      "execution_count": null,
      "id": "vocal-quest",
      "metadata": {
        "id": "vocal-quest"
      },
      "outputs": [],
      "source": [
        "\n",
        "from sklearn.model_selection import train_test_split\n",
        "\n",
        "# Split the data into X (dependent variables) and t (response variable)\n",
        "X = data_fets\n",
        "t = np.array(data[\"target_heart\"])\n",
        "\n",
        "# First, we will use `train_test_split` to split the data set into\n",
        "# 6500 training+validation, and 1500 test:\n",
        "X_tv, X_test, t_tv, t_test = train_test_split(X, t, test_size=1500/8000, random_state=1)\n",
        "\n",
        "# Then, use `train_test_split` to split the training+validation data\n",
        "# into 5000 train and 1500 validation"
      ]
    },
    {
      "cell_type": "markdown",
      "id": "bored-departure",
      "metadata": {
        "id": "bored-departure"
      },
      "source": [
        "**Graded Task**: Recall that in lab 1, normalizing our features yielded a\n",
        "marked improvement in the performance (accuracy) of our kNN model.\n",
        "Explain why normalizing our features will likely *not* improve a\n",
        "decision tree classifier.\n",
        "\n",
        "Your explanation serves as justification for *not* normalizing our features before continuing."
      ]
    },
    {
      "cell_type": "code",
      "execution_count": null,
      "id": "medium-water",
      "metadata": {
        "id": "medium-water"
      },
      "outputs": [],
      "source": [
        "# TODO"
      ]
    },
    {
      "cell_type": "markdown",
      "id": "great-invite",
      "metadata": {
        "id": "great-invite"
      },
      "source": [
        "## Part 2. Using `sklearn` to Implement and Visualize Decision Trees\n",
        "\n",
        "One advantage of decision trees over other models is that they are easy\n",
        "to interpret and visualize.  The function `visualize_tree` below can be used to plot an `sklearn` decision tree model in your Colab Notebook."
      ]
    },
    {
      "cell_type": "code",
      "execution_count": null,
      "id": "right-theorem",
      "metadata": {
        "id": "right-theorem"
      },
      "outputs": [],
      "source": [
        "from sklearn.tree import DecisionTreeClassifier\n",
        "\n",
        "# imports to visualize tree\n",
        "from sklearn import tree as treeViz\n",
        "import graphviz\n",
        "import pydotplus\n",
        "from IPython.display import display"
      ]
    },
    {
      "cell_type": "code",
      "execution_count": null,
      "id": "personalized-evans",
      "metadata": {
        "id": "personalized-evans"
      },
      "outputs": [],
      "source": [
        "def visualize_tree(model, max_depth=5):\n",
        "    \"\"\"\n",
        "    Generate and return an image representing an Sklearn decision tree.\n",
        "\n",
        "    Each node in the visualization represents a node in the decision tree.\n",
        "    In addition, visualization for each node contains:\n",
        "        - The feature that is split on\n",
        "        - The entropy (of the outputs `t`) at the node\n",
        "        - The number of training samples at the node\n",
        "        - The number of training samples with true/false values\n",
        "        - The majority class (heart disease or not)\n",
        "    The colour of the node also shows the majority class and purity\n",
        "\n",
        "    See here: https://scikit-learn.org/stable/modules/generated/sklearn.tree.export_graphviz.html\n",
        "\n",
        "    Parameters:\n",
        "        `model` - An Sklearn decision tree model\n",
        "        `max_depth` - Max depth of decision tree to be rendered in the notebook.\n",
        "         This is useful since the tree can get very large if the max_depth is\n",
        "         set too high and thus making the resulting figure difficult to interpret.\n",
        "    \"\"\"\n",
        "    dot_data = treeViz.export_graphviz(model,\n",
        "                                       feature_names=feature_names,\n",
        "                                       max_depth=max_depth,\n",
        "                                       class_names=[\"heart_no\", \"heart_yes\"],\n",
        "                                       filled=True,\n",
        "                                       rounded=True)\n",
        "    return display(graphviz.Source(dot_data))\n",
        ""
      ]
    },
    {
      "cell_type": "markdown",
      "id": "colonial-round",
      "metadata": {
        "id": "colonial-round"
      },
      "source": [
        "Next, we will use sklearn's `DecisionTreeClassifier` to create some decision trees to fit to our data.\n",
        "\n",
        "**Task:** Fit a `DecisionTreeClassifier` to our dataset. Use `entropy` to measure the quality of a decision tree split, and set the `max_depth` to 3. Then, print the training and validation scores (accuracy).\n",
        "\n",
        "See more here: https://scikit-learn.org/stable/modules/generated/sklearn.tree.DecisionTreeClassifier.html"
      ]
    },
    {
      "cell_type": "code",
      "execution_count": null,
      "id": "paperback-money",
      "metadata": {
        "id": "paperback-money"
      },
      "outputs": [],
      "source": [
        "# Creating a DecisionTreeClassifier\n",
        "tree = DecisionTreeClassifier(criterion=\"entropy\", max_depth=3)\n",
        "\n",
        "# TODO: fit it to our data\n",
        "\n",
        "# Print the training and validation scores (accuracy)\n",
        "print(\"Training Accuracy:\", tree.score(X_train, t_train))\n",
        "print(\"Validation Accuracy:\", tree.score(X_valid, t_valid))"
      ]
    },
    {
      "cell_type": "markdown",
      "id": "legitimate-economy",
      "metadata": {
        "id": "legitimate-economy"
      },
      "source": [
        "**Task:** Use `visualize_tree` to visualize the decision tree that was fit."
      ]
    },
    {
      "cell_type": "code",
      "execution_count": null,
      "id": "unlimited-editor",
      "metadata": {
        "id": "unlimited-editor"
      },
      "outputs": [],
      "source": [
        "# TODO: call visualize_tree on the tree that was fit"
      ]
    },
    {
      "cell_type": "markdown",
      "id": "restricted-thong",
      "metadata": {
        "id": "restricted-thong"
      },
      "source": [
        "If this is done correctly, you should see your decision tree rendered above in your notebook.\n",
        "\n",
        "Let's try to interpret the decision tree we just generated!\n",
        "\n",
        "**Graded Task:** Using the decision tree you generated above, classify the training example `X_train[5]` by hand.\n",
        "In your write up, determine the set of nodes in the decision tree that we must visit to classify this training example."
      ]
    },
    {
      "cell_type": "code",
      "execution_count": null,
      "id": "welcome-consumer",
      "metadata": {
        "id": "welcome-consumer"
      },
      "outputs": [],
      "source": [
        "# TODO: Perform the classification of this data point by hand\n",
        "print(dict(zip(feature_names, X_train[5])))"
      ]
    },
    {
      "cell_type": "markdown",
      "id": "injured-employer",
      "metadata": {
        "id": "injured-employer"
      },
      "source": [
        "We will now explore some hyperparameter choices that may cause our decision tree to underfit or overfit our data. Recall that overfitting means that, while our model may accurately capture relationships between inputs and our classification target in training data, it may not capture such relationships in the validation data. By contrast, underfitting occurs when our model lacks the complexity to model relationships in either training or validation data.  \n",
        "\n",
        "**Task:** Similar to what you did above, create another `DecisionTreeClassifier` that uses `entropy` to measure the quality of a split. Set the `max_depth` to a value that will cause the tree to *underfit*. Report the accuracy on the validation and training sets. Visualize the tree by calling `visualize_tree`."
      ]
    },
    {
      "cell_type": "code",
      "execution_count": null,
      "id": "steady-culture",
      "metadata": {
        "id": "steady-culture"
      },
      "outputs": [],
      "source": [
        "# TODO: create a DecisionTreeClassifier\n",
        "\n",
        "# TODO: fit it to our data\n",
        "\n",
        "# Print the training and validation accuracy\n",
        "print(\"Training Accuracy:\", tree.score(X_train, t_train))\n",
        "print(\"Validation Accuracy:\", tree.score(X_valid, t_valid))\n",
        "\n",
        "# TODO: visualize the tree"
      ]
    },
    {
      "cell_type": "markdown",
      "id": "colored-median",
      "metadata": {
        "id": "colored-median"
      },
      "source": [
        "**Task:** Repeat the same computation as above, but set the `max_depth` to a value that will cause the tree to *overfit*. When using `visualize_tree` to visualize the tree, leave the default max depth parameter as 5."
      ]
    },
    {
      "cell_type": "code",
      "execution_count": null,
      "id": "constitutional-notification",
      "metadata": {
        "id": "constitutional-notification"
      },
      "outputs": [],
      "source": [
        "# TODO"
      ]
    },
    {
      "cell_type": "markdown",
      "id": "vocal-scheme",
      "metadata": {
        "id": "vocal-scheme"
      },
      "source": [
        "**Graded Task:** What value of `max_depth` did you choose to make the tree underfit, or overfit? Why do these values cause the graph to underfit, or overfit?"
      ]
    },
    {
      "cell_type": "code",
      "execution_count": null,
      "id": "proper-gallery",
      "metadata": {
        "id": "proper-gallery"
      },
      "outputs": [],
      "source": [
        "# TODO"
      ]
    },
    {
      "cell_type": "markdown",
      "id": "amended-facial",
      "metadata": {
        "id": "amended-facial"
      },
      "source": [
        "We will now repeat the same computation as above, but vary the `min_samples_split` parameter instead of `max_depth`.\n",
        "\n",
        "**Task:** Similar to what we've been doing above, create another `DecisionTreeClassifier` that uses `entropy` to measure the quality of a split. This time set `min_samples_split` to a value that would cause the tree to *underfit*.  Omit the `max_depth` parameter. Report the accuracy (obtained via the `score()` method) on the validation and training sets. Visualize the tree."
      ]
    },
    {
      "cell_type": "code",
      "execution_count": null,
      "id": "balanced-bridge",
      "metadata": {
        "id": "balanced-bridge"
      },
      "outputs": [],
      "source": [
        "# TODO"
      ]
    },
    {
      "cell_type": "markdown",
      "id": "wound-procedure",
      "metadata": {
        "id": "wound-procedure"
      },
      "source": [
        "**Task:** Repeat the same thing you did above. Set `min_samples_split` to a value that would cause the tree to *overfit*. Omit the `max_depth` parameter. Report the accuracy on the validation and training sets. When using `visualize_tree` to visualize the tree, you can leave the default max depth parameter as 5."
      ]
    },
    {
      "cell_type": "code",
      "execution_count": null,
      "id": "capable-burst",
      "metadata": {
        "id": "capable-burst"
      },
      "outputs": [],
      "source": [
        "# TODO"
      ]
    },
    {
      "cell_type": "markdown",
      "id": "grave-dimension",
      "metadata": {
        "id": "grave-dimension"
      },
      "source": [
        "**Graded Task:** What value of `min_samples_split` did you choose to make the tree underfit, or overfit? Why do these values cause the graph to underfit, or overfit?"
      ]
    },
    {
      "cell_type": "code",
      "execution_count": null,
      "id": "iraqi-hygiene",
      "metadata": {
        "id": "iraqi-hygiene"
      },
      "outputs": [],
      "source": [
        "# TODO"
      ]
    },
    {
      "cell_type": "markdown",
      "id": "persistent-browse",
      "metadata": {
        "id": "persistent-browse"
      },
      "source": [
        "**Task:** What differences in training accuracy do you see between your underfitted and overfitted decision trees? Why might this be the case?"
      ]
    },
    {
      "cell_type": "code",
      "execution_count": null,
      "id": "valuable-baseball",
      "metadata": {
        "id": "valuable-baseball"
      },
      "outputs": [],
      "source": [
        "# TODO"
      ]
    },
    {
      "cell_type": "markdown",
      "id": "varying-nashville",
      "metadata": {
        "id": "varying-nashville"
      },
      "source": [
        "## Part 3. Hyperparameter Tuning\n",
        "\n",
        "So far, we have experimented with two Decision Tree hyperparameters: `max_depth` and `min_samples_split`. Another hyperparameter we can vary is the `criterion` for measuring split quality. In lecture, and earlier in this lab, we used `entropy` as the criterion. Another criterion that Sklearn supports is `gini` (Gini impurity index). You don't need to know the implementation details behind this as we'll rely on Sklearn to compute it. However, if you are interested in learning more about this alternative impurity index, we encourage you to [read more about it](https://en.wikipedia.org/wiki/Gini_coefficient).\n",
        "\n",
        "Thus, our goal is now to figure out what combination of `max_depth`, `min_samples_split` and `criterion` results in the \"best\" decision tree. It is up to you to determine what \"best\" means in this context.\n",
        "\n",
        "**Graded Task:** Start by completing `build_all_models` based on the function specification.\n",
        "This function builds many trees, one for each combination of hyperparameters, and\n",
        "then compares them."
      ]
    },
    {
      "cell_type": "code",
      "execution_count": null,
      "id": "hired-person",
      "metadata": {
        "id": "hired-person"
      },
      "outputs": [],
      "source": [
        "def build_all_models(max_depths,\n",
        "                     min_samples_split,\n",
        "                     criterion,\n",
        "                     X_train=X_train,\n",
        "                     t_train=t_train,\n",
        "                     X_valid=X_valid,\n",
        "                     t_valid=t_valid):\n",
        "    \"\"\"\n",
        "    Parameters:\n",
        "        `max_depths` - A list of values representing the max_depth values to be\n",
        "                       try as hyperparameter values\n",
        "        `min_samples_split` - An list of values representing the min_samples_split\n",
        "                       values to try as hyperpareameter values\n",
        "        `criterion` -  A string; either \"entropy\" or \"gini\"\n",
        "\n",
        "    Returns a dictionary, `out`, whose keys are the the hyperparameter choices, and whose values are\n",
        "    the training and validation accuracies (via the `score()` method).\n",
        "    In other words, out[(max_depth, min_samples_split)]['val'] = validation score and\n",
        "                    out[(max_depth, min_samples_split)]['train'] = training score\n",
        "    For that combination of (max_depth, min_samples_split) hyperparameters.\n",
        "    \"\"\"\n",
        "    out = {}\n",
        "\n",
        "    for d in max_depths:\n",
        "        for s in min_samples_split:\n",
        "            out[(d, s)] = {}\n",
        "            # Create a DecisionTreeClassifier based on the given hyperparameters and fit it to the data\n",
        "            tree = None # TODO\n",
        "\n",
        "            # TODO: store the validation and training scores in the `out` dictionary\n",
        "            out[(d, s)]['val'] = None # TODO\n",
        "            out[(d, s)]['train'] = None # TODO\n",
        "    return out"
      ]
    },
    {
      "cell_type": "markdown",
      "id": "graduate-alpha",
      "metadata": {
        "id": "graduate-alpha"
      },
      "source": [
        "**Graded Task:** In this task, we will use an approach called **grid search** to\n",
        "tune hyperparameters: we will list possible values for each hyperparameter,\n",
        "and then attempt every combination of hyperparameter choices. In our case,\n",
        "we will start with some possible values for `max_depth`, `min_samples_split` and `criterion`. Then we will try all combinations\n",
        "of these hyperparameter choices.\n",
        "\n",
        "Complete the code below that performs grid search, by using `build_all_models`\n",
        "to build models and evaluate hyperparameter choices.\n",
        "Print the best parameters and corresponding scores (accuracy) for each of\n",
        "criterion=entropy and criterion=gini (i.e. you should have 2 print statements, 1 for each criterion)."
      ]
    },
    {
      "cell_type": "code",
      "execution_count": null,
      "id": "universal-setup",
      "metadata": {
        "id": "universal-setup"
      },
      "outputs": [],
      "source": [
        "# Hyperparameters values to try in our grid search\n",
        "criterions = [\"entropy\", \"gini\"]\n",
        "max_depths = [1, 5, 10, 15, 20, 25, 30, 50, 100]\n",
        "min_samples_split = [2, 4, 8, 16, 32, 64, 128, 256, 512, 1024]\n",
        "\n",
        "for criterion in criterions:\n",
        "    print(\"\\nUsing criterion {}\".format(criterion))\n",
        "    res = None # TODO: call `build_all_models` for the given hyperparameters\n",
        "\n",
        "    # TODO: complete this loop which should search for the optimal\n",
        "    #  (max_depth, min_samples_split) given this criterion\n",
        "    for d, s in res:\n",
        "        pass # TODO\n"
      ]
    },
    {
      "cell_type": "markdown",
      "id": "raising-private",
      "metadata": {
        "id": "raising-private"
      },
      "source": [
        "## Part 4. Test accuracy\n",
        "\n",
        "**Task:** Use the optimal set of hyperparameters you previously discovered to fit a new Decision Tree model to the data. Report the test score."
      ]
    },
    {
      "cell_type": "code",
      "execution_count": null,
      "id": "virtual-iraqi",
      "metadata": {
        "id": "virtual-iraqi"
      },
      "outputs": [],
      "source": [
        "best_tree = None # TODO"
      ]
    },
    {
      "cell_type": "markdown",
      "id": "existing-bench",
      "metadata": {
        "id": "existing-bench"
      },
      "source": [
        "The accuracy measure above considers every mis-classification that is made by our model an `error`, and it assumes that each and every error is of equal importance. However, in many domains, not all errors are of equal importance at all! Some mistakes may have significant negative impacts on people, while others may not.  In future labs, we'll look more closely at different kinds of errors that our models may make and reflect on how these errors might be related to risks.\n",
        "\n",
        "For now, however, let's simply reflect on some shortcomings of the accuracy measure above.\n",
        "\n",
        "**Graded Task:** Assume we have two decision trees that both report 95% accuracy on our validation set.\n",
        "Why might a doctor prefer to use one tree rather than the other?  Answer below in 100 words or less."
      ]
    },
    {
      "cell_type": "code",
      "execution_count": null,
      "id": "informed-project",
      "metadata": {
        "id": "informed-project"
      },
      "outputs": [],
      "source": [
        "# TODO"
      ]
    }
  ],
  "metadata": {
    "colab": {
      "provenance": [],
      "toc_visible": true
    },
    "language_info": {
      "name": "python"
    },
    "kernelspec": {
      "name": "python3",
      "display_name": "Python 3"
    }
  },
  "nbformat": 4,
  "nbformat_minor": 5
}