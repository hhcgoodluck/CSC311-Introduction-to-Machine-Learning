{
  "cells": [
    {
      "cell_type": "markdown",
      "id": "ready-external",
      "metadata": {
        "id": "ready-external"
      },
      "source": [
        "# CSC311 Lab 2: Decision Trees and Accuracy-based Diagnostics\n",
        "\n",
        "All artificial intelligence systems have the potential to fail and in some domains\n",
        "(like health) failures can have grave consequences.  When we work in these domains,\n",
        "it's important for us to understand our algorithmic errors and their potential risk.\n",
        "\n",
        "<!--\n",
        "In labs 2, 5 and 7, we'll loosely be following the autiding procedure suggested by [Lui et. al](https://www.thelancet.com/journals/landig/article/PIIS2589-7500(22)00003-6/fulltext) in order to build and analyze a decision making system that operates in a high risk domain.\n",
        "-->\n",
        "\n",
        "In labs 2, 5 and 7, we will use data from The National Health and Nutrition Examination Survey [NHANES](https://www.cdc.gov/nchs/nhanes/index.htm) in the United States.\n",
        "This survey runs annually to assess people's health and nutritional status, and it combines data from interviews and physical examinations. We will be exploring a\n",
        "handful of attributes from the 2014 instance of this survey and their ability to predict heart disease.\n",
        "Making decisions using health data is particularly high risk, so we will use this opportunity to discuss\n",
        "how to assess our model prior to using it.\n",
        "\n",
        "<!--\n",
        "We will then do some testing according to\n",
        "the [auditing recipe](https://www.thelancet.com/journals/landig/article/PIIS2589-7500(22)00003-6/fulltext#seccestitle40) presented by Liu.\n",
        "-->\n",
        "\n",
        "In this lab, we will explore the features in this data set, use `sklearn` to fit a\n",
        "decision tree to our data, and do some work to select hyperparamters that maximize\n",
        "accuracy (or minimize the number of our classification mistakes). In future labs, we\n",
        "will be exploring our mistakes, relating them to important subgroups, and reflecting\n",
        "on our model's robustness. We will also consider how assessments of risk associated\n",
        "with our errors should or could inform our decision making criteria.\n",
        "\n",
        "By the end of this lab, you will be able to:\n",
        "\n",
        "1. Perform an exploratory analysis to understand the features that we use to make predictions.\n",
        "2. Transform features into formats amenable to machine learning (i.e. using one-hot embeddings).\n",
        "3. Use `sklearn` to fit a decision tree to our data and determine its training/validation/test accuracy.\n",
        "4. Visualize, understand and interpret a decision tree diagram.\n",
        "5. Explain how various hyperparameter choices may cause our decision tree to underfit or overfit data.\n",
        "6. Perform hyperparameter tuning to search for the optimal hyperparameters of a decision tree.\n",
        "\n",
        "Please work in groups of 1-2 during the labs.\n",
        "\n",
        "Acknowledgements:\n",
        "\n",
        "- Thanks to https://www.kaggle.com/code/tobyanderson/health-survey-analysis for some utilities to decode NHANES categories!  \n",
        "- This lab was created in collaboration with, Prof. Sonya Allin, Mustafa Haiderbhai, Carolyn Quinlan, Brandon Jaipersaud and others.\n",
        "\n",
        "## Submission\n",
        "\n",
        "If you are working with a partner, start by creating a group on Markus. If you are working alone,\n",
        "click \"Working Alone\".\n",
        "\n",
        "Submit the ipynb file `lab02.ipynb` on Markus\n",
        "**containing all your solutions to the Graded Tasks**.\n",
        "Your notebook file must contain your code **and outputs** where applicable,\n",
        "including printed lines and images.\n",
        "Your TA will not run your code for the purpose of grading.\n",
        "\n",
        "For this lab, you should submit the following:\n",
        "\n",
        "\n",
        "- Part 1. Your explanation for whether our features are likely to be informative predictors. (1 point)\n",
        "- Part 1. Your explanation for why encoding categorical variables as numeric values is problematic for a decision tree. (1 point)\n",
        "- Part 1. Your explanation as to why there is no need to normalize the features of a decision tree. (1 point)\n",
        "- Part 2. Your classification of `X_train[5]` based on your generated decision tree diagram and a justification for your classification. (1 point)\n",
        "- Part 2. The values of `max_depth` you chose to make your decision tree underfit/overfit, along with the generated diagrams. A justification as to why those values make the tree underfit/overfit. (1 point)\n",
        "- Part 2. The values of `min_samples_split` you chose to make your decision tree underfit/overfit. A justification as to why those values make the tree underfit/overfit. (1 point)\n",
        "- Part 3. Your implementation of `build_all_models`.  (2 points)\n",
        "- Part 3. Your implementation of grid search, including print statement(s) that show your best parameters and corresponding scores for both `entropy` and `gini` criteria.  (1 point)\n",
        "- Part 4. Your reflections on the exercise, and our definition of a model that performs \"well\". (1 point)\n",
        "\n",
        "## Google Colab Setup\n",
        "\n",
        "As before, we will import `matplotlib` and `numpy` for plotting and linear algebra\n",
        "manipulations."
      ]
    },
    {
      "cell_type": "code",
      "execution_count": 1,
      "id": "certified-instrument",
      "metadata": {
        "id": "certified-instrument"
      },
      "outputs": [],
      "source": [
        "import matplotlib.pyplot as plt # For plotting\n",
        "import numpy as np              # Linear algebra library"
      ]
    },
    {
      "cell_type": "markdown",
      "id": "numeric-turning",
      "metadata": {
        "id": "numeric-turning"
      },
      "source": [
        "In addition to using `numpy` for its linear algebra functionalities, we will also use\n",
        "a library called `pandas` to help us read CSV files and manipulate tabular data.\n",
        "The below code reads each of the csv files into a **data frame**, which is a way that\n",
        "`pandas` stores tabular data.\n",
        "As an added bonus, Jupyter notebooks display these data frames in a human-readable way."
      ]
    },
    {
      "cell_type": "code",
      "execution_count": 2,
      "id": "competitive-thomson",
      "metadata": {
        "id": "competitive-thomson"
      },
      "outputs": [],
      "source": [
        "import pandas as pd"
      ]
    },
    {
      "cell_type": "markdown",
      "id": "fitting-bullet",
      "metadata": {
        "id": "fitting-bullet"
      },
      "source": [
        "As before, we will start by downloading the data to Google Colab."
      ]
    },
    {
      "cell_type": "code",
      "execution_count": 3,
      "id": "blind-israeli",
      "metadata": {
        "id": "blind-israeli",
        "outputId": "7f7d0f73-54c3-4fb4-e1c8-9ae6e119c54b",
        "colab": {
          "base_uri": "https://localhost:8080/"
        }
      },
      "outputs": [
        {
          "output_type": "stream",
          "name": "stdout",
          "text": [
            "--2025-09-15 13:03:07--  https://www.cs.toronto.edu/~lczhang/311/lab02/NHANES-heart.csv\n",
            "Resolving www.cs.toronto.edu (www.cs.toronto.edu)... 128.100.3.30\n",
            "Connecting to www.cs.toronto.edu (www.cs.toronto.edu)|128.100.3.30|:443... connected.\n",
            "HTTP request sent, awaiting response... 200 OK\n",
            "Length: 450659 (440K) [text/csv]\n",
            "Saving to: ‘NHANES-heart.csv’\n",
            "\n",
            "NHANES-heart.csv    100%[===================>] 440.10K  1.56MB/s    in 0.3s    \n",
            "\n",
            "2025-09-15 13:03:08 (1.56 MB/s) - ‘NHANES-heart.csv’ saved [450659/450659]\n",
            "\n"
          ]
        }
      ],
      "source": [
        "!wget https://www.cs.toronto.edu/~lczhang/311/lab02/NHANES-heart.csv"
      ]
    },
    {
      "cell_type": "markdown",
      "id": "handy-korea",
      "metadata": {
        "id": "handy-korea"
      },
      "source": [
        "Use pandas to read the dataset."
      ]
    },
    {
      "cell_type": "code",
      "execution_count": 4,
      "id": "gentle-howard",
      "metadata": {
        "id": "gentle-howard",
        "outputId": "b682016e-ef00-4971-c15c-31794c34b0f5",
        "colab": {
          "base_uri": "https://localhost:8080/",
          "height": 444
        }
      },
      "outputs": [
        {
          "output_type": "execute_result",
          "data": {
            "text/plain": [
              "      gender  race_ethnicity  chest_pain_ever  drink_alcohol  age   BMI  \\\n",
              "0          1               4              1.0            1.0   62  29.1   \n",
              "1          1               6              2.0            1.0   50  20.9   \n",
              "2          2               1              2.0            2.0   62  16.6   \n",
              "3          1               3              2.0            1.0   61  17.6   \n",
              "4          1               4              2.0            1.0   69  13.5   \n",
              "...      ...             ...              ...            ...  ...   ...   \n",
              "7995       2               3              1.0            2.0   76  24.6   \n",
              "7996       2               2              2.0            2.0   43  29.0   \n",
              "7997       1               6              2.0            2.0   51  14.3   \n",
              "7998       1               2              1.0            1.0   64  24.6   \n",
              "7999       2               3              2.0            2.0   80  32.2   \n",
              "\n",
              "      weight_kg  blood_pressure_sys  diastolic_bp  blood_cholesterol  \\\n",
              "0          77.3               104.0          56.0               5.64   \n",
              "1          42.9               118.0          46.0               5.25   \n",
              "2          27.3               116.0          66.0               3.23   \n",
              "3          26.2                90.0          52.0               3.67   \n",
              "4          21.0               116.0          66.0               4.50   \n",
              "...         ...                 ...           ...                ...   \n",
              "7995       13.1               116.0          66.0               4.50   \n",
              "7996       81.4               134.0          62.0               3.05   \n",
              "7997       15.6               116.0          66.0               4.50   \n",
              "7998       11.6               116.0          66.0               4.50   \n",
              "7999       78.3               114.0          66.0               4.55   \n",
              "\n",
              "      calories  family_income  target_heart  \n",
              "0        815.0           0.87           0.0  \n",
              "1       2339.0           3.63           0.0  \n",
              "2       1405.0           3.09           0.0  \n",
              "3       1735.0           2.13           0.0  \n",
              "4       1735.0           1.74           0.0  \n",
              "...        ...            ...           ...  \n",
              "7995    1735.0           2.05           1.0  \n",
              "7996    1735.0           0.45           1.0  \n",
              "7997    1735.0           0.48           1.0  \n",
              "7998    1120.0           0.31           1.0  \n",
              "7999    3274.0           0.62           1.0  \n",
              "\n",
              "[8000 rows x 13 columns]"
            ],
            "text/html": [
              "\n",
              "  <div id=\"df-e3d30a2d-7ad4-4246-adcb-23f610828561\" class=\"colab-df-container\">\n",
              "    <div>\n",
              "<style scoped>\n",
              "    .dataframe tbody tr th:only-of-type {\n",
              "        vertical-align: middle;\n",
              "    }\n",
              "\n",
              "    .dataframe tbody tr th {\n",
              "        vertical-align: top;\n",
              "    }\n",
              "\n",
              "    .dataframe thead th {\n",
              "        text-align: right;\n",
              "    }\n",
              "</style>\n",
              "<table border=\"1\" class=\"dataframe\">\n",
              "  <thead>\n",
              "    <tr style=\"text-align: right;\">\n",
              "      <th></th>\n",
              "      <th>gender</th>\n",
              "      <th>race_ethnicity</th>\n",
              "      <th>chest_pain_ever</th>\n",
              "      <th>drink_alcohol</th>\n",
              "      <th>age</th>\n",
              "      <th>BMI</th>\n",
              "      <th>weight_kg</th>\n",
              "      <th>blood_pressure_sys</th>\n",
              "      <th>diastolic_bp</th>\n",
              "      <th>blood_cholesterol</th>\n",
              "      <th>calories</th>\n",
              "      <th>family_income</th>\n",
              "      <th>target_heart</th>\n",
              "    </tr>\n",
              "  </thead>\n",
              "  <tbody>\n",
              "    <tr>\n",
              "      <th>0</th>\n",
              "      <td>1</td>\n",
              "      <td>4</td>\n",
              "      <td>1.0</td>\n",
              "      <td>1.0</td>\n",
              "      <td>62</td>\n",
              "      <td>29.1</td>\n",
              "      <td>77.3</td>\n",
              "      <td>104.0</td>\n",
              "      <td>56.0</td>\n",
              "      <td>5.64</td>\n",
              "      <td>815.0</td>\n",
              "      <td>0.87</td>\n",
              "      <td>0.0</td>\n",
              "    </tr>\n",
              "    <tr>\n",
              "      <th>1</th>\n",
              "      <td>1</td>\n",
              "      <td>6</td>\n",
              "      <td>2.0</td>\n",
              "      <td>1.0</td>\n",
              "      <td>50</td>\n",
              "      <td>20.9</td>\n",
              "      <td>42.9</td>\n",
              "      <td>118.0</td>\n",
              "      <td>46.0</td>\n",
              "      <td>5.25</td>\n",
              "      <td>2339.0</td>\n",
              "      <td>3.63</td>\n",
              "      <td>0.0</td>\n",
              "    </tr>\n",
              "    <tr>\n",
              "      <th>2</th>\n",
              "      <td>2</td>\n",
              "      <td>1</td>\n",
              "      <td>2.0</td>\n",
              "      <td>2.0</td>\n",
              "      <td>62</td>\n",
              "      <td>16.6</td>\n",
              "      <td>27.3</td>\n",
              "      <td>116.0</td>\n",
              "      <td>66.0</td>\n",
              "      <td>3.23</td>\n",
              "      <td>1405.0</td>\n",
              "      <td>3.09</td>\n",
              "      <td>0.0</td>\n",
              "    </tr>\n",
              "    <tr>\n",
              "      <th>3</th>\n",
              "      <td>1</td>\n",
              "      <td>3</td>\n",
              "      <td>2.0</td>\n",
              "      <td>1.0</td>\n",
              "      <td>61</td>\n",
              "      <td>17.6</td>\n",
              "      <td>26.2</td>\n",
              "      <td>90.0</td>\n",
              "      <td>52.0</td>\n",
              "      <td>3.67</td>\n",
              "      <td>1735.0</td>\n",
              "      <td>2.13</td>\n",
              "      <td>0.0</td>\n",
              "    </tr>\n",
              "    <tr>\n",
              "      <th>4</th>\n",
              "      <td>1</td>\n",
              "      <td>4</td>\n",
              "      <td>2.0</td>\n",
              "      <td>1.0</td>\n",
              "      <td>69</td>\n",
              "      <td>13.5</td>\n",
              "      <td>21.0</td>\n",
              "      <td>116.0</td>\n",
              "      <td>66.0</td>\n",
              "      <td>4.50</td>\n",
              "      <td>1735.0</td>\n",
              "      <td>1.74</td>\n",
              "      <td>0.0</td>\n",
              "    </tr>\n",
              "    <tr>\n",
              "      <th>...</th>\n",
              "      <td>...</td>\n",
              "      <td>...</td>\n",
              "      <td>...</td>\n",
              "      <td>...</td>\n",
              "      <td>...</td>\n",
              "      <td>...</td>\n",
              "      <td>...</td>\n",
              "      <td>...</td>\n",
              "      <td>...</td>\n",
              "      <td>...</td>\n",
              "      <td>...</td>\n",
              "      <td>...</td>\n",
              "      <td>...</td>\n",
              "    </tr>\n",
              "    <tr>\n",
              "      <th>7995</th>\n",
              "      <td>2</td>\n",
              "      <td>3</td>\n",
              "      <td>1.0</td>\n",
              "      <td>2.0</td>\n",
              "      <td>76</td>\n",
              "      <td>24.6</td>\n",
              "      <td>13.1</td>\n",
              "      <td>116.0</td>\n",
              "      <td>66.0</td>\n",
              "      <td>4.50</td>\n",
              "      <td>1735.0</td>\n",
              "      <td>2.05</td>\n",
              "      <td>1.0</td>\n",
              "    </tr>\n",
              "    <tr>\n",
              "      <th>7996</th>\n",
              "      <td>2</td>\n",
              "      <td>2</td>\n",
              "      <td>2.0</td>\n",
              "      <td>2.0</td>\n",
              "      <td>43</td>\n",
              "      <td>29.0</td>\n",
              "      <td>81.4</td>\n",
              "      <td>134.0</td>\n",
              "      <td>62.0</td>\n",
              "      <td>3.05</td>\n",
              "      <td>1735.0</td>\n",
              "      <td>0.45</td>\n",
              "      <td>1.0</td>\n",
              "    </tr>\n",
              "    <tr>\n",
              "      <th>7997</th>\n",
              "      <td>1</td>\n",
              "      <td>6</td>\n",
              "      <td>2.0</td>\n",
              "      <td>2.0</td>\n",
              "      <td>51</td>\n",
              "      <td>14.3</td>\n",
              "      <td>15.6</td>\n",
              "      <td>116.0</td>\n",
              "      <td>66.0</td>\n",
              "      <td>4.50</td>\n",
              "      <td>1735.0</td>\n",
              "      <td>0.48</td>\n",
              "      <td>1.0</td>\n",
              "    </tr>\n",
              "    <tr>\n",
              "      <th>7998</th>\n",
              "      <td>1</td>\n",
              "      <td>2</td>\n",
              "      <td>1.0</td>\n",
              "      <td>1.0</td>\n",
              "      <td>64</td>\n",
              "      <td>24.6</td>\n",
              "      <td>11.6</td>\n",
              "      <td>116.0</td>\n",
              "      <td>66.0</td>\n",
              "      <td>4.50</td>\n",
              "      <td>1120.0</td>\n",
              "      <td>0.31</td>\n",
              "      <td>1.0</td>\n",
              "    </tr>\n",
              "    <tr>\n",
              "      <th>7999</th>\n",
              "      <td>2</td>\n",
              "      <td>3</td>\n",
              "      <td>2.0</td>\n",
              "      <td>2.0</td>\n",
              "      <td>80</td>\n",
              "      <td>32.2</td>\n",
              "      <td>78.3</td>\n",
              "      <td>114.0</td>\n",
              "      <td>66.0</td>\n",
              "      <td>4.55</td>\n",
              "      <td>3274.0</td>\n",
              "      <td>0.62</td>\n",
              "      <td>1.0</td>\n",
              "    </tr>\n",
              "  </tbody>\n",
              "</table>\n",
              "<p>8000 rows × 13 columns</p>\n",
              "</div>\n",
              "    <div class=\"colab-df-buttons\">\n",
              "\n",
              "  <div class=\"colab-df-container\">\n",
              "    <button class=\"colab-df-convert\" onclick=\"convertToInteractive('df-e3d30a2d-7ad4-4246-adcb-23f610828561')\"\n",
              "            title=\"Convert this dataframe to an interactive table.\"\n",
              "            style=\"display:none;\">\n",
              "\n",
              "  <svg xmlns=\"http://www.w3.org/2000/svg\" height=\"24px\" viewBox=\"0 -960 960 960\">\n",
              "    <path d=\"M120-120v-720h720v720H120Zm60-500h600v-160H180v160Zm220 220h160v-160H400v160Zm0 220h160v-160H400v160ZM180-400h160v-160H180v160Zm440 0h160v-160H620v160ZM180-180h160v-160H180v160Zm440 0h160v-160H620v160Z\"/>\n",
              "  </svg>\n",
              "    </button>\n",
              "\n",
              "  <style>\n",
              "    .colab-df-container {\n",
              "      display:flex;\n",
              "      gap: 12px;\n",
              "    }\n",
              "\n",
              "    .colab-df-convert {\n",
              "      background-color: #E8F0FE;\n",
              "      border: none;\n",
              "      border-radius: 50%;\n",
              "      cursor: pointer;\n",
              "      display: none;\n",
              "      fill: #1967D2;\n",
              "      height: 32px;\n",
              "      padding: 0 0 0 0;\n",
              "      width: 32px;\n",
              "    }\n",
              "\n",
              "    .colab-df-convert:hover {\n",
              "      background-color: #E2EBFA;\n",
              "      box-shadow: 0px 1px 2px rgba(60, 64, 67, 0.3), 0px 1px 3px 1px rgba(60, 64, 67, 0.15);\n",
              "      fill: #174EA6;\n",
              "    }\n",
              "\n",
              "    .colab-df-buttons div {\n",
              "      margin-bottom: 4px;\n",
              "    }\n",
              "\n",
              "    [theme=dark] .colab-df-convert {\n",
              "      background-color: #3B4455;\n",
              "      fill: #D2E3FC;\n",
              "    }\n",
              "\n",
              "    [theme=dark] .colab-df-convert:hover {\n",
              "      background-color: #434B5C;\n",
              "      box-shadow: 0px 1px 3px 1px rgba(0, 0, 0, 0.15);\n",
              "      filter: drop-shadow(0px 1px 2px rgba(0, 0, 0, 0.3));\n",
              "      fill: #FFFFFF;\n",
              "    }\n",
              "  </style>\n",
              "\n",
              "    <script>\n",
              "      const buttonEl =\n",
              "        document.querySelector('#df-e3d30a2d-7ad4-4246-adcb-23f610828561 button.colab-df-convert');\n",
              "      buttonEl.style.display =\n",
              "        google.colab.kernel.accessAllowed ? 'block' : 'none';\n",
              "\n",
              "      async function convertToInteractive(key) {\n",
              "        const element = document.querySelector('#df-e3d30a2d-7ad4-4246-adcb-23f610828561');\n",
              "        const dataTable =\n",
              "          await google.colab.kernel.invokeFunction('convertToInteractive',\n",
              "                                                    [key], {});\n",
              "        if (!dataTable) return;\n",
              "\n",
              "        const docLinkHtml = 'Like what you see? Visit the ' +\n",
              "          '<a target=\"_blank\" href=https://colab.research.google.com/notebooks/data_table.ipynb>data table notebook</a>'\n",
              "          + ' to learn more about interactive tables.';\n",
              "        element.innerHTML = '';\n",
              "        dataTable['output_type'] = 'display_data';\n",
              "        await google.colab.output.renderOutput(dataTable, element);\n",
              "        const docLink = document.createElement('div');\n",
              "        docLink.innerHTML = docLinkHtml;\n",
              "        element.appendChild(docLink);\n",
              "      }\n",
              "    </script>\n",
              "  </div>\n",
              "\n",
              "\n",
              "    <div id=\"df-997cbf34-2f5e-44e5-b99d-969bb5df01ad\">\n",
              "      <button class=\"colab-df-quickchart\" onclick=\"quickchart('df-997cbf34-2f5e-44e5-b99d-969bb5df01ad')\"\n",
              "                title=\"Suggest charts\"\n",
              "                style=\"display:none;\">\n",
              "\n",
              "<svg xmlns=\"http://www.w3.org/2000/svg\" height=\"24px\"viewBox=\"0 0 24 24\"\n",
              "     width=\"24px\">\n",
              "    <g>\n",
              "        <path d=\"M19 3H5c-1.1 0-2 .9-2 2v14c0 1.1.9 2 2 2h14c1.1 0 2-.9 2-2V5c0-1.1-.9-2-2-2zM9 17H7v-7h2v7zm4 0h-2V7h2v10zm4 0h-2v-4h2v4z\"/>\n",
              "    </g>\n",
              "</svg>\n",
              "      </button>\n",
              "\n",
              "<style>\n",
              "  .colab-df-quickchart {\n",
              "      --bg-color: #E8F0FE;\n",
              "      --fill-color: #1967D2;\n",
              "      --hover-bg-color: #E2EBFA;\n",
              "      --hover-fill-color: #174EA6;\n",
              "      --disabled-fill-color: #AAA;\n",
              "      --disabled-bg-color: #DDD;\n",
              "  }\n",
              "\n",
              "  [theme=dark] .colab-df-quickchart {\n",
              "      --bg-color: #3B4455;\n",
              "      --fill-color: #D2E3FC;\n",
              "      --hover-bg-color: #434B5C;\n",
              "      --hover-fill-color: #FFFFFF;\n",
              "      --disabled-bg-color: #3B4455;\n",
              "      --disabled-fill-color: #666;\n",
              "  }\n",
              "\n",
              "  .colab-df-quickchart {\n",
              "    background-color: var(--bg-color);\n",
              "    border: none;\n",
              "    border-radius: 50%;\n",
              "    cursor: pointer;\n",
              "    display: none;\n",
              "    fill: var(--fill-color);\n",
              "    height: 32px;\n",
              "    padding: 0;\n",
              "    width: 32px;\n",
              "  }\n",
              "\n",
              "  .colab-df-quickchart:hover {\n",
              "    background-color: var(--hover-bg-color);\n",
              "    box-shadow: 0 1px 2px rgba(60, 64, 67, 0.3), 0 1px 3px 1px rgba(60, 64, 67, 0.15);\n",
              "    fill: var(--button-hover-fill-color);\n",
              "  }\n",
              "\n",
              "  .colab-df-quickchart-complete:disabled,\n",
              "  .colab-df-quickchart-complete:disabled:hover {\n",
              "    background-color: var(--disabled-bg-color);\n",
              "    fill: var(--disabled-fill-color);\n",
              "    box-shadow: none;\n",
              "  }\n",
              "\n",
              "  .colab-df-spinner {\n",
              "    border: 2px solid var(--fill-color);\n",
              "    border-color: transparent;\n",
              "    border-bottom-color: var(--fill-color);\n",
              "    animation:\n",
              "      spin 1s steps(1) infinite;\n",
              "  }\n",
              "\n",
              "  @keyframes spin {\n",
              "    0% {\n",
              "      border-color: transparent;\n",
              "      border-bottom-color: var(--fill-color);\n",
              "      border-left-color: var(--fill-color);\n",
              "    }\n",
              "    20% {\n",
              "      border-color: transparent;\n",
              "      border-left-color: var(--fill-color);\n",
              "      border-top-color: var(--fill-color);\n",
              "    }\n",
              "    30% {\n",
              "      border-color: transparent;\n",
              "      border-left-color: var(--fill-color);\n",
              "      border-top-color: var(--fill-color);\n",
              "      border-right-color: var(--fill-color);\n",
              "    }\n",
              "    40% {\n",
              "      border-color: transparent;\n",
              "      border-right-color: var(--fill-color);\n",
              "      border-top-color: var(--fill-color);\n",
              "    }\n",
              "    60% {\n",
              "      border-color: transparent;\n",
              "      border-right-color: var(--fill-color);\n",
              "    }\n",
              "    80% {\n",
              "      border-color: transparent;\n",
              "      border-right-color: var(--fill-color);\n",
              "      border-bottom-color: var(--fill-color);\n",
              "    }\n",
              "    90% {\n",
              "      border-color: transparent;\n",
              "      border-bottom-color: var(--fill-color);\n",
              "    }\n",
              "  }\n",
              "</style>\n",
              "\n",
              "      <script>\n",
              "        async function quickchart(key) {\n",
              "          const quickchartButtonEl =\n",
              "            document.querySelector('#' + key + ' button');\n",
              "          quickchartButtonEl.disabled = true;  // To prevent multiple clicks.\n",
              "          quickchartButtonEl.classList.add('colab-df-spinner');\n",
              "          try {\n",
              "            const charts = await google.colab.kernel.invokeFunction(\n",
              "                'suggestCharts', [key], {});\n",
              "          } catch (error) {\n",
              "            console.error('Error during call to suggestCharts:', error);\n",
              "          }\n",
              "          quickchartButtonEl.classList.remove('colab-df-spinner');\n",
              "          quickchartButtonEl.classList.add('colab-df-quickchart-complete');\n",
              "        }\n",
              "        (() => {\n",
              "          let quickchartButtonEl =\n",
              "            document.querySelector('#df-997cbf34-2f5e-44e5-b99d-969bb5df01ad button');\n",
              "          quickchartButtonEl.style.display =\n",
              "            google.colab.kernel.accessAllowed ? 'block' : 'none';\n",
              "        })();\n",
              "      </script>\n",
              "    </div>\n",
              "\n",
              "  <div id=\"id_91bd89b1-3671-4e92-b996-c3cd85ca2284\">\n",
              "    <style>\n",
              "      .colab-df-generate {\n",
              "        background-color: #E8F0FE;\n",
              "        border: none;\n",
              "        border-radius: 50%;\n",
              "        cursor: pointer;\n",
              "        display: none;\n",
              "        fill: #1967D2;\n",
              "        height: 32px;\n",
              "        padding: 0 0 0 0;\n",
              "        width: 32px;\n",
              "      }\n",
              "\n",
              "      .colab-df-generate:hover {\n",
              "        background-color: #E2EBFA;\n",
              "        box-shadow: 0px 1px 2px rgba(60, 64, 67, 0.3), 0px 1px 3px 1px rgba(60, 64, 67, 0.15);\n",
              "        fill: #174EA6;\n",
              "      }\n",
              "\n",
              "      [theme=dark] .colab-df-generate {\n",
              "        background-color: #3B4455;\n",
              "        fill: #D2E3FC;\n",
              "      }\n",
              "\n",
              "      [theme=dark] .colab-df-generate:hover {\n",
              "        background-color: #434B5C;\n",
              "        box-shadow: 0px 1px 3px 1px rgba(0, 0, 0, 0.15);\n",
              "        filter: drop-shadow(0px 1px 2px rgba(0, 0, 0, 0.3));\n",
              "        fill: #FFFFFF;\n",
              "      }\n",
              "    </style>\n",
              "    <button class=\"colab-df-generate\" onclick=\"generateWithVariable('data')\"\n",
              "            title=\"Generate code using this dataframe.\"\n",
              "            style=\"display:none;\">\n",
              "\n",
              "  <svg xmlns=\"http://www.w3.org/2000/svg\" height=\"24px\"viewBox=\"0 0 24 24\"\n",
              "       width=\"24px\">\n",
              "    <path d=\"M7,19H8.4L18.45,9,17,7.55,7,17.6ZM5,21V16.75L18.45,3.32a2,2,0,0,1,2.83,0l1.4,1.43a1.91,1.91,0,0,1,.58,1.4,1.91,1.91,0,0,1-.58,1.4L9.25,21ZM18.45,9,17,7.55Zm-12,3A5.31,5.31,0,0,0,4.9,8.1,5.31,5.31,0,0,0,1,6.5,5.31,5.31,0,0,0,4.9,4.9,5.31,5.31,0,0,0,6.5,1,5.31,5.31,0,0,0,8.1,4.9,5.31,5.31,0,0,0,12,6.5,5.46,5.46,0,0,0,6.5,12Z\"/>\n",
              "  </svg>\n",
              "    </button>\n",
              "    <script>\n",
              "      (() => {\n",
              "      const buttonEl =\n",
              "        document.querySelector('#id_91bd89b1-3671-4e92-b996-c3cd85ca2284 button.colab-df-generate');\n",
              "      buttonEl.style.display =\n",
              "        google.colab.kernel.accessAllowed ? 'block' : 'none';\n",
              "\n",
              "      buttonEl.onclick = () => {\n",
              "        google.colab.notebook.generateWithVariable('data');\n",
              "      }\n",
              "      })();\n",
              "    </script>\n",
              "  </div>\n",
              "\n",
              "    </div>\n",
              "  </div>\n"
            ],
            "application/vnd.google.colaboratory.intrinsic+json": {
              "type": "dataframe",
              "variable_name": "data",
              "summary": "{\n  \"name\": \"data\",\n  \"rows\": 8000,\n  \"fields\": [\n    {\n      \"column\": \"gender\",\n      \"properties\": {\n        \"dtype\": \"number\",\n        \"std\": 0,\n        \"min\": 1,\n        \"max\": 2,\n        \"num_unique_values\": 2,\n        \"samples\": [\n          2,\n          1\n        ],\n        \"semantic_type\": \"\",\n        \"description\": \"\"\n      }\n    },\n    {\n      \"column\": \"race_ethnicity\",\n      \"properties\": {\n        \"dtype\": \"number\",\n        \"std\": 1,\n        \"min\": 1,\n        \"max\": 7,\n        \"num_unique_values\": 6,\n        \"samples\": [\n          4,\n          6\n        ],\n        \"semantic_type\": \"\",\n        \"description\": \"\"\n      }\n    },\n    {\n      \"column\": \"chest_pain_ever\",\n      \"properties\": {\n        \"dtype\": \"number\",\n        \"std\": 0.47727372455543154,\n        \"min\": 1.0,\n        \"max\": 2.0,\n        \"num_unique_values\": 2,\n        \"samples\": [\n          2.0,\n          1.0\n        ],\n        \"semantic_type\": \"\",\n        \"description\": \"\"\n      }\n    },\n    {\n      \"column\": \"drink_alcohol\",\n      \"properties\": {\n        \"dtype\": \"number\",\n        \"std\": 0.46017097805176493,\n        \"min\": 1.0,\n        \"max\": 2.0,\n        \"num_unique_values\": 2,\n        \"samples\": [\n          2.0,\n          1.0\n        ],\n        \"semantic_type\": \"\",\n        \"description\": \"\"\n      }\n    },\n    {\n      \"column\": \"age\",\n      \"properties\": {\n        \"dtype\": \"number\",\n        \"std\": 12,\n        \"min\": 40,\n        \"max\": 80,\n        \"num_unique_values\": 41,\n        \"samples\": [\n          57,\n          47\n        ],\n        \"semantic_type\": \"\",\n        \"description\": \"\"\n      }\n    },\n    {\n      \"column\": \"BMI\",\n      \"properties\": {\n        \"dtype\": \"number\",\n        \"std\": 7.6834655093013104,\n        \"min\": 12.9,\n        \"max\": 82.9,\n        \"num_unique_values\": 349,\n        \"samples\": [\n          24.4,\n          46.8\n        ],\n        \"semantic_type\": \"\",\n        \"description\": \"\"\n      }\n    },\n    {\n      \"column\": \"weight_kg\",\n      \"properties\": {\n        \"dtype\": \"number\",\n        \"std\": 32.80324239692345,\n        \"min\": 3.3,\n        \"max\": 201.6,\n        \"num_unique_values\": 1023,\n        \"samples\": [\n          3.9,\n          59.3\n        ],\n        \"semantic_type\": \"\",\n        \"description\": \"\"\n      }\n    },\n    {\n      \"column\": \"blood_pressure_sys\",\n      \"properties\": {\n        \"dtype\": \"number\",\n        \"std\": 15.050114716976,\n        \"min\": 82.0,\n        \"max\": 220.0,\n        \"num_unique_values\": 57,\n        \"samples\": [\n          104.0,\n          100.0\n        ],\n        \"semantic_type\": \"\",\n        \"description\": \"\"\n      }\n    },\n    {\n      \"column\": \"diastolic_bp\",\n      \"properties\": {\n        \"dtype\": \"number\",\n        \"std\": 11.610892584264533,\n        \"min\": 0.0,\n        \"max\": 116.0,\n        \"num_unique_values\": 46,\n        \"samples\": [\n          28.0,\n          94.0\n        ],\n        \"semantic_type\": \"\",\n        \"description\": \"\"\n      }\n    },\n    {\n      \"column\": \"blood_cholesterol\",\n      \"properties\": {\n        \"dtype\": \"number\",\n        \"std\": 0.9084032890202964,\n        \"min\": 2.02,\n        \"max\": 11.97,\n        \"num_unique_values\": 209,\n        \"samples\": [\n          4.63,\n          6.57\n        ],\n        \"semantic_type\": \"\",\n        \"description\": \"\"\n      }\n    },\n    {\n      \"column\": \"calories\",\n      \"properties\": {\n        \"dtype\": \"number\",\n        \"std\": 867.4943115089055,\n        \"min\": 171.0,\n        \"max\": 8496.0,\n        \"num_unique_values\": 1576,\n        \"samples\": [\n          844.0,\n          2259.0\n        ],\n        \"semantic_type\": \"\",\n        \"description\": \"\"\n      }\n    },\n    {\n      \"column\": \"family_income\",\n      \"properties\": {\n        \"dtype\": \"number\",\n        \"std\": 1.532800386326236,\n        \"min\": 0.0,\n        \"max\": 5.0,\n        \"num_unique_values\": 366,\n        \"samples\": [\n          1.23,\n          4.45\n        ],\n        \"semantic_type\": \"\",\n        \"description\": \"\"\n      }\n    },\n    {\n      \"column\": \"target_heart\",\n      \"properties\": {\n        \"dtype\": \"number\",\n        \"std\": 0.5000312529299927,\n        \"min\": 0.0,\n        \"max\": 1.0,\n        \"num_unique_values\": 2,\n        \"samples\": [\n          1.0,\n          0.0\n        ],\n        \"semantic_type\": \"\",\n        \"description\": \"\"\n      }\n    }\n  ]\n}"
            }
          },
          "metadata": {},
          "execution_count": 4
        }
      ],
      "source": [
        "# read each of the csv files as a *pandas data frame*\n",
        "data = pd.read_csv(\"NHANES-heart.csv\")\n",
        "\n",
        "# display one the dataframes in the notebook\n",
        "data"
      ]
    },
    {
      "cell_type": "markdown",
      "id": "known-insight",
      "metadata": {
        "id": "known-insight"
      },
      "source": [
        "## Part 1. Data\n",
        "\n",
        "We will be focusing on NHANES survey data relevant to the assessment of heart disease.\n",
        "Note however that assessing the presence of heart disease based on this survey data is not an easy task.\n",
        "This is because people may have heart disease but not know it, or people may think they have heart disease\n",
        "when they do not. In our data, we have defined an individual as having heart disease if they answered \"Yes\"\n",
        "to this question on the NHANES survey: \"Have you ever been told by a doctor that you had congestive heart\n",
        "failure, coronary heart disease, a heart attack, or a stroke?\".  This is, as you may notice, not the perfect\n",
        "measure of heart disease! It is however the information we have in hand and it is consistent with the way others\n",
        "have defined heart disease in the [literature](https://www.ncbi.nlm.nih.gov/pmc/articles/PMC6836338/).\n",
        "\n",
        "If you are interested in better understanding the NHANES survey responses, we encourage you to look at\n",
        "the [NHANES data dictionary](https://wwwn.cdc.gov/nchs/nhanes/continuousnhanes/default.aspx). Understanding\n",
        "your data is extremely important, as there are often situations in which measurements may be ambiguous or\n",
        "inaccurate, and these inaccuracies impact any decision making algorithm you create.\n",
        "\n",
        "If you do work to gather data, it will be your responsibility to document this data.  And if you use data to\n",
        "create an algorithm, it will be your responsibility to understand its limitations.  If you are interested in\n",
        "best practices related to data documentation, we encourage you to read [Gebru's article on this topic](https://arxiv.org/pdf/1803.09010.pdf).\n",
        "You may also be interested in current data [reporting standards](https://www.bmj.com/content/370/bmj.m3164) for clinical trials that involve automated decision making tools.\n",
        "\n",
        "In this lab, we will be looking at 10 features from the NHANES data set. We have done work to clean the data for you so that it is approachable, but we encourage you to take a look at the raw data as you are able.  The definitions of the features are as follows:\n",
        "\n",
        "- `gender` (RIAGENDR): which is binary 2=female, 1=male\n",
        "- `race_ethnicity` (RIDRETH3): which can be 1=mexican american, 2=other hispanic, 3=white, 4=black, 6=asian, ...\n",
        "- `age` (RIDAGEYR): Age in years\n",
        "- `drink_alcohol` (ALQ101): which is binary; 1 indicates the individual reportedly drinks alcohol and 2 indicates they do not\n",
        "- `blood_cholesterol` (LBDTCSI): Results of an individual's blood cholesterol tests (mmol of cholesterol/L of blood)\n",
        "- `blood_pressure_sys` (BPXSY1): an individual's systolic blood pressure\n",
        "- `diastolic_bp` (BPXDI1): an individual's diastolic blood pressure\n",
        "- `calories` (DR1TKCAL): the number of calories an individual eats per day\n",
        "- `BMI` (BMXBMI): an individual's Body Mass Index (which can be used to assess obesity)\n",
        "- `chest_pain_ever` (CDQ001): If an individual has ever reported chest pain.\n",
        "- `family_income` (INDFMPIR): Ratio of a family's income to poverty threshold\n",
        "\n",
        "We will be using these features to predict the column `target_heart`:\n",
        "\n",
        "- `target_heart`: An individual reports that they have heart disease (1=yes, 0=no).\n",
        "\n",
        "\n",
        "Let's start by exploring the data that we have in hand. Pandas has a nice function to summarize the mean and dispersion of each feature in our data frame:"
      ]
    },
    {
      "cell_type": "code",
      "execution_count": 5,
      "id": "bridal-lawrence",
      "metadata": {
        "collapsed": true,
        "id": "bridal-lawrence",
        "outputId": "60a3102e-ea59-4d25-9e42-8af5089ea523",
        "colab": {
          "base_uri": "https://localhost:8080/",
          "height": 320
        }
      },
      "outputs": [
        {
          "output_type": "execute_result",
          "data": {
            "text/plain": [
              "            gender  race_ethnicity  chest_pain_ever  drink_alcohol  \\\n",
              "count  8000.000000     8000.000000      8000.000000    8000.000000   \n",
              "mean      1.498375        3.222000         1.649125       1.304375   \n",
              "std       0.500029        1.330672         0.477274       0.460171   \n",
              "min       1.000000        1.000000         1.000000       1.000000   \n",
              "25%       1.000000        3.000000         1.000000       1.000000   \n",
              "50%       1.000000        3.000000         2.000000       1.000000   \n",
              "75%       2.000000        4.000000         2.000000       2.000000   \n",
              "max       2.000000        7.000000         2.000000       2.000000   \n",
              "\n",
              "               age          BMI    weight_kg  blood_pressure_sys  \\\n",
              "count  8000.000000  8000.000000  8000.000000         8000.000000   \n",
              "mean     62.627875    25.352687    61.112887          117.135500   \n",
              "std      12.225806     7.683466    32.803242           15.050115   \n",
              "min      40.000000    12.900000     3.300000           82.000000   \n",
              "25%      52.000000    19.700000    33.600000          108.000000   \n",
              "50%      63.000000    24.600000    63.700000          116.000000   \n",
              "75%      73.000000    29.500000    83.000000          122.000000   \n",
              "max      80.000000    82.900000   201.600000          220.000000   \n",
              "\n",
              "       diastolic_bp  blood_cholesterol     calories  family_income  \\\n",
              "count   8000.000000        8000.000000  8000.000000    8000.000000   \n",
              "mean      65.705000           4.584376  1866.986875       2.456017   \n",
              "std       11.610893           0.908403   867.494312       1.532800   \n",
              "min        0.000000           2.020000   171.000000       0.000000   \n",
              "25%       60.000000           4.090000  1337.750000       1.180000   \n",
              "50%       66.000000           4.500000  1735.000000       2.050000   \n",
              "75%       72.000000           4.970000  2215.250000       3.800000   \n",
              "max      116.000000          11.970000  8496.000000       5.000000   \n",
              "\n",
              "       target_heart  \n",
              "count   8000.000000  \n",
              "mean       0.500000  \n",
              "std        0.500031  \n",
              "min        0.000000  \n",
              "25%        0.000000  \n",
              "50%        0.500000  \n",
              "75%        1.000000  \n",
              "max        1.000000  "
            ],
            "text/html": [
              "\n",
              "  <div id=\"df-9ff4cac0-6a0c-47b4-98a5-bbb7a9c549a7\" class=\"colab-df-container\">\n",
              "    <div>\n",
              "<style scoped>\n",
              "    .dataframe tbody tr th:only-of-type {\n",
              "        vertical-align: middle;\n",
              "    }\n",
              "\n",
              "    .dataframe tbody tr th {\n",
              "        vertical-align: top;\n",
              "    }\n",
              "\n",
              "    .dataframe thead th {\n",
              "        text-align: right;\n",
              "    }\n",
              "</style>\n",
              "<table border=\"1\" class=\"dataframe\">\n",
              "  <thead>\n",
              "    <tr style=\"text-align: right;\">\n",
              "      <th></th>\n",
              "      <th>gender</th>\n",
              "      <th>race_ethnicity</th>\n",
              "      <th>chest_pain_ever</th>\n",
              "      <th>drink_alcohol</th>\n",
              "      <th>age</th>\n",
              "      <th>BMI</th>\n",
              "      <th>weight_kg</th>\n",
              "      <th>blood_pressure_sys</th>\n",
              "      <th>diastolic_bp</th>\n",
              "      <th>blood_cholesterol</th>\n",
              "      <th>calories</th>\n",
              "      <th>family_income</th>\n",
              "      <th>target_heart</th>\n",
              "    </tr>\n",
              "  </thead>\n",
              "  <tbody>\n",
              "    <tr>\n",
              "      <th>count</th>\n",
              "      <td>8000.000000</td>\n",
              "      <td>8000.000000</td>\n",
              "      <td>8000.000000</td>\n",
              "      <td>8000.000000</td>\n",
              "      <td>8000.000000</td>\n",
              "      <td>8000.000000</td>\n",
              "      <td>8000.000000</td>\n",
              "      <td>8000.000000</td>\n",
              "      <td>8000.000000</td>\n",
              "      <td>8000.000000</td>\n",
              "      <td>8000.000000</td>\n",
              "      <td>8000.000000</td>\n",
              "      <td>8000.000000</td>\n",
              "    </tr>\n",
              "    <tr>\n",
              "      <th>mean</th>\n",
              "      <td>1.498375</td>\n",
              "      <td>3.222000</td>\n",
              "      <td>1.649125</td>\n",
              "      <td>1.304375</td>\n",
              "      <td>62.627875</td>\n",
              "      <td>25.352687</td>\n",
              "      <td>61.112887</td>\n",
              "      <td>117.135500</td>\n",
              "      <td>65.705000</td>\n",
              "      <td>4.584376</td>\n",
              "      <td>1866.986875</td>\n",
              "      <td>2.456017</td>\n",
              "      <td>0.500000</td>\n",
              "    </tr>\n",
              "    <tr>\n",
              "      <th>std</th>\n",
              "      <td>0.500029</td>\n",
              "      <td>1.330672</td>\n",
              "      <td>0.477274</td>\n",
              "      <td>0.460171</td>\n",
              "      <td>12.225806</td>\n",
              "      <td>7.683466</td>\n",
              "      <td>32.803242</td>\n",
              "      <td>15.050115</td>\n",
              "      <td>11.610893</td>\n",
              "      <td>0.908403</td>\n",
              "      <td>867.494312</td>\n",
              "      <td>1.532800</td>\n",
              "      <td>0.500031</td>\n",
              "    </tr>\n",
              "    <tr>\n",
              "      <th>min</th>\n",
              "      <td>1.000000</td>\n",
              "      <td>1.000000</td>\n",
              "      <td>1.000000</td>\n",
              "      <td>1.000000</td>\n",
              "      <td>40.000000</td>\n",
              "      <td>12.900000</td>\n",
              "      <td>3.300000</td>\n",
              "      <td>82.000000</td>\n",
              "      <td>0.000000</td>\n",
              "      <td>2.020000</td>\n",
              "      <td>171.000000</td>\n",
              "      <td>0.000000</td>\n",
              "      <td>0.000000</td>\n",
              "    </tr>\n",
              "    <tr>\n",
              "      <th>25%</th>\n",
              "      <td>1.000000</td>\n",
              "      <td>3.000000</td>\n",
              "      <td>1.000000</td>\n",
              "      <td>1.000000</td>\n",
              "      <td>52.000000</td>\n",
              "      <td>19.700000</td>\n",
              "      <td>33.600000</td>\n",
              "      <td>108.000000</td>\n",
              "      <td>60.000000</td>\n",
              "      <td>4.090000</td>\n",
              "      <td>1337.750000</td>\n",
              "      <td>1.180000</td>\n",
              "      <td>0.000000</td>\n",
              "    </tr>\n",
              "    <tr>\n",
              "      <th>50%</th>\n",
              "      <td>1.000000</td>\n",
              "      <td>3.000000</td>\n",
              "      <td>2.000000</td>\n",
              "      <td>1.000000</td>\n",
              "      <td>63.000000</td>\n",
              "      <td>24.600000</td>\n",
              "      <td>63.700000</td>\n",
              "      <td>116.000000</td>\n",
              "      <td>66.000000</td>\n",
              "      <td>4.500000</td>\n",
              "      <td>1735.000000</td>\n",
              "      <td>2.050000</td>\n",
              "      <td>0.500000</td>\n",
              "    </tr>\n",
              "    <tr>\n",
              "      <th>75%</th>\n",
              "      <td>2.000000</td>\n",
              "      <td>4.000000</td>\n",
              "      <td>2.000000</td>\n",
              "      <td>2.000000</td>\n",
              "      <td>73.000000</td>\n",
              "      <td>29.500000</td>\n",
              "      <td>83.000000</td>\n",
              "      <td>122.000000</td>\n",
              "      <td>72.000000</td>\n",
              "      <td>4.970000</td>\n",
              "      <td>2215.250000</td>\n",
              "      <td>3.800000</td>\n",
              "      <td>1.000000</td>\n",
              "    </tr>\n",
              "    <tr>\n",
              "      <th>max</th>\n",
              "      <td>2.000000</td>\n",
              "      <td>7.000000</td>\n",
              "      <td>2.000000</td>\n",
              "      <td>2.000000</td>\n",
              "      <td>80.000000</td>\n",
              "      <td>82.900000</td>\n",
              "      <td>201.600000</td>\n",
              "      <td>220.000000</td>\n",
              "      <td>116.000000</td>\n",
              "      <td>11.970000</td>\n",
              "      <td>8496.000000</td>\n",
              "      <td>5.000000</td>\n",
              "      <td>1.000000</td>\n",
              "    </tr>\n",
              "  </tbody>\n",
              "</table>\n",
              "</div>\n",
              "    <div class=\"colab-df-buttons\">\n",
              "\n",
              "  <div class=\"colab-df-container\">\n",
              "    <button class=\"colab-df-convert\" onclick=\"convertToInteractive('df-9ff4cac0-6a0c-47b4-98a5-bbb7a9c549a7')\"\n",
              "            title=\"Convert this dataframe to an interactive table.\"\n",
              "            style=\"display:none;\">\n",
              "\n",
              "  <svg xmlns=\"http://www.w3.org/2000/svg\" height=\"24px\" viewBox=\"0 -960 960 960\">\n",
              "    <path d=\"M120-120v-720h720v720H120Zm60-500h600v-160H180v160Zm220 220h160v-160H400v160Zm0 220h160v-160H400v160ZM180-400h160v-160H180v160Zm440 0h160v-160H620v160ZM180-180h160v-160H180v160Zm440 0h160v-160H620v160Z\"/>\n",
              "  </svg>\n",
              "    </button>\n",
              "\n",
              "  <style>\n",
              "    .colab-df-container {\n",
              "      display:flex;\n",
              "      gap: 12px;\n",
              "    }\n",
              "\n",
              "    .colab-df-convert {\n",
              "      background-color: #E8F0FE;\n",
              "      border: none;\n",
              "      border-radius: 50%;\n",
              "      cursor: pointer;\n",
              "      display: none;\n",
              "      fill: #1967D2;\n",
              "      height: 32px;\n",
              "      padding: 0 0 0 0;\n",
              "      width: 32px;\n",
              "    }\n",
              "\n",
              "    .colab-df-convert:hover {\n",
              "      background-color: #E2EBFA;\n",
              "      box-shadow: 0px 1px 2px rgba(60, 64, 67, 0.3), 0px 1px 3px 1px rgba(60, 64, 67, 0.15);\n",
              "      fill: #174EA6;\n",
              "    }\n",
              "\n",
              "    .colab-df-buttons div {\n",
              "      margin-bottom: 4px;\n",
              "    }\n",
              "\n",
              "    [theme=dark] .colab-df-convert {\n",
              "      background-color: #3B4455;\n",
              "      fill: #D2E3FC;\n",
              "    }\n",
              "\n",
              "    [theme=dark] .colab-df-convert:hover {\n",
              "      background-color: #434B5C;\n",
              "      box-shadow: 0px 1px 3px 1px rgba(0, 0, 0, 0.15);\n",
              "      filter: drop-shadow(0px 1px 2px rgba(0, 0, 0, 0.3));\n",
              "      fill: #FFFFFF;\n",
              "    }\n",
              "  </style>\n",
              "\n",
              "    <script>\n",
              "      const buttonEl =\n",
              "        document.querySelector('#df-9ff4cac0-6a0c-47b4-98a5-bbb7a9c549a7 button.colab-df-convert');\n",
              "      buttonEl.style.display =\n",
              "        google.colab.kernel.accessAllowed ? 'block' : 'none';\n",
              "\n",
              "      async function convertToInteractive(key) {\n",
              "        const element = document.querySelector('#df-9ff4cac0-6a0c-47b4-98a5-bbb7a9c549a7');\n",
              "        const dataTable =\n",
              "          await google.colab.kernel.invokeFunction('convertToInteractive',\n",
              "                                                    [key], {});\n",
              "        if (!dataTable) return;\n",
              "\n",
              "        const docLinkHtml = 'Like what you see? Visit the ' +\n",
              "          '<a target=\"_blank\" href=https://colab.research.google.com/notebooks/data_table.ipynb>data table notebook</a>'\n",
              "          + ' to learn more about interactive tables.';\n",
              "        element.innerHTML = '';\n",
              "        dataTable['output_type'] = 'display_data';\n",
              "        await google.colab.output.renderOutput(dataTable, element);\n",
              "        const docLink = document.createElement('div');\n",
              "        docLink.innerHTML = docLinkHtml;\n",
              "        element.appendChild(docLink);\n",
              "      }\n",
              "    </script>\n",
              "  </div>\n",
              "\n",
              "\n",
              "    <div id=\"df-a44d3524-46d9-4297-a30f-8b8adbd3e34d\">\n",
              "      <button class=\"colab-df-quickchart\" onclick=\"quickchart('df-a44d3524-46d9-4297-a30f-8b8adbd3e34d')\"\n",
              "                title=\"Suggest charts\"\n",
              "                style=\"display:none;\">\n",
              "\n",
              "<svg xmlns=\"http://www.w3.org/2000/svg\" height=\"24px\"viewBox=\"0 0 24 24\"\n",
              "     width=\"24px\">\n",
              "    <g>\n",
              "        <path d=\"M19 3H5c-1.1 0-2 .9-2 2v14c0 1.1.9 2 2 2h14c1.1 0 2-.9 2-2V5c0-1.1-.9-2-2-2zM9 17H7v-7h2v7zm4 0h-2V7h2v10zm4 0h-2v-4h2v4z\"/>\n",
              "    </g>\n",
              "</svg>\n",
              "      </button>\n",
              "\n",
              "<style>\n",
              "  .colab-df-quickchart {\n",
              "      --bg-color: #E8F0FE;\n",
              "      --fill-color: #1967D2;\n",
              "      --hover-bg-color: #E2EBFA;\n",
              "      --hover-fill-color: #174EA6;\n",
              "      --disabled-fill-color: #AAA;\n",
              "      --disabled-bg-color: #DDD;\n",
              "  }\n",
              "\n",
              "  [theme=dark] .colab-df-quickchart {\n",
              "      --bg-color: #3B4455;\n",
              "      --fill-color: #D2E3FC;\n",
              "      --hover-bg-color: #434B5C;\n",
              "      --hover-fill-color: #FFFFFF;\n",
              "      --disabled-bg-color: #3B4455;\n",
              "      --disabled-fill-color: #666;\n",
              "  }\n",
              "\n",
              "  .colab-df-quickchart {\n",
              "    background-color: var(--bg-color);\n",
              "    border: none;\n",
              "    border-radius: 50%;\n",
              "    cursor: pointer;\n",
              "    display: none;\n",
              "    fill: var(--fill-color);\n",
              "    height: 32px;\n",
              "    padding: 0;\n",
              "    width: 32px;\n",
              "  }\n",
              "\n",
              "  .colab-df-quickchart:hover {\n",
              "    background-color: var(--hover-bg-color);\n",
              "    box-shadow: 0 1px 2px rgba(60, 64, 67, 0.3), 0 1px 3px 1px rgba(60, 64, 67, 0.15);\n",
              "    fill: var(--button-hover-fill-color);\n",
              "  }\n",
              "\n",
              "  .colab-df-quickchart-complete:disabled,\n",
              "  .colab-df-quickchart-complete:disabled:hover {\n",
              "    background-color: var(--disabled-bg-color);\n",
              "    fill: var(--disabled-fill-color);\n",
              "    box-shadow: none;\n",
              "  }\n",
              "\n",
              "  .colab-df-spinner {\n",
              "    border: 2px solid var(--fill-color);\n",
              "    border-color: transparent;\n",
              "    border-bottom-color: var(--fill-color);\n",
              "    animation:\n",
              "      spin 1s steps(1) infinite;\n",
              "  }\n",
              "\n",
              "  @keyframes spin {\n",
              "    0% {\n",
              "      border-color: transparent;\n",
              "      border-bottom-color: var(--fill-color);\n",
              "      border-left-color: var(--fill-color);\n",
              "    }\n",
              "    20% {\n",
              "      border-color: transparent;\n",
              "      border-left-color: var(--fill-color);\n",
              "      border-top-color: var(--fill-color);\n",
              "    }\n",
              "    30% {\n",
              "      border-color: transparent;\n",
              "      border-left-color: var(--fill-color);\n",
              "      border-top-color: var(--fill-color);\n",
              "      border-right-color: var(--fill-color);\n",
              "    }\n",
              "    40% {\n",
              "      border-color: transparent;\n",
              "      border-right-color: var(--fill-color);\n",
              "      border-top-color: var(--fill-color);\n",
              "    }\n",
              "    60% {\n",
              "      border-color: transparent;\n",
              "      border-right-color: var(--fill-color);\n",
              "    }\n",
              "    80% {\n",
              "      border-color: transparent;\n",
              "      border-right-color: var(--fill-color);\n",
              "      border-bottom-color: var(--fill-color);\n",
              "    }\n",
              "    90% {\n",
              "      border-color: transparent;\n",
              "      border-bottom-color: var(--fill-color);\n",
              "    }\n",
              "  }\n",
              "</style>\n",
              "\n",
              "      <script>\n",
              "        async function quickchart(key) {\n",
              "          const quickchartButtonEl =\n",
              "            document.querySelector('#' + key + ' button');\n",
              "          quickchartButtonEl.disabled = true;  // To prevent multiple clicks.\n",
              "          quickchartButtonEl.classList.add('colab-df-spinner');\n",
              "          try {\n",
              "            const charts = await google.colab.kernel.invokeFunction(\n",
              "                'suggestCharts', [key], {});\n",
              "          } catch (error) {\n",
              "            console.error('Error during call to suggestCharts:', error);\n",
              "          }\n",
              "          quickchartButtonEl.classList.remove('colab-df-spinner');\n",
              "          quickchartButtonEl.classList.add('colab-df-quickchart-complete');\n",
              "        }\n",
              "        (() => {\n",
              "          let quickchartButtonEl =\n",
              "            document.querySelector('#df-a44d3524-46d9-4297-a30f-8b8adbd3e34d button');\n",
              "          quickchartButtonEl.style.display =\n",
              "            google.colab.kernel.accessAllowed ? 'block' : 'none';\n",
              "        })();\n",
              "      </script>\n",
              "    </div>\n",
              "\n",
              "    </div>\n",
              "  </div>\n"
            ],
            "application/vnd.google.colaboratory.intrinsic+json": {
              "type": "dataframe",
              "summary": "{\n  \"name\": \"data\",\n  \"rows\": 8,\n  \"fields\": [\n    {\n      \"column\": \"gender\",\n      \"properties\": {\n        \"dtype\": \"number\",\n        \"std\": 2827.9726854238465,\n        \"min\": 0.5000286121329514,\n        \"max\": 8000.0,\n        \"num_unique_values\": 5,\n        \"samples\": [\n          1.498375,\n          2.0,\n          0.5000286121329514\n        ],\n        \"semantic_type\": \"\",\n        \"description\": \"\"\n      }\n    },\n    {\n      \"column\": \"race_ethnicity\",\n      \"properties\": {\n        \"dtype\": \"number\",\n        \"std\": 2827.288636297873,\n        \"min\": 1.0,\n        \"max\": 8000.0,\n        \"num_unique_values\": 7,\n        \"samples\": [\n          8000.0,\n          3.222,\n          4.0\n        ],\n        \"semantic_type\": \"\",\n        \"description\": \"\"\n      }\n    },\n    {\n      \"column\": \"chest_pain_ever\",\n      \"properties\": {\n        \"dtype\": \"number\",\n        \"std\": 2827.91572242477,\n        \"min\": 0.47727372455543154,\n        \"max\": 8000.0,\n        \"num_unique_values\": 5,\n        \"samples\": [\n          1.649125,\n          2.0,\n          0.47727372455543154\n        ],\n        \"semantic_type\": \"\",\n        \"description\": \"\"\n      }\n    },\n    {\n      \"column\": \"drink_alcohol\",\n      \"properties\": {\n        \"dtype\": \"number\",\n        \"std\": 2827.984497306394,\n        \"min\": 0.46017097805176493,\n        \"max\": 8000.0,\n        \"num_unique_values\": 5,\n        \"samples\": [\n          1.304375,\n          2.0,\n          0.46017097805176493\n        ],\n        \"semantic_type\": \"\",\n        \"description\": \"\"\n      }\n    },\n    {\n      \"column\": \"age\",\n      \"properties\": {\n        \"dtype\": \"number\",\n        \"std\": 2809.169786901361,\n        \"min\": 12.225805976533609,\n        \"max\": 8000.0,\n        \"num_unique_values\": 8,\n        \"samples\": [\n          62.627875,\n          63.0,\n          8000.0\n        ],\n        \"semantic_type\": \"\",\n        \"description\": \"\"\n      }\n    },\n    {\n      \"column\": \"BMI\",\n      \"properties\": {\n        \"dtype\": \"number\",\n        \"std\": 2818.2871984865915,\n        \"min\": 7.6834655093013104,\n        \"max\": 8000.0,\n        \"num_unique_values\": 8,\n        \"samples\": [\n          25.3526875,\n          24.6,\n          8000.0\n        ],\n        \"semantic_type\": \"\",\n        \"description\": \"\"\n      }\n    },\n    {\n      \"column\": \"weight_kg\",\n      \"properties\": {\n        \"dtype\": \"number\",\n        \"std\": 2804.8583780060617,\n        \"min\": 3.3,\n        \"max\": 8000.0,\n        \"num_unique_values\": 8,\n        \"samples\": [\n          61.1128875,\n          63.7,\n          8000.0\n        ],\n        \"semantic_type\": \"\",\n        \"description\": \"\"\n      }\n    },\n    {\n      \"column\": \"blood_pressure_sys\",\n      \"properties\": {\n        \"dtype\": \"number\",\n        \"std\": 2789.5882390136485,\n        \"min\": 15.050114716976,\n        \"max\": 8000.0,\n        \"num_unique_values\": 8,\n        \"samples\": [\n          117.1355,\n          116.0,\n          8000.0\n        ],\n        \"semantic_type\": \"\",\n        \"description\": \"\"\n      }\n    },\n    {\n      \"column\": \"diastolic_bp\",\n      \"properties\": {\n        \"dtype\": \"number\",\n        \"std\": 2808.8959488105297,\n        \"min\": 0.0,\n        \"max\": 8000.0,\n        \"num_unique_values\": 8,\n        \"samples\": [\n          65.705,\n          66.0,\n          8000.0\n        ],\n        \"semantic_type\": \"\",\n        \"description\": \"\"\n      }\n    },\n    {\n      \"column\": \"blood_cholesterol\",\n      \"properties\": {\n        \"dtype\": \"number\",\n        \"std\": 2826.7601051573447,\n        \"min\": 0.9084032890202964,\n        \"max\": 8000.0,\n        \"num_unique_values\": 8,\n        \"samples\": [\n          4.584376249999999,\n          4.5,\n          8000.0\n        ],\n        \"semantic_type\": \"\",\n        \"description\": \"\"\n      }\n    },\n    {\n      \"column\": \"calories\",\n      \"properties\": {\n        \"dtype\": \"number\",\n        \"std\": 3250.5003096128016,\n        \"min\": 171.0,\n        \"max\": 8496.0,\n        \"num_unique_values\": 8,\n        \"samples\": [\n          1866.986875,\n          1735.0,\n          8000.0\n        ],\n        \"semantic_type\": \"\",\n        \"description\": \"\"\n      }\n    },\n    {\n      \"column\": \"family_income\",\n      \"properties\": {\n        \"dtype\": \"number\",\n        \"std\": 2827.6184756108432,\n        \"min\": 0.0,\n        \"max\": 8000.0,\n        \"num_unique_values\": 8,\n        \"samples\": [\n          2.4560174999999997,\n          2.05,\n          8000.0\n        ],\n        \"semantic_type\": \"\",\n        \"description\": \"\"\n      }\n    },\n    {\n      \"column\": \"target_heart\",\n      \"properties\": {\n        \"dtype\": \"number\",\n        \"std\": 2828.250371727774,\n        \"min\": 0.0,\n        \"max\": 8000.0,\n        \"num_unique_values\": 5,\n        \"samples\": [\n          0.5,\n          1.0,\n          0.5000312529299927\n        ],\n        \"semantic_type\": \"\",\n        \"description\": \"\"\n      }\n    }\n  ]\n}"
            }
          },
          "metadata": {},
          "execution_count": 5
        }
      ],
      "source": [
        "data.describe()"
      ]
    },
    {
      "cell_type": "markdown",
      "id": "polished-treatment",
      "metadata": {
        "id": "polished-treatment"
      },
      "source": [
        "We can also visualize the spread of numerical features using *box plots*. A box plot visually summarizes much of the information that is produced by a call to data.describe(). The orange line in the middle of each box represents the median (or 50th percentile) of the data.  Each box spans a range from the 25th to 75th percentile of the attribute in question. Outliers are plotted as points outside of the box.\n",
        "\n",
        "If, after you review some box plots, you are not comfortable with how box plots work, [Khan Academy has a good series of videos that explain how to read and interpret them.](https://www.khanacademy.org/math/statistics-probability/summarizing-quantitative-data/box-whisker-plots/v/reading-box-and-whisker-plots)"
      ]
    },
    {
      "cell_type": "code",
      "execution_count": 6,
      "id": "norman-mandate",
      "metadata": {
        "collapsed": true,
        "id": "norman-mandate",
        "outputId": "dc0b0472-6400-46c2-b3ac-05c212456f65",
        "colab": {
          "base_uri": "https://localhost:8080/",
          "height": 595
        }
      },
      "outputs": [
        {
          "output_type": "execute_result",
          "data": {
            "text/plain": [
              "{'whiskers': [<matplotlib.lines.Line2D at 0x7a44acd76720>,\n",
              "  <matplotlib.lines.Line2D at 0x7a44acd76930>],\n",
              " 'caps': [<matplotlib.lines.Line2D at 0x7a44acd76c60>,\n",
              "  <matplotlib.lines.Line2D at 0x7a44acd76f90>],\n",
              " 'boxes': [<matplotlib.lines.Line2D at 0x7a44ad009b20>],\n",
              " 'medians': [<matplotlib.lines.Line2D at 0x7a44acd772c0>],\n",
              " 'fliers': [<matplotlib.lines.Line2D at 0x7a44acd775c0>],\n",
              " 'means': []}"
            ]
          },
          "metadata": {},
          "execution_count": 6
        },
        {
          "output_type": "display_data",
          "data": {
            "text/plain": [
              "<Figure size 640x480 with 1 Axes>"
            ],
            "image/png": "[encoded data removed]"
          },
          "metadata": {}
        }
      ],
      "source": [
        "plt.title(\"Box Plot Showing the Distribution of 'weight_kg'\")\n",
        "plt.boxplot(data[\"weight_kg\"])"
      ]
    },
    {
      "cell_type": "code",
      "execution_count": 8,
      "id": "japanese-index",
      "metadata": {
        "collapsed": true,
        "id": "japanese-index",
        "outputId": "9ea576ec-30b0-4509-c01a-5ad6649c9da5",
        "colab": {
          "base_uri": "https://localhost:8080/",
          "height": 595
        }
      },
      "outputs": [
        {
          "output_type": "execute_result",
          "data": {
            "text/plain": [
              "{'whiskers': [<matplotlib.lines.Line2D at 0x7a44ace50d70>,\n",
              "  <matplotlib.lines.Line2D at 0x7a44ace52120>],\n",
              " 'caps': [<matplotlib.lines.Line2D at 0x7a44ace52420>,\n",
              "  <matplotlib.lines.Line2D at 0x7a44ace52780>],\n",
              " 'boxes': [<matplotlib.lines.Line2D at 0x7a44ace51dc0>],\n",
              " 'medians': [<matplotlib.lines.Line2D at 0x7a44ace52ab0>],\n",
              " 'fliers': [<matplotlib.lines.Line2D at 0x7a44ace52de0>],\n",
              " 'means': []}"
            ]
          },
          "metadata": {},
          "execution_count": 8
        },
        {
          "output_type": "display_data",
          "data": {
            "text/plain": [
              "<Figure size 640x480 with 1 Axes>"
            ],
            "image/png": "[encoded data removed]"
          },
          "metadata": {}
        }
      ],
      "source": [
        "plt.title(\"Box Plot Showing the Distribution of 'age'\")\n",
        "plt.boxplot(data[\"age\"])"
      ]
    },
    {
      "cell_type": "markdown",
      "id": "circular-cheat",
      "metadata": {
        "id": "circular-cheat"
      },
      "source": [
        "In the first box plot, we see that half of the people in the data set are under 64 kg,\n",
        "just as shown in the table generated by `data.describe()`. We see also that there are some outliers who weigh more than the general population of people in our data set.\n",
        "\n",
        "\n",
        "**Task:** Plot box plots for the remaining numerical features."
      ]
    },
    {
      "cell_type": "code",
      "execution_count": 7,
      "id": "brutal-pioneer",
      "metadata": {
        "collapsed": true,
        "id": "brutal-pioneer",
        "outputId": "445edc2f-e8a4-4350-d81f-a1954f55739c",
        "colab": {
          "base_uri": "https://localhost:8080/",
          "height": 595
        }
      },
      "outputs": [
        {
          "output_type": "execute_result",
          "data": {
            "text/plain": [
              "{'whiskers': [<matplotlib.lines.Line2D at 0x7a44acdfbda0>,\n",
              "  <matplotlib.lines.Line2D at 0x7a44ace041d0>],\n",
              " 'caps': [<matplotlib.lines.Line2D at 0x7a44ace044d0>,\n",
              "  <matplotlib.lines.Line2D at 0x7a44ace047d0>],\n",
              " 'boxes': [<matplotlib.lines.Line2D at 0x7a44acdfbaa0>],\n",
              " 'medians': [<matplotlib.lines.Line2D at 0x7a44ace04b60>],\n",
              " 'fliers': [<matplotlib.lines.Line2D at 0x7a44ace04e90>],\n",
              " 'means': []}"
            ]
          },
          "metadata": {},
          "execution_count": 7
        },
        {
          "output_type": "display_data",
          "data": {
            "text/plain": [
              "<Figure size 640x480 with 1 Axes>"
            ],
            "image/png": "[encoded data removed]"
          },
          "metadata": {}
        }
      ],
      "source": [
        "plt.title(\"Box Plot Showing the Distribution of 'blood_cholesterol'\")\n",
        "plt.boxplot(data[\"blood_cholesterol\"])"
      ]
    },
    {
      "cell_type": "code",
      "source": [
        "plt.title(\"Box Plot Showing the Distribution of 'blood_pressure_sys'\")\n",
        "plt.boxplot(data[\"blood_pressure_sys\"])"
      ],
      "metadata": {
        "collapsed": true,
        "id": "61BfTxbm89Vp",
        "outputId": "fa47c5f5-dbbd-498b-dcfc-272d96e17f29",
        "colab": {
          "base_uri": "https://localhost:8080/",
          "height": 595
        }
      },
      "id": "61BfTxbm89Vp",
      "execution_count": 9,
      "outputs": [
        {
          "output_type": "execute_result",
          "data": {
            "text/plain": [
              "{'whiskers': [<matplotlib.lines.Line2D at 0x7a44aaca21e0>,\n",
              "  <matplotlib.lines.Line2D at 0x7a44aad0c530>],\n",
              " 'caps': [<matplotlib.lines.Line2D at 0x7a44aad0c860>,\n",
              "  <matplotlib.lines.Line2D at 0x7a44aad0cb60>],\n",
              " 'boxes': [<matplotlib.lines.Line2D at 0x7a44aacabf50>],\n",
              " 'medians': [<matplotlib.lines.Line2D at 0x7a44ad041c70>],\n",
              " 'fliers': [<matplotlib.lines.Line2D at 0x7a44aad0cfb0>],\n",
              " 'means': []}"
            ]
          },
          "metadata": {},
          "execution_count": 9
        },
        {
          "output_type": "display_data",
          "data": {
            "text/plain": [
              "<Figure size 640x480 with 1 Axes>"
            ],
            "image/png": "[encoded data removed]"
          },
          "metadata": {}
        }
      ]
    },
    {
      "cell_type": "code",
      "source": [
        "plt.title(\"Box Plot Showing the Distribution of 'diastolic_bp'\")\n",
        "plt.boxplot(data[\"diastolic_bp\"])"
      ],
      "metadata": {
        "collapsed": true,
        "id": "wOR5gQDJ9c6B",
        "outputId": "3fb6ddad-cf83-4d95-b8e4-a9cd4042b4b7",
        "colab": {
          "base_uri": "https://localhost:8080/",
          "height": 595
        }
      },
      "id": "wOR5gQDJ9c6B",
      "execution_count": 10,
      "outputs": [
        {
          "output_type": "execute_result",
          "data": {
            "text/plain": [
              "{'whiskers': [<matplotlib.lines.Line2D at 0x7a44aad63350>,\n",
              "  <matplotlib.lines.Line2D at 0x7a44aab68590>],\n",
              " 'caps': [<matplotlib.lines.Line2D at 0x7a44aab68860>,\n",
              "  <matplotlib.lines.Line2D at 0x7a44aab68b30>],\n",
              " 'boxes': [<matplotlib.lines.Line2D at 0x7a44aab68080>],\n",
              " 'medians': [<matplotlib.lines.Line2D at 0x7a44aab68da0>],\n",
              " 'fliers': [<matplotlib.lines.Line2D at 0x7a44aab69070>],\n",
              " 'means': []}"
            ]
          },
          "metadata": {},
          "execution_count": 10
        },
        {
          "output_type": "display_data",
          "data": {
            "text/plain": [
              "<Figure size 640x480 with 1 Axes>"
            ],
            "image/png": "[encoded data removed]"
          },
          "metadata": {}
        }
      ]
    },
    {
      "cell_type": "code",
      "source": [
        "plt.title(\"Box Plot Showing the Distribution of 'calories'\")\n",
        "plt.boxplot(data[\"calories\"])"
      ],
      "metadata": {
        "collapsed": true,
        "id": "Tn4czGup9li6",
        "outputId": "1ff1898f-84ca-4a1d-a3c0-ae9d12f07502",
        "colab": {
          "base_uri": "https://localhost:8080/",
          "height": 595
        }
      },
      "id": "Tn4czGup9li6",
      "execution_count": 11,
      "outputs": [
        {
          "output_type": "execute_result",
          "data": {
            "text/plain": [
              "{'whiskers': [<matplotlib.lines.Line2D at 0x7a44aabd3320>,\n",
              "  <matplotlib.lines.Line2D at 0x7a44aabd3620>],\n",
              " 'caps': [<matplotlib.lines.Line2D at 0x7a44aabd3920>,\n",
              "  <matplotlib.lines.Line2D at 0x7a44aabd3c50>],\n",
              " 'boxes': [<matplotlib.lines.Line2D at 0x7a44aabd2570>],\n",
              " 'medians': [<matplotlib.lines.Line2D at 0x7a44aabd3ef0>],\n",
              " 'fliers': [<matplotlib.lines.Line2D at 0x7a44aac00230>],\n",
              " 'means': []}"
            ]
          },
          "metadata": {},
          "execution_count": 11
        },
        {
          "output_type": "display_data",
          "data": {
            "text/plain": [
              "<Figure size 640x480 with 1 Axes>"
            ],
            "image/png": "[encoded data removed]"
          },
          "metadata": {}
        }
      ]
    },
    {
      "cell_type": "code",
      "source": [
        "plt.title(\"Box Plot Showing the Distribution of 'BMI'\")\n",
        "plt.boxplot(data[\"BMI\"])"
      ],
      "metadata": {
        "collapsed": true,
        "id": "TmNoDEM_9ntx",
        "outputId": "d56bb74f-9b8d-4fb0-bde6-87817047d392",
        "colab": {
          "base_uri": "https://localhost:8080/",
          "height": 595
        }
      },
      "id": "TmNoDEM_9ntx",
      "execution_count": 12,
      "outputs": [
        {
          "output_type": "execute_result",
          "data": {
            "text/plain": [
              "{'whiskers': [<matplotlib.lines.Line2D at 0x7a44aac45280>,\n",
              "  <matplotlib.lines.Line2D at 0x7a44aac45580>],\n",
              " 'caps': [<matplotlib.lines.Line2D at 0x7a44aac458b0>,\n",
              "  <matplotlib.lines.Line2D at 0x7a44aac45ac0>],\n",
              " 'boxes': [<matplotlib.lines.Line2D at 0x7a44aac44fb0>],\n",
              " 'medians': [<matplotlib.lines.Line2D at 0x7a44aac45dc0>],\n",
              " 'fliers': [<matplotlib.lines.Line2D at 0x7a44aac460c0>],\n",
              " 'means': []}"
            ]
          },
          "metadata": {},
          "execution_count": 12
        },
        {
          "output_type": "display_data",
          "data": {
            "text/plain": [
              "<Figure size 640x480 with 1 Axes>"
            ],
            "image/png": "[encoded data removed]"
          },
          "metadata": {}
        }
      ]
    },
    {
      "cell_type": "code",
      "source": [
        "plt.title(\"Box Plot Showing the Distribution of 'family_income'\")\n",
        "plt.boxplot(data[\"family_income\"])"
      ],
      "metadata": {
        "collapsed": true,
        "id": "LPZPv6kA9pyW",
        "outputId": "a272e164-2fc0-45e5-b135-1fca423e0de3",
        "colab": {
          "base_uri": "https://localhost:8080/",
          "height": 595
        }
      },
      "id": "LPZPv6kA9pyW",
      "execution_count": 13,
      "outputs": [
        {
          "output_type": "execute_result",
          "data": {
            "text/plain": [
              "{'whiskers': [<matplotlib.lines.Line2D at 0x7a44aa9a9820>,\n",
              "  <matplotlib.lines.Line2D at 0x7a44aa9a9af0>],\n",
              " 'caps': [<matplotlib.lines.Line2D at 0x7a44aa9a9d90>,\n",
              "  <matplotlib.lines.Line2D at 0x7a44aa9aa090>],\n",
              " 'boxes': [<matplotlib.lines.Line2D at 0x7a44aa9a9550>],\n",
              " 'medians': [<matplotlib.lines.Line2D at 0x7a44aa9aa390>],\n",
              " 'fliers': [<matplotlib.lines.Line2D at 0x7a44aa9aa660>],\n",
              " 'means': []}"
            ]
          },
          "metadata": {},
          "execution_count": 13
        },
        {
          "output_type": "display_data",
          "data": {
            "text/plain": [
              "<Figure size 640x480 with 1 Axes>"
            ],
            "image/png": "[encoded data removed]"
          },
          "metadata": {}
        }
      ]
    },
    {
      "cell_type": "markdown",
      "id": "blocked-variation",
      "metadata": {
        "id": "blocked-variation"
      },
      "source": [
        "For the categorical features, we can also tabulate the frequency that each category\n",
        "occurs in the data set:"
      ]
    },
    {
      "cell_type": "code",
      "execution_count": 14,
      "id": "marked-respect",
      "metadata": {
        "id": "marked-respect",
        "outputId": "20691036-b3f6-4894-e38e-26b5f45e3df5",
        "colab": {
          "base_uri": "https://localhost:8080/",
          "height": 178
        }
      },
      "outputs": [
        {
          "output_type": "execute_result",
          "data": {
            "text/plain": [
              "gender\n",
              "1    4013\n",
              "2    3987\n",
              "Name: count, dtype: int64"
            ],
            "text/html": [
              "<div>\n",
              "<style scoped>\n",
              "    .dataframe tbody tr th:only-of-type {\n",
              "        vertical-align: middle;\n",
              "    }\n",
              "\n",
              "    .dataframe tbody tr th {\n",
              "        vertical-align: top;\n",
              "    }\n",
              "\n",
              "    .dataframe thead th {\n",
              "        text-align: right;\n",
              "    }\n",
              "</style>\n",
              "<table border=\"1\" class=\"dataframe\">\n",
              "  <thead>\n",
              "    <tr style=\"text-align: right;\">\n",
              "      <th></th>\n",
              "      <th>count</th>\n",
              "    </tr>\n",
              "    <tr>\n",
              "      <th>gender</th>\n",
              "      <th></th>\n",
              "    </tr>\n",
              "  </thead>\n",
              "  <tbody>\n",
              "    <tr>\n",
              "      <th>1</th>\n",
              "      <td>4013</td>\n",
              "    </tr>\n",
              "    <tr>\n",
              "      <th>2</th>\n",
              "      <td>3987</td>\n",
              "    </tr>\n",
              "  </tbody>\n",
              "</table>\n",
              "</div><br><label><b>dtype:</b> int64</label>"
            ]
          },
          "metadata": {},
          "execution_count": 14
        }
      ],
      "source": [
        "data['gender'].value_counts()"
      ]
    },
    {
      "cell_type": "code",
      "execution_count": 15,
      "id": "mediterranean-interest",
      "metadata": {
        "id": "mediterranean-interest",
        "outputId": "7cc64e04-0d80-41ec-d60f-e6c0f6bb7019",
        "colab": {
          "base_uri": "https://localhost:8080/",
          "height": 178
        }
      },
      "outputs": [
        {
          "output_type": "execute_result",
          "data": {
            "text/plain": [
              "drink_alcohol\n",
              "1.0    5565\n",
              "2.0    2435\n",
              "Name: count, dtype: int64"
            ],
            "text/html": [
              "<div>\n",
              "<style scoped>\n",
              "    .dataframe tbody tr th:only-of-type {\n",
              "        vertical-align: middle;\n",
              "    }\n",
              "\n",
              "    .dataframe tbody tr th {\n",
              "        vertical-align: top;\n",
              "    }\n",
              "\n",
              "    .dataframe thead th {\n",
              "        text-align: right;\n",
              "    }\n",
              "</style>\n",
              "<table border=\"1\" class=\"dataframe\">\n",
              "  <thead>\n",
              "    <tr style=\"text-align: right;\">\n",
              "      <th></th>\n",
              "      <th>count</th>\n",
              "    </tr>\n",
              "    <tr>\n",
              "      <th>drink_alcohol</th>\n",
              "      <th></th>\n",
              "    </tr>\n",
              "  </thead>\n",
              "  <tbody>\n",
              "    <tr>\n",
              "      <th>1.0</th>\n",
              "      <td>5565</td>\n",
              "    </tr>\n",
              "    <tr>\n",
              "      <th>2.0</th>\n",
              "      <td>2435</td>\n",
              "    </tr>\n",
              "  </tbody>\n",
              "</table>\n",
              "</div><br><label><b>dtype:</b> int64</label>"
            ]
          },
          "metadata": {},
          "execution_count": 15
        }
      ],
      "source": [
        "data['drink_alcohol'].value_counts()"
      ]
    },
    {
      "cell_type": "code",
      "execution_count": 16,
      "id": "alert-copper",
      "metadata": {
        "id": "alert-copper",
        "outputId": "561ad6be-fd1b-4c8b-e919-08a1c0e8d732",
        "colab": {
          "base_uri": "https://localhost:8080/",
          "height": 178
        }
      },
      "outputs": [
        {
          "output_type": "execute_result",
          "data": {
            "text/plain": [
              "chest_pain_ever\n",
              "2.0    5193\n",
              "1.0    2807\n",
              "Name: count, dtype: int64"
            ],
            "text/html": [
              "<div>\n",
              "<style scoped>\n",
              "    .dataframe tbody tr th:only-of-type {\n",
              "        vertical-align: middle;\n",
              "    }\n",
              "\n",
              "    .dataframe tbody tr th {\n",
              "        vertical-align: top;\n",
              "    }\n",
              "\n",
              "    .dataframe thead th {\n",
              "        text-align: right;\n",
              "    }\n",
              "</style>\n",
              "<table border=\"1\" class=\"dataframe\">\n",
              "  <thead>\n",
              "    <tr style=\"text-align: right;\">\n",
              "      <th></th>\n",
              "      <th>count</th>\n",
              "    </tr>\n",
              "    <tr>\n",
              "      <th>chest_pain_ever</th>\n",
              "      <th></th>\n",
              "    </tr>\n",
              "  </thead>\n",
              "  <tbody>\n",
              "    <tr>\n",
              "      <th>2.0</th>\n",
              "      <td>5193</td>\n",
              "    </tr>\n",
              "    <tr>\n",
              "      <th>1.0</th>\n",
              "      <td>2807</td>\n",
              "    </tr>\n",
              "  </tbody>\n",
              "</table>\n",
              "</div><br><label><b>dtype:</b> int64</label>"
            ]
          },
          "metadata": {},
          "execution_count": 16
        }
      ],
      "source": [
        "data['chest_pain_ever'].value_counts()"
      ]
    },
    {
      "cell_type": "markdown",
      "id": "smaller-lottery",
      "metadata": {
        "id": "smaller-lottery"
      },
      "source": [
        "We see there are roughly equal numbers of men and women in the dataset and the majority report they drink alcohol.  About 1 in 4 report that they have experienced chest pain at some point in their lives.\n",
        "\n",
        "Finally, let's take a look at the distribution of our target variable."
      ]
    },
    {
      "cell_type": "code",
      "execution_count": 17,
      "id": "statutory-hamburg",
      "metadata": {
        "id": "statutory-hamburg",
        "outputId": "7c53326f-f326-46cf-853c-cc626ff16707",
        "colab": {
          "base_uri": "https://localhost:8080/",
          "height": 178
        }
      },
      "outputs": [
        {
          "output_type": "execute_result",
          "data": {
            "text/plain": [
              "target_heart\n",
              "0.0    4000\n",
              "1.0    4000\n",
              "Name: count, dtype: int64"
            ],
            "text/html": [
              "<div>\n",
              "<style scoped>\n",
              "    .dataframe tbody tr th:only-of-type {\n",
              "        vertical-align: middle;\n",
              "    }\n",
              "\n",
              "    .dataframe tbody tr th {\n",
              "        vertical-align: top;\n",
              "    }\n",
              "\n",
              "    .dataframe thead th {\n",
              "        text-align: right;\n",
              "    }\n",
              "</style>\n",
              "<table border=\"1\" class=\"dataframe\">\n",
              "  <thead>\n",
              "    <tr style=\"text-align: right;\">\n",
              "      <th></th>\n",
              "      <th>count</th>\n",
              "    </tr>\n",
              "    <tr>\n",
              "      <th>target_heart</th>\n",
              "      <th></th>\n",
              "    </tr>\n",
              "  </thead>\n",
              "  <tbody>\n",
              "    <tr>\n",
              "      <th>0.0</th>\n",
              "      <td>4000</td>\n",
              "    </tr>\n",
              "    <tr>\n",
              "      <th>1.0</th>\n",
              "      <td>4000</td>\n",
              "    </tr>\n",
              "  </tbody>\n",
              "</table>\n",
              "</div><br><label><b>dtype:</b> int64</label>"
            ]
          },
          "metadata": {},
          "execution_count": 17
        }
      ],
      "source": [
        "data['target_heart'].value_counts()"
      ]
    },
    {
      "cell_type": "markdown",
      "id": "scheduled-gallery",
      "metadata": {
        "id": "scheduled-gallery"
      },
      "source": [
        "Note there are an equal number of cases that are labelled as having heart disease as not having heart disease.  This is both curious and convenient but it is absolutely **NOT** representative of the distribution of heart disease in the general population.  In the general population of Canada, about 1 in 12 (or 8%) have heart disease.  This is roughly the same as the distribution of reported heart disease across all NHANES survey respondents.  So why doesn't the data we are analyzing here reflect this distribution?  This is because we have sampled the NHANES survey data so as to **balance** the cases of heart disease against the cases without.\n",
        "\n",
        "**Task** Why did we create a dataset with a roughly equal number of data points that have `target_heart=1` and `target_heart=0`? In particular, what do you think might happen to our decision tree if we allowed 92% our training data to reflect the true prevalence of heart disease? <!-- ... and to therefore consist of data points with `target_heart=0`? -->"
      ]
    },
    {
      "cell_type": "code",
      "execution_count": 18,
      "id": "fancy-closure",
      "metadata": {
        "id": "fancy-closure"
      },
      "outputs": [],
      "source": [
        "# With highly imbalanced data, a decision tree tends to favor the majority class\n",
        "# and fails to learn the minority class features.\n",
        "# This leads to high overall accuracy but poor performance on the minority class,\n",
        "# making the predictions unreliable."
      ]
    },
    {
      "cell_type": "markdown",
      "id": "olive-message",
      "metadata": {
        "id": "olive-message"
      },
      "source": [
        "**Task**: Let's continue exploring our data by plotting separate box plots for people with heart disease and people without heart disease. These box plots for (for `blood_cholesterol`, `age`, `calories` and `BMI`) should give you a sense of whether people with heart disease are\n",
        "different from those without heart disease, according to each of these characteristics. You should see that those with heart disease are, on average, older."
      ]
    },
    {
      "cell_type": "code",
      "execution_count": 19,
      "id": "scientific-generator",
      "metadata": {
        "id": "scientific-generator",
        "outputId": "a75e2533-e617-45ba-8939-f4e675a2ab09",
        "colab": {
          "base_uri": "https://localhost:8080/",
          "height": 496
        }
      },
      "outputs": [
        {
          "output_type": "execute_result",
          "data": {
            "text/plain": [
              "<Axes: title={'center': 'blood_cholesterol'}, xlabel='target_heart'>"
            ]
          },
          "metadata": {},
          "execution_count": 19
        },
        {
          "output_type": "display_data",
          "data": {
            "text/plain": [
              "<Figure size 640x480 with 1 Axes>"
            ],
            "image/png": "[encoded data removed]"
          },
          "metadata": {}
        }
      ],
      "source": [
        "# analyze the distribution of blood_cholesterol for people with and without heart disease\n",
        "data.boxplot(column='blood_cholesterol', by='target_heart')"
      ]
    },
    {
      "cell_type": "code",
      "source": [
        "# analyze the distribution of age for people with and without heart disease\n",
        "data.boxplot(column='age', by='target_heart')"
      ],
      "metadata": {
        "id": "8lEafGAmOTc5",
        "outputId": "9dda2cbd-f3f6-4ff9-c492-a973483b5ef4",
        "colab": {
          "base_uri": "https://localhost:8080/",
          "height": 496
        }
      },
      "id": "8lEafGAmOTc5",
      "execution_count": 20,
      "outputs": [
        {
          "output_type": "execute_result",
          "data": {
            "text/plain": [
              "<Axes: title={'center': 'age'}, xlabel='target_heart'>"
            ]
          },
          "metadata": {},
          "execution_count": 20
        },
        {
          "output_type": "display_data",
          "data": {
            "text/plain": [
              "<Figure size 640x480 with 1 Axes>"
            ],
            "image/png": "[encoded data removed]"
          },
          "metadata": {}
        }
      ]
    },
    {
      "cell_type": "code",
      "source": [
        "# analyze the distribution of calories for people with and without heart disease\n",
        "data.boxplot(column='calories', by='target_heart')"
      ],
      "metadata": {
        "id": "AtLOchahOZd9",
        "outputId": "52a0f05d-ed9b-4b3f-8131-35e959b1e8f2",
        "colab": {
          "base_uri": "https://localhost:8080/",
          "height": 496
        }
      },
      "id": "AtLOchahOZd9",
      "execution_count": 21,
      "outputs": [
        {
          "output_type": "execute_result",
          "data": {
            "text/plain": [
              "<Axes: title={'center': 'calories'}, xlabel='target_heart'>"
            ]
          },
          "metadata": {},
          "execution_count": 21
        },
        {
          "output_type": "display_data",
          "data": {
            "text/plain": [
              "<Figure size 640x480 with 1 Axes>"
            ],
            "image/png": "[encoded data removed]"
          },
          "metadata": {}
        }
      ]
    },
    {
      "cell_type": "code",
      "source": [
        "# analyze the distribution of BMI for people with and without heart disease\n",
        "data.boxplot(column='BMI', by='target_heart')"
      ],
      "metadata": {
        "id": "4LU3U8h3Od0L",
        "outputId": "339da4cc-163b-4b13-886e-8565b14fe9d6",
        "colab": {
          "base_uri": "https://localhost:8080/",
          "height": 496
        }
      },
      "id": "4LU3U8h3Od0L",
      "execution_count": 22,
      "outputs": [
        {
          "output_type": "execute_result",
          "data": {
            "text/plain": [
              "<Axes: title={'center': 'BMI'}, xlabel='target_heart'>"
            ]
          },
          "metadata": {},
          "execution_count": 22
        },
        {
          "output_type": "display_data",
          "data": {
            "text/plain": [
              "<Figure size 640x480 with 1 Axes>"
            ],
            "image/png": "[encoded data removed]"
          },
          "metadata": {}
        }
      ]
    },
    {
      "cell_type": "markdown",
      "id": "empirical-jaguar",
      "metadata": {
        "id": "empirical-jaguar"
      },
      "source": [
        "**Task**: We will do the same type of exploration for the categorical\n",
        "variables. Read the documentation for\n",
        "[pandas.crosstab](https://pandas.pydata.org/docs/reference/api/pandas.crosstab.html)\n",
        "so that you can explain the results of the following calls:"
      ]
    },
    {
      "cell_type": "code",
      "execution_count": 23,
      "id": "interesting-kelly",
      "metadata": {
        "id": "interesting-kelly",
        "outputId": "213989cb-2125-4fe8-ab35-465378bb861f",
        "colab": {
          "base_uri": "https://localhost:8080/",
          "height": 143
        }
      },
      "outputs": [
        {
          "output_type": "execute_result",
          "data": {
            "text/plain": [
              "gender           1     2\n",
              "target_heart            \n",
              "0.0           1819  2181\n",
              "1.0           2194  1806"
            ],
            "text/html": [
              "\n",
              "  <div id=\"df-a58bb4c2-2789-43ad-8409-4ed8b95d8080\" class=\"colab-df-container\">\n",
              "    <div>\n",
              "<style scoped>\n",
              "    .dataframe tbody tr th:only-of-type {\n",
              "        vertical-align: middle;\n",
              "    }\n",
              "\n",
              "    .dataframe tbody tr th {\n",
              "        vertical-align: top;\n",
              "    }\n",
              "\n",
              "    .dataframe thead th {\n",
              "        text-align: right;\n",
              "    }\n",
              "</style>\n",
              "<table border=\"1\" class=\"dataframe\">\n",
              "  <thead>\n",
              "    <tr style=\"text-align: right;\">\n",
              "      <th>gender</th>\n",
              "      <th>1</th>\n",
              "      <th>2</th>\n",
              "    </tr>\n",
              "    <tr>\n",
              "      <th>target_heart</th>\n",
              "      <th></th>\n",
              "      <th></th>\n",
              "    </tr>\n",
              "  </thead>\n",
              "  <tbody>\n",
              "    <tr>\n",
              "      <th>0.0</th>\n",
              "      <td>1819</td>\n",
              "      <td>2181</td>\n",
              "    </tr>\n",
              "    <tr>\n",
              "      <th>1.0</th>\n",
              "      <td>2194</td>\n",
              "      <td>1806</td>\n",
              "    </tr>\n",
              "  </tbody>\n",
              "</table>\n",
              "</div>\n",
              "    <div class=\"colab-df-buttons\">\n",
              "\n",
              "  <div class=\"colab-df-container\">\n",
              "    <button class=\"colab-df-convert\" onclick=\"convertToInteractive('df-a58bb4c2-2789-43ad-8409-4ed8b95d8080')\"\n",
              "            title=\"Convert this dataframe to an interactive table.\"\n",
              "            style=\"display:none;\">\n",
              "\n",
              "  <svg xmlns=\"http://www.w3.org/2000/svg\" height=\"24px\" viewBox=\"0 -960 960 960\">\n",
              "    <path d=\"M120-120v-720h720v720H120Zm60-500h600v-160H180v160Zm220 220h160v-160H400v160Zm0 220h160v-160H400v160ZM180-400h160v-160H180v160Zm440 0h160v-160H620v160ZM180-180h160v-160H180v160Zm440 0h160v-160H620v160Z\"/>\n",
              "  </svg>\n",
              "    </button>\n",
              "\n",
              "  <style>\n",
              "    .colab-df-container {\n",
              "      display:flex;\n",
              "      gap: 12px;\n",
              "    }\n",
              "\n",
              "    .colab-df-convert {\n",
              "      background-color: #E8F0FE;\n",
              "      border: none;\n",
              "      border-radius: 50%;\n",
              "      cursor: pointer;\n",
              "      display: none;\n",
              "      fill: #1967D2;\n",
              "      height: 32px;\n",
              "      padding: 0 0 0 0;\n",
              "      width: 32px;\n",
              "    }\n",
              "\n",
              "    .colab-df-convert:hover {\n",
              "      background-color: #E2EBFA;\n",
              "      box-shadow: 0px 1px 2px rgba(60, 64, 67, 0.3), 0px 1px 3px 1px rgba(60, 64, 67, 0.15);\n",
              "      fill: #174EA6;\n",
              "    }\n",
              "\n",
              "    .colab-df-buttons div {\n",
              "      margin-bottom: 4px;\n",
              "    }\n",
              "\n",
              "    [theme=dark] .colab-df-convert {\n",
              "      background-color: #3B4455;\n",
              "      fill: #D2E3FC;\n",
              "    }\n",
              "\n",
              "    [theme=dark] .colab-df-convert:hover {\n",
              "      background-color: #434B5C;\n",
              "      box-shadow: 0px 1px 3px 1px rgba(0, 0, 0, 0.15);\n",
              "      filter: drop-shadow(0px 1px 2px rgba(0, 0, 0, 0.3));\n",
              "      fill: #FFFFFF;\n",
              "    }\n",
              "  </style>\n",
              "\n",
              "    <script>\n",
              "      const buttonEl =\n",
              "        document.querySelector('#df-a58bb4c2-2789-43ad-8409-4ed8b95d8080 button.colab-df-convert');\n",
              "      buttonEl.style.display =\n",
              "        google.colab.kernel.accessAllowed ? 'block' : 'none';\n",
              "\n",
              "      async function convertToInteractive(key) {\n",
              "        const element = document.querySelector('#df-a58bb4c2-2789-43ad-8409-4ed8b95d8080');\n",
              "        const dataTable =\n",
              "          await google.colab.kernel.invokeFunction('convertToInteractive',\n",
              "                                                    [key], {});\n",
              "        if (!dataTable) return;\n",
              "\n",
              "        const docLinkHtml = 'Like what you see? Visit the ' +\n",
              "          '<a target=\"_blank\" href=https://colab.research.google.com/notebooks/data_table.ipynb>data table notebook</a>'\n",
              "          + ' to learn more about interactive tables.';\n",
              "        element.innerHTML = '';\n",
              "        dataTable['output_type'] = 'display_data';\n",
              "        await google.colab.output.renderOutput(dataTable, element);\n",
              "        const docLink = document.createElement('div');\n",
              "        docLink.innerHTML = docLinkHtml;\n",
              "        element.appendChild(docLink);\n",
              "      }\n",
              "    </script>\n",
              "  </div>\n",
              "\n",
              "\n",
              "    <div id=\"df-7d8bad70-0075-4373-9d04-b55a08fafb98\">\n",
              "      <button class=\"colab-df-quickchart\" onclick=\"quickchart('df-7d8bad70-0075-4373-9d04-b55a08fafb98')\"\n",
              "                title=\"Suggest charts\"\n",
              "                style=\"display:none;\">\n",
              "\n",
              "<svg xmlns=\"http://www.w3.org/2000/svg\" height=\"24px\"viewBox=\"0 0 24 24\"\n",
              "     width=\"24px\">\n",
              "    <g>\n",
              "        <path d=\"M19 3H5c-1.1 0-2 .9-2 2v14c0 1.1.9 2 2 2h14c1.1 0 2-.9 2-2V5c0-1.1-.9-2-2-2zM9 17H7v-7h2v7zm4 0h-2V7h2v10zm4 0h-2v-4h2v4z\"/>\n",
              "    </g>\n",
              "</svg>\n",
              "      </button>\n",
              "\n",
              "<style>\n",
              "  .colab-df-quickchart {\n",
              "      --bg-color: #E8F0FE;\n",
              "      --fill-color: #1967D2;\n",
              "      --hover-bg-color: #E2EBFA;\n",
              "      --hover-fill-color: #174EA6;\n",
              "      --disabled-fill-color: #AAA;\n",
              "      --disabled-bg-color: #DDD;\n",
              "  }\n",
              "\n",
              "  [theme=dark] .colab-df-quickchart {\n",
              "      --bg-color: #3B4455;\n",
              "      --fill-color: #D2E3FC;\n",
              "      --hover-bg-color: #434B5C;\n",
              "      --hover-fill-color: #FFFFFF;\n",
              "      --disabled-bg-color: #3B4455;\n",
              "      --disabled-fill-color: #666;\n",
              "  }\n",
              "\n",
              "  .colab-df-quickchart {\n",
              "    background-color: var(--bg-color);\n",
              "    border: none;\n",
              "    border-radius: 50%;\n",
              "    cursor: pointer;\n",
              "    display: none;\n",
              "    fill: var(--fill-color);\n",
              "    height: 32px;\n",
              "    padding: 0;\n",
              "    width: 32px;\n",
              "  }\n",
              "\n",
              "  .colab-df-quickchart:hover {\n",
              "    background-color: var(--hover-bg-color);\n",
              "    box-shadow: 0 1px 2px rgba(60, 64, 67, 0.3), 0 1px 3px 1px rgba(60, 64, 67, 0.15);\n",
              "    fill: var(--button-hover-fill-color);\n",
              "  }\n",
              "\n",
              "  .colab-df-quickchart-complete:disabled,\n",
              "  .colab-df-quickchart-complete:disabled:hover {\n",
              "    background-color: var(--disabled-bg-color);\n",
              "    fill: var(--disabled-fill-color);\n",
              "    box-shadow: none;\n",
              "  }\n",
              "\n",
              "  .colab-df-spinner {\n",
              "    border: 2px solid var(--fill-color);\n",
              "    border-color: transparent;\n",
              "    border-bottom-color: var(--fill-color);\n",
              "    animation:\n",
              "      spin 1s steps(1) infinite;\n",
              "  }\n",
              "\n",
              "  @keyframes spin {\n",
              "    0% {\n",
              "      border-color: transparent;\n",
              "      border-bottom-color: var(--fill-color);\n",
              "      border-left-color: var(--fill-color);\n",
              "    }\n",
              "    20% {\n",
              "      border-color: transparent;\n",
              "      border-left-color: var(--fill-color);\n",
              "      border-top-color: var(--fill-color);\n",
              "    }\n",
              "    30% {\n",
              "      border-color: transparent;\n",
              "      border-left-color: var(--fill-color);\n",
              "      border-top-color: var(--fill-color);\n",
              "      border-right-color: var(--fill-color);\n",
              "    }\n",
              "    40% {\n",
              "      border-color: transparent;\n",
              "      border-right-color: var(--fill-color);\n",
              "      border-top-color: var(--fill-color);\n",
              "    }\n",
              "    60% {\n",
              "      border-color: transparent;\n",
              "      border-right-color: var(--fill-color);\n",
              "    }\n",
              "    80% {\n",
              "      border-color: transparent;\n",
              "      border-right-color: var(--fill-color);\n",
              "      border-bottom-color: var(--fill-color);\n",
              "    }\n",
              "    90% {\n",
              "      border-color: transparent;\n",
              "      border-bottom-color: var(--fill-color);\n",
              "    }\n",
              "  }\n",
              "</style>\n",
              "\n",
              "      <script>\n",
              "        async function quickchart(key) {\n",
              "          const quickchartButtonEl =\n",
              "            document.querySelector('#' + key + ' button');\n",
              "          quickchartButtonEl.disabled = true;  // To prevent multiple clicks.\n",
              "          quickchartButtonEl.classList.add('colab-df-spinner');\n",
              "          try {\n",
              "            const charts = await google.colab.kernel.invokeFunction(\n",
              "                'suggestCharts', [key], {});\n",
              "          } catch (error) {\n",
              "            console.error('Error during call to suggestCharts:', error);\n",
              "          }\n",
              "          quickchartButtonEl.classList.remove('colab-df-spinner');\n",
              "          quickchartButtonEl.classList.add('colab-df-quickchart-complete');\n",
              "        }\n",
              "        (() => {\n",
              "          let quickchartButtonEl =\n",
              "            document.querySelector('#df-7d8bad70-0075-4373-9d04-b55a08fafb98 button');\n",
              "          quickchartButtonEl.style.display =\n",
              "            google.colab.kernel.accessAllowed ? 'block' : 'none';\n",
              "        })();\n",
              "      </script>\n",
              "    </div>\n",
              "\n",
              "    </div>\n",
              "  </div>\n"
            ],
            "application/vnd.google.colaboratory.intrinsic+json": {
              "type": "dataframe",
              "summary": "{\n  \"name\": \"pd\",\n  \"rows\": 2,\n  \"fields\": [\n    {\n      \"column\": \"target_heart\",\n      \"properties\": {\n        \"dtype\": \"number\",\n        \"std\": 0.7071067811865476,\n        \"min\": 0.0,\n        \"max\": 1.0,\n        \"num_unique_values\": 2,\n        \"samples\": [\n          1.0,\n          0.0\n        ],\n        \"semantic_type\": \"\",\n        \"description\": \"\"\n      }\n    },\n    {\n      \"column\": 1,\n      \"properties\": {\n        \"dtype\": \"number\",\n        \"std\": 265,\n        \"min\": 1819,\n        \"max\": 2194,\n        \"num_unique_values\": 2,\n        \"samples\": [\n          2194,\n          1819\n        ],\n        \"semantic_type\": \"\",\n        \"description\": \"\"\n      }\n    },\n    {\n      \"column\": 2,\n      \"properties\": {\n        \"dtype\": \"number\",\n        \"std\": 265,\n        \"min\": 1806,\n        \"max\": 2181,\n        \"num_unique_values\": 2,\n        \"samples\": [\n          1806,\n          2181\n        ],\n        \"semantic_type\": \"\",\n        \"description\": \"\"\n      }\n    }\n  ]\n}"
            }
          },
          "metadata": {},
          "execution_count": 23
        }
      ],
      "source": [
        "pd.crosstab(data[\"target_heart\"], data[\"gender\"])"
      ]
    },
    {
      "cell_type": "code",
      "execution_count": 24,
      "id": "living-nashville",
      "metadata": {
        "id": "living-nashville",
        "outputId": "d704c2d8-004e-474f-b77d-616a3eed16c0",
        "colab": {
          "base_uri": "https://localhost:8080/",
          "height": 143
        }
      },
      "outputs": [
        {
          "output_type": "execute_result",
          "data": {
            "text/plain": [
              "drink_alcohol   1.0   2.0\n",
              "target_heart             \n",
              "0.0            2824  1176\n",
              "1.0            2741  1259"
            ],
            "text/html": [
              "\n",
              "  <div id=\"df-ade36b25-2056-4a27-8cb6-97978ad9c9aa\" class=\"colab-df-container\">\n",
              "    <div>\n",
              "<style scoped>\n",
              "    .dataframe tbody tr th:only-of-type {\n",
              "        vertical-align: middle;\n",
              "    }\n",
              "\n",
              "    .dataframe tbody tr th {\n",
              "        vertical-align: top;\n",
              "    }\n",
              "\n",
              "    .dataframe thead th {\n",
              "        text-align: right;\n",
              "    }\n",
              "</style>\n",
              "<table border=\"1\" class=\"dataframe\">\n",
              "  <thead>\n",
              "    <tr style=\"text-align: right;\">\n",
              "      <th>drink_alcohol</th>\n",
              "      <th>1.0</th>\n",
              "      <th>2.0</th>\n",
              "    </tr>\n",
              "    <tr>\n",
              "      <th>target_heart</th>\n",
              "      <th></th>\n",
              "      <th></th>\n",
              "    </tr>\n",
              "  </thead>\n",
              "  <tbody>\n",
              "    <tr>\n",
              "      <th>0.0</th>\n",
              "      <td>2824</td>\n",
              "      <td>1176</td>\n",
              "    </tr>\n",
              "    <tr>\n",
              "      <th>1.0</th>\n",
              "      <td>2741</td>\n",
              "      <td>1259</td>\n",
              "    </tr>\n",
              "  </tbody>\n",
              "</table>\n",
              "</div>\n",
              "    <div class=\"colab-df-buttons\">\n",
              "\n",
              "  <div class=\"colab-df-container\">\n",
              "    <button class=\"colab-df-convert\" onclick=\"convertToInteractive('df-ade36b25-2056-4a27-8cb6-97978ad9c9aa')\"\n",
              "            title=\"Convert this dataframe to an interactive table.\"\n",
              "            style=\"display:none;\">\n",
              "\n",
              "  <svg xmlns=\"http://www.w3.org/2000/svg\" height=\"24px\" viewBox=\"0 -960 960 960\">\n",
              "    <path d=\"M120-120v-720h720v720H120Zm60-500h600v-160H180v160Zm220 220h160v-160H400v160Zm0 220h160v-160H400v160ZM180-400h160v-160H180v160Zm440 0h160v-160H620v160ZM180-180h160v-160H180v160Zm440 0h160v-160H620v160Z\"/>\n",
              "  </svg>\n",
              "    </button>\n",
              "\n",
              "  <style>\n",
              "    .colab-df-container {\n",
              "      display:flex;\n",
              "      gap: 12px;\n",
              "    }\n",
              "\n",
              "    .colab-df-convert {\n",
              "      background-color: #E8F0FE;\n",
              "      border: none;\n",
              "      border-radius: 50%;\n",
              "      cursor: pointer;\n",
              "      display: none;\n",
              "      fill: #1967D2;\n",
              "      height: 32px;\n",
              "      padding: 0 0 0 0;\n",
              "      width: 32px;\n",
              "    }\n",
              "\n",
              "    .colab-df-convert:hover {\n",
              "      background-color: #E2EBFA;\n",
              "      box-shadow: 0px 1px 2px rgba(60, 64, 67, 0.3), 0px 1px 3px 1px rgba(60, 64, 67, 0.15);\n",
              "      fill: #174EA6;\n",
              "    }\n",
              "\n",
              "    .colab-df-buttons div {\n",
              "      margin-bottom: 4px;\n",
              "    }\n",
              "\n",
              "    [theme=dark] .colab-df-convert {\n",
              "      background-color: #3B4455;\n",
              "      fill: #D2E3FC;\n",
              "    }\n",
              "\n",
              "    [theme=dark] .colab-df-convert:hover {\n",
              "      background-color: #434B5C;\n",
              "      box-shadow: 0px 1px 3px 1px rgba(0, 0, 0, 0.15);\n",
              "      filter: drop-shadow(0px 1px 2px rgba(0, 0, 0, 0.3));\n",
              "      fill: #FFFFFF;\n",
              "    }\n",
              "  </style>\n",
              "\n",
              "    <script>\n",
              "      const buttonEl =\n",
              "        document.querySelector('#df-ade36b25-2056-4a27-8cb6-97978ad9c9aa button.colab-df-convert');\n",
              "      buttonEl.style.display =\n",
              "        google.colab.kernel.accessAllowed ? 'block' : 'none';\n",
              "\n",
              "      async function convertToInteractive(key) {\n",
              "        const element = document.querySelector('#df-ade36b25-2056-4a27-8cb6-97978ad9c9aa');\n",
              "        const dataTable =\n",
              "          await google.colab.kernel.invokeFunction('convertToInteractive',\n",
              "                                                    [key], {});\n",
              "        if (!dataTable) return;\n",
              "\n",
              "        const docLinkHtml = 'Like what you see? Visit the ' +\n",
              "          '<a target=\"_blank\" href=https://colab.research.google.com/notebooks/data_table.ipynb>data table notebook</a>'\n",
              "          + ' to learn more about interactive tables.';\n",
              "        element.innerHTML = '';\n",
              "        dataTable['output_type'] = 'display_data';\n",
              "        await google.colab.output.renderOutput(dataTable, element);\n",
              "        const docLink = document.createElement('div');\n",
              "        docLink.innerHTML = docLinkHtml;\n",
              "        element.appendChild(docLink);\n",
              "      }\n",
              "    </script>\n",
              "  </div>\n",
              "\n",
              "\n",
              "    <div id=\"df-d356c70e-9699-4d17-a7fc-5ca1678d3f08\">\n",
              "      <button class=\"colab-df-quickchart\" onclick=\"quickchart('df-d356c70e-9699-4d17-a7fc-5ca1678d3f08')\"\n",
              "                title=\"Suggest charts\"\n",
              "                style=\"display:none;\">\n",
              "\n",
              "<svg xmlns=\"http://www.w3.org/2000/svg\" height=\"24px\"viewBox=\"0 0 24 24\"\n",
              "     width=\"24px\">\n",
              "    <g>\n",
              "        <path d=\"M19 3H5c-1.1 0-2 .9-2 2v14c0 1.1.9 2 2 2h14c1.1 0 2-.9 2-2V5c0-1.1-.9-2-2-2zM9 17H7v-7h2v7zm4 0h-2V7h2v10zm4 0h-2v-4h2v4z\"/>\n",
              "    </g>\n",
              "</svg>\n",
              "      </button>\n",
              "\n",
              "<style>\n",
              "  .colab-df-quickchart {\n",
              "      --bg-color: #E8F0FE;\n",
              "      --fill-color: #1967D2;\n",
              "      --hover-bg-color: #E2EBFA;\n",
              "      --hover-fill-color: #174EA6;\n",
              "      --disabled-fill-color: #AAA;\n",
              "      --disabled-bg-color: #DDD;\n",
              "  }\n",
              "\n",
              "  [theme=dark] .colab-df-quickchart {\n",
              "      --bg-color: #3B4455;\n",
              "      --fill-color: #D2E3FC;\n",
              "      --hover-bg-color: #434B5C;\n",
              "      --hover-fill-color: #FFFFFF;\n",
              "      --disabled-bg-color: #3B4455;\n",
              "      --disabled-fill-color: #666;\n",
              "  }\n",
              "\n",
              "  .colab-df-quickchart {\n",
              "    background-color: var(--bg-color);\n",
              "    border: none;\n",
              "    border-radius: 50%;\n",
              "    cursor: pointer;\n",
              "    display: none;\n",
              "    fill: var(--fill-color);\n",
              "    height: 32px;\n",
              "    padding: 0;\n",
              "    width: 32px;\n",
              "  }\n",
              "\n",
              "  .colab-df-quickchart:hover {\n",
              "    background-color: var(--hover-bg-color);\n",
              "    box-shadow: 0 1px 2px rgba(60, 64, 67, 0.3), 0 1px 3px 1px rgba(60, 64, 67, 0.15);\n",
              "    fill: var(--button-hover-fill-color);\n",
              "  }\n",
              "\n",
              "  .colab-df-quickchart-complete:disabled,\n",
              "  .colab-df-quickchart-complete:disabled:hover {\n",
              "    background-color: var(--disabled-bg-color);\n",
              "    fill: var(--disabled-fill-color);\n",
              "    box-shadow: none;\n",
              "  }\n",
              "\n",
              "  .colab-df-spinner {\n",
              "    border: 2px solid var(--fill-color);\n",
              "    border-color: transparent;\n",
              "    border-bottom-color: var(--fill-color);\n",
              "    animation:\n",
              "      spin 1s steps(1) infinite;\n",
              "  }\n",
              "\n",
              "  @keyframes spin {\n",
              "    0% {\n",
              "      border-color: transparent;\n",
              "      border-bottom-color: var(--fill-color);\n",
              "      border-left-color: var(--fill-color);\n",
              "    }\n",
              "    20% {\n",
              "      border-color: transparent;\n",
              "      border-left-color: var(--fill-color);\n",
              "      border-top-color: var(--fill-color);\n",
              "    }\n",
              "    30% {\n",
              "      border-color: transparent;\n",
              "      border-left-color: var(--fill-color);\n",
              "      border-top-color: var(--fill-color);\n",
              "      border-right-color: var(--fill-color);\n",
              "    }\n",
              "    40% {\n",
              "      border-color: transparent;\n",
              "      border-right-color: var(--fill-color);\n",
              "      border-top-color: var(--fill-color);\n",
              "    }\n",
              "    60% {\n",
              "      border-color: transparent;\n",
              "      border-right-color: var(--fill-color);\n",
              "    }\n",
              "    80% {\n",
              "      border-color: transparent;\n",
              "      border-right-color: var(--fill-color);\n",
              "      border-bottom-color: var(--fill-color);\n",
              "    }\n",
              "    90% {\n",
              "      border-color: transparent;\n",
              "      border-bottom-color: var(--fill-color);\n",
              "    }\n",
              "  }\n",
              "</style>\n",
              "\n",
              "      <script>\n",
              "        async function quickchart(key) {\n",
              "          const quickchartButtonEl =\n",
              "            document.querySelector('#' + key + ' button');\n",
              "          quickchartButtonEl.disabled = true;  // To prevent multiple clicks.\n",
              "          quickchartButtonEl.classList.add('colab-df-spinner');\n",
              "          try {\n",
              "            const charts = await google.colab.kernel.invokeFunction(\n",
              "                'suggestCharts', [key], {});\n",
              "          } catch (error) {\n",
              "            console.error('Error during call to suggestCharts:', error);\n",
              "          }\n",
              "          quickchartButtonEl.classList.remove('colab-df-spinner');\n",
              "          quickchartButtonEl.classList.add('colab-df-quickchart-complete');\n",
              "        }\n",
              "        (() => {\n",
              "          let quickchartButtonEl =\n",
              "            document.querySelector('#df-d356c70e-9699-4d17-a7fc-5ca1678d3f08 button');\n",
              "          quickchartButtonEl.style.display =\n",
              "            google.colab.kernel.accessAllowed ? 'block' : 'none';\n",
              "        })();\n",
              "      </script>\n",
              "    </div>\n",
              "\n",
              "    </div>\n",
              "  </div>\n"
            ],
            "application/vnd.google.colaboratory.intrinsic+json": {
              "type": "dataframe",
              "summary": "{\n  \"name\": \"pd\",\n  \"rows\": 2,\n  \"fields\": [\n    {\n      \"column\": \"target_heart\",\n      \"properties\": {\n        \"dtype\": \"number\",\n        \"std\": 0.7071067811865476,\n        \"min\": 0.0,\n        \"max\": 1.0,\n        \"num_unique_values\": 2,\n        \"samples\": [\n          1.0,\n          0.0\n        ],\n        \"semantic_type\": \"\",\n        \"description\": \"\"\n      }\n    },\n    {\n      \"column\": 1.0,\n      \"properties\": {\n        \"dtype\": \"number\",\n        \"std\": 58,\n        \"min\": 2741,\n        \"max\": 2824,\n        \"num_unique_values\": 2,\n        \"samples\": [\n          2741,\n          2824\n        ],\n        \"semantic_type\": \"\",\n        \"description\": \"\"\n      }\n    },\n    {\n      \"column\": 2.0,\n      \"properties\": {\n        \"dtype\": \"number\",\n        \"std\": 58,\n        \"min\": 1176,\n        \"max\": 1259,\n        \"num_unique_values\": 2,\n        \"samples\": [\n          1259,\n          1176\n        ],\n        \"semantic_type\": \"\",\n        \"description\": \"\"\n      }\n    }\n  ]\n}"
            }
          },
          "metadata": {},
          "execution_count": 24
        }
      ],
      "source": [
        "pd.crosstab(data[\"target_heart\"], data[\"drink_alcohol\"])"
      ]
    },
    {
      "cell_type": "code",
      "execution_count": 25,
      "id": "ideal-registrar",
      "metadata": {
        "id": "ideal-registrar",
        "outputId": "1515c324-c297-4244-9698-47b2c033050c",
        "colab": {
          "base_uri": "https://localhost:8080/",
          "height": 143
        }
      },
      "outputs": [
        {
          "output_type": "execute_result",
          "data": {
            "text/plain": [
              "chest_pain_ever   1.0   2.0\n",
              "target_heart               \n",
              "0.0               791  3209\n",
              "1.0              2016  1984"
            ],
            "text/html": [
              "\n",
              "  <div id=\"df-3a6e2263-1022-4b57-b93e-4e94b7bf013f\" class=\"colab-df-container\">\n",
              "    <div>\n",
              "<style scoped>\n",
              "    .dataframe tbody tr th:only-of-type {\n",
              "        vertical-align: middle;\n",
              "    }\n",
              "\n",
              "    .dataframe tbody tr th {\n",
              "        vertical-align: top;\n",
              "    }\n",
              "\n",
              "    .dataframe thead th {\n",
              "        text-align: right;\n",
              "    }\n",
              "</style>\n",
              "<table border=\"1\" class=\"dataframe\">\n",
              "  <thead>\n",
              "    <tr style=\"text-align: right;\">\n",
              "      <th>chest_pain_ever</th>\n",
              "      <th>1.0</th>\n",
              "      <th>2.0</th>\n",
              "    </tr>\n",
              "    <tr>\n",
              "      <th>target_heart</th>\n",
              "      <th></th>\n",
              "      <th></th>\n",
              "    </tr>\n",
              "  </thead>\n",
              "  <tbody>\n",
              "    <tr>\n",
              "      <th>0.0</th>\n",
              "      <td>791</td>\n",
              "      <td>3209</td>\n",
              "    </tr>\n",
              "    <tr>\n",
              "      <th>1.0</th>\n",
              "      <td>2016</td>\n",
              "      <td>1984</td>\n",
              "    </tr>\n",
              "  </tbody>\n",
              "</table>\n",
              "</div>\n",
              "    <div class=\"colab-df-buttons\">\n",
              "\n",
              "  <div class=\"colab-df-container\">\n",
              "    <button class=\"colab-df-convert\" onclick=\"convertToInteractive('df-3a6e2263-1022-4b57-b93e-4e94b7bf013f')\"\n",
              "            title=\"Convert this dataframe to an interactive table.\"\n",
              "            style=\"display:none;\">\n",
              "\n",
              "  <svg xmlns=\"http://www.w3.org/2000/svg\" height=\"24px\" viewBox=\"0 -960 960 960\">\n",
              "    <path d=\"M120-120v-720h720v720H120Zm60-500h600v-160H180v160Zm220 220h160v-160H400v160Zm0 220h160v-160H400v160ZM180-400h160v-160H180v160Zm440 0h160v-160H620v160ZM180-180h160v-160H180v160Zm440 0h160v-160H620v160Z\"/>\n",
              "  </svg>\n",
              "    </button>\n",
              "\n",
              "  <style>\n",
              "    .colab-df-container {\n",
              "      display:flex;\n",
              "      gap: 12px;\n",
              "    }\n",
              "\n",
              "    .colab-df-convert {\n",
              "      background-color: #E8F0FE;\n",
              "      border: none;\n",
              "      border-radius: 50%;\n",
              "      cursor: pointer;\n",
              "      display: none;\n",
              "      fill: #1967D2;\n",
              "      height: 32px;\n",
              "      padding: 0 0 0 0;\n",
              "      width: 32px;\n",
              "    }\n",
              "\n",
              "    .colab-df-convert:hover {\n",
              "      background-color: #E2EBFA;\n",
              "      box-shadow: 0px 1px 2px rgba(60, 64, 67, 0.3), 0px 1px 3px 1px rgba(60, 64, 67, 0.15);\n",
              "      fill: #174EA6;\n",
              "    }\n",
              "\n",
              "    .colab-df-buttons div {\n",
              "      margin-bottom: 4px;\n",
              "    }\n",
              "\n",
              "    [theme=dark] .colab-df-convert {\n",
              "      background-color: #3B4455;\n",
              "      fill: #D2E3FC;\n",
              "    }\n",
              "\n",
              "    [theme=dark] .colab-df-convert:hover {\n",
              "      background-color: #434B5C;\n",
              "      box-shadow: 0px 1px 3px 1px rgba(0, 0, 0, 0.15);\n",
              "      filter: drop-shadow(0px 1px 2px rgba(0, 0, 0, 0.3));\n",
              "      fill: #FFFFFF;\n",
              "    }\n",
              "  </style>\n",
              "\n",
              "    <script>\n",
              "      const buttonEl =\n",
              "        document.querySelector('#df-3a6e2263-1022-4b57-b93e-4e94b7bf013f button.colab-df-convert');\n",
              "      buttonEl.style.display =\n",
              "        google.colab.kernel.accessAllowed ? 'block' : 'none';\n",
              "\n",
              "      async function convertToInteractive(key) {\n",
              "        const element = document.querySelector('#df-3a6e2263-1022-4b57-b93e-4e94b7bf013f');\n",
              "        const dataTable =\n",
              "          await google.colab.kernel.invokeFunction('convertToInteractive',\n",
              "                                                    [key], {});\n",
              "        if (!dataTable) return;\n",
              "\n",
              "        const docLinkHtml = 'Like what you see? Visit the ' +\n",
              "          '<a target=\"_blank\" href=https://colab.research.google.com/notebooks/data_table.ipynb>data table notebook</a>'\n",
              "          + ' to learn more about interactive tables.';\n",
              "        element.innerHTML = '';\n",
              "        dataTable['output_type'] = 'display_data';\n",
              "        await google.colab.output.renderOutput(dataTable, element);\n",
              "        const docLink = document.createElement('div');\n",
              "        docLink.innerHTML = docLinkHtml;\n",
              "        element.appendChild(docLink);\n",
              "      }\n",
              "    </script>\n",
              "  </div>\n",
              "\n",
              "\n",
              "    <div id=\"df-fa7f1680-fea0-41ee-86e6-1463110b7631\">\n",
              "      <button class=\"colab-df-quickchart\" onclick=\"quickchart('df-fa7f1680-fea0-41ee-86e6-1463110b7631')\"\n",
              "                title=\"Suggest charts\"\n",
              "                style=\"display:none;\">\n",
              "\n",
              "<svg xmlns=\"http://www.w3.org/2000/svg\" height=\"24px\"viewBox=\"0 0 24 24\"\n",
              "     width=\"24px\">\n",
              "    <g>\n",
              "        <path d=\"M19 3H5c-1.1 0-2 .9-2 2v14c0 1.1.9 2 2 2h14c1.1 0 2-.9 2-2V5c0-1.1-.9-2-2-2zM9 17H7v-7h2v7zm4 0h-2V7h2v10zm4 0h-2v-4h2v4z\"/>\n",
              "    </g>\n",
              "</svg>\n",
              "      </button>\n",
              "\n",
              "<style>\n",
              "  .colab-df-quickchart {\n",
              "      --bg-color: #E8F0FE;\n",
              "      --fill-color: #1967D2;\n",
              "      --hover-bg-color: #E2EBFA;\n",
              "      --hover-fill-color: #174EA6;\n",
              "      --disabled-fill-color: #AAA;\n",
              "      --disabled-bg-color: #DDD;\n",
              "  }\n",
              "\n",
              "  [theme=dark] .colab-df-quickchart {\n",
              "      --bg-color: #3B4455;\n",
              "      --fill-color: #D2E3FC;\n",
              "      --hover-bg-color: #434B5C;\n",
              "      --hover-fill-color: #FFFFFF;\n",
              "      --disabled-bg-color: #3B4455;\n",
              "      --disabled-fill-color: #666;\n",
              "  }\n",
              "\n",
              "  .colab-df-quickchart {\n",
              "    background-color: var(--bg-color);\n",
              "    border: none;\n",
              "    border-radius: 50%;\n",
              "    cursor: pointer;\n",
              "    display: none;\n",
              "    fill: var(--fill-color);\n",
              "    height: 32px;\n",
              "    padding: 0;\n",
              "    width: 32px;\n",
              "  }\n",
              "\n",
              "  .colab-df-quickchart:hover {\n",
              "    background-color: var(--hover-bg-color);\n",
              "    box-shadow: 0 1px 2px rgba(60, 64, 67, 0.3), 0 1px 3px 1px rgba(60, 64, 67, 0.15);\n",
              "    fill: var(--button-hover-fill-color);\n",
              "  }\n",
              "\n",
              "  .colab-df-quickchart-complete:disabled,\n",
              "  .colab-df-quickchart-complete:disabled:hover {\n",
              "    background-color: var(--disabled-bg-color);\n",
              "    fill: var(--disabled-fill-color);\n",
              "    box-shadow: none;\n",
              "  }\n",
              "\n",
              "  .colab-df-spinner {\n",
              "    border: 2px solid var(--fill-color);\n",
              "    border-color: transparent;\n",
              "    border-bottom-color: var(--fill-color);\n",
              "    animation:\n",
              "      spin 1s steps(1) infinite;\n",
              "  }\n",
              "\n",
              "  @keyframes spin {\n",
              "    0% {\n",
              "      border-color: transparent;\n",
              "      border-bottom-color: var(--fill-color);\n",
              "      border-left-color: var(--fill-color);\n",
              "    }\n",
              "    20% {\n",
              "      border-color: transparent;\n",
              "      border-left-color: var(--fill-color);\n",
              "      border-top-color: var(--fill-color);\n",
              "    }\n",
              "    30% {\n",
              "      border-color: transparent;\n",
              "      border-left-color: var(--fill-color);\n",
              "      border-top-color: var(--fill-color);\n",
              "      border-right-color: var(--fill-color);\n",
              "    }\n",
              "    40% {\n",
              "      border-color: transparent;\n",
              "      border-right-color: var(--fill-color);\n",
              "      border-top-color: var(--fill-color);\n",
              "    }\n",
              "    60% {\n",
              "      border-color: transparent;\n",
              "      border-right-color: var(--fill-color);\n",
              "    }\n",
              "    80% {\n",
              "      border-color: transparent;\n",
              "      border-right-color: var(--fill-color);\n",
              "      border-bottom-color: var(--fill-color);\n",
              "    }\n",
              "    90% {\n",
              "      border-color: transparent;\n",
              "      border-bottom-color: var(--fill-color);\n",
              "    }\n",
              "  }\n",
              "</style>\n",
              "\n",
              "      <script>\n",
              "        async function quickchart(key) {\n",
              "          const quickchartButtonEl =\n",
              "            document.querySelector('#' + key + ' button');\n",
              "          quickchartButtonEl.disabled = true;  // To prevent multiple clicks.\n",
              "          quickchartButtonEl.classList.add('colab-df-spinner');\n",
              "          try {\n",
              "            const charts = await google.colab.kernel.invokeFunction(\n",
              "                'suggestCharts', [key], {});\n",
              "          } catch (error) {\n",
              "            console.error('Error during call to suggestCharts:', error);\n",
              "          }\n",
              "          quickchartButtonEl.classList.remove('colab-df-spinner');\n",
              "          quickchartButtonEl.classList.add('colab-df-quickchart-complete');\n",
              "        }\n",
              "        (() => {\n",
              "          let quickchartButtonEl =\n",
              "            document.querySelector('#df-fa7f1680-fea0-41ee-86e6-1463110b7631 button');\n",
              "          quickchartButtonEl.style.display =\n",
              "            google.colab.kernel.accessAllowed ? 'block' : 'none';\n",
              "        })();\n",
              "      </script>\n",
              "    </div>\n",
              "\n",
              "    </div>\n",
              "  </div>\n"
            ],
            "application/vnd.google.colaboratory.intrinsic+json": {
              "type": "dataframe",
              "summary": "{\n  \"name\": \"pd\",\n  \"rows\": 2,\n  \"fields\": [\n    {\n      \"column\": \"target_heart\",\n      \"properties\": {\n        \"dtype\": \"number\",\n        \"std\": 0.7071067811865476,\n        \"min\": 0.0,\n        \"max\": 1.0,\n        \"num_unique_values\": 2,\n        \"samples\": [\n          1.0,\n          0.0\n        ],\n        \"semantic_type\": \"\",\n        \"description\": \"\"\n      }\n    },\n    {\n      \"column\": 1.0,\n      \"properties\": {\n        \"dtype\": \"number\",\n        \"std\": 866,\n        \"min\": 791,\n        \"max\": 2016,\n        \"num_unique_values\": 2,\n        \"samples\": [\n          2016,\n          791\n        ],\n        \"semantic_type\": \"\",\n        \"description\": \"\"\n      }\n    },\n    {\n      \"column\": 2.0,\n      \"properties\": {\n        \"dtype\": \"number\",\n        \"std\": 866,\n        \"min\": 1984,\n        \"max\": 3209,\n        \"num_unique_values\": 2,\n        \"samples\": [\n          1984,\n          3209\n        ],\n        \"semantic_type\": \"\",\n        \"description\": \"\"\n      }\n    }\n  ]\n}"
            }
          },
          "metadata": {},
          "execution_count": 25
        }
      ],
      "source": [
        "pd.crosstab(data[\"target_heart\"], data[\"chest_pain_ever\"])"
      ]
    },
    {
      "cell_type": "markdown",
      "id": "alone-matrix",
      "metadata": {
        "id": "alone-matrix"
      },
      "source": [
        "**Graded Task**:\n",
        "Do you expect each of \"blood_cholesterol\", \"age\",  \"calories\", and \"BMI\" to be an informative predictor for \"target_heart\"?\n",
        "What about \"gender\", \"drink_alcohol\" and \"chest_pain_ever\"?\n",
        "Using your output from above, briefly explain why or why not."
      ]
    },
    {
      "cell_type": "code",
      "execution_count": 26,
      "id": "logical-aging",
      "metadata": {
        "id": "logical-aging"
      },
      "outputs": [],
      "source": [
        "# TODO: your prediction as to whether these features are informative predictors.\n",
        "# For full credit, justify your answer with the figures above. Include the\n",
        "# figures above in your submission."
      ]
    },
    {
      "cell_type": "markdown",
      "id": "exclusive-munich",
      "metadata": {
        "id": "exclusive-munich"
      },
      "source": [
        "**Task**: Complete the exploratory data analysis by visualizing the remaining features.\n",
        "You should get a sense of whether these features may be informative predictors,\n",
        "and the distribution of these features.\n",
        "\n",
        "As a side note, this is also a great time to look for unexpected issues with the data.\n",
        "Is there missing data? Is there data that is outside the normal range that you would expect\n",
        "(e.g. an age of 500)? Are there features that almost always take on the same value,\n",
        "and would therefore likely not to be useful?"
      ]
    },
    {
      "cell_type": "code",
      "execution_count": null,
      "id": "aggregate-delicious",
      "metadata": {
        "id": "aggregate-delicious"
      },
      "outputs": [],
      "source": [
        "# TODO"
      ]
    },
    {
      "cell_type": "markdown",
      "id": "adapted-completion",
      "metadata": {
        "id": "adapted-completion"
      },
      "source": [
        "**Graded Task**: Before being able to use our data to train a decision tree model,\n",
        "we need to transform some of the ways that our features are encoded. In particular, we need to change our current encoding of `gender`\n",
        "and `race_ethnicity`.  Explain why the current encoding should not be used with a decision tree classifier."
      ]
    },
    {
      "cell_type": "code",
      "execution_count": null,
      "id": "under-computer",
      "metadata": {
        "id": "under-computer"
      },
      "outputs": [],
      "source": [
        "# TODO: your explanation"
      ]
    },
    {
      "cell_type": "markdown",
      "id": "solid-zealand",
      "metadata": {
        "id": "solid-zealand"
      },
      "source": [
        "To solve the problem with our current encoding, we will encode categorical features using\n",
        "**indicator variables**. We will construct an indicator variable for every possible\n",
        "*value* or *category*.  More specifically, we will make a separate indicator variable for `race_ethicity_white`,\n",
        "`race_ethicity_black`, etc, with each feature taking on a value of 1 or 0.\n",
        "\n",
        "We will also group together `race_ethnicity=1` and\n",
        "`race_ethnicity=2` since these groups represent \"Mexican American\" and\n",
        "\"Other Hispanic\" and these groups are smaller than the others.\n",
        "This is a modeling decision born out of our understanding of the data,\n",
        "**and it may not be the correct decision**!\n",
        "Typically, many factors would go into decisions like this, including discussions\n",
        "with colleagues to understand where the data comes from and how the model will be used.\n",
        "Model building is also an iterative process: we may want to build multiple models with different\n",
        "feature representations, and compare the performance and other characteristics of\n",
        "these models.\n",
        "\n",
        "**Task**: Convert `data` into a numpy array `data_fets` with $N=8000$\n",
        "rows and with the following columns:\n",
        "\n",
        "- An indicator feature with value 1 iff `gender=2` (female)\n",
        "- An indicator feature with value 1 iff `race_ethnicity=1` or `race_ethnicity=2` (hispanic)\n",
        "- An indicator feature with value 1 iff `race_ethnicity=3` (white)\n",
        "- An indicator feature with value 1 iff `race_ethnicity=4` (black)\n",
        "- An indicator feature with value 1 iff `race_ethnicity=6` (asian)\n",
        "- An indicator feature with value 1 iff `chest_pain_ever=1`\n",
        "- An indicator feature with value 1 iff `drink_alcohol=1`\n",
        "- The numerical `age` feature\n",
        "- The numerical `blood_cholesterol` feature\n",
        "- The numerical `BMI` feature\n",
        "- The numerical `blood_pressure_sys` feature\n",
        "- The numerical `diastolic_bp` feature\n",
        "- The numerical `calories` feature\n",
        "- The numerical `family_income` feature\n",
        "\n",
        "Some of the features are provided for you. Complete the remaining features.\n",
        "\n",
        "This code works by creating individual numpy (1D) arrays for each feature,\n",
        "and then stacking them together into a single (2D) numpy array."
      ]
    },
    {
      "cell_type": "code",
      "execution_count": 27,
      "id": "understood-bhutan",
      "metadata": {
        "id": "understood-bhutan",
        "outputId": "3064e064-c0c2-4433-d7e1-c06439f78e22",
        "colab": {
          "base_uri": "https://localhost:8080/"
        }
      },
      "outputs": [
        {
          "output_type": "stream",
          "name": "stdout",
          "text": [
            "(8000, 14)\n"
          ]
        }
      ],
      "source": [
        "data_fets = np.stack([\n",
        "    # gender_female: this code creates an array of booleans, which converted into 0 and 1\n",
        "    data[\"gender\"] == 2,\n",
        "    # re_hispanic: this code leverages addition to perform an \"or\" operation\n",
        "    (data[\"race_ethnicity\"] == 1) + (data[\"race_ethnicity\"] == 2),\n",
        "    # re_white\n",
        "    data[\"race_ethnicity\"] == 3,\n",
        "    # re_black\n",
        "    data[\"race_ethnicity\"] == 4,\n",
        "    # re_aisan\n",
        "    data[\"race_ethnicity\"] == 6,\n",
        "    # chest_pain_ever\n",
        "    data[\"chest_pain_ever\"] == 1,\n",
        "    # drink_alcohol\n",
        "    data[\"drink_alcohol\"] == 1,\n",
        "    # age: this is a numeric value and no transformations are required\n",
        "    data[\"age\"],\n",
        "    # blood_cholesterol: this is a numeric value and no transformations are required\n",
        "    data[\"blood_cholesterol\"],\n",
        "    # BMI: this is a numeric value and no transformations are required\n",
        "    data[\"BMI\"],\n",
        "    # blood_pressure_sys: this is a numeric value and no transformations are required\n",
        "    data[\"blood_pressure_sys\"],\n",
        "    # diastolic_bp: this is a numeric value and no transformations are required\n",
        "    data[\"diastolic_bp\"],\n",
        "    # calories: this is a numeric value and no transformations are required\n",
        "    data[\"calories\"],\n",
        "    # family_income: this is a numeric value and no transformations are required\n",
        "    data[\"family_income\"]\n",
        "], axis=1)\n",
        "\n",
        "print(data_fets.shape) # Should be (8000, 14)"
      ]
    },
    {
      "cell_type": "markdown",
      "id": "hollywood-anatomy",
      "metadata": {
        "id": "hollywood-anatomy"
      },
      "source": [
        "We will also declare a new array to store all the feature names. This will come in handy later when we visualize decision trees."
      ]
    },
    {
      "cell_type": "code",
      "execution_count": 28,
      "id": "endless-corruption",
      "metadata": {
        "id": "endless-corruption"
      },
      "outputs": [],
      "source": [
        "feature_names = [\n",
        "    \"gender_female\",\n",
        "    \"re_hispanic\",\n",
        "    \"re_white\",\n",
        "    \"re_black\",\n",
        "    \"re_asian\",\n",
        "    \"chest_pain\",\n",
        "    \"drink_alcohol\",\n",
        "    \"age\",\n",
        "    \"blood_cholesterol\",\n",
        "    \"BMI\",\n",
        "    \"blood_pressure_sys\",\n",
        "    \"diastolic_bp\",\n",
        "    \"calories\",\n",
        "    \"family_income\"]"
      ]
    },
    {
      "cell_type": "markdown",
      "id": "opened-psychology",
      "metadata": {
        "id": "opened-psychology"
      },
      "source": [
        "**Task** Finally, let's separate our data into training, validation, and test sets.\n",
        "We will use 5000 data points for training, 1500 for validation, and 1500 for test.\n",
        "\n",
        "Instead of manually splitting the data into two sets, we will use a function provided by `sklearn` which randomly splits the data for us. Use the `train_test_split` function to split the data into training and test sets. To ensure that the randomization is consistent across runs, please supply the following parameter to the `train_test_split` function: 'random_state=1'.  This will ensure that the each time you run your code, you are placing the same data points in your training, test and validation sets.\n",
        "\n",
        "You will likely need to read the [documentation](https://scikit-learn.org/stable/modules/generated/sklearn.model_selection.train_test_split.html) for the `sklearn.model_selection.train_test_splits` to get this job done."
      ]
    },
    {
      "cell_type": "code",
      "execution_count": 29,
      "id": "vocal-quest",
      "metadata": {
        "id": "vocal-quest"
      },
      "outputs": [],
      "source": [
        "\n",
        "from sklearn.model_selection import train_test_split\n",
        "\n",
        "# Split the data into X (dependent variables) and t (response variable)\n",
        "X = data_fets\n",
        "t = np.array(data[\"target_heart\"])\n",
        "\n",
        "# First, we will use `train_test_split` to split the data set into\n",
        "# 6500 training+validation, and 1500 test:\n",
        "X_tv, X_test, t_tv, t_test = train_test_split(X, t, test_size=1500/8000, random_state=1)\n",
        "\n",
        "# Then, use `train_test_split` to split the training+validation data\n",
        "# into 5000 train and 1500 validation\n",
        "X_train, X_val, t_train, t_val = train_test_split(X_tv, t_tv, test_size=1500/6500, random_state=1)"
      ]
    },
    {
      "cell_type": "markdown",
      "id": "bored-departure",
      "metadata": {
        "id": "bored-departure"
      },
      "source": [
        "**Graded Task**: Recall that in lab 1, normalizing our features yielded a\n",
        "marked improvement in the performance (accuracy) of our kNN model.\n",
        "Explain why normalizing our features will likely *not* improve a\n",
        "decision tree classifier.\n",
        "\n",
        "Your explanation serves as justification for *not* normalizing our features before continuing."
      ]
    },
    {
      "cell_type": "code",
      "execution_count": 30,
      "id": "medium-water",
      "metadata": {
        "id": "medium-water"
      },
      "outputs": [],
      "source": [
        "# Normalization helps kNN because it relies on distance, and unequal feature scales distort distance measures.\n",
        "# Decision trees, however, split based on feature order and thresholds,\n",
        "# which are unaffected by scaling. Thus, normalization does not improve decision tree performance."
      ]
    },
    {
      "cell_type": "markdown",
      "id": "great-invite",
      "metadata": {
        "id": "great-invite"
      },
      "source": [
        "## Part 2. Using `sklearn` to Implement and Visualize Decision Trees\n",
        "\n",
        "One advantage of decision trees over other models is that they are easy\n",
        "to interpret and visualize.  The function `visualize_tree` below can be used to plot an `sklearn` decision tree model in your Colab Notebook."
      ]
    },
    {
      "cell_type": "code",
      "execution_count": 31,
      "id": "right-theorem",
      "metadata": {
        "id": "right-theorem"
      },
      "outputs": [],
      "source": [
        "from sklearn.tree import DecisionTreeClassifier\n",
        "\n",
        "# imports to visualize tree\n",
        "from sklearn import tree as treeViz\n",
        "import graphviz\n",
        "import pydotplus\n",
        "from IPython.display import display"
      ]
    },
    {
      "cell_type": "code",
      "execution_count": 32,
      "id": "personalized-evans",
      "metadata": {
        "id": "personalized-evans"
      },
      "outputs": [],
      "source": [
        "def visualize_tree(model, max_depth=5):\n",
        "    \"\"\"\n",
        "    Generate and return an image representing an Sklearn decision tree.\n",
        "\n",
        "    Each node in the visualization represents a node in the decision tree.\n",
        "    In addition, visualization for each node contains:\n",
        "        - The feature that is split on\n",
        "        - The entropy (of the outputs `t`) at the node\n",
        "        - The number of training samples at the node\n",
        "        - The number of training samples with true/false values\n",
        "        - The majority class (heart disease or not)\n",
        "    The colour of the node also shows the majority class and purity\n",
        "\n",
        "    See here: https://scikit-learn.org/stable/modules/generated/sklearn.tree.export_graphviz.html\n",
        "\n",
        "    Parameters:\n",
        "        `model` - An Sklearn decision tree model\n",
        "        `max_depth` - Max depth of decision tree to be rendered in the notebook.\n",
        "         This is useful since the tree can get very large if the max_depth is\n",
        "         set too high and thus making the resulting figure difficult to interpret.\n",
        "    \"\"\"\n",
        "    dot_data = treeViz.export_graphviz(model,\n",
        "                                       feature_names=feature_names,\n",
        "                                       max_depth=max_depth,\n",
        "                                       class_names=[\"heart_no\", \"heart_yes\"],\n",
        "                                       filled=True,\n",
        "                                       rounded=True)\n",
        "    return display(graphviz.Source(dot_data))\n"
      ]
    },
    {
      "cell_type": "markdown",
      "id": "colonial-round",
      "metadata": {
        "id": "colonial-round"
      },
      "source": [
        "Next, we will use sklearn's `DecisionTreeClassifier` to create some decision trees to fit to our data.\n",
        "\n",
        "**Task:** Fit a `DecisionTreeClassifier` to our dataset. Use `entropy` to measure the quality of a decision tree split, and set the `max_depth` to 3. Then, print the training and validation scores (accuracy).\n",
        "\n",
        "See more here: https://scikit-learn.org/stable/modules/generated/sklearn.tree.DecisionTreeClassifier.html"
      ]
    },
    {
      "cell_type": "code",
      "execution_count": 40,
      "id": "paperback-money",
      "metadata": {
        "id": "paperback-money",
        "outputId": "5d14a657-f797-4abc-8eee-c1dcacd1f04b",
        "colab": {
          "base_uri": "https://localhost:8080/"
        }
      },
      "outputs": [
        {
          "output_type": "stream",
          "name": "stdout",
          "text": [
            "Training Accuracy: 0.7152\n",
            "Validation Accuracy: 0.7193333333333334\n"
          ]
        }
      ],
      "source": [
        "# Creating a DecisionTreeClassifier\n",
        "tree = DecisionTreeClassifier(criterion=\"entropy\", max_depth=3)\n",
        "\n",
        "# fit it to our data\n",
        "tree.fit(X_train, t_train)\n",
        "\n",
        "# Print the training and validation scores (accuracy)\n",
        "print(\"Training Accuracy:\", tree.score(X_train, t_train))\n",
        "print(\"Validation Accuracy:\", tree.score(X_val, t_val))"
      ]
    },
    {
      "cell_type": "markdown",
      "id": "legitimate-economy",
      "metadata": {
        "id": "legitimate-economy"
      },
      "source": [
        "**Task:** Use `visualize_tree` to visualize the decision tree that was fit."
      ]
    },
    {
      "cell_type": "code",
      "execution_count": 41,
      "id": "unlimited-editor",
      "metadata": {
        "id": "unlimited-editor",
        "outputId": "42f0ddd5-54ae-45eb-d1e8-7944a75f64d3",
        "colab": {
          "base_uri": "https://localhost:8080/",
          "height": 618
        }
      },
      "outputs": [
        {
          "output_type": "display_data",
          "data": {
            "image/svg+xml": "<?xml version=\"1.0\" encoding=\"UTF-8\" standalone=\"no\"?>\n<!DOCTYPE svg PUBLIC \"-//W3C//DTD SVG 1.1//EN\"\n \"http://www.w3.org/Graphics/SVG/1.1/DTD/svg11.dtd\">\n<!-- Generated by graphviz version 2.43.0 (0)\n -->\n<!-- Title: Tree Pages: 1 -->\n<svg width=\"1143pt\" height=\"433pt\"\n viewBox=\"0.00 0.00 1142.50 433.00\" xmlns=\"http://www.w3.org/2000/svg\" xmlns:xlink=\"http://www.w3.org/1999/xlink\">\n<g id=\"graph0\" class=\"graph\" transform=\"scale(1 1) rotate(0) translate(4 429)\">\n<title>Tree</title>\n<polygon fill=\"white\" stroke=\"transparent\" points=\"-4,4 -4,-429 1138.5,-429 1138.5,4 -4,4\"/>\n<!-- 0 -->\n<g id=\"node1\" class=\"node\">\n<title>0</title>\n<path fill=\"#fefcfb\" stroke=\"black\" d=\"M636.5,-425C636.5,-425 498.5,-425 498.5,-425 492.5,-425 486.5,-419 486.5,-413 486.5,-413 486.5,-354 486.5,-354 486.5,-348 492.5,-342 498.5,-342 498.5,-342 636.5,-342 636.5,-342 642.5,-342 648.5,-348 648.5,-354 648.5,-354 648.5,-413 648.5,-413 648.5,-419 642.5,-425 636.5,-425\"/>\n<text text-anchor=\"middle\" x=\"567.5\" y=\"-409.8\" font-family=\"Helvetica,sans-Serif\" font-size=\"14.00\">age &lt;= 64.5</text>\n<text text-anchor=\"middle\" x=\"567.5\" y=\"-394.8\" font-family=\"Helvetica,sans-Serif\" font-size=\"14.00\">entropy = 1.0</text>\n<text text-anchor=\"middle\" x=\"567.5\" y=\"-379.8\" font-family=\"Helvetica,sans-Serif\" font-size=\"14.00\">samples = 5000</text>\n<text text-anchor=\"middle\" x=\"567.5\" y=\"-364.8\" font-family=\"Helvetica,sans-Serif\" font-size=\"14.00\">value = [2528.0, 2472.0]</text>\n<text text-anchor=\"middle\" x=\"567.5\" y=\"-349.8\" font-family=\"Helvetica,sans-Serif\" font-size=\"14.00\">class = heart_no</text>\n</g>\n<!-- 1 -->\n<g id=\"node2\" class=\"node\">\n<title>1</title>\n<path fill=\"#f1be98\" stroke=\"black\" d=\"M481,-306C481,-306 350,-306 350,-306 344,-306 338,-300 338,-294 338,-294 338,-235 338,-235 338,-229 344,-223 350,-223 350,-223 481,-223 481,-223 487,-223 493,-229 493,-235 493,-235 493,-294 493,-294 493,-300 487,-306 481,-306\"/>\n<text text-anchor=\"middle\" x=\"415.5\" y=\"-290.8\" font-family=\"Helvetica,sans-Serif\" font-size=\"14.00\">chest_pain &lt;= 0.5</text>\n<text text-anchor=\"middle\" x=\"415.5\" y=\"-275.8\" font-family=\"Helvetica,sans-Serif\" font-size=\"14.00\">entropy = 0.909</text>\n<text text-anchor=\"middle\" x=\"415.5\" y=\"-260.8\" font-family=\"Helvetica,sans-Serif\" font-size=\"14.00\">samples = 2652</text>\n<text text-anchor=\"middle\" x=\"415.5\" y=\"-245.8\" font-family=\"Helvetica,sans-Serif\" font-size=\"14.00\">value = [1791.0, 861.0]</text>\n<text text-anchor=\"middle\" x=\"415.5\" y=\"-230.8\" font-family=\"Helvetica,sans-Serif\" font-size=\"14.00\">class = heart_no</text>\n</g>\n<!-- 0&#45;&gt;1 -->\n<g id=\"edge1\" class=\"edge\">\n<title>0&#45;&gt;1</title>\n<path fill=\"none\" stroke=\"black\" d=\"M514.76,-341.91C502.38,-332.38 489.09,-322.15 476.39,-312.37\"/>\n<polygon fill=\"black\" stroke=\"black\" points=\"478.2,-309.35 468.14,-306.02 473.93,-314.89 478.2,-309.35\"/>\n<text text-anchor=\"middle\" x=\"471.37\" y=\"-327.11\" font-family=\"Helvetica,sans-Serif\" font-size=\"14.00\">True</text>\n</g>\n<!-- 8 -->\n<g id=\"node9\" class=\"node\">\n<title>8</title>\n<path fill=\"#94caf1\" stroke=\"black\" d=\"M753.5,-306C753.5,-306 645.5,-306 645.5,-306 639.5,-306 633.5,-300 633.5,-294 633.5,-294 633.5,-235 633.5,-235 633.5,-229 639.5,-223 645.5,-223 645.5,-223 753.5,-223 753.5,-223 759.5,-223 765.5,-229 765.5,-235 765.5,-235 765.5,-294 765.5,-294 765.5,-300 759.5,-306 753.5,-306\"/>\n<text text-anchor=\"middle\" x=\"699.5\" y=\"-290.8\" font-family=\"Helvetica,sans-Serif\" font-size=\"14.00\">chest_pain &lt;= 0.5</text>\n<text text-anchor=\"middle\" x=\"699.5\" y=\"-275.8\" font-family=\"Helvetica,sans-Serif\" font-size=\"14.00\">entropy = 0.898</text>\n<text text-anchor=\"middle\" x=\"699.5\" y=\"-260.8\" font-family=\"Helvetica,sans-Serif\" font-size=\"14.00\">samples = 2348</text>\n<text text-anchor=\"middle\" x=\"699.5\" y=\"-245.8\" font-family=\"Helvetica,sans-Serif\" font-size=\"14.00\">value = [737, 1611]</text>\n<text text-anchor=\"middle\" x=\"699.5\" y=\"-230.8\" font-family=\"Helvetica,sans-Serif\" font-size=\"14.00\">class = heart_yes</text>\n</g>\n<!-- 0&#45;&gt;8 -->\n<g id=\"edge8\" class=\"edge\">\n<title>0&#45;&gt;8</title>\n<path fill=\"none\" stroke=\"black\" d=\"M613.3,-341.91C623.84,-332.56 635.15,-322.54 645.99,-312.93\"/>\n<polygon fill=\"black\" stroke=\"black\" points=\"648.62,-315.27 653.78,-306.02 643.98,-310.03 648.62,-315.27\"/>\n<text text-anchor=\"middle\" x=\"652.28\" y=\"-327.28\" font-family=\"Helvetica,sans-Serif\" font-size=\"14.00\">False</text>\n</g>\n<!-- 2 -->\n<g id=\"node3\" class=\"node\">\n<title>2</title>\n<path fill=\"#eca36f\" stroke=\"black\" d=\"M251.5,-187C251.5,-187 143.5,-187 143.5,-187 137.5,-187 131.5,-181 131.5,-175 131.5,-175 131.5,-116 131.5,-116 131.5,-110 137.5,-104 143.5,-104 143.5,-104 251.5,-104 251.5,-104 257.5,-104 263.5,-110 263.5,-116 263.5,-116 263.5,-175 263.5,-175 263.5,-181 257.5,-187 251.5,-187\"/>\n<text text-anchor=\"middle\" x=\"197.5\" y=\"-171.8\" font-family=\"Helvetica,sans-Serif\" font-size=\"14.00\">age &lt;= 47.5</text>\n<text text-anchor=\"middle\" x=\"197.5\" y=\"-156.8\" font-family=\"Helvetica,sans-Serif\" font-size=\"14.00\">entropy = 0.747</text>\n<text text-anchor=\"middle\" x=\"197.5\" y=\"-141.8\" font-family=\"Helvetica,sans-Serif\" font-size=\"14.00\">samples = 1818</text>\n<text text-anchor=\"middle\" x=\"197.5\" y=\"-126.8\" font-family=\"Helvetica,sans-Serif\" font-size=\"14.00\">value = [1431, 387]</text>\n<text text-anchor=\"middle\" x=\"197.5\" y=\"-111.8\" font-family=\"Helvetica,sans-Serif\" font-size=\"14.00\">class = heart_no</text>\n</g>\n<!-- 1&#45;&gt;2 -->\n<g id=\"edge2\" class=\"edge\">\n<title>1&#45;&gt;2</title>\n<path fill=\"none\" stroke=\"black\" d=\"M339.87,-222.91C318.03,-211.19 294.22,-198.41 272.43,-186.72\"/>\n<polygon fill=\"black\" stroke=\"black\" points=\"274.02,-183.6 263.55,-181.95 270.71,-189.76 274.02,-183.6\"/>\n</g>\n<!-- 5 -->\n<g id=\"node6\" class=\"node\">\n<title>5</title>\n<path fill=\"#cfe7f9\" stroke=\"black\" d=\"M466,-187C466,-187 365,-187 365,-187 359,-187 353,-181 353,-175 353,-175 353,-116 353,-116 353,-110 359,-104 365,-104 365,-104 466,-104 466,-104 472,-104 478,-110 478,-116 478,-116 478,-175 478,-175 478,-181 472,-187 466,-187\"/>\n<text text-anchor=\"middle\" x=\"415.5\" y=\"-171.8\" font-family=\"Helvetica,sans-Serif\" font-size=\"14.00\">age &lt;= 56.5</text>\n<text text-anchor=\"middle\" x=\"415.5\" y=\"-156.8\" font-family=\"Helvetica,sans-Serif\" font-size=\"14.00\">entropy = 0.986</text>\n<text text-anchor=\"middle\" x=\"415.5\" y=\"-141.8\" font-family=\"Helvetica,sans-Serif\" font-size=\"14.00\">samples = 834</text>\n<text text-anchor=\"middle\" x=\"415.5\" y=\"-126.8\" font-family=\"Helvetica,sans-Serif\" font-size=\"14.00\">value = [360, 474]</text>\n<text text-anchor=\"middle\" x=\"415.5\" y=\"-111.8\" font-family=\"Helvetica,sans-Serif\" font-size=\"14.00\">class = heart_yes</text>\n</g>\n<!-- 1&#45;&gt;5 -->\n<g id=\"edge5\" class=\"edge\">\n<title>1&#45;&gt;5</title>\n<path fill=\"none\" stroke=\"black\" d=\"M415.5,-222.91C415.5,-214.65 415.5,-205.86 415.5,-197.3\"/>\n<polygon fill=\"black\" stroke=\"black\" points=\"419,-197.02 415.5,-187.02 412,-197.02 419,-197.02\"/>\n</g>\n<!-- 3 -->\n<g id=\"node4\" class=\"node\">\n<title>3</title>\n<path fill=\"#e68641\" stroke=\"black\" d=\"M105,-68C105,-68 12,-68 12,-68 6,-68 0,-62 0,-56 0,-56 0,-12 0,-12 0,-6 6,0 12,0 12,0 105,0 105,0 111,0 117,-6 117,-12 117,-12 117,-56 117,-56 117,-62 111,-68 105,-68\"/>\n<text text-anchor=\"middle\" x=\"58.5\" y=\"-52.8\" font-family=\"Helvetica,sans-Serif\" font-size=\"14.00\">entropy = 0.232</text>\n<text text-anchor=\"middle\" x=\"58.5\" y=\"-37.8\" font-family=\"Helvetica,sans-Serif\" font-size=\"14.00\">samples = 529</text>\n<text text-anchor=\"middle\" x=\"58.5\" y=\"-22.8\" font-family=\"Helvetica,sans-Serif\" font-size=\"14.00\">value = [509, 20]</text>\n<text text-anchor=\"middle\" x=\"58.5\" y=\"-7.8\" font-family=\"Helvetica,sans-Serif\" font-size=\"14.00\">class = heart_no</text>\n</g>\n<!-- 2&#45;&gt;3 -->\n<g id=\"edge3\" class=\"edge\">\n<title>2&#45;&gt;3</title>\n<path fill=\"none\" stroke=\"black\" d=\"M145.74,-103.73C133.7,-94.24 120.9,-84.16 108.92,-74.72\"/>\n<polygon fill=\"black\" stroke=\"black\" points=\"110.79,-71.74 100.77,-68.3 106.46,-77.24 110.79,-71.74\"/>\n</g>\n<!-- 4 -->\n<g id=\"node5\" class=\"node\">\n<title>4</title>\n<path fill=\"#efb388\" stroke=\"black\" d=\"M248,-68C248,-68 147,-68 147,-68 141,-68 135,-62 135,-56 135,-56 135,-12 135,-12 135,-6 141,0 147,0 147,0 248,0 248,0 254,0 260,-6 260,-12 260,-12 260,-56 260,-56 260,-62 254,-68 248,-68\"/>\n<text text-anchor=\"middle\" x=\"197.5\" y=\"-52.8\" font-family=\"Helvetica,sans-Serif\" font-size=\"14.00\">entropy = 0.862</text>\n<text text-anchor=\"middle\" x=\"197.5\" y=\"-37.8\" font-family=\"Helvetica,sans-Serif\" font-size=\"14.00\">samples = 1289</text>\n<text text-anchor=\"middle\" x=\"197.5\" y=\"-22.8\" font-family=\"Helvetica,sans-Serif\" font-size=\"14.00\">value = [922, 367]</text>\n<text text-anchor=\"middle\" x=\"197.5\" y=\"-7.8\" font-family=\"Helvetica,sans-Serif\" font-size=\"14.00\">class = heart_no</text>\n</g>\n<!-- 2&#45;&gt;4 -->\n<g id=\"edge4\" class=\"edge\">\n<title>2&#45;&gt;4</title>\n<path fill=\"none\" stroke=\"black\" d=\"M197.5,-103.73C197.5,-95.52 197.5,-86.86 197.5,-78.56\"/>\n<polygon fill=\"black\" stroke=\"black\" points=\"201,-78.3 197.5,-68.3 194,-78.3 201,-78.3\"/>\n</g>\n<!-- 6 -->\n<g id=\"node7\" class=\"node\">\n<title>6</title>\n<path fill=\"#fae6d7\" stroke=\"black\" d=\"M391,-68C391,-68 290,-68 290,-68 284,-68 278,-62 278,-56 278,-56 278,-12 278,-12 278,-6 284,0 290,0 290,0 391,0 391,0 397,0 403,-6 403,-12 403,-12 403,-56 403,-56 403,-62 397,-68 391,-68\"/>\n<text text-anchor=\"middle\" x=\"340.5\" y=\"-52.8\" font-family=\"Helvetica,sans-Serif\" font-size=\"14.00\">entropy = 0.991</text>\n<text text-anchor=\"middle\" x=\"340.5\" y=\"-37.8\" font-family=\"Helvetica,sans-Serif\" font-size=\"14.00\">samples = 448</text>\n<text text-anchor=\"middle\" x=\"340.5\" y=\"-22.8\" font-family=\"Helvetica,sans-Serif\" font-size=\"14.00\">value = [249, 199]</text>\n<text text-anchor=\"middle\" x=\"340.5\" y=\"-7.8\" font-family=\"Helvetica,sans-Serif\" font-size=\"14.00\">class = heart_no</text>\n</g>\n<!-- 5&#45;&gt;6 -->\n<g id=\"edge6\" class=\"edge\">\n<title>5&#45;&gt;6</title>\n<path fill=\"none\" stroke=\"black\" d=\"M387.57,-103.73C381.51,-94.88 375.1,-85.51 369.01,-76.63\"/>\n<polygon fill=\"black\" stroke=\"black\" points=\"371.85,-74.57 363.31,-68.3 366.07,-78.53 371.85,-74.57\"/>\n</g>\n<!-- 7 -->\n<g id=\"node8\" class=\"node\">\n<title>7</title>\n<path fill=\"#89c5ef\" stroke=\"black\" d=\"M556,-68C556,-68 433,-68 433,-68 427,-68 421,-62 421,-56 421,-56 421,-12 421,-12 421,-6 427,0 433,0 433,0 556,0 556,0 562,0 568,-6 568,-12 568,-12 568,-56 568,-56 568,-62 562,-68 556,-68\"/>\n<text text-anchor=\"middle\" x=\"494.5\" y=\"-52.8\" font-family=\"Helvetica,sans-Serif\" font-size=\"14.00\">entropy = 0.866</text>\n<text text-anchor=\"middle\" x=\"494.5\" y=\"-37.8\" font-family=\"Helvetica,sans-Serif\" font-size=\"14.00\">samples = 386</text>\n<text text-anchor=\"middle\" x=\"494.5\" y=\"-22.8\" font-family=\"Helvetica,sans-Serif\" font-size=\"14.00\">value = [111.0, 275.0]</text>\n<text text-anchor=\"middle\" x=\"494.5\" y=\"-7.8\" font-family=\"Helvetica,sans-Serif\" font-size=\"14.00\">class = heart_yes</text>\n</g>\n<!-- 5&#45;&gt;7 -->\n<g id=\"edge7\" class=\"edge\">\n<title>5&#45;&gt;7</title>\n<path fill=\"none\" stroke=\"black\" d=\"M444.92,-103.73C451.3,-94.88 458.06,-85.51 464.47,-76.63\"/>\n<polygon fill=\"black\" stroke=\"black\" points=\"467.46,-78.46 470.48,-68.3 461.79,-74.36 467.46,-78.46\"/>\n</g>\n<!-- 9 -->\n<g id=\"node10\" class=\"node\">\n<title>9</title>\n<path fill=\"#c8e4f8\" stroke=\"black\" d=\"M761,-187C761,-187 638,-187 638,-187 632,-187 626,-181 626,-175 626,-175 626,-116 626,-116 626,-110 632,-104 638,-104 638,-104 761,-104 761,-104 767,-104 773,-110 773,-116 773,-116 773,-175 773,-175 773,-181 767,-187 761,-187\"/>\n<text text-anchor=\"middle\" x=\"699.5\" y=\"-171.8\" font-family=\"Helvetica,sans-Serif\" font-size=\"14.00\">age &lt;= 77.5</text>\n<text text-anchor=\"middle\" x=\"699.5\" y=\"-156.8\" font-family=\"Helvetica,sans-Serif\" font-size=\"14.00\">entropy = 0.981</text>\n<text text-anchor=\"middle\" x=\"699.5\" y=\"-141.8\" font-family=\"Helvetica,sans-Serif\" font-size=\"14.00\">samples = 1465</text>\n<text text-anchor=\"middle\" x=\"699.5\" y=\"-126.8\" font-family=\"Helvetica,sans-Serif\" font-size=\"14.00\">value = [614.0, 851.0]</text>\n<text text-anchor=\"middle\" x=\"699.5\" y=\"-111.8\" font-family=\"Helvetica,sans-Serif\" font-size=\"14.00\">class = heart_yes</text>\n</g>\n<!-- 8&#45;&gt;9 -->\n<g id=\"edge9\" class=\"edge\">\n<title>8&#45;&gt;9</title>\n<path fill=\"none\" stroke=\"black\" d=\"M699.5,-222.91C699.5,-214.65 699.5,-205.86 699.5,-197.3\"/>\n<polygon fill=\"black\" stroke=\"black\" points=\"703,-197.02 699.5,-187.02 696,-197.02 703,-197.02\"/>\n</g>\n<!-- 12 -->\n<g id=\"node13\" class=\"node\">\n<title>12</title>\n<path fill=\"#59ade9\" stroke=\"black\" d=\"M1011.5,-187C1011.5,-187 855.5,-187 855.5,-187 849.5,-187 843.5,-181 843.5,-175 843.5,-175 843.5,-116 843.5,-116 843.5,-110 849.5,-104 855.5,-104 855.5,-104 1011.5,-104 1011.5,-104 1017.5,-104 1023.5,-110 1023.5,-116 1023.5,-116 1023.5,-175 1023.5,-175 1023.5,-181 1017.5,-187 1011.5,-187\"/>\n<text text-anchor=\"middle\" x=\"933.5\" y=\"-171.8\" font-family=\"Helvetica,sans-Serif\" font-size=\"14.00\">blood_cholesterol &lt;= 3.605</text>\n<text text-anchor=\"middle\" x=\"933.5\" y=\"-156.8\" font-family=\"Helvetica,sans-Serif\" font-size=\"14.00\">entropy = 0.582</text>\n<text text-anchor=\"middle\" x=\"933.5\" y=\"-141.8\" font-family=\"Helvetica,sans-Serif\" font-size=\"14.00\">samples = 883</text>\n<text text-anchor=\"middle\" x=\"933.5\" y=\"-126.8\" font-family=\"Helvetica,sans-Serif\" font-size=\"14.00\">value = [123.0, 760.0]</text>\n<text text-anchor=\"middle\" x=\"933.5\" y=\"-111.8\" font-family=\"Helvetica,sans-Serif\" font-size=\"14.00\">class = heart_yes</text>\n</g>\n<!-- 8&#45;&gt;12 -->\n<g id=\"edge12\" class=\"edge\">\n<title>8&#45;&gt;12</title>\n<path fill=\"none\" stroke=\"black\" d=\"M765.62,-230.44C789.67,-218.41 817.3,-204.6 843.1,-191.7\"/>\n<polygon fill=\"black\" stroke=\"black\" points=\"844.76,-194.78 852.14,-187.18 841.63,-188.52 844.76,-194.78\"/>\n</g>\n<!-- 10 -->\n<g id=\"node11\" class=\"node\">\n<title>10</title>\n<path fill=\"#fefcfb\" stroke=\"black\" d=\"M699,-68C699,-68 598,-68 598,-68 592,-68 586,-62 586,-56 586,-56 586,-12 586,-12 586,-6 592,0 598,0 598,0 699,0 699,0 705,0 711,-6 711,-12 711,-12 711,-56 711,-56 711,-62 705,-68 699,-68\"/>\n<text text-anchor=\"middle\" x=\"648.5\" y=\"-52.8\" font-family=\"Helvetica,sans-Serif\" font-size=\"14.00\">entropy = 1.0</text>\n<text text-anchor=\"middle\" x=\"648.5\" y=\"-37.8\" font-family=\"Helvetica,sans-Serif\" font-size=\"14.00\">samples = 936</text>\n<text text-anchor=\"middle\" x=\"648.5\" y=\"-22.8\" font-family=\"Helvetica,sans-Serif\" font-size=\"14.00\">value = [473, 463]</text>\n<text text-anchor=\"middle\" x=\"648.5\" y=\"-7.8\" font-family=\"Helvetica,sans-Serif\" font-size=\"14.00\">class = heart_no</text>\n</g>\n<!-- 9&#45;&gt;10 -->\n<g id=\"edge10\" class=\"edge\">\n<title>9&#45;&gt;10</title>\n<path fill=\"none\" stroke=\"black\" d=\"M680.51,-103.73C676.52,-95.15 672.29,-86.09 668.27,-77.46\"/>\n<polygon fill=\"black\" stroke=\"black\" points=\"671.4,-75.89 664.01,-68.3 665.06,-78.84 671.4,-75.89\"/>\n</g>\n<!-- 11 -->\n<g id=\"node12\" class=\"node\">\n<title>11</title>\n<path fill=\"#81c1ee\" stroke=\"black\" d=\"M842,-68C842,-68 741,-68 741,-68 735,-68 729,-62 729,-56 729,-56 729,-12 729,-12 729,-6 735,0 741,0 741,0 842,0 842,0 848,0 854,-6 854,-12 854,-12 854,-56 854,-56 854,-62 848,-68 842,-68\"/>\n<text text-anchor=\"middle\" x=\"791.5\" y=\"-52.8\" font-family=\"Helvetica,sans-Serif\" font-size=\"14.00\">entropy = 0.836</text>\n<text text-anchor=\"middle\" x=\"791.5\" y=\"-37.8\" font-family=\"Helvetica,sans-Serif\" font-size=\"14.00\">samples = 529</text>\n<text text-anchor=\"middle\" x=\"791.5\" y=\"-22.8\" font-family=\"Helvetica,sans-Serif\" font-size=\"14.00\">value = [141, 388]</text>\n<text text-anchor=\"middle\" x=\"791.5\" y=\"-7.8\" font-family=\"Helvetica,sans-Serif\" font-size=\"14.00\">class = heart_yes</text>\n</g>\n<!-- 9&#45;&gt;11 -->\n<g id=\"edge11\" class=\"edge\">\n<title>9&#45;&gt;11</title>\n<path fill=\"none\" stroke=\"black\" d=\"M733.76,-103.73C741.34,-94.7 749.39,-85.12 756.98,-76.08\"/>\n<polygon fill=\"black\" stroke=\"black\" points=\"759.77,-78.21 763.52,-68.3 754.41,-73.7 759.77,-78.21\"/>\n</g>\n<!-- 13 -->\n<g id=\"node14\" class=\"node\">\n<title>13</title>\n<path fill=\"#bddef6\" stroke=\"black\" d=\"M982.5,-68C982.5,-68 884.5,-68 884.5,-68 878.5,-68 872.5,-62 872.5,-56 872.5,-56 872.5,-12 872.5,-12 872.5,-6 878.5,0 884.5,0 884.5,0 982.5,0 982.5,0 988.5,0 994.5,-6 994.5,-12 994.5,-12 994.5,-56 994.5,-56 994.5,-62 988.5,-68 982.5,-68\"/>\n<text text-anchor=\"middle\" x=\"933.5\" y=\"-52.8\" font-family=\"Helvetica,sans-Serif\" font-size=\"14.00\">entropy = 0.971</text>\n<text text-anchor=\"middle\" x=\"933.5\" y=\"-37.8\" font-family=\"Helvetica,sans-Serif\" font-size=\"14.00\">samples = 60</text>\n<text text-anchor=\"middle\" x=\"933.5\" y=\"-22.8\" font-family=\"Helvetica,sans-Serif\" font-size=\"14.00\">value = [24, 36]</text>\n<text text-anchor=\"middle\" x=\"933.5\" y=\"-7.8\" font-family=\"Helvetica,sans-Serif\" font-size=\"14.00\">class = heart_yes</text>\n</g>\n<!-- 12&#45;&gt;13 -->\n<g id=\"edge13\" class=\"edge\">\n<title>12&#45;&gt;13</title>\n<path fill=\"none\" stroke=\"black\" d=\"M933.5,-103.73C933.5,-95.52 933.5,-86.86 933.5,-78.56\"/>\n<polygon fill=\"black\" stroke=\"black\" points=\"937,-78.3 933.5,-68.3 930,-78.3 937,-78.3\"/>\n</g>\n<!-- 14 -->\n<g id=\"node15\" class=\"node\">\n<title>14</title>\n<path fill=\"#54aae9\" stroke=\"black\" d=\"M1122.5,-68C1122.5,-68 1024.5,-68 1024.5,-68 1018.5,-68 1012.5,-62 1012.5,-56 1012.5,-56 1012.5,-12 1012.5,-12 1012.5,-6 1018.5,0 1024.5,0 1024.5,0 1122.5,0 1122.5,0 1128.5,0 1134.5,-6 1134.5,-12 1134.5,-12 1134.5,-56 1134.5,-56 1134.5,-62 1128.5,-68 1122.5,-68\"/>\n<text text-anchor=\"middle\" x=\"1073.5\" y=\"-52.8\" font-family=\"Helvetica,sans-Serif\" font-size=\"14.00\">entropy = 0.53</text>\n<text text-anchor=\"middle\" x=\"1073.5\" y=\"-37.8\" font-family=\"Helvetica,sans-Serif\" font-size=\"14.00\">samples = 823</text>\n<text text-anchor=\"middle\" x=\"1073.5\" y=\"-22.8\" font-family=\"Helvetica,sans-Serif\" font-size=\"14.00\">value = [99, 724]</text>\n<text text-anchor=\"middle\" x=\"1073.5\" y=\"-7.8\" font-family=\"Helvetica,sans-Serif\" font-size=\"14.00\">class = heart_yes</text>\n</g>\n<!-- 12&#45;&gt;14 -->\n<g id=\"edge14\" class=\"edge\">\n<title>12&#45;&gt;14</title>\n<path fill=\"none\" stroke=\"black\" d=\"M985.63,-103.73C997.76,-94.24 1010.65,-84.16 1022.72,-74.72\"/>\n<polygon fill=\"black\" stroke=\"black\" points=\"1025.2,-77.22 1030.93,-68.3 1020.89,-71.7 1025.2,-77.22\"/>\n</g>\n</g>\n</svg>\n",
            "text/plain": [
              "<graphviz.sources.Source at 0x7a44a0341dc0>"
            ]
          },
          "metadata": {}
        }
      ],
      "source": [
        "# call visualize_tree on the tree that was fit\n",
        "visualize_tree(tree)"
      ]
    },
    {
      "cell_type": "markdown",
      "id": "restricted-thong",
      "metadata": {
        "id": "restricted-thong"
      },
      "source": [
        "If this is done correctly, you should see your decision tree rendered above in your notebook.\n",
        "\n",
        "Let's try to interpret the decision tree we just generated!\n",
        "\n",
        "**Graded Task:** Using the decision tree you generated above, classify the training example `X_train[5]` by hand.\n",
        "In your write up, determine the set of nodes in the decision tree that we must visit to classify this training example."
      ]
    },
    {
      "cell_type": "code",
      "execution_count": 36,
      "id": "welcome-consumer",
      "metadata": {
        "id": "welcome-consumer",
        "outputId": "47d12c8f-c89b-4af3-8f27-ab287bcdc377",
        "colab": {
          "base_uri": "https://localhost:8080/"
        }
      },
      "outputs": [
        {
          "output_type": "stream",
          "name": "stdout",
          "text": [
            "{'gender_female': np.float64(1.0), 're_hispanic': np.float64(1.0), 're_white': np.float64(0.0), 're_black': np.float64(0.0), 're_asian': np.float64(0.0), 'chest_pain': np.float64(1.0), 'drink_alcohol': np.float64(0.0), 'age': np.float64(44.0), 'blood_cholesterol': np.float64(2.9), 'BMI': np.float64(18.8), 'blood_pressure_sys': np.float64(96.0), 'diastolic_bp': np.float64(58.0), 'calories': np.float64(2588.0), 'family_income': np.float64(0.81)}\n"
          ]
        }
      ],
      "source": [
        "# Perform the classification of this data point by hand\n",
        "print(dict(zip(feature_names, X_train[5])))"
      ]
    },
    {
      "cell_type": "markdown",
      "id": "injured-employer",
      "metadata": {
        "id": "injured-employer"
      },
      "source": [
        "We will now explore some hyperparameter choices that may cause our decision tree to underfit or overfit our data. Recall that overfitting means that, while our model may accurately capture relationships between inputs and our classification target in training data, it may not capture such relationships in the validation data. By contrast, underfitting occurs when our model lacks the complexity to model relationships in either training or validation data.  \n",
        "\n",
        "**Task:** Similar to what you did above, create another `DecisionTreeClassifier` that uses `entropy` to measure the quality of a split. Set the `max_depth` to a value that will cause the tree to *underfit*. Report the accuracy on the validation and training sets. Visualize the tree by calling `visualize_tree`."
      ]
    },
    {
      "cell_type": "code",
      "execution_count": 44,
      "id": "steady-culture",
      "metadata": {
        "id": "steady-culture",
        "outputId": "154c2e9d-f2e6-4967-ddb0-cfdc5f29c0c1",
        "colab": {
          "base_uri": "https://localhost:8080/",
          "height": 317
        }
      },
      "outputs": [
        {
          "output_type": "stream",
          "name": "stdout",
          "text": [
            "Training Accuracy: 0.6804\n",
            "Validation Accuracy: 0.6793333333333333\n"
          ]
        },
        {
          "output_type": "display_data",
          "data": {
            "image/svg+xml": "<?xml version=\"1.0\" encoding=\"UTF-8\" standalone=\"no\"?>\n<!DOCTYPE svg PUBLIC \"-//W3C//DTD SVG 1.1//EN\"\n \"http://www.w3.org/Graphics/SVG/1.1/DTD/svg11.dtd\">\n<!-- Generated by graphviz version 2.43.0 (0)\n -->\n<!-- Title: Tree Pages: 1 -->\n<svg width=\"314pt\" height=\"195pt\"\n viewBox=\"0.00 0.00 313.50 195.00\" xmlns=\"http://www.w3.org/2000/svg\" xmlns:xlink=\"http://www.w3.org/1999/xlink\">\n<g id=\"graph0\" class=\"graph\" transform=\"scale(1 1) rotate(0) translate(4 191)\">\n<title>Tree</title>\n<polygon fill=\"white\" stroke=\"transparent\" points=\"-4,4 -4,-191 309.5,-191 309.5,4 -4,4\"/>\n<!-- 0 -->\n<g id=\"node1\" class=\"node\">\n<title>0</title>\n<path fill=\"#fefcfb\" stroke=\"black\" d=\"M227.5,-187C227.5,-187 89.5,-187 89.5,-187 83.5,-187 77.5,-181 77.5,-175 77.5,-175 77.5,-116 77.5,-116 77.5,-110 83.5,-104 89.5,-104 89.5,-104 227.5,-104 227.5,-104 233.5,-104 239.5,-110 239.5,-116 239.5,-116 239.5,-175 239.5,-175 239.5,-181 233.5,-187 227.5,-187\"/>\n<text text-anchor=\"middle\" x=\"158.5\" y=\"-171.8\" font-family=\"Helvetica,sans-Serif\" font-size=\"14.00\">age &lt;= 64.5</text>\n<text text-anchor=\"middle\" x=\"158.5\" y=\"-156.8\" font-family=\"Helvetica,sans-Serif\" font-size=\"14.00\">entropy = 1.0</text>\n<text text-anchor=\"middle\" x=\"158.5\" y=\"-141.8\" font-family=\"Helvetica,sans-Serif\" font-size=\"14.00\">samples = 5000</text>\n<text text-anchor=\"middle\" x=\"158.5\" y=\"-126.8\" font-family=\"Helvetica,sans-Serif\" font-size=\"14.00\">value = [2528.0, 2472.0]</text>\n<text text-anchor=\"middle\" x=\"158.5\" y=\"-111.8\" font-family=\"Helvetica,sans-Serif\" font-size=\"14.00\">class = heart_no</text>\n</g>\n<!-- 1 -->\n<g id=\"node2\" class=\"node\">\n<title>1</title>\n<path fill=\"#f1be98\" stroke=\"black\" d=\"M143,-68C143,-68 12,-68 12,-68 6,-68 0,-62 0,-56 0,-56 0,-12 0,-12 0,-6 6,0 12,0 12,0 143,0 143,0 149,0 155,-6 155,-12 155,-12 155,-56 155,-56 155,-62 149,-68 143,-68\"/>\n<text text-anchor=\"middle\" x=\"77.5\" y=\"-52.8\" font-family=\"Helvetica,sans-Serif\" font-size=\"14.00\">entropy = 0.909</text>\n<text text-anchor=\"middle\" x=\"77.5\" y=\"-37.8\" font-family=\"Helvetica,sans-Serif\" font-size=\"14.00\">samples = 2652</text>\n<text text-anchor=\"middle\" x=\"77.5\" y=\"-22.8\" font-family=\"Helvetica,sans-Serif\" font-size=\"14.00\">value = [1791.0, 861.0]</text>\n<text text-anchor=\"middle\" x=\"77.5\" y=\"-7.8\" font-family=\"Helvetica,sans-Serif\" font-size=\"14.00\">class = heart_no</text>\n</g>\n<!-- 0&#45;&gt;1 -->\n<g id=\"edge1\" class=\"edge\">\n<title>0&#45;&gt;1</title>\n<path fill=\"none\" stroke=\"black\" d=\"M128.34,-103.73C121.73,-94.79 114.72,-85.32 108.09,-76.36\"/>\n<polygon fill=\"black\" stroke=\"black\" points=\"110.89,-74.26 102.13,-68.3 105.27,-78.42 110.89,-74.26\"/>\n<text text-anchor=\"middle\" x=\"98.43\" y=\"-89.32\" font-family=\"Helvetica,sans-Serif\" font-size=\"14.00\">True</text>\n</g>\n<!-- 2 -->\n<g id=\"node3\" class=\"node\">\n<title>2</title>\n<path fill=\"#94caf1\" stroke=\"black\" d=\"M293.5,-68C293.5,-68 185.5,-68 185.5,-68 179.5,-68 173.5,-62 173.5,-56 173.5,-56 173.5,-12 173.5,-12 173.5,-6 179.5,0 185.5,0 185.5,0 293.5,0 293.5,0 299.5,0 305.5,-6 305.5,-12 305.5,-12 305.5,-56 305.5,-56 305.5,-62 299.5,-68 293.5,-68\"/>\n<text text-anchor=\"middle\" x=\"239.5\" y=\"-52.8\" font-family=\"Helvetica,sans-Serif\" font-size=\"14.00\">entropy = 0.898</text>\n<text text-anchor=\"middle\" x=\"239.5\" y=\"-37.8\" font-family=\"Helvetica,sans-Serif\" font-size=\"14.00\">samples = 2348</text>\n<text text-anchor=\"middle\" x=\"239.5\" y=\"-22.8\" font-family=\"Helvetica,sans-Serif\" font-size=\"14.00\">value = [737, 1611]</text>\n<text text-anchor=\"middle\" x=\"239.5\" y=\"-7.8\" font-family=\"Helvetica,sans-Serif\" font-size=\"14.00\">class = heart_yes</text>\n</g>\n<!-- 0&#45;&gt;2 -->\n<g id=\"edge2\" class=\"edge\">\n<title>0&#45;&gt;2</title>\n<path fill=\"none\" stroke=\"black\" d=\"M188.66,-103.73C195.27,-94.79 202.28,-85.32 208.91,-76.36\"/>\n<polygon fill=\"black\" stroke=\"black\" points=\"211.73,-78.42 214.87,-68.3 206.11,-74.26 211.73,-78.42\"/>\n<text text-anchor=\"middle\" x=\"218.57\" y=\"-89.32\" font-family=\"Helvetica,sans-Serif\" font-size=\"14.00\">False</text>\n</g>\n</g>\n</svg>\n",
            "text/plain": [
              "<graphviz.sources.Source at 0x7a449fa69d00>"
            ]
          },
          "metadata": {}
        }
      ],
      "source": [
        "# create a DecisionTreeClassifier\n",
        "tree_underfit = DecisionTreeClassifier(criterion=\"entropy\", max_depth=1)\n",
        "\n",
        "# fit it to our data\n",
        "tree_underfit.fit(X_train, t_train)\n",
        "\n",
        "# Print the training and validation accuracy\n",
        "print(\"Training Accuracy:\", tree_underfit.score(X_train, t_train))\n",
        "print(\"Validation Accuracy:\", tree_underfit.score(X_val, t_val))\n",
        "\n",
        "# visualize the tree\n",
        "visualize_tree(tree_underfit)"
      ]
    },
    {
      "cell_type": "markdown",
      "id": "colored-median",
      "metadata": {
        "id": "colored-median"
      },
      "source": [
        "**Task:** Repeat the same computation as above, but set the `max_depth` to a value that will cause the tree to *overfit*. When using `visualize_tree` to visualize the tree, leave the default max depth parameter as 5."
      ]
    },
    {
      "cell_type": "code",
      "execution_count": 48,
      "id": "constitutional-notification",
      "metadata": {
        "id": "constitutional-notification",
        "outputId": "cf6574d9-442e-450d-91f1-68cceddb5702",
        "colab": {
          "base_uri": "https://localhost:8080/",
          "height": 971
        }
      },
      "outputs": [
        {
          "output_type": "stream",
          "name": "stdout",
          "text": [
            "Training Accuracy: 0.7466\n",
            "Validation Accuracy: 0.7453333333333333\n"
          ]
        },
        {
          "output_type": "display_data",
          "data": {
            "image/svg+xml": "<?xml version=\"1.0\" encoding=\"UTF-8\" standalone=\"no\"?>\n<!DOCTYPE svg PUBLIC \"-//W3C//DTD SVG 1.1//EN\"\n \"http://www.w3.org/Graphics/SVG/1.1/DTD/svg11.dtd\">\n<!-- Generated by graphviz version 2.43.0 (0)\n -->\n<!-- Title: Tree Pages: 1 -->\n<svg width=\"3943pt\" height=\"671pt\"\n viewBox=\"0.00 0.00 3943.00 671.00\" xmlns=\"http://www.w3.org/2000/svg\" xmlns:xlink=\"http://www.w3.org/1999/xlink\">\n<g id=\"graph0\" class=\"graph\" transform=\"scale(1 1) rotate(0) translate(4 667)\">\n<title>Tree</title>\n<polygon fill=\"white\" stroke=\"transparent\" points=\"-4,4 -4,-667 3939,-667 3939,4 -4,4\"/>\n<!-- 0 -->\n<g id=\"node1\" class=\"node\">\n<title>0</title>\n<path fill=\"#fefcfb\" stroke=\"black\" d=\"M2084,-663C2084,-663 1946,-663 1946,-663 1940,-663 1934,-657 1934,-651 1934,-651 1934,-592 1934,-592 1934,-586 1940,-580 1946,-580 1946,-580 2084,-580 2084,-580 2090,-580 2096,-586 2096,-592 2096,-592 2096,-651 2096,-651 2096,-657 2090,-663 2084,-663\"/>\n<text text-anchor=\"middle\" x=\"2015\" y=\"-647.8\" font-family=\"Helvetica,sans-Serif\" font-size=\"14.00\">age &lt;= 64.5</text>\n<text text-anchor=\"middle\" x=\"2015\" y=\"-632.8\" font-family=\"Helvetica,sans-Serif\" font-size=\"14.00\">entropy = 1.0</text>\n<text text-anchor=\"middle\" x=\"2015\" y=\"-617.8\" font-family=\"Helvetica,sans-Serif\" font-size=\"14.00\">samples = 5000</text>\n<text text-anchor=\"middle\" x=\"2015\" y=\"-602.8\" font-family=\"Helvetica,sans-Serif\" font-size=\"14.00\">value = [2528.0, 2472.0]</text>\n<text text-anchor=\"middle\" x=\"2015\" y=\"-587.8\" font-family=\"Helvetica,sans-Serif\" font-size=\"14.00\">class = heart_no</text>\n</g>\n<!-- 1 -->\n<g id=\"node2\" class=\"node\">\n<title>1</title>\n<path fill=\"#f1be98\" stroke=\"black\" d=\"M1533.5,-544C1533.5,-544 1402.5,-544 1402.5,-544 1396.5,-544 1390.5,-538 1390.5,-532 1390.5,-532 1390.5,-473 1390.5,-473 1390.5,-467 1396.5,-461 1402.5,-461 1402.5,-461 1533.5,-461 1533.5,-461 1539.5,-461 1545.5,-467 1545.5,-473 1545.5,-473 1545.5,-532 1545.5,-532 1545.5,-538 1539.5,-544 1533.5,-544\"/>\n<text text-anchor=\"middle\" x=\"1468\" y=\"-528.8\" font-family=\"Helvetica,sans-Serif\" font-size=\"14.00\">chest_pain &lt;= 0.5</text>\n<text text-anchor=\"middle\" x=\"1468\" y=\"-513.8\" font-family=\"Helvetica,sans-Serif\" font-size=\"14.00\">entropy = 0.909</text>\n<text text-anchor=\"middle\" x=\"1468\" y=\"-498.8\" font-family=\"Helvetica,sans-Serif\" font-size=\"14.00\">samples = 2652</text>\n<text text-anchor=\"middle\" x=\"1468\" y=\"-483.8\" font-family=\"Helvetica,sans-Serif\" font-size=\"14.00\">value = [1791.0, 861.0]</text>\n<text text-anchor=\"middle\" x=\"1468\" y=\"-468.8\" font-family=\"Helvetica,sans-Serif\" font-size=\"14.00\">class = heart_no</text>\n</g>\n<!-- 0&#45;&gt;1 -->\n<g id=\"edge1\" class=\"edge\">\n<title>0&#45;&gt;1</title>\n<path fill=\"none\" stroke=\"black\" d=\"M1933.99,-603.17C1832.73,-581.51 1660.04,-544.58 1555.73,-522.26\"/>\n<polygon fill=\"black\" stroke=\"black\" points=\"1556.36,-518.82 1545.85,-520.15 1554.9,-525.67 1556.36,-518.82\"/>\n<text text-anchor=\"middle\" x=\"1559.44\" y=\"-537.44\" font-family=\"Helvetica,sans-Serif\" font-size=\"14.00\">True</text>\n</g>\n<!-- 30 -->\n<g id=\"node31\" class=\"node\">\n<title>30</title>\n<path fill=\"#94caf1\" stroke=\"black\" d=\"M2594,-544C2594,-544 2486,-544 2486,-544 2480,-544 2474,-538 2474,-532 2474,-532 2474,-473 2474,-473 2474,-467 2480,-461 2486,-461 2486,-461 2594,-461 2594,-461 2600,-461 2606,-467 2606,-473 2606,-473 2606,-532 2606,-532 2606,-538 2600,-544 2594,-544\"/>\n<text text-anchor=\"middle\" x=\"2540\" y=\"-528.8\" font-family=\"Helvetica,sans-Serif\" font-size=\"14.00\">chest_pain &lt;= 0.5</text>\n<text text-anchor=\"middle\" x=\"2540\" y=\"-513.8\" font-family=\"Helvetica,sans-Serif\" font-size=\"14.00\">entropy = 0.898</text>\n<text text-anchor=\"middle\" x=\"2540\" y=\"-498.8\" font-family=\"Helvetica,sans-Serif\" font-size=\"14.00\">samples = 2348</text>\n<text text-anchor=\"middle\" x=\"2540\" y=\"-483.8\" font-family=\"Helvetica,sans-Serif\" font-size=\"14.00\">value = [737, 1611]</text>\n<text text-anchor=\"middle\" x=\"2540\" y=\"-468.8\" font-family=\"Helvetica,sans-Serif\" font-size=\"14.00\">class = heart_yes</text>\n</g>\n<!-- 0&#45;&gt;30 -->\n<g id=\"edge30\" class=\"edge\">\n<title>0&#45;&gt;30</title>\n<path fill=\"none\" stroke=\"black\" d=\"M2096.17,-602.41C2196.48,-580.06 2365.89,-542.3 2463.84,-520.47\"/>\n<polygon fill=\"black\" stroke=\"black\" points=\"2464.67,-523.87 2473.67,-518.28 2463.15,-517.04 2464.67,-523.87\"/>\n<text text-anchor=\"middle\" x=\"2460.26\" y=\"-535.68\" font-family=\"Helvetica,sans-Serif\" font-size=\"14.00\">False</text>\n</g>\n<!-- 2 -->\n<g id=\"node3\" class=\"node\">\n<title>2</title>\n<path fill=\"#eca36f\" stroke=\"black\" d=\"M646,-425C646,-425 538,-425 538,-425 532,-425 526,-419 526,-413 526,-413 526,-354 526,-354 526,-348 532,-342 538,-342 538,-342 646,-342 646,-342 652,-342 658,-348 658,-354 658,-354 658,-413 658,-413 658,-419 652,-425 646,-425\"/>\n<text text-anchor=\"middle\" x=\"592\" y=\"-409.8\" font-family=\"Helvetica,sans-Serif\" font-size=\"14.00\">age &lt;= 47.5</text>\n<text text-anchor=\"middle\" x=\"592\" y=\"-394.8\" font-family=\"Helvetica,sans-Serif\" font-size=\"14.00\">entropy = 0.747</text>\n<text text-anchor=\"middle\" x=\"592\" y=\"-379.8\" font-family=\"Helvetica,sans-Serif\" font-size=\"14.00\">samples = 1818</text>\n<text text-anchor=\"middle\" x=\"592\" y=\"-364.8\" font-family=\"Helvetica,sans-Serif\" font-size=\"14.00\">value = [1431, 387]</text>\n<text text-anchor=\"middle\" x=\"592\" y=\"-349.8\" font-family=\"Helvetica,sans-Serif\" font-size=\"14.00\">class = heart_no</text>\n</g>\n<!-- 1&#45;&gt;2 -->\n<g id=\"edge2\" class=\"edge\">\n<title>1&#45;&gt;2</title>\n<path fill=\"none\" stroke=\"black\" d=\"M1390.26,-491.12C1223.54,-468.85 833.37,-416.74 668.11,-394.67\"/>\n<polygon fill=\"black\" stroke=\"black\" points=\"668.41,-391.17 658.03,-393.32 667.48,-398.11 668.41,-391.17\"/>\n</g>\n<!-- 15 -->\n<g id=\"node16\" class=\"node\">\n<title>15</title>\n<path fill=\"#cfe7f9\" stroke=\"black\" d=\"M1518.5,-425C1518.5,-425 1417.5,-425 1417.5,-425 1411.5,-425 1405.5,-419 1405.5,-413 1405.5,-413 1405.5,-354 1405.5,-354 1405.5,-348 1411.5,-342 1417.5,-342 1417.5,-342 1518.5,-342 1518.5,-342 1524.5,-342 1530.5,-348 1530.5,-354 1530.5,-354 1530.5,-413 1530.5,-413 1530.5,-419 1524.5,-425 1518.5,-425\"/>\n<text text-anchor=\"middle\" x=\"1468\" y=\"-409.8\" font-family=\"Helvetica,sans-Serif\" font-size=\"14.00\">age &lt;= 56.5</text>\n<text text-anchor=\"middle\" x=\"1468\" y=\"-394.8\" font-family=\"Helvetica,sans-Serif\" font-size=\"14.00\">entropy = 0.986</text>\n<text text-anchor=\"middle\" x=\"1468\" y=\"-379.8\" font-family=\"Helvetica,sans-Serif\" font-size=\"14.00\">samples = 834</text>\n<text text-anchor=\"middle\" x=\"1468\" y=\"-364.8\" font-family=\"Helvetica,sans-Serif\" font-size=\"14.00\">value = [360, 474]</text>\n<text text-anchor=\"middle\" x=\"1468\" y=\"-349.8\" font-family=\"Helvetica,sans-Serif\" font-size=\"14.00\">class = heart_yes</text>\n</g>\n<!-- 1&#45;&gt;15 -->\n<g id=\"edge15\" class=\"edge\">\n<title>1&#45;&gt;15</title>\n<path fill=\"none\" stroke=\"black\" d=\"M1468,-460.91C1468,-452.65 1468,-443.86 1468,-435.3\"/>\n<polygon fill=\"black\" stroke=\"black\" points=\"1471.5,-435.02 1468,-425.02 1464.5,-435.02 1471.5,-435.02\"/>\n</g>\n<!-- 3 -->\n<g id=\"node4\" class=\"node\">\n<title>3</title>\n<path fill=\"#e68641\" stroke=\"black\" d=\"M287,-306C287,-306 161,-306 161,-306 155,-306 149,-300 149,-294 149,-294 149,-235 149,-235 149,-229 155,-223 161,-223 161,-223 287,-223 287,-223 293,-223 299,-229 299,-235 299,-235 299,-294 299,-294 299,-300 293,-306 287,-306\"/>\n<text text-anchor=\"middle\" x=\"224\" y=\"-290.8\" font-family=\"Helvetica,sans-Serif\" font-size=\"14.00\">gender_female &lt;= 0.5</text>\n<text text-anchor=\"middle\" x=\"224\" y=\"-275.8\" font-family=\"Helvetica,sans-Serif\" font-size=\"14.00\">entropy = 0.232</text>\n<text text-anchor=\"middle\" x=\"224\" y=\"-260.8\" font-family=\"Helvetica,sans-Serif\" font-size=\"14.00\">samples = 529</text>\n<text text-anchor=\"middle\" x=\"224\" y=\"-245.8\" font-family=\"Helvetica,sans-Serif\" font-size=\"14.00\">value = [509, 20]</text>\n<text text-anchor=\"middle\" x=\"224\" y=\"-230.8\" font-family=\"Helvetica,sans-Serif\" font-size=\"14.00\">class = heart_no</text>\n</g>\n<!-- 2&#45;&gt;3 -->\n<g id=\"edge3\" class=\"edge\">\n<title>2&#45;&gt;3</title>\n<path fill=\"none\" stroke=\"black\" d=\"M525.78,-361.45C465.04,-342.13 374.74,-313.43 308.75,-292.44\"/>\n<polygon fill=\"black\" stroke=\"black\" points=\"309.79,-289.1 299.2,-289.41 307.66,-295.77 309.79,-289.1\"/>\n</g>\n<!-- 8 -->\n<g id=\"node9\" class=\"node\">\n<title>8</title>\n<path fill=\"#efb388\" stroke=\"black\" d=\"M657.5,-306C657.5,-306 526.5,-306 526.5,-306 520.5,-306 514.5,-300 514.5,-294 514.5,-294 514.5,-235 514.5,-235 514.5,-229 520.5,-223 526.5,-223 526.5,-223 657.5,-223 657.5,-223 663.5,-223 669.5,-229 669.5,-235 669.5,-235 669.5,-294 669.5,-294 669.5,-300 663.5,-306 657.5,-306\"/>\n<text text-anchor=\"middle\" x=\"592\" y=\"-290.8\" font-family=\"Helvetica,sans-Serif\" font-size=\"14.00\">family_income &lt;= 4.88</text>\n<text text-anchor=\"middle\" x=\"592\" y=\"-275.8\" font-family=\"Helvetica,sans-Serif\" font-size=\"14.00\">entropy = 0.862</text>\n<text text-anchor=\"middle\" x=\"592\" y=\"-260.8\" font-family=\"Helvetica,sans-Serif\" font-size=\"14.00\">samples = 1289</text>\n<text text-anchor=\"middle\" x=\"592\" y=\"-245.8\" font-family=\"Helvetica,sans-Serif\" font-size=\"14.00\">value = [922, 367]</text>\n<text text-anchor=\"middle\" x=\"592\" y=\"-230.8\" font-family=\"Helvetica,sans-Serif\" font-size=\"14.00\">class = heart_no</text>\n</g>\n<!-- 2&#45;&gt;8 -->\n<g id=\"edge8\" class=\"edge\">\n<title>2&#45;&gt;8</title>\n<path fill=\"none\" stroke=\"black\" d=\"M592,-341.91C592,-333.65 592,-324.86 592,-316.3\"/>\n<polygon fill=\"black\" stroke=\"black\" points=\"595.5,-316.02 592,-306.02 588.5,-316.02 595.5,-316.02\"/>\n</g>\n<!-- 4 -->\n<g id=\"node5\" class=\"node\">\n<title>4</title>\n<path fill=\"#e58139\" stroke=\"black\" d=\"M104,-179.5C104,-179.5 12,-179.5 12,-179.5 6,-179.5 0,-173.5 0,-167.5 0,-167.5 0,-123.5 0,-123.5 0,-117.5 6,-111.5 12,-111.5 12,-111.5 104,-111.5 104,-111.5 110,-111.5 116,-117.5 116,-123.5 116,-123.5 116,-167.5 116,-167.5 116,-173.5 110,-179.5 104,-179.5\"/>\n<text text-anchor=\"middle\" x=\"58\" y=\"-164.3\" font-family=\"Helvetica,sans-Serif\" font-size=\"14.00\">entropy = 0.0</text>\n<text text-anchor=\"middle\" x=\"58\" y=\"-149.3\" font-family=\"Helvetica,sans-Serif\" font-size=\"14.00\">samples = 235</text>\n<text text-anchor=\"middle\" x=\"58\" y=\"-134.3\" font-family=\"Helvetica,sans-Serif\" font-size=\"14.00\">value = [235, 0]</text>\n<text text-anchor=\"middle\" x=\"58\" y=\"-119.3\" font-family=\"Helvetica,sans-Serif\" font-size=\"14.00\">class = heart_no</text>\n</g>\n<!-- 3&#45;&gt;4 -->\n<g id=\"edge4\" class=\"edge\">\n<title>3&#45;&gt;4</title>\n<path fill=\"none\" stroke=\"black\" d=\"M166.41,-222.91C149.19,-210.77 130.35,-197.49 113.28,-185.46\"/>\n<polygon fill=\"black\" stroke=\"black\" points=\"115.25,-182.57 105.06,-179.67 111.21,-188.29 115.25,-182.57\"/>\n</g>\n<!-- 5 -->\n<g id=\"node6\" class=\"node\">\n<title>5</title>\n<path fill=\"#e78a47\" stroke=\"black\" d=\"M302,-187C302,-187 146,-187 146,-187 140,-187 134,-181 134,-175 134,-175 134,-116 134,-116 134,-110 140,-104 146,-104 146,-104 302,-104 302,-104 308,-104 314,-110 314,-116 314,-116 314,-175 314,-175 314,-181 308,-187 302,-187\"/>\n<text text-anchor=\"middle\" x=\"224\" y=\"-171.8\" font-family=\"Helvetica,sans-Serif\" font-size=\"14.00\">blood_cholesterol &lt;= 5.315</text>\n<text text-anchor=\"middle\" x=\"224\" y=\"-156.8\" font-family=\"Helvetica,sans-Serif\" font-size=\"14.00\">entropy = 0.359</text>\n<text text-anchor=\"middle\" x=\"224\" y=\"-141.8\" font-family=\"Helvetica,sans-Serif\" font-size=\"14.00\">samples = 294</text>\n<text text-anchor=\"middle\" x=\"224\" y=\"-126.8\" font-family=\"Helvetica,sans-Serif\" font-size=\"14.00\">value = [274.0, 20.0]</text>\n<text text-anchor=\"middle\" x=\"224\" y=\"-111.8\" font-family=\"Helvetica,sans-Serif\" font-size=\"14.00\">class = heart_no</text>\n</g>\n<!-- 3&#45;&gt;5 -->\n<g id=\"edge5\" class=\"edge\">\n<title>3&#45;&gt;5</title>\n<path fill=\"none\" stroke=\"black\" d=\"M224,-222.91C224,-214.65 224,-205.86 224,-197.3\"/>\n<polygon fill=\"black\" stroke=\"black\" points=\"227.5,-197.02 224,-187.02 220.5,-197.02 227.5,-197.02\"/>\n</g>\n<!-- 6 -->\n<g id=\"node7\" class=\"node\">\n<title>6</title>\n<path fill=\"#e68540\" stroke=\"black\" d=\"M136,-68C136,-68 44,-68 44,-68 38,-68 32,-62 32,-56 32,-56 32,-12 32,-12 32,-6 38,0 44,0 44,0 136,0 136,0 142,0 148,-6 148,-12 148,-12 148,-56 148,-56 148,-62 142,-68 136,-68\"/>\n<text text-anchor=\"middle\" x=\"90\" y=\"-52.8\" font-family=\"Helvetica,sans-Serif\" font-size=\"14.00\">entropy = 0.215</text>\n<text text-anchor=\"middle\" x=\"90\" y=\"-37.8\" font-family=\"Helvetica,sans-Serif\" font-size=\"14.00\">samples = 234</text>\n<text text-anchor=\"middle\" x=\"90\" y=\"-22.8\" font-family=\"Helvetica,sans-Serif\" font-size=\"14.00\">value = [226, 8]</text>\n<text text-anchor=\"middle\" x=\"90\" y=\"-7.8\" font-family=\"Helvetica,sans-Serif\" font-size=\"14.00\">class = heart_no</text>\n</g>\n<!-- 5&#45;&gt;6 -->\n<g id=\"edge6\" class=\"edge\">\n<title>5&#45;&gt;6</title>\n<path fill=\"none\" stroke=\"black\" d=\"M174.1,-103.73C162.5,-94.24 150.15,-84.16 138.6,-74.72\"/>\n<polygon fill=\"black\" stroke=\"black\" points=\"140.71,-71.92 130.75,-68.3 136.28,-77.34 140.71,-71.92\"/>\n</g>\n<!-- 7 -->\n<g id=\"node8\" class=\"node\">\n<title>7</title>\n<path fill=\"#eca06a\" stroke=\"black\" d=\"M270,-68C270,-68 178,-68 178,-68 172,-68 166,-62 166,-56 166,-56 166,-12 166,-12 166,-6 172,0 178,0 178,0 270,0 270,0 276,0 282,-6 282,-12 282,-12 282,-56 282,-56 282,-62 276,-68 270,-68\"/>\n<text text-anchor=\"middle\" x=\"224\" y=\"-52.8\" font-family=\"Helvetica,sans-Serif\" font-size=\"14.00\">entropy = 0.722</text>\n<text text-anchor=\"middle\" x=\"224\" y=\"-37.8\" font-family=\"Helvetica,sans-Serif\" font-size=\"14.00\">samples = 60</text>\n<text text-anchor=\"middle\" x=\"224\" y=\"-22.8\" font-family=\"Helvetica,sans-Serif\" font-size=\"14.00\">value = [48, 12]</text>\n<text text-anchor=\"middle\" x=\"224\" y=\"-7.8\" font-family=\"Helvetica,sans-Serif\" font-size=\"14.00\">class = heart_no</text>\n</g>\n<!-- 5&#45;&gt;7 -->\n<g id=\"edge7\" class=\"edge\">\n<title>5&#45;&gt;7</title>\n<path fill=\"none\" stroke=\"black\" d=\"M224,-103.73C224,-95.52 224,-86.86 224,-78.56\"/>\n<polygon fill=\"black\" stroke=\"black\" points=\"227.5,-78.3 224,-68.3 220.5,-78.3 227.5,-78.3\"/>\n</g>\n<!-- 9 -->\n<g id=\"node10\" class=\"node\">\n<title>9</title>\n<path fill=\"#f3c4a3\" stroke=\"black\" d=\"M577.5,-187C577.5,-187 446.5,-187 446.5,-187 440.5,-187 434.5,-181 434.5,-175 434.5,-175 434.5,-116 434.5,-116 434.5,-110 440.5,-104 446.5,-104 446.5,-104 577.5,-104 577.5,-104 583.5,-104 589.5,-110 589.5,-116 589.5,-116 589.5,-175 589.5,-175 589.5,-181 583.5,-187 577.5,-187\"/>\n<text text-anchor=\"middle\" x=\"512\" y=\"-171.8\" font-family=\"Helvetica,sans-Serif\" font-size=\"14.00\">family_income &lt;= 2.92</text>\n<text text-anchor=\"middle\" x=\"512\" y=\"-156.8\" font-family=\"Helvetica,sans-Serif\" font-size=\"14.00\">entropy = 0.932</text>\n<text text-anchor=\"middle\" x=\"512\" y=\"-141.8\" font-family=\"Helvetica,sans-Serif\" font-size=\"14.00\">samples = 1026</text>\n<text text-anchor=\"middle\" x=\"512\" y=\"-126.8\" font-family=\"Helvetica,sans-Serif\" font-size=\"14.00\">value = [669, 357]</text>\n<text text-anchor=\"middle\" x=\"512\" y=\"-111.8\" font-family=\"Helvetica,sans-Serif\" font-size=\"14.00\">class = heart_no</text>\n</g>\n<!-- 8&#45;&gt;9 -->\n<g id=\"edge9\" class=\"edge\">\n<title>8&#45;&gt;9</title>\n<path fill=\"none\" stroke=\"black\" d=\"M564.24,-222.91C558.16,-214.01 551.66,-204.51 545.39,-195.33\"/>\n<polygon fill=\"black\" stroke=\"black\" points=\"548.24,-193.3 539.71,-187.02 542.46,-197.25 548.24,-193.3\"/>\n</g>\n<!-- 12 -->\n<g id=\"node13\" class=\"node\">\n<title>12</title>\n<path fill=\"#e68641\" stroke=\"black\" d=\"M724,-187C724,-187 620,-187 620,-187 614,-187 608,-181 608,-175 608,-175 608,-116 608,-116 608,-110 614,-104 620,-104 620,-104 724,-104 724,-104 730,-104 736,-110 736,-116 736,-116 736,-175 736,-175 736,-181 730,-187 724,-187\"/>\n<text text-anchor=\"middle\" x=\"672\" y=\"-171.8\" font-family=\"Helvetica,sans-Serif\" font-size=\"14.00\">re_hispanic &lt;= 0.5</text>\n<text text-anchor=\"middle\" x=\"672\" y=\"-156.8\" font-family=\"Helvetica,sans-Serif\" font-size=\"14.00\">entropy = 0.233</text>\n<text text-anchor=\"middle\" x=\"672\" y=\"-141.8\" font-family=\"Helvetica,sans-Serif\" font-size=\"14.00\">samples = 263</text>\n<text text-anchor=\"middle\" x=\"672\" y=\"-126.8\" font-family=\"Helvetica,sans-Serif\" font-size=\"14.00\">value = [253, 10]</text>\n<text text-anchor=\"middle\" x=\"672\" y=\"-111.8\" font-family=\"Helvetica,sans-Serif\" font-size=\"14.00\">class = heart_no</text>\n</g>\n<!-- 8&#45;&gt;12 -->\n<g id=\"edge12\" class=\"edge\">\n<title>8&#45;&gt;12</title>\n<path fill=\"none\" stroke=\"black\" d=\"M619.76,-222.91C625.84,-214.01 632.34,-204.51 638.61,-195.33\"/>\n<polygon fill=\"black\" stroke=\"black\" points=\"641.54,-197.25 644.29,-187.02 635.76,-193.3 641.54,-197.25\"/>\n</g>\n<!-- 10 -->\n<g id=\"node11\" class=\"node\">\n<title>10</title>\n<path fill=\"#f5cfb4\" stroke=\"black\" d=\"M435.5,-68C435.5,-68 312.5,-68 312.5,-68 306.5,-68 300.5,-62 300.5,-56 300.5,-56 300.5,-12 300.5,-12 300.5,-6 306.5,0 312.5,0 312.5,0 435.5,0 435.5,0 441.5,0 447.5,-6 447.5,-12 447.5,-12 447.5,-56 447.5,-56 447.5,-62 441.5,-68 435.5,-68\"/>\n<text text-anchor=\"middle\" x=\"374\" y=\"-52.8\" font-family=\"Helvetica,sans-Serif\" font-size=\"14.00\">entropy = 0.96</text>\n<text text-anchor=\"middle\" x=\"374\" y=\"-37.8\" font-family=\"Helvetica,sans-Serif\" font-size=\"14.00\">samples = 812</text>\n<text text-anchor=\"middle\" x=\"374\" y=\"-22.8\" font-family=\"Helvetica,sans-Serif\" font-size=\"14.00\">value = [501.0, 311.0]</text>\n<text text-anchor=\"middle\" x=\"374\" y=\"-7.8\" font-family=\"Helvetica,sans-Serif\" font-size=\"14.00\">class = heart_no</text>\n</g>\n<!-- 9&#45;&gt;10 -->\n<g id=\"edge10\" class=\"edge\">\n<title>9&#45;&gt;10</title>\n<path fill=\"none\" stroke=\"black\" d=\"M460.61,-103.73C448.66,-94.24 435.95,-84.16 424.05,-74.72\"/>\n<polygon fill=\"black\" stroke=\"black\" points=\"425.98,-71.77 415.97,-68.3 421.62,-77.26 425.98,-71.77\"/>\n</g>\n<!-- 11 -->\n<g id=\"node12\" class=\"node\">\n<title>11</title>\n<path fill=\"#eca46f\" stroke=\"black\" d=\"M570.5,-68C570.5,-68 477.5,-68 477.5,-68 471.5,-68 465.5,-62 465.5,-56 465.5,-56 465.5,-12 465.5,-12 465.5,-6 471.5,0 477.5,0 477.5,0 570.5,0 570.5,0 576.5,0 582.5,-6 582.5,-12 582.5,-12 582.5,-56 582.5,-56 582.5,-62 576.5,-68 570.5,-68\"/>\n<text text-anchor=\"middle\" x=\"524\" y=\"-52.8\" font-family=\"Helvetica,sans-Serif\" font-size=\"14.00\">entropy = 0.751</text>\n<text text-anchor=\"middle\" x=\"524\" y=\"-37.8\" font-family=\"Helvetica,sans-Serif\" font-size=\"14.00\">samples = 214</text>\n<text text-anchor=\"middle\" x=\"524\" y=\"-22.8\" font-family=\"Helvetica,sans-Serif\" font-size=\"14.00\">value = [168, 46]</text>\n<text text-anchor=\"middle\" x=\"524\" y=\"-7.8\" font-family=\"Helvetica,sans-Serif\" font-size=\"14.00\">class = heart_no</text>\n</g>\n<!-- 9&#45;&gt;11 -->\n<g id=\"edge11\" class=\"edge\">\n<title>9&#45;&gt;11</title>\n<path fill=\"none\" stroke=\"black\" d=\"M516.47,-103.73C517.38,-95.43 518.34,-86.67 519.26,-78.28\"/>\n<polygon fill=\"black\" stroke=\"black\" points=\"522.74,-78.62 520.35,-68.3 515.78,-77.86 522.74,-78.62\"/>\n</g>\n<!-- 13 -->\n<g id=\"node14\" class=\"node\">\n<title>13</title>\n<path fill=\"#e58139\" stroke=\"black\" d=\"M705,-68C705,-68 613,-68 613,-68 607,-68 601,-62 601,-56 601,-56 601,-12 601,-12 601,-6 607,0 613,0 613,0 705,0 705,0 711,0 717,-6 717,-12 717,-12 717,-56 717,-56 717,-62 711,-68 705,-68\"/>\n<text text-anchor=\"middle\" x=\"659\" y=\"-52.8\" font-family=\"Helvetica,sans-Serif\" font-size=\"14.00\">entropy = 0.0</text>\n<text text-anchor=\"middle\" x=\"659\" y=\"-37.8\" font-family=\"Helvetica,sans-Serif\" font-size=\"14.00\">samples = 218</text>\n<text text-anchor=\"middle\" x=\"659\" y=\"-22.8\" font-family=\"Helvetica,sans-Serif\" font-size=\"14.00\">value = [218, 0]</text>\n<text text-anchor=\"middle\" x=\"659\" y=\"-7.8\" font-family=\"Helvetica,sans-Serif\" font-size=\"14.00\">class = heart_no</text>\n</g>\n<!-- 12&#45;&gt;13 -->\n<g id=\"edge13\" class=\"edge\">\n<title>12&#45;&gt;13</title>\n<path fill=\"none\" stroke=\"black\" d=\"M667.16,-103.73C666.17,-95.43 665.13,-86.67 664.14,-78.28\"/>\n<polygon fill=\"black\" stroke=\"black\" points=\"667.61,-77.82 662.95,-68.3 660.66,-78.64 667.61,-77.82\"/>\n</g>\n<!-- 14 -->\n<g id=\"node15\" class=\"node\">\n<title>14</title>\n<path fill=\"#eca572\" stroke=\"black\" d=\"M839,-68C839,-68 747,-68 747,-68 741,-68 735,-62 735,-56 735,-56 735,-12 735,-12 735,-6 741,0 747,0 747,0 839,0 839,0 845,0 851,-6 851,-12 851,-12 851,-56 851,-56 851,-62 845,-68 839,-68\"/>\n<text text-anchor=\"middle\" x=\"793\" y=\"-52.8\" font-family=\"Helvetica,sans-Serif\" font-size=\"14.00\">entropy = 0.764</text>\n<text text-anchor=\"middle\" x=\"793\" y=\"-37.8\" font-family=\"Helvetica,sans-Serif\" font-size=\"14.00\">samples = 45</text>\n<text text-anchor=\"middle\" x=\"793\" y=\"-22.8\" font-family=\"Helvetica,sans-Serif\" font-size=\"14.00\">value = [35, 10]</text>\n<text text-anchor=\"middle\" x=\"793\" y=\"-7.8\" font-family=\"Helvetica,sans-Serif\" font-size=\"14.00\">class = heart_no</text>\n</g>\n<!-- 12&#45;&gt;14 -->\n<g id=\"edge14\" class=\"edge\">\n<title>12&#45;&gt;14</title>\n<path fill=\"none\" stroke=\"black\" d=\"M717.06,-103.73C727.34,-94.42 738.25,-84.54 748.51,-75.26\"/>\n<polygon fill=\"black\" stroke=\"black\" points=\"751.14,-77.6 756.2,-68.3 746.44,-72.41 751.14,-77.6\"/>\n</g>\n<!-- 16 -->\n<g id=\"node17\" class=\"node\">\n<title>16</title>\n<path fill=\"#fae6d7\" stroke=\"black\" d=\"M1374.5,-306C1374.5,-306 1243.5,-306 1243.5,-306 1237.5,-306 1231.5,-300 1231.5,-294 1231.5,-294 1231.5,-235 1231.5,-235 1231.5,-229 1237.5,-223 1243.5,-223 1243.5,-223 1374.5,-223 1374.5,-223 1380.5,-223 1386.5,-229 1386.5,-235 1386.5,-235 1386.5,-294 1386.5,-294 1386.5,-300 1380.5,-306 1374.5,-306\"/>\n<text text-anchor=\"middle\" x=\"1309\" y=\"-290.8\" font-family=\"Helvetica,sans-Serif\" font-size=\"14.00\">family_income &lt;= 4.17</text>\n<text text-anchor=\"middle\" x=\"1309\" y=\"-275.8\" font-family=\"Helvetica,sans-Serif\" font-size=\"14.00\">entropy = 0.991</text>\n<text text-anchor=\"middle\" x=\"1309\" y=\"-260.8\" font-family=\"Helvetica,sans-Serif\" font-size=\"14.00\">samples = 448</text>\n<text text-anchor=\"middle\" x=\"1309\" y=\"-245.8\" font-family=\"Helvetica,sans-Serif\" font-size=\"14.00\">value = [249, 199]</text>\n<text text-anchor=\"middle\" x=\"1309\" y=\"-230.8\" font-family=\"Helvetica,sans-Serif\" font-size=\"14.00\">class = heart_no</text>\n</g>\n<!-- 15&#45;&gt;16 -->\n<g id=\"edge16\" class=\"edge\">\n<title>15&#45;&gt;16</title>\n<path fill=\"none\" stroke=\"black\" d=\"M1412.84,-341.91C1399.76,-332.29 1385.72,-321.95 1372.32,-312.09\"/>\n<polygon fill=\"black\" stroke=\"black\" points=\"1374.2,-309.13 1364.07,-306.02 1370.05,-314.77 1374.2,-309.13\"/>\n</g>\n<!-- 23 -->\n<g id=\"node24\" class=\"node\">\n<title>23</title>\n<path fill=\"#89c5ef\" stroke=\"black\" d=\"M1634.5,-306C1634.5,-306 1511.5,-306 1511.5,-306 1505.5,-306 1499.5,-300 1499.5,-294 1499.5,-294 1499.5,-235 1499.5,-235 1499.5,-229 1505.5,-223 1511.5,-223 1511.5,-223 1634.5,-223 1634.5,-223 1640.5,-223 1646.5,-229 1646.5,-235 1646.5,-235 1646.5,-294 1646.5,-294 1646.5,-300 1640.5,-306 1634.5,-306\"/>\n<text text-anchor=\"middle\" x=\"1573\" y=\"-290.8\" font-family=\"Helvetica,sans-Serif\" font-size=\"14.00\">age &lt;= 58.5</text>\n<text text-anchor=\"middle\" x=\"1573\" y=\"-275.8\" font-family=\"Helvetica,sans-Serif\" font-size=\"14.00\">entropy = 0.866</text>\n<text text-anchor=\"middle\" x=\"1573\" y=\"-260.8\" font-family=\"Helvetica,sans-Serif\" font-size=\"14.00\">samples = 386</text>\n<text text-anchor=\"middle\" x=\"1573\" y=\"-245.8\" font-family=\"Helvetica,sans-Serif\" font-size=\"14.00\">value = [111.0, 275.0]</text>\n<text text-anchor=\"middle\" x=\"1573\" y=\"-230.8\" font-family=\"Helvetica,sans-Serif\" font-size=\"14.00\">class = heart_yes</text>\n</g>\n<!-- 15&#45;&gt;23 -->\n<g id=\"edge23\" class=\"edge\">\n<title>15&#45;&gt;23</title>\n<path fill=\"none\" stroke=\"black\" d=\"M1504.43,-341.91C1512.65,-332.74 1521.46,-322.93 1529.93,-313.49\"/>\n<polygon fill=\"black\" stroke=\"black\" points=\"1532.56,-315.8 1536.64,-306.02 1527.35,-311.13 1532.56,-315.8\"/>\n</g>\n<!-- 17 -->\n<g id=\"node18\" class=\"node\">\n<title>17</title>\n<path fill=\"#f9fcfe\" stroke=\"black\" d=\"M1127.5,-187C1127.5,-187 1026.5,-187 1026.5,-187 1020.5,-187 1014.5,-181 1014.5,-175 1014.5,-175 1014.5,-116 1014.5,-116 1014.5,-110 1020.5,-104 1026.5,-104 1026.5,-104 1127.5,-104 1127.5,-104 1133.5,-104 1139.5,-110 1139.5,-116 1139.5,-116 1139.5,-175 1139.5,-175 1139.5,-181 1133.5,-187 1127.5,-187\"/>\n<text text-anchor=\"middle\" x=\"1077\" y=\"-171.8\" font-family=\"Helvetica,sans-Serif\" font-size=\"14.00\">age &lt;= 42.5</text>\n<text text-anchor=\"middle\" x=\"1077\" y=\"-156.8\" font-family=\"Helvetica,sans-Serif\" font-size=\"14.00\">entropy = 1.0</text>\n<text text-anchor=\"middle\" x=\"1077\" y=\"-141.8\" font-family=\"Helvetica,sans-Serif\" font-size=\"14.00\">samples = 380</text>\n<text text-anchor=\"middle\" x=\"1077\" y=\"-126.8\" font-family=\"Helvetica,sans-Serif\" font-size=\"14.00\">value = [187, 193]</text>\n<text text-anchor=\"middle\" x=\"1077\" y=\"-111.8\" font-family=\"Helvetica,sans-Serif\" font-size=\"14.00\">class = heart_yes</text>\n</g>\n<!-- 16&#45;&gt;17 -->\n<g id=\"edge17\" class=\"edge\">\n<title>16&#45;&gt;17</title>\n<path fill=\"none\" stroke=\"black\" d=\"M1231.42,-224.38C1204.79,-210.95 1175.12,-195.98 1148.95,-182.79\"/>\n<polygon fill=\"black\" stroke=\"black\" points=\"1150.36,-179.58 1139.86,-178.2 1147.21,-185.83 1150.36,-179.58\"/>\n</g>\n<!-- 20 -->\n<g id=\"node21\" class=\"node\">\n<title>20</title>\n<path fill=\"#e88d4c\" stroke=\"black\" d=\"M1394.5,-187C1394.5,-187 1223.5,-187 1223.5,-187 1217.5,-187 1211.5,-181 1211.5,-175 1211.5,-175 1211.5,-116 1211.5,-116 1211.5,-110 1217.5,-104 1223.5,-104 1223.5,-104 1394.5,-104 1394.5,-104 1400.5,-104 1406.5,-110 1406.5,-116 1406.5,-116 1406.5,-175 1406.5,-175 1406.5,-181 1400.5,-187 1394.5,-187\"/>\n<text text-anchor=\"middle\" x=\"1309\" y=\"-171.8\" font-family=\"Helvetica,sans-Serif\" font-size=\"14.00\">blood_pressure_sys &lt;= 159.0</text>\n<text text-anchor=\"middle\" x=\"1309\" y=\"-156.8\" font-family=\"Helvetica,sans-Serif\" font-size=\"14.00\">entropy = 0.431</text>\n<text text-anchor=\"middle\" x=\"1309\" y=\"-141.8\" font-family=\"Helvetica,sans-Serif\" font-size=\"14.00\">samples = 68</text>\n<text text-anchor=\"middle\" x=\"1309\" y=\"-126.8\" font-family=\"Helvetica,sans-Serif\" font-size=\"14.00\">value = [62, 6]</text>\n<text text-anchor=\"middle\" x=\"1309\" y=\"-111.8\" font-family=\"Helvetica,sans-Serif\" font-size=\"14.00\">class = heart_no</text>\n</g>\n<!-- 16&#45;&gt;20 -->\n<g id=\"edge20\" class=\"edge\">\n<title>16&#45;&gt;20</title>\n<path fill=\"none\" stroke=\"black\" d=\"M1309,-222.91C1309,-214.65 1309,-205.86 1309,-197.3\"/>\n<polygon fill=\"black\" stroke=\"black\" points=\"1312.5,-197.02 1309,-187.02 1305.5,-197.02 1312.5,-197.02\"/>\n</g>\n<!-- 18 -->\n<g id=\"node19\" class=\"node\">\n<title>18</title>\n<path fill=\"#e78c49\" stroke=\"black\" d=\"M973,-68C973,-68 881,-68 881,-68 875,-68 869,-62 869,-56 869,-56 869,-12 869,-12 869,-6 875,0 881,0 881,0 973,0 973,0 979,0 985,-6 985,-12 985,-12 985,-56 985,-56 985,-62 979,-68 973,-68\"/>\n<text text-anchor=\"middle\" x=\"927\" y=\"-52.8\" font-family=\"Helvetica,sans-Serif\" font-size=\"14.00\">entropy = 0.391</text>\n<text text-anchor=\"middle\" x=\"927\" y=\"-37.8\" font-family=\"Helvetica,sans-Serif\" font-size=\"14.00\">samples = 39</text>\n<text text-anchor=\"middle\" x=\"927\" y=\"-22.8\" font-family=\"Helvetica,sans-Serif\" font-size=\"14.00\">value = [36, 3]</text>\n<text text-anchor=\"middle\" x=\"927\" y=\"-7.8\" font-family=\"Helvetica,sans-Serif\" font-size=\"14.00\">class = heart_no</text>\n</g>\n<!-- 17&#45;&gt;18 -->\n<g id=\"edge18\" class=\"edge\">\n<title>17&#45;&gt;18</title>\n<path fill=\"none\" stroke=\"black\" d=\"M1021.15,-103.73C1008.03,-94.15 994.07,-83.96 981.03,-74.44\"/>\n<polygon fill=\"black\" stroke=\"black\" points=\"982.76,-71.37 972.62,-68.3 978.63,-77.02 982.76,-71.37\"/>\n</g>\n<!-- 19 -->\n<g id=\"node20\" class=\"node\">\n<title>19</title>\n<path fill=\"#d6ebfa\" stroke=\"black\" d=\"M1138.5,-68C1138.5,-68 1015.5,-68 1015.5,-68 1009.5,-68 1003.5,-62 1003.5,-56 1003.5,-56 1003.5,-12 1003.5,-12 1003.5,-6 1009.5,0 1015.5,0 1015.5,0 1138.5,0 1138.5,0 1144.5,0 1150.5,-6 1150.5,-12 1150.5,-12 1150.5,-56 1150.5,-56 1150.5,-62 1144.5,-68 1138.5,-68\"/>\n<text text-anchor=\"middle\" x=\"1077\" y=\"-52.8\" font-family=\"Helvetica,sans-Serif\" font-size=\"14.00\">entropy = 0.991</text>\n<text text-anchor=\"middle\" x=\"1077\" y=\"-37.8\" font-family=\"Helvetica,sans-Serif\" font-size=\"14.00\">samples = 341</text>\n<text text-anchor=\"middle\" x=\"1077\" y=\"-22.8\" font-family=\"Helvetica,sans-Serif\" font-size=\"14.00\">value = [151.0, 190.0]</text>\n<text text-anchor=\"middle\" x=\"1077\" y=\"-7.8\" font-family=\"Helvetica,sans-Serif\" font-size=\"14.00\">class = heart_yes</text>\n</g>\n<!-- 17&#45;&gt;19 -->\n<g id=\"edge19\" class=\"edge\">\n<title>17&#45;&gt;19</title>\n<path fill=\"none\" stroke=\"black\" d=\"M1077,-103.73C1077,-95.52 1077,-86.86 1077,-78.56\"/>\n<polygon fill=\"black\" stroke=\"black\" points=\"1080.5,-78.3 1077,-68.3 1073.5,-78.3 1080.5,-78.3\"/>\n</g>\n<!-- 21 -->\n<g id=\"node22\" class=\"node\">\n<title>21</title>\n<path fill=\"#e6853f\" stroke=\"black\" d=\"M1273,-68C1273,-68 1181,-68 1181,-68 1175,-68 1169,-62 1169,-56 1169,-56 1169,-12 1169,-12 1169,-6 1175,0 1181,0 1181,0 1273,0 1273,0 1279,0 1285,-6 1285,-12 1285,-12 1285,-56 1285,-56 1285,-62 1279,-68 1273,-68\"/>\n<text text-anchor=\"middle\" x=\"1227\" y=\"-52.8\" font-family=\"Helvetica,sans-Serif\" font-size=\"14.00\">entropy = 0.201</text>\n<text text-anchor=\"middle\" x=\"1227\" y=\"-37.8\" font-family=\"Helvetica,sans-Serif\" font-size=\"14.00\">samples = 64</text>\n<text text-anchor=\"middle\" x=\"1227\" y=\"-22.8\" font-family=\"Helvetica,sans-Serif\" font-size=\"14.00\">value = [62, 2]</text>\n<text text-anchor=\"middle\" x=\"1227\" y=\"-7.8\" font-family=\"Helvetica,sans-Serif\" font-size=\"14.00\">class = heart_no</text>\n</g>\n<!-- 20&#45;&gt;21 -->\n<g id=\"edge21\" class=\"edge\">\n<title>20&#45;&gt;21</title>\n<path fill=\"none\" stroke=\"black\" d=\"M1278.47,-103.73C1271.77,-94.79 1264.68,-85.32 1257.97,-76.36\"/>\n<polygon fill=\"black\" stroke=\"black\" points=\"1260.73,-74.21 1251.94,-68.3 1255.13,-78.4 1260.73,-74.21\"/>\n</g>\n<!-- 22 -->\n<g id=\"node23\" class=\"node\">\n<title>22</title>\n<path fill=\"#399de5\" stroke=\"black\" d=\"M1413,-68C1413,-68 1315,-68 1315,-68 1309,-68 1303,-62 1303,-56 1303,-56 1303,-12 1303,-12 1303,-6 1309,0 1315,0 1315,0 1413,0 1413,0 1419,0 1425,-6 1425,-12 1425,-12 1425,-56 1425,-56 1425,-62 1419,-68 1413,-68\"/>\n<text text-anchor=\"middle\" x=\"1364\" y=\"-52.8\" font-family=\"Helvetica,sans-Serif\" font-size=\"14.00\">entropy = 0.0</text>\n<text text-anchor=\"middle\" x=\"1364\" y=\"-37.8\" font-family=\"Helvetica,sans-Serif\" font-size=\"14.00\">samples = 4</text>\n<text text-anchor=\"middle\" x=\"1364\" y=\"-22.8\" font-family=\"Helvetica,sans-Serif\" font-size=\"14.00\">value = [0, 4]</text>\n<text text-anchor=\"middle\" x=\"1364\" y=\"-7.8\" font-family=\"Helvetica,sans-Serif\" font-size=\"14.00\">class = heart_yes</text>\n</g>\n<!-- 20&#45;&gt;22 -->\n<g id=\"edge22\" class=\"edge\">\n<title>20&#45;&gt;22</title>\n<path fill=\"none\" stroke=\"black\" d=\"M1329.48,-103.73C1333.79,-95.15 1338.34,-86.09 1342.68,-77.46\"/>\n<polygon fill=\"black\" stroke=\"black\" points=\"1345.91,-78.81 1347.27,-68.3 1339.66,-75.66 1345.91,-78.81\"/>\n</g>\n<!-- 24 -->\n<g id=\"node25\" class=\"node\">\n<title>24</title>\n<path fill=\"#4ea7e8\" stroke=\"black\" d=\"M1622,-187C1622,-187 1524,-187 1524,-187 1518,-187 1512,-181 1512,-175 1512,-175 1512,-116 1512,-116 1512,-110 1518,-104 1524,-104 1524,-104 1622,-104 1622,-104 1628,-104 1634,-110 1634,-116 1634,-116 1634,-175 1634,-175 1634,-181 1628,-187 1622,-187\"/>\n<text text-anchor=\"middle\" x=\"1573\" y=\"-171.8\" font-family=\"Helvetica,sans-Serif\" font-size=\"14.00\">BMI &lt;= 16.1</text>\n<text text-anchor=\"middle\" x=\"1573\" y=\"-156.8\" font-family=\"Helvetica,sans-Serif\" font-size=\"14.00\">entropy = 0.455</text>\n<text text-anchor=\"middle\" x=\"1573\" y=\"-141.8\" font-family=\"Helvetica,sans-Serif\" font-size=\"14.00\">samples = 94</text>\n<text text-anchor=\"middle\" x=\"1573\" y=\"-126.8\" font-family=\"Helvetica,sans-Serif\" font-size=\"14.00\">value = [9, 85]</text>\n<text text-anchor=\"middle\" x=\"1573\" y=\"-111.8\" font-family=\"Helvetica,sans-Serif\" font-size=\"14.00\">class = heart_yes</text>\n</g>\n<!-- 23&#45;&gt;24 -->\n<g id=\"edge24\" class=\"edge\">\n<title>23&#45;&gt;24</title>\n<path fill=\"none\" stroke=\"black\" d=\"M1573,-222.91C1573,-214.65 1573,-205.86 1573,-197.3\"/>\n<polygon fill=\"black\" stroke=\"black\" points=\"1576.5,-197.02 1573,-187.02 1569.5,-197.02 1576.5,-197.02\"/>\n</g>\n<!-- 27 -->\n<g id=\"node28\" class=\"node\">\n<title>27</title>\n<path fill=\"#a3d2f3\" stroke=\"black\" d=\"M1836,-187C1836,-187 1732,-187 1732,-187 1726,-187 1720,-181 1720,-175 1720,-175 1720,-116 1720,-116 1720,-110 1726,-104 1732,-104 1732,-104 1836,-104 1836,-104 1842,-104 1848,-110 1848,-116 1848,-116 1848,-175 1848,-175 1848,-181 1842,-187 1836,-187\"/>\n<text text-anchor=\"middle\" x=\"1784\" y=\"-171.8\" font-family=\"Helvetica,sans-Serif\" font-size=\"14.00\">calories &lt;= 3316.5</text>\n<text text-anchor=\"middle\" x=\"1784\" y=\"-156.8\" font-family=\"Helvetica,sans-Serif\" font-size=\"14.00\">entropy = 0.933</text>\n<text text-anchor=\"middle\" x=\"1784\" y=\"-141.8\" font-family=\"Helvetica,sans-Serif\" font-size=\"14.00\">samples = 292</text>\n<text text-anchor=\"middle\" x=\"1784\" y=\"-126.8\" font-family=\"Helvetica,sans-Serif\" font-size=\"14.00\">value = [102, 190]</text>\n<text text-anchor=\"middle\" x=\"1784\" y=\"-111.8\" font-family=\"Helvetica,sans-Serif\" font-size=\"14.00\">class = heart_yes</text>\n</g>\n<!-- 23&#45;&gt;27 -->\n<g id=\"edge27\" class=\"edge\">\n<title>23&#45;&gt;27</title>\n<path fill=\"none\" stroke=\"black\" d=\"M1646.21,-222.91C1667.14,-211.3 1689.95,-198.65 1710.88,-187.05\"/>\n<polygon fill=\"black\" stroke=\"black\" points=\"1712.67,-190.05 1719.72,-182.14 1709.28,-183.93 1712.67,-190.05\"/>\n</g>\n<!-- 25 -->\n<g id=\"node26\" class=\"node\">\n<title>25</title>\n<path fill=\"#bddef6\" stroke=\"black\" d=\"M1553,-68C1553,-68 1455,-68 1455,-68 1449,-68 1443,-62 1443,-56 1443,-56 1443,-12 1443,-12 1443,-6 1449,0 1455,0 1455,0 1553,0 1553,0 1559,0 1565,-6 1565,-12 1565,-12 1565,-56 1565,-56 1565,-62 1559,-68 1553,-68\"/>\n<text text-anchor=\"middle\" x=\"1504\" y=\"-52.8\" font-family=\"Helvetica,sans-Serif\" font-size=\"14.00\">entropy = 0.971</text>\n<text text-anchor=\"middle\" x=\"1504\" y=\"-37.8\" font-family=\"Helvetica,sans-Serif\" font-size=\"14.00\">samples = 10</text>\n<text text-anchor=\"middle\" x=\"1504\" y=\"-22.8\" font-family=\"Helvetica,sans-Serif\" font-size=\"14.00\">value = [4, 6]</text>\n<text text-anchor=\"middle\" x=\"1504\" y=\"-7.8\" font-family=\"Helvetica,sans-Serif\" font-size=\"14.00\">class = heart_yes</text>\n</g>\n<!-- 24&#45;&gt;25 -->\n<g id=\"edge25\" class=\"edge\">\n<title>24&#45;&gt;25</title>\n<path fill=\"none\" stroke=\"black\" d=\"M1547.31,-103.73C1541.79,-94.97 1535.95,-85.7 1530.41,-76.91\"/>\n<polygon fill=\"black\" stroke=\"black\" points=\"1533.28,-74.89 1524.98,-68.3 1527.35,-78.63 1533.28,-74.89\"/>\n</g>\n<!-- 26 -->\n<g id=\"node27\" class=\"node\">\n<title>26</title>\n<path fill=\"#46a3e7\" stroke=\"black\" d=\"M1693,-68C1693,-68 1595,-68 1595,-68 1589,-68 1583,-62 1583,-56 1583,-56 1583,-12 1583,-12 1583,-6 1589,0 1595,0 1595,0 1693,0 1693,0 1699,0 1705,-6 1705,-12 1705,-12 1705,-56 1705,-56 1705,-62 1699,-68 1693,-68\"/>\n<text text-anchor=\"middle\" x=\"1644\" y=\"-52.8\" font-family=\"Helvetica,sans-Serif\" font-size=\"14.00\">entropy = 0.326</text>\n<text text-anchor=\"middle\" x=\"1644\" y=\"-37.8\" font-family=\"Helvetica,sans-Serif\" font-size=\"14.00\">samples = 84</text>\n<text text-anchor=\"middle\" x=\"1644\" y=\"-22.8\" font-family=\"Helvetica,sans-Serif\" font-size=\"14.00\">value = [5, 79]</text>\n<text text-anchor=\"middle\" x=\"1644\" y=\"-7.8\" font-family=\"Helvetica,sans-Serif\" font-size=\"14.00\">class = heart_yes</text>\n</g>\n<!-- 24&#45;&gt;26 -->\n<g id=\"edge26\" class=\"edge\">\n<title>24&#45;&gt;26</title>\n<path fill=\"none\" stroke=\"black\" d=\"M1599.44,-103.73C1605.12,-94.97 1611.12,-85.7 1616.83,-76.91\"/>\n<polygon fill=\"black\" stroke=\"black\" points=\"1619.9,-78.59 1622.41,-68.3 1614.03,-74.79 1619.9,-78.59\"/>\n</g>\n<!-- 28 -->\n<g id=\"node29\" class=\"node\">\n<title>28</title>\n<path fill=\"#97cbf1\" stroke=\"black\" d=\"M1833,-68C1833,-68 1735,-68 1735,-68 1729,-68 1723,-62 1723,-56 1723,-56 1723,-12 1723,-12 1723,-6 1729,0 1735,0 1735,0 1833,0 1833,0 1839,0 1845,-6 1845,-12 1845,-12 1845,-56 1845,-56 1845,-62 1839,-68 1833,-68\"/>\n<text text-anchor=\"middle\" x=\"1784\" y=\"-52.8\" font-family=\"Helvetica,sans-Serif\" font-size=\"14.00\">entropy = 0.906</text>\n<text text-anchor=\"middle\" x=\"1784\" y=\"-37.8\" font-family=\"Helvetica,sans-Serif\" font-size=\"14.00\">samples = 280</text>\n<text text-anchor=\"middle\" x=\"1784\" y=\"-22.8\" font-family=\"Helvetica,sans-Serif\" font-size=\"14.00\">value = [90, 190]</text>\n<text text-anchor=\"middle\" x=\"1784\" y=\"-7.8\" font-family=\"Helvetica,sans-Serif\" font-size=\"14.00\">class = heart_yes</text>\n</g>\n<!-- 27&#45;&gt;28 -->\n<g id=\"edge28\" class=\"edge\">\n<title>27&#45;&gt;28</title>\n<path fill=\"none\" stroke=\"black\" d=\"M1784,-103.73C1784,-95.52 1784,-86.86 1784,-78.56\"/>\n<polygon fill=\"black\" stroke=\"black\" points=\"1787.5,-78.3 1784,-68.3 1780.5,-78.3 1787.5,-78.3\"/>\n</g>\n<!-- 29 -->\n<g id=\"node30\" class=\"node\">\n<title>29</title>\n<path fill=\"#e58139\" stroke=\"black\" d=\"M1967,-68C1967,-68 1875,-68 1875,-68 1869,-68 1863,-62 1863,-56 1863,-56 1863,-12 1863,-12 1863,-6 1869,0 1875,0 1875,0 1967,0 1967,0 1973,0 1979,-6 1979,-12 1979,-12 1979,-56 1979,-56 1979,-62 1973,-68 1967,-68\"/>\n<text text-anchor=\"middle\" x=\"1921\" y=\"-52.8\" font-family=\"Helvetica,sans-Serif\" font-size=\"14.00\">entropy = 0.0</text>\n<text text-anchor=\"middle\" x=\"1921\" y=\"-37.8\" font-family=\"Helvetica,sans-Serif\" font-size=\"14.00\">samples = 12</text>\n<text text-anchor=\"middle\" x=\"1921\" y=\"-22.8\" font-family=\"Helvetica,sans-Serif\" font-size=\"14.00\">value = [12, 0]</text>\n<text text-anchor=\"middle\" x=\"1921\" y=\"-7.8\" font-family=\"Helvetica,sans-Serif\" font-size=\"14.00\">class = heart_no</text>\n</g>\n<!-- 27&#45;&gt;29 -->\n<g id=\"edge29\" class=\"edge\">\n<title>27&#45;&gt;29</title>\n<path fill=\"none\" stroke=\"black\" d=\"M1835.01,-103.73C1846.88,-94.24 1859.5,-84.16 1871.31,-74.72\"/>\n<polygon fill=\"black\" stroke=\"black\" points=\"1873.71,-77.28 1879.34,-68.3 1869.34,-71.81 1873.71,-77.28\"/>\n</g>\n<!-- 31 -->\n<g id=\"node32\" class=\"node\">\n<title>31</title>\n<path fill=\"#c8e4f8\" stroke=\"black\" d=\"M2601.5,-425C2601.5,-425 2478.5,-425 2478.5,-425 2472.5,-425 2466.5,-419 2466.5,-413 2466.5,-413 2466.5,-354 2466.5,-354 2466.5,-348 2472.5,-342 2478.5,-342 2478.5,-342 2601.5,-342 2601.5,-342 2607.5,-342 2613.5,-348 2613.5,-354 2613.5,-354 2613.5,-413 2613.5,-413 2613.5,-419 2607.5,-425 2601.5,-425\"/>\n<text text-anchor=\"middle\" x=\"2540\" y=\"-409.8\" font-family=\"Helvetica,sans-Serif\" font-size=\"14.00\">age &lt;= 77.5</text>\n<text text-anchor=\"middle\" x=\"2540\" y=\"-394.8\" font-family=\"Helvetica,sans-Serif\" font-size=\"14.00\">entropy = 0.981</text>\n<text text-anchor=\"middle\" x=\"2540\" y=\"-379.8\" font-family=\"Helvetica,sans-Serif\" font-size=\"14.00\">samples = 1465</text>\n<text text-anchor=\"middle\" x=\"2540\" y=\"-364.8\" font-family=\"Helvetica,sans-Serif\" font-size=\"14.00\">value = [614.0, 851.0]</text>\n<text text-anchor=\"middle\" x=\"2540\" y=\"-349.8\" font-family=\"Helvetica,sans-Serif\" font-size=\"14.00\">class = heart_yes</text>\n</g>\n<!-- 30&#45;&gt;31 -->\n<g id=\"edge31\" class=\"edge\">\n<title>30&#45;&gt;31</title>\n<path fill=\"none\" stroke=\"black\" d=\"M2540,-460.91C2540,-452.65 2540,-443.86 2540,-435.3\"/>\n<polygon fill=\"black\" stroke=\"black\" points=\"2543.5,-435.02 2540,-425.02 2536.5,-435.02 2543.5,-435.02\"/>\n</g>\n<!-- 46 -->\n<g id=\"node47\" class=\"node\">\n<title>46</title>\n<path fill=\"#59ade9\" stroke=\"black\" d=\"M3363,-425C3363,-425 3207,-425 3207,-425 3201,-425 3195,-419 3195,-413 3195,-413 3195,-354 3195,-354 3195,-348 3201,-342 3207,-342 3207,-342 3363,-342 3363,-342 3369,-342 3375,-348 3375,-354 3375,-354 3375,-413 3375,-413 3375,-419 3369,-425 3363,-425\"/>\n<text text-anchor=\"middle\" x=\"3285\" y=\"-409.8\" font-family=\"Helvetica,sans-Serif\" font-size=\"14.00\">blood_cholesterol &lt;= 3.605</text>\n<text text-anchor=\"middle\" x=\"3285\" y=\"-394.8\" font-family=\"Helvetica,sans-Serif\" font-size=\"14.00\">entropy = 0.582</text>\n<text text-anchor=\"middle\" x=\"3285\" y=\"-379.8\" font-family=\"Helvetica,sans-Serif\" font-size=\"14.00\">samples = 883</text>\n<text text-anchor=\"middle\" x=\"3285\" y=\"-364.8\" font-family=\"Helvetica,sans-Serif\" font-size=\"14.00\">value = [123.0, 760.0]</text>\n<text text-anchor=\"middle\" x=\"3285\" y=\"-349.8\" font-family=\"Helvetica,sans-Serif\" font-size=\"14.00\">class = heart_yes</text>\n</g>\n<!-- 30&#45;&gt;46 -->\n<g id=\"edge46\" class=\"edge\">\n<title>30&#45;&gt;46</title>\n<path fill=\"none\" stroke=\"black\" d=\"M2606.11,-491.12C2737.05,-470.55 3030.03,-424.54 3184.8,-400.24\"/>\n<polygon fill=\"black\" stroke=\"black\" points=\"3185.45,-403.68 3194.79,-398.67 3184.36,-396.76 3185.45,-403.68\"/>\n</g>\n<!-- 32 -->\n<g id=\"node33\" class=\"node\">\n<title>32</title>\n<path fill=\"#fefcfb\" stroke=\"black\" d=\"M2467.5,-306C2467.5,-306 2336.5,-306 2336.5,-306 2330.5,-306 2324.5,-300 2324.5,-294 2324.5,-294 2324.5,-235 2324.5,-235 2324.5,-229 2330.5,-223 2336.5,-223 2336.5,-223 2467.5,-223 2467.5,-223 2473.5,-223 2479.5,-229 2479.5,-235 2479.5,-235 2479.5,-294 2479.5,-294 2479.5,-300 2473.5,-306 2467.5,-306\"/>\n<text text-anchor=\"middle\" x=\"2402\" y=\"-290.8\" font-family=\"Helvetica,sans-Serif\" font-size=\"14.00\">family_income &lt;= 3.84</text>\n<text text-anchor=\"middle\" x=\"2402\" y=\"-275.8\" font-family=\"Helvetica,sans-Serif\" font-size=\"14.00\">entropy = 1.0</text>\n<text text-anchor=\"middle\" x=\"2402\" y=\"-260.8\" font-family=\"Helvetica,sans-Serif\" font-size=\"14.00\">samples = 936</text>\n<text text-anchor=\"middle\" x=\"2402\" y=\"-245.8\" font-family=\"Helvetica,sans-Serif\" font-size=\"14.00\">value = [473, 463]</text>\n<text text-anchor=\"middle\" x=\"2402\" y=\"-230.8\" font-family=\"Helvetica,sans-Serif\" font-size=\"14.00\">class = heart_no</text>\n</g>\n<!-- 31&#45;&gt;32 -->\n<g id=\"edge32\" class=\"edge\">\n<title>31&#45;&gt;32</title>\n<path fill=\"none\" stroke=\"black\" d=\"M2492.12,-341.91C2480.99,-332.47 2469.05,-322.34 2457.61,-312.65\"/>\n<polygon fill=\"black\" stroke=\"black\" points=\"2459.68,-309.82 2449.79,-306.02 2455.16,-315.16 2459.68,-309.82\"/>\n</g>\n<!-- 39 -->\n<g id=\"node40\" class=\"node\">\n<title>39</title>\n<path fill=\"#81c1ee\" stroke=\"black\" d=\"M2724,-306C2724,-306 2598,-306 2598,-306 2592,-306 2586,-300 2586,-294 2586,-294 2586,-235 2586,-235 2586,-229 2592,-223 2598,-223 2598,-223 2724,-223 2724,-223 2730,-223 2736,-229 2736,-235 2736,-235 2736,-294 2736,-294 2736,-300 2730,-306 2724,-306\"/>\n<text text-anchor=\"middle\" x=\"2661\" y=\"-290.8\" font-family=\"Helvetica,sans-Serif\" font-size=\"14.00\">gender_female &lt;= 0.5</text>\n<text text-anchor=\"middle\" x=\"2661\" y=\"-275.8\" font-family=\"Helvetica,sans-Serif\" font-size=\"14.00\">entropy = 0.836</text>\n<text text-anchor=\"middle\" x=\"2661\" y=\"-260.8\" font-family=\"Helvetica,sans-Serif\" font-size=\"14.00\">samples = 529</text>\n<text text-anchor=\"middle\" x=\"2661\" y=\"-245.8\" font-family=\"Helvetica,sans-Serif\" font-size=\"14.00\">value = [141, 388]</text>\n<text text-anchor=\"middle\" x=\"2661\" y=\"-230.8\" font-family=\"Helvetica,sans-Serif\" font-size=\"14.00\">class = heart_yes</text>\n</g>\n<!-- 31&#45;&gt;39 -->\n<g id=\"edge39\" class=\"edge\">\n<title>31&#45;&gt;39</title>\n<path fill=\"none\" stroke=\"black\" d=\"M2581.98,-341.91C2591.55,-332.65 2601.81,-322.73 2611.66,-313.21\"/>\n<polygon fill=\"black\" stroke=\"black\" points=\"2614.34,-315.49 2619.09,-306.02 2609.47,-310.46 2614.34,-315.49\"/>\n</g>\n<!-- 33 -->\n<g id=\"node34\" class=\"node\">\n<title>33</title>\n<path fill=\"#dbedfa\" stroke=\"black\" d=\"M2261.5,-187C2261.5,-187 2138.5,-187 2138.5,-187 2132.5,-187 2126.5,-181 2126.5,-175 2126.5,-175 2126.5,-116 2126.5,-116 2126.5,-110 2132.5,-104 2138.5,-104 2138.5,-104 2261.5,-104 2261.5,-104 2267.5,-104 2273.5,-110 2273.5,-116 2273.5,-116 2273.5,-175 2273.5,-175 2273.5,-181 2267.5,-187 2261.5,-187\"/>\n<text text-anchor=\"middle\" x=\"2200\" y=\"-171.8\" font-family=\"Helvetica,sans-Serif\" font-size=\"14.00\">BMI &lt;= 16.05</text>\n<text text-anchor=\"middle\" x=\"2200\" y=\"-156.8\" font-family=\"Helvetica,sans-Serif\" font-size=\"14.00\">entropy = 0.993</text>\n<text text-anchor=\"middle\" x=\"2200\" y=\"-141.8\" font-family=\"Helvetica,sans-Serif\" font-size=\"14.00\">samples = 737</text>\n<text text-anchor=\"middle\" x=\"2200\" y=\"-126.8\" font-family=\"Helvetica,sans-Serif\" font-size=\"14.00\">value = [332.0, 405.0]</text>\n<text text-anchor=\"middle\" x=\"2200\" y=\"-111.8\" font-family=\"Helvetica,sans-Serif\" font-size=\"14.00\">class = heart_yes</text>\n</g>\n<!-- 32&#45;&gt;33 -->\n<g id=\"edge33\" class=\"edge\">\n<title>32&#45;&gt;33</title>\n<path fill=\"none\" stroke=\"black\" d=\"M2331.92,-222.91C2314.84,-213.02 2296.46,-202.37 2278.99,-192.25\"/>\n<polygon fill=\"black\" stroke=\"black\" points=\"2280.37,-189 2269.96,-187.02 2276.86,-195.06 2280.37,-189\"/>\n</g>\n<!-- 36 -->\n<g id=\"node37\" class=\"node\">\n<title>36</title>\n<path fill=\"#f0b58a\" stroke=\"black\" d=\"M2448.5,-187C2448.5,-187 2355.5,-187 2355.5,-187 2349.5,-187 2343.5,-181 2343.5,-175 2343.5,-175 2343.5,-116 2343.5,-116 2343.5,-110 2349.5,-104 2355.5,-104 2355.5,-104 2448.5,-104 2448.5,-104 2454.5,-104 2460.5,-110 2460.5,-116 2460.5,-116 2460.5,-175 2460.5,-175 2460.5,-181 2454.5,-187 2448.5,-187\"/>\n<text text-anchor=\"middle\" x=\"2402\" y=\"-171.8\" font-family=\"Helvetica,sans-Serif\" font-size=\"14.00\">BMI &lt;= 23.25</text>\n<text text-anchor=\"middle\" x=\"2402\" y=\"-156.8\" font-family=\"Helvetica,sans-Serif\" font-size=\"14.00\">entropy = 0.871</text>\n<text text-anchor=\"middle\" x=\"2402\" y=\"-141.8\" font-family=\"Helvetica,sans-Serif\" font-size=\"14.00\">samples = 199</text>\n<text text-anchor=\"middle\" x=\"2402\" y=\"-126.8\" font-family=\"Helvetica,sans-Serif\" font-size=\"14.00\">value = [141, 58]</text>\n<text text-anchor=\"middle\" x=\"2402\" y=\"-111.8\" font-family=\"Helvetica,sans-Serif\" font-size=\"14.00\">class = heart_no</text>\n</g>\n<!-- 32&#45;&gt;36 -->\n<g id=\"edge36\" class=\"edge\">\n<title>32&#45;&gt;36</title>\n<path fill=\"none\" stroke=\"black\" d=\"M2402,-222.91C2402,-214.65 2402,-205.86 2402,-197.3\"/>\n<polygon fill=\"black\" stroke=\"black\" points=\"2405.5,-197.02 2402,-187.02 2398.5,-197.02 2405.5,-197.02\"/>\n</g>\n<!-- 34 -->\n<g id=\"node35\" class=\"node\">\n<title>34</title>\n<path fill=\"#67b4eb\" stroke=\"black\" d=\"M2107,-68C2107,-68 2009,-68 2009,-68 2003,-68 1997,-62 1997,-56 1997,-56 1997,-12 1997,-12 1997,-6 2003,0 2009,0 2009,0 2107,0 2107,0 2113,0 2119,-6 2119,-12 2119,-12 2119,-56 2119,-56 2119,-62 2113,-68 2107,-68\"/>\n<text text-anchor=\"middle\" x=\"2058\" y=\"-52.8\" font-family=\"Helvetica,sans-Serif\" font-size=\"14.00\">entropy = 0.701</text>\n<text text-anchor=\"middle\" x=\"2058\" y=\"-37.8\" font-family=\"Helvetica,sans-Serif\" font-size=\"14.00\">samples = 100</text>\n<text text-anchor=\"middle\" x=\"2058\" y=\"-22.8\" font-family=\"Helvetica,sans-Serif\" font-size=\"14.00\">value = [19, 81]</text>\n<text text-anchor=\"middle\" x=\"2058\" y=\"-7.8\" font-family=\"Helvetica,sans-Serif\" font-size=\"14.00\">class = heart_yes</text>\n</g>\n<!-- 33&#45;&gt;34 -->\n<g id=\"edge34\" class=\"edge\">\n<title>33&#45;&gt;34</title>\n<path fill=\"none\" stroke=\"black\" d=\"M2147.12,-103.73C2134.71,-94.15 2121.49,-83.96 2109.15,-74.44\"/>\n<polygon fill=\"black\" stroke=\"black\" points=\"2111.24,-71.63 2101.18,-68.3 2106.96,-77.18 2111.24,-71.63\"/>\n</g>\n<!-- 35 -->\n<g id=\"node36\" class=\"node\">\n<title>35</title>\n<path fill=\"#f8fcfe\" stroke=\"black\" d=\"M2250.5,-68C2250.5,-68 2149.5,-68 2149.5,-68 2143.5,-68 2137.5,-62 2137.5,-56 2137.5,-56 2137.5,-12 2137.5,-12 2137.5,-6 2143.5,0 2149.5,0 2149.5,0 2250.5,0 2250.5,0 2256.5,0 2262.5,-6 2262.5,-12 2262.5,-12 2262.5,-56 2262.5,-56 2262.5,-62 2256.5,-68 2250.5,-68\"/>\n<text text-anchor=\"middle\" x=\"2200\" y=\"-52.8\" font-family=\"Helvetica,sans-Serif\" font-size=\"14.00\">entropy = 1.0</text>\n<text text-anchor=\"middle\" x=\"2200\" y=\"-37.8\" font-family=\"Helvetica,sans-Serif\" font-size=\"14.00\">samples = 637</text>\n<text text-anchor=\"middle\" x=\"2200\" y=\"-22.8\" font-family=\"Helvetica,sans-Serif\" font-size=\"14.00\">value = [313, 324]</text>\n<text text-anchor=\"middle\" x=\"2200\" y=\"-7.8\" font-family=\"Helvetica,sans-Serif\" font-size=\"14.00\">class = heart_yes</text>\n</g>\n<!-- 33&#45;&gt;35 -->\n<g id=\"edge35\" class=\"edge\">\n<title>33&#45;&gt;35</title>\n<path fill=\"none\" stroke=\"black\" d=\"M2200,-103.73C2200,-95.52 2200,-86.86 2200,-78.56\"/>\n<polygon fill=\"black\" stroke=\"black\" points=\"2203.5,-78.3 2200,-68.3 2196.5,-78.3 2203.5,-78.3\"/>\n</g>\n<!-- 37 -->\n<g id=\"node38\" class=\"node\">\n<title>37</title>\n<path fill=\"#fae7d9\" stroke=\"black\" d=\"M2401,-68C2401,-68 2293,-68 2293,-68 2287,-68 2281,-62 2281,-56 2281,-56 2281,-12 2281,-12 2281,-6 2287,0 2293,0 2293,0 2401,0 2401,0 2407,0 2413,-6 2413,-12 2413,-12 2413,-56 2413,-56 2413,-62 2407,-68 2401,-68\"/>\n<text text-anchor=\"middle\" x=\"2347\" y=\"-52.8\" font-family=\"Helvetica,sans-Serif\" font-size=\"14.00\">entropy = 0.992</text>\n<text text-anchor=\"middle\" x=\"2347\" y=\"-37.8\" font-family=\"Helvetica,sans-Serif\" font-size=\"14.00\">samples = 114</text>\n<text text-anchor=\"middle\" x=\"2347\" y=\"-22.8\" font-family=\"Helvetica,sans-Serif\" font-size=\"14.00\">value = [63.0, 51.0]</text>\n<text text-anchor=\"middle\" x=\"2347\" y=\"-7.8\" font-family=\"Helvetica,sans-Serif\" font-size=\"14.00\">class = heart_no</text>\n</g>\n<!-- 36&#45;&gt;37 -->\n<g id=\"edge37\" class=\"edge\">\n<title>36&#45;&gt;37</title>\n<path fill=\"none\" stroke=\"black\" d=\"M2381.52,-103.73C2377.21,-95.15 2372.66,-86.09 2368.32,-77.46\"/>\n<polygon fill=\"black\" stroke=\"black\" points=\"2371.34,-75.66 2363.73,-68.3 2365.09,-78.81 2371.34,-75.66\"/>\n</g>\n<!-- 38 -->\n<g id=\"node39\" class=\"node\">\n<title>38</title>\n<path fill=\"#e78c4b\" stroke=\"black\" d=\"M2535,-68C2535,-68 2443,-68 2443,-68 2437,-68 2431,-62 2431,-56 2431,-56 2431,-12 2431,-12 2431,-6 2437,0 2443,0 2443,0 2535,0 2535,0 2541,0 2547,-6 2547,-12 2547,-12 2547,-56 2547,-56 2547,-62 2541,-68 2535,-68\"/>\n<text text-anchor=\"middle\" x=\"2489\" y=\"-52.8\" font-family=\"Helvetica,sans-Serif\" font-size=\"14.00\">entropy = 0.41</text>\n<text text-anchor=\"middle\" x=\"2489\" y=\"-37.8\" font-family=\"Helvetica,sans-Serif\" font-size=\"14.00\">samples = 85</text>\n<text text-anchor=\"middle\" x=\"2489\" y=\"-22.8\" font-family=\"Helvetica,sans-Serif\" font-size=\"14.00\">value = [78, 7]</text>\n<text text-anchor=\"middle\" x=\"2489\" y=\"-7.8\" font-family=\"Helvetica,sans-Serif\" font-size=\"14.00\">class = heart_no</text>\n</g>\n<!-- 36&#45;&gt;38 -->\n<g id=\"edge38\" class=\"edge\">\n<title>36&#45;&gt;38</title>\n<path fill=\"none\" stroke=\"black\" d=\"M2434.4,-103.73C2441.5,-94.79 2449.02,-85.32 2456.14,-76.36\"/>\n<polygon fill=\"black\" stroke=\"black\" points=\"2459.06,-78.31 2462.54,-68.3 2453.58,-73.95 2459.06,-78.31\"/>\n</g>\n<!-- 40 -->\n<g id=\"node41\" class=\"node\">\n<title>40</title>\n<path fill=\"#69b5eb\" stroke=\"black\" d=\"M2739,-187C2739,-187 2583,-187 2583,-187 2577,-187 2571,-181 2571,-175 2571,-175 2571,-116 2571,-116 2571,-110 2577,-104 2583,-104 2583,-104 2739,-104 2739,-104 2745,-104 2751,-110 2751,-116 2751,-116 2751,-175 2751,-175 2751,-181 2745,-187 2739,-187\"/>\n<text text-anchor=\"middle\" x=\"2661\" y=\"-171.8\" font-family=\"Helvetica,sans-Serif\" font-size=\"14.00\">blood_cholesterol &lt;= 3.375</text>\n<text text-anchor=\"middle\" x=\"2661\" y=\"-156.8\" font-family=\"Helvetica,sans-Serif\" font-size=\"14.00\">entropy = 0.71</text>\n<text text-anchor=\"middle\" x=\"2661\" y=\"-141.8\" font-family=\"Helvetica,sans-Serif\" font-size=\"14.00\">samples = 299</text>\n<text text-anchor=\"middle\" x=\"2661\" y=\"-126.8\" font-family=\"Helvetica,sans-Serif\" font-size=\"14.00\">value = [58, 241]</text>\n<text text-anchor=\"middle\" x=\"2661\" y=\"-111.8\" font-family=\"Helvetica,sans-Serif\" font-size=\"14.00\">class = heart_yes</text>\n</g>\n<!-- 39&#45;&gt;40 -->\n<g id=\"edge40\" class=\"edge\">\n<title>39&#45;&gt;40</title>\n<path fill=\"none\" stroke=\"black\" d=\"M2661,-222.91C2661,-214.65 2661,-205.86 2661,-197.3\"/>\n<polygon fill=\"black\" stroke=\"black\" points=\"2664.5,-197.02 2661,-187.02 2657.5,-197.02 2664.5,-197.02\"/>\n</g>\n<!-- 43 -->\n<g id=\"node44\" class=\"node\">\n<title>43</title>\n<path fill=\"#a9d4f4\" stroke=\"black\" d=\"M2988.5,-187C2988.5,-187 2817.5,-187 2817.5,-187 2811.5,-187 2805.5,-181 2805.5,-175 2805.5,-175 2805.5,-116 2805.5,-116 2805.5,-110 2811.5,-104 2817.5,-104 2817.5,-104 2988.5,-104 2988.5,-104 2994.5,-104 3000.5,-110 3000.5,-116 3000.5,-116 3000.5,-175 3000.5,-175 3000.5,-181 2994.5,-187 2988.5,-187\"/>\n<text text-anchor=\"middle\" x=\"2903\" y=\"-171.8\" font-family=\"Helvetica,sans-Serif\" font-size=\"14.00\">blood_pressure_sys &lt;= 101.0</text>\n<text text-anchor=\"middle\" x=\"2903\" y=\"-156.8\" font-family=\"Helvetica,sans-Serif\" font-size=\"14.00\">entropy = 0.943</text>\n<text text-anchor=\"middle\" x=\"2903\" y=\"-141.8\" font-family=\"Helvetica,sans-Serif\" font-size=\"14.00\">samples = 230</text>\n<text text-anchor=\"middle\" x=\"2903\" y=\"-126.8\" font-family=\"Helvetica,sans-Serif\" font-size=\"14.00\">value = [83, 147]</text>\n<text text-anchor=\"middle\" x=\"2903\" y=\"-111.8\" font-family=\"Helvetica,sans-Serif\" font-size=\"14.00\">class = heart_yes</text>\n</g>\n<!-- 39&#45;&gt;43 -->\n<g id=\"edge43\" class=\"edge\">\n<title>39&#45;&gt;43</title>\n<path fill=\"none\" stroke=\"black\" d=\"M2736.24,-227.12C2759.5,-215.88 2785.39,-203.36 2809.71,-191.6\"/>\n<polygon fill=\"black\" stroke=\"black\" points=\"2811.47,-194.64 2818.95,-187.14 2808.42,-188.34 2811.47,-194.64\"/>\n</g>\n<!-- 41 -->\n<g id=\"node42\" class=\"node\">\n<title>41</title>\n<path fill=\"#399de5\" stroke=\"black\" d=\"M2675,-68C2675,-68 2577,-68 2577,-68 2571,-68 2565,-62 2565,-56 2565,-56 2565,-12 2565,-12 2565,-6 2571,0 2577,0 2577,0 2675,0 2675,0 2681,0 2687,-6 2687,-12 2687,-12 2687,-56 2687,-56 2687,-62 2681,-68 2675,-68\"/>\n<text text-anchor=\"middle\" x=\"2626\" y=\"-52.8\" font-family=\"Helvetica,sans-Serif\" font-size=\"14.00\">entropy = 0.0</text>\n<text text-anchor=\"middle\" x=\"2626\" y=\"-37.8\" font-family=\"Helvetica,sans-Serif\" font-size=\"14.00\">samples = 46</text>\n<text text-anchor=\"middle\" x=\"2626\" y=\"-22.8\" font-family=\"Helvetica,sans-Serif\" font-size=\"14.00\">value = [0, 46]</text>\n<text text-anchor=\"middle\" x=\"2626\" y=\"-7.8\" font-family=\"Helvetica,sans-Serif\" font-size=\"14.00\">class = heart_yes</text>\n</g>\n<!-- 40&#45;&gt;41 -->\n<g id=\"edge41\" class=\"edge\">\n<title>40&#45;&gt;41</title>\n<path fill=\"none\" stroke=\"black\" d=\"M2647.97,-103.73C2645.29,-95.34 2642.45,-86.47 2639.75,-78.01\"/>\n<polygon fill=\"black\" stroke=\"black\" points=\"2643.02,-76.76 2636.64,-68.3 2636.35,-78.89 2643.02,-76.76\"/>\n</g>\n<!-- 42 -->\n<g id=\"node43\" class=\"node\">\n<title>42</title>\n<path fill=\"#74baed\" stroke=\"black\" d=\"M2815,-68C2815,-68 2717,-68 2717,-68 2711,-68 2705,-62 2705,-56 2705,-56 2705,-12 2705,-12 2705,-6 2711,0 2717,0 2717,0 2815,0 2815,0 2821,0 2827,-6 2827,-12 2827,-12 2827,-56 2827,-56 2827,-62 2821,-68 2815,-68\"/>\n<text text-anchor=\"middle\" x=\"2766\" y=\"-52.8\" font-family=\"Helvetica,sans-Serif\" font-size=\"14.00\">entropy = 0.777</text>\n<text text-anchor=\"middle\" x=\"2766\" y=\"-37.8\" font-family=\"Helvetica,sans-Serif\" font-size=\"14.00\">samples = 253</text>\n<text text-anchor=\"middle\" x=\"2766\" y=\"-22.8\" font-family=\"Helvetica,sans-Serif\" font-size=\"14.00\">value = [58, 195]</text>\n<text text-anchor=\"middle\" x=\"2766\" y=\"-7.8\" font-family=\"Helvetica,sans-Serif\" font-size=\"14.00\">class = heart_yes</text>\n</g>\n<!-- 40&#45;&gt;42 -->\n<g id=\"edge42\" class=\"edge\">\n<title>40&#45;&gt;42</title>\n<path fill=\"none\" stroke=\"black\" d=\"M2700.1,-103.73C2708.93,-94.51 2718.31,-84.74 2727.13,-75.53\"/>\n<polygon fill=\"black\" stroke=\"black\" points=\"2729.67,-77.94 2734.07,-68.3 2724.62,-73.1 2729.67,-77.94\"/>\n</g>\n<!-- 44 -->\n<g id=\"node45\" class=\"node\">\n<title>44</title>\n<path fill=\"#e58139\" stroke=\"black\" d=\"M2949,-68C2949,-68 2857,-68 2857,-68 2851,-68 2845,-62 2845,-56 2845,-56 2845,-12 2845,-12 2845,-6 2851,0 2857,0 2857,0 2949,0 2949,0 2955,0 2961,-6 2961,-12 2961,-12 2961,-56 2961,-56 2961,-62 2955,-68 2949,-68\"/>\n<text text-anchor=\"middle\" x=\"2903\" y=\"-52.8\" font-family=\"Helvetica,sans-Serif\" font-size=\"14.00\">entropy = 0.0</text>\n<text text-anchor=\"middle\" x=\"2903\" y=\"-37.8\" font-family=\"Helvetica,sans-Serif\" font-size=\"14.00\">samples = 9</text>\n<text text-anchor=\"middle\" x=\"2903\" y=\"-22.8\" font-family=\"Helvetica,sans-Serif\" font-size=\"14.00\">value = [9, 0]</text>\n<text text-anchor=\"middle\" x=\"2903\" y=\"-7.8\" font-family=\"Helvetica,sans-Serif\" font-size=\"14.00\">class = heart_no</text>\n</g>\n<!-- 43&#45;&gt;44 -->\n<g id=\"edge44\" class=\"edge\">\n<title>43&#45;&gt;44</title>\n<path fill=\"none\" stroke=\"black\" d=\"M2903,-103.73C2903,-95.52 2903,-86.86 2903,-78.56\"/>\n<polygon fill=\"black\" stroke=\"black\" points=\"2906.5,-78.3 2903,-68.3 2899.5,-78.3 2906.5,-78.3\"/>\n</g>\n<!-- 45 -->\n<g id=\"node46\" class=\"node\">\n<title>45</title>\n<path fill=\"#9dcef2\" stroke=\"black\" d=\"M3089,-68C3089,-68 2991,-68 2991,-68 2985,-68 2979,-62 2979,-56 2979,-56 2979,-12 2979,-12 2979,-6 2985,0 2991,0 2991,0 3089,0 3089,0 3095,0 3101,-6 3101,-12 3101,-12 3101,-56 3101,-56 3101,-62 3095,-68 3089,-68\"/>\n<text text-anchor=\"middle\" x=\"3040\" y=\"-52.8\" font-family=\"Helvetica,sans-Serif\" font-size=\"14.00\">entropy = 0.92</text>\n<text text-anchor=\"middle\" x=\"3040\" y=\"-37.8\" font-family=\"Helvetica,sans-Serif\" font-size=\"14.00\">samples = 221</text>\n<text text-anchor=\"middle\" x=\"3040\" y=\"-22.8\" font-family=\"Helvetica,sans-Serif\" font-size=\"14.00\">value = [74, 147]</text>\n<text text-anchor=\"middle\" x=\"3040\" y=\"-7.8\" font-family=\"Helvetica,sans-Serif\" font-size=\"14.00\">class = heart_yes</text>\n</g>\n<!-- 43&#45;&gt;45 -->\n<g id=\"edge45\" class=\"edge\">\n<title>43&#45;&gt;45</title>\n<path fill=\"none\" stroke=\"black\" d=\"M2954.01,-103.73C2965.88,-94.24 2978.5,-84.16 2990.31,-74.72\"/>\n<polygon fill=\"black\" stroke=\"black\" points=\"2992.71,-77.28 2998.34,-68.3 2988.34,-71.81 2992.71,-77.28\"/>\n</g>\n<!-- 47 -->\n<g id=\"node48\" class=\"node\">\n<title>47</title>\n<path fill=\"#bddef6\" stroke=\"black\" d=\"M3334,-306C3334,-306 3236,-306 3236,-306 3230,-306 3224,-300 3224,-294 3224,-294 3224,-235 3224,-235 3224,-229 3230,-223 3236,-223 3236,-223 3334,-223 3334,-223 3340,-223 3346,-229 3346,-235 3346,-235 3346,-294 3346,-294 3346,-300 3340,-306 3334,-306\"/>\n<text text-anchor=\"middle\" x=\"3285\" y=\"-290.8\" font-family=\"Helvetica,sans-Serif\" font-size=\"14.00\">BMI &lt;= 27.05</text>\n<text text-anchor=\"middle\" x=\"3285\" y=\"-275.8\" font-family=\"Helvetica,sans-Serif\" font-size=\"14.00\">entropy = 0.971</text>\n<text text-anchor=\"middle\" x=\"3285\" y=\"-260.8\" font-family=\"Helvetica,sans-Serif\" font-size=\"14.00\">samples = 60</text>\n<text text-anchor=\"middle\" x=\"3285\" y=\"-245.8\" font-family=\"Helvetica,sans-Serif\" font-size=\"14.00\">value = [24, 36]</text>\n<text text-anchor=\"middle\" x=\"3285\" y=\"-230.8\" font-family=\"Helvetica,sans-Serif\" font-size=\"14.00\">class = heart_yes</text>\n</g>\n<!-- 46&#45;&gt;47 -->\n<g id=\"edge47\" class=\"edge\">\n<title>46&#45;&gt;47</title>\n<path fill=\"none\" stroke=\"black\" d=\"M3285,-341.91C3285,-333.65 3285,-324.86 3285,-316.3\"/>\n<polygon fill=\"black\" stroke=\"black\" points=\"3288.5,-316.02 3285,-306.02 3281.5,-316.02 3288.5,-316.02\"/>\n</g>\n<!-- 52 -->\n<g id=\"node53\" class=\"node\">\n<title>52</title>\n<path fill=\"#54aae9\" stroke=\"black\" d=\"M3644.5,-306C3644.5,-306 3473.5,-306 3473.5,-306 3467.5,-306 3461.5,-300 3461.5,-294 3461.5,-294 3461.5,-235 3461.5,-235 3461.5,-229 3467.5,-223 3473.5,-223 3473.5,-223 3644.5,-223 3644.5,-223 3650.5,-223 3656.5,-229 3656.5,-235 3656.5,-235 3656.5,-294 3656.5,-294 3656.5,-300 3650.5,-306 3644.5,-306\"/>\n<text text-anchor=\"middle\" x=\"3559\" y=\"-290.8\" font-family=\"Helvetica,sans-Serif\" font-size=\"14.00\">blood_pressure_sys &lt;= 135.0</text>\n<text text-anchor=\"middle\" x=\"3559\" y=\"-275.8\" font-family=\"Helvetica,sans-Serif\" font-size=\"14.00\">entropy = 0.53</text>\n<text text-anchor=\"middle\" x=\"3559\" y=\"-260.8\" font-family=\"Helvetica,sans-Serif\" font-size=\"14.00\">samples = 823</text>\n<text text-anchor=\"middle\" x=\"3559\" y=\"-245.8\" font-family=\"Helvetica,sans-Serif\" font-size=\"14.00\">value = [99, 724]</text>\n<text text-anchor=\"middle\" x=\"3559\" y=\"-230.8\" font-family=\"Helvetica,sans-Serif\" font-size=\"14.00\">class = heart_yes</text>\n</g>\n<!-- 46&#45;&gt;52 -->\n<g id=\"edge52\" class=\"edge\">\n<title>46&#45;&gt;52</title>\n<path fill=\"none\" stroke=\"black\" d=\"M3375.1,-344.03C3400.63,-333.12 3428.64,-321.17 3454.92,-309.94\"/>\n<polygon fill=\"black\" stroke=\"black\" points=\"3456.32,-313.15 3464.14,-306.01 3453.57,-306.71 3456.32,-313.15\"/>\n</g>\n<!-- 48 -->\n<g id=\"node49\" class=\"node\">\n<title>48</title>\n<path fill=\"#6ab6ec\" stroke=\"black\" d=\"M3278.5,-187C3278.5,-187 3129.5,-187 3129.5,-187 3123.5,-187 3117.5,-181 3117.5,-175 3117.5,-175 3117.5,-116 3117.5,-116 3117.5,-110 3123.5,-104 3129.5,-104 3129.5,-104 3278.5,-104 3278.5,-104 3284.5,-104 3290.5,-110 3290.5,-116 3290.5,-116 3290.5,-175 3290.5,-175 3290.5,-181 3284.5,-187 3278.5,-187\"/>\n<text text-anchor=\"middle\" x=\"3204\" y=\"-171.8\" font-family=\"Helvetica,sans-Serif\" font-size=\"14.00\">blood_cholesterol &lt;= 3.48</text>\n<text text-anchor=\"middle\" x=\"3204\" y=\"-156.8\" font-family=\"Helvetica,sans-Serif\" font-size=\"14.00\">entropy = 0.722</text>\n<text text-anchor=\"middle\" x=\"3204\" y=\"-141.8\" font-family=\"Helvetica,sans-Serif\" font-size=\"14.00\">samples = 45</text>\n<text text-anchor=\"middle\" x=\"3204\" y=\"-126.8\" font-family=\"Helvetica,sans-Serif\" font-size=\"14.00\">value = [9, 36]</text>\n<text text-anchor=\"middle\" x=\"3204\" y=\"-111.8\" font-family=\"Helvetica,sans-Serif\" font-size=\"14.00\">class = heart_yes</text>\n</g>\n<!-- 47&#45;&gt;48 -->\n<g id=\"edge48\" class=\"edge\">\n<title>47&#45;&gt;48</title>\n<path fill=\"none\" stroke=\"black\" d=\"M3256.9,-222.91C3250.74,-214.01 3244.16,-204.51 3237.81,-195.33\"/>\n<polygon fill=\"black\" stroke=\"black\" points=\"3240.62,-193.25 3232.05,-187.02 3234.87,-197.24 3240.62,-193.25\"/>\n</g>\n<!-- 51 -->\n<g id=\"node52\" class=\"node\">\n<title>51</title>\n<path fill=\"#e58139\" stroke=\"black\" d=\"M3413,-179.5C3413,-179.5 3321,-179.5 3321,-179.5 3315,-179.5 3309,-173.5 3309,-167.5 3309,-167.5 3309,-123.5 3309,-123.5 3309,-117.5 3315,-111.5 3321,-111.5 3321,-111.5 3413,-111.5 3413,-111.5 3419,-111.5 3425,-117.5 3425,-123.5 3425,-123.5 3425,-167.5 3425,-167.5 3425,-173.5 3419,-179.5 3413,-179.5\"/>\n<text text-anchor=\"middle\" x=\"3367\" y=\"-164.3\" font-family=\"Helvetica,sans-Serif\" font-size=\"14.00\">entropy = 0.0</text>\n<text text-anchor=\"middle\" x=\"3367\" y=\"-149.3\" font-family=\"Helvetica,sans-Serif\" font-size=\"14.00\">samples = 15</text>\n<text text-anchor=\"middle\" x=\"3367\" y=\"-134.3\" font-family=\"Helvetica,sans-Serif\" font-size=\"14.00\">value = [15, 0]</text>\n<text text-anchor=\"middle\" x=\"3367\" y=\"-119.3\" font-family=\"Helvetica,sans-Serif\" font-size=\"14.00\">class = heart_no</text>\n</g>\n<!-- 47&#45;&gt;51 -->\n<g id=\"edge51\" class=\"edge\">\n<title>47&#45;&gt;51</title>\n<path fill=\"none\" stroke=\"black\" d=\"M3313.45,-222.91C3321.34,-211.65 3329.91,-199.42 3337.84,-188.11\"/>\n<polygon fill=\"black\" stroke=\"black\" points=\"3340.88,-189.86 3343.75,-179.67 3335.15,-185.85 3340.88,-189.86\"/>\n</g>\n<!-- 49 -->\n<g id=\"node50\" class=\"node\">\n<title>49</title>\n<path fill=\"#4fa8e8\" stroke=\"black\" d=\"M3229,-68C3229,-68 3131,-68 3131,-68 3125,-68 3119,-62 3119,-56 3119,-56 3119,-12 3119,-12 3119,-6 3125,0 3131,0 3131,0 3229,0 3229,0 3235,0 3241,-6 3241,-12 3241,-12 3241,-56 3241,-56 3241,-62 3235,-68 3229,-68\"/>\n<text text-anchor=\"middle\" x=\"3180\" y=\"-52.8\" font-family=\"Helvetica,sans-Serif\" font-size=\"14.00\">entropy = 0.469</text>\n<text text-anchor=\"middle\" x=\"3180\" y=\"-37.8\" font-family=\"Helvetica,sans-Serif\" font-size=\"14.00\">samples = 40</text>\n<text text-anchor=\"middle\" x=\"3180\" y=\"-22.8\" font-family=\"Helvetica,sans-Serif\" font-size=\"14.00\">value = [4, 36]</text>\n<text text-anchor=\"middle\" x=\"3180\" y=\"-7.8\" font-family=\"Helvetica,sans-Serif\" font-size=\"14.00\">class = heart_yes</text>\n</g>\n<!-- 48&#45;&gt;49 -->\n<g id=\"edge49\" class=\"edge\">\n<title>48&#45;&gt;49</title>\n<path fill=\"none\" stroke=\"black\" d=\"M3195.06,-103.73C3193.24,-95.43 3191.32,-86.67 3189.49,-78.28\"/>\n<polygon fill=\"black\" stroke=\"black\" points=\"3192.86,-77.32 3187.3,-68.3 3186.02,-78.82 3192.86,-77.32\"/>\n</g>\n<!-- 50 -->\n<g id=\"node51\" class=\"node\">\n<title>50</title>\n<path fill=\"#e58139\" stroke=\"black\" d=\"M3363,-68C3363,-68 3271,-68 3271,-68 3265,-68 3259,-62 3259,-56 3259,-56 3259,-12 3259,-12 3259,-6 3265,0 3271,0 3271,0 3363,0 3363,0 3369,0 3375,-6 3375,-12 3375,-12 3375,-56 3375,-56 3375,-62 3369,-68 3363,-68\"/>\n<text text-anchor=\"middle\" x=\"3317\" y=\"-52.8\" font-family=\"Helvetica,sans-Serif\" font-size=\"14.00\">entropy = 0.0</text>\n<text text-anchor=\"middle\" x=\"3317\" y=\"-37.8\" font-family=\"Helvetica,sans-Serif\" font-size=\"14.00\">samples = 5</text>\n<text text-anchor=\"middle\" x=\"3317\" y=\"-22.8\" font-family=\"Helvetica,sans-Serif\" font-size=\"14.00\">value = [5, 0]</text>\n<text text-anchor=\"middle\" x=\"3317\" y=\"-7.8\" font-family=\"Helvetica,sans-Serif\" font-size=\"14.00\">class = heart_no</text>\n</g>\n<!-- 48&#45;&gt;50 -->\n<g id=\"edge50\" class=\"edge\">\n<title>48&#45;&gt;50</title>\n<path fill=\"none\" stroke=\"black\" d=\"M3246.08,-103.73C3255.68,-94.42 3265.87,-84.54 3275.45,-75.26\"/>\n<polygon fill=\"black\" stroke=\"black\" points=\"3277.89,-77.77 3282.64,-68.3 3273.02,-72.75 3277.89,-77.77\"/>\n</g>\n<!-- 53 -->\n<g id=\"node54\" class=\"node\">\n<title>53</title>\n<path fill=\"#59ade9\" stroke=\"black\" d=\"M3616,-187C3616,-187 3502,-187 3502,-187 3496,-187 3490,-181 3490,-175 3490,-175 3490,-116 3490,-116 3490,-110 3496,-104 3502,-104 3502,-104 3616,-104 3616,-104 3622,-104 3628,-110 3628,-116 3628,-116 3628,-175 3628,-175 3628,-181 3622,-187 3616,-187\"/>\n<text text-anchor=\"middle\" x=\"3559\" y=\"-171.8\" font-family=\"Helvetica,sans-Serif\" font-size=\"14.00\">diastolic_bp &lt;= 57.0</text>\n<text text-anchor=\"middle\" x=\"3559\" y=\"-156.8\" font-family=\"Helvetica,sans-Serif\" font-size=\"14.00\">entropy = 0.586</text>\n<text text-anchor=\"middle\" x=\"3559\" y=\"-141.8\" font-family=\"Helvetica,sans-Serif\" font-size=\"14.00\">samples = 668</text>\n<text text-anchor=\"middle\" x=\"3559\" y=\"-126.8\" font-family=\"Helvetica,sans-Serif\" font-size=\"14.00\">value = [94, 574]</text>\n<text text-anchor=\"middle\" x=\"3559\" y=\"-111.8\" font-family=\"Helvetica,sans-Serif\" font-size=\"14.00\">class = heart_yes</text>\n</g>\n<!-- 52&#45;&gt;53 -->\n<g id=\"edge53\" class=\"edge\">\n<title>52&#45;&gt;53</title>\n<path fill=\"none\" stroke=\"black\" d=\"M3559,-222.91C3559,-214.65 3559,-205.86 3559,-197.3\"/>\n<polygon fill=\"black\" stroke=\"black\" points=\"3562.5,-197.02 3559,-187.02 3555.5,-197.02 3562.5,-197.02\"/>\n</g>\n<!-- 56 -->\n<g id=\"node57\" class=\"node\">\n<title>56</title>\n<path fill=\"#40a0e6\" stroke=\"black\" d=\"M3786,-187C3786,-187 3682,-187 3682,-187 3676,-187 3670,-181 3670,-175 3670,-175 3670,-116 3670,-116 3670,-110 3676,-104 3682,-104 3682,-104 3786,-104 3786,-104 3792,-104 3798,-110 3798,-116 3798,-116 3798,-175 3798,-175 3798,-181 3792,-187 3786,-187\"/>\n<text text-anchor=\"middle\" x=\"3734\" y=\"-171.8\" font-family=\"Helvetica,sans-Serif\" font-size=\"14.00\">calories &lt;= 1992.5</text>\n<text text-anchor=\"middle\" x=\"3734\" y=\"-156.8\" font-family=\"Helvetica,sans-Serif\" font-size=\"14.00\">entropy = 0.206</text>\n<text text-anchor=\"middle\" x=\"3734\" y=\"-141.8\" font-family=\"Helvetica,sans-Serif\" font-size=\"14.00\">samples = 155</text>\n<text text-anchor=\"middle\" x=\"3734\" y=\"-126.8\" font-family=\"Helvetica,sans-Serif\" font-size=\"14.00\">value = [5, 150]</text>\n<text text-anchor=\"middle\" x=\"3734\" y=\"-111.8\" font-family=\"Helvetica,sans-Serif\" font-size=\"14.00\">class = heart_yes</text>\n</g>\n<!-- 52&#45;&gt;56 -->\n<g id=\"edge56\" class=\"edge\">\n<title>52&#45;&gt;56</title>\n<path fill=\"none\" stroke=\"black\" d=\"M3619.72,-222.91C3634.24,-213.2 3649.85,-202.76 3664.73,-192.81\"/>\n<polygon fill=\"black\" stroke=\"black\" points=\"3667.02,-195.49 3673.39,-187.02 3663.13,-189.67 3667.02,-195.49\"/>\n</g>\n<!-- 54 -->\n<g id=\"node55\" class=\"node\">\n<title>54</title>\n<path fill=\"#9acdf2\" stroke=\"black\" d=\"M3503,-68C3503,-68 3405,-68 3405,-68 3399,-68 3393,-62 3393,-56 3393,-56 3393,-12 3393,-12 3393,-6 3399,0 3405,0 3405,0 3503,0 3503,0 3509,0 3515,-6 3515,-12 3515,-12 3515,-56 3515,-56 3515,-62 3509,-68 3503,-68\"/>\n<text text-anchor=\"middle\" x=\"3454\" y=\"-52.8\" font-family=\"Helvetica,sans-Serif\" font-size=\"14.00\">entropy = 0.914</text>\n<text text-anchor=\"middle\" x=\"3454\" y=\"-37.8\" font-family=\"Helvetica,sans-Serif\" font-size=\"14.00\">samples = 76</text>\n<text text-anchor=\"middle\" x=\"3454\" y=\"-22.8\" font-family=\"Helvetica,sans-Serif\" font-size=\"14.00\">value = [25, 51]</text>\n<text text-anchor=\"middle\" x=\"3454\" y=\"-7.8\" font-family=\"Helvetica,sans-Serif\" font-size=\"14.00\">class = heart_yes</text>\n</g>\n<!-- 53&#45;&gt;54 -->\n<g id=\"edge54\" class=\"edge\">\n<title>53&#45;&gt;54</title>\n<path fill=\"none\" stroke=\"black\" d=\"M3519.9,-103.73C3511.07,-94.51 3501.69,-84.74 3492.87,-75.53\"/>\n<polygon fill=\"black\" stroke=\"black\" points=\"3495.38,-73.1 3485.93,-68.3 3490.33,-77.94 3495.38,-73.1\"/>\n</g>\n<!-- 55 -->\n<g id=\"node56\" class=\"node\">\n<title>55</title>\n<path fill=\"#53aae8\" stroke=\"black\" d=\"M3643,-68C3643,-68 3545,-68 3545,-68 3539,-68 3533,-62 3533,-56 3533,-56 3533,-12 3533,-12 3533,-6 3539,0 3545,0 3545,0 3643,0 3643,0 3649,0 3655,-6 3655,-12 3655,-12 3655,-56 3655,-56 3655,-62 3649,-68 3643,-68\"/>\n<text text-anchor=\"middle\" x=\"3594\" y=\"-52.8\" font-family=\"Helvetica,sans-Serif\" font-size=\"14.00\">entropy = 0.519</text>\n<text text-anchor=\"middle\" x=\"3594\" y=\"-37.8\" font-family=\"Helvetica,sans-Serif\" font-size=\"14.00\">samples = 592</text>\n<text text-anchor=\"middle\" x=\"3594\" y=\"-22.8\" font-family=\"Helvetica,sans-Serif\" font-size=\"14.00\">value = [69, 523]</text>\n<text text-anchor=\"middle\" x=\"3594\" y=\"-7.8\" font-family=\"Helvetica,sans-Serif\" font-size=\"14.00\">class = heart_yes</text>\n</g>\n<!-- 53&#45;&gt;55 -->\n<g id=\"edge55\" class=\"edge\">\n<title>53&#45;&gt;55</title>\n<path fill=\"none\" stroke=\"black\" d=\"M3572.03,-103.73C3574.71,-95.34 3577.55,-86.47 3580.25,-78.01\"/>\n<polygon fill=\"black\" stroke=\"black\" points=\"3583.65,-78.89 3583.36,-68.3 3576.98,-76.76 3583.65,-78.89\"/>\n</g>\n<!-- 57 -->\n<g id=\"node58\" class=\"node\">\n<title>57</title>\n<path fill=\"#399de5\" stroke=\"black\" d=\"M3783,-68C3783,-68 3685,-68 3685,-68 3679,-68 3673,-62 3673,-56 3673,-56 3673,-12 3673,-12 3673,-6 3679,0 3685,0 3685,0 3783,0 3783,0 3789,0 3795,-6 3795,-12 3795,-12 3795,-56 3795,-56 3795,-62 3789,-68 3783,-68\"/>\n<text text-anchor=\"middle\" x=\"3734\" y=\"-52.8\" font-family=\"Helvetica,sans-Serif\" font-size=\"14.00\">entropy = 0.0</text>\n<text text-anchor=\"middle\" x=\"3734\" y=\"-37.8\" font-family=\"Helvetica,sans-Serif\" font-size=\"14.00\">samples = 110</text>\n<text text-anchor=\"middle\" x=\"3734\" y=\"-22.8\" font-family=\"Helvetica,sans-Serif\" font-size=\"14.00\">value = [0, 110]</text>\n<text text-anchor=\"middle\" x=\"3734\" y=\"-7.8\" font-family=\"Helvetica,sans-Serif\" font-size=\"14.00\">class = heart_yes</text>\n</g>\n<!-- 56&#45;&gt;57 -->\n<g id=\"edge57\" class=\"edge\">\n<title>56&#45;&gt;57</title>\n<path fill=\"none\" stroke=\"black\" d=\"M3734,-103.73C3734,-95.52 3734,-86.86 3734,-78.56\"/>\n<polygon fill=\"black\" stroke=\"black\" points=\"3737.5,-78.3 3734,-68.3 3730.5,-78.3 3737.5,-78.3\"/>\n</g>\n<!-- 58 -->\n<g id=\"node59\" class=\"node\">\n<title>58</title>\n<path fill=\"#52a9e8\" stroke=\"black\" d=\"M3923,-68C3923,-68 3825,-68 3825,-68 3819,-68 3813,-62 3813,-56 3813,-56 3813,-12 3813,-12 3813,-6 3819,0 3825,0 3825,0 3923,0 3923,0 3929,0 3935,-6 3935,-12 3935,-12 3935,-56 3935,-56 3935,-62 3929,-68 3923,-68\"/>\n<text text-anchor=\"middle\" x=\"3874\" y=\"-52.8\" font-family=\"Helvetica,sans-Serif\" font-size=\"14.00\">entropy = 0.503</text>\n<text text-anchor=\"middle\" x=\"3874\" y=\"-37.8\" font-family=\"Helvetica,sans-Serif\" font-size=\"14.00\">samples = 45</text>\n<text text-anchor=\"middle\" x=\"3874\" y=\"-22.8\" font-family=\"Helvetica,sans-Serif\" font-size=\"14.00\">value = [5, 40]</text>\n<text text-anchor=\"middle\" x=\"3874\" y=\"-7.8\" font-family=\"Helvetica,sans-Serif\" font-size=\"14.00\">class = heart_yes</text>\n</g>\n<!-- 56&#45;&gt;58 -->\n<g id=\"edge58\" class=\"edge\">\n<title>56&#45;&gt;58</title>\n<path fill=\"none\" stroke=\"black\" d=\"M3786.13,-103.73C3798.26,-94.24 3811.15,-84.16 3823.22,-74.72\"/>\n<polygon fill=\"black\" stroke=\"black\" points=\"3825.7,-77.22 3831.43,-68.3 3821.39,-71.7 3825.7,-77.22\"/>\n</g>\n</g>\n</svg>\n",
            "text/plain": [
              "<graphviz.sources.Source at 0x7a449f5a7ec0>"
            ]
          },
          "metadata": {}
        }
      ],
      "source": [
        "# create a DecisionTreeClassifier\n",
        "tree_overfit = DecisionTreeClassifier(criterion=\"entropy\", max_depth=5)\n",
        "\n",
        "# fit it to our data\n",
        "tree_overfit.fit(X_train, t_train)\n",
        "\n",
        "# Print the training and validation accuracy\n",
        "print(\"Training Accuracy:\", tree_overfit.score(X_train, t_train))\n",
        "print(\"Validation Accuracy:\", tree_overfit.score(X_val, t_val))\n",
        "\n",
        "# visualize the tree\n",
        "visualize_tree(tree_overfit)"
      ]
    },
    {
      "cell_type": "markdown",
      "id": "vocal-scheme",
      "metadata": {
        "id": "vocal-scheme"
      },
      "source": [
        "**Graded Task:** What value of `max_depth` did you choose to make the tree underfit, or overfit? Why do these values cause the graph to underfit, or overfit?"
      ]
    },
    {
      "cell_type": "code",
      "execution_count": null,
      "id": "proper-gallery",
      "metadata": {
        "id": "proper-gallery"
      },
      "outputs": [],
      "source": [
        "# TODO"
      ]
    },
    {
      "cell_type": "markdown",
      "id": "amended-facial",
      "metadata": {
        "id": "amended-facial"
      },
      "source": [
        "We will now repeat the same computation as above, but vary the `min_samples_split` parameter instead of `max_depth`.\n",
        "\n",
        "**Task:** Similar to what we've been doing above, create another `DecisionTreeClassifier` that uses `entropy` to measure the quality of a split. This time set `min_samples_split` to a value that would cause the tree to *underfit*.  Omit the `max_depth` parameter. Report the accuracy (obtained via the `score()` method) on the validation and training sets. Visualize the tree."
      ]
    },
    {
      "cell_type": "code",
      "execution_count": 49,
      "id": "balanced-bridge",
      "metadata": {
        "id": "balanced-bridge",
        "outputId": "ceb51a96-b37f-41c9-98c2-01f4ac5b1cd1",
        "colab": {
          "base_uri": "https://localhost:8080/",
          "height": 1000
        }
      },
      "outputs": [
        {
          "output_type": "stream",
          "name": "stdout",
          "text": [
            "Training Accuracy (underfit): 0.8414\n",
            "Validation Accuracy (underfit): 0.8073333333333333\n"
          ]
        },
        {
          "output_type": "display_data",
          "data": {
            "image/svg+xml": "<?xml version=\"1.0\" encoding=\"UTF-8\" standalone=\"no\"?>\n<!DOCTYPE svg PUBLIC \"-//W3C//DTD SVG 1.1//EN\"\n \"http://www.w3.org/Graphics/SVG/1.1/DTD/svg11.dtd\">\n<!-- Generated by graphviz version 2.43.0 (0)\n -->\n<!-- Title: Tree Pages: 1 -->\n<svg width=\"3235pt\" height=\"758pt\"\n viewBox=\"0.00 0.00 3234.50 758.00\" xmlns=\"http://www.w3.org/2000/svg\" xmlns:xlink=\"http://www.w3.org/1999/xlink\">\n<g id=\"graph0\" class=\"graph\" transform=\"scale(1 1) rotate(0) translate(4 754)\">\n<title>Tree</title>\n<polygon fill=\"white\" stroke=\"transparent\" points=\"-4,4 -4,-754 3230.5,-754 3230.5,4 -4,4\"/>\n<!-- 0 -->\n<g id=\"node1\" class=\"node\">\n<title>0</title>\n<path fill=\"#fefcfb\" stroke=\"black\" d=\"M1730.5,-750C1730.5,-750 1592.5,-750 1592.5,-750 1586.5,-750 1580.5,-744 1580.5,-738 1580.5,-738 1580.5,-679 1580.5,-679 1580.5,-673 1586.5,-667 1592.5,-667 1592.5,-667 1730.5,-667 1730.5,-667 1736.5,-667 1742.5,-673 1742.5,-679 1742.5,-679 1742.5,-738 1742.5,-738 1742.5,-744 1736.5,-750 1730.5,-750\"/>\n<text text-anchor=\"middle\" x=\"1661.5\" y=\"-734.8\" font-family=\"Helvetica,sans-Serif\" font-size=\"14.00\">age &lt;= 64.5</text>\n<text text-anchor=\"middle\" x=\"1661.5\" y=\"-719.8\" font-family=\"Helvetica,sans-Serif\" font-size=\"14.00\">entropy = 1.0</text>\n<text text-anchor=\"middle\" x=\"1661.5\" y=\"-704.8\" font-family=\"Helvetica,sans-Serif\" font-size=\"14.00\">samples = 5000</text>\n<text text-anchor=\"middle\" x=\"1661.5\" y=\"-689.8\" font-family=\"Helvetica,sans-Serif\" font-size=\"14.00\">value = [2528.0, 2472.0]</text>\n<text text-anchor=\"middle\" x=\"1661.5\" y=\"-674.8\" font-family=\"Helvetica,sans-Serif\" font-size=\"14.00\">class = heart_no</text>\n</g>\n<!-- 1 -->\n<g id=\"node2\" class=\"node\">\n<title>1</title>\n<path fill=\"#f1be98\" stroke=\"black\" d=\"M1269,-631C1269,-631 1138,-631 1138,-631 1132,-631 1126,-625 1126,-619 1126,-619 1126,-560 1126,-560 1126,-554 1132,-548 1138,-548 1138,-548 1269,-548 1269,-548 1275,-548 1281,-554 1281,-560 1281,-560 1281,-619 1281,-619 1281,-625 1275,-631 1269,-631\"/>\n<text text-anchor=\"middle\" x=\"1203.5\" y=\"-615.8\" font-family=\"Helvetica,sans-Serif\" font-size=\"14.00\">chest_pain &lt;= 0.5</text>\n<text text-anchor=\"middle\" x=\"1203.5\" y=\"-600.8\" font-family=\"Helvetica,sans-Serif\" font-size=\"14.00\">entropy = 0.909</text>\n<text text-anchor=\"middle\" x=\"1203.5\" y=\"-585.8\" font-family=\"Helvetica,sans-Serif\" font-size=\"14.00\">samples = 2652</text>\n<text text-anchor=\"middle\" x=\"1203.5\" y=\"-570.8\" font-family=\"Helvetica,sans-Serif\" font-size=\"14.00\">value = [1791.0, 861.0]</text>\n<text text-anchor=\"middle\" x=\"1203.5\" y=\"-555.8\" font-family=\"Helvetica,sans-Serif\" font-size=\"14.00\">class = heart_no</text>\n</g>\n<!-- 0&#45;&gt;1 -->\n<g id=\"edge1\" class=\"edge\">\n<title>0&#45;&gt;1</title>\n<path fill=\"none\" stroke=\"black\" d=\"M1580.41,-686.78C1499.1,-666.01 1374.31,-634.13 1290.85,-612.81\"/>\n<polygon fill=\"black\" stroke=\"black\" points=\"1291.69,-609.42 1281.14,-610.33 1289.96,-616.2 1291.69,-609.42\"/>\n<text text-anchor=\"middle\" x=\"1293.89\" y=\"-628.14\" font-family=\"Helvetica,sans-Serif\" font-size=\"14.00\">True</text>\n</g>\n<!-- 86 -->\n<g id=\"node37\" class=\"node\">\n<title>86</title>\n<path fill=\"#94caf1\" stroke=\"black\" d=\"M2152.5,-631C2152.5,-631 2044.5,-631 2044.5,-631 2038.5,-631 2032.5,-625 2032.5,-619 2032.5,-619 2032.5,-560 2032.5,-560 2032.5,-554 2038.5,-548 2044.5,-548 2044.5,-548 2152.5,-548 2152.5,-548 2158.5,-548 2164.5,-554 2164.5,-560 2164.5,-560 2164.5,-619 2164.5,-619 2164.5,-625 2158.5,-631 2152.5,-631\"/>\n<text text-anchor=\"middle\" x=\"2098.5\" y=\"-615.8\" font-family=\"Helvetica,sans-Serif\" font-size=\"14.00\">chest_pain &lt;= 0.5</text>\n<text text-anchor=\"middle\" x=\"2098.5\" y=\"-600.8\" font-family=\"Helvetica,sans-Serif\" font-size=\"14.00\">entropy = 0.898</text>\n<text text-anchor=\"middle\" x=\"2098.5\" y=\"-585.8\" font-family=\"Helvetica,sans-Serif\" font-size=\"14.00\">samples = 2348</text>\n<text text-anchor=\"middle\" x=\"2098.5\" y=\"-570.8\" font-family=\"Helvetica,sans-Serif\" font-size=\"14.00\">value = [737, 1611]</text>\n<text text-anchor=\"middle\" x=\"2098.5\" y=\"-555.8\" font-family=\"Helvetica,sans-Serif\" font-size=\"14.00\">class = heart_yes</text>\n</g>\n<!-- 0&#45;&gt;86 -->\n<g id=\"edge36\" class=\"edge\">\n<title>0&#45;&gt;86</title>\n<path fill=\"none\" stroke=\"black\" d=\"M1742.67,-685.77C1822.8,-664.32 1944.36,-631.77 2022.6,-610.82\"/>\n<polygon fill=\"black\" stroke=\"black\" points=\"2023.64,-614.17 2032.4,-608.2 2021.83,-607.4 2023.64,-614.17\"/>\n<text text-anchor=\"middle\" x=\"2019.89\" y=\"-626.15\" font-family=\"Helvetica,sans-Serif\" font-size=\"14.00\">False</text>\n</g>\n<!-- 2 -->\n<g id=\"node3\" class=\"node\">\n<title>2</title>\n<path fill=\"#eca36f\" stroke=\"black\" d=\"M681.5,-512C681.5,-512 573.5,-512 573.5,-512 567.5,-512 561.5,-506 561.5,-500 561.5,-500 561.5,-441 561.5,-441 561.5,-435 567.5,-429 573.5,-429 573.5,-429 681.5,-429 681.5,-429 687.5,-429 693.5,-435 693.5,-441 693.5,-441 693.5,-500 693.5,-500 693.5,-506 687.5,-512 681.5,-512\"/>\n<text text-anchor=\"middle\" x=\"627.5\" y=\"-496.8\" font-family=\"Helvetica,sans-Serif\" font-size=\"14.00\">age &lt;= 47.5</text>\n<text text-anchor=\"middle\" x=\"627.5\" y=\"-481.8\" font-family=\"Helvetica,sans-Serif\" font-size=\"14.00\">entropy = 0.747</text>\n<text text-anchor=\"middle\" x=\"627.5\" y=\"-466.8\" font-family=\"Helvetica,sans-Serif\" font-size=\"14.00\">samples = 1818</text>\n<text text-anchor=\"middle\" x=\"627.5\" y=\"-451.8\" font-family=\"Helvetica,sans-Serif\" font-size=\"14.00\">value = [1431, 387]</text>\n<text text-anchor=\"middle\" x=\"627.5\" y=\"-436.8\" font-family=\"Helvetica,sans-Serif\" font-size=\"14.00\">class = heart_no</text>\n</g>\n<!-- 1&#45;&gt;2 -->\n<g id=\"edge2\" class=\"edge\">\n<title>1&#45;&gt;2</title>\n<path fill=\"none\" stroke=\"black\" d=\"M1125.82,-572.72C1015.19,-550.25 813.54,-509.29 703.72,-486.98\"/>\n<polygon fill=\"black\" stroke=\"black\" points=\"704.21,-483.51 693.71,-484.95 702.81,-490.37 704.21,-483.51\"/>\n</g>\n<!-- 55 -->\n<g id=\"node22\" class=\"node\">\n<title>55</title>\n<path fill=\"#cfe7f9\" stroke=\"black\" d=\"M1254,-512C1254,-512 1153,-512 1153,-512 1147,-512 1141,-506 1141,-500 1141,-500 1141,-441 1141,-441 1141,-435 1147,-429 1153,-429 1153,-429 1254,-429 1254,-429 1260,-429 1266,-435 1266,-441 1266,-441 1266,-500 1266,-500 1266,-506 1260,-512 1254,-512\"/>\n<text text-anchor=\"middle\" x=\"1203.5\" y=\"-496.8\" font-family=\"Helvetica,sans-Serif\" font-size=\"14.00\">age &lt;= 56.5</text>\n<text text-anchor=\"middle\" x=\"1203.5\" y=\"-481.8\" font-family=\"Helvetica,sans-Serif\" font-size=\"14.00\">entropy = 0.986</text>\n<text text-anchor=\"middle\" x=\"1203.5\" y=\"-466.8\" font-family=\"Helvetica,sans-Serif\" font-size=\"14.00\">samples = 834</text>\n<text text-anchor=\"middle\" x=\"1203.5\" y=\"-451.8\" font-family=\"Helvetica,sans-Serif\" font-size=\"14.00\">value = [360, 474]</text>\n<text text-anchor=\"middle\" x=\"1203.5\" y=\"-436.8\" font-family=\"Helvetica,sans-Serif\" font-size=\"14.00\">class = heart_yes</text>\n</g>\n<!-- 1&#45;&gt;55 -->\n<g id=\"edge21\" class=\"edge\">\n<title>1&#45;&gt;55</title>\n<path fill=\"none\" stroke=\"black\" d=\"M1203.5,-547.91C1203.5,-539.65 1203.5,-530.86 1203.5,-522.3\"/>\n<polygon fill=\"black\" stroke=\"black\" points=\"1207,-522.02 1203.5,-512.02 1200,-522.02 1207,-522.02\"/>\n</g>\n<!-- 3 -->\n<g id=\"node4\" class=\"node\">\n<title>3</title>\n<path fill=\"#e68641\" stroke=\"black\" d=\"M294.5,-393C294.5,-393 168.5,-393 168.5,-393 162.5,-393 156.5,-387 156.5,-381 156.5,-381 156.5,-322 156.5,-322 156.5,-316 162.5,-310 168.5,-310 168.5,-310 294.5,-310 294.5,-310 300.5,-310 306.5,-316 306.5,-322 306.5,-322 306.5,-381 306.5,-381 306.5,-387 300.5,-393 294.5,-393\"/>\n<text text-anchor=\"middle\" x=\"231.5\" y=\"-377.8\" font-family=\"Helvetica,sans-Serif\" font-size=\"14.00\">gender_female &lt;= 0.5</text>\n<text text-anchor=\"middle\" x=\"231.5\" y=\"-362.8\" font-family=\"Helvetica,sans-Serif\" font-size=\"14.00\">entropy = 0.232</text>\n<text text-anchor=\"middle\" x=\"231.5\" y=\"-347.8\" font-family=\"Helvetica,sans-Serif\" font-size=\"14.00\">samples = 529</text>\n<text text-anchor=\"middle\" x=\"231.5\" y=\"-332.8\" font-family=\"Helvetica,sans-Serif\" font-size=\"14.00\">value = [509, 20]</text>\n<text text-anchor=\"middle\" x=\"231.5\" y=\"-317.8\" font-family=\"Helvetica,sans-Serif\" font-size=\"14.00\">class = heart_no</text>\n</g>\n<!-- 2&#45;&gt;3 -->\n<g id=\"edge3\" class=\"edge\">\n<title>2&#45;&gt;3</title>\n<path fill=\"none\" stroke=\"black\" d=\"M561.22,-449.92C494,-430.06 389.71,-399.24 316.46,-377.6\"/>\n<polygon fill=\"black\" stroke=\"black\" points=\"317.37,-374.22 306.79,-374.75 315.39,-380.94 317.37,-374.22\"/>\n</g>\n<!-- 12 -->\n<g id=\"node11\" class=\"node\">\n<title>12</title>\n<path fill=\"#efb388\" stroke=\"black\" d=\"M693,-393C693,-393 562,-393 562,-393 556,-393 550,-387 550,-381 550,-381 550,-322 550,-322 550,-316 556,-310 562,-310 562,-310 693,-310 693,-310 699,-310 705,-316 705,-322 705,-322 705,-381 705,-381 705,-387 699,-393 693,-393\"/>\n<text text-anchor=\"middle\" x=\"627.5\" y=\"-377.8\" font-family=\"Helvetica,sans-Serif\" font-size=\"14.00\">family_income &lt;= 4.88</text>\n<text text-anchor=\"middle\" x=\"627.5\" y=\"-362.8\" font-family=\"Helvetica,sans-Serif\" font-size=\"14.00\">entropy = 0.862</text>\n<text text-anchor=\"middle\" x=\"627.5\" y=\"-347.8\" font-family=\"Helvetica,sans-Serif\" font-size=\"14.00\">samples = 1289</text>\n<text text-anchor=\"middle\" x=\"627.5\" y=\"-332.8\" font-family=\"Helvetica,sans-Serif\" font-size=\"14.00\">value = [922, 367]</text>\n<text text-anchor=\"middle\" x=\"627.5\" y=\"-317.8\" font-family=\"Helvetica,sans-Serif\" font-size=\"14.00\">class = heart_no</text>\n</g>\n<!-- 2&#45;&gt;12 -->\n<g id=\"edge10\" class=\"edge\">\n<title>2&#45;&gt;12</title>\n<path fill=\"none\" stroke=\"black\" d=\"M627.5,-428.91C627.5,-420.65 627.5,-411.86 627.5,-403.3\"/>\n<polygon fill=\"black\" stroke=\"black\" points=\"631,-403.02 627.5,-393.02 624,-403.02 631,-403.02\"/>\n</g>\n<!-- 4 -->\n<g id=\"node5\" class=\"node\">\n<title>4</title>\n<path fill=\"#e58139\" stroke=\"black\" d=\"M111.5,-266.5C111.5,-266.5 19.5,-266.5 19.5,-266.5 13.5,-266.5 7.5,-260.5 7.5,-254.5 7.5,-254.5 7.5,-210.5 7.5,-210.5 7.5,-204.5 13.5,-198.5 19.5,-198.5 19.5,-198.5 111.5,-198.5 111.5,-198.5 117.5,-198.5 123.5,-204.5 123.5,-210.5 123.5,-210.5 123.5,-254.5 123.5,-254.5 123.5,-260.5 117.5,-266.5 111.5,-266.5\"/>\n<text text-anchor=\"middle\" x=\"65.5\" y=\"-251.3\" font-family=\"Helvetica,sans-Serif\" font-size=\"14.00\">entropy = 0.0</text>\n<text text-anchor=\"middle\" x=\"65.5\" y=\"-236.3\" font-family=\"Helvetica,sans-Serif\" font-size=\"14.00\">samples = 235</text>\n<text text-anchor=\"middle\" x=\"65.5\" y=\"-221.3\" font-family=\"Helvetica,sans-Serif\" font-size=\"14.00\">value = [235, 0]</text>\n<text text-anchor=\"middle\" x=\"65.5\" y=\"-206.3\" font-family=\"Helvetica,sans-Serif\" font-size=\"14.00\">class = heart_no</text>\n</g>\n<!-- 3&#45;&gt;4 -->\n<g id=\"edge4\" class=\"edge\">\n<title>3&#45;&gt;4</title>\n<path fill=\"none\" stroke=\"black\" d=\"M173.91,-309.91C156.69,-297.77 137.85,-284.49 120.78,-272.46\"/>\n<polygon fill=\"black\" stroke=\"black\" points=\"122.75,-269.57 112.56,-266.67 118.71,-275.29 122.75,-269.57\"/>\n</g>\n<!-- 5 -->\n<g id=\"node6\" class=\"node\">\n<title>5</title>\n<path fill=\"#e78a47\" stroke=\"black\" d=\"M309.5,-274C309.5,-274 153.5,-274 153.5,-274 147.5,-274 141.5,-268 141.5,-262 141.5,-262 141.5,-203 141.5,-203 141.5,-197 147.5,-191 153.5,-191 153.5,-191 309.5,-191 309.5,-191 315.5,-191 321.5,-197 321.5,-203 321.5,-203 321.5,-262 321.5,-262 321.5,-268 315.5,-274 309.5,-274\"/>\n<text text-anchor=\"middle\" x=\"231.5\" y=\"-258.8\" font-family=\"Helvetica,sans-Serif\" font-size=\"14.00\">blood_cholesterol &lt;= 5.315</text>\n<text text-anchor=\"middle\" x=\"231.5\" y=\"-243.8\" font-family=\"Helvetica,sans-Serif\" font-size=\"14.00\">entropy = 0.359</text>\n<text text-anchor=\"middle\" x=\"231.5\" y=\"-228.8\" font-family=\"Helvetica,sans-Serif\" font-size=\"14.00\">samples = 294</text>\n<text text-anchor=\"middle\" x=\"231.5\" y=\"-213.8\" font-family=\"Helvetica,sans-Serif\" font-size=\"14.00\">value = [274.0, 20.0]</text>\n<text text-anchor=\"middle\" x=\"231.5\" y=\"-198.8\" font-family=\"Helvetica,sans-Serif\" font-size=\"14.00\">class = heart_no</text>\n</g>\n<!-- 3&#45;&gt;5 -->\n<g id=\"edge5\" class=\"edge\">\n<title>3&#45;&gt;5</title>\n<path fill=\"none\" stroke=\"black\" d=\"M231.5,-309.91C231.5,-301.65 231.5,-292.86 231.5,-284.3\"/>\n<polygon fill=\"black\" stroke=\"black\" points=\"235,-284.02 231.5,-274.02 228,-284.02 235,-284.02\"/>\n</g>\n<!-- 6 -->\n<g id=\"node7\" class=\"node\">\n<title>6</title>\n<path fill=\"#e68540\" stroke=\"black\" d=\"M143,-155C143,-155 12,-155 12,-155 6,-155 0,-149 0,-143 0,-143 0,-84 0,-84 0,-78 6,-72 12,-72 12,-72 143,-72 143,-72 149,-72 155,-78 155,-84 155,-84 155,-143 155,-143 155,-149 149,-155 143,-155\"/>\n<text text-anchor=\"middle\" x=\"77.5\" y=\"-139.8\" font-family=\"Helvetica,sans-Serif\" font-size=\"14.00\">family_income &lt;= 0.46</text>\n<text text-anchor=\"middle\" x=\"77.5\" y=\"-124.8\" font-family=\"Helvetica,sans-Serif\" font-size=\"14.00\">entropy = 0.215</text>\n<text text-anchor=\"middle\" x=\"77.5\" y=\"-109.8\" font-family=\"Helvetica,sans-Serif\" font-size=\"14.00\">samples = 234</text>\n<text text-anchor=\"middle\" x=\"77.5\" y=\"-94.8\" font-family=\"Helvetica,sans-Serif\" font-size=\"14.00\">value = [226, 8]</text>\n<text text-anchor=\"middle\" x=\"77.5\" y=\"-79.8\" font-family=\"Helvetica,sans-Serif\" font-size=\"14.00\">class = heart_no</text>\n</g>\n<!-- 5&#45;&gt;6 -->\n<g id=\"edge6\" class=\"edge\">\n<title>5&#45;&gt;6</title>\n<path fill=\"none\" stroke=\"black\" d=\"M178.07,-190.91C165.41,-181.29 151.81,-170.95 138.82,-161.09\"/>\n<polygon fill=\"black\" stroke=\"black\" points=\"140.92,-158.28 130.84,-155.02 136.68,-163.86 140.92,-158.28\"/>\n</g>\n<!-- 11 -->\n<g id=\"node10\" class=\"node\">\n<title>11</title>\n<path fill=\"#eca06a\" stroke=\"black\" d=\"M277.5,-147.5C277.5,-147.5 185.5,-147.5 185.5,-147.5 179.5,-147.5 173.5,-141.5 173.5,-135.5 173.5,-135.5 173.5,-91.5 173.5,-91.5 173.5,-85.5 179.5,-79.5 185.5,-79.5 185.5,-79.5 277.5,-79.5 277.5,-79.5 283.5,-79.5 289.5,-85.5 289.5,-91.5 289.5,-91.5 289.5,-135.5 289.5,-135.5 289.5,-141.5 283.5,-147.5 277.5,-147.5\"/>\n<text text-anchor=\"middle\" x=\"231.5\" y=\"-132.3\" font-family=\"Helvetica,sans-Serif\" font-size=\"14.00\">entropy = 0.722</text>\n<text text-anchor=\"middle\" x=\"231.5\" y=\"-117.3\" font-family=\"Helvetica,sans-Serif\" font-size=\"14.00\">samples = 60</text>\n<text text-anchor=\"middle\" x=\"231.5\" y=\"-102.3\" font-family=\"Helvetica,sans-Serif\" font-size=\"14.00\">value = [48, 12]</text>\n<text text-anchor=\"middle\" x=\"231.5\" y=\"-87.3\" font-family=\"Helvetica,sans-Serif\" font-size=\"14.00\">class = heart_no</text>\n</g>\n<!-- 5&#45;&gt;11 -->\n<g id=\"edge9\" class=\"edge\">\n<title>5&#45;&gt;11</title>\n<path fill=\"none\" stroke=\"black\" d=\"M231.5,-190.91C231.5,-180.2 231.5,-168.62 231.5,-157.78\"/>\n<polygon fill=\"black\" stroke=\"black\" points=\"235,-157.67 231.5,-147.67 228,-157.67 235,-157.67\"/>\n</g>\n<!-- 7 -->\n<g id=\"node8\" class=\"node\">\n<title>7</title>\n<path fill=\"#c0c0c0\" stroke=\"black\" d=\"M56.5,-36C56.5,-36 26.5,-36 26.5,-36 20.5,-36 14.5,-30 14.5,-24 14.5,-24 14.5,-12 14.5,-12 14.5,-6 20.5,0 26.5,0 26.5,0 56.5,0 56.5,0 62.5,0 68.5,-6 68.5,-12 68.5,-12 68.5,-24 68.5,-24 68.5,-30 62.5,-36 56.5,-36\"/>\n<text text-anchor=\"middle\" x=\"41.5\" y=\"-14.3\" font-family=\"Helvetica,sans-Serif\" font-size=\"14.00\">(...)</text>\n</g>\n<!-- 6&#45;&gt;7 -->\n<g id=\"edge7\" class=\"edge\">\n<title>6&#45;&gt;7</title>\n<path fill=\"none\" stroke=\"black\" d=\"M61.81,-71.76C58.46,-63.04 54.99,-54.04 51.89,-45.99\"/>\n<polygon fill=\"black\" stroke=\"black\" points=\"55.06,-44.48 48.2,-36.41 48.53,-46.99 55.06,-44.48\"/>\n</g>\n<!-- 8 -->\n<g id=\"node9\" class=\"node\">\n<title>8</title>\n<path fill=\"#c0c0c0\" stroke=\"black\" d=\"M128.5,-36C128.5,-36 98.5,-36 98.5,-36 92.5,-36 86.5,-30 86.5,-24 86.5,-24 86.5,-12 86.5,-12 86.5,-6 92.5,0 98.5,0 98.5,0 128.5,0 128.5,0 134.5,0 140.5,-6 140.5,-12 140.5,-12 140.5,-24 140.5,-24 140.5,-30 134.5,-36 128.5,-36\"/>\n<text text-anchor=\"middle\" x=\"113.5\" y=\"-14.3\" font-family=\"Helvetica,sans-Serif\" font-size=\"14.00\">(...)</text>\n</g>\n<!-- 6&#45;&gt;8 -->\n<g id=\"edge8\" class=\"edge\">\n<title>6&#45;&gt;8</title>\n<path fill=\"none\" stroke=\"black\" d=\"M93.19,-71.76C96.54,-63.04 100.01,-54.04 103.11,-45.99\"/>\n<polygon fill=\"black\" stroke=\"black\" points=\"106.47,-46.99 106.8,-36.41 99.94,-44.48 106.47,-46.99\"/>\n</g>\n<!-- 13 -->\n<g id=\"node12\" class=\"node\">\n<title>13</title>\n<path fill=\"#f3c4a3\" stroke=\"black\" d=\"M613,-274C613,-274 482,-274 482,-274 476,-274 470,-268 470,-262 470,-262 470,-203 470,-203 470,-197 476,-191 482,-191 482,-191 613,-191 613,-191 619,-191 625,-197 625,-203 625,-203 625,-262 625,-262 625,-268 619,-274 613,-274\"/>\n<text text-anchor=\"middle\" x=\"547.5\" y=\"-258.8\" font-family=\"Helvetica,sans-Serif\" font-size=\"14.00\">family_income &lt;= 2.92</text>\n<text text-anchor=\"middle\" x=\"547.5\" y=\"-243.8\" font-family=\"Helvetica,sans-Serif\" font-size=\"14.00\">entropy = 0.932</text>\n<text text-anchor=\"middle\" x=\"547.5\" y=\"-228.8\" font-family=\"Helvetica,sans-Serif\" font-size=\"14.00\">samples = 1026</text>\n<text text-anchor=\"middle\" x=\"547.5\" y=\"-213.8\" font-family=\"Helvetica,sans-Serif\" font-size=\"14.00\">value = [669, 357]</text>\n<text text-anchor=\"middle\" x=\"547.5\" y=\"-198.8\" font-family=\"Helvetica,sans-Serif\" font-size=\"14.00\">class = heart_no</text>\n</g>\n<!-- 12&#45;&gt;13 -->\n<g id=\"edge11\" class=\"edge\">\n<title>12&#45;&gt;13</title>\n<path fill=\"none\" stroke=\"black\" d=\"M599.74,-309.91C593.66,-301.01 587.16,-291.51 580.89,-282.33\"/>\n<polygon fill=\"black\" stroke=\"black\" points=\"583.74,-280.3 575.21,-274.02 577.96,-284.25 583.74,-280.3\"/>\n</g>\n<!-- 52 -->\n<g id=\"node19\" class=\"node\">\n<title>52</title>\n<path fill=\"#e68641\" stroke=\"black\" d=\"M759.5,-274C759.5,-274 655.5,-274 655.5,-274 649.5,-274 643.5,-268 643.5,-262 643.5,-262 643.5,-203 643.5,-203 643.5,-197 649.5,-191 655.5,-191 655.5,-191 759.5,-191 759.5,-191 765.5,-191 771.5,-197 771.5,-203 771.5,-203 771.5,-262 771.5,-262 771.5,-268 765.5,-274 759.5,-274\"/>\n<text text-anchor=\"middle\" x=\"707.5\" y=\"-258.8\" font-family=\"Helvetica,sans-Serif\" font-size=\"14.00\">re_hispanic &lt;= 0.5</text>\n<text text-anchor=\"middle\" x=\"707.5\" y=\"-243.8\" font-family=\"Helvetica,sans-Serif\" font-size=\"14.00\">entropy = 0.233</text>\n<text text-anchor=\"middle\" x=\"707.5\" y=\"-228.8\" font-family=\"Helvetica,sans-Serif\" font-size=\"14.00\">samples = 263</text>\n<text text-anchor=\"middle\" x=\"707.5\" y=\"-213.8\" font-family=\"Helvetica,sans-Serif\" font-size=\"14.00\">value = [253, 10]</text>\n<text text-anchor=\"middle\" x=\"707.5\" y=\"-198.8\" font-family=\"Helvetica,sans-Serif\" font-size=\"14.00\">class = heart_no</text>\n</g>\n<!-- 12&#45;&gt;52 -->\n<g id=\"edge18\" class=\"edge\">\n<title>12&#45;&gt;52</title>\n<path fill=\"none\" stroke=\"black\" d=\"M655.26,-309.91C661.34,-301.01 667.84,-291.51 674.11,-282.33\"/>\n<polygon fill=\"black\" stroke=\"black\" points=\"677.04,-284.25 679.79,-274.02 671.26,-280.3 677.04,-284.25\"/>\n</g>\n<!-- 14 -->\n<g id=\"node13\" class=\"node\">\n<title>14</title>\n<path fill=\"#f5cfb4\" stroke=\"black\" d=\"M443,-155C443,-155 320,-155 320,-155 314,-155 308,-149 308,-143 308,-143 308,-84 308,-84 308,-78 314,-72 320,-72 320,-72 443,-72 443,-72 449,-72 455,-78 455,-84 455,-84 455,-143 455,-143 455,-149 449,-155 443,-155\"/>\n<text text-anchor=\"middle\" x=\"381.5\" y=\"-139.8\" font-family=\"Helvetica,sans-Serif\" font-size=\"14.00\">diastolic_bp &lt;= 71.0</text>\n<text text-anchor=\"middle\" x=\"381.5\" y=\"-124.8\" font-family=\"Helvetica,sans-Serif\" font-size=\"14.00\">entropy = 0.96</text>\n<text text-anchor=\"middle\" x=\"381.5\" y=\"-109.8\" font-family=\"Helvetica,sans-Serif\" font-size=\"14.00\">samples = 812</text>\n<text text-anchor=\"middle\" x=\"381.5\" y=\"-94.8\" font-family=\"Helvetica,sans-Serif\" font-size=\"14.00\">value = [501.0, 311.0]</text>\n<text text-anchor=\"middle\" x=\"381.5\" y=\"-79.8\" font-family=\"Helvetica,sans-Serif\" font-size=\"14.00\">class = heart_no</text>\n</g>\n<!-- 13&#45;&gt;14 -->\n<g id=\"edge12\" class=\"edge\">\n<title>13&#45;&gt;14</title>\n<path fill=\"none\" stroke=\"black\" d=\"M489.91,-190.91C476.13,-181.2 461.32,-170.76 447.21,-160.81\"/>\n<polygon fill=\"black\" stroke=\"black\" points=\"449.18,-157.92 438.99,-155.02 445.15,-163.64 449.18,-157.92\"/>\n</g>\n<!-- 47 -->\n<g id=\"node16\" class=\"node\">\n<title>47</title>\n<path fill=\"#eca46f\" stroke=\"black\" d=\"M616,-155C616,-155 485,-155 485,-155 479,-155 473,-149 473,-143 473,-143 473,-84 473,-84 473,-78 479,-72 485,-72 485,-72 616,-72 616,-72 622,-72 628,-78 628,-84 628,-84 628,-143 628,-143 628,-149 622,-155 616,-155\"/>\n<text text-anchor=\"middle\" x=\"550.5\" y=\"-139.8\" font-family=\"Helvetica,sans-Serif\" font-size=\"14.00\">family_income &lt;= 4.27</text>\n<text text-anchor=\"middle\" x=\"550.5\" y=\"-124.8\" font-family=\"Helvetica,sans-Serif\" font-size=\"14.00\">entropy = 0.751</text>\n<text text-anchor=\"middle\" x=\"550.5\" y=\"-109.8\" font-family=\"Helvetica,sans-Serif\" font-size=\"14.00\">samples = 214</text>\n<text text-anchor=\"middle\" x=\"550.5\" y=\"-94.8\" font-family=\"Helvetica,sans-Serif\" font-size=\"14.00\">value = [168, 46]</text>\n<text text-anchor=\"middle\" x=\"550.5\" y=\"-79.8\" font-family=\"Helvetica,sans-Serif\" font-size=\"14.00\">class = heart_no</text>\n</g>\n<!-- 13&#45;&gt;47 -->\n<g id=\"edge15\" class=\"edge\">\n<title>13&#45;&gt;47</title>\n<path fill=\"none\" stroke=\"black\" d=\"M548.54,-190.91C548.75,-182.56 548.98,-173.67 549.2,-165.02\"/>\n<polygon fill=\"black\" stroke=\"black\" points=\"552.7,-165.11 549.46,-155.02 545.71,-164.93 552.7,-165.11\"/>\n</g>\n<!-- 15 -->\n<g id=\"node14\" class=\"node\">\n<title>15</title>\n<path fill=\"#c0c0c0\" stroke=\"black\" d=\"M360.5,-36C360.5,-36 330.5,-36 330.5,-36 324.5,-36 318.5,-30 318.5,-24 318.5,-24 318.5,-12 318.5,-12 318.5,-6 324.5,0 330.5,0 330.5,0 360.5,0 360.5,0 366.5,0 372.5,-6 372.5,-12 372.5,-12 372.5,-24 372.5,-24 372.5,-30 366.5,-36 360.5,-36\"/>\n<text text-anchor=\"middle\" x=\"345.5\" y=\"-14.3\" font-family=\"Helvetica,sans-Serif\" font-size=\"14.00\">(...)</text>\n</g>\n<!-- 14&#45;&gt;15 -->\n<g id=\"edge13\" class=\"edge\">\n<title>14&#45;&gt;15</title>\n<path fill=\"none\" stroke=\"black\" d=\"M365.81,-71.76C362.46,-63.04 358.99,-54.04 355.89,-45.99\"/>\n<polygon fill=\"black\" stroke=\"black\" points=\"359.06,-44.48 352.2,-36.41 352.53,-46.99 359.06,-44.48\"/>\n</g>\n<!-- 40 -->\n<g id=\"node15\" class=\"node\">\n<title>40</title>\n<path fill=\"#c0c0c0\" stroke=\"black\" d=\"M432.5,-36C432.5,-36 402.5,-36 402.5,-36 396.5,-36 390.5,-30 390.5,-24 390.5,-24 390.5,-12 390.5,-12 390.5,-6 396.5,0 402.5,0 402.5,0 432.5,0 432.5,0 438.5,0 444.5,-6 444.5,-12 444.5,-12 444.5,-24 444.5,-24 444.5,-30 438.5,-36 432.5,-36\"/>\n<text text-anchor=\"middle\" x=\"417.5\" y=\"-14.3\" font-family=\"Helvetica,sans-Serif\" font-size=\"14.00\">(...)</text>\n</g>\n<!-- 14&#45;&gt;40 -->\n<g id=\"edge14\" class=\"edge\">\n<title>14&#45;&gt;40</title>\n<path fill=\"none\" stroke=\"black\" d=\"M397.19,-71.76C400.54,-63.04 404.01,-54.04 407.11,-45.99\"/>\n<polygon fill=\"black\" stroke=\"black\" points=\"410.47,-46.99 410.8,-36.41 403.94,-44.48 410.47,-46.99\"/>\n</g>\n<!-- 48 -->\n<g id=\"node17\" class=\"node\">\n<title>48</title>\n<path fill=\"#c0c0c0\" stroke=\"black\" d=\"M553.5,-36C553.5,-36 523.5,-36 523.5,-36 517.5,-36 511.5,-30 511.5,-24 511.5,-24 511.5,-12 511.5,-12 511.5,-6 517.5,0 523.5,0 523.5,0 553.5,0 553.5,0 559.5,0 565.5,-6 565.5,-12 565.5,-12 565.5,-24 565.5,-24 565.5,-30 559.5,-36 553.5,-36\"/>\n<text text-anchor=\"middle\" x=\"538.5\" y=\"-14.3\" font-family=\"Helvetica,sans-Serif\" font-size=\"14.00\">(...)</text>\n</g>\n<!-- 47&#45;&gt;48 -->\n<g id=\"edge16\" class=\"edge\">\n<title>47&#45;&gt;48</title>\n<path fill=\"none\" stroke=\"black\" d=\"M545.27,-71.76C544.18,-63.24 543.05,-54.44 542.03,-46.53\"/>\n<polygon fill=\"black\" stroke=\"black\" points=\"545.48,-45.88 540.73,-36.41 538.54,-46.77 545.48,-45.88\"/>\n</g>\n<!-- 51 -->\n<g id=\"node18\" class=\"node\">\n<title>51</title>\n<path fill=\"#c0c0c0\" stroke=\"black\" d=\"M625.5,-36C625.5,-36 595.5,-36 595.5,-36 589.5,-36 583.5,-30 583.5,-24 583.5,-24 583.5,-12 583.5,-12 583.5,-6 589.5,0 595.5,0 595.5,0 625.5,0 625.5,0 631.5,0 637.5,-6 637.5,-12 637.5,-12 637.5,-24 637.5,-24 637.5,-30 631.5,-36 625.5,-36\"/>\n<text text-anchor=\"middle\" x=\"610.5\" y=\"-14.3\" font-family=\"Helvetica,sans-Serif\" font-size=\"14.00\">(...)</text>\n</g>\n<!-- 47&#45;&gt;51 -->\n<g id=\"edge17\" class=\"edge\">\n<title>47&#45;&gt;51</title>\n<path fill=\"none\" stroke=\"black\" d=\"M576.64,-71.76C582.49,-62.65 588.53,-53.24 593.86,-44.92\"/>\n<polygon fill=\"black\" stroke=\"black\" points=\"596.88,-46.71 599.33,-36.41 590.98,-42.93 596.88,-46.71\"/>\n</g>\n<!-- 53 -->\n<g id=\"node20\" class=\"node\">\n<title>53</title>\n<path fill=\"#e58139\" stroke=\"black\" d=\"M750.5,-147.5C750.5,-147.5 658.5,-147.5 658.5,-147.5 652.5,-147.5 646.5,-141.5 646.5,-135.5 646.5,-135.5 646.5,-91.5 646.5,-91.5 646.5,-85.5 652.5,-79.5 658.5,-79.5 658.5,-79.5 750.5,-79.5 750.5,-79.5 756.5,-79.5 762.5,-85.5 762.5,-91.5 762.5,-91.5 762.5,-135.5 762.5,-135.5 762.5,-141.5 756.5,-147.5 750.5,-147.5\"/>\n<text text-anchor=\"middle\" x=\"704.5\" y=\"-132.3\" font-family=\"Helvetica,sans-Serif\" font-size=\"14.00\">entropy = 0.0</text>\n<text text-anchor=\"middle\" x=\"704.5\" y=\"-117.3\" font-family=\"Helvetica,sans-Serif\" font-size=\"14.00\">samples = 218</text>\n<text text-anchor=\"middle\" x=\"704.5\" y=\"-102.3\" font-family=\"Helvetica,sans-Serif\" font-size=\"14.00\">value = [218, 0]</text>\n<text text-anchor=\"middle\" x=\"704.5\" y=\"-87.3\" font-family=\"Helvetica,sans-Serif\" font-size=\"14.00\">class = heart_no</text>\n</g>\n<!-- 52&#45;&gt;53 -->\n<g id=\"edge19\" class=\"edge\">\n<title>52&#45;&gt;53</title>\n<path fill=\"none\" stroke=\"black\" d=\"M706.46,-190.91C706.18,-180.2 705.89,-168.62 705.61,-157.78\"/>\n<polygon fill=\"black\" stroke=\"black\" points=\"709.11,-157.57 705.35,-147.67 702.11,-157.75 709.11,-157.57\"/>\n</g>\n<!-- 54 -->\n<g id=\"node21\" class=\"node\">\n<title>54</title>\n<path fill=\"#eca572\" stroke=\"black\" d=\"M884.5,-147.5C884.5,-147.5 792.5,-147.5 792.5,-147.5 786.5,-147.5 780.5,-141.5 780.5,-135.5 780.5,-135.5 780.5,-91.5 780.5,-91.5 780.5,-85.5 786.5,-79.5 792.5,-79.5 792.5,-79.5 884.5,-79.5 884.5,-79.5 890.5,-79.5 896.5,-85.5 896.5,-91.5 896.5,-91.5 896.5,-135.5 896.5,-135.5 896.5,-141.5 890.5,-147.5 884.5,-147.5\"/>\n<text text-anchor=\"middle\" x=\"838.5\" y=\"-132.3\" font-family=\"Helvetica,sans-Serif\" font-size=\"14.00\">entropy = 0.764</text>\n<text text-anchor=\"middle\" x=\"838.5\" y=\"-117.3\" font-family=\"Helvetica,sans-Serif\" font-size=\"14.00\">samples = 45</text>\n<text text-anchor=\"middle\" x=\"838.5\" y=\"-102.3\" font-family=\"Helvetica,sans-Serif\" font-size=\"14.00\">value = [35, 10]</text>\n<text text-anchor=\"middle\" x=\"838.5\" y=\"-87.3\" font-family=\"Helvetica,sans-Serif\" font-size=\"14.00\">class = heart_no</text>\n</g>\n<!-- 52&#45;&gt;54 -->\n<g id=\"edge20\" class=\"edge\">\n<title>52&#45;&gt;54</title>\n<path fill=\"none\" stroke=\"black\" d=\"M752.95,-190.91C766.17,-179.1 780.6,-166.22 793.77,-154.45\"/>\n<polygon fill=\"black\" stroke=\"black\" points=\"796.24,-156.94 801.36,-147.67 791.57,-151.72 796.24,-156.94\"/>\n</g>\n<!-- 56 -->\n<g id=\"node23\" class=\"node\">\n<title>56</title>\n<path fill=\"#fae6d7\" stroke=\"black\" d=\"M1185,-393C1185,-393 1054,-393 1054,-393 1048,-393 1042,-387 1042,-381 1042,-381 1042,-322 1042,-322 1042,-316 1048,-310 1054,-310 1054,-310 1185,-310 1185,-310 1191,-310 1197,-316 1197,-322 1197,-322 1197,-381 1197,-381 1197,-387 1191,-393 1185,-393\"/>\n<text text-anchor=\"middle\" x=\"1119.5\" y=\"-377.8\" font-family=\"Helvetica,sans-Serif\" font-size=\"14.00\">family_income &lt;= 4.17</text>\n<text text-anchor=\"middle\" x=\"1119.5\" y=\"-362.8\" font-family=\"Helvetica,sans-Serif\" font-size=\"14.00\">entropy = 0.991</text>\n<text text-anchor=\"middle\" x=\"1119.5\" y=\"-347.8\" font-family=\"Helvetica,sans-Serif\" font-size=\"14.00\">samples = 448</text>\n<text text-anchor=\"middle\" x=\"1119.5\" y=\"-332.8\" font-family=\"Helvetica,sans-Serif\" font-size=\"14.00\">value = [249, 199]</text>\n<text text-anchor=\"middle\" x=\"1119.5\" y=\"-317.8\" font-family=\"Helvetica,sans-Serif\" font-size=\"14.00\">class = heart_no</text>\n</g>\n<!-- 55&#45;&gt;56 -->\n<g id=\"edge22\" class=\"edge\">\n<title>55&#45;&gt;56</title>\n<path fill=\"none\" stroke=\"black\" d=\"M1174.36,-428.91C1167.97,-420.01 1161.15,-410.51 1154.56,-401.33\"/>\n<polygon fill=\"black\" stroke=\"black\" points=\"1157.27,-399.1 1148.59,-393.02 1151.58,-403.19 1157.27,-399.1\"/>\n</g>\n<!-- 71 -->\n<g id=\"node30\" class=\"node\">\n<title>71</title>\n<path fill=\"#89c5ef\" stroke=\"black\" d=\"M1350,-393C1350,-393 1227,-393 1227,-393 1221,-393 1215,-387 1215,-381 1215,-381 1215,-322 1215,-322 1215,-316 1221,-310 1227,-310 1227,-310 1350,-310 1350,-310 1356,-310 1362,-316 1362,-322 1362,-322 1362,-381 1362,-381 1362,-387 1356,-393 1350,-393\"/>\n<text text-anchor=\"middle\" x=\"1288.5\" y=\"-377.8\" font-family=\"Helvetica,sans-Serif\" font-size=\"14.00\">age &lt;= 58.5</text>\n<text text-anchor=\"middle\" x=\"1288.5\" y=\"-362.8\" font-family=\"Helvetica,sans-Serif\" font-size=\"14.00\">entropy = 0.866</text>\n<text text-anchor=\"middle\" x=\"1288.5\" y=\"-347.8\" font-family=\"Helvetica,sans-Serif\" font-size=\"14.00\">samples = 386</text>\n<text text-anchor=\"middle\" x=\"1288.5\" y=\"-332.8\" font-family=\"Helvetica,sans-Serif\" font-size=\"14.00\">value = [111.0, 275.0]</text>\n<text text-anchor=\"middle\" x=\"1288.5\" y=\"-317.8\" font-family=\"Helvetica,sans-Serif\" font-size=\"14.00\">class = heart_yes</text>\n</g>\n<!-- 55&#45;&gt;71 -->\n<g id=\"edge29\" class=\"edge\">\n<title>55&#45;&gt;71</title>\n<path fill=\"none\" stroke=\"black\" d=\"M1232.99,-428.91C1239.45,-420.01 1246.36,-410.51 1253.02,-401.33\"/>\n<polygon fill=\"black\" stroke=\"black\" points=\"1256.02,-403.17 1259.06,-393.02 1250.35,-399.05 1256.02,-403.17\"/>\n</g>\n<!-- 57 -->\n<g id=\"node24\" class=\"node\">\n<title>57</title>\n<path fill=\"#f9fcfe\" stroke=\"black\" d=\"M1039,-274C1039,-274 938,-274 938,-274 932,-274 926,-268 926,-262 926,-262 926,-203 926,-203 926,-197 932,-191 938,-191 938,-191 1039,-191 1039,-191 1045,-191 1051,-197 1051,-203 1051,-203 1051,-262 1051,-262 1051,-268 1045,-274 1039,-274\"/>\n<text text-anchor=\"middle\" x=\"988.5\" y=\"-258.8\" font-family=\"Helvetica,sans-Serif\" font-size=\"14.00\">age &lt;= 42.5</text>\n<text text-anchor=\"middle\" x=\"988.5\" y=\"-243.8\" font-family=\"Helvetica,sans-Serif\" font-size=\"14.00\">entropy = 1.0</text>\n<text text-anchor=\"middle\" x=\"988.5\" y=\"-228.8\" font-family=\"Helvetica,sans-Serif\" font-size=\"14.00\">samples = 380</text>\n<text text-anchor=\"middle\" x=\"988.5\" y=\"-213.8\" font-family=\"Helvetica,sans-Serif\" font-size=\"14.00\">value = [187, 193]</text>\n<text text-anchor=\"middle\" x=\"988.5\" y=\"-198.8\" font-family=\"Helvetica,sans-Serif\" font-size=\"14.00\">class = heart_yes</text>\n</g>\n<!-- 56&#45;&gt;57 -->\n<g id=\"edge23\" class=\"edge\">\n<title>56&#45;&gt;57</title>\n<path fill=\"none\" stroke=\"black\" d=\"M1074.05,-309.91C1063.58,-300.56 1052.36,-290.54 1041.6,-280.93\"/>\n<polygon fill=\"black\" stroke=\"black\" points=\"1043.66,-278.07 1033.87,-274.02 1039,-283.29 1043.66,-278.07\"/>\n</g>\n<!-- 70 -->\n<g id=\"node29\" class=\"node\">\n<title>70</title>\n<path fill=\"#e88d4c\" stroke=\"black\" d=\"M1173.5,-266.5C1173.5,-266.5 1081.5,-266.5 1081.5,-266.5 1075.5,-266.5 1069.5,-260.5 1069.5,-254.5 1069.5,-254.5 1069.5,-210.5 1069.5,-210.5 1069.5,-204.5 1075.5,-198.5 1081.5,-198.5 1081.5,-198.5 1173.5,-198.5 1173.5,-198.5 1179.5,-198.5 1185.5,-204.5 1185.5,-210.5 1185.5,-210.5 1185.5,-254.5 1185.5,-254.5 1185.5,-260.5 1179.5,-266.5 1173.5,-266.5\"/>\n<text text-anchor=\"middle\" x=\"1127.5\" y=\"-251.3\" font-family=\"Helvetica,sans-Serif\" font-size=\"14.00\">entropy = 0.431</text>\n<text text-anchor=\"middle\" x=\"1127.5\" y=\"-236.3\" font-family=\"Helvetica,sans-Serif\" font-size=\"14.00\">samples = 68</text>\n<text text-anchor=\"middle\" x=\"1127.5\" y=\"-221.3\" font-family=\"Helvetica,sans-Serif\" font-size=\"14.00\">value = [62, 6]</text>\n<text text-anchor=\"middle\" x=\"1127.5\" y=\"-206.3\" font-family=\"Helvetica,sans-Serif\" font-size=\"14.00\">class = heart_no</text>\n</g>\n<!-- 56&#45;&gt;70 -->\n<g id=\"edge28\" class=\"edge\">\n<title>56&#45;&gt;70</title>\n<path fill=\"none\" stroke=\"black\" d=\"M1122.28,-309.91C1123.01,-299.2 1123.8,-287.62 1124.54,-276.78\"/>\n<polygon fill=\"black\" stroke=\"black\" points=\"1128.04,-276.88 1125.23,-266.67 1121.06,-276.4 1128.04,-276.88\"/>\n</g>\n<!-- 58 -->\n<g id=\"node25\" class=\"node\">\n<title>58</title>\n<path fill=\"#e78c49\" stroke=\"black\" d=\"M1018.5,-147.5C1018.5,-147.5 926.5,-147.5 926.5,-147.5 920.5,-147.5 914.5,-141.5 914.5,-135.5 914.5,-135.5 914.5,-91.5 914.5,-91.5 914.5,-85.5 920.5,-79.5 926.5,-79.5 926.5,-79.5 1018.5,-79.5 1018.5,-79.5 1024.5,-79.5 1030.5,-85.5 1030.5,-91.5 1030.5,-91.5 1030.5,-135.5 1030.5,-135.5 1030.5,-141.5 1024.5,-147.5 1018.5,-147.5\"/>\n<text text-anchor=\"middle\" x=\"972.5\" y=\"-132.3\" font-family=\"Helvetica,sans-Serif\" font-size=\"14.00\">entropy = 0.391</text>\n<text text-anchor=\"middle\" x=\"972.5\" y=\"-117.3\" font-family=\"Helvetica,sans-Serif\" font-size=\"14.00\">samples = 39</text>\n<text text-anchor=\"middle\" x=\"972.5\" y=\"-102.3\" font-family=\"Helvetica,sans-Serif\" font-size=\"14.00\">value = [36, 3]</text>\n<text text-anchor=\"middle\" x=\"972.5\" y=\"-87.3\" font-family=\"Helvetica,sans-Serif\" font-size=\"14.00\">class = heart_no</text>\n</g>\n<!-- 57&#45;&gt;58 -->\n<g id=\"edge24\" class=\"edge\">\n<title>57&#45;&gt;58</title>\n<path fill=\"none\" stroke=\"black\" d=\"M982.95,-190.91C981.49,-180.2 979.9,-168.62 978.42,-157.78\"/>\n<polygon fill=\"black\" stroke=\"black\" points=\"981.86,-157.1 977.04,-147.67 974.92,-158.05 981.86,-157.1\"/>\n</g>\n<!-- 59 -->\n<g id=\"node26\" class=\"node\">\n<title>59</title>\n<path fill=\"#d6ebfa\" stroke=\"black\" d=\"M1210,-155C1210,-155 1061,-155 1061,-155 1055,-155 1049,-149 1049,-143 1049,-143 1049,-84 1049,-84 1049,-78 1055,-72 1061,-72 1061,-72 1210,-72 1210,-72 1216,-72 1222,-78 1222,-84 1222,-84 1222,-143 1222,-143 1222,-149 1216,-155 1210,-155\"/>\n<text text-anchor=\"middle\" x=\"1135.5\" y=\"-139.8\" font-family=\"Helvetica,sans-Serif\" font-size=\"14.00\">blood_cholesterol &lt;= 3.79</text>\n<text text-anchor=\"middle\" x=\"1135.5\" y=\"-124.8\" font-family=\"Helvetica,sans-Serif\" font-size=\"14.00\">entropy = 0.991</text>\n<text text-anchor=\"middle\" x=\"1135.5\" y=\"-109.8\" font-family=\"Helvetica,sans-Serif\" font-size=\"14.00\">samples = 341</text>\n<text text-anchor=\"middle\" x=\"1135.5\" y=\"-94.8\" font-family=\"Helvetica,sans-Serif\" font-size=\"14.00\">value = [151.0, 190.0]</text>\n<text text-anchor=\"middle\" x=\"1135.5\" y=\"-79.8\" font-family=\"Helvetica,sans-Serif\" font-size=\"14.00\">class = heart_yes</text>\n</g>\n<!-- 57&#45;&gt;59 -->\n<g id=\"edge25\" class=\"edge\">\n<title>57&#45;&gt;59</title>\n<path fill=\"none\" stroke=\"black\" d=\"M1039.5,-190.91C1051.47,-181.38 1064.33,-171.15 1076.61,-161.37\"/>\n<polygon fill=\"black\" stroke=\"black\" points=\"1078.94,-163.99 1084.59,-155.02 1074.59,-158.51 1078.94,-163.99\"/>\n</g>\n<!-- 60 -->\n<g id=\"node27\" class=\"node\">\n<title>60</title>\n<path fill=\"#c0c0c0\" stroke=\"black\" d=\"M1114.5,-36C1114.5,-36 1084.5,-36 1084.5,-36 1078.5,-36 1072.5,-30 1072.5,-24 1072.5,-24 1072.5,-12 1072.5,-12 1072.5,-6 1078.5,0 1084.5,0 1084.5,0 1114.5,0 1114.5,0 1120.5,0 1126.5,-6 1126.5,-12 1126.5,-12 1126.5,-24 1126.5,-24 1126.5,-30 1120.5,-36 1114.5,-36\"/>\n<text text-anchor=\"middle\" x=\"1099.5\" y=\"-14.3\" font-family=\"Helvetica,sans-Serif\" font-size=\"14.00\">(...)</text>\n</g>\n<!-- 59&#45;&gt;60 -->\n<g id=\"edge26\" class=\"edge\">\n<title>59&#45;&gt;60</title>\n<path fill=\"none\" stroke=\"black\" d=\"M1119.81,-71.76C1116.46,-63.04 1112.99,-54.04 1109.89,-45.99\"/>\n<polygon fill=\"black\" stroke=\"black\" points=\"1113.06,-44.48 1106.2,-36.41 1106.53,-46.99 1113.06,-44.48\"/>\n</g>\n<!-- 61 -->\n<g id=\"node28\" class=\"node\">\n<title>61</title>\n<path fill=\"#c0c0c0\" stroke=\"black\" d=\"M1186.5,-36C1186.5,-36 1156.5,-36 1156.5,-36 1150.5,-36 1144.5,-30 1144.5,-24 1144.5,-24 1144.5,-12 1144.5,-12 1144.5,-6 1150.5,0 1156.5,0 1156.5,0 1186.5,0 1186.5,0 1192.5,0 1198.5,-6 1198.5,-12 1198.5,-12 1198.5,-24 1198.5,-24 1198.5,-30 1192.5,-36 1186.5,-36\"/>\n<text text-anchor=\"middle\" x=\"1171.5\" y=\"-14.3\" font-family=\"Helvetica,sans-Serif\" font-size=\"14.00\">(...)</text>\n</g>\n<!-- 59&#45;&gt;61 -->\n<g id=\"edge27\" class=\"edge\">\n<title>59&#45;&gt;61</title>\n<path fill=\"none\" stroke=\"black\" d=\"M1151.19,-71.76C1154.54,-63.04 1158.01,-54.04 1161.11,-45.99\"/>\n<polygon fill=\"black\" stroke=\"black\" points=\"1164.47,-46.99 1164.8,-36.41 1157.94,-44.48 1164.47,-46.99\"/>\n</g>\n<!-- 72 -->\n<g id=\"node31\" class=\"node\">\n<title>72</title>\n<path fill=\"#4ea7e8\" stroke=\"black\" d=\"M1329.5,-266.5C1329.5,-266.5 1231.5,-266.5 1231.5,-266.5 1225.5,-266.5 1219.5,-260.5 1219.5,-254.5 1219.5,-254.5 1219.5,-210.5 1219.5,-210.5 1219.5,-204.5 1225.5,-198.5 1231.5,-198.5 1231.5,-198.5 1329.5,-198.5 1329.5,-198.5 1335.5,-198.5 1341.5,-204.5 1341.5,-210.5 1341.5,-210.5 1341.5,-254.5 1341.5,-254.5 1341.5,-260.5 1335.5,-266.5 1329.5,-266.5\"/>\n<text text-anchor=\"middle\" x=\"1280.5\" y=\"-251.3\" font-family=\"Helvetica,sans-Serif\" font-size=\"14.00\">entropy = 0.455</text>\n<text text-anchor=\"middle\" x=\"1280.5\" y=\"-236.3\" font-family=\"Helvetica,sans-Serif\" font-size=\"14.00\">samples = 94</text>\n<text text-anchor=\"middle\" x=\"1280.5\" y=\"-221.3\" font-family=\"Helvetica,sans-Serif\" font-size=\"14.00\">value = [9, 85]</text>\n<text text-anchor=\"middle\" x=\"1280.5\" y=\"-206.3\" font-family=\"Helvetica,sans-Serif\" font-size=\"14.00\">class = heart_yes</text>\n</g>\n<!-- 71&#45;&gt;72 -->\n<g id=\"edge30\" class=\"edge\">\n<title>71&#45;&gt;72</title>\n<path fill=\"none\" stroke=\"black\" d=\"M1285.72,-309.91C1284.99,-299.2 1284.2,-287.62 1283.46,-276.78\"/>\n<polygon fill=\"black\" stroke=\"black\" points=\"1286.94,-276.4 1282.77,-266.67 1279.96,-276.88 1286.94,-276.4\"/>\n</g>\n<!-- 73 -->\n<g id=\"node32\" class=\"node\">\n<title>73</title>\n<path fill=\"#a3d2f3\" stroke=\"black\" d=\"M1485.5,-274C1485.5,-274 1371.5,-274 1371.5,-274 1365.5,-274 1359.5,-268 1359.5,-262 1359.5,-262 1359.5,-203 1359.5,-203 1359.5,-197 1365.5,-191 1371.5,-191 1371.5,-191 1485.5,-191 1485.5,-191 1491.5,-191 1497.5,-197 1497.5,-203 1497.5,-203 1497.5,-262 1497.5,-262 1497.5,-268 1491.5,-274 1485.5,-274\"/>\n<text text-anchor=\"middle\" x=\"1428.5\" y=\"-258.8\" font-family=\"Helvetica,sans-Serif\" font-size=\"14.00\">diastolic_bp &lt;= 81.0</text>\n<text text-anchor=\"middle\" x=\"1428.5\" y=\"-243.8\" font-family=\"Helvetica,sans-Serif\" font-size=\"14.00\">entropy = 0.933</text>\n<text text-anchor=\"middle\" x=\"1428.5\" y=\"-228.8\" font-family=\"Helvetica,sans-Serif\" font-size=\"14.00\">samples = 292</text>\n<text text-anchor=\"middle\" x=\"1428.5\" y=\"-213.8\" font-family=\"Helvetica,sans-Serif\" font-size=\"14.00\">value = [102, 190]</text>\n<text text-anchor=\"middle\" x=\"1428.5\" y=\"-198.8\" font-family=\"Helvetica,sans-Serif\" font-size=\"14.00\">class = heart_yes</text>\n</g>\n<!-- 71&#45;&gt;73 -->\n<g id=\"edge31\" class=\"edge\">\n<title>71&#45;&gt;73</title>\n<path fill=\"none\" stroke=\"black\" d=\"M1337.07,-309.91C1348.37,-300.47 1360.48,-290.34 1372.08,-280.65\"/>\n<polygon fill=\"black\" stroke=\"black\" points=\"1374.58,-283.12 1380.01,-274.02 1370.1,-277.75 1374.58,-283.12\"/>\n</g>\n<!-- 74 -->\n<g id=\"node33\" class=\"node\">\n<title>74</title>\n<path fill=\"#97cbf1\" stroke=\"black\" d=\"M1356.5,-155C1356.5,-155 1252.5,-155 1252.5,-155 1246.5,-155 1240.5,-149 1240.5,-143 1240.5,-143 1240.5,-84 1240.5,-84 1240.5,-78 1246.5,-72 1252.5,-72 1252.5,-72 1356.5,-72 1356.5,-72 1362.5,-72 1368.5,-78 1368.5,-84 1368.5,-84 1368.5,-143 1368.5,-143 1368.5,-149 1362.5,-155 1356.5,-155\"/>\n<text text-anchor=\"middle\" x=\"1304.5\" y=\"-139.8\" font-family=\"Helvetica,sans-Serif\" font-size=\"14.00\">calories &lt;= 3316.5</text>\n<text text-anchor=\"middle\" x=\"1304.5\" y=\"-124.8\" font-family=\"Helvetica,sans-Serif\" font-size=\"14.00\">entropy = 0.906</text>\n<text text-anchor=\"middle\" x=\"1304.5\" y=\"-109.8\" font-family=\"Helvetica,sans-Serif\" font-size=\"14.00\">samples = 280</text>\n<text text-anchor=\"middle\" x=\"1304.5\" y=\"-94.8\" font-family=\"Helvetica,sans-Serif\" font-size=\"14.00\">value = [90, 190]</text>\n<text text-anchor=\"middle\" x=\"1304.5\" y=\"-79.8\" font-family=\"Helvetica,sans-Serif\" font-size=\"14.00\">class = heart_yes</text>\n</g>\n<!-- 73&#45;&gt;74 -->\n<g id=\"edge32\" class=\"edge\">\n<title>73&#45;&gt;74</title>\n<path fill=\"none\" stroke=\"black\" d=\"M1385.48,-190.91C1375.57,-181.56 1364.95,-171.54 1354.77,-161.93\"/>\n<polygon fill=\"black\" stroke=\"black\" points=\"1357.12,-159.34 1347.45,-155.02 1352.32,-164.43 1357.12,-159.34\"/>\n</g>\n<!-- 85 -->\n<g id=\"node36\" class=\"node\">\n<title>85</title>\n<path fill=\"#e58139\" stroke=\"black\" d=\"M1490.5,-147.5C1490.5,-147.5 1398.5,-147.5 1398.5,-147.5 1392.5,-147.5 1386.5,-141.5 1386.5,-135.5 1386.5,-135.5 1386.5,-91.5 1386.5,-91.5 1386.5,-85.5 1392.5,-79.5 1398.5,-79.5 1398.5,-79.5 1490.5,-79.5 1490.5,-79.5 1496.5,-79.5 1502.5,-85.5 1502.5,-91.5 1502.5,-91.5 1502.5,-135.5 1502.5,-135.5 1502.5,-141.5 1496.5,-147.5 1490.5,-147.5\"/>\n<text text-anchor=\"middle\" x=\"1444.5\" y=\"-132.3\" font-family=\"Helvetica,sans-Serif\" font-size=\"14.00\">entropy = 0.0</text>\n<text text-anchor=\"middle\" x=\"1444.5\" y=\"-117.3\" font-family=\"Helvetica,sans-Serif\" font-size=\"14.00\">samples = 12</text>\n<text text-anchor=\"middle\" x=\"1444.5\" y=\"-102.3\" font-family=\"Helvetica,sans-Serif\" font-size=\"14.00\">value = [12, 0]</text>\n<text text-anchor=\"middle\" x=\"1444.5\" y=\"-87.3\" font-family=\"Helvetica,sans-Serif\" font-size=\"14.00\">class = heart_no</text>\n</g>\n<!-- 73&#45;&gt;85 -->\n<g id=\"edge35\" class=\"edge\">\n<title>73&#45;&gt;85</title>\n<path fill=\"none\" stroke=\"black\" d=\"M1434.05,-190.91C1435.51,-180.2 1437.1,-168.62 1438.58,-157.78\"/>\n<polygon fill=\"black\" stroke=\"black\" points=\"1442.08,-158.05 1439.96,-147.67 1435.14,-157.1 1442.08,-158.05\"/>\n</g>\n<!-- 75 -->\n<g id=\"node34\" class=\"node\">\n<title>75</title>\n<path fill=\"#c0c0c0\" stroke=\"black\" d=\"M1307.5,-36C1307.5,-36 1277.5,-36 1277.5,-36 1271.5,-36 1265.5,-30 1265.5,-24 1265.5,-24 1265.5,-12 1265.5,-12 1265.5,-6 1271.5,0 1277.5,0 1277.5,0 1307.5,0 1307.5,0 1313.5,0 1319.5,-6 1319.5,-12 1319.5,-12 1319.5,-24 1319.5,-24 1319.5,-30 1313.5,-36 1307.5,-36\"/>\n<text text-anchor=\"middle\" x=\"1292.5\" y=\"-14.3\" font-family=\"Helvetica,sans-Serif\" font-size=\"14.00\">(...)</text>\n</g>\n<!-- 74&#45;&gt;75 -->\n<g id=\"edge33\" class=\"edge\">\n<title>74&#45;&gt;75</title>\n<path fill=\"none\" stroke=\"black\" d=\"M1299.27,-71.76C1298.18,-63.24 1297.05,-54.44 1296.03,-46.53\"/>\n<polygon fill=\"black\" stroke=\"black\" points=\"1299.48,-45.88 1294.73,-36.41 1292.54,-46.77 1299.48,-45.88\"/>\n</g>\n<!-- 84 -->\n<g id=\"node35\" class=\"node\">\n<title>84</title>\n<path fill=\"#c0c0c0\" stroke=\"black\" d=\"M1379.5,-36C1379.5,-36 1349.5,-36 1349.5,-36 1343.5,-36 1337.5,-30 1337.5,-24 1337.5,-24 1337.5,-12 1337.5,-12 1337.5,-6 1343.5,0 1349.5,0 1349.5,0 1379.5,0 1379.5,0 1385.5,0 1391.5,-6 1391.5,-12 1391.5,-12 1391.5,-24 1391.5,-24 1391.5,-30 1385.5,-36 1379.5,-36\"/>\n<text text-anchor=\"middle\" x=\"1364.5\" y=\"-14.3\" font-family=\"Helvetica,sans-Serif\" font-size=\"14.00\">(...)</text>\n</g>\n<!-- 74&#45;&gt;84 -->\n<g id=\"edge34\" class=\"edge\">\n<title>74&#45;&gt;84</title>\n<path fill=\"none\" stroke=\"black\" d=\"M1330.64,-71.76C1336.49,-62.65 1342.53,-53.24 1347.86,-44.92\"/>\n<polygon fill=\"black\" stroke=\"black\" points=\"1350.88,-46.71 1353.33,-36.41 1344.98,-42.93 1350.88,-46.71\"/>\n</g>\n<!-- 87 -->\n<g id=\"node38\" class=\"node\">\n<title>87</title>\n<path fill=\"#c8e4f8\" stroke=\"black\" d=\"M2160,-512C2160,-512 2037,-512 2037,-512 2031,-512 2025,-506 2025,-500 2025,-500 2025,-441 2025,-441 2025,-435 2031,-429 2037,-429 2037,-429 2160,-429 2160,-429 2166,-429 2172,-435 2172,-441 2172,-441 2172,-500 2172,-500 2172,-506 2166,-512 2160,-512\"/>\n<text text-anchor=\"middle\" x=\"2098.5\" y=\"-496.8\" font-family=\"Helvetica,sans-Serif\" font-size=\"14.00\">age &lt;= 77.5</text>\n<text text-anchor=\"middle\" x=\"2098.5\" y=\"-481.8\" font-family=\"Helvetica,sans-Serif\" font-size=\"14.00\">entropy = 0.981</text>\n<text text-anchor=\"middle\" x=\"2098.5\" y=\"-466.8\" font-family=\"Helvetica,sans-Serif\" font-size=\"14.00\">samples = 1465</text>\n<text text-anchor=\"middle\" x=\"2098.5\" y=\"-451.8\" font-family=\"Helvetica,sans-Serif\" font-size=\"14.00\">value = [614.0, 851.0]</text>\n<text text-anchor=\"middle\" x=\"2098.5\" y=\"-436.8\" font-family=\"Helvetica,sans-Serif\" font-size=\"14.00\">class = heart_yes</text>\n</g>\n<!-- 86&#45;&gt;87 -->\n<g id=\"edge37\" class=\"edge\">\n<title>86&#45;&gt;87</title>\n<path fill=\"none\" stroke=\"black\" d=\"M2098.5,-547.91C2098.5,-539.65 2098.5,-530.86 2098.5,-522.3\"/>\n<polygon fill=\"black\" stroke=\"black\" points=\"2102,-522.02 2098.5,-512.02 2095,-522.02 2102,-522.02\"/>\n</g>\n<!-- 148 -->\n<g id=\"node63\" class=\"node\">\n<title>148</title>\n<path fill=\"#59ade9\" stroke=\"black\" d=\"M2587.5,-512C2587.5,-512 2431.5,-512 2431.5,-512 2425.5,-512 2419.5,-506 2419.5,-500 2419.5,-500 2419.5,-441 2419.5,-441 2419.5,-435 2425.5,-429 2431.5,-429 2431.5,-429 2587.5,-429 2587.5,-429 2593.5,-429 2599.5,-435 2599.5,-441 2599.5,-441 2599.5,-500 2599.5,-500 2599.5,-506 2593.5,-512 2587.5,-512\"/>\n<text text-anchor=\"middle\" x=\"2509.5\" y=\"-496.8\" font-family=\"Helvetica,sans-Serif\" font-size=\"14.00\">blood_cholesterol &lt;= 3.605</text>\n<text text-anchor=\"middle\" x=\"2509.5\" y=\"-481.8\" font-family=\"Helvetica,sans-Serif\" font-size=\"14.00\">entropy = 0.582</text>\n<text text-anchor=\"middle\" x=\"2509.5\" y=\"-466.8\" font-family=\"Helvetica,sans-Serif\" font-size=\"14.00\">samples = 883</text>\n<text text-anchor=\"middle\" x=\"2509.5\" y=\"-451.8\" font-family=\"Helvetica,sans-Serif\" font-size=\"14.00\">value = [123.0, 760.0]</text>\n<text text-anchor=\"middle\" x=\"2509.5\" y=\"-436.8\" font-family=\"Helvetica,sans-Serif\" font-size=\"14.00\">class = heart_yes</text>\n</g>\n<!-- 86&#45;&gt;148 -->\n<g id=\"edge62\" class=\"edge\">\n<title>86&#45;&gt;148</title>\n<path fill=\"none\" stroke=\"black\" d=\"M2164.53,-569.7C2230.8,-550.84 2333.69,-521.55 2409.87,-499.86\"/>\n<polygon fill=\"black\" stroke=\"black\" points=\"2410.83,-503.23 2419.49,-497.12 2408.92,-496.49 2410.83,-503.23\"/>\n</g>\n<!-- 88 -->\n<g id=\"node39\" class=\"node\">\n<title>88</title>\n<path fill=\"#fefcfb\" stroke=\"black\" d=\"M2051,-393C2051,-393 1920,-393 1920,-393 1914,-393 1908,-387 1908,-381 1908,-381 1908,-322 1908,-322 1908,-316 1914,-310 1920,-310 1920,-310 2051,-310 2051,-310 2057,-310 2063,-316 2063,-322 2063,-322 2063,-381 2063,-381 2063,-387 2057,-393 2051,-393\"/>\n<text text-anchor=\"middle\" x=\"1985.5\" y=\"-377.8\" font-family=\"Helvetica,sans-Serif\" font-size=\"14.00\">family_income &lt;= 3.84</text>\n<text text-anchor=\"middle\" x=\"1985.5\" y=\"-362.8\" font-family=\"Helvetica,sans-Serif\" font-size=\"14.00\">entropy = 1.0</text>\n<text text-anchor=\"middle\" x=\"1985.5\" y=\"-347.8\" font-family=\"Helvetica,sans-Serif\" font-size=\"14.00\">samples = 936</text>\n<text text-anchor=\"middle\" x=\"1985.5\" y=\"-332.8\" font-family=\"Helvetica,sans-Serif\" font-size=\"14.00\">value = [473, 463]</text>\n<text text-anchor=\"middle\" x=\"1985.5\" y=\"-317.8\" font-family=\"Helvetica,sans-Serif\" font-size=\"14.00\">class = heart_no</text>\n</g>\n<!-- 87&#45;&gt;88 -->\n<g id=\"edge38\" class=\"edge\">\n<title>87&#45;&gt;88</title>\n<path fill=\"none\" stroke=\"black\" d=\"M2059.3,-428.91C2050.44,-419.74 2040.96,-409.93 2031.85,-400.49\"/>\n<polygon fill=\"black\" stroke=\"black\" points=\"2034.1,-397.78 2024.64,-393.02 2029.07,-402.65 2034.1,-397.78\"/>\n</g>\n<!-- 127 -->\n<g id=\"node52\" class=\"node\">\n<title>127</title>\n<path fill=\"#81c1ee\" stroke=\"black\" d=\"M2274.5,-393C2274.5,-393 2148.5,-393 2148.5,-393 2142.5,-393 2136.5,-387 2136.5,-381 2136.5,-381 2136.5,-322 2136.5,-322 2136.5,-316 2142.5,-310 2148.5,-310 2148.5,-310 2274.5,-310 2274.5,-310 2280.5,-310 2286.5,-316 2286.5,-322 2286.5,-322 2286.5,-381 2286.5,-381 2286.5,-387 2280.5,-393 2274.5,-393\"/>\n<text text-anchor=\"middle\" x=\"2211.5\" y=\"-377.8\" font-family=\"Helvetica,sans-Serif\" font-size=\"14.00\">gender_female &lt;= 0.5</text>\n<text text-anchor=\"middle\" x=\"2211.5\" y=\"-362.8\" font-family=\"Helvetica,sans-Serif\" font-size=\"14.00\">entropy = 0.836</text>\n<text text-anchor=\"middle\" x=\"2211.5\" y=\"-347.8\" font-family=\"Helvetica,sans-Serif\" font-size=\"14.00\">samples = 529</text>\n<text text-anchor=\"middle\" x=\"2211.5\" y=\"-332.8\" font-family=\"Helvetica,sans-Serif\" font-size=\"14.00\">value = [141, 388]</text>\n<text text-anchor=\"middle\" x=\"2211.5\" y=\"-317.8\" font-family=\"Helvetica,sans-Serif\" font-size=\"14.00\">class = heart_yes</text>\n</g>\n<!-- 87&#45;&gt;127 -->\n<g id=\"edge51\" class=\"edge\">\n<title>87&#45;&gt;127</title>\n<path fill=\"none\" stroke=\"black\" d=\"M2137.7,-428.91C2146.56,-419.74 2156.04,-409.93 2165.15,-400.49\"/>\n<polygon fill=\"black\" stroke=\"black\" points=\"2167.93,-402.65 2172.36,-393.02 2162.9,-397.78 2167.93,-402.65\"/>\n</g>\n<!-- 89 -->\n<g id=\"node40\" class=\"node\">\n<title>89</title>\n<path fill=\"#dbedfa\" stroke=\"black\" d=\"M1791,-274C1791,-274 1668,-274 1668,-274 1662,-274 1656,-268 1656,-262 1656,-262 1656,-203 1656,-203 1656,-197 1662,-191 1668,-191 1668,-191 1791,-191 1791,-191 1797,-191 1803,-197 1803,-203 1803,-203 1803,-262 1803,-262 1803,-268 1797,-274 1791,-274\"/>\n<text text-anchor=\"middle\" x=\"1729.5\" y=\"-258.8\" font-family=\"Helvetica,sans-Serif\" font-size=\"14.00\">BMI &lt;= 16.05</text>\n<text text-anchor=\"middle\" x=\"1729.5\" y=\"-243.8\" font-family=\"Helvetica,sans-Serif\" font-size=\"14.00\">entropy = 0.993</text>\n<text text-anchor=\"middle\" x=\"1729.5\" y=\"-228.8\" font-family=\"Helvetica,sans-Serif\" font-size=\"14.00\">samples = 737</text>\n<text text-anchor=\"middle\" x=\"1729.5\" y=\"-213.8\" font-family=\"Helvetica,sans-Serif\" font-size=\"14.00\">value = [332.0, 405.0]</text>\n<text text-anchor=\"middle\" x=\"1729.5\" y=\"-198.8\" font-family=\"Helvetica,sans-Serif\" font-size=\"14.00\">class = heart_yes</text>\n</g>\n<!-- 88&#45;&gt;89 -->\n<g id=\"edge39\" class=\"edge\">\n<title>88&#45;&gt;89</title>\n<path fill=\"none\" stroke=\"black\" d=\"M1908,-315.08C1877.86,-301.3 1843.27,-285.49 1812.61,-271.48\"/>\n<polygon fill=\"black\" stroke=\"black\" points=\"1813.78,-268.17 1803.23,-267.2 1810.87,-274.54 1813.78,-268.17\"/>\n</g>\n<!-- 122 -->\n<g id=\"node47\" class=\"node\">\n<title>122</title>\n<path fill=\"#f0b58a\" stroke=\"black\" d=\"M2032,-274C2032,-274 1939,-274 1939,-274 1933,-274 1927,-268 1927,-262 1927,-262 1927,-203 1927,-203 1927,-197 1933,-191 1939,-191 1939,-191 2032,-191 2032,-191 2038,-191 2044,-197 2044,-203 2044,-203 2044,-262 2044,-262 2044,-268 2038,-274 2032,-274\"/>\n<text text-anchor=\"middle\" x=\"1985.5\" y=\"-258.8\" font-family=\"Helvetica,sans-Serif\" font-size=\"14.00\">BMI &lt;= 23.25</text>\n<text text-anchor=\"middle\" x=\"1985.5\" y=\"-243.8\" font-family=\"Helvetica,sans-Serif\" font-size=\"14.00\">entropy = 0.871</text>\n<text text-anchor=\"middle\" x=\"1985.5\" y=\"-228.8\" font-family=\"Helvetica,sans-Serif\" font-size=\"14.00\">samples = 199</text>\n<text text-anchor=\"middle\" x=\"1985.5\" y=\"-213.8\" font-family=\"Helvetica,sans-Serif\" font-size=\"14.00\">value = [141, 58]</text>\n<text text-anchor=\"middle\" x=\"1985.5\" y=\"-198.8\" font-family=\"Helvetica,sans-Serif\" font-size=\"14.00\">class = heart_no</text>\n</g>\n<!-- 88&#45;&gt;122 -->\n<g id=\"edge46\" class=\"edge\">\n<title>88&#45;&gt;122</title>\n<path fill=\"none\" stroke=\"black\" d=\"M1985.5,-309.91C1985.5,-301.65 1985.5,-292.86 1985.5,-284.3\"/>\n<polygon fill=\"black\" stroke=\"black\" points=\"1989,-284.02 1985.5,-274.02 1982,-284.02 1989,-284.02\"/>\n</g>\n<!-- 90 -->\n<g id=\"node41\" class=\"node\">\n<title>90</title>\n<path fill=\"#67b4eb\" stroke=\"black\" d=\"M1630.5,-155C1630.5,-155 1532.5,-155 1532.5,-155 1526.5,-155 1520.5,-149 1520.5,-143 1520.5,-143 1520.5,-84 1520.5,-84 1520.5,-78 1526.5,-72 1532.5,-72 1532.5,-72 1630.5,-72 1630.5,-72 1636.5,-72 1642.5,-78 1642.5,-84 1642.5,-84 1642.5,-143 1642.5,-143 1642.5,-149 1636.5,-155 1630.5,-155\"/>\n<text text-anchor=\"middle\" x=\"1581.5\" y=\"-139.8\" font-family=\"Helvetica,sans-Serif\" font-size=\"14.00\">BMI &lt;= 13.85</text>\n<text text-anchor=\"middle\" x=\"1581.5\" y=\"-124.8\" font-family=\"Helvetica,sans-Serif\" font-size=\"14.00\">entropy = 0.701</text>\n<text text-anchor=\"middle\" x=\"1581.5\" y=\"-109.8\" font-family=\"Helvetica,sans-Serif\" font-size=\"14.00\">samples = 100</text>\n<text text-anchor=\"middle\" x=\"1581.5\" y=\"-94.8\" font-family=\"Helvetica,sans-Serif\" font-size=\"14.00\">value = [19, 81]</text>\n<text text-anchor=\"middle\" x=\"1581.5\" y=\"-79.8\" font-family=\"Helvetica,sans-Serif\" font-size=\"14.00\">class = heart_yes</text>\n</g>\n<!-- 89&#45;&gt;90 -->\n<g id=\"edge40\" class=\"edge\">\n<title>89&#45;&gt;90</title>\n<path fill=\"none\" stroke=\"black\" d=\"M1678.15,-190.91C1666.1,-181.38 1653.16,-171.15 1640.79,-161.37\"/>\n<polygon fill=\"black\" stroke=\"black\" points=\"1642.77,-158.48 1632.76,-155.02 1638.43,-163.97 1642.77,-158.48\"/>\n</g>\n<!-- 93 -->\n<g id=\"node44\" class=\"node\">\n<title>93</title>\n<path fill=\"#f8fcfe\" stroke=\"black\" d=\"M1786.5,-155C1786.5,-155 1672.5,-155 1672.5,-155 1666.5,-155 1660.5,-149 1660.5,-143 1660.5,-143 1660.5,-84 1660.5,-84 1660.5,-78 1666.5,-72 1672.5,-72 1672.5,-72 1786.5,-72 1786.5,-72 1792.5,-72 1798.5,-78 1798.5,-84 1798.5,-84 1798.5,-143 1798.5,-143 1798.5,-149 1792.5,-155 1786.5,-155\"/>\n<text text-anchor=\"middle\" x=\"1729.5\" y=\"-139.8\" font-family=\"Helvetica,sans-Serif\" font-size=\"14.00\">diastolic_bp &lt;= 83.0</text>\n<text text-anchor=\"middle\" x=\"1729.5\" y=\"-124.8\" font-family=\"Helvetica,sans-Serif\" font-size=\"14.00\">entropy = 1.0</text>\n<text text-anchor=\"middle\" x=\"1729.5\" y=\"-109.8\" font-family=\"Helvetica,sans-Serif\" font-size=\"14.00\">samples = 637</text>\n<text text-anchor=\"middle\" x=\"1729.5\" y=\"-94.8\" font-family=\"Helvetica,sans-Serif\" font-size=\"14.00\">value = [313, 324]</text>\n<text text-anchor=\"middle\" x=\"1729.5\" y=\"-79.8\" font-family=\"Helvetica,sans-Serif\" font-size=\"14.00\">class = heart_yes</text>\n</g>\n<!-- 89&#45;&gt;93 -->\n<g id=\"edge43\" class=\"edge\">\n<title>89&#45;&gt;93</title>\n<path fill=\"none\" stroke=\"black\" d=\"M1729.5,-190.91C1729.5,-182.65 1729.5,-173.86 1729.5,-165.3\"/>\n<polygon fill=\"black\" stroke=\"black\" points=\"1733,-165.02 1729.5,-155.02 1726,-165.02 1733,-165.02\"/>\n</g>\n<!-- 91 -->\n<g id=\"node42\" class=\"node\">\n<title>91</title>\n<path fill=\"#c0c0c0\" stroke=\"black\" d=\"M1532.5,-36C1532.5,-36 1502.5,-36 1502.5,-36 1496.5,-36 1490.5,-30 1490.5,-24 1490.5,-24 1490.5,-12 1490.5,-12 1490.5,-6 1496.5,0 1502.5,0 1502.5,0 1532.5,0 1532.5,0 1538.5,0 1544.5,-6 1544.5,-12 1544.5,-12 1544.5,-24 1544.5,-24 1544.5,-30 1538.5,-36 1532.5,-36\"/>\n<text text-anchor=\"middle\" x=\"1517.5\" y=\"-14.3\" font-family=\"Helvetica,sans-Serif\" font-size=\"14.00\">(...)</text>\n</g>\n<!-- 90&#45;&gt;91 -->\n<g id=\"edge41\" class=\"edge\">\n<title>90&#45;&gt;91</title>\n<path fill=\"none\" stroke=\"black\" d=\"M1553.61,-71.76C1547.31,-62.56 1540.8,-53.04 1535.06,-44.66\"/>\n<polygon fill=\"black\" stroke=\"black\" points=\"1537.95,-42.68 1529.41,-36.41 1532.17,-46.63 1537.95,-42.68\"/>\n</g>\n<!-- 92 -->\n<g id=\"node43\" class=\"node\">\n<title>92</title>\n<path fill=\"#c0c0c0\" stroke=\"black\" d=\"M1604.5,-36C1604.5,-36 1574.5,-36 1574.5,-36 1568.5,-36 1562.5,-30 1562.5,-24 1562.5,-24 1562.5,-12 1562.5,-12 1562.5,-6 1568.5,0 1574.5,0 1574.5,0 1604.5,0 1604.5,0 1610.5,0 1616.5,-6 1616.5,-12 1616.5,-12 1616.5,-24 1616.5,-24 1616.5,-30 1610.5,-36 1604.5,-36\"/>\n<text text-anchor=\"middle\" x=\"1589.5\" y=\"-14.3\" font-family=\"Helvetica,sans-Serif\" font-size=\"14.00\">(...)</text>\n</g>\n<!-- 90&#45;&gt;92 -->\n<g id=\"edge42\" class=\"edge\">\n<title>90&#45;&gt;92</title>\n<path fill=\"none\" stroke=\"black\" d=\"M1584.99,-71.76C1585.72,-63.24 1586.47,-54.44 1587.14,-46.53\"/>\n<polygon fill=\"black\" stroke=\"black\" points=\"1590.65,-46.67 1588.01,-36.41 1583.67,-46.07 1590.65,-46.67\"/>\n</g>\n<!-- 94 -->\n<g id=\"node45\" class=\"node\">\n<title>94</title>\n<path fill=\"#c0c0c0\" stroke=\"black\" d=\"M1678.5,-36C1678.5,-36 1648.5,-36 1648.5,-36 1642.5,-36 1636.5,-30 1636.5,-24 1636.5,-24 1636.5,-12 1636.5,-12 1636.5,-6 1642.5,0 1648.5,0 1648.5,0 1678.5,0 1678.5,0 1684.5,0 1690.5,-6 1690.5,-12 1690.5,-12 1690.5,-24 1690.5,-24 1690.5,-30 1684.5,-36 1678.5,-36\"/>\n<text text-anchor=\"middle\" x=\"1663.5\" y=\"-14.3\" font-family=\"Helvetica,sans-Serif\" font-size=\"14.00\">(...)</text>\n</g>\n<!-- 93&#45;&gt;94 -->\n<g id=\"edge44\" class=\"edge\">\n<title>93&#45;&gt;94</title>\n<path fill=\"none\" stroke=\"black\" d=\"M1700.74,-71.76C1694.25,-62.56 1687.53,-53.04 1681.61,-44.66\"/>\n<polygon fill=\"black\" stroke=\"black\" points=\"1684.41,-42.56 1675.79,-36.41 1678.69,-46.59 1684.41,-42.56\"/>\n</g>\n<!-- 121 -->\n<g id=\"node46\" class=\"node\">\n<title>121</title>\n<path fill=\"#c0c0c0\" stroke=\"black\" d=\"M1750.5,-36C1750.5,-36 1720.5,-36 1720.5,-36 1714.5,-36 1708.5,-30 1708.5,-24 1708.5,-24 1708.5,-12 1708.5,-12 1708.5,-6 1714.5,0 1720.5,0 1720.5,0 1750.5,0 1750.5,0 1756.5,0 1762.5,-6 1762.5,-12 1762.5,-12 1762.5,-24 1762.5,-24 1762.5,-30 1756.5,-36 1750.5,-36\"/>\n<text text-anchor=\"middle\" x=\"1735.5\" y=\"-14.3\" font-family=\"Helvetica,sans-Serif\" font-size=\"14.00\">(...)</text>\n</g>\n<!-- 93&#45;&gt;121 -->\n<g id=\"edge45\" class=\"edge\">\n<title>93&#45;&gt;121</title>\n<path fill=\"none\" stroke=\"black\" d=\"M1732.11,-71.76C1732.66,-63.24 1733.23,-54.44 1733.73,-46.53\"/>\n<polygon fill=\"black\" stroke=\"black\" points=\"1737.24,-46.61 1734.38,-36.41 1730.25,-46.16 1737.24,-46.61\"/>\n</g>\n<!-- 123 -->\n<g id=\"node48\" class=\"node\">\n<title>123</title>\n<path fill=\"#fae7d9\" stroke=\"black\" d=\"M1942.5,-155C1942.5,-155 1828.5,-155 1828.5,-155 1822.5,-155 1816.5,-149 1816.5,-143 1816.5,-143 1816.5,-84 1816.5,-84 1816.5,-78 1822.5,-72 1828.5,-72 1828.5,-72 1942.5,-72 1942.5,-72 1948.5,-72 1954.5,-78 1954.5,-84 1954.5,-84 1954.5,-143 1954.5,-143 1954.5,-149 1948.5,-155 1942.5,-155\"/>\n<text text-anchor=\"middle\" x=\"1885.5\" y=\"-139.8\" font-family=\"Helvetica,sans-Serif\" font-size=\"14.00\">diastolic_bp &lt;= 57.0</text>\n<text text-anchor=\"middle\" x=\"1885.5\" y=\"-124.8\" font-family=\"Helvetica,sans-Serif\" font-size=\"14.00\">entropy = 0.992</text>\n<text text-anchor=\"middle\" x=\"1885.5\" y=\"-109.8\" font-family=\"Helvetica,sans-Serif\" font-size=\"14.00\">samples = 114</text>\n<text text-anchor=\"middle\" x=\"1885.5\" y=\"-94.8\" font-family=\"Helvetica,sans-Serif\" font-size=\"14.00\">value = [63.0, 51.0]</text>\n<text text-anchor=\"middle\" x=\"1885.5\" y=\"-79.8\" font-family=\"Helvetica,sans-Serif\" font-size=\"14.00\">class = heart_no</text>\n</g>\n<!-- 122&#45;&gt;123 -->\n<g id=\"edge47\" class=\"edge\">\n<title>122&#45;&gt;123</title>\n<path fill=\"none\" stroke=\"black\" d=\"M1950.81,-190.91C1943.05,-181.83 1934.75,-172.12 1926.76,-162.77\"/>\n<polygon fill=\"black\" stroke=\"black\" points=\"1929.29,-160.35 1920.13,-155.02 1923.97,-164.9 1929.29,-160.35\"/>\n</g>\n<!-- 126 -->\n<g id=\"node51\" class=\"node\">\n<title>126</title>\n<path fill=\"#e78c4b\" stroke=\"black\" d=\"M2076.5,-147.5C2076.5,-147.5 1984.5,-147.5 1984.5,-147.5 1978.5,-147.5 1972.5,-141.5 1972.5,-135.5 1972.5,-135.5 1972.5,-91.5 1972.5,-91.5 1972.5,-85.5 1978.5,-79.5 1984.5,-79.5 1984.5,-79.5 2076.5,-79.5 2076.5,-79.5 2082.5,-79.5 2088.5,-85.5 2088.5,-91.5 2088.5,-91.5 2088.5,-135.5 2088.5,-135.5 2088.5,-141.5 2082.5,-147.5 2076.5,-147.5\"/>\n<text text-anchor=\"middle\" x=\"2030.5\" y=\"-132.3\" font-family=\"Helvetica,sans-Serif\" font-size=\"14.00\">entropy = 0.41</text>\n<text text-anchor=\"middle\" x=\"2030.5\" y=\"-117.3\" font-family=\"Helvetica,sans-Serif\" font-size=\"14.00\">samples = 85</text>\n<text text-anchor=\"middle\" x=\"2030.5\" y=\"-102.3\" font-family=\"Helvetica,sans-Serif\" font-size=\"14.00\">value = [78, 7]</text>\n<text text-anchor=\"middle\" x=\"2030.5\" y=\"-87.3\" font-family=\"Helvetica,sans-Serif\" font-size=\"14.00\">class = heart_no</text>\n</g>\n<!-- 122&#45;&gt;126 -->\n<g id=\"edge50\" class=\"edge\">\n<title>122&#45;&gt;126</title>\n<path fill=\"none\" stroke=\"black\" d=\"M2001.11,-190.91C2005.31,-179.98 2009.87,-168.14 2014.11,-157.11\"/>\n<polygon fill=\"black\" stroke=\"black\" points=\"2017.42,-158.26 2017.74,-147.67 2010.89,-155.74 2017.42,-158.26\"/>\n</g>\n<!-- 124 -->\n<g id=\"node49\" class=\"node\">\n<title>124</title>\n<path fill=\"#c0c0c0\" stroke=\"black\" d=\"M1864.5,-36C1864.5,-36 1834.5,-36 1834.5,-36 1828.5,-36 1822.5,-30 1822.5,-24 1822.5,-24 1822.5,-12 1822.5,-12 1822.5,-6 1828.5,0 1834.5,0 1834.5,0 1864.5,0 1864.5,0 1870.5,0 1876.5,-6 1876.5,-12 1876.5,-12 1876.5,-24 1876.5,-24 1876.5,-30 1870.5,-36 1864.5,-36\"/>\n<text text-anchor=\"middle\" x=\"1849.5\" y=\"-14.3\" font-family=\"Helvetica,sans-Serif\" font-size=\"14.00\">(...)</text>\n</g>\n<!-- 123&#45;&gt;124 -->\n<g id=\"edge48\" class=\"edge\">\n<title>123&#45;&gt;124</title>\n<path fill=\"none\" stroke=\"black\" d=\"M1869.81,-71.76C1866.46,-63.04 1862.99,-54.04 1859.89,-45.99\"/>\n<polygon fill=\"black\" stroke=\"black\" points=\"1863.06,-44.48 1856.2,-36.41 1856.53,-46.99 1863.06,-44.48\"/>\n</g>\n<!-- 125 -->\n<g id=\"node50\" class=\"node\">\n<title>125</title>\n<path fill=\"#c0c0c0\" stroke=\"black\" d=\"M1936.5,-36C1936.5,-36 1906.5,-36 1906.5,-36 1900.5,-36 1894.5,-30 1894.5,-24 1894.5,-24 1894.5,-12 1894.5,-12 1894.5,-6 1900.5,0 1906.5,0 1906.5,0 1936.5,0 1936.5,0 1942.5,0 1948.5,-6 1948.5,-12 1948.5,-12 1948.5,-24 1948.5,-24 1948.5,-30 1942.5,-36 1936.5,-36\"/>\n<text text-anchor=\"middle\" x=\"1921.5\" y=\"-14.3\" font-family=\"Helvetica,sans-Serif\" font-size=\"14.00\">(...)</text>\n</g>\n<!-- 123&#45;&gt;125 -->\n<g id=\"edge49\" class=\"edge\">\n<title>123&#45;&gt;125</title>\n<path fill=\"none\" stroke=\"black\" d=\"M1901.19,-71.76C1904.54,-63.04 1908.01,-54.04 1911.11,-45.99\"/>\n<polygon fill=\"black\" stroke=\"black\" points=\"1914.47,-46.99 1914.8,-36.41 1907.94,-44.48 1914.47,-46.99\"/>\n</g>\n<!-- 128 -->\n<g id=\"node53\" class=\"node\">\n<title>128</title>\n<path fill=\"#69b5eb\" stroke=\"black\" d=\"M2289.5,-274C2289.5,-274 2133.5,-274 2133.5,-274 2127.5,-274 2121.5,-268 2121.5,-262 2121.5,-262 2121.5,-203 2121.5,-203 2121.5,-197 2127.5,-191 2133.5,-191 2133.5,-191 2289.5,-191 2289.5,-191 2295.5,-191 2301.5,-197 2301.5,-203 2301.5,-203 2301.5,-262 2301.5,-262 2301.5,-268 2295.5,-274 2289.5,-274\"/>\n<text text-anchor=\"middle\" x=\"2211.5\" y=\"-258.8\" font-family=\"Helvetica,sans-Serif\" font-size=\"14.00\">blood_cholesterol &lt;= 3.375</text>\n<text text-anchor=\"middle\" x=\"2211.5\" y=\"-243.8\" font-family=\"Helvetica,sans-Serif\" font-size=\"14.00\">entropy = 0.71</text>\n<text text-anchor=\"middle\" x=\"2211.5\" y=\"-228.8\" font-family=\"Helvetica,sans-Serif\" font-size=\"14.00\">samples = 299</text>\n<text text-anchor=\"middle\" x=\"2211.5\" y=\"-213.8\" font-family=\"Helvetica,sans-Serif\" font-size=\"14.00\">value = [58, 241]</text>\n<text text-anchor=\"middle\" x=\"2211.5\" y=\"-198.8\" font-family=\"Helvetica,sans-Serif\" font-size=\"14.00\">class = heart_yes</text>\n</g>\n<!-- 127&#45;&gt;128 -->\n<g id=\"edge52\" class=\"edge\">\n<title>127&#45;&gt;128</title>\n<path fill=\"none\" stroke=\"black\" d=\"M2211.5,-309.91C2211.5,-301.65 2211.5,-292.86 2211.5,-284.3\"/>\n<polygon fill=\"black\" stroke=\"black\" points=\"2215,-284.02 2211.5,-274.02 2208,-284.02 2215,-284.02\"/>\n</g>\n<!-- 139 -->\n<g id=\"node58\" class=\"node\">\n<title>139</title>\n<path fill=\"#a9d4f4\" stroke=\"black\" d=\"M2548,-274C2548,-274 2377,-274 2377,-274 2371,-274 2365,-268 2365,-262 2365,-262 2365,-203 2365,-203 2365,-197 2371,-191 2377,-191 2377,-191 2548,-191 2548,-191 2554,-191 2560,-197 2560,-203 2560,-203 2560,-262 2560,-262 2560,-268 2554,-274 2548,-274\"/>\n<text text-anchor=\"middle\" x=\"2462.5\" y=\"-258.8\" font-family=\"Helvetica,sans-Serif\" font-size=\"14.00\">blood_pressure_sys &lt;= 101.0</text>\n<text text-anchor=\"middle\" x=\"2462.5\" y=\"-243.8\" font-family=\"Helvetica,sans-Serif\" font-size=\"14.00\">entropy = 0.943</text>\n<text text-anchor=\"middle\" x=\"2462.5\" y=\"-228.8\" font-family=\"Helvetica,sans-Serif\" font-size=\"14.00\">samples = 230</text>\n<text text-anchor=\"middle\" x=\"2462.5\" y=\"-213.8\" font-family=\"Helvetica,sans-Serif\" font-size=\"14.00\">value = [83, 147]</text>\n<text text-anchor=\"middle\" x=\"2462.5\" y=\"-198.8\" font-family=\"Helvetica,sans-Serif\" font-size=\"14.00\">class = heart_yes</text>\n</g>\n<!-- 127&#45;&gt;139 -->\n<g id=\"edge57\" class=\"edge\">\n<title>127&#45;&gt;139</title>\n<path fill=\"none\" stroke=\"black\" d=\"M2286.81,-315.4C2311.74,-303.78 2339.83,-290.68 2366.12,-278.43\"/>\n<polygon fill=\"black\" stroke=\"black\" points=\"2367.75,-281.53 2375.34,-274.13 2364.79,-275.18 2367.75,-281.53\"/>\n</g>\n<!-- 129 -->\n<g id=\"node54\" class=\"node\">\n<title>129</title>\n<path fill=\"#399de5\" stroke=\"black\" d=\"M2216.5,-147.5C2216.5,-147.5 2118.5,-147.5 2118.5,-147.5 2112.5,-147.5 2106.5,-141.5 2106.5,-135.5 2106.5,-135.5 2106.5,-91.5 2106.5,-91.5 2106.5,-85.5 2112.5,-79.5 2118.5,-79.5 2118.5,-79.5 2216.5,-79.5 2216.5,-79.5 2222.5,-79.5 2228.5,-85.5 2228.5,-91.5 2228.5,-91.5 2228.5,-135.5 2228.5,-135.5 2228.5,-141.5 2222.5,-147.5 2216.5,-147.5\"/>\n<text text-anchor=\"middle\" x=\"2167.5\" y=\"-132.3\" font-family=\"Helvetica,sans-Serif\" font-size=\"14.00\">entropy = 0.0</text>\n<text text-anchor=\"middle\" x=\"2167.5\" y=\"-117.3\" font-family=\"Helvetica,sans-Serif\" font-size=\"14.00\">samples = 46</text>\n<text text-anchor=\"middle\" x=\"2167.5\" y=\"-102.3\" font-family=\"Helvetica,sans-Serif\" font-size=\"14.00\">value = [0, 46]</text>\n<text text-anchor=\"middle\" x=\"2167.5\" y=\"-87.3\" font-family=\"Helvetica,sans-Serif\" font-size=\"14.00\">class = heart_yes</text>\n</g>\n<!-- 128&#45;&gt;129 -->\n<g id=\"edge53\" class=\"edge\">\n<title>128&#45;&gt;129</title>\n<path fill=\"none\" stroke=\"black\" d=\"M2196.23,-190.91C2192.13,-179.98 2187.67,-168.14 2183.52,-157.11\"/>\n<polygon fill=\"black\" stroke=\"black\" points=\"2186.77,-155.79 2179.97,-147.67 2180.22,-158.26 2186.77,-155.79\"/>\n</g>\n<!-- 130 -->\n<g id=\"node55\" class=\"node\">\n<title>130</title>\n<path fill=\"#74baed\" stroke=\"black\" d=\"M2374,-155C2374,-155 2259,-155 2259,-155 2253,-155 2247,-149 2247,-143 2247,-143 2247,-84 2247,-84 2247,-78 2253,-72 2259,-72 2259,-72 2374,-72 2374,-72 2380,-72 2386,-78 2386,-84 2386,-84 2386,-143 2386,-143 2386,-149 2380,-155 2374,-155\"/>\n<text text-anchor=\"middle\" x=\"2316.5\" y=\"-139.8\" font-family=\"Helvetica,sans-Serif\" font-size=\"14.00\">drink_alcohol &lt;= 0.5</text>\n<text text-anchor=\"middle\" x=\"2316.5\" y=\"-124.8\" font-family=\"Helvetica,sans-Serif\" font-size=\"14.00\">entropy = 0.777</text>\n<text text-anchor=\"middle\" x=\"2316.5\" y=\"-109.8\" font-family=\"Helvetica,sans-Serif\" font-size=\"14.00\">samples = 253</text>\n<text text-anchor=\"middle\" x=\"2316.5\" y=\"-94.8\" font-family=\"Helvetica,sans-Serif\" font-size=\"14.00\">value = [58, 195]</text>\n<text text-anchor=\"middle\" x=\"2316.5\" y=\"-79.8\" font-family=\"Helvetica,sans-Serif\" font-size=\"14.00\">class = heart_yes</text>\n</g>\n<!-- 128&#45;&gt;130 -->\n<g id=\"edge54\" class=\"edge\">\n<title>128&#45;&gt;130</title>\n<path fill=\"none\" stroke=\"black\" d=\"M2247.93,-190.91C2256.15,-181.74 2264.96,-171.93 2273.43,-162.49\"/>\n<polygon fill=\"black\" stroke=\"black\" points=\"2276.06,-164.8 2280.14,-155.02 2270.85,-160.13 2276.06,-164.8\"/>\n</g>\n<!-- 131 -->\n<g id=\"node56\" class=\"node\">\n<title>131</title>\n<path fill=\"#c0c0c0\" stroke=\"black\" d=\"M2295.5,-36C2295.5,-36 2265.5,-36 2265.5,-36 2259.5,-36 2253.5,-30 2253.5,-24 2253.5,-24 2253.5,-12 2253.5,-12 2253.5,-6 2259.5,0 2265.5,0 2265.5,0 2295.5,0 2295.5,0 2301.5,0 2307.5,-6 2307.5,-12 2307.5,-12 2307.5,-24 2307.5,-24 2307.5,-30 2301.5,-36 2295.5,-36\"/>\n<text text-anchor=\"middle\" x=\"2280.5\" y=\"-14.3\" font-family=\"Helvetica,sans-Serif\" font-size=\"14.00\">(...)</text>\n</g>\n<!-- 130&#45;&gt;131 -->\n<g id=\"edge55\" class=\"edge\">\n<title>130&#45;&gt;131</title>\n<path fill=\"none\" stroke=\"black\" d=\"M2300.81,-71.76C2297.46,-63.04 2293.99,-54.04 2290.89,-45.99\"/>\n<polygon fill=\"black\" stroke=\"black\" points=\"2294.06,-44.48 2287.2,-36.41 2287.53,-46.99 2294.06,-44.48\"/>\n</g>\n<!-- 132 -->\n<g id=\"node57\" class=\"node\">\n<title>132</title>\n<path fill=\"#c0c0c0\" stroke=\"black\" d=\"M2367.5,-36C2367.5,-36 2337.5,-36 2337.5,-36 2331.5,-36 2325.5,-30 2325.5,-24 2325.5,-24 2325.5,-12 2325.5,-12 2325.5,-6 2331.5,0 2337.5,0 2337.5,0 2367.5,0 2367.5,0 2373.5,0 2379.5,-6 2379.5,-12 2379.5,-12 2379.5,-24 2379.5,-24 2379.5,-30 2373.5,-36 2367.5,-36\"/>\n<text text-anchor=\"middle\" x=\"2352.5\" y=\"-14.3\" font-family=\"Helvetica,sans-Serif\" font-size=\"14.00\">(...)</text>\n</g>\n<!-- 130&#45;&gt;132 -->\n<g id=\"edge56\" class=\"edge\">\n<title>130&#45;&gt;132</title>\n<path fill=\"none\" stroke=\"black\" d=\"M2332.19,-71.76C2335.54,-63.04 2339.01,-54.04 2342.11,-45.99\"/>\n<polygon fill=\"black\" stroke=\"black\" points=\"2345.47,-46.99 2345.8,-36.41 2338.94,-44.48 2345.47,-46.99\"/>\n</g>\n<!-- 140 -->\n<g id=\"node59\" class=\"node\">\n<title>140</title>\n<path fill=\"#e58139\" stroke=\"black\" d=\"M2508.5,-147.5C2508.5,-147.5 2416.5,-147.5 2416.5,-147.5 2410.5,-147.5 2404.5,-141.5 2404.5,-135.5 2404.5,-135.5 2404.5,-91.5 2404.5,-91.5 2404.5,-85.5 2410.5,-79.5 2416.5,-79.5 2416.5,-79.5 2508.5,-79.5 2508.5,-79.5 2514.5,-79.5 2520.5,-85.5 2520.5,-91.5 2520.5,-91.5 2520.5,-135.5 2520.5,-135.5 2520.5,-141.5 2514.5,-147.5 2508.5,-147.5\"/>\n<text text-anchor=\"middle\" x=\"2462.5\" y=\"-132.3\" font-family=\"Helvetica,sans-Serif\" font-size=\"14.00\">entropy = 0.0</text>\n<text text-anchor=\"middle\" x=\"2462.5\" y=\"-117.3\" font-family=\"Helvetica,sans-Serif\" font-size=\"14.00\">samples = 9</text>\n<text text-anchor=\"middle\" x=\"2462.5\" y=\"-102.3\" font-family=\"Helvetica,sans-Serif\" font-size=\"14.00\">value = [9, 0]</text>\n<text text-anchor=\"middle\" x=\"2462.5\" y=\"-87.3\" font-family=\"Helvetica,sans-Serif\" font-size=\"14.00\">class = heart_no</text>\n</g>\n<!-- 139&#45;&gt;140 -->\n<g id=\"edge58\" class=\"edge\">\n<title>139&#45;&gt;140</title>\n<path fill=\"none\" stroke=\"black\" d=\"M2462.5,-190.91C2462.5,-180.2 2462.5,-168.62 2462.5,-157.78\"/>\n<polygon fill=\"black\" stroke=\"black\" points=\"2466,-157.67 2462.5,-147.67 2459,-157.67 2466,-157.67\"/>\n</g>\n<!-- 141 -->\n<g id=\"node60\" class=\"node\">\n<title>141</title>\n<path fill=\"#9dcef2\" stroke=\"black\" d=\"M2654.5,-155C2654.5,-155 2550.5,-155 2550.5,-155 2544.5,-155 2538.5,-149 2538.5,-143 2538.5,-143 2538.5,-84 2538.5,-84 2538.5,-78 2544.5,-72 2550.5,-72 2550.5,-72 2654.5,-72 2654.5,-72 2660.5,-72 2666.5,-78 2666.5,-84 2666.5,-84 2666.5,-143 2666.5,-143 2666.5,-149 2660.5,-155 2654.5,-155\"/>\n<text text-anchor=\"middle\" x=\"2602.5\" y=\"-139.8\" font-family=\"Helvetica,sans-Serif\" font-size=\"14.00\">calories &lt;= 2746.0</text>\n<text text-anchor=\"middle\" x=\"2602.5\" y=\"-124.8\" font-family=\"Helvetica,sans-Serif\" font-size=\"14.00\">entropy = 0.92</text>\n<text text-anchor=\"middle\" x=\"2602.5\" y=\"-109.8\" font-family=\"Helvetica,sans-Serif\" font-size=\"14.00\">samples = 221</text>\n<text text-anchor=\"middle\" x=\"2602.5\" y=\"-94.8\" font-family=\"Helvetica,sans-Serif\" font-size=\"14.00\">value = [74, 147]</text>\n<text text-anchor=\"middle\" x=\"2602.5\" y=\"-79.8\" font-family=\"Helvetica,sans-Serif\" font-size=\"14.00\">class = heart_yes</text>\n</g>\n<!-- 139&#45;&gt;141 -->\n<g id=\"edge59\" class=\"edge\">\n<title>139&#45;&gt;141</title>\n<path fill=\"none\" stroke=\"black\" d=\"M2511.07,-190.91C2522.37,-181.47 2534.48,-171.34 2546.08,-161.65\"/>\n<polygon fill=\"black\" stroke=\"black\" points=\"2548.58,-164.12 2554.01,-155.02 2544.1,-158.75 2548.58,-164.12\"/>\n</g>\n<!-- 142 -->\n<g id=\"node61\" class=\"node\">\n<title>142</title>\n<path fill=\"#c0c0c0\" stroke=\"black\" d=\"M2581.5,-36C2581.5,-36 2551.5,-36 2551.5,-36 2545.5,-36 2539.5,-30 2539.5,-24 2539.5,-24 2539.5,-12 2539.5,-12 2539.5,-6 2545.5,0 2551.5,0 2551.5,0 2581.5,0 2581.5,0 2587.5,0 2593.5,-6 2593.5,-12 2593.5,-12 2593.5,-24 2593.5,-24 2593.5,-30 2587.5,-36 2581.5,-36\"/>\n<text text-anchor=\"middle\" x=\"2566.5\" y=\"-14.3\" font-family=\"Helvetica,sans-Serif\" font-size=\"14.00\">(...)</text>\n</g>\n<!-- 141&#45;&gt;142 -->\n<g id=\"edge60\" class=\"edge\">\n<title>141&#45;&gt;142</title>\n<path fill=\"none\" stroke=\"black\" d=\"M2586.81,-71.76C2583.46,-63.04 2579.99,-54.04 2576.89,-45.99\"/>\n<polygon fill=\"black\" stroke=\"black\" points=\"2580.06,-44.48 2573.2,-36.41 2573.53,-46.99 2580.06,-44.48\"/>\n</g>\n<!-- 147 -->\n<g id=\"node62\" class=\"node\">\n<title>147</title>\n<path fill=\"#c0c0c0\" stroke=\"black\" d=\"M2653.5,-36C2653.5,-36 2623.5,-36 2623.5,-36 2617.5,-36 2611.5,-30 2611.5,-24 2611.5,-24 2611.5,-12 2611.5,-12 2611.5,-6 2617.5,0 2623.5,0 2623.5,0 2653.5,0 2653.5,0 2659.5,0 2665.5,-6 2665.5,-12 2665.5,-12 2665.5,-24 2665.5,-24 2665.5,-30 2659.5,-36 2653.5,-36\"/>\n<text text-anchor=\"middle\" x=\"2638.5\" y=\"-14.3\" font-family=\"Helvetica,sans-Serif\" font-size=\"14.00\">(...)</text>\n</g>\n<!-- 141&#45;&gt;147 -->\n<g id=\"edge61\" class=\"edge\">\n<title>141&#45;&gt;147</title>\n<path fill=\"none\" stroke=\"black\" d=\"M2618.19,-71.76C2621.54,-63.04 2625.01,-54.04 2628.11,-45.99\"/>\n<polygon fill=\"black\" stroke=\"black\" points=\"2631.47,-46.99 2631.8,-36.41 2624.94,-44.48 2631.47,-46.99\"/>\n</g>\n<!-- 149 -->\n<g id=\"node64\" class=\"node\">\n<title>149</title>\n<path fill=\"#bddef6\" stroke=\"black\" d=\"M2558.5,-385.5C2558.5,-385.5 2460.5,-385.5 2460.5,-385.5 2454.5,-385.5 2448.5,-379.5 2448.5,-373.5 2448.5,-373.5 2448.5,-329.5 2448.5,-329.5 2448.5,-323.5 2454.5,-317.5 2460.5,-317.5 2460.5,-317.5 2558.5,-317.5 2558.5,-317.5 2564.5,-317.5 2570.5,-323.5 2570.5,-329.5 2570.5,-329.5 2570.5,-373.5 2570.5,-373.5 2570.5,-379.5 2564.5,-385.5 2558.5,-385.5\"/>\n<text text-anchor=\"middle\" x=\"2509.5\" y=\"-370.3\" font-family=\"Helvetica,sans-Serif\" font-size=\"14.00\">entropy = 0.971</text>\n<text text-anchor=\"middle\" x=\"2509.5\" y=\"-355.3\" font-family=\"Helvetica,sans-Serif\" font-size=\"14.00\">samples = 60</text>\n<text text-anchor=\"middle\" x=\"2509.5\" y=\"-340.3\" font-family=\"Helvetica,sans-Serif\" font-size=\"14.00\">value = [24, 36]</text>\n<text text-anchor=\"middle\" x=\"2509.5\" y=\"-325.3\" font-family=\"Helvetica,sans-Serif\" font-size=\"14.00\">class = heart_yes</text>\n</g>\n<!-- 148&#45;&gt;149 -->\n<g id=\"edge63\" class=\"edge\">\n<title>148&#45;&gt;149</title>\n<path fill=\"none\" stroke=\"black\" d=\"M2509.5,-428.91C2509.5,-418.2 2509.5,-406.62 2509.5,-395.78\"/>\n<polygon fill=\"black\" stroke=\"black\" points=\"2513,-395.67 2509.5,-385.67 2506,-395.67 2513,-395.67\"/>\n</g>\n<!-- 150 -->\n<g id=\"node65\" class=\"node\">\n<title>150</title>\n<path fill=\"#54aae9\" stroke=\"black\" d=\"M2895,-393C2895,-393 2724,-393 2724,-393 2718,-393 2712,-387 2712,-381 2712,-381 2712,-322 2712,-322 2712,-316 2718,-310 2724,-310 2724,-310 2895,-310 2895,-310 2901,-310 2907,-316 2907,-322 2907,-322 2907,-381 2907,-381 2907,-387 2901,-393 2895,-393\"/>\n<text text-anchor=\"middle\" x=\"2809.5\" y=\"-377.8\" font-family=\"Helvetica,sans-Serif\" font-size=\"14.00\">blood_pressure_sys &lt;= 135.0</text>\n<text text-anchor=\"middle\" x=\"2809.5\" y=\"-362.8\" font-family=\"Helvetica,sans-Serif\" font-size=\"14.00\">entropy = 0.53</text>\n<text text-anchor=\"middle\" x=\"2809.5\" y=\"-347.8\" font-family=\"Helvetica,sans-Serif\" font-size=\"14.00\">samples = 823</text>\n<text text-anchor=\"middle\" x=\"2809.5\" y=\"-332.8\" font-family=\"Helvetica,sans-Serif\" font-size=\"14.00\">value = [99, 724]</text>\n<text text-anchor=\"middle\" x=\"2809.5\" y=\"-317.8\" font-family=\"Helvetica,sans-Serif\" font-size=\"14.00\">class = heart_yes</text>\n</g>\n<!-- 148&#45;&gt;150 -->\n<g id=\"edge64\" class=\"edge\">\n<title>148&#45;&gt;150</title>\n<path fill=\"none\" stroke=\"black\" d=\"M2599.51,-434.4C2631.93,-421.75 2668.83,-407.36 2702.55,-394.21\"/>\n<polygon fill=\"black\" stroke=\"black\" points=\"2703.93,-397.43 2711.97,-390.54 2701.38,-390.91 2703.93,-397.43\"/>\n</g>\n<!-- 151 -->\n<g id=\"node66\" class=\"node\">\n<title>151</title>\n<path fill=\"#59ade9\" stroke=\"black\" d=\"M2866.5,-274C2866.5,-274 2752.5,-274 2752.5,-274 2746.5,-274 2740.5,-268 2740.5,-262 2740.5,-262 2740.5,-203 2740.5,-203 2740.5,-197 2746.5,-191 2752.5,-191 2752.5,-191 2866.5,-191 2866.5,-191 2872.5,-191 2878.5,-197 2878.5,-203 2878.5,-203 2878.5,-262 2878.5,-262 2878.5,-268 2872.5,-274 2866.5,-274\"/>\n<text text-anchor=\"middle\" x=\"2809.5\" y=\"-258.8\" font-family=\"Helvetica,sans-Serif\" font-size=\"14.00\">diastolic_bp &lt;= 57.0</text>\n<text text-anchor=\"middle\" x=\"2809.5\" y=\"-243.8\" font-family=\"Helvetica,sans-Serif\" font-size=\"14.00\">entropy = 0.586</text>\n<text text-anchor=\"middle\" x=\"2809.5\" y=\"-228.8\" font-family=\"Helvetica,sans-Serif\" font-size=\"14.00\">samples = 668</text>\n<text text-anchor=\"middle\" x=\"2809.5\" y=\"-213.8\" font-family=\"Helvetica,sans-Serif\" font-size=\"14.00\">value = [94, 574]</text>\n<text text-anchor=\"middle\" x=\"2809.5\" y=\"-198.8\" font-family=\"Helvetica,sans-Serif\" font-size=\"14.00\">class = heart_yes</text>\n</g>\n<!-- 150&#45;&gt;151 -->\n<g id=\"edge65\" class=\"edge\">\n<title>150&#45;&gt;151</title>\n<path fill=\"none\" stroke=\"black\" d=\"M2809.5,-309.91C2809.5,-301.65 2809.5,-292.86 2809.5,-284.3\"/>\n<polygon fill=\"black\" stroke=\"black\" points=\"2813,-284.02 2809.5,-274.02 2806,-284.02 2813,-284.02\"/>\n</g>\n<!-- 184 -->\n<g id=\"node71\" class=\"node\">\n<title>184</title>\n<path fill=\"#40a0e6\" stroke=\"black\" d=\"M3077.5,-274C3077.5,-274 2973.5,-274 2973.5,-274 2967.5,-274 2961.5,-268 2961.5,-262 2961.5,-262 2961.5,-203 2961.5,-203 2961.5,-197 2967.5,-191 2973.5,-191 2973.5,-191 3077.5,-191 3077.5,-191 3083.5,-191 3089.5,-197 3089.5,-203 3089.5,-203 3089.5,-262 3089.5,-262 3089.5,-268 3083.5,-274 3077.5,-274\"/>\n<text text-anchor=\"middle\" x=\"3025.5\" y=\"-258.8\" font-family=\"Helvetica,sans-Serif\" font-size=\"14.00\">calories &lt;= 1992.5</text>\n<text text-anchor=\"middle\" x=\"3025.5\" y=\"-243.8\" font-family=\"Helvetica,sans-Serif\" font-size=\"14.00\">entropy = 0.206</text>\n<text text-anchor=\"middle\" x=\"3025.5\" y=\"-228.8\" font-family=\"Helvetica,sans-Serif\" font-size=\"14.00\">samples = 155</text>\n<text text-anchor=\"middle\" x=\"3025.5\" y=\"-213.8\" font-family=\"Helvetica,sans-Serif\" font-size=\"14.00\">value = [5, 150]</text>\n<text text-anchor=\"middle\" x=\"3025.5\" y=\"-198.8\" font-family=\"Helvetica,sans-Serif\" font-size=\"14.00\">class = heart_yes</text>\n</g>\n<!-- 150&#45;&gt;184 -->\n<g id=\"edge70\" class=\"edge\">\n<title>150&#45;&gt;184</title>\n<path fill=\"none\" stroke=\"black\" d=\"M2884.44,-309.91C2906.5,-297.96 2930.6,-284.9 2952.53,-273.02\"/>\n<polygon fill=\"black\" stroke=\"black\" points=\"2954.34,-276.02 2961.47,-268.18 2951.01,-269.87 2954.34,-276.02\"/>\n</g>\n<!-- 152 -->\n<g id=\"node67\" class=\"node\">\n<title>152</title>\n<path fill=\"#9acdf2\" stroke=\"black\" d=\"M2794.5,-147.5C2794.5,-147.5 2696.5,-147.5 2696.5,-147.5 2690.5,-147.5 2684.5,-141.5 2684.5,-135.5 2684.5,-135.5 2684.5,-91.5 2684.5,-91.5 2684.5,-85.5 2690.5,-79.5 2696.5,-79.5 2696.5,-79.5 2794.5,-79.5 2794.5,-79.5 2800.5,-79.5 2806.5,-85.5 2806.5,-91.5 2806.5,-91.5 2806.5,-135.5 2806.5,-135.5 2806.5,-141.5 2800.5,-147.5 2794.5,-147.5\"/>\n<text text-anchor=\"middle\" x=\"2745.5\" y=\"-132.3\" font-family=\"Helvetica,sans-Serif\" font-size=\"14.00\">entropy = 0.914</text>\n<text text-anchor=\"middle\" x=\"2745.5\" y=\"-117.3\" font-family=\"Helvetica,sans-Serif\" font-size=\"14.00\">samples = 76</text>\n<text text-anchor=\"middle\" x=\"2745.5\" y=\"-102.3\" font-family=\"Helvetica,sans-Serif\" font-size=\"14.00\">value = [25, 51]</text>\n<text text-anchor=\"middle\" x=\"2745.5\" y=\"-87.3\" font-family=\"Helvetica,sans-Serif\" font-size=\"14.00\">class = heart_yes</text>\n</g>\n<!-- 151&#45;&gt;152 -->\n<g id=\"edge66\" class=\"edge\">\n<title>151&#45;&gt;152</title>\n<path fill=\"none\" stroke=\"black\" d=\"M2787.3,-190.91C2781.26,-179.87 2774.71,-167.9 2768.62,-156.77\"/>\n<polygon fill=\"black\" stroke=\"black\" points=\"2771.51,-154.76 2763.64,-147.67 2765.37,-158.12 2771.51,-154.76\"/>\n</g>\n<!-- 153 -->\n<g id=\"node68\" class=\"node\">\n<title>153</title>\n<path fill=\"#53aae8\" stroke=\"black\" d=\"M2934.5,-155C2934.5,-155 2836.5,-155 2836.5,-155 2830.5,-155 2824.5,-149 2824.5,-143 2824.5,-143 2824.5,-84 2824.5,-84 2824.5,-78 2830.5,-72 2836.5,-72 2836.5,-72 2934.5,-72 2934.5,-72 2940.5,-72 2946.5,-78 2946.5,-84 2946.5,-84 2946.5,-143 2946.5,-143 2946.5,-149 2940.5,-155 2934.5,-155\"/>\n<text text-anchor=\"middle\" x=\"2885.5\" y=\"-139.8\" font-family=\"Helvetica,sans-Serif\" font-size=\"14.00\">calories &lt;= 522.0</text>\n<text text-anchor=\"middle\" x=\"2885.5\" y=\"-124.8\" font-family=\"Helvetica,sans-Serif\" font-size=\"14.00\">entropy = 0.519</text>\n<text text-anchor=\"middle\" x=\"2885.5\" y=\"-109.8\" font-family=\"Helvetica,sans-Serif\" font-size=\"14.00\">samples = 592</text>\n<text text-anchor=\"middle\" x=\"2885.5\" y=\"-94.8\" font-family=\"Helvetica,sans-Serif\" font-size=\"14.00\">value = [69, 523]</text>\n<text text-anchor=\"middle\" x=\"2885.5\" y=\"-79.8\" font-family=\"Helvetica,sans-Serif\" font-size=\"14.00\">class = heart_yes</text>\n</g>\n<!-- 151&#45;&gt;153 -->\n<g id=\"edge67\" class=\"edge\">\n<title>151&#45;&gt;153</title>\n<path fill=\"none\" stroke=\"black\" d=\"M2835.87,-190.91C2841.59,-182.1 2847.69,-172.7 2853.6,-163.61\"/>\n<polygon fill=\"black\" stroke=\"black\" points=\"2856.67,-165.31 2859.18,-155.02 2850.8,-161.5 2856.67,-165.31\"/>\n</g>\n<!-- 154 -->\n<g id=\"node69\" class=\"node\">\n<title>154</title>\n<path fill=\"#c0c0c0\" stroke=\"black\" d=\"M2864.5,-36C2864.5,-36 2834.5,-36 2834.5,-36 2828.5,-36 2822.5,-30 2822.5,-24 2822.5,-24 2822.5,-12 2822.5,-12 2822.5,-6 2828.5,0 2834.5,0 2834.5,0 2864.5,0 2864.5,0 2870.5,0 2876.5,-6 2876.5,-12 2876.5,-12 2876.5,-24 2876.5,-24 2876.5,-30 2870.5,-36 2864.5,-36\"/>\n<text text-anchor=\"middle\" x=\"2849.5\" y=\"-14.3\" font-family=\"Helvetica,sans-Serif\" font-size=\"14.00\">(...)</text>\n</g>\n<!-- 153&#45;&gt;154 -->\n<g id=\"edge68\" class=\"edge\">\n<title>153&#45;&gt;154</title>\n<path fill=\"none\" stroke=\"black\" d=\"M2869.81,-71.76C2866.46,-63.04 2862.99,-54.04 2859.89,-45.99\"/>\n<polygon fill=\"black\" stroke=\"black\" points=\"2863.06,-44.48 2856.2,-36.41 2856.53,-46.99 2863.06,-44.48\"/>\n</g>\n<!-- 155 -->\n<g id=\"node70\" class=\"node\">\n<title>155</title>\n<path fill=\"#c0c0c0\" stroke=\"black\" d=\"M2936.5,-36C2936.5,-36 2906.5,-36 2906.5,-36 2900.5,-36 2894.5,-30 2894.5,-24 2894.5,-24 2894.5,-12 2894.5,-12 2894.5,-6 2900.5,0 2906.5,0 2906.5,0 2936.5,0 2936.5,0 2942.5,0 2948.5,-6 2948.5,-12 2948.5,-12 2948.5,-24 2948.5,-24 2948.5,-30 2942.5,-36 2936.5,-36\"/>\n<text text-anchor=\"middle\" x=\"2921.5\" y=\"-14.3\" font-family=\"Helvetica,sans-Serif\" font-size=\"14.00\">(...)</text>\n</g>\n<!-- 153&#45;&gt;155 -->\n<g id=\"edge69\" class=\"edge\">\n<title>153&#45;&gt;155</title>\n<path fill=\"none\" stroke=\"black\" d=\"M2901.19,-71.76C2904.54,-63.04 2908.01,-54.04 2911.11,-45.99\"/>\n<polygon fill=\"black\" stroke=\"black\" points=\"2914.47,-46.99 2914.8,-36.41 2907.94,-44.48 2914.47,-46.99\"/>\n</g>\n<!-- 185 -->\n<g id=\"node72\" class=\"node\">\n<title>185</title>\n<path fill=\"#399de5\" stroke=\"black\" d=\"M3074.5,-147.5C3074.5,-147.5 2976.5,-147.5 2976.5,-147.5 2970.5,-147.5 2964.5,-141.5 2964.5,-135.5 2964.5,-135.5 2964.5,-91.5 2964.5,-91.5 2964.5,-85.5 2970.5,-79.5 2976.5,-79.5 2976.5,-79.5 3074.5,-79.5 3074.5,-79.5 3080.5,-79.5 3086.5,-85.5 3086.5,-91.5 3086.5,-91.5 3086.5,-135.5 3086.5,-135.5 3086.5,-141.5 3080.5,-147.5 3074.5,-147.5\"/>\n<text text-anchor=\"middle\" x=\"3025.5\" y=\"-132.3\" font-family=\"Helvetica,sans-Serif\" font-size=\"14.00\">entropy = 0.0</text>\n<text text-anchor=\"middle\" x=\"3025.5\" y=\"-117.3\" font-family=\"Helvetica,sans-Serif\" font-size=\"14.00\">samples = 110</text>\n<text text-anchor=\"middle\" x=\"3025.5\" y=\"-102.3\" font-family=\"Helvetica,sans-Serif\" font-size=\"14.00\">value = [0, 110]</text>\n<text text-anchor=\"middle\" x=\"3025.5\" y=\"-87.3\" font-family=\"Helvetica,sans-Serif\" font-size=\"14.00\">class = heart_yes</text>\n</g>\n<!-- 184&#45;&gt;185 -->\n<g id=\"edge71\" class=\"edge\">\n<title>184&#45;&gt;185</title>\n<path fill=\"none\" stroke=\"black\" d=\"M3025.5,-190.91C3025.5,-180.2 3025.5,-168.62 3025.5,-157.78\"/>\n<polygon fill=\"black\" stroke=\"black\" points=\"3029,-157.67 3025.5,-147.67 3022,-157.67 3029,-157.67\"/>\n</g>\n<!-- 186 -->\n<g id=\"node73\" class=\"node\">\n<title>186</title>\n<path fill=\"#52a9e8\" stroke=\"black\" d=\"M3214.5,-147.5C3214.5,-147.5 3116.5,-147.5 3116.5,-147.5 3110.5,-147.5 3104.5,-141.5 3104.5,-135.5 3104.5,-135.5 3104.5,-91.5 3104.5,-91.5 3104.5,-85.5 3110.5,-79.5 3116.5,-79.5 3116.5,-79.5 3214.5,-79.5 3214.5,-79.5 3220.5,-79.5 3226.5,-85.5 3226.5,-91.5 3226.5,-91.5 3226.5,-135.5 3226.5,-135.5 3226.5,-141.5 3220.5,-147.5 3214.5,-147.5\"/>\n<text text-anchor=\"middle\" x=\"3165.5\" y=\"-132.3\" font-family=\"Helvetica,sans-Serif\" font-size=\"14.00\">entropy = 0.503</text>\n<text text-anchor=\"middle\" x=\"3165.5\" y=\"-117.3\" font-family=\"Helvetica,sans-Serif\" font-size=\"14.00\">samples = 45</text>\n<text text-anchor=\"middle\" x=\"3165.5\" y=\"-102.3\" font-family=\"Helvetica,sans-Serif\" font-size=\"14.00\">value = [5, 40]</text>\n<text text-anchor=\"middle\" x=\"3165.5\" y=\"-87.3\" font-family=\"Helvetica,sans-Serif\" font-size=\"14.00\">class = heart_yes</text>\n</g>\n<!-- 184&#45;&gt;186 -->\n<g id=\"edge72\" class=\"edge\">\n<title>184&#45;&gt;186</title>\n<path fill=\"none\" stroke=\"black\" d=\"M3074.07,-190.91C3088.33,-178.99 3103.91,-165.98 3118.09,-154.12\"/>\n<polygon fill=\"black\" stroke=\"black\" points=\"3120.38,-156.77 3125.81,-147.67 3115.9,-151.39 3120.38,-156.77\"/>\n</g>\n</g>\n</svg>\n",
            "text/plain": [
              "<graphviz.sources.Source at 0x7a44aa619400>"
            ]
          },
          "metadata": {}
        }
      ],
      "source": [
        "# Underfit：Need at least 100 samples to split at each node\n",
        "tree_underfit = DecisionTreeClassifier(criterion=\"entropy\", min_samples_split=100)\n",
        "tree_underfit.fit(X_train, t_train)\n",
        "\n",
        "print(\"Training Accuracy (underfit):\", tree_underfit.score(X_train, t_train))\n",
        "print(\"Validation Accuracy (underfit):\", tree_underfit.score(X_val, t_val))\n",
        "\n",
        "# visualize the tree\n",
        "visualize_tree(tree_underfit)"
      ]
    },
    {
      "cell_type": "markdown",
      "id": "wound-procedure",
      "metadata": {
        "id": "wound-procedure"
      },
      "source": [
        "**Task:** Repeat the same thing you did above. Set `min_samples_split` to a value that would cause the tree to *overfit*. Omit the `max_depth` parameter. Report the accuracy on the validation and training sets. When using `visualize_tree` to visualize the tree, you can leave the default max depth parameter as 5."
      ]
    },
    {
      "cell_type": "code",
      "execution_count": 50,
      "id": "capable-burst",
      "metadata": {
        "id": "capable-burst",
        "outputId": "60e8c1bb-6101-468a-e0af-3566dde4a71d",
        "colab": {
          "base_uri": "https://localhost:8080/",
          "height": 1000
        }
      },
      "outputs": [
        {
          "output_type": "stream",
          "name": "stdout",
          "text": [
            "Training Accuracy (overfit): 1.0\n",
            "Validation Accuracy (overfit): 0.964\n"
          ]
        },
        {
          "output_type": "display_data",
          "data": {
            "image/svg+xml": "<?xml version=\"1.0\" encoding=\"UTF-8\" standalone=\"no\"?>\n<!DOCTYPE svg PUBLIC \"-//W3C//DTD SVG 1.1//EN\"\n \"http://www.w3.org/Graphics/SVG/1.1/DTD/svg11.dtd\">\n<!-- Generated by graphviz version 2.43.0 (0)\n -->\n<!-- Title: Tree Pages: 1 -->\n<svg width=\"4340pt\" height=\"758pt\"\n viewBox=\"0.00 0.00 4340.00 758.00\" xmlns=\"http://www.w3.org/2000/svg\" xmlns:xlink=\"http://www.w3.org/1999/xlink\">\n<g id=\"graph0\" class=\"graph\" transform=\"scale(1 1) rotate(0) translate(4 754)\">\n<title>Tree</title>\n<polygon fill=\"white\" stroke=\"transparent\" points=\"-4,4 -4,-754 4336,-754 4336,4 -4,4\"/>\n<!-- 0 -->\n<g id=\"node1\" class=\"node\">\n<title>0</title>\n<path fill=\"#fefcfb\" stroke=\"black\" d=\"M2559.5,-750C2559.5,-750 2421.5,-750 2421.5,-750 2415.5,-750 2409.5,-744 2409.5,-738 2409.5,-738 2409.5,-679 2409.5,-679 2409.5,-673 2415.5,-667 2421.5,-667 2421.5,-667 2559.5,-667 2559.5,-667 2565.5,-667 2571.5,-673 2571.5,-679 2571.5,-679 2571.5,-738 2571.5,-738 2571.5,-744 2565.5,-750 2559.5,-750\"/>\n<text text-anchor=\"middle\" x=\"2490.5\" y=\"-734.8\" font-family=\"Helvetica,sans-Serif\" font-size=\"14.00\">age &lt;= 64.5</text>\n<text text-anchor=\"middle\" x=\"2490.5\" y=\"-719.8\" font-family=\"Helvetica,sans-Serif\" font-size=\"14.00\">entropy = 1.0</text>\n<text text-anchor=\"middle\" x=\"2490.5\" y=\"-704.8\" font-family=\"Helvetica,sans-Serif\" font-size=\"14.00\">samples = 5000</text>\n<text text-anchor=\"middle\" x=\"2490.5\" y=\"-689.8\" font-family=\"Helvetica,sans-Serif\" font-size=\"14.00\">value = [2528.0, 2472.0]</text>\n<text text-anchor=\"middle\" x=\"2490.5\" y=\"-674.8\" font-family=\"Helvetica,sans-Serif\" font-size=\"14.00\">class = heart_no</text>\n</g>\n<!-- 1 -->\n<g id=\"node2\" class=\"node\">\n<title>1</title>\n<path fill=\"#f1be98\" stroke=\"black\" d=\"M1745,-631C1745,-631 1614,-631 1614,-631 1608,-631 1602,-625 1602,-619 1602,-619 1602,-560 1602,-560 1602,-554 1608,-548 1614,-548 1614,-548 1745,-548 1745,-548 1751,-548 1757,-554 1757,-560 1757,-560 1757,-619 1757,-619 1757,-625 1751,-631 1745,-631\"/>\n<text text-anchor=\"middle\" x=\"1679.5\" y=\"-615.8\" font-family=\"Helvetica,sans-Serif\" font-size=\"14.00\">chest_pain &lt;= 0.5</text>\n<text text-anchor=\"middle\" x=\"1679.5\" y=\"-600.8\" font-family=\"Helvetica,sans-Serif\" font-size=\"14.00\">entropy = 0.909</text>\n<text text-anchor=\"middle\" x=\"1679.5\" y=\"-585.8\" font-family=\"Helvetica,sans-Serif\" font-size=\"14.00\">samples = 2652</text>\n<text text-anchor=\"middle\" x=\"1679.5\" y=\"-570.8\" font-family=\"Helvetica,sans-Serif\" font-size=\"14.00\">value = [1791.0, 861.0]</text>\n<text text-anchor=\"middle\" x=\"1679.5\" y=\"-555.8\" font-family=\"Helvetica,sans-Serif\" font-size=\"14.00\">class = heart_no</text>\n</g>\n<!-- 0&#45;&gt;1 -->\n<g id=\"edge1\" class=\"edge\">\n<title>0&#45;&gt;1</title>\n<path fill=\"none\" stroke=\"black\" d=\"M2409.4,-695.8C2256.21,-673.7 1925.51,-625.99 1767.3,-603.17\"/>\n<polygon fill=\"black\" stroke=\"black\" points=\"1767.53,-599.66 1757.13,-601.7 1766.53,-606.59 1767.53,-599.66\"/>\n<text text-anchor=\"middle\" x=\"1772.1\" y=\"-618.02\" font-family=\"Helvetica,sans-Serif\" font-size=\"14.00\">True</text>\n</g>\n<!-- 332 -->\n<g id=\"node53\" class=\"node\">\n<title>332</title>\n<path fill=\"#94caf1\" stroke=\"black\" d=\"M2809.5,-631C2809.5,-631 2701.5,-631 2701.5,-631 2695.5,-631 2689.5,-625 2689.5,-619 2689.5,-619 2689.5,-560 2689.5,-560 2689.5,-554 2695.5,-548 2701.5,-548 2701.5,-548 2809.5,-548 2809.5,-548 2815.5,-548 2821.5,-554 2821.5,-560 2821.5,-560 2821.5,-619 2821.5,-619 2821.5,-625 2815.5,-631 2809.5,-631\"/>\n<text text-anchor=\"middle\" x=\"2755.5\" y=\"-615.8\" font-family=\"Helvetica,sans-Serif\" font-size=\"14.00\">chest_pain &lt;= 0.5</text>\n<text text-anchor=\"middle\" x=\"2755.5\" y=\"-600.8\" font-family=\"Helvetica,sans-Serif\" font-size=\"14.00\">entropy = 0.898</text>\n<text text-anchor=\"middle\" x=\"2755.5\" y=\"-585.8\" font-family=\"Helvetica,sans-Serif\" font-size=\"14.00\">samples = 2348</text>\n<text text-anchor=\"middle\" x=\"2755.5\" y=\"-570.8\" font-family=\"Helvetica,sans-Serif\" font-size=\"14.00\">value = [737, 1611]</text>\n<text text-anchor=\"middle\" x=\"2755.5\" y=\"-555.8\" font-family=\"Helvetica,sans-Serif\" font-size=\"14.00\">class = heart_yes</text>\n</g>\n<!-- 0&#45;&gt;332 -->\n<g id=\"edge52\" class=\"edge\">\n<title>0&#45;&gt;332</title>\n<path fill=\"none\" stroke=\"black\" d=\"M2571.81,-671.6C2606.3,-656.37 2646.26,-638.73 2680.08,-623.8\"/>\n<polygon fill=\"black\" stroke=\"black\" points=\"2681.71,-626.9 2689.45,-619.66 2678.88,-620.5 2681.71,-626.9\"/>\n<text text-anchor=\"middle\" x=\"2680.41\" y=\"-639.27\" font-family=\"Helvetica,sans-Serif\" font-size=\"14.00\">False</text>\n</g>\n<!-- 2 -->\n<g id=\"node3\" class=\"node\">\n<title>2</title>\n<path fill=\"#eca36f\" stroke=\"black\" d=\"M745.5,-512C745.5,-512 637.5,-512 637.5,-512 631.5,-512 625.5,-506 625.5,-500 625.5,-500 625.5,-441 625.5,-441 625.5,-435 631.5,-429 637.5,-429 637.5,-429 745.5,-429 745.5,-429 751.5,-429 757.5,-435 757.5,-441 757.5,-441 757.5,-500 757.5,-500 757.5,-506 751.5,-512 745.5,-512\"/>\n<text text-anchor=\"middle\" x=\"691.5\" y=\"-496.8\" font-family=\"Helvetica,sans-Serif\" font-size=\"14.00\">age &lt;= 47.5</text>\n<text text-anchor=\"middle\" x=\"691.5\" y=\"-481.8\" font-family=\"Helvetica,sans-Serif\" font-size=\"14.00\">entropy = 0.747</text>\n<text text-anchor=\"middle\" x=\"691.5\" y=\"-466.8\" font-family=\"Helvetica,sans-Serif\" font-size=\"14.00\">samples = 1818</text>\n<text text-anchor=\"middle\" x=\"691.5\" y=\"-451.8\" font-family=\"Helvetica,sans-Serif\" font-size=\"14.00\">value = [1431, 387]</text>\n<text text-anchor=\"middle\" x=\"691.5\" y=\"-436.8\" font-family=\"Helvetica,sans-Serif\" font-size=\"14.00\">class = heart_no</text>\n</g>\n<!-- 1&#45;&gt;2 -->\n<g id=\"edge2\" class=\"edge\">\n<title>1&#45;&gt;2</title>\n<path fill=\"none\" stroke=\"black\" d=\"M1601.97,-579.32C1417.03,-557.42 951.7,-502.31 767.9,-480.55\"/>\n<polygon fill=\"black\" stroke=\"black\" points=\"768.12,-477.05 757.78,-479.35 767.3,-484 768.12,-477.05\"/>\n</g>\n<!-- 185 -->\n<g id=\"node26\" class=\"node\">\n<title>185</title>\n<path fill=\"#cfe7f9\" stroke=\"black\" d=\"M1730,-512C1730,-512 1629,-512 1629,-512 1623,-512 1617,-506 1617,-500 1617,-500 1617,-441 1617,-441 1617,-435 1623,-429 1629,-429 1629,-429 1730,-429 1730,-429 1736,-429 1742,-435 1742,-441 1742,-441 1742,-500 1742,-500 1742,-506 1736,-512 1730,-512\"/>\n<text text-anchor=\"middle\" x=\"1679.5\" y=\"-496.8\" font-family=\"Helvetica,sans-Serif\" font-size=\"14.00\">age &lt;= 56.5</text>\n<text text-anchor=\"middle\" x=\"1679.5\" y=\"-481.8\" font-family=\"Helvetica,sans-Serif\" font-size=\"14.00\">entropy = 0.986</text>\n<text text-anchor=\"middle\" x=\"1679.5\" y=\"-466.8\" font-family=\"Helvetica,sans-Serif\" font-size=\"14.00\">samples = 834</text>\n<text text-anchor=\"middle\" x=\"1679.5\" y=\"-451.8\" font-family=\"Helvetica,sans-Serif\" font-size=\"14.00\">value = [360, 474]</text>\n<text text-anchor=\"middle\" x=\"1679.5\" y=\"-436.8\" font-family=\"Helvetica,sans-Serif\" font-size=\"14.00\">class = heart_yes</text>\n</g>\n<!-- 1&#45;&gt;185 -->\n<g id=\"edge25\" class=\"edge\">\n<title>1&#45;&gt;185</title>\n<path fill=\"none\" stroke=\"black\" d=\"M1679.5,-547.91C1679.5,-539.65 1679.5,-530.86 1679.5,-522.3\"/>\n<polygon fill=\"black\" stroke=\"black\" points=\"1683,-522.02 1679.5,-512.02 1676,-522.02 1683,-522.02\"/>\n</g>\n<!-- 3 -->\n<g id=\"node4\" class=\"node\">\n<title>3</title>\n<path fill=\"#e68641\" stroke=\"black\" d=\"M326.5,-393C326.5,-393 200.5,-393 200.5,-393 194.5,-393 188.5,-387 188.5,-381 188.5,-381 188.5,-322 188.5,-322 188.5,-316 194.5,-310 200.5,-310 200.5,-310 326.5,-310 326.5,-310 332.5,-310 338.5,-316 338.5,-322 338.5,-322 338.5,-381 338.5,-381 338.5,-387 332.5,-393 326.5,-393\"/>\n<text text-anchor=\"middle\" x=\"263.5\" y=\"-377.8\" font-family=\"Helvetica,sans-Serif\" font-size=\"14.00\">gender_female &lt;= 0.5</text>\n<text text-anchor=\"middle\" x=\"263.5\" y=\"-362.8\" font-family=\"Helvetica,sans-Serif\" font-size=\"14.00\">entropy = 0.232</text>\n<text text-anchor=\"middle\" x=\"263.5\" y=\"-347.8\" font-family=\"Helvetica,sans-Serif\" font-size=\"14.00\">samples = 529</text>\n<text text-anchor=\"middle\" x=\"263.5\" y=\"-332.8\" font-family=\"Helvetica,sans-Serif\" font-size=\"14.00\">value = [509, 20]</text>\n<text text-anchor=\"middle\" x=\"263.5\" y=\"-317.8\" font-family=\"Helvetica,sans-Serif\" font-size=\"14.00\">class = heart_no</text>\n</g>\n<!-- 2&#45;&gt;3 -->\n<g id=\"edge3\" class=\"edge\">\n<title>2&#45;&gt;3</title>\n<path fill=\"none\" stroke=\"black\" d=\"M625.09,-451.35C550.64,-430.99 429.7,-397.93 348.43,-375.72\"/>\n<polygon fill=\"black\" stroke=\"black\" points=\"349.29,-372.32 338.72,-373.06 347.44,-379.07 349.29,-372.32\"/>\n</g>\n<!-- 28 -->\n<g id=\"node13\" class=\"node\">\n<title>28</title>\n<path fill=\"#efb388\" stroke=\"black\" d=\"M757,-393C757,-393 626,-393 626,-393 620,-393 614,-387 614,-381 614,-381 614,-322 614,-322 614,-316 620,-310 626,-310 626,-310 757,-310 757,-310 763,-310 769,-316 769,-322 769,-322 769,-381 769,-381 769,-387 763,-393 757,-393\"/>\n<text text-anchor=\"middle\" x=\"691.5\" y=\"-377.8\" font-family=\"Helvetica,sans-Serif\" font-size=\"14.00\">family_income &lt;= 4.88</text>\n<text text-anchor=\"middle\" x=\"691.5\" y=\"-362.8\" font-family=\"Helvetica,sans-Serif\" font-size=\"14.00\">entropy = 0.862</text>\n<text text-anchor=\"middle\" x=\"691.5\" y=\"-347.8\" font-family=\"Helvetica,sans-Serif\" font-size=\"14.00\">samples = 1289</text>\n<text text-anchor=\"middle\" x=\"691.5\" y=\"-332.8\" font-family=\"Helvetica,sans-Serif\" font-size=\"14.00\">value = [922, 367]</text>\n<text text-anchor=\"middle\" x=\"691.5\" y=\"-317.8\" font-family=\"Helvetica,sans-Serif\" font-size=\"14.00\">class = heart_no</text>\n</g>\n<!-- 2&#45;&gt;28 -->\n<g id=\"edge12\" class=\"edge\">\n<title>2&#45;&gt;28</title>\n<path fill=\"none\" stroke=\"black\" d=\"M691.5,-428.91C691.5,-420.65 691.5,-411.86 691.5,-403.3\"/>\n<polygon fill=\"black\" stroke=\"black\" points=\"695,-403.02 691.5,-393.02 688,-403.02 695,-403.02\"/>\n</g>\n<!-- 4 -->\n<g id=\"node5\" class=\"node\">\n<title>4</title>\n<path fill=\"#e58139\" stroke=\"black\" d=\"M143.5,-266.5C143.5,-266.5 51.5,-266.5 51.5,-266.5 45.5,-266.5 39.5,-260.5 39.5,-254.5 39.5,-254.5 39.5,-210.5 39.5,-210.5 39.5,-204.5 45.5,-198.5 51.5,-198.5 51.5,-198.5 143.5,-198.5 143.5,-198.5 149.5,-198.5 155.5,-204.5 155.5,-210.5 155.5,-210.5 155.5,-254.5 155.5,-254.5 155.5,-260.5 149.5,-266.5 143.5,-266.5\"/>\n<text text-anchor=\"middle\" x=\"97.5\" y=\"-251.3\" font-family=\"Helvetica,sans-Serif\" font-size=\"14.00\">entropy = 0.0</text>\n<text text-anchor=\"middle\" x=\"97.5\" y=\"-236.3\" font-family=\"Helvetica,sans-Serif\" font-size=\"14.00\">samples = 235</text>\n<text text-anchor=\"middle\" x=\"97.5\" y=\"-221.3\" font-family=\"Helvetica,sans-Serif\" font-size=\"14.00\">value = [235, 0]</text>\n<text text-anchor=\"middle\" x=\"97.5\" y=\"-206.3\" font-family=\"Helvetica,sans-Serif\" font-size=\"14.00\">class = heart_no</text>\n</g>\n<!-- 3&#45;&gt;4 -->\n<g id=\"edge4\" class=\"edge\">\n<title>3&#45;&gt;4</title>\n<path fill=\"none\" stroke=\"black\" d=\"M205.91,-309.91C188.69,-297.77 169.85,-284.49 152.78,-272.46\"/>\n<polygon fill=\"black\" stroke=\"black\" points=\"154.75,-269.57 144.56,-266.67 150.71,-275.29 154.75,-269.57\"/>\n</g>\n<!-- 5 -->\n<g id=\"node6\" class=\"node\">\n<title>5</title>\n<path fill=\"#e78a47\" stroke=\"black\" d=\"M341.5,-274C341.5,-274 185.5,-274 185.5,-274 179.5,-274 173.5,-268 173.5,-262 173.5,-262 173.5,-203 173.5,-203 173.5,-197 179.5,-191 185.5,-191 185.5,-191 341.5,-191 341.5,-191 347.5,-191 353.5,-197 353.5,-203 353.5,-203 353.5,-262 353.5,-262 353.5,-268 347.5,-274 341.5,-274\"/>\n<text text-anchor=\"middle\" x=\"263.5\" y=\"-258.8\" font-family=\"Helvetica,sans-Serif\" font-size=\"14.00\">blood_cholesterol &lt;= 5.315</text>\n<text text-anchor=\"middle\" x=\"263.5\" y=\"-243.8\" font-family=\"Helvetica,sans-Serif\" font-size=\"14.00\">entropy = 0.359</text>\n<text text-anchor=\"middle\" x=\"263.5\" y=\"-228.8\" font-family=\"Helvetica,sans-Serif\" font-size=\"14.00\">samples = 294</text>\n<text text-anchor=\"middle\" x=\"263.5\" y=\"-213.8\" font-family=\"Helvetica,sans-Serif\" font-size=\"14.00\">value = [274.0, 20.0]</text>\n<text text-anchor=\"middle\" x=\"263.5\" y=\"-198.8\" font-family=\"Helvetica,sans-Serif\" font-size=\"14.00\">class = heart_no</text>\n</g>\n<!-- 3&#45;&gt;5 -->\n<g id=\"edge5\" class=\"edge\">\n<title>3&#45;&gt;5</title>\n<path fill=\"none\" stroke=\"black\" d=\"M263.5,-309.91C263.5,-301.65 263.5,-292.86 263.5,-284.3\"/>\n<polygon fill=\"black\" stroke=\"black\" points=\"267,-284.02 263.5,-274.02 260,-284.02 267,-284.02\"/>\n</g>\n<!-- 6 -->\n<g id=\"node7\" class=\"node\">\n<title>6</title>\n<path fill=\"#e68540\" stroke=\"black\" d=\"M143,-155C143,-155 12,-155 12,-155 6,-155 0,-149 0,-143 0,-143 0,-84 0,-84 0,-78 6,-72 12,-72 12,-72 143,-72 143,-72 149,-72 155,-78 155,-84 155,-84 155,-143 155,-143 155,-149 149,-155 143,-155\"/>\n<text text-anchor=\"middle\" x=\"77.5\" y=\"-139.8\" font-family=\"Helvetica,sans-Serif\" font-size=\"14.00\">family_income &lt;= 0.46</text>\n<text text-anchor=\"middle\" x=\"77.5\" y=\"-124.8\" font-family=\"Helvetica,sans-Serif\" font-size=\"14.00\">entropy = 0.215</text>\n<text text-anchor=\"middle\" x=\"77.5\" y=\"-109.8\" font-family=\"Helvetica,sans-Serif\" font-size=\"14.00\">samples = 234</text>\n<text text-anchor=\"middle\" x=\"77.5\" y=\"-94.8\" font-family=\"Helvetica,sans-Serif\" font-size=\"14.00\">value = [226, 8]</text>\n<text text-anchor=\"middle\" x=\"77.5\" y=\"-79.8\" font-family=\"Helvetica,sans-Serif\" font-size=\"14.00\">class = heart_no</text>\n</g>\n<!-- 5&#45;&gt;6 -->\n<g id=\"edge6\" class=\"edge\">\n<title>5&#45;&gt;6</title>\n<path fill=\"none\" stroke=\"black\" d=\"M198.97,-190.91C183.39,-181.11 166.63,-170.56 150.68,-160.53\"/>\n<polygon fill=\"black\" stroke=\"black\" points=\"152.25,-157.38 141.92,-155.02 148.52,-163.31 152.25,-157.38\"/>\n</g>\n<!-- 17 -->\n<g id=\"node10\" class=\"node\">\n<title>17</title>\n<path fill=\"#eca06a\" stroke=\"black\" d=\"M341.5,-155C341.5,-155 185.5,-155 185.5,-155 179.5,-155 173.5,-149 173.5,-143 173.5,-143 173.5,-84 173.5,-84 173.5,-78 179.5,-72 185.5,-72 185.5,-72 341.5,-72 341.5,-72 347.5,-72 353.5,-78 353.5,-84 353.5,-84 353.5,-143 353.5,-143 353.5,-149 347.5,-155 341.5,-155\"/>\n<text text-anchor=\"middle\" x=\"263.5\" y=\"-139.8\" font-family=\"Helvetica,sans-Serif\" font-size=\"14.00\">blood_cholesterol &lt;= 5.625</text>\n<text text-anchor=\"middle\" x=\"263.5\" y=\"-124.8\" font-family=\"Helvetica,sans-Serif\" font-size=\"14.00\">entropy = 0.722</text>\n<text text-anchor=\"middle\" x=\"263.5\" y=\"-109.8\" font-family=\"Helvetica,sans-Serif\" font-size=\"14.00\">samples = 60</text>\n<text text-anchor=\"middle\" x=\"263.5\" y=\"-94.8\" font-family=\"Helvetica,sans-Serif\" font-size=\"14.00\">value = [48, 12]</text>\n<text text-anchor=\"middle\" x=\"263.5\" y=\"-79.8\" font-family=\"Helvetica,sans-Serif\" font-size=\"14.00\">class = heart_no</text>\n</g>\n<!-- 5&#45;&gt;17 -->\n<g id=\"edge9\" class=\"edge\">\n<title>5&#45;&gt;17</title>\n<path fill=\"none\" stroke=\"black\" d=\"M263.5,-190.91C263.5,-182.65 263.5,-173.86 263.5,-165.3\"/>\n<polygon fill=\"black\" stroke=\"black\" points=\"267,-165.02 263.5,-155.02 260,-165.02 267,-165.02\"/>\n</g>\n<!-- 7 -->\n<g id=\"node8\" class=\"node\">\n<title>7</title>\n<path fill=\"#c0c0c0\" stroke=\"black\" d=\"M56.5,-36C56.5,-36 26.5,-36 26.5,-36 20.5,-36 14.5,-30 14.5,-24 14.5,-24 14.5,-12 14.5,-12 14.5,-6 20.5,0 26.5,0 26.5,0 56.5,0 56.5,0 62.5,0 68.5,-6 68.5,-12 68.5,-12 68.5,-24 68.5,-24 68.5,-30 62.5,-36 56.5,-36\"/>\n<text text-anchor=\"middle\" x=\"41.5\" y=\"-14.3\" font-family=\"Helvetica,sans-Serif\" font-size=\"14.00\">(...)</text>\n</g>\n<!-- 6&#45;&gt;7 -->\n<g id=\"edge7\" class=\"edge\">\n<title>6&#45;&gt;7</title>\n<path fill=\"none\" stroke=\"black\" d=\"M61.81,-71.76C58.46,-63.04 54.99,-54.04 51.89,-45.99\"/>\n<polygon fill=\"black\" stroke=\"black\" points=\"55.06,-44.48 48.2,-36.41 48.53,-46.99 55.06,-44.48\"/>\n</g>\n<!-- 10 -->\n<g id=\"node9\" class=\"node\">\n<title>10</title>\n<path fill=\"#c0c0c0\" stroke=\"black\" d=\"M128.5,-36C128.5,-36 98.5,-36 98.5,-36 92.5,-36 86.5,-30 86.5,-24 86.5,-24 86.5,-12 86.5,-12 86.5,-6 92.5,0 98.5,0 98.5,0 128.5,0 128.5,0 134.5,0 140.5,-6 140.5,-12 140.5,-12 140.5,-24 140.5,-24 140.5,-30 134.5,-36 128.5,-36\"/>\n<text text-anchor=\"middle\" x=\"113.5\" y=\"-14.3\" font-family=\"Helvetica,sans-Serif\" font-size=\"14.00\">(...)</text>\n</g>\n<!-- 6&#45;&gt;10 -->\n<g id=\"edge8\" class=\"edge\">\n<title>6&#45;&gt;10</title>\n<path fill=\"none\" stroke=\"black\" d=\"M93.19,-71.76C96.54,-63.04 100.01,-54.04 103.11,-45.99\"/>\n<polygon fill=\"black\" stroke=\"black\" points=\"106.47,-46.99 106.8,-36.41 99.94,-44.48 106.47,-46.99\"/>\n</g>\n<!-- 18 -->\n<g id=\"node11\" class=\"node\">\n<title>18</title>\n<path fill=\"#c0c0c0\" stroke=\"black\" d=\"M242.5,-36C242.5,-36 212.5,-36 212.5,-36 206.5,-36 200.5,-30 200.5,-24 200.5,-24 200.5,-12 200.5,-12 200.5,-6 206.5,0 212.5,0 212.5,0 242.5,0 242.5,0 248.5,0 254.5,-6 254.5,-12 254.5,-12 254.5,-24 254.5,-24 254.5,-30 248.5,-36 242.5,-36\"/>\n<text text-anchor=\"middle\" x=\"227.5\" y=\"-14.3\" font-family=\"Helvetica,sans-Serif\" font-size=\"14.00\">(...)</text>\n</g>\n<!-- 17&#45;&gt;18 -->\n<g id=\"edge10\" class=\"edge\">\n<title>17&#45;&gt;18</title>\n<path fill=\"none\" stroke=\"black\" d=\"M247.81,-71.76C244.46,-63.04 240.99,-54.04 237.89,-45.99\"/>\n<polygon fill=\"black\" stroke=\"black\" points=\"241.06,-44.48 234.2,-36.41 234.53,-46.99 241.06,-44.48\"/>\n</g>\n<!-- 27 -->\n<g id=\"node12\" class=\"node\">\n<title>27</title>\n<path fill=\"#c0c0c0\" stroke=\"black\" d=\"M314.5,-36C314.5,-36 284.5,-36 284.5,-36 278.5,-36 272.5,-30 272.5,-24 272.5,-24 272.5,-12 272.5,-12 272.5,-6 278.5,0 284.5,0 284.5,0 314.5,0 314.5,0 320.5,0 326.5,-6 326.5,-12 326.5,-12 326.5,-24 326.5,-24 326.5,-30 320.5,-36 314.5,-36\"/>\n<text text-anchor=\"middle\" x=\"299.5\" y=\"-14.3\" font-family=\"Helvetica,sans-Serif\" font-size=\"14.00\">(...)</text>\n</g>\n<!-- 17&#45;&gt;27 -->\n<g id=\"edge11\" class=\"edge\">\n<title>17&#45;&gt;27</title>\n<path fill=\"none\" stroke=\"black\" d=\"M279.19,-71.76C282.54,-63.04 286.01,-54.04 289.11,-45.99\"/>\n<polygon fill=\"black\" stroke=\"black\" points=\"292.47,-46.99 292.8,-36.41 285.94,-44.48 292.47,-46.99\"/>\n</g>\n<!-- 29 -->\n<g id=\"node14\" class=\"node\">\n<title>29</title>\n<path fill=\"#f3c4a3\" stroke=\"black\" d=\"M677,-274C677,-274 546,-274 546,-274 540,-274 534,-268 534,-262 534,-262 534,-203 534,-203 534,-197 540,-191 546,-191 546,-191 677,-191 677,-191 683,-191 689,-197 689,-203 689,-203 689,-262 689,-262 689,-268 683,-274 677,-274\"/>\n<text text-anchor=\"middle\" x=\"611.5\" y=\"-258.8\" font-family=\"Helvetica,sans-Serif\" font-size=\"14.00\">family_income &lt;= 2.92</text>\n<text text-anchor=\"middle\" x=\"611.5\" y=\"-243.8\" font-family=\"Helvetica,sans-Serif\" font-size=\"14.00\">entropy = 0.932</text>\n<text text-anchor=\"middle\" x=\"611.5\" y=\"-228.8\" font-family=\"Helvetica,sans-Serif\" font-size=\"14.00\">samples = 1026</text>\n<text text-anchor=\"middle\" x=\"611.5\" y=\"-213.8\" font-family=\"Helvetica,sans-Serif\" font-size=\"14.00\">value = [669, 357]</text>\n<text text-anchor=\"middle\" x=\"611.5\" y=\"-198.8\" font-family=\"Helvetica,sans-Serif\" font-size=\"14.00\">class = heart_no</text>\n</g>\n<!-- 28&#45;&gt;29 -->\n<g id=\"edge13\" class=\"edge\">\n<title>28&#45;&gt;29</title>\n<path fill=\"none\" stroke=\"black\" d=\"M663.74,-309.91C657.66,-301.01 651.16,-291.51 644.89,-282.33\"/>\n<polygon fill=\"black\" stroke=\"black\" points=\"647.74,-280.3 639.21,-274.02 641.96,-284.25 647.74,-280.3\"/>\n</g>\n<!-- 176 -->\n<g id=\"node21\" class=\"node\">\n<title>176</title>\n<path fill=\"#e68641\" stroke=\"black\" d=\"M823.5,-274C823.5,-274 719.5,-274 719.5,-274 713.5,-274 707.5,-268 707.5,-262 707.5,-262 707.5,-203 707.5,-203 707.5,-197 713.5,-191 719.5,-191 719.5,-191 823.5,-191 823.5,-191 829.5,-191 835.5,-197 835.5,-203 835.5,-203 835.5,-262 835.5,-262 835.5,-268 829.5,-274 823.5,-274\"/>\n<text text-anchor=\"middle\" x=\"771.5\" y=\"-258.8\" font-family=\"Helvetica,sans-Serif\" font-size=\"14.00\">re_hispanic &lt;= 0.5</text>\n<text text-anchor=\"middle\" x=\"771.5\" y=\"-243.8\" font-family=\"Helvetica,sans-Serif\" font-size=\"14.00\">entropy = 0.233</text>\n<text text-anchor=\"middle\" x=\"771.5\" y=\"-228.8\" font-family=\"Helvetica,sans-Serif\" font-size=\"14.00\">samples = 263</text>\n<text text-anchor=\"middle\" x=\"771.5\" y=\"-213.8\" font-family=\"Helvetica,sans-Serif\" font-size=\"14.00\">value = [253, 10]</text>\n<text text-anchor=\"middle\" x=\"771.5\" y=\"-198.8\" font-family=\"Helvetica,sans-Serif\" font-size=\"14.00\">class = heart_no</text>\n</g>\n<!-- 28&#45;&gt;176 -->\n<g id=\"edge20\" class=\"edge\">\n<title>28&#45;&gt;176</title>\n<path fill=\"none\" stroke=\"black\" d=\"M719.26,-309.91C725.34,-301.01 731.84,-291.51 738.11,-282.33\"/>\n<polygon fill=\"black\" stroke=\"black\" points=\"741.04,-284.25 743.79,-274.02 735.26,-280.3 741.04,-284.25\"/>\n</g>\n<!-- 30 -->\n<g id=\"node15\" class=\"node\">\n<title>30</title>\n<path fill=\"#f5cfb4\" stroke=\"black\" d=\"M507,-155C507,-155 384,-155 384,-155 378,-155 372,-149 372,-143 372,-143 372,-84 372,-84 372,-78 378,-72 384,-72 384,-72 507,-72 507,-72 513,-72 519,-78 519,-84 519,-84 519,-143 519,-143 519,-149 513,-155 507,-155\"/>\n<text text-anchor=\"middle\" x=\"445.5\" y=\"-139.8\" font-family=\"Helvetica,sans-Serif\" font-size=\"14.00\">diastolic_bp &lt;= 71.0</text>\n<text text-anchor=\"middle\" x=\"445.5\" y=\"-124.8\" font-family=\"Helvetica,sans-Serif\" font-size=\"14.00\">entropy = 0.96</text>\n<text text-anchor=\"middle\" x=\"445.5\" y=\"-109.8\" font-family=\"Helvetica,sans-Serif\" font-size=\"14.00\">samples = 812</text>\n<text text-anchor=\"middle\" x=\"445.5\" y=\"-94.8\" font-family=\"Helvetica,sans-Serif\" font-size=\"14.00\">value = [501.0, 311.0]</text>\n<text text-anchor=\"middle\" x=\"445.5\" y=\"-79.8\" font-family=\"Helvetica,sans-Serif\" font-size=\"14.00\">class = heart_no</text>\n</g>\n<!-- 29&#45;&gt;30 -->\n<g id=\"edge14\" class=\"edge\">\n<title>29&#45;&gt;30</title>\n<path fill=\"none\" stroke=\"black\" d=\"M553.91,-190.91C540.13,-181.2 525.32,-170.76 511.21,-160.81\"/>\n<polygon fill=\"black\" stroke=\"black\" points=\"513.18,-157.92 502.99,-155.02 509.15,-163.64 513.18,-157.92\"/>\n</g>\n<!-- 147 -->\n<g id=\"node18\" class=\"node\">\n<title>147</title>\n<path fill=\"#eca46f\" stroke=\"black\" d=\"M680,-155C680,-155 549,-155 549,-155 543,-155 537,-149 537,-143 537,-143 537,-84 537,-84 537,-78 543,-72 549,-72 549,-72 680,-72 680,-72 686,-72 692,-78 692,-84 692,-84 692,-143 692,-143 692,-149 686,-155 680,-155\"/>\n<text text-anchor=\"middle\" x=\"614.5\" y=\"-139.8\" font-family=\"Helvetica,sans-Serif\" font-size=\"14.00\">family_income &lt;= 4.27</text>\n<text text-anchor=\"middle\" x=\"614.5\" y=\"-124.8\" font-family=\"Helvetica,sans-Serif\" font-size=\"14.00\">entropy = 0.751</text>\n<text text-anchor=\"middle\" x=\"614.5\" y=\"-109.8\" font-family=\"Helvetica,sans-Serif\" font-size=\"14.00\">samples = 214</text>\n<text text-anchor=\"middle\" x=\"614.5\" y=\"-94.8\" font-family=\"Helvetica,sans-Serif\" font-size=\"14.00\">value = [168, 46]</text>\n<text text-anchor=\"middle\" x=\"614.5\" y=\"-79.8\" font-family=\"Helvetica,sans-Serif\" font-size=\"14.00\">class = heart_no</text>\n</g>\n<!-- 29&#45;&gt;147 -->\n<g id=\"edge17\" class=\"edge\">\n<title>29&#45;&gt;147</title>\n<path fill=\"none\" stroke=\"black\" d=\"M612.54,-190.91C612.75,-182.56 612.98,-173.67 613.2,-165.02\"/>\n<polygon fill=\"black\" stroke=\"black\" points=\"616.7,-165.11 613.46,-155.02 609.71,-164.93 616.7,-165.11\"/>\n</g>\n<!-- 31 -->\n<g id=\"node16\" class=\"node\">\n<title>31</title>\n<path fill=\"#c0c0c0\" stroke=\"black\" d=\"M441.5,-36C441.5,-36 411.5,-36 411.5,-36 405.5,-36 399.5,-30 399.5,-24 399.5,-24 399.5,-12 399.5,-12 399.5,-6 405.5,0 411.5,0 411.5,0 441.5,0 441.5,0 447.5,0 453.5,-6 453.5,-12 453.5,-12 453.5,-24 453.5,-24 453.5,-30 447.5,-36 441.5,-36\"/>\n<text text-anchor=\"middle\" x=\"426.5\" y=\"-14.3\" font-family=\"Helvetica,sans-Serif\" font-size=\"14.00\">(...)</text>\n</g>\n<!-- 30&#45;&gt;31 -->\n<g id=\"edge15\" class=\"edge\">\n<title>30&#45;&gt;31</title>\n<path fill=\"none\" stroke=\"black\" d=\"M437.22,-71.76C435.47,-63.14 433.66,-54.24 432.04,-46.26\"/>\n<polygon fill=\"black\" stroke=\"black\" points=\"435.46,-45.51 430.04,-36.41 428.6,-46.9 435.46,-45.51\"/>\n</g>\n<!-- 124 -->\n<g id=\"node17\" class=\"node\">\n<title>124</title>\n<path fill=\"#c0c0c0\" stroke=\"black\" d=\"M513.5,-36C513.5,-36 483.5,-36 483.5,-36 477.5,-36 471.5,-30 471.5,-24 471.5,-24 471.5,-12 471.5,-12 471.5,-6 477.5,0 483.5,0 483.5,0 513.5,0 513.5,0 519.5,0 525.5,-6 525.5,-12 525.5,-12 525.5,-24 525.5,-24 525.5,-30 519.5,-36 513.5,-36\"/>\n<text text-anchor=\"middle\" x=\"498.5\" y=\"-14.3\" font-family=\"Helvetica,sans-Serif\" font-size=\"14.00\">(...)</text>\n</g>\n<!-- 30&#45;&gt;124 -->\n<g id=\"edge16\" class=\"edge\">\n<title>30&#45;&gt;124</title>\n<path fill=\"none\" stroke=\"black\" d=\"M468.59,-71.76C473.7,-62.75 478.98,-53.44 483.65,-45.19\"/>\n<polygon fill=\"black\" stroke=\"black\" points=\"486.75,-46.83 488.63,-36.41 480.66,-43.38 486.75,-46.83\"/>\n</g>\n<!-- 148 -->\n<g id=\"node19\" class=\"node\">\n<title>148</title>\n<path fill=\"#c0c0c0\" stroke=\"black\" d=\"M607.5,-36C607.5,-36 577.5,-36 577.5,-36 571.5,-36 565.5,-30 565.5,-24 565.5,-24 565.5,-12 565.5,-12 565.5,-6 571.5,0 577.5,0 577.5,0 607.5,0 607.5,0 613.5,0 619.5,-6 619.5,-12 619.5,-12 619.5,-24 619.5,-24 619.5,-30 613.5,-36 607.5,-36\"/>\n<text text-anchor=\"middle\" x=\"592.5\" y=\"-14.3\" font-family=\"Helvetica,sans-Serif\" font-size=\"14.00\">(...)</text>\n</g>\n<!-- 147&#45;&gt;148 -->\n<g id=\"edge18\" class=\"edge\">\n<title>147&#45;&gt;148</title>\n<path fill=\"none\" stroke=\"black\" d=\"M604.91,-71.76C602.89,-63.14 600.79,-54.24 598.91,-46.26\"/>\n<polygon fill=\"black\" stroke=\"black\" points=\"602.29,-45.34 596.6,-36.41 595.48,-46.94 602.29,-45.34\"/>\n</g>\n<!-- 163 -->\n<g id=\"node20\" class=\"node\">\n<title>163</title>\n<path fill=\"#c0c0c0\" stroke=\"black\" d=\"M679.5,-36C679.5,-36 649.5,-36 649.5,-36 643.5,-36 637.5,-30 637.5,-24 637.5,-24 637.5,-12 637.5,-12 637.5,-6 643.5,0 649.5,0 649.5,0 679.5,0 679.5,0 685.5,0 691.5,-6 691.5,-12 691.5,-12 691.5,-24 691.5,-24 691.5,-30 685.5,-36 679.5,-36\"/>\n<text text-anchor=\"middle\" x=\"664.5\" y=\"-14.3\" font-family=\"Helvetica,sans-Serif\" font-size=\"14.00\">(...)</text>\n</g>\n<!-- 147&#45;&gt;163 -->\n<g id=\"edge19\" class=\"edge\">\n<title>147&#45;&gt;163</title>\n<path fill=\"none\" stroke=\"black\" d=\"M636.29,-71.76C641.05,-62.85 645.98,-53.64 650.35,-45.46\"/>\n<polygon fill=\"black\" stroke=\"black\" points=\"653.56,-46.87 655.19,-36.41 647.39,-43.57 653.56,-46.87\"/>\n</g>\n<!-- 177 -->\n<g id=\"node22\" class=\"node\">\n<title>177</title>\n<path fill=\"#e58139\" stroke=\"black\" d=\"M814.5,-147.5C814.5,-147.5 722.5,-147.5 722.5,-147.5 716.5,-147.5 710.5,-141.5 710.5,-135.5 710.5,-135.5 710.5,-91.5 710.5,-91.5 710.5,-85.5 716.5,-79.5 722.5,-79.5 722.5,-79.5 814.5,-79.5 814.5,-79.5 820.5,-79.5 826.5,-85.5 826.5,-91.5 826.5,-91.5 826.5,-135.5 826.5,-135.5 826.5,-141.5 820.5,-147.5 814.5,-147.5\"/>\n<text text-anchor=\"middle\" x=\"768.5\" y=\"-132.3\" font-family=\"Helvetica,sans-Serif\" font-size=\"14.00\">entropy = 0.0</text>\n<text text-anchor=\"middle\" x=\"768.5\" y=\"-117.3\" font-family=\"Helvetica,sans-Serif\" font-size=\"14.00\">samples = 218</text>\n<text text-anchor=\"middle\" x=\"768.5\" y=\"-102.3\" font-family=\"Helvetica,sans-Serif\" font-size=\"14.00\">value = [218, 0]</text>\n<text text-anchor=\"middle\" x=\"768.5\" y=\"-87.3\" font-family=\"Helvetica,sans-Serif\" font-size=\"14.00\">class = heart_no</text>\n</g>\n<!-- 176&#45;&gt;177 -->\n<g id=\"edge21\" class=\"edge\">\n<title>176&#45;&gt;177</title>\n<path fill=\"none\" stroke=\"black\" d=\"M770.46,-190.91C770.18,-180.2 769.89,-168.62 769.61,-157.78\"/>\n<polygon fill=\"black\" stroke=\"black\" points=\"773.11,-157.57 769.35,-147.67 766.11,-157.75 773.11,-157.57\"/>\n</g>\n<!-- 178 -->\n<g id=\"node23\" class=\"node\">\n<title>178</title>\n<path fill=\"#eca572\" stroke=\"black\" d=\"M948.5,-155C948.5,-155 856.5,-155 856.5,-155 850.5,-155 844.5,-149 844.5,-143 844.5,-143 844.5,-84 844.5,-84 844.5,-78 850.5,-72 856.5,-72 856.5,-72 948.5,-72 948.5,-72 954.5,-72 960.5,-78 960.5,-84 960.5,-84 960.5,-143 960.5,-143 960.5,-149 954.5,-155 948.5,-155\"/>\n<text text-anchor=\"middle\" x=\"902.5\" y=\"-139.8\" font-family=\"Helvetica,sans-Serif\" font-size=\"14.00\">age &lt;= 48.5</text>\n<text text-anchor=\"middle\" x=\"902.5\" y=\"-124.8\" font-family=\"Helvetica,sans-Serif\" font-size=\"14.00\">entropy = 0.764</text>\n<text text-anchor=\"middle\" x=\"902.5\" y=\"-109.8\" font-family=\"Helvetica,sans-Serif\" font-size=\"14.00\">samples = 45</text>\n<text text-anchor=\"middle\" x=\"902.5\" y=\"-94.8\" font-family=\"Helvetica,sans-Serif\" font-size=\"14.00\">value = [35, 10]</text>\n<text text-anchor=\"middle\" x=\"902.5\" y=\"-79.8\" font-family=\"Helvetica,sans-Serif\" font-size=\"14.00\">class = heart_no</text>\n</g>\n<!-- 176&#45;&gt;178 -->\n<g id=\"edge22\" class=\"edge\">\n<title>176&#45;&gt;178</title>\n<path fill=\"none\" stroke=\"black\" d=\"M816.95,-190.91C827.42,-181.56 838.64,-171.54 849.4,-161.93\"/>\n<polygon fill=\"black\" stroke=\"black\" points=\"852,-164.29 857.13,-155.02 847.34,-159.07 852,-164.29\"/>\n</g>\n<!-- 179 -->\n<g id=\"node24\" class=\"node\">\n<title>179</title>\n<path fill=\"#c0c0c0\" stroke=\"black\" d=\"M857.5,-36C857.5,-36 827.5,-36 827.5,-36 821.5,-36 815.5,-30 815.5,-24 815.5,-24 815.5,-12 815.5,-12 815.5,-6 821.5,0 827.5,0 827.5,0 857.5,0 857.5,0 863.5,0 869.5,-6 869.5,-12 869.5,-12 869.5,-24 869.5,-24 869.5,-30 863.5,-36 857.5,-36\"/>\n<text text-anchor=\"middle\" x=\"842.5\" y=\"-14.3\" font-family=\"Helvetica,sans-Serif\" font-size=\"14.00\">(...)</text>\n</g>\n<!-- 178&#45;&gt;179 -->\n<g id=\"edge23\" class=\"edge\">\n<title>178&#45;&gt;179</title>\n<path fill=\"none\" stroke=\"black\" d=\"M876.36,-71.76C870.51,-62.65 864.47,-53.24 859.14,-44.92\"/>\n<polygon fill=\"black\" stroke=\"black\" points=\"862.02,-42.93 853.67,-36.41 856.12,-46.71 862.02,-42.93\"/>\n</g>\n<!-- 180 -->\n<g id=\"node25\" class=\"node\">\n<title>180</title>\n<path fill=\"#c0c0c0\" stroke=\"black\" d=\"M929.5,-36C929.5,-36 899.5,-36 899.5,-36 893.5,-36 887.5,-30 887.5,-24 887.5,-24 887.5,-12 887.5,-12 887.5,-6 893.5,0 899.5,0 899.5,0 929.5,0 929.5,0 935.5,0 941.5,-6 941.5,-12 941.5,-12 941.5,-24 941.5,-24 941.5,-30 935.5,-36 929.5,-36\"/>\n<text text-anchor=\"middle\" x=\"914.5\" y=\"-14.3\" font-family=\"Helvetica,sans-Serif\" font-size=\"14.00\">(...)</text>\n</g>\n<!-- 178&#45;&gt;180 -->\n<g id=\"edge24\" class=\"edge\">\n<title>178&#45;&gt;180</title>\n<path fill=\"none\" stroke=\"black\" d=\"M907.73,-71.76C908.82,-63.24 909.95,-54.44 910.97,-46.53\"/>\n<polygon fill=\"black\" stroke=\"black\" points=\"914.46,-46.77 912.27,-36.41 907.52,-45.88 914.46,-46.77\"/>\n</g>\n<!-- 186 -->\n<g id=\"node27\" class=\"node\">\n<title>186</title>\n<path fill=\"#fae6d7\" stroke=\"black\" d=\"M1496,-393C1496,-393 1365,-393 1365,-393 1359,-393 1353,-387 1353,-381 1353,-381 1353,-322 1353,-322 1353,-316 1359,-310 1365,-310 1365,-310 1496,-310 1496,-310 1502,-310 1508,-316 1508,-322 1508,-322 1508,-381 1508,-381 1508,-387 1502,-393 1496,-393\"/>\n<text text-anchor=\"middle\" x=\"1430.5\" y=\"-377.8\" font-family=\"Helvetica,sans-Serif\" font-size=\"14.00\">family_income &lt;= 4.17</text>\n<text text-anchor=\"middle\" x=\"1430.5\" y=\"-362.8\" font-family=\"Helvetica,sans-Serif\" font-size=\"14.00\">entropy = 0.991</text>\n<text text-anchor=\"middle\" x=\"1430.5\" y=\"-347.8\" font-family=\"Helvetica,sans-Serif\" font-size=\"14.00\">samples = 448</text>\n<text text-anchor=\"middle\" x=\"1430.5\" y=\"-332.8\" font-family=\"Helvetica,sans-Serif\" font-size=\"14.00\">value = [249, 199]</text>\n<text text-anchor=\"middle\" x=\"1430.5\" y=\"-317.8\" font-family=\"Helvetica,sans-Serif\" font-size=\"14.00\">class = heart_no</text>\n</g>\n<!-- 185&#45;&gt;186 -->\n<g id=\"edge26\" class=\"edge\">\n<title>185&#45;&gt;186</title>\n<path fill=\"none\" stroke=\"black\" d=\"M1616.99,-440.13C1586.83,-425.96 1550.17,-408.73 1517.35,-393.31\"/>\n<polygon fill=\"black\" stroke=\"black\" points=\"1518.74,-390.1 1508.2,-389.01 1515.77,-396.43 1518.74,-390.1\"/>\n</g>\n<!-- 265 -->\n<g id=\"node40\" class=\"node\">\n<title>265</title>\n<path fill=\"#89c5ef\" stroke=\"black\" d=\"M1832,-393C1832,-393 1709,-393 1709,-393 1703,-393 1697,-387 1697,-381 1697,-381 1697,-322 1697,-322 1697,-316 1703,-310 1709,-310 1709,-310 1832,-310 1832,-310 1838,-310 1844,-316 1844,-322 1844,-322 1844,-381 1844,-381 1844,-387 1838,-393 1832,-393\"/>\n<text text-anchor=\"middle\" x=\"1770.5\" y=\"-377.8\" font-family=\"Helvetica,sans-Serif\" font-size=\"14.00\">age &lt;= 58.5</text>\n<text text-anchor=\"middle\" x=\"1770.5\" y=\"-362.8\" font-family=\"Helvetica,sans-Serif\" font-size=\"14.00\">entropy = 0.866</text>\n<text text-anchor=\"middle\" x=\"1770.5\" y=\"-347.8\" font-family=\"Helvetica,sans-Serif\" font-size=\"14.00\">samples = 386</text>\n<text text-anchor=\"middle\" x=\"1770.5\" y=\"-332.8\" font-family=\"Helvetica,sans-Serif\" font-size=\"14.00\">value = [111.0, 275.0]</text>\n<text text-anchor=\"middle\" x=\"1770.5\" y=\"-317.8\" font-family=\"Helvetica,sans-Serif\" font-size=\"14.00\">class = heart_yes</text>\n</g>\n<!-- 185&#45;&gt;265 -->\n<g id=\"edge39\" class=\"edge\">\n<title>185&#45;&gt;265</title>\n<path fill=\"none\" stroke=\"black\" d=\"M1711.07,-428.91C1718.06,-419.92 1725.53,-410.32 1732.74,-401.05\"/>\n<polygon fill=\"black\" stroke=\"black\" points=\"1735.61,-403.06 1738.98,-393.02 1730.08,-398.77 1735.61,-403.06\"/>\n</g>\n<!-- 187 -->\n<g id=\"node28\" class=\"node\">\n<title>187</title>\n<path fill=\"#f9fcfe\" stroke=\"black\" d=\"M1250,-274C1250,-274 1149,-274 1149,-274 1143,-274 1137,-268 1137,-262 1137,-262 1137,-203 1137,-203 1137,-197 1143,-191 1149,-191 1149,-191 1250,-191 1250,-191 1256,-191 1262,-197 1262,-203 1262,-203 1262,-262 1262,-262 1262,-268 1256,-274 1250,-274\"/>\n<text text-anchor=\"middle\" x=\"1199.5\" y=\"-258.8\" font-family=\"Helvetica,sans-Serif\" font-size=\"14.00\">age &lt;= 42.5</text>\n<text text-anchor=\"middle\" x=\"1199.5\" y=\"-243.8\" font-family=\"Helvetica,sans-Serif\" font-size=\"14.00\">entropy = 1.0</text>\n<text text-anchor=\"middle\" x=\"1199.5\" y=\"-228.8\" font-family=\"Helvetica,sans-Serif\" font-size=\"14.00\">samples = 380</text>\n<text text-anchor=\"middle\" x=\"1199.5\" y=\"-213.8\" font-family=\"Helvetica,sans-Serif\" font-size=\"14.00\">value = [187, 193]</text>\n<text text-anchor=\"middle\" x=\"1199.5\" y=\"-198.8\" font-family=\"Helvetica,sans-Serif\" font-size=\"14.00\">class = heart_yes</text>\n</g>\n<!-- 186&#45;&gt;187 -->\n<g id=\"edge27\" class=\"edge\">\n<title>186&#45;&gt;187</title>\n<path fill=\"none\" stroke=\"black\" d=\"M1352.94,-311.22C1326.56,-297.85 1297.21,-282.99 1271.3,-269.86\"/>\n<polygon fill=\"black\" stroke=\"black\" points=\"1272.79,-266.7 1262.29,-265.3 1269.63,-272.94 1272.79,-266.7\"/>\n</g>\n<!-- 258 -->\n<g id=\"node35\" class=\"node\">\n<title>258</title>\n<path fill=\"#e88d4c\" stroke=\"black\" d=\"M1476.5,-274C1476.5,-274 1384.5,-274 1384.5,-274 1378.5,-274 1372.5,-268 1372.5,-262 1372.5,-262 1372.5,-203 1372.5,-203 1372.5,-197 1378.5,-191 1384.5,-191 1384.5,-191 1476.5,-191 1476.5,-191 1482.5,-191 1488.5,-197 1488.5,-203 1488.5,-203 1488.5,-262 1488.5,-262 1488.5,-268 1482.5,-274 1476.5,-274\"/>\n<text text-anchor=\"middle\" x=\"1430.5\" y=\"-258.8\" font-family=\"Helvetica,sans-Serif\" font-size=\"14.00\">BMI &lt;= 41.25</text>\n<text text-anchor=\"middle\" x=\"1430.5\" y=\"-243.8\" font-family=\"Helvetica,sans-Serif\" font-size=\"14.00\">entropy = 0.431</text>\n<text text-anchor=\"middle\" x=\"1430.5\" y=\"-228.8\" font-family=\"Helvetica,sans-Serif\" font-size=\"14.00\">samples = 68</text>\n<text text-anchor=\"middle\" x=\"1430.5\" y=\"-213.8\" font-family=\"Helvetica,sans-Serif\" font-size=\"14.00\">value = [62, 6]</text>\n<text text-anchor=\"middle\" x=\"1430.5\" y=\"-198.8\" font-family=\"Helvetica,sans-Serif\" font-size=\"14.00\">class = heart_no</text>\n</g>\n<!-- 186&#45;&gt;258 -->\n<g id=\"edge34\" class=\"edge\">\n<title>186&#45;&gt;258</title>\n<path fill=\"none\" stroke=\"black\" d=\"M1430.5,-309.91C1430.5,-301.65 1430.5,-292.86 1430.5,-284.3\"/>\n<polygon fill=\"black\" stroke=\"black\" points=\"1434,-284.02 1430.5,-274.02 1427,-284.02 1434,-284.02\"/>\n</g>\n<!-- 188 -->\n<g id=\"node29\" class=\"node\">\n<title>188</title>\n<path fill=\"#e78c49\" stroke=\"black\" d=\"M1082.5,-155C1082.5,-155 990.5,-155 990.5,-155 984.5,-155 978.5,-149 978.5,-143 978.5,-143 978.5,-84 978.5,-84 978.5,-78 984.5,-72 990.5,-72 990.5,-72 1082.5,-72 1082.5,-72 1088.5,-72 1094.5,-78 1094.5,-84 1094.5,-84 1094.5,-143 1094.5,-143 1094.5,-149 1088.5,-155 1082.5,-155\"/>\n<text text-anchor=\"middle\" x=\"1036.5\" y=\"-139.8\" font-family=\"Helvetica,sans-Serif\" font-size=\"14.00\">BMI &lt;= 17.05</text>\n<text text-anchor=\"middle\" x=\"1036.5\" y=\"-124.8\" font-family=\"Helvetica,sans-Serif\" font-size=\"14.00\">entropy = 0.391</text>\n<text text-anchor=\"middle\" x=\"1036.5\" y=\"-109.8\" font-family=\"Helvetica,sans-Serif\" font-size=\"14.00\">samples = 39</text>\n<text text-anchor=\"middle\" x=\"1036.5\" y=\"-94.8\" font-family=\"Helvetica,sans-Serif\" font-size=\"14.00\">value = [36, 3]</text>\n<text text-anchor=\"middle\" x=\"1036.5\" y=\"-79.8\" font-family=\"Helvetica,sans-Serif\" font-size=\"14.00\">class = heart_no</text>\n</g>\n<!-- 187&#45;&gt;188 -->\n<g id=\"edge28\" class=\"edge\">\n<title>187&#45;&gt;188</title>\n<path fill=\"none\" stroke=\"black\" d=\"M1142.95,-190.91C1129.55,-181.29 1115.15,-170.95 1101.41,-161.09\"/>\n<polygon fill=\"black\" stroke=\"black\" points=\"1103.12,-158.01 1092.95,-155.02 1099.03,-163.7 1103.12,-158.01\"/>\n</g>\n<!-- 193 -->\n<g id=\"node32\" class=\"node\">\n<title>193</title>\n<path fill=\"#d6ebfa\" stroke=\"black\" d=\"M1274,-155C1274,-155 1125,-155 1125,-155 1119,-155 1113,-149 1113,-143 1113,-143 1113,-84 1113,-84 1113,-78 1119,-72 1125,-72 1125,-72 1274,-72 1274,-72 1280,-72 1286,-78 1286,-84 1286,-84 1286,-143 1286,-143 1286,-149 1280,-155 1274,-155\"/>\n<text text-anchor=\"middle\" x=\"1199.5\" y=\"-139.8\" font-family=\"Helvetica,sans-Serif\" font-size=\"14.00\">blood_cholesterol &lt;= 3.79</text>\n<text text-anchor=\"middle\" x=\"1199.5\" y=\"-124.8\" font-family=\"Helvetica,sans-Serif\" font-size=\"14.00\">entropy = 0.991</text>\n<text text-anchor=\"middle\" x=\"1199.5\" y=\"-109.8\" font-family=\"Helvetica,sans-Serif\" font-size=\"14.00\">samples = 341</text>\n<text text-anchor=\"middle\" x=\"1199.5\" y=\"-94.8\" font-family=\"Helvetica,sans-Serif\" font-size=\"14.00\">value = [151.0, 190.0]</text>\n<text text-anchor=\"middle\" x=\"1199.5\" y=\"-79.8\" font-family=\"Helvetica,sans-Serif\" font-size=\"14.00\">class = heart_yes</text>\n</g>\n<!-- 187&#45;&gt;193 -->\n<g id=\"edge31\" class=\"edge\">\n<title>187&#45;&gt;193</title>\n<path fill=\"none\" stroke=\"black\" d=\"M1199.5,-190.91C1199.5,-182.65 1199.5,-173.86 1199.5,-165.3\"/>\n<polygon fill=\"black\" stroke=\"black\" points=\"1203,-165.02 1199.5,-155.02 1196,-165.02 1203,-165.02\"/>\n</g>\n<!-- 189 -->\n<g id=\"node30\" class=\"node\">\n<title>189</title>\n<path fill=\"#c0c0c0\" stroke=\"black\" d=\"M1005.5,-36C1005.5,-36 975.5,-36 975.5,-36 969.5,-36 963.5,-30 963.5,-24 963.5,-24 963.5,-12 963.5,-12 963.5,-6 969.5,0 975.5,0 975.5,0 1005.5,0 1005.5,0 1011.5,0 1017.5,-6 1017.5,-12 1017.5,-12 1017.5,-24 1017.5,-24 1017.5,-30 1011.5,-36 1005.5,-36\"/>\n<text text-anchor=\"middle\" x=\"990.5\" y=\"-14.3\" font-family=\"Helvetica,sans-Serif\" font-size=\"14.00\">(...)</text>\n</g>\n<!-- 188&#45;&gt;189 -->\n<g id=\"edge29\" class=\"edge\">\n<title>188&#45;&gt;189</title>\n<path fill=\"none\" stroke=\"black\" d=\"M1016.46,-71.76C1012.07,-62.85 1007.54,-53.64 1003.52,-45.46\"/>\n<polygon fill=\"black\" stroke=\"black\" points=\"1006.62,-43.83 999.06,-36.41 1000.34,-46.92 1006.62,-43.83\"/>\n</g>\n<!-- 192 -->\n<g id=\"node31\" class=\"node\">\n<title>192</title>\n<path fill=\"#c0c0c0\" stroke=\"black\" d=\"M1077.5,-36C1077.5,-36 1047.5,-36 1047.5,-36 1041.5,-36 1035.5,-30 1035.5,-24 1035.5,-24 1035.5,-12 1035.5,-12 1035.5,-6 1041.5,0 1047.5,0 1047.5,0 1077.5,0 1077.5,0 1083.5,0 1089.5,-6 1089.5,-12 1089.5,-12 1089.5,-24 1089.5,-24 1089.5,-30 1083.5,-36 1077.5,-36\"/>\n<text text-anchor=\"middle\" x=\"1062.5\" y=\"-14.3\" font-family=\"Helvetica,sans-Serif\" font-size=\"14.00\">(...)</text>\n</g>\n<!-- 188&#45;&gt;192 -->\n<g id=\"edge30\" class=\"edge\">\n<title>188&#45;&gt;192</title>\n<path fill=\"none\" stroke=\"black\" d=\"M1047.83,-71.76C1050.23,-63.14 1052.7,-54.24 1054.92,-46.26\"/>\n<polygon fill=\"black\" stroke=\"black\" points=\"1058.35,-46.98 1057.66,-36.41 1051.61,-45.1 1058.35,-46.98\"/>\n</g>\n<!-- 194 -->\n<g id=\"node33\" class=\"node\">\n<title>194</title>\n<path fill=\"#c0c0c0\" stroke=\"black\" d=\"M1151.5,-36C1151.5,-36 1121.5,-36 1121.5,-36 1115.5,-36 1109.5,-30 1109.5,-24 1109.5,-24 1109.5,-12 1109.5,-12 1109.5,-6 1115.5,0 1121.5,0 1121.5,0 1151.5,0 1151.5,0 1157.5,0 1163.5,-6 1163.5,-12 1163.5,-12 1163.5,-24 1163.5,-24 1163.5,-30 1157.5,-36 1151.5,-36\"/>\n<text text-anchor=\"middle\" x=\"1136.5\" y=\"-14.3\" font-family=\"Helvetica,sans-Serif\" font-size=\"14.00\">(...)</text>\n</g>\n<!-- 193&#45;&gt;194 -->\n<g id=\"edge32\" class=\"edge\">\n<title>193&#45;&gt;194</title>\n<path fill=\"none\" stroke=\"black\" d=\"M1172.05,-71.76C1165.91,-62.65 1159.57,-53.24 1153.97,-44.92\"/>\n<polygon fill=\"black\" stroke=\"black\" points=\"1156.72,-42.74 1148.23,-36.41 1150.91,-46.65 1156.72,-42.74\"/>\n</g>\n<!-- 209 -->\n<g id=\"node34\" class=\"node\">\n<title>209</title>\n<path fill=\"#c0c0c0\" stroke=\"black\" d=\"M1223.5,-36C1223.5,-36 1193.5,-36 1193.5,-36 1187.5,-36 1181.5,-30 1181.5,-24 1181.5,-24 1181.5,-12 1181.5,-12 1181.5,-6 1187.5,0 1193.5,0 1193.5,0 1223.5,0 1223.5,0 1229.5,0 1235.5,-6 1235.5,-12 1235.5,-12 1235.5,-24 1235.5,-24 1235.5,-30 1229.5,-36 1223.5,-36\"/>\n<text text-anchor=\"middle\" x=\"1208.5\" y=\"-14.3\" font-family=\"Helvetica,sans-Serif\" font-size=\"14.00\">(...)</text>\n</g>\n<!-- 193&#45;&gt;209 -->\n<g id=\"edge33\" class=\"edge\">\n<title>193&#45;&gt;209</title>\n<path fill=\"none\" stroke=\"black\" d=\"M1203.42,-71.76C1204.24,-63.24 1205.09,-54.44 1205.85,-46.53\"/>\n<polygon fill=\"black\" stroke=\"black\" points=\"1209.35,-46.69 1206.82,-36.41 1202.38,-46.02 1209.35,-46.69\"/>\n</g>\n<!-- 259 -->\n<g id=\"node36\" class=\"node\">\n<title>259</title>\n<path fill=\"#e6853f\" stroke=\"black\" d=\"M1408.5,-155C1408.5,-155 1316.5,-155 1316.5,-155 1310.5,-155 1304.5,-149 1304.5,-143 1304.5,-143 1304.5,-84 1304.5,-84 1304.5,-78 1310.5,-72 1316.5,-72 1316.5,-72 1408.5,-72 1408.5,-72 1414.5,-72 1420.5,-78 1420.5,-84 1420.5,-84 1420.5,-143 1420.5,-143 1420.5,-149 1414.5,-155 1408.5,-155\"/>\n<text text-anchor=\"middle\" x=\"1362.5\" y=\"-139.8\" font-family=\"Helvetica,sans-Serif\" font-size=\"14.00\">BMI &lt;= 19.95</text>\n<text text-anchor=\"middle\" x=\"1362.5\" y=\"-124.8\" font-family=\"Helvetica,sans-Serif\" font-size=\"14.00\">entropy = 0.201</text>\n<text text-anchor=\"middle\" x=\"1362.5\" y=\"-109.8\" font-family=\"Helvetica,sans-Serif\" font-size=\"14.00\">samples = 64</text>\n<text text-anchor=\"middle\" x=\"1362.5\" y=\"-94.8\" font-family=\"Helvetica,sans-Serif\" font-size=\"14.00\">value = [62, 2]</text>\n<text text-anchor=\"middle\" x=\"1362.5\" y=\"-79.8\" font-family=\"Helvetica,sans-Serif\" font-size=\"14.00\">class = heart_no</text>\n</g>\n<!-- 258&#45;&gt;259 -->\n<g id=\"edge35\" class=\"edge\">\n<title>258&#45;&gt;259</title>\n<path fill=\"none\" stroke=\"black\" d=\"M1406.91,-190.91C1401.84,-182.2 1396.44,-172.9 1391.21,-163.89\"/>\n<polygon fill=\"black\" stroke=\"black\" points=\"1394.1,-161.91 1386.05,-155.02 1388.05,-165.43 1394.1,-161.91\"/>\n</g>\n<!-- 264 -->\n<g id=\"node39\" class=\"node\">\n<title>264</title>\n<path fill=\"#399de5\" stroke=\"black\" d=\"M1548.5,-147.5C1548.5,-147.5 1450.5,-147.5 1450.5,-147.5 1444.5,-147.5 1438.5,-141.5 1438.5,-135.5 1438.5,-135.5 1438.5,-91.5 1438.5,-91.5 1438.5,-85.5 1444.5,-79.5 1450.5,-79.5 1450.5,-79.5 1548.5,-79.5 1548.5,-79.5 1554.5,-79.5 1560.5,-85.5 1560.5,-91.5 1560.5,-91.5 1560.5,-135.5 1560.5,-135.5 1560.5,-141.5 1554.5,-147.5 1548.5,-147.5\"/>\n<text text-anchor=\"middle\" x=\"1499.5\" y=\"-132.3\" font-family=\"Helvetica,sans-Serif\" font-size=\"14.00\">entropy = 0.0</text>\n<text text-anchor=\"middle\" x=\"1499.5\" y=\"-117.3\" font-family=\"Helvetica,sans-Serif\" font-size=\"14.00\">samples = 4</text>\n<text text-anchor=\"middle\" x=\"1499.5\" y=\"-102.3\" font-family=\"Helvetica,sans-Serif\" font-size=\"14.00\">value = [0, 4]</text>\n<text text-anchor=\"middle\" x=\"1499.5\" y=\"-87.3\" font-family=\"Helvetica,sans-Serif\" font-size=\"14.00\">class = heart_yes</text>\n</g>\n<!-- 258&#45;&gt;264 -->\n<g id=\"edge38\" class=\"edge\">\n<title>258&#45;&gt;264</title>\n<path fill=\"none\" stroke=\"black\" d=\"M1454.44,-190.91C1461.01,-179.76 1468.15,-167.66 1474.77,-156.44\"/>\n<polygon fill=\"black\" stroke=\"black\" points=\"1477.87,-158.06 1479.94,-147.67 1471.85,-154.5 1477.87,-158.06\"/>\n</g>\n<!-- 260 -->\n<g id=\"node37\" class=\"node\">\n<title>260</title>\n<path fill=\"#c0c0c0\" stroke=\"black\" d=\"M1341.5,-36C1341.5,-36 1311.5,-36 1311.5,-36 1305.5,-36 1299.5,-30 1299.5,-24 1299.5,-24 1299.5,-12 1299.5,-12 1299.5,-6 1305.5,0 1311.5,0 1311.5,0 1341.5,0 1341.5,0 1347.5,0 1353.5,-6 1353.5,-12 1353.5,-12 1353.5,-24 1353.5,-24 1353.5,-30 1347.5,-36 1341.5,-36\"/>\n<text text-anchor=\"middle\" x=\"1326.5\" y=\"-14.3\" font-family=\"Helvetica,sans-Serif\" font-size=\"14.00\">(...)</text>\n</g>\n<!-- 259&#45;&gt;260 -->\n<g id=\"edge36\" class=\"edge\">\n<title>259&#45;&gt;260</title>\n<path fill=\"none\" stroke=\"black\" d=\"M1346.81,-71.76C1343.46,-63.04 1339.99,-54.04 1336.89,-45.99\"/>\n<polygon fill=\"black\" stroke=\"black\" points=\"1340.06,-44.48 1333.2,-36.41 1333.53,-46.99 1340.06,-44.48\"/>\n</g>\n<!-- 263 -->\n<g id=\"node38\" class=\"node\">\n<title>263</title>\n<path fill=\"#c0c0c0\" stroke=\"black\" d=\"M1413.5,-36C1413.5,-36 1383.5,-36 1383.5,-36 1377.5,-36 1371.5,-30 1371.5,-24 1371.5,-24 1371.5,-12 1371.5,-12 1371.5,-6 1377.5,0 1383.5,0 1383.5,0 1413.5,0 1413.5,0 1419.5,0 1425.5,-6 1425.5,-12 1425.5,-12 1425.5,-24 1425.5,-24 1425.5,-30 1419.5,-36 1413.5,-36\"/>\n<text text-anchor=\"middle\" x=\"1398.5\" y=\"-14.3\" font-family=\"Helvetica,sans-Serif\" font-size=\"14.00\">(...)</text>\n</g>\n<!-- 259&#45;&gt;263 -->\n<g id=\"edge37\" class=\"edge\">\n<title>259&#45;&gt;263</title>\n<path fill=\"none\" stroke=\"black\" d=\"M1378.19,-71.76C1381.54,-63.04 1385.01,-54.04 1388.11,-45.99\"/>\n<polygon fill=\"black\" stroke=\"black\" points=\"1391.47,-46.99 1391.8,-36.41 1384.94,-44.48 1391.47,-46.99\"/>\n</g>\n<!-- 266 -->\n<g id=\"node41\" class=\"node\">\n<title>266</title>\n<path fill=\"#4ea7e8\" stroke=\"black\" d=\"M1819.5,-274C1819.5,-274 1721.5,-274 1721.5,-274 1715.5,-274 1709.5,-268 1709.5,-262 1709.5,-262 1709.5,-203 1709.5,-203 1709.5,-197 1715.5,-191 1721.5,-191 1721.5,-191 1819.5,-191 1819.5,-191 1825.5,-191 1831.5,-197 1831.5,-203 1831.5,-203 1831.5,-262 1831.5,-262 1831.5,-268 1825.5,-274 1819.5,-274\"/>\n<text text-anchor=\"middle\" x=\"1770.5\" y=\"-258.8\" font-family=\"Helvetica,sans-Serif\" font-size=\"14.00\">BMI &lt;= 16.1</text>\n<text text-anchor=\"middle\" x=\"1770.5\" y=\"-243.8\" font-family=\"Helvetica,sans-Serif\" font-size=\"14.00\">entropy = 0.455</text>\n<text text-anchor=\"middle\" x=\"1770.5\" y=\"-228.8\" font-family=\"Helvetica,sans-Serif\" font-size=\"14.00\">samples = 94</text>\n<text text-anchor=\"middle\" x=\"1770.5\" y=\"-213.8\" font-family=\"Helvetica,sans-Serif\" font-size=\"14.00\">value = [9, 85]</text>\n<text text-anchor=\"middle\" x=\"1770.5\" y=\"-198.8\" font-family=\"Helvetica,sans-Serif\" font-size=\"14.00\">class = heart_yes</text>\n</g>\n<!-- 265&#45;&gt;266 -->\n<g id=\"edge40\" class=\"edge\">\n<title>265&#45;&gt;266</title>\n<path fill=\"none\" stroke=\"black\" d=\"M1770.5,-309.91C1770.5,-301.65 1770.5,-292.86 1770.5,-284.3\"/>\n<polygon fill=\"black\" stroke=\"black\" points=\"1774,-284.02 1770.5,-274.02 1767,-284.02 1774,-284.02\"/>\n</g>\n<!-- 279 -->\n<g id=\"node48\" class=\"node\">\n<title>279</title>\n<path fill=\"#a3d2f3\" stroke=\"black\" d=\"M2089.5,-274C2089.5,-274 1975.5,-274 1975.5,-274 1969.5,-274 1963.5,-268 1963.5,-262 1963.5,-262 1963.5,-203 1963.5,-203 1963.5,-197 1969.5,-191 1975.5,-191 1975.5,-191 2089.5,-191 2089.5,-191 2095.5,-191 2101.5,-197 2101.5,-203 2101.5,-203 2101.5,-262 2101.5,-262 2101.5,-268 2095.5,-274 2089.5,-274\"/>\n<text text-anchor=\"middle\" x=\"2032.5\" y=\"-258.8\" font-family=\"Helvetica,sans-Serif\" font-size=\"14.00\">diastolic_bp &lt;= 81.0</text>\n<text text-anchor=\"middle\" x=\"2032.5\" y=\"-243.8\" font-family=\"Helvetica,sans-Serif\" font-size=\"14.00\">entropy = 0.933</text>\n<text text-anchor=\"middle\" x=\"2032.5\" y=\"-228.8\" font-family=\"Helvetica,sans-Serif\" font-size=\"14.00\">samples = 292</text>\n<text text-anchor=\"middle\" x=\"2032.5\" y=\"-213.8\" font-family=\"Helvetica,sans-Serif\" font-size=\"14.00\">value = [102, 190]</text>\n<text text-anchor=\"middle\" x=\"2032.5\" y=\"-198.8\" font-family=\"Helvetica,sans-Serif\" font-size=\"14.00\">class = heart_yes</text>\n</g>\n<!-- 265&#45;&gt;279 -->\n<g id=\"edge47\" class=\"edge\">\n<title>265&#45;&gt;279</title>\n<path fill=\"none\" stroke=\"black\" d=\"M1844.18,-317.6C1878.5,-302.27 1919.35,-284.03 1954.22,-268.46\"/>\n<polygon fill=\"black\" stroke=\"black\" points=\"1955.72,-271.62 1963.42,-264.35 1952.86,-265.23 1955.72,-271.62\"/>\n</g>\n<!-- 267 -->\n<g id=\"node42\" class=\"node\">\n<title>267</title>\n<path fill=\"#bddef6\" stroke=\"black\" d=\"M1740,-155C1740,-155 1591,-155 1591,-155 1585,-155 1579,-149 1579,-143 1579,-143 1579,-84 1579,-84 1579,-78 1585,-72 1591,-72 1591,-72 1740,-72 1740,-72 1746,-72 1752,-78 1752,-84 1752,-84 1752,-143 1752,-143 1752,-149 1746,-155 1740,-155\"/>\n<text text-anchor=\"middle\" x=\"1665.5\" y=\"-139.8\" font-family=\"Helvetica,sans-Serif\" font-size=\"14.00\">blood_cholesterol &lt;= 3.57</text>\n<text text-anchor=\"middle\" x=\"1665.5\" y=\"-124.8\" font-family=\"Helvetica,sans-Serif\" font-size=\"14.00\">entropy = 0.971</text>\n<text text-anchor=\"middle\" x=\"1665.5\" y=\"-109.8\" font-family=\"Helvetica,sans-Serif\" font-size=\"14.00\">samples = 10</text>\n<text text-anchor=\"middle\" x=\"1665.5\" y=\"-94.8\" font-family=\"Helvetica,sans-Serif\" font-size=\"14.00\">value = [4, 6]</text>\n<text text-anchor=\"middle\" x=\"1665.5\" y=\"-79.8\" font-family=\"Helvetica,sans-Serif\" font-size=\"14.00\">class = heart_yes</text>\n</g>\n<!-- 266&#45;&gt;267 -->\n<g id=\"edge41\" class=\"edge\">\n<title>266&#45;&gt;267</title>\n<path fill=\"none\" stroke=\"black\" d=\"M1734.07,-190.91C1725.85,-181.74 1717.04,-171.93 1708.57,-162.49\"/>\n<polygon fill=\"black\" stroke=\"black\" points=\"1711.15,-160.13 1701.86,-155.02 1705.94,-164.8 1711.15,-160.13\"/>\n</g>\n<!-- 270 -->\n<g id=\"node45\" class=\"node\">\n<title>270</title>\n<path fill=\"#46a3e7\" stroke=\"black\" d=\"M1938.5,-155C1938.5,-155 1782.5,-155 1782.5,-155 1776.5,-155 1770.5,-149 1770.5,-143 1770.5,-143 1770.5,-84 1770.5,-84 1770.5,-78 1776.5,-72 1782.5,-72 1782.5,-72 1938.5,-72 1938.5,-72 1944.5,-72 1950.5,-78 1950.5,-84 1950.5,-84 1950.5,-143 1950.5,-143 1950.5,-149 1944.5,-155 1938.5,-155\"/>\n<text text-anchor=\"middle\" x=\"1860.5\" y=\"-139.8\" font-family=\"Helvetica,sans-Serif\" font-size=\"14.00\">blood_cholesterol &lt;= 5.545</text>\n<text text-anchor=\"middle\" x=\"1860.5\" y=\"-124.8\" font-family=\"Helvetica,sans-Serif\" font-size=\"14.00\">entropy = 0.326</text>\n<text text-anchor=\"middle\" x=\"1860.5\" y=\"-109.8\" font-family=\"Helvetica,sans-Serif\" font-size=\"14.00\">samples = 84</text>\n<text text-anchor=\"middle\" x=\"1860.5\" y=\"-94.8\" font-family=\"Helvetica,sans-Serif\" font-size=\"14.00\">value = [5, 79]</text>\n<text text-anchor=\"middle\" x=\"1860.5\" y=\"-79.8\" font-family=\"Helvetica,sans-Serif\" font-size=\"14.00\">class = heart_yes</text>\n</g>\n<!-- 266&#45;&gt;270 -->\n<g id=\"edge44\" class=\"edge\">\n<title>266&#45;&gt;270</title>\n<path fill=\"none\" stroke=\"black\" d=\"M1801.73,-190.91C1808.64,-181.92 1816.03,-172.32 1823.15,-163.05\"/>\n<polygon fill=\"black\" stroke=\"black\" points=\"1826.01,-165.08 1829.33,-155.02 1820.46,-160.81 1826.01,-165.08\"/>\n</g>\n<!-- 268 -->\n<g id=\"node43\" class=\"node\">\n<title>268</title>\n<path fill=\"#c0c0c0\" stroke=\"black\" d=\"M1644.5,-36C1644.5,-36 1614.5,-36 1614.5,-36 1608.5,-36 1602.5,-30 1602.5,-24 1602.5,-24 1602.5,-12 1602.5,-12 1602.5,-6 1608.5,0 1614.5,0 1614.5,0 1644.5,0 1644.5,0 1650.5,0 1656.5,-6 1656.5,-12 1656.5,-12 1656.5,-24 1656.5,-24 1656.5,-30 1650.5,-36 1644.5,-36\"/>\n<text text-anchor=\"middle\" x=\"1629.5\" y=\"-14.3\" font-family=\"Helvetica,sans-Serif\" font-size=\"14.00\">(...)</text>\n</g>\n<!-- 267&#45;&gt;268 -->\n<g id=\"edge42\" class=\"edge\">\n<title>267&#45;&gt;268</title>\n<path fill=\"none\" stroke=\"black\" d=\"M1649.81,-71.76C1646.46,-63.04 1642.99,-54.04 1639.89,-45.99\"/>\n<polygon fill=\"black\" stroke=\"black\" points=\"1643.06,-44.48 1636.2,-36.41 1636.53,-46.99 1643.06,-44.48\"/>\n</g>\n<!-- 269 -->\n<g id=\"node44\" class=\"node\">\n<title>269</title>\n<path fill=\"#c0c0c0\" stroke=\"black\" d=\"M1716.5,-36C1716.5,-36 1686.5,-36 1686.5,-36 1680.5,-36 1674.5,-30 1674.5,-24 1674.5,-24 1674.5,-12 1674.5,-12 1674.5,-6 1680.5,0 1686.5,0 1686.5,0 1716.5,0 1716.5,0 1722.5,0 1728.5,-6 1728.5,-12 1728.5,-12 1728.5,-24 1728.5,-24 1728.5,-30 1722.5,-36 1716.5,-36\"/>\n<text text-anchor=\"middle\" x=\"1701.5\" y=\"-14.3\" font-family=\"Helvetica,sans-Serif\" font-size=\"14.00\">(...)</text>\n</g>\n<!-- 267&#45;&gt;269 -->\n<g id=\"edge43\" class=\"edge\">\n<title>267&#45;&gt;269</title>\n<path fill=\"none\" stroke=\"black\" d=\"M1681.19,-71.76C1684.54,-63.04 1688.01,-54.04 1691.11,-45.99\"/>\n<polygon fill=\"black\" stroke=\"black\" points=\"1694.47,-46.99 1694.8,-36.41 1687.94,-44.48 1694.47,-46.99\"/>\n</g>\n<!-- 271 -->\n<g id=\"node46\" class=\"node\">\n<title>271</title>\n<path fill=\"#c0c0c0\" stroke=\"black\" d=\"M1851.5,-36C1851.5,-36 1821.5,-36 1821.5,-36 1815.5,-36 1809.5,-30 1809.5,-24 1809.5,-24 1809.5,-12 1809.5,-12 1809.5,-6 1815.5,0 1821.5,0 1821.5,0 1851.5,0 1851.5,0 1857.5,0 1863.5,-6 1863.5,-12 1863.5,-12 1863.5,-24 1863.5,-24 1863.5,-30 1857.5,-36 1851.5,-36\"/>\n<text text-anchor=\"middle\" x=\"1836.5\" y=\"-14.3\" font-family=\"Helvetica,sans-Serif\" font-size=\"14.00\">(...)</text>\n</g>\n<!-- 270&#45;&gt;271 -->\n<g id=\"edge45\" class=\"edge\">\n<title>270&#45;&gt;271</title>\n<path fill=\"none\" stroke=\"black\" d=\"M1850.04,-71.76C1847.83,-63.14 1845.55,-54.24 1843.5,-46.26\"/>\n<polygon fill=\"black\" stroke=\"black\" points=\"1846.84,-45.22 1840.97,-36.41 1840.06,-46.96 1846.84,-45.22\"/>\n</g>\n<!-- 276 -->\n<g id=\"node47\" class=\"node\">\n<title>276</title>\n<path fill=\"#c0c0c0\" stroke=\"black\" d=\"M1923.5,-36C1923.5,-36 1893.5,-36 1893.5,-36 1887.5,-36 1881.5,-30 1881.5,-24 1881.5,-24 1881.5,-12 1881.5,-12 1881.5,-6 1887.5,0 1893.5,0 1893.5,0 1923.5,0 1923.5,0 1929.5,0 1935.5,-6 1935.5,-12 1935.5,-12 1935.5,-24 1935.5,-24 1935.5,-30 1929.5,-36 1923.5,-36\"/>\n<text text-anchor=\"middle\" x=\"1908.5\" y=\"-14.3\" font-family=\"Helvetica,sans-Serif\" font-size=\"14.00\">(...)</text>\n</g>\n<!-- 270&#45;&gt;276 -->\n<g id=\"edge46\" class=\"edge\">\n<title>270&#45;&gt;276</title>\n<path fill=\"none\" stroke=\"black\" d=\"M1881.41,-71.76C1885.99,-62.85 1890.72,-53.64 1894.92,-45.46\"/>\n<polygon fill=\"black\" stroke=\"black\" points=\"1898.11,-46.9 1899.56,-36.41 1891.88,-43.7 1898.11,-46.9\"/>\n</g>\n<!-- 280 -->\n<g id=\"node49\" class=\"node\">\n<title>280</title>\n<path fill=\"#97cbf1\" stroke=\"black\" d=\"M2084.5,-155C2084.5,-155 1980.5,-155 1980.5,-155 1974.5,-155 1968.5,-149 1968.5,-143 1968.5,-143 1968.5,-84 1968.5,-84 1968.5,-78 1974.5,-72 1980.5,-72 1980.5,-72 2084.5,-72 2084.5,-72 2090.5,-72 2096.5,-78 2096.5,-84 2096.5,-84 2096.5,-143 2096.5,-143 2096.5,-149 2090.5,-155 2084.5,-155\"/>\n<text text-anchor=\"middle\" x=\"2032.5\" y=\"-139.8\" font-family=\"Helvetica,sans-Serif\" font-size=\"14.00\">calories &lt;= 3316.5</text>\n<text text-anchor=\"middle\" x=\"2032.5\" y=\"-124.8\" font-family=\"Helvetica,sans-Serif\" font-size=\"14.00\">entropy = 0.906</text>\n<text text-anchor=\"middle\" x=\"2032.5\" y=\"-109.8\" font-family=\"Helvetica,sans-Serif\" font-size=\"14.00\">samples = 280</text>\n<text text-anchor=\"middle\" x=\"2032.5\" y=\"-94.8\" font-family=\"Helvetica,sans-Serif\" font-size=\"14.00\">value = [90, 190]</text>\n<text text-anchor=\"middle\" x=\"2032.5\" y=\"-79.8\" font-family=\"Helvetica,sans-Serif\" font-size=\"14.00\">class = heart_yes</text>\n</g>\n<!-- 279&#45;&gt;280 -->\n<g id=\"edge48\" class=\"edge\">\n<title>279&#45;&gt;280</title>\n<path fill=\"none\" stroke=\"black\" d=\"M2032.5,-190.91C2032.5,-182.65 2032.5,-173.86 2032.5,-165.3\"/>\n<polygon fill=\"black\" stroke=\"black\" points=\"2036,-165.02 2032.5,-155.02 2029,-165.02 2036,-165.02\"/>\n</g>\n<!-- 331 -->\n<g id=\"node52\" class=\"node\">\n<title>331</title>\n<path fill=\"#e58139\" stroke=\"black\" d=\"M2218.5,-147.5C2218.5,-147.5 2126.5,-147.5 2126.5,-147.5 2120.5,-147.5 2114.5,-141.5 2114.5,-135.5 2114.5,-135.5 2114.5,-91.5 2114.5,-91.5 2114.5,-85.5 2120.5,-79.5 2126.5,-79.5 2126.5,-79.5 2218.5,-79.5 2218.5,-79.5 2224.5,-79.5 2230.5,-85.5 2230.5,-91.5 2230.5,-91.5 2230.5,-135.5 2230.5,-135.5 2230.5,-141.5 2224.5,-147.5 2218.5,-147.5\"/>\n<text text-anchor=\"middle\" x=\"2172.5\" y=\"-132.3\" font-family=\"Helvetica,sans-Serif\" font-size=\"14.00\">entropy = 0.0</text>\n<text text-anchor=\"middle\" x=\"2172.5\" y=\"-117.3\" font-family=\"Helvetica,sans-Serif\" font-size=\"14.00\">samples = 12</text>\n<text text-anchor=\"middle\" x=\"2172.5\" y=\"-102.3\" font-family=\"Helvetica,sans-Serif\" font-size=\"14.00\">value = [12, 0]</text>\n<text text-anchor=\"middle\" x=\"2172.5\" y=\"-87.3\" font-family=\"Helvetica,sans-Serif\" font-size=\"14.00\">class = heart_no</text>\n</g>\n<!-- 279&#45;&gt;331 -->\n<g id=\"edge51\" class=\"edge\">\n<title>279&#45;&gt;331</title>\n<path fill=\"none\" stroke=\"black\" d=\"M2081.07,-190.91C2095.33,-178.99 2110.91,-165.98 2125.09,-154.12\"/>\n<polygon fill=\"black\" stroke=\"black\" points=\"2127.38,-156.77 2132.81,-147.67 2122.9,-151.39 2127.38,-156.77\"/>\n</g>\n<!-- 281 -->\n<g id=\"node50\" class=\"node\">\n<title>281</title>\n<path fill=\"#c0c0c0\" stroke=\"black\" d=\"M1998.5,-36C1998.5,-36 1968.5,-36 1968.5,-36 1962.5,-36 1956.5,-30 1956.5,-24 1956.5,-24 1956.5,-12 1956.5,-12 1956.5,-6 1962.5,0 1968.5,0 1968.5,0 1998.5,0 1998.5,0 2004.5,0 2010.5,-6 2010.5,-12 2010.5,-12 2010.5,-24 2010.5,-24 2010.5,-30 2004.5,-36 1998.5,-36\"/>\n<text text-anchor=\"middle\" x=\"1983.5\" y=\"-14.3\" font-family=\"Helvetica,sans-Serif\" font-size=\"14.00\">(...)</text>\n</g>\n<!-- 280&#45;&gt;281 -->\n<g id=\"edge49\" class=\"edge\">\n<title>280&#45;&gt;281</title>\n<path fill=\"none\" stroke=\"black\" d=\"M2011.15,-71.76C2006.48,-62.85 2001.65,-53.64 1997.37,-45.46\"/>\n<polygon fill=\"black\" stroke=\"black\" points=\"2000.36,-43.64 1992.62,-36.41 1994.16,-46.89 2000.36,-43.64\"/>\n</g>\n<!-- 330 -->\n<g id=\"node51\" class=\"node\">\n<title>330</title>\n<path fill=\"#c0c0c0\" stroke=\"black\" d=\"M2070.5,-36C2070.5,-36 2040.5,-36 2040.5,-36 2034.5,-36 2028.5,-30 2028.5,-24 2028.5,-24 2028.5,-12 2028.5,-12 2028.5,-6 2034.5,0 2040.5,0 2040.5,0 2070.5,0 2070.5,0 2076.5,0 2082.5,-6 2082.5,-12 2082.5,-12 2082.5,-24 2082.5,-24 2082.5,-30 2076.5,-36 2070.5,-36\"/>\n<text text-anchor=\"middle\" x=\"2055.5\" y=\"-14.3\" font-family=\"Helvetica,sans-Serif\" font-size=\"14.00\">(...)</text>\n</g>\n<!-- 280&#45;&gt;330 -->\n<g id=\"edge50\" class=\"edge\">\n<title>280&#45;&gt;330</title>\n<path fill=\"none\" stroke=\"black\" d=\"M2042.52,-71.76C2044.64,-63.14 2046.83,-54.24 2048.79,-46.26\"/>\n<polygon fill=\"black\" stroke=\"black\" points=\"2052.23,-46.95 2051.22,-36.41 2045.43,-45.28 2052.23,-46.95\"/>\n</g>\n<!-- 333 -->\n<g id=\"node54\" class=\"node\">\n<title>333</title>\n<path fill=\"#c8e4f8\" stroke=\"black\" d=\"M2817,-512C2817,-512 2694,-512 2694,-512 2688,-512 2682,-506 2682,-500 2682,-500 2682,-441 2682,-441 2682,-435 2688,-429 2694,-429 2694,-429 2817,-429 2817,-429 2823,-429 2829,-435 2829,-441 2829,-441 2829,-500 2829,-500 2829,-506 2823,-512 2817,-512\"/>\n<text text-anchor=\"middle\" x=\"2755.5\" y=\"-496.8\" font-family=\"Helvetica,sans-Serif\" font-size=\"14.00\">age &lt;= 77.5</text>\n<text text-anchor=\"middle\" x=\"2755.5\" y=\"-481.8\" font-family=\"Helvetica,sans-Serif\" font-size=\"14.00\">entropy = 0.981</text>\n<text text-anchor=\"middle\" x=\"2755.5\" y=\"-466.8\" font-family=\"Helvetica,sans-Serif\" font-size=\"14.00\">samples = 1465</text>\n<text text-anchor=\"middle\" x=\"2755.5\" y=\"-451.8\" font-family=\"Helvetica,sans-Serif\" font-size=\"14.00\">value = [614.0, 851.0]</text>\n<text text-anchor=\"middle\" x=\"2755.5\" y=\"-436.8\" font-family=\"Helvetica,sans-Serif\" font-size=\"14.00\">class = heart_yes</text>\n</g>\n<!-- 332&#45;&gt;333 -->\n<g id=\"edge53\" class=\"edge\">\n<title>332&#45;&gt;333</title>\n<path fill=\"none\" stroke=\"black\" d=\"M2755.5,-547.91C2755.5,-539.65 2755.5,-530.86 2755.5,-522.3\"/>\n<polygon fill=\"black\" stroke=\"black\" points=\"2759,-522.02 2755.5,-512.02 2752,-522.02 2759,-522.02\"/>\n</g>\n<!-- 570 -->\n<g id=\"node81\" class=\"node\">\n<title>570</title>\n<path fill=\"#59ade9\" stroke=\"black\" d=\"M3676.5,-512C3676.5,-512 3520.5,-512 3520.5,-512 3514.5,-512 3508.5,-506 3508.5,-500 3508.5,-500 3508.5,-441 3508.5,-441 3508.5,-435 3514.5,-429 3520.5,-429 3520.5,-429 3676.5,-429 3676.5,-429 3682.5,-429 3688.5,-435 3688.5,-441 3688.5,-441 3688.5,-500 3688.5,-500 3688.5,-506 3682.5,-512 3676.5,-512\"/>\n<text text-anchor=\"middle\" x=\"3598.5\" y=\"-496.8\" font-family=\"Helvetica,sans-Serif\" font-size=\"14.00\">blood_cholesterol &lt;= 3.605</text>\n<text text-anchor=\"middle\" x=\"3598.5\" y=\"-481.8\" font-family=\"Helvetica,sans-Serif\" font-size=\"14.00\">entropy = 0.582</text>\n<text text-anchor=\"middle\" x=\"3598.5\" y=\"-466.8\" font-family=\"Helvetica,sans-Serif\" font-size=\"14.00\">samples = 883</text>\n<text text-anchor=\"middle\" x=\"3598.5\" y=\"-451.8\" font-family=\"Helvetica,sans-Serif\" font-size=\"14.00\">value = [123.0, 760.0]</text>\n<text text-anchor=\"middle\" x=\"3598.5\" y=\"-436.8\" font-family=\"Helvetica,sans-Serif\" font-size=\"14.00\">class = heart_yes</text>\n</g>\n<!-- 332&#45;&gt;570 -->\n<g id=\"edge80\" class=\"edge\">\n<title>332&#45;&gt;570</title>\n<path fill=\"none\" stroke=\"black\" d=\"M2821.65,-579.32C2968.81,-558.89 3324.01,-509.6 3498.45,-485.39\"/>\n<polygon fill=\"black\" stroke=\"black\" points=\"3498.97,-488.85 3508.4,-484.01 3498.01,-481.91 3498.97,-488.85\"/>\n</g>\n<!-- 334 -->\n<g id=\"node55\" class=\"node\">\n<title>334</title>\n<path fill=\"#fefcfb\" stroke=\"black\" d=\"M2751,-393C2751,-393 2620,-393 2620,-393 2614,-393 2608,-387 2608,-381 2608,-381 2608,-322 2608,-322 2608,-316 2614,-310 2620,-310 2620,-310 2751,-310 2751,-310 2757,-310 2763,-316 2763,-322 2763,-322 2763,-381 2763,-381 2763,-387 2757,-393 2751,-393\"/>\n<text text-anchor=\"middle\" x=\"2685.5\" y=\"-377.8\" font-family=\"Helvetica,sans-Serif\" font-size=\"14.00\">family_income &lt;= 3.84</text>\n<text text-anchor=\"middle\" x=\"2685.5\" y=\"-362.8\" font-family=\"Helvetica,sans-Serif\" font-size=\"14.00\">entropy = 1.0</text>\n<text text-anchor=\"middle\" x=\"2685.5\" y=\"-347.8\" font-family=\"Helvetica,sans-Serif\" font-size=\"14.00\">samples = 936</text>\n<text text-anchor=\"middle\" x=\"2685.5\" y=\"-332.8\" font-family=\"Helvetica,sans-Serif\" font-size=\"14.00\">value = [473, 463]</text>\n<text text-anchor=\"middle\" x=\"2685.5\" y=\"-317.8\" font-family=\"Helvetica,sans-Serif\" font-size=\"14.00\">class = heart_no</text>\n</g>\n<!-- 333&#45;&gt;334 -->\n<g id=\"edge54\" class=\"edge\">\n<title>333&#45;&gt;334</title>\n<path fill=\"none\" stroke=\"black\" d=\"M2731.21,-428.91C2725.95,-420.1 2720.32,-410.7 2714.88,-401.61\"/>\n<polygon fill=\"black\" stroke=\"black\" points=\"2717.88,-399.81 2709.74,-393.02 2711.87,-403.4 2717.88,-399.81\"/>\n</g>\n<!-- 481 -->\n<g id=\"node70\" class=\"node\">\n<title>481</title>\n<path fill=\"#81c1ee\" stroke=\"black\" d=\"M3003.5,-393C3003.5,-393 2877.5,-393 2877.5,-393 2871.5,-393 2865.5,-387 2865.5,-381 2865.5,-381 2865.5,-322 2865.5,-322 2865.5,-316 2871.5,-310 2877.5,-310 2877.5,-310 3003.5,-310 3003.5,-310 3009.5,-310 3015.5,-316 3015.5,-322 3015.5,-322 3015.5,-381 3015.5,-381 3015.5,-387 3009.5,-393 3003.5,-393\"/>\n<text text-anchor=\"middle\" x=\"2940.5\" y=\"-377.8\" font-family=\"Helvetica,sans-Serif\" font-size=\"14.00\">gender_female &lt;= 0.5</text>\n<text text-anchor=\"middle\" x=\"2940.5\" y=\"-362.8\" font-family=\"Helvetica,sans-Serif\" font-size=\"14.00\">entropy = 0.836</text>\n<text text-anchor=\"middle\" x=\"2940.5\" y=\"-347.8\" font-family=\"Helvetica,sans-Serif\" font-size=\"14.00\">samples = 529</text>\n<text text-anchor=\"middle\" x=\"2940.5\" y=\"-332.8\" font-family=\"Helvetica,sans-Serif\" font-size=\"14.00\">value = [141, 388]</text>\n<text text-anchor=\"middle\" x=\"2940.5\" y=\"-317.8\" font-family=\"Helvetica,sans-Serif\" font-size=\"14.00\">class = heart_yes</text>\n</g>\n<!-- 333&#45;&gt;481 -->\n<g id=\"edge69\" class=\"edge\">\n<title>333&#45;&gt;481</title>\n<path fill=\"none\" stroke=\"black\" d=\"M2819.68,-428.91C2835.18,-419.11 2851.85,-408.56 2867.71,-398.53\"/>\n<polygon fill=\"black\" stroke=\"black\" points=\"2869.85,-401.32 2876.43,-393.02 2866.11,-395.41 2869.85,-401.32\"/>\n</g>\n<!-- 335 -->\n<g id=\"node56\" class=\"node\">\n<title>335</title>\n<path fill=\"#dbedfa\" stroke=\"black\" d=\"M2519,-274C2519,-274 2396,-274 2396,-274 2390,-274 2384,-268 2384,-262 2384,-262 2384,-203 2384,-203 2384,-197 2390,-191 2396,-191 2396,-191 2519,-191 2519,-191 2525,-191 2531,-197 2531,-203 2531,-203 2531,-262 2531,-262 2531,-268 2525,-274 2519,-274\"/>\n<text text-anchor=\"middle\" x=\"2457.5\" y=\"-258.8\" font-family=\"Helvetica,sans-Serif\" font-size=\"14.00\">BMI &lt;= 16.05</text>\n<text text-anchor=\"middle\" x=\"2457.5\" y=\"-243.8\" font-family=\"Helvetica,sans-Serif\" font-size=\"14.00\">entropy = 0.993</text>\n<text text-anchor=\"middle\" x=\"2457.5\" y=\"-228.8\" font-family=\"Helvetica,sans-Serif\" font-size=\"14.00\">samples = 737</text>\n<text text-anchor=\"middle\" x=\"2457.5\" y=\"-213.8\" font-family=\"Helvetica,sans-Serif\" font-size=\"14.00\">value = [332.0, 405.0]</text>\n<text text-anchor=\"middle\" x=\"2457.5\" y=\"-198.8\" font-family=\"Helvetica,sans-Serif\" font-size=\"14.00\">class = heart_yes</text>\n</g>\n<!-- 334&#45;&gt;335 -->\n<g id=\"edge55\" class=\"edge\">\n<title>334&#45;&gt;335</title>\n<path fill=\"none\" stroke=\"black\" d=\"M2607.99,-310.73C2586.21,-299.55 2562.43,-287.35 2540.35,-276.02\"/>\n<polygon fill=\"black\" stroke=\"black\" points=\"2541.82,-272.84 2531.33,-271.39 2538.63,-279.07 2541.82,-272.84\"/>\n</g>\n<!-- 456 -->\n<g id=\"node63\" class=\"node\">\n<title>456</title>\n<path fill=\"#f0b58a\" stroke=\"black\" d=\"M2732,-274C2732,-274 2639,-274 2639,-274 2633,-274 2627,-268 2627,-262 2627,-262 2627,-203 2627,-203 2627,-197 2633,-191 2639,-191 2639,-191 2732,-191 2732,-191 2738,-191 2744,-197 2744,-203 2744,-203 2744,-262 2744,-262 2744,-268 2738,-274 2732,-274\"/>\n<text text-anchor=\"middle\" x=\"2685.5\" y=\"-258.8\" font-family=\"Helvetica,sans-Serif\" font-size=\"14.00\">BMI &lt;= 23.25</text>\n<text text-anchor=\"middle\" x=\"2685.5\" y=\"-243.8\" font-family=\"Helvetica,sans-Serif\" font-size=\"14.00\">entropy = 0.871</text>\n<text text-anchor=\"middle\" x=\"2685.5\" y=\"-228.8\" font-family=\"Helvetica,sans-Serif\" font-size=\"14.00\">samples = 199</text>\n<text text-anchor=\"middle\" x=\"2685.5\" y=\"-213.8\" font-family=\"Helvetica,sans-Serif\" font-size=\"14.00\">value = [141, 58]</text>\n<text text-anchor=\"middle\" x=\"2685.5\" y=\"-198.8\" font-family=\"Helvetica,sans-Serif\" font-size=\"14.00\">class = heart_no</text>\n</g>\n<!-- 334&#45;&gt;456 -->\n<g id=\"edge62\" class=\"edge\">\n<title>334&#45;&gt;456</title>\n<path fill=\"none\" stroke=\"black\" d=\"M2685.5,-309.91C2685.5,-301.65 2685.5,-292.86 2685.5,-284.3\"/>\n<polygon fill=\"black\" stroke=\"black\" points=\"2689,-284.02 2685.5,-274.02 2682,-284.02 2689,-284.02\"/>\n</g>\n<!-- 336 -->\n<g id=\"node57\" class=\"node\">\n<title>336</title>\n<path fill=\"#67b4eb\" stroke=\"black\" d=\"M2358.5,-155C2358.5,-155 2260.5,-155 2260.5,-155 2254.5,-155 2248.5,-149 2248.5,-143 2248.5,-143 2248.5,-84 2248.5,-84 2248.5,-78 2254.5,-72 2260.5,-72 2260.5,-72 2358.5,-72 2358.5,-72 2364.5,-72 2370.5,-78 2370.5,-84 2370.5,-84 2370.5,-143 2370.5,-143 2370.5,-149 2364.5,-155 2358.5,-155\"/>\n<text text-anchor=\"middle\" x=\"2309.5\" y=\"-139.8\" font-family=\"Helvetica,sans-Serif\" font-size=\"14.00\">BMI &lt;= 13.85</text>\n<text text-anchor=\"middle\" x=\"2309.5\" y=\"-124.8\" font-family=\"Helvetica,sans-Serif\" font-size=\"14.00\">entropy = 0.701</text>\n<text text-anchor=\"middle\" x=\"2309.5\" y=\"-109.8\" font-family=\"Helvetica,sans-Serif\" font-size=\"14.00\">samples = 100</text>\n<text text-anchor=\"middle\" x=\"2309.5\" y=\"-94.8\" font-family=\"Helvetica,sans-Serif\" font-size=\"14.00\">value = [19, 81]</text>\n<text text-anchor=\"middle\" x=\"2309.5\" y=\"-79.8\" font-family=\"Helvetica,sans-Serif\" font-size=\"14.00\">class = heart_yes</text>\n</g>\n<!-- 335&#45;&gt;336 -->\n<g id=\"edge56\" class=\"edge\">\n<title>335&#45;&gt;336</title>\n<path fill=\"none\" stroke=\"black\" d=\"M2406.15,-190.91C2394.1,-181.38 2381.16,-171.15 2368.79,-161.37\"/>\n<polygon fill=\"black\" stroke=\"black\" points=\"2370.77,-158.48 2360.76,-155.02 2366.43,-163.97 2370.77,-158.48\"/>\n</g>\n<!-- 355 -->\n<g id=\"node60\" class=\"node\">\n<title>355</title>\n<path fill=\"#f8fcfe\" stroke=\"black\" d=\"M2514.5,-155C2514.5,-155 2400.5,-155 2400.5,-155 2394.5,-155 2388.5,-149 2388.5,-143 2388.5,-143 2388.5,-84 2388.5,-84 2388.5,-78 2394.5,-72 2400.5,-72 2400.5,-72 2514.5,-72 2514.5,-72 2520.5,-72 2526.5,-78 2526.5,-84 2526.5,-84 2526.5,-143 2526.5,-143 2526.5,-149 2520.5,-155 2514.5,-155\"/>\n<text text-anchor=\"middle\" x=\"2457.5\" y=\"-139.8\" font-family=\"Helvetica,sans-Serif\" font-size=\"14.00\">diastolic_bp &lt;= 83.0</text>\n<text text-anchor=\"middle\" x=\"2457.5\" y=\"-124.8\" font-family=\"Helvetica,sans-Serif\" font-size=\"14.00\">entropy = 1.0</text>\n<text text-anchor=\"middle\" x=\"2457.5\" y=\"-109.8\" font-family=\"Helvetica,sans-Serif\" font-size=\"14.00\">samples = 637</text>\n<text text-anchor=\"middle\" x=\"2457.5\" y=\"-94.8\" font-family=\"Helvetica,sans-Serif\" font-size=\"14.00\">value = [313, 324]</text>\n<text text-anchor=\"middle\" x=\"2457.5\" y=\"-79.8\" font-family=\"Helvetica,sans-Serif\" font-size=\"14.00\">class = heart_yes</text>\n</g>\n<!-- 335&#45;&gt;355 -->\n<g id=\"edge59\" class=\"edge\">\n<title>335&#45;&gt;355</title>\n<path fill=\"none\" stroke=\"black\" d=\"M2457.5,-190.91C2457.5,-182.65 2457.5,-173.86 2457.5,-165.3\"/>\n<polygon fill=\"black\" stroke=\"black\" points=\"2461,-165.02 2457.5,-155.02 2454,-165.02 2461,-165.02\"/>\n</g>\n<!-- 337 -->\n<g id=\"node58\" class=\"node\">\n<title>337</title>\n<path fill=\"#c0c0c0\" stroke=\"black\" d=\"M2257.5,-36C2257.5,-36 2227.5,-36 2227.5,-36 2221.5,-36 2215.5,-30 2215.5,-24 2215.5,-24 2215.5,-12 2215.5,-12 2215.5,-6 2221.5,0 2227.5,0 2227.5,0 2257.5,0 2257.5,0 2263.5,0 2269.5,-6 2269.5,-12 2269.5,-12 2269.5,-24 2269.5,-24 2269.5,-30 2263.5,-36 2257.5,-36\"/>\n<text text-anchor=\"middle\" x=\"2242.5\" y=\"-14.3\" font-family=\"Helvetica,sans-Serif\" font-size=\"14.00\">(...)</text>\n</g>\n<!-- 336&#45;&gt;337 -->\n<g id=\"edge57\" class=\"edge\">\n<title>336&#45;&gt;337</title>\n<path fill=\"none\" stroke=\"black\" d=\"M2280.31,-71.76C2273.71,-62.56 2266.89,-53.04 2260.89,-44.66\"/>\n<polygon fill=\"black\" stroke=\"black\" points=\"2263.64,-42.49 2254.97,-36.41 2257.95,-46.57 2263.64,-42.49\"/>\n</g>\n<!-- 338 -->\n<g id=\"node59\" class=\"node\">\n<title>338</title>\n<path fill=\"#c0c0c0\" stroke=\"black\" d=\"M2329.5,-36C2329.5,-36 2299.5,-36 2299.5,-36 2293.5,-36 2287.5,-30 2287.5,-24 2287.5,-24 2287.5,-12 2287.5,-12 2287.5,-6 2293.5,0 2299.5,0 2299.5,0 2329.5,0 2329.5,0 2335.5,0 2341.5,-6 2341.5,-12 2341.5,-12 2341.5,-24 2341.5,-24 2341.5,-30 2335.5,-36 2329.5,-36\"/>\n<text text-anchor=\"middle\" x=\"2314.5\" y=\"-14.3\" font-family=\"Helvetica,sans-Serif\" font-size=\"14.00\">(...)</text>\n</g>\n<!-- 336&#45;&gt;338 -->\n<g id=\"edge58\" class=\"edge\">\n<title>336&#45;&gt;338</title>\n<path fill=\"none\" stroke=\"black\" d=\"M2311.68,-71.76C2312.13,-63.24 2312.6,-54.44 2313.03,-46.53\"/>\n<polygon fill=\"black\" stroke=\"black\" points=\"2316.53,-46.58 2313.57,-36.41 2309.54,-46.2 2316.53,-46.58\"/>\n</g>\n<!-- 356 -->\n<g id=\"node61\" class=\"node\">\n<title>356</title>\n<path fill=\"#c0c0c0\" stroke=\"black\" d=\"M2439.5,-36C2439.5,-36 2409.5,-36 2409.5,-36 2403.5,-36 2397.5,-30 2397.5,-24 2397.5,-24 2397.5,-12 2397.5,-12 2397.5,-6 2403.5,0 2409.5,0 2409.5,0 2439.5,0 2439.5,0 2445.5,0 2451.5,-6 2451.5,-12 2451.5,-12 2451.5,-24 2451.5,-24 2451.5,-30 2445.5,-36 2439.5,-36\"/>\n<text text-anchor=\"middle\" x=\"2424.5\" y=\"-14.3\" font-family=\"Helvetica,sans-Serif\" font-size=\"14.00\">(...)</text>\n</g>\n<!-- 355&#45;&gt;356 -->\n<g id=\"edge60\" class=\"edge\">\n<title>355&#45;&gt;356</title>\n<path fill=\"none\" stroke=\"black\" d=\"M2443.12,-71.76C2440.04,-63.04 2436.87,-54.04 2434.03,-45.99\"/>\n<polygon fill=\"black\" stroke=\"black\" points=\"2437.27,-44.67 2430.64,-36.41 2430.67,-47 2437.27,-44.67\"/>\n</g>\n<!-- 455 -->\n<g id=\"node62\" class=\"node\">\n<title>455</title>\n<path fill=\"#c0c0c0\" stroke=\"black\" d=\"M2511.5,-36C2511.5,-36 2481.5,-36 2481.5,-36 2475.5,-36 2469.5,-30 2469.5,-24 2469.5,-24 2469.5,-12 2469.5,-12 2469.5,-6 2475.5,0 2481.5,0 2481.5,0 2511.5,0 2511.5,0 2517.5,0 2523.5,-6 2523.5,-12 2523.5,-12 2523.5,-24 2523.5,-24 2523.5,-30 2517.5,-36 2511.5,-36\"/>\n<text text-anchor=\"middle\" x=\"2496.5\" y=\"-14.3\" font-family=\"Helvetica,sans-Serif\" font-size=\"14.00\">(...)</text>\n</g>\n<!-- 355&#45;&gt;455 -->\n<g id=\"edge61\" class=\"edge\">\n<title>355&#45;&gt;455</title>\n<path fill=\"none\" stroke=\"black\" d=\"M2474.49,-71.76C2478.17,-62.94 2481.97,-53.84 2485.35,-45.72\"/>\n<polygon fill=\"black\" stroke=\"black\" points=\"2488.62,-46.98 2489.24,-36.41 2482.16,-44.29 2488.62,-46.98\"/>\n</g>\n<!-- 457 -->\n<g id=\"node64\" class=\"node\">\n<title>457</title>\n<path fill=\"#fae7d9\" stroke=\"black\" d=\"M2670.5,-155C2670.5,-155 2556.5,-155 2556.5,-155 2550.5,-155 2544.5,-149 2544.5,-143 2544.5,-143 2544.5,-84 2544.5,-84 2544.5,-78 2550.5,-72 2556.5,-72 2556.5,-72 2670.5,-72 2670.5,-72 2676.5,-72 2682.5,-78 2682.5,-84 2682.5,-84 2682.5,-143 2682.5,-143 2682.5,-149 2676.5,-155 2670.5,-155\"/>\n<text text-anchor=\"middle\" x=\"2613.5\" y=\"-139.8\" font-family=\"Helvetica,sans-Serif\" font-size=\"14.00\">diastolic_bp &lt;= 57.0</text>\n<text text-anchor=\"middle\" x=\"2613.5\" y=\"-124.8\" font-family=\"Helvetica,sans-Serif\" font-size=\"14.00\">entropy = 0.992</text>\n<text text-anchor=\"middle\" x=\"2613.5\" y=\"-109.8\" font-family=\"Helvetica,sans-Serif\" font-size=\"14.00\">samples = 114</text>\n<text text-anchor=\"middle\" x=\"2613.5\" y=\"-94.8\" font-family=\"Helvetica,sans-Serif\" font-size=\"14.00\">value = [63.0, 51.0]</text>\n<text text-anchor=\"middle\" x=\"2613.5\" y=\"-79.8\" font-family=\"Helvetica,sans-Serif\" font-size=\"14.00\">class = heart_no</text>\n</g>\n<!-- 456&#45;&gt;457 -->\n<g id=\"edge63\" class=\"edge\">\n<title>456&#45;&gt;457</title>\n<path fill=\"none\" stroke=\"black\" d=\"M2660.52,-190.91C2655.1,-182.1 2649.32,-172.7 2643.72,-163.61\"/>\n<polygon fill=\"black\" stroke=\"black\" points=\"2646.66,-161.7 2638.44,-155.02 2640.7,-165.37 2646.66,-161.7\"/>\n</g>\n<!-- 472 -->\n<g id=\"node67\" class=\"node\">\n<title>472</title>\n<path fill=\"#e78c4b\" stroke=\"black\" d=\"M2804.5,-155C2804.5,-155 2712.5,-155 2712.5,-155 2706.5,-155 2700.5,-149 2700.5,-143 2700.5,-143 2700.5,-84 2700.5,-84 2700.5,-78 2706.5,-72 2712.5,-72 2712.5,-72 2804.5,-72 2804.5,-72 2810.5,-72 2816.5,-78 2816.5,-84 2816.5,-84 2816.5,-143 2816.5,-143 2816.5,-149 2810.5,-155 2804.5,-155\"/>\n<text text-anchor=\"middle\" x=\"2758.5\" y=\"-139.8\" font-family=\"Helvetica,sans-Serif\" font-size=\"14.00\">age &lt;= 73.5</text>\n<text text-anchor=\"middle\" x=\"2758.5\" y=\"-124.8\" font-family=\"Helvetica,sans-Serif\" font-size=\"14.00\">entropy = 0.41</text>\n<text text-anchor=\"middle\" x=\"2758.5\" y=\"-109.8\" font-family=\"Helvetica,sans-Serif\" font-size=\"14.00\">samples = 85</text>\n<text text-anchor=\"middle\" x=\"2758.5\" y=\"-94.8\" font-family=\"Helvetica,sans-Serif\" font-size=\"14.00\">value = [78, 7]</text>\n<text text-anchor=\"middle\" x=\"2758.5\" y=\"-79.8\" font-family=\"Helvetica,sans-Serif\" font-size=\"14.00\">class = heart_no</text>\n</g>\n<!-- 456&#45;&gt;472 -->\n<g id=\"edge66\" class=\"edge\">\n<title>456&#45;&gt;472</title>\n<path fill=\"none\" stroke=\"black\" d=\"M2710.83,-190.91C2716.32,-182.1 2722.19,-172.7 2727.86,-163.61\"/>\n<polygon fill=\"black\" stroke=\"black\" points=\"2730.89,-165.36 2733.22,-155.02 2724.95,-161.65 2730.89,-165.36\"/>\n</g>\n<!-- 458 -->\n<g id=\"node65\" class=\"node\">\n<title>458</title>\n<path fill=\"#c0c0c0\" stroke=\"black\" d=\"M2589.5,-36C2589.5,-36 2559.5,-36 2559.5,-36 2553.5,-36 2547.5,-30 2547.5,-24 2547.5,-24 2547.5,-12 2547.5,-12 2547.5,-6 2553.5,0 2559.5,0 2559.5,0 2589.5,0 2589.5,0 2595.5,0 2601.5,-6 2601.5,-12 2601.5,-12 2601.5,-24 2601.5,-24 2601.5,-30 2595.5,-36 2589.5,-36\"/>\n<text text-anchor=\"middle\" x=\"2574.5\" y=\"-14.3\" font-family=\"Helvetica,sans-Serif\" font-size=\"14.00\">(...)</text>\n</g>\n<!-- 457&#45;&gt;458 -->\n<g id=\"edge64\" class=\"edge\">\n<title>457&#45;&gt;458</title>\n<path fill=\"none\" stroke=\"black\" d=\"M2596.51,-71.76C2592.83,-62.94 2589.03,-53.84 2585.65,-45.72\"/>\n<polygon fill=\"black\" stroke=\"black\" points=\"2588.84,-44.29 2581.76,-36.41 2582.38,-46.98 2588.84,-44.29\"/>\n</g>\n<!-- 461 -->\n<g id=\"node66\" class=\"node\">\n<title>461</title>\n<path fill=\"#c0c0c0\" stroke=\"black\" d=\"M2661.5,-36C2661.5,-36 2631.5,-36 2631.5,-36 2625.5,-36 2619.5,-30 2619.5,-24 2619.5,-24 2619.5,-12 2619.5,-12 2619.5,-6 2625.5,0 2631.5,0 2631.5,0 2661.5,0 2661.5,0 2667.5,0 2673.5,-6 2673.5,-12 2673.5,-12 2673.5,-24 2673.5,-24 2673.5,-30 2667.5,-36 2661.5,-36\"/>\n<text text-anchor=\"middle\" x=\"2646.5\" y=\"-14.3\" font-family=\"Helvetica,sans-Serif\" font-size=\"14.00\">(...)</text>\n</g>\n<!-- 457&#45;&gt;461 -->\n<g id=\"edge65\" class=\"edge\">\n<title>457&#45;&gt;461</title>\n<path fill=\"none\" stroke=\"black\" d=\"M2627.88,-71.76C2630.96,-63.04 2634.13,-54.04 2636.97,-45.99\"/>\n<polygon fill=\"black\" stroke=\"black\" points=\"2640.33,-47 2640.36,-36.41 2633.73,-44.67 2640.33,-47\"/>\n</g>\n<!-- 473 -->\n<g id=\"node68\" class=\"node\">\n<title>473</title>\n<path fill=\"#c0c0c0\" stroke=\"black\" d=\"M2733.5,-36C2733.5,-36 2703.5,-36 2703.5,-36 2697.5,-36 2691.5,-30 2691.5,-24 2691.5,-24 2691.5,-12 2691.5,-12 2691.5,-6 2697.5,0 2703.5,0 2703.5,0 2733.5,0 2733.5,0 2739.5,0 2745.5,-6 2745.5,-12 2745.5,-12 2745.5,-24 2745.5,-24 2745.5,-30 2739.5,-36 2733.5,-36\"/>\n<text text-anchor=\"middle\" x=\"2718.5\" y=\"-14.3\" font-family=\"Helvetica,sans-Serif\" font-size=\"14.00\">(...)</text>\n</g>\n<!-- 472&#45;&gt;473 -->\n<g id=\"edge67\" class=\"edge\">\n<title>472&#45;&gt;473</title>\n<path fill=\"none\" stroke=\"black\" d=\"M2741.07,-71.76C2737.3,-62.94 2733.4,-53.84 2729.93,-45.72\"/>\n<polygon fill=\"black\" stroke=\"black\" points=\"2733.1,-44.22 2725.95,-36.41 2726.66,-46.98 2733.1,-44.22\"/>\n</g>\n<!-- 474 -->\n<g id=\"node69\" class=\"node\">\n<title>474</title>\n<path fill=\"#c0c0c0\" stroke=\"black\" d=\"M2805.5,-36C2805.5,-36 2775.5,-36 2775.5,-36 2769.5,-36 2763.5,-30 2763.5,-24 2763.5,-24 2763.5,-12 2763.5,-12 2763.5,-6 2769.5,0 2775.5,0 2775.5,0 2805.5,0 2805.5,0 2811.5,0 2817.5,-6 2817.5,-12 2817.5,-12 2817.5,-24 2817.5,-24 2817.5,-30 2811.5,-36 2805.5,-36\"/>\n<text text-anchor=\"middle\" x=\"2790.5\" y=\"-14.3\" font-family=\"Helvetica,sans-Serif\" font-size=\"14.00\">(...)</text>\n</g>\n<!-- 472&#45;&gt;474 -->\n<g id=\"edge68\" class=\"edge\">\n<title>472&#45;&gt;474</title>\n<path fill=\"none\" stroke=\"black\" d=\"M2772.44,-71.76C2775.43,-63.04 2778.51,-54.04 2781.26,-45.99\"/>\n<polygon fill=\"black\" stroke=\"black\" points=\"2784.62,-47 2784.54,-36.41 2777.99,-44.73 2784.62,-47\"/>\n</g>\n<!-- 482 -->\n<g id=\"node71\" class=\"node\">\n<title>482</title>\n<path fill=\"#69b5eb\" stroke=\"black\" d=\"M3018.5,-274C3018.5,-274 2862.5,-274 2862.5,-274 2856.5,-274 2850.5,-268 2850.5,-262 2850.5,-262 2850.5,-203 2850.5,-203 2850.5,-197 2856.5,-191 2862.5,-191 2862.5,-191 3018.5,-191 3018.5,-191 3024.5,-191 3030.5,-197 3030.5,-203 3030.5,-203 3030.5,-262 3030.5,-262 3030.5,-268 3024.5,-274 3018.5,-274\"/>\n<text text-anchor=\"middle\" x=\"2940.5\" y=\"-258.8\" font-family=\"Helvetica,sans-Serif\" font-size=\"14.00\">blood_cholesterol &lt;= 3.375</text>\n<text text-anchor=\"middle\" x=\"2940.5\" y=\"-243.8\" font-family=\"Helvetica,sans-Serif\" font-size=\"14.00\">entropy = 0.71</text>\n<text text-anchor=\"middle\" x=\"2940.5\" y=\"-228.8\" font-family=\"Helvetica,sans-Serif\" font-size=\"14.00\">samples = 299</text>\n<text text-anchor=\"middle\" x=\"2940.5\" y=\"-213.8\" font-family=\"Helvetica,sans-Serif\" font-size=\"14.00\">value = [58, 241]</text>\n<text text-anchor=\"middle\" x=\"2940.5\" y=\"-198.8\" font-family=\"Helvetica,sans-Serif\" font-size=\"14.00\">class = heart_yes</text>\n</g>\n<!-- 481&#45;&gt;482 -->\n<g id=\"edge70\" class=\"edge\">\n<title>481&#45;&gt;482</title>\n<path fill=\"none\" stroke=\"black\" d=\"M2940.5,-309.91C2940.5,-301.65 2940.5,-292.86 2940.5,-284.3\"/>\n<polygon fill=\"black\" stroke=\"black\" points=\"2944,-284.02 2940.5,-274.02 2937,-284.02 2944,-284.02\"/>\n</g>\n<!-- 529 -->\n<g id=\"node76\" class=\"node\">\n<title>529</title>\n<path fill=\"#a9d4f4\" stroke=\"black\" d=\"M3276,-274C3276,-274 3105,-274 3105,-274 3099,-274 3093,-268 3093,-262 3093,-262 3093,-203 3093,-203 3093,-197 3099,-191 3105,-191 3105,-191 3276,-191 3276,-191 3282,-191 3288,-197 3288,-203 3288,-203 3288,-262 3288,-262 3288,-268 3282,-274 3276,-274\"/>\n<text text-anchor=\"middle\" x=\"3190.5\" y=\"-258.8\" font-family=\"Helvetica,sans-Serif\" font-size=\"14.00\">blood_pressure_sys &lt;= 101.0</text>\n<text text-anchor=\"middle\" x=\"3190.5\" y=\"-243.8\" font-family=\"Helvetica,sans-Serif\" font-size=\"14.00\">entropy = 0.943</text>\n<text text-anchor=\"middle\" x=\"3190.5\" y=\"-228.8\" font-family=\"Helvetica,sans-Serif\" font-size=\"14.00\">samples = 230</text>\n<text text-anchor=\"middle\" x=\"3190.5\" y=\"-213.8\" font-family=\"Helvetica,sans-Serif\" font-size=\"14.00\">value = [83, 147]</text>\n<text text-anchor=\"middle\" x=\"3190.5\" y=\"-198.8\" font-family=\"Helvetica,sans-Serif\" font-size=\"14.00\">class = heart_yes</text>\n</g>\n<!-- 481&#45;&gt;529 -->\n<g id=\"edge75\" class=\"edge\">\n<title>481&#45;&gt;529</title>\n<path fill=\"none\" stroke=\"black\" d=\"M3015.51,-315.4C3040.34,-303.78 3068.32,-290.68 3094.51,-278.43\"/>\n<polygon fill=\"black\" stroke=\"black\" points=\"3096.11,-281.54 3103.68,-274.13 3093.14,-275.2 3096.11,-281.54\"/>\n</g>\n<!-- 483 -->\n<g id=\"node72\" class=\"node\">\n<title>483</title>\n<path fill=\"#399de5\" stroke=\"black\" d=\"M2944.5,-147.5C2944.5,-147.5 2846.5,-147.5 2846.5,-147.5 2840.5,-147.5 2834.5,-141.5 2834.5,-135.5 2834.5,-135.5 2834.5,-91.5 2834.5,-91.5 2834.5,-85.5 2840.5,-79.5 2846.5,-79.5 2846.5,-79.5 2944.5,-79.5 2944.5,-79.5 2950.5,-79.5 2956.5,-85.5 2956.5,-91.5 2956.5,-91.5 2956.5,-135.5 2956.5,-135.5 2956.5,-141.5 2950.5,-147.5 2944.5,-147.5\"/>\n<text text-anchor=\"middle\" x=\"2895.5\" y=\"-132.3\" font-family=\"Helvetica,sans-Serif\" font-size=\"14.00\">entropy = 0.0</text>\n<text text-anchor=\"middle\" x=\"2895.5\" y=\"-117.3\" font-family=\"Helvetica,sans-Serif\" font-size=\"14.00\">samples = 46</text>\n<text text-anchor=\"middle\" x=\"2895.5\" y=\"-102.3\" font-family=\"Helvetica,sans-Serif\" font-size=\"14.00\">value = [0, 46]</text>\n<text text-anchor=\"middle\" x=\"2895.5\" y=\"-87.3\" font-family=\"Helvetica,sans-Serif\" font-size=\"14.00\">class = heart_yes</text>\n</g>\n<!-- 482&#45;&gt;483 -->\n<g id=\"edge71\" class=\"edge\">\n<title>482&#45;&gt;483</title>\n<path fill=\"none\" stroke=\"black\" d=\"M2924.89,-190.91C2920.69,-179.98 2916.13,-168.14 2911.89,-157.11\"/>\n<polygon fill=\"black\" stroke=\"black\" points=\"2915.11,-155.74 2908.26,-147.67 2908.58,-158.26 2915.11,-155.74\"/>\n</g>\n<!-- 484 -->\n<g id=\"node73\" class=\"node\">\n<title>484</title>\n<path fill=\"#74baed\" stroke=\"black\" d=\"M3102,-155C3102,-155 2987,-155 2987,-155 2981,-155 2975,-149 2975,-143 2975,-143 2975,-84 2975,-84 2975,-78 2981,-72 2987,-72 2987,-72 3102,-72 3102,-72 3108,-72 3114,-78 3114,-84 3114,-84 3114,-143 3114,-143 3114,-149 3108,-155 3102,-155\"/>\n<text text-anchor=\"middle\" x=\"3044.5\" y=\"-139.8\" font-family=\"Helvetica,sans-Serif\" font-size=\"14.00\">drink_alcohol &lt;= 0.5</text>\n<text text-anchor=\"middle\" x=\"3044.5\" y=\"-124.8\" font-family=\"Helvetica,sans-Serif\" font-size=\"14.00\">entropy = 0.777</text>\n<text text-anchor=\"middle\" x=\"3044.5\" y=\"-109.8\" font-family=\"Helvetica,sans-Serif\" font-size=\"14.00\">samples = 253</text>\n<text text-anchor=\"middle\" x=\"3044.5\" y=\"-94.8\" font-family=\"Helvetica,sans-Serif\" font-size=\"14.00\">value = [58, 195]</text>\n<text text-anchor=\"middle\" x=\"3044.5\" y=\"-79.8\" font-family=\"Helvetica,sans-Serif\" font-size=\"14.00\">class = heart_yes</text>\n</g>\n<!-- 482&#45;&gt;484 -->\n<g id=\"edge72\" class=\"edge\">\n<title>482&#45;&gt;484</title>\n<path fill=\"none\" stroke=\"black\" d=\"M2976.58,-190.91C2984.65,-181.83 2993.28,-172.12 3001.59,-162.77\"/>\n<polygon fill=\"black\" stroke=\"black\" points=\"3004.45,-164.82 3008.48,-155.02 2999.22,-160.17 3004.45,-164.82\"/>\n</g>\n<!-- 485 -->\n<g id=\"node74\" class=\"node\">\n<title>485</title>\n<path fill=\"#c0c0c0\" stroke=\"black\" d=\"M3023.5,-36C3023.5,-36 2993.5,-36 2993.5,-36 2987.5,-36 2981.5,-30 2981.5,-24 2981.5,-24 2981.5,-12 2981.5,-12 2981.5,-6 2987.5,0 2993.5,0 2993.5,0 3023.5,0 3023.5,0 3029.5,0 3035.5,-6 3035.5,-12 3035.5,-12 3035.5,-24 3035.5,-24 3035.5,-30 3029.5,-36 3023.5,-36\"/>\n<text text-anchor=\"middle\" x=\"3008.5\" y=\"-14.3\" font-family=\"Helvetica,sans-Serif\" font-size=\"14.00\">(...)</text>\n</g>\n<!-- 484&#45;&gt;485 -->\n<g id=\"edge73\" class=\"edge\">\n<title>484&#45;&gt;485</title>\n<path fill=\"none\" stroke=\"black\" d=\"M3028.81,-71.76C3025.46,-63.04 3021.99,-54.04 3018.89,-45.99\"/>\n<polygon fill=\"black\" stroke=\"black\" points=\"3022.06,-44.48 3015.2,-36.41 3015.53,-46.99 3022.06,-44.48\"/>\n</g>\n<!-- 494 -->\n<g id=\"node75\" class=\"node\">\n<title>494</title>\n<path fill=\"#c0c0c0\" stroke=\"black\" d=\"M3095.5,-36C3095.5,-36 3065.5,-36 3065.5,-36 3059.5,-36 3053.5,-30 3053.5,-24 3053.5,-24 3053.5,-12 3053.5,-12 3053.5,-6 3059.5,0 3065.5,0 3065.5,0 3095.5,0 3095.5,0 3101.5,0 3107.5,-6 3107.5,-12 3107.5,-12 3107.5,-24 3107.5,-24 3107.5,-30 3101.5,-36 3095.5,-36\"/>\n<text text-anchor=\"middle\" x=\"3080.5\" y=\"-14.3\" font-family=\"Helvetica,sans-Serif\" font-size=\"14.00\">(...)</text>\n</g>\n<!-- 484&#45;&gt;494 -->\n<g id=\"edge74\" class=\"edge\">\n<title>484&#45;&gt;494</title>\n<path fill=\"none\" stroke=\"black\" d=\"M3060.19,-71.76C3063.54,-63.04 3067.01,-54.04 3070.11,-45.99\"/>\n<polygon fill=\"black\" stroke=\"black\" points=\"3073.47,-46.99 3073.8,-36.41 3066.94,-44.48 3073.47,-46.99\"/>\n</g>\n<!-- 530 -->\n<g id=\"node77\" class=\"node\">\n<title>530</title>\n<path fill=\"#e58139\" stroke=\"black\" d=\"M3236.5,-147.5C3236.5,-147.5 3144.5,-147.5 3144.5,-147.5 3138.5,-147.5 3132.5,-141.5 3132.5,-135.5 3132.5,-135.5 3132.5,-91.5 3132.5,-91.5 3132.5,-85.5 3138.5,-79.5 3144.5,-79.5 3144.5,-79.5 3236.5,-79.5 3236.5,-79.5 3242.5,-79.5 3248.5,-85.5 3248.5,-91.5 3248.5,-91.5 3248.5,-135.5 3248.5,-135.5 3248.5,-141.5 3242.5,-147.5 3236.5,-147.5\"/>\n<text text-anchor=\"middle\" x=\"3190.5\" y=\"-132.3\" font-family=\"Helvetica,sans-Serif\" font-size=\"14.00\">entropy = 0.0</text>\n<text text-anchor=\"middle\" x=\"3190.5\" y=\"-117.3\" font-family=\"Helvetica,sans-Serif\" font-size=\"14.00\">samples = 9</text>\n<text text-anchor=\"middle\" x=\"3190.5\" y=\"-102.3\" font-family=\"Helvetica,sans-Serif\" font-size=\"14.00\">value = [9, 0]</text>\n<text text-anchor=\"middle\" x=\"3190.5\" y=\"-87.3\" font-family=\"Helvetica,sans-Serif\" font-size=\"14.00\">class = heart_no</text>\n</g>\n<!-- 529&#45;&gt;530 -->\n<g id=\"edge76\" class=\"edge\">\n<title>529&#45;&gt;530</title>\n<path fill=\"none\" stroke=\"black\" d=\"M3190.5,-190.91C3190.5,-180.2 3190.5,-168.62 3190.5,-157.78\"/>\n<polygon fill=\"black\" stroke=\"black\" points=\"3194,-157.67 3190.5,-147.67 3187,-157.67 3194,-157.67\"/>\n</g>\n<!-- 531 -->\n<g id=\"node78\" class=\"node\">\n<title>531</title>\n<path fill=\"#9dcef2\" stroke=\"black\" d=\"M3382.5,-155C3382.5,-155 3278.5,-155 3278.5,-155 3272.5,-155 3266.5,-149 3266.5,-143 3266.5,-143 3266.5,-84 3266.5,-84 3266.5,-78 3272.5,-72 3278.5,-72 3278.5,-72 3382.5,-72 3382.5,-72 3388.5,-72 3394.5,-78 3394.5,-84 3394.5,-84 3394.5,-143 3394.5,-143 3394.5,-149 3388.5,-155 3382.5,-155\"/>\n<text text-anchor=\"middle\" x=\"3330.5\" y=\"-139.8\" font-family=\"Helvetica,sans-Serif\" font-size=\"14.00\">calories &lt;= 2746.0</text>\n<text text-anchor=\"middle\" x=\"3330.5\" y=\"-124.8\" font-family=\"Helvetica,sans-Serif\" font-size=\"14.00\">entropy = 0.92</text>\n<text text-anchor=\"middle\" x=\"3330.5\" y=\"-109.8\" font-family=\"Helvetica,sans-Serif\" font-size=\"14.00\">samples = 221</text>\n<text text-anchor=\"middle\" x=\"3330.5\" y=\"-94.8\" font-family=\"Helvetica,sans-Serif\" font-size=\"14.00\">value = [74, 147]</text>\n<text text-anchor=\"middle\" x=\"3330.5\" y=\"-79.8\" font-family=\"Helvetica,sans-Serif\" font-size=\"14.00\">class = heart_yes</text>\n</g>\n<!-- 529&#45;&gt;531 -->\n<g id=\"edge77\" class=\"edge\">\n<title>529&#45;&gt;531</title>\n<path fill=\"none\" stroke=\"black\" d=\"M3239.07,-190.91C3250.37,-181.47 3262.48,-171.34 3274.08,-161.65\"/>\n<polygon fill=\"black\" stroke=\"black\" points=\"3276.58,-164.12 3282.01,-155.02 3272.1,-158.75 3276.58,-164.12\"/>\n</g>\n<!-- 532 -->\n<g id=\"node79\" class=\"node\">\n<title>532</title>\n<path fill=\"#c0c0c0\" stroke=\"black\" d=\"M3277.5,-36C3277.5,-36 3247.5,-36 3247.5,-36 3241.5,-36 3235.5,-30 3235.5,-24 3235.5,-24 3235.5,-12 3235.5,-12 3235.5,-6 3241.5,0 3247.5,0 3247.5,0 3277.5,0 3277.5,0 3283.5,0 3289.5,-6 3289.5,-12 3289.5,-12 3289.5,-24 3289.5,-24 3289.5,-30 3283.5,-36 3277.5,-36\"/>\n<text text-anchor=\"middle\" x=\"3262.5\" y=\"-14.3\" font-family=\"Helvetica,sans-Serif\" font-size=\"14.00\">(...)</text>\n</g>\n<!-- 531&#45;&gt;532 -->\n<g id=\"edge78\" class=\"edge\">\n<title>531&#45;&gt;532</title>\n<path fill=\"none\" stroke=\"black\" d=\"M3300.87,-71.76C3294.18,-62.56 3287.25,-53.04 3281.16,-44.66\"/>\n<polygon fill=\"black\" stroke=\"black\" points=\"3283.87,-42.43 3275.16,-36.41 3278.21,-46.55 3283.87,-42.43\"/>\n</g>\n<!-- 563 -->\n<g id=\"node80\" class=\"node\">\n<title>563</title>\n<path fill=\"#c0c0c0\" stroke=\"black\" d=\"M3349.5,-36C3349.5,-36 3319.5,-36 3319.5,-36 3313.5,-36 3307.5,-30 3307.5,-24 3307.5,-24 3307.5,-12 3307.5,-12 3307.5,-6 3313.5,0 3319.5,0 3319.5,0 3349.5,0 3349.5,0 3355.5,0 3361.5,-6 3361.5,-12 3361.5,-12 3361.5,-24 3361.5,-24 3361.5,-30 3355.5,-36 3349.5,-36\"/>\n<text text-anchor=\"middle\" x=\"3334.5\" y=\"-14.3\" font-family=\"Helvetica,sans-Serif\" font-size=\"14.00\">(...)</text>\n</g>\n<!-- 531&#45;&gt;563 -->\n<g id=\"edge79\" class=\"edge\">\n<title>531&#45;&gt;563</title>\n<path fill=\"none\" stroke=\"black\" d=\"M3332.24,-71.76C3332.61,-63.24 3332.98,-54.44 3333.32,-46.53\"/>\n<polygon fill=\"black\" stroke=\"black\" points=\"3336.82,-46.55 3333.76,-36.41 3329.83,-46.25 3336.82,-46.55\"/>\n</g>\n<!-- 571 -->\n<g id=\"node82\" class=\"node\">\n<title>571</title>\n<path fill=\"#bddef6\" stroke=\"black\" d=\"M3647.5,-393C3647.5,-393 3549.5,-393 3549.5,-393 3543.5,-393 3537.5,-387 3537.5,-381 3537.5,-381 3537.5,-322 3537.5,-322 3537.5,-316 3543.5,-310 3549.5,-310 3549.5,-310 3647.5,-310 3647.5,-310 3653.5,-310 3659.5,-316 3659.5,-322 3659.5,-322 3659.5,-381 3659.5,-381 3659.5,-387 3653.5,-393 3647.5,-393\"/>\n<text text-anchor=\"middle\" x=\"3598.5\" y=\"-377.8\" font-family=\"Helvetica,sans-Serif\" font-size=\"14.00\">BMI &lt;= 27.05</text>\n<text text-anchor=\"middle\" x=\"3598.5\" y=\"-362.8\" font-family=\"Helvetica,sans-Serif\" font-size=\"14.00\">entropy = 0.971</text>\n<text text-anchor=\"middle\" x=\"3598.5\" y=\"-347.8\" font-family=\"Helvetica,sans-Serif\" font-size=\"14.00\">samples = 60</text>\n<text text-anchor=\"middle\" x=\"3598.5\" y=\"-332.8\" font-family=\"Helvetica,sans-Serif\" font-size=\"14.00\">value = [24, 36]</text>\n<text text-anchor=\"middle\" x=\"3598.5\" y=\"-317.8\" font-family=\"Helvetica,sans-Serif\" font-size=\"14.00\">class = heart_yes</text>\n</g>\n<!-- 570&#45;&gt;571 -->\n<g id=\"edge81\" class=\"edge\">\n<title>570&#45;&gt;571</title>\n<path fill=\"none\" stroke=\"black\" d=\"M3598.5,-428.91C3598.5,-420.65 3598.5,-411.86 3598.5,-403.3\"/>\n<polygon fill=\"black\" stroke=\"black\" points=\"3602,-403.02 3598.5,-393.02 3595,-403.02 3602,-403.02\"/>\n</g>\n<!-- 580 -->\n<g id=\"node89\" class=\"node\">\n<title>580</title>\n<path fill=\"#54aae9\" stroke=\"black\" d=\"M3980,-393C3980,-393 3809,-393 3809,-393 3803,-393 3797,-387 3797,-381 3797,-381 3797,-322 3797,-322 3797,-316 3803,-310 3809,-310 3809,-310 3980,-310 3980,-310 3986,-310 3992,-316 3992,-322 3992,-322 3992,-381 3992,-381 3992,-387 3986,-393 3980,-393\"/>\n<text text-anchor=\"middle\" x=\"3894.5\" y=\"-377.8\" font-family=\"Helvetica,sans-Serif\" font-size=\"14.00\">blood_pressure_sys &lt;= 135.0</text>\n<text text-anchor=\"middle\" x=\"3894.5\" y=\"-362.8\" font-family=\"Helvetica,sans-Serif\" font-size=\"14.00\">entropy = 0.53</text>\n<text text-anchor=\"middle\" x=\"3894.5\" y=\"-347.8\" font-family=\"Helvetica,sans-Serif\" font-size=\"14.00\">samples = 823</text>\n<text text-anchor=\"middle\" x=\"3894.5\" y=\"-332.8\" font-family=\"Helvetica,sans-Serif\" font-size=\"14.00\">value = [99, 724]</text>\n<text text-anchor=\"middle\" x=\"3894.5\" y=\"-317.8\" font-family=\"Helvetica,sans-Serif\" font-size=\"14.00\">class = heart_yes</text>\n</g>\n<!-- 570&#45;&gt;580 -->\n<g id=\"edge88\" class=\"edge\">\n<title>570&#45;&gt;580</title>\n<path fill=\"none\" stroke=\"black\" d=\"M3688.52,-433.92C3719.71,-421.59 3754.98,-407.65 3787.42,-394.83\"/>\n<polygon fill=\"black\" stroke=\"black\" points=\"3788.92,-398 3796.93,-391.07 3786.34,-391.49 3788.92,-398\"/>\n</g>\n<!-- 572 -->\n<g id=\"node83\" class=\"node\">\n<title>572</title>\n<path fill=\"#6ab6ec\" stroke=\"black\" d=\"M3592,-274C3592,-274 3443,-274 3443,-274 3437,-274 3431,-268 3431,-262 3431,-262 3431,-203 3431,-203 3431,-197 3437,-191 3443,-191 3443,-191 3592,-191 3592,-191 3598,-191 3604,-197 3604,-203 3604,-203 3604,-262 3604,-262 3604,-268 3598,-274 3592,-274\"/>\n<text text-anchor=\"middle\" x=\"3517.5\" y=\"-258.8\" font-family=\"Helvetica,sans-Serif\" font-size=\"14.00\">blood_cholesterol &lt;= 3.48</text>\n<text text-anchor=\"middle\" x=\"3517.5\" y=\"-243.8\" font-family=\"Helvetica,sans-Serif\" font-size=\"14.00\">entropy = 0.722</text>\n<text text-anchor=\"middle\" x=\"3517.5\" y=\"-228.8\" font-family=\"Helvetica,sans-Serif\" font-size=\"14.00\">samples = 45</text>\n<text text-anchor=\"middle\" x=\"3517.5\" y=\"-213.8\" font-family=\"Helvetica,sans-Serif\" font-size=\"14.00\">value = [9, 36]</text>\n<text text-anchor=\"middle\" x=\"3517.5\" y=\"-198.8\" font-family=\"Helvetica,sans-Serif\" font-size=\"14.00\">class = heart_yes</text>\n</g>\n<!-- 571&#45;&gt;572 -->\n<g id=\"edge82\" class=\"edge\">\n<title>571&#45;&gt;572</title>\n<path fill=\"none\" stroke=\"black\" d=\"M3570.4,-309.91C3564.24,-301.01 3557.66,-291.51 3551.31,-282.33\"/>\n<polygon fill=\"black\" stroke=\"black\" points=\"3554.12,-280.25 3545.55,-274.02 3548.37,-284.24 3554.12,-280.25\"/>\n</g>\n<!-- 579 -->\n<g id=\"node88\" class=\"node\">\n<title>579</title>\n<path fill=\"#e58139\" stroke=\"black\" d=\"M3726.5,-266.5C3726.5,-266.5 3634.5,-266.5 3634.5,-266.5 3628.5,-266.5 3622.5,-260.5 3622.5,-254.5 3622.5,-254.5 3622.5,-210.5 3622.5,-210.5 3622.5,-204.5 3628.5,-198.5 3634.5,-198.5 3634.5,-198.5 3726.5,-198.5 3726.5,-198.5 3732.5,-198.5 3738.5,-204.5 3738.5,-210.5 3738.5,-210.5 3738.5,-254.5 3738.5,-254.5 3738.5,-260.5 3732.5,-266.5 3726.5,-266.5\"/>\n<text text-anchor=\"middle\" x=\"3680.5\" y=\"-251.3\" font-family=\"Helvetica,sans-Serif\" font-size=\"14.00\">entropy = 0.0</text>\n<text text-anchor=\"middle\" x=\"3680.5\" y=\"-236.3\" font-family=\"Helvetica,sans-Serif\" font-size=\"14.00\">samples = 15</text>\n<text text-anchor=\"middle\" x=\"3680.5\" y=\"-221.3\" font-family=\"Helvetica,sans-Serif\" font-size=\"14.00\">value = [15, 0]</text>\n<text text-anchor=\"middle\" x=\"3680.5\" y=\"-206.3\" font-family=\"Helvetica,sans-Serif\" font-size=\"14.00\">class = heart_no</text>\n</g>\n<!-- 571&#45;&gt;579 -->\n<g id=\"edge87\" class=\"edge\">\n<title>571&#45;&gt;579</title>\n<path fill=\"none\" stroke=\"black\" d=\"M3626.95,-309.91C3634.84,-298.65 3643.41,-286.42 3651.34,-275.11\"/>\n<polygon fill=\"black\" stroke=\"black\" points=\"3654.38,-276.86 3657.25,-266.67 3648.65,-272.85 3654.38,-276.86\"/>\n</g>\n<!-- 573 -->\n<g id=\"node84\" class=\"node\">\n<title>573</title>\n<path fill=\"#4fa8e8\" stroke=\"black\" d=\"M3540,-155C3540,-155 3425,-155 3425,-155 3419,-155 3413,-149 3413,-143 3413,-143 3413,-84 3413,-84 3413,-78 3419,-72 3425,-72 3425,-72 3540,-72 3540,-72 3546,-72 3552,-78 3552,-84 3552,-84 3552,-143 3552,-143 3552,-149 3546,-155 3540,-155\"/>\n<text text-anchor=\"middle\" x=\"3482.5\" y=\"-139.8\" font-family=\"Helvetica,sans-Serif\" font-size=\"14.00\">drink_alcohol &lt;= 0.5</text>\n<text text-anchor=\"middle\" x=\"3482.5\" y=\"-124.8\" font-family=\"Helvetica,sans-Serif\" font-size=\"14.00\">entropy = 0.469</text>\n<text text-anchor=\"middle\" x=\"3482.5\" y=\"-109.8\" font-family=\"Helvetica,sans-Serif\" font-size=\"14.00\">samples = 40</text>\n<text text-anchor=\"middle\" x=\"3482.5\" y=\"-94.8\" font-family=\"Helvetica,sans-Serif\" font-size=\"14.00\">value = [4, 36]</text>\n<text text-anchor=\"middle\" x=\"3482.5\" y=\"-79.8\" font-family=\"Helvetica,sans-Serif\" font-size=\"14.00\">class = heart_yes</text>\n</g>\n<!-- 572&#45;&gt;573 -->\n<g id=\"edge83\" class=\"edge\">\n<title>572&#45;&gt;573</title>\n<path fill=\"none\" stroke=\"black\" d=\"M3505.36,-190.91C3502.83,-182.47 3500.14,-173.48 3497.53,-164.74\"/>\n<polygon fill=\"black\" stroke=\"black\" points=\"3500.84,-163.6 3494.62,-155.02 3494.13,-165.6 3500.84,-163.6\"/>\n</g>\n<!-- 578 -->\n<g id=\"node87\" class=\"node\">\n<title>578</title>\n<path fill=\"#e58139\" stroke=\"black\" d=\"M3674.5,-147.5C3674.5,-147.5 3582.5,-147.5 3582.5,-147.5 3576.5,-147.5 3570.5,-141.5 3570.5,-135.5 3570.5,-135.5 3570.5,-91.5 3570.5,-91.5 3570.5,-85.5 3576.5,-79.5 3582.5,-79.5 3582.5,-79.5 3674.5,-79.5 3674.5,-79.5 3680.5,-79.5 3686.5,-85.5 3686.5,-91.5 3686.5,-91.5 3686.5,-135.5 3686.5,-135.5 3686.5,-141.5 3680.5,-147.5 3674.5,-147.5\"/>\n<text text-anchor=\"middle\" x=\"3628.5\" y=\"-132.3\" font-family=\"Helvetica,sans-Serif\" font-size=\"14.00\">entropy = 0.0</text>\n<text text-anchor=\"middle\" x=\"3628.5\" y=\"-117.3\" font-family=\"Helvetica,sans-Serif\" font-size=\"14.00\">samples = 5</text>\n<text text-anchor=\"middle\" x=\"3628.5\" y=\"-102.3\" font-family=\"Helvetica,sans-Serif\" font-size=\"14.00\">value = [5, 0]</text>\n<text text-anchor=\"middle\" x=\"3628.5\" y=\"-87.3\" font-family=\"Helvetica,sans-Serif\" font-size=\"14.00\">class = heart_no</text>\n</g>\n<!-- 572&#45;&gt;578 -->\n<g id=\"edge86\" class=\"edge\">\n<title>572&#45;&gt;578</title>\n<path fill=\"none\" stroke=\"black\" d=\"M3556.01,-190.91C3567,-179.32 3578.98,-166.7 3589.97,-155.11\"/>\n<polygon fill=\"black\" stroke=\"black\" points=\"3592.69,-157.33 3597.03,-147.67 3587.61,-152.51 3592.69,-157.33\"/>\n</g>\n<!-- 574 -->\n<g id=\"node85\" class=\"node\">\n<title>574</title>\n<path fill=\"#c0c0c0\" stroke=\"black\" d=\"M3461.5,-36C3461.5,-36 3431.5,-36 3431.5,-36 3425.5,-36 3419.5,-30 3419.5,-24 3419.5,-24 3419.5,-12 3419.5,-12 3419.5,-6 3425.5,0 3431.5,0 3431.5,0 3461.5,0 3461.5,0 3467.5,0 3473.5,-6 3473.5,-12 3473.5,-12 3473.5,-24 3473.5,-24 3473.5,-30 3467.5,-36 3461.5,-36\"/>\n<text text-anchor=\"middle\" x=\"3446.5\" y=\"-14.3\" font-family=\"Helvetica,sans-Serif\" font-size=\"14.00\">(...)</text>\n</g>\n<!-- 573&#45;&gt;574 -->\n<g id=\"edge84\" class=\"edge\">\n<title>573&#45;&gt;574</title>\n<path fill=\"none\" stroke=\"black\" d=\"M3466.81,-71.76C3463.46,-63.04 3459.99,-54.04 3456.89,-45.99\"/>\n<polygon fill=\"black\" stroke=\"black\" points=\"3460.06,-44.48 3453.2,-36.41 3453.53,-46.99 3460.06,-44.48\"/>\n</g>\n<!-- 577 -->\n<g id=\"node86\" class=\"node\">\n<title>577</title>\n<path fill=\"#c0c0c0\" stroke=\"black\" d=\"M3533.5,-36C3533.5,-36 3503.5,-36 3503.5,-36 3497.5,-36 3491.5,-30 3491.5,-24 3491.5,-24 3491.5,-12 3491.5,-12 3491.5,-6 3497.5,0 3503.5,0 3503.5,0 3533.5,0 3533.5,0 3539.5,0 3545.5,-6 3545.5,-12 3545.5,-12 3545.5,-24 3545.5,-24 3545.5,-30 3539.5,-36 3533.5,-36\"/>\n<text text-anchor=\"middle\" x=\"3518.5\" y=\"-14.3\" font-family=\"Helvetica,sans-Serif\" font-size=\"14.00\">(...)</text>\n</g>\n<!-- 573&#45;&gt;577 -->\n<g id=\"edge85\" class=\"edge\">\n<title>573&#45;&gt;577</title>\n<path fill=\"none\" stroke=\"black\" d=\"M3498.19,-71.76C3501.54,-63.04 3505.01,-54.04 3508.11,-45.99\"/>\n<polygon fill=\"black\" stroke=\"black\" points=\"3511.47,-46.99 3511.8,-36.41 3504.94,-44.48 3511.47,-46.99\"/>\n</g>\n<!-- 581 -->\n<g id=\"node90\" class=\"node\">\n<title>581</title>\n<path fill=\"#59ade9\" stroke=\"black\" d=\"M3951.5,-274C3951.5,-274 3837.5,-274 3837.5,-274 3831.5,-274 3825.5,-268 3825.5,-262 3825.5,-262 3825.5,-203 3825.5,-203 3825.5,-197 3831.5,-191 3837.5,-191 3837.5,-191 3951.5,-191 3951.5,-191 3957.5,-191 3963.5,-197 3963.5,-203 3963.5,-203 3963.5,-262 3963.5,-262 3963.5,-268 3957.5,-274 3951.5,-274\"/>\n<text text-anchor=\"middle\" x=\"3894.5\" y=\"-258.8\" font-family=\"Helvetica,sans-Serif\" font-size=\"14.00\">diastolic_bp &lt;= 57.0</text>\n<text text-anchor=\"middle\" x=\"3894.5\" y=\"-243.8\" font-family=\"Helvetica,sans-Serif\" font-size=\"14.00\">entropy = 0.586</text>\n<text text-anchor=\"middle\" x=\"3894.5\" y=\"-228.8\" font-family=\"Helvetica,sans-Serif\" font-size=\"14.00\">samples = 668</text>\n<text text-anchor=\"middle\" x=\"3894.5\" y=\"-213.8\" font-family=\"Helvetica,sans-Serif\" font-size=\"14.00\">value = [94, 574]</text>\n<text text-anchor=\"middle\" x=\"3894.5\" y=\"-198.8\" font-family=\"Helvetica,sans-Serif\" font-size=\"14.00\">class = heart_yes</text>\n</g>\n<!-- 580&#45;&gt;581 -->\n<g id=\"edge89\" class=\"edge\">\n<title>580&#45;&gt;581</title>\n<path fill=\"none\" stroke=\"black\" d=\"M3894.5,-309.91C3894.5,-301.65 3894.5,-292.86 3894.5,-284.3\"/>\n<polygon fill=\"black\" stroke=\"black\" points=\"3898,-284.02 3894.5,-274.02 3891,-284.02 3898,-284.02\"/>\n</g>\n<!-- 666 -->\n<g id=\"node97\" class=\"node\">\n<title>666</title>\n<path fill=\"#40a0e6\" stroke=\"black\" d=\"M4131.5,-274C4131.5,-274 4027.5,-274 4027.5,-274 4021.5,-274 4015.5,-268 4015.5,-262 4015.5,-262 4015.5,-203 4015.5,-203 4015.5,-197 4021.5,-191 4027.5,-191 4027.5,-191 4131.5,-191 4131.5,-191 4137.5,-191 4143.5,-197 4143.5,-203 4143.5,-203 4143.5,-262 4143.5,-262 4143.5,-268 4137.5,-274 4131.5,-274\"/>\n<text text-anchor=\"middle\" x=\"4079.5\" y=\"-258.8\" font-family=\"Helvetica,sans-Serif\" font-size=\"14.00\">calories &lt;= 1992.5</text>\n<text text-anchor=\"middle\" x=\"4079.5\" y=\"-243.8\" font-family=\"Helvetica,sans-Serif\" font-size=\"14.00\">entropy = 0.206</text>\n<text text-anchor=\"middle\" x=\"4079.5\" y=\"-228.8\" font-family=\"Helvetica,sans-Serif\" font-size=\"14.00\">samples = 155</text>\n<text text-anchor=\"middle\" x=\"4079.5\" y=\"-213.8\" font-family=\"Helvetica,sans-Serif\" font-size=\"14.00\">value = [5, 150]</text>\n<text text-anchor=\"middle\" x=\"4079.5\" y=\"-198.8\" font-family=\"Helvetica,sans-Serif\" font-size=\"14.00\">class = heart_yes</text>\n</g>\n<!-- 580&#45;&gt;666 -->\n<g id=\"edge96\" class=\"edge\">\n<title>580&#45;&gt;666</title>\n<path fill=\"none\" stroke=\"black\" d=\"M3958.68,-309.91C3974.18,-300.11 3990.85,-289.56 4006.71,-279.53\"/>\n<polygon fill=\"black\" stroke=\"black\" points=\"4008.85,-282.32 4015.43,-274.02 4005.11,-276.41 4008.85,-282.32\"/>\n</g>\n<!-- 582 -->\n<g id=\"node91\" class=\"node\">\n<title>582</title>\n<path fill=\"#9acdf2\" stroke=\"black\" d=\"M3848,-155C3848,-155 3717,-155 3717,-155 3711,-155 3705,-149 3705,-143 3705,-143 3705,-84 3705,-84 3705,-78 3711,-72 3717,-72 3717,-72 3848,-72 3848,-72 3854,-72 3860,-78 3860,-84 3860,-84 3860,-143 3860,-143 3860,-149 3854,-155 3848,-155\"/>\n<text text-anchor=\"middle\" x=\"3782.5\" y=\"-139.8\" font-family=\"Helvetica,sans-Serif\" font-size=\"14.00\">family_income &lt;= 1.19</text>\n<text text-anchor=\"middle\" x=\"3782.5\" y=\"-124.8\" font-family=\"Helvetica,sans-Serif\" font-size=\"14.00\">entropy = 0.914</text>\n<text text-anchor=\"middle\" x=\"3782.5\" y=\"-109.8\" font-family=\"Helvetica,sans-Serif\" font-size=\"14.00\">samples = 76</text>\n<text text-anchor=\"middle\" x=\"3782.5\" y=\"-94.8\" font-family=\"Helvetica,sans-Serif\" font-size=\"14.00\">value = [25, 51]</text>\n<text text-anchor=\"middle\" x=\"3782.5\" y=\"-79.8\" font-family=\"Helvetica,sans-Serif\" font-size=\"14.00\">class = heart_yes</text>\n</g>\n<!-- 581&#45;&gt;582 -->\n<g id=\"edge90\" class=\"edge\">\n<title>581&#45;&gt;582</title>\n<path fill=\"none\" stroke=\"black\" d=\"M3855.64,-190.91C3846.87,-181.74 3837.47,-171.93 3828.44,-162.49\"/>\n<polygon fill=\"black\" stroke=\"black\" points=\"3830.73,-159.82 3821.29,-155.02 3825.68,-164.66 3830.73,-159.82\"/>\n</g>\n<!-- 595 -->\n<g id=\"node94\" class=\"node\">\n<title>595</title>\n<path fill=\"#53aae8\" stroke=\"black\" d=\"M3988.5,-155C3988.5,-155 3890.5,-155 3890.5,-155 3884.5,-155 3878.5,-149 3878.5,-143 3878.5,-143 3878.5,-84 3878.5,-84 3878.5,-78 3884.5,-72 3890.5,-72 3890.5,-72 3988.5,-72 3988.5,-72 3994.5,-72 4000.5,-78 4000.5,-84 4000.5,-84 4000.5,-143 4000.5,-143 4000.5,-149 3994.5,-155 3988.5,-155\"/>\n<text text-anchor=\"middle\" x=\"3939.5\" y=\"-139.8\" font-family=\"Helvetica,sans-Serif\" font-size=\"14.00\">calories &lt;= 522.0</text>\n<text text-anchor=\"middle\" x=\"3939.5\" y=\"-124.8\" font-family=\"Helvetica,sans-Serif\" font-size=\"14.00\">entropy = 0.519</text>\n<text text-anchor=\"middle\" x=\"3939.5\" y=\"-109.8\" font-family=\"Helvetica,sans-Serif\" font-size=\"14.00\">samples = 592</text>\n<text text-anchor=\"middle\" x=\"3939.5\" y=\"-94.8\" font-family=\"Helvetica,sans-Serif\" font-size=\"14.00\">value = [69, 523]</text>\n<text text-anchor=\"middle\" x=\"3939.5\" y=\"-79.8\" font-family=\"Helvetica,sans-Serif\" font-size=\"14.00\">class = heart_yes</text>\n</g>\n<!-- 581&#45;&gt;595 -->\n<g id=\"edge93\" class=\"edge\">\n<title>581&#45;&gt;595</title>\n<path fill=\"none\" stroke=\"black\" d=\"M3910.11,-190.91C3913.39,-182.38 3916.89,-173.28 3920.29,-164.46\"/>\n<polygon fill=\"black\" stroke=\"black\" points=\"3923.59,-165.61 3923.92,-155.02 3917.06,-163.1 3923.59,-165.61\"/>\n</g>\n<!-- 583 -->\n<g id=\"node92\" class=\"node\">\n<title>583</title>\n<path fill=\"#c0c0c0\" stroke=\"black\" d=\"M3761.5,-36C3761.5,-36 3731.5,-36 3731.5,-36 3725.5,-36 3719.5,-30 3719.5,-24 3719.5,-24 3719.5,-12 3719.5,-12 3719.5,-6 3725.5,0 3731.5,0 3731.5,0 3761.5,0 3761.5,0 3767.5,0 3773.5,-6 3773.5,-12 3773.5,-12 3773.5,-24 3773.5,-24 3773.5,-30 3767.5,-36 3761.5,-36\"/>\n<text text-anchor=\"middle\" x=\"3746.5\" y=\"-14.3\" font-family=\"Helvetica,sans-Serif\" font-size=\"14.00\">(...)</text>\n</g>\n<!-- 582&#45;&gt;583 -->\n<g id=\"edge91\" class=\"edge\">\n<title>582&#45;&gt;583</title>\n<path fill=\"none\" stroke=\"black\" d=\"M3766.81,-71.76C3763.46,-63.04 3759.99,-54.04 3756.89,-45.99\"/>\n<polygon fill=\"black\" stroke=\"black\" points=\"3760.06,-44.48 3753.2,-36.41 3753.53,-46.99 3760.06,-44.48\"/>\n</g>\n<!-- 584 -->\n<g id=\"node93\" class=\"node\">\n<title>584</title>\n<path fill=\"#c0c0c0\" stroke=\"black\" d=\"M3833.5,-36C3833.5,-36 3803.5,-36 3803.5,-36 3797.5,-36 3791.5,-30 3791.5,-24 3791.5,-24 3791.5,-12 3791.5,-12 3791.5,-6 3797.5,0 3803.5,0 3803.5,0 3833.5,0 3833.5,0 3839.5,0 3845.5,-6 3845.5,-12 3845.5,-12 3845.5,-24 3845.5,-24 3845.5,-30 3839.5,-36 3833.5,-36\"/>\n<text text-anchor=\"middle\" x=\"3818.5\" y=\"-14.3\" font-family=\"Helvetica,sans-Serif\" font-size=\"14.00\">(...)</text>\n</g>\n<!-- 582&#45;&gt;584 -->\n<g id=\"edge92\" class=\"edge\">\n<title>582&#45;&gt;584</title>\n<path fill=\"none\" stroke=\"black\" d=\"M3798.19,-71.76C3801.54,-63.04 3805.01,-54.04 3808.11,-45.99\"/>\n<polygon fill=\"black\" stroke=\"black\" points=\"3811.47,-46.99 3811.8,-36.41 3804.94,-44.48 3811.47,-46.99\"/>\n</g>\n<!-- 596 -->\n<g id=\"node95\" class=\"node\">\n<title>596</title>\n<path fill=\"#c0c0c0\" stroke=\"black\" d=\"M3930.5,-36C3930.5,-36 3900.5,-36 3900.5,-36 3894.5,-36 3888.5,-30 3888.5,-24 3888.5,-24 3888.5,-12 3888.5,-12 3888.5,-6 3894.5,0 3900.5,0 3900.5,0 3930.5,0 3930.5,0 3936.5,0 3942.5,-6 3942.5,-12 3942.5,-12 3942.5,-24 3942.5,-24 3942.5,-30 3936.5,-36 3930.5,-36\"/>\n<text text-anchor=\"middle\" x=\"3915.5\" y=\"-14.3\" font-family=\"Helvetica,sans-Serif\" font-size=\"14.00\">(...)</text>\n</g>\n<!-- 595&#45;&gt;596 -->\n<g id=\"edge94\" class=\"edge\">\n<title>595&#45;&gt;596</title>\n<path fill=\"none\" stroke=\"black\" d=\"M3929.04,-71.76C3926.83,-63.14 3924.55,-54.24 3922.5,-46.26\"/>\n<polygon fill=\"black\" stroke=\"black\" points=\"3925.84,-45.22 3919.97,-36.41 3919.06,-46.96 3925.84,-45.22\"/>\n</g>\n<!-- 597 -->\n<g id=\"node96\" class=\"node\">\n<title>597</title>\n<path fill=\"#c0c0c0\" stroke=\"black\" d=\"M4002.5,-36C4002.5,-36 3972.5,-36 3972.5,-36 3966.5,-36 3960.5,-30 3960.5,-24 3960.5,-24 3960.5,-12 3960.5,-12 3960.5,-6 3966.5,0 3972.5,0 3972.5,0 4002.5,0 4002.5,0 4008.5,0 4014.5,-6 4014.5,-12 4014.5,-12 4014.5,-24 4014.5,-24 4014.5,-30 4008.5,-36 4002.5,-36\"/>\n<text text-anchor=\"middle\" x=\"3987.5\" y=\"-14.3\" font-family=\"Helvetica,sans-Serif\" font-size=\"14.00\">(...)</text>\n</g>\n<!-- 595&#45;&gt;597 -->\n<g id=\"edge95\" class=\"edge\">\n<title>595&#45;&gt;597</title>\n<path fill=\"none\" stroke=\"black\" d=\"M3960.41,-71.76C3964.99,-62.85 3969.72,-53.64 3973.92,-45.46\"/>\n<polygon fill=\"black\" stroke=\"black\" points=\"3977.11,-46.9 3978.56,-36.41 3970.88,-43.7 3977.11,-46.9\"/>\n</g>\n<!-- 667 -->\n<g id=\"node98\" class=\"node\">\n<title>667</title>\n<path fill=\"#399de5\" stroke=\"black\" d=\"M4128.5,-147.5C4128.5,-147.5 4030.5,-147.5 4030.5,-147.5 4024.5,-147.5 4018.5,-141.5 4018.5,-135.5 4018.5,-135.5 4018.5,-91.5 4018.5,-91.5 4018.5,-85.5 4024.5,-79.5 4030.5,-79.5 4030.5,-79.5 4128.5,-79.5 4128.5,-79.5 4134.5,-79.5 4140.5,-85.5 4140.5,-91.5 4140.5,-91.5 4140.5,-135.5 4140.5,-135.5 4140.5,-141.5 4134.5,-147.5 4128.5,-147.5\"/>\n<text text-anchor=\"middle\" x=\"4079.5\" y=\"-132.3\" font-family=\"Helvetica,sans-Serif\" font-size=\"14.00\">entropy = 0.0</text>\n<text text-anchor=\"middle\" x=\"4079.5\" y=\"-117.3\" font-family=\"Helvetica,sans-Serif\" font-size=\"14.00\">samples = 110</text>\n<text text-anchor=\"middle\" x=\"4079.5\" y=\"-102.3\" font-family=\"Helvetica,sans-Serif\" font-size=\"14.00\">value = [0, 110]</text>\n<text text-anchor=\"middle\" x=\"4079.5\" y=\"-87.3\" font-family=\"Helvetica,sans-Serif\" font-size=\"14.00\">class = heart_yes</text>\n</g>\n<!-- 666&#45;&gt;667 -->\n<g id=\"edge97\" class=\"edge\">\n<title>666&#45;&gt;667</title>\n<path fill=\"none\" stroke=\"black\" d=\"M4079.5,-190.91C4079.5,-180.2 4079.5,-168.62 4079.5,-157.78\"/>\n<polygon fill=\"black\" stroke=\"black\" points=\"4083,-157.67 4079.5,-147.67 4076,-157.67 4083,-157.67\"/>\n</g>\n<!-- 668 -->\n<g id=\"node99\" class=\"node\">\n<title>668</title>\n<path fill=\"#52a9e8\" stroke=\"black\" d=\"M4320,-155C4320,-155 4171,-155 4171,-155 4165,-155 4159,-149 4159,-143 4159,-143 4159,-84 4159,-84 4159,-78 4165,-72 4171,-72 4171,-72 4320,-72 4320,-72 4326,-72 4332,-78 4332,-84 4332,-84 4332,-143 4332,-143 4332,-149 4326,-155 4320,-155\"/>\n<text text-anchor=\"middle\" x=\"4245.5\" y=\"-139.8\" font-family=\"Helvetica,sans-Serif\" font-size=\"14.00\">blood_cholesterol &lt;= 4.72</text>\n<text text-anchor=\"middle\" x=\"4245.5\" y=\"-124.8\" font-family=\"Helvetica,sans-Serif\" font-size=\"14.00\">entropy = 0.503</text>\n<text text-anchor=\"middle\" x=\"4245.5\" y=\"-109.8\" font-family=\"Helvetica,sans-Serif\" font-size=\"14.00\">samples = 45</text>\n<text text-anchor=\"middle\" x=\"4245.5\" y=\"-94.8\" font-family=\"Helvetica,sans-Serif\" font-size=\"14.00\">value = [5, 40]</text>\n<text text-anchor=\"middle\" x=\"4245.5\" y=\"-79.8\" font-family=\"Helvetica,sans-Serif\" font-size=\"14.00\">class = heart_yes</text>\n</g>\n<!-- 666&#45;&gt;668 -->\n<g id=\"edge98\" class=\"edge\">\n<title>666&#45;&gt;668</title>\n<path fill=\"none\" stroke=\"black\" d=\"M4137.09,-190.91C4150.87,-181.2 4165.68,-170.76 4179.79,-160.81\"/>\n<polygon fill=\"black\" stroke=\"black\" points=\"4181.85,-163.64 4188.01,-155.02 4177.82,-157.92 4181.85,-163.64\"/>\n</g>\n<!-- 669 -->\n<g id=\"node100\" class=\"node\">\n<title>669</title>\n<path fill=\"#c0c0c0\" stroke=\"black\" d=\"M4224.5,-36C4224.5,-36 4194.5,-36 4194.5,-36 4188.5,-36 4182.5,-30 4182.5,-24 4182.5,-24 4182.5,-12 4182.5,-12 4182.5,-6 4188.5,0 4194.5,0 4194.5,0 4224.5,0 4224.5,0 4230.5,0 4236.5,-6 4236.5,-12 4236.5,-12 4236.5,-24 4236.5,-24 4236.5,-30 4230.5,-36 4224.5,-36\"/>\n<text text-anchor=\"middle\" x=\"4209.5\" y=\"-14.3\" font-family=\"Helvetica,sans-Serif\" font-size=\"14.00\">(...)</text>\n</g>\n<!-- 668&#45;&gt;669 -->\n<g id=\"edge99\" class=\"edge\">\n<title>668&#45;&gt;669</title>\n<path fill=\"none\" stroke=\"black\" d=\"M4229.81,-71.76C4226.46,-63.04 4222.99,-54.04 4219.89,-45.99\"/>\n<polygon fill=\"black\" stroke=\"black\" points=\"4223.06,-44.48 4216.2,-36.41 4216.53,-46.99 4223.06,-44.48\"/>\n</g>\n<!-- 672 -->\n<g id=\"node101\" class=\"node\">\n<title>672</title>\n<path fill=\"#c0c0c0\" stroke=\"black\" d=\"M4296.5,-36C4296.5,-36 4266.5,-36 4266.5,-36 4260.5,-36 4254.5,-30 4254.5,-24 4254.5,-24 4254.5,-12 4254.5,-12 4254.5,-6 4260.5,0 4266.5,0 4266.5,0 4296.5,0 4296.5,0 4302.5,0 4308.5,-6 4308.5,-12 4308.5,-12 4308.5,-24 4308.5,-24 4308.5,-30 4302.5,-36 4296.5,-36\"/>\n<text text-anchor=\"middle\" x=\"4281.5\" y=\"-14.3\" font-family=\"Helvetica,sans-Serif\" font-size=\"14.00\">(...)</text>\n</g>\n<!-- 668&#45;&gt;672 -->\n<g id=\"edge100\" class=\"edge\">\n<title>668&#45;&gt;672</title>\n<path fill=\"none\" stroke=\"black\" d=\"M4261.19,-71.76C4264.54,-63.04 4268.01,-54.04 4271.11,-45.99\"/>\n<polygon fill=\"black\" stroke=\"black\" points=\"4274.47,-46.99 4274.8,-36.41 4267.94,-44.48 4274.47,-46.99\"/>\n</g>\n</g>\n</svg>\n",
            "text/plain": [
              "<graphviz.sources.Source at 0x7a44a0341dc0>"
            ]
          },
          "metadata": {}
        }
      ],
      "source": [
        "# Overfit\n",
        "tree_overfit = DecisionTreeClassifier(criterion=\"entropy\", min_samples_split=2)\n",
        "tree_overfit.fit(X_train, t_train)\n",
        "\n",
        "print(\"Training Accuracy (overfit):\", tree_overfit.score(X_train, t_train))\n",
        "print(\"Validation Accuracy (overfit):\", tree_overfit.score(X_val, t_val))\n",
        "\n",
        "# visualize the tree\n",
        "visualize_tree(tree_overfit)"
      ]
    },
    {
      "cell_type": "markdown",
      "id": "grave-dimension",
      "metadata": {
        "id": "grave-dimension"
      },
      "source": [
        "**Graded Task:** What value of `min_samples_split` did you choose to make the tree underfit, or overfit? Why do these values cause the graph to underfit, or overfit?"
      ]
    },
    {
      "cell_type": "code",
      "execution_count": null,
      "id": "iraqi-hygiene",
      "metadata": {
        "id": "iraqi-hygiene"
      },
      "outputs": [],
      "source": [
        "# TODO"
      ]
    },
    {
      "cell_type": "markdown",
      "id": "persistent-browse",
      "metadata": {
        "id": "persistent-browse"
      },
      "source": [
        "**Task:** What differences in training accuracy do you see between your underfitted and overfitted decision trees? Why might this be the case?"
      ]
    },
    {
      "cell_type": "code",
      "execution_count": null,
      "id": "valuable-baseball",
      "metadata": {
        "id": "valuable-baseball"
      },
      "outputs": [],
      "source": [
        "# TODO"
      ]
    },
    {
      "cell_type": "markdown",
      "id": "varying-nashville",
      "metadata": {
        "id": "varying-nashville"
      },
      "source": [
        "## Part 3. Hyperparameter Tuning\n",
        "\n",
        "So far, we have experimented with two Decision Tree hyperparameters: `max_depth` and `min_samples_split`. Another hyperparameter we can vary is the `criterion` for measuring split quality. In lecture, and earlier in this lab, we used `entropy` as the criterion. Another criterion that Sklearn supports is `gini` (Gini impurity index). You don't need to know the implementation details behind this as we'll rely on Sklearn to compute it. However, if you are interested in learning more about this alternative impurity index, we encourage you to [read more about it](https://en.wikipedia.org/wiki/Gini_coefficient).\n",
        "\n",
        "Thus, our goal is now to figure out what combination of `max_depth`, `min_samples_split` and `criterion` results in the \"best\" decision tree. It is up to you to determine what \"best\" means in this context.\n",
        "\n",
        "**Graded Task:** Start by completing `build_all_models` based on the function specification.\n",
        "This function builds many trees, one for each combination of hyperparameters, and\n",
        "then compares them."
      ]
    },
    {
      "cell_type": "code",
      "execution_count": 51,
      "id": "hired-person",
      "metadata": {
        "id": "hired-person"
      },
      "outputs": [],
      "source": [
        "def build_all_models(max_depths,\n",
        "                     min_samples_split,\n",
        "                     criterion,\n",
        "                     X_train=X_train,\n",
        "                     t_train=t_train,\n",
        "                     X_valid=X_val,\n",
        "                     t_valid=t_val):\n",
        "    \"\"\"\n",
        "    Parameters:\n",
        "        `max_depths` - A list of values representing the max_depth values to be\n",
        "                       try as hyperparameter values\n",
        "        `min_samples_split` - An list of values representing the min_samples_split\n",
        "                       values to try as hyperpareameter values\n",
        "        `criterion` -  A string; either \"entropy\" or \"gini\"\n",
        "\n",
        "    Returns a dictionary, `out`, whose keys are the the hyperparameter choices, and whose values are\n",
        "    the training and validation accuracies (via the `score()` method).\n",
        "    In other words, out[(max_depth, min_samples_split)]['val'] = validation score and\n",
        "                    out[(max_depth, min_samples_split)]['train'] = training score\n",
        "    For that combination of (max_depth, min_samples_split) hyperparameters.\n",
        "    \"\"\"\n",
        "    out = {}\n",
        "\n",
        "    for d in max_depths:\n",
        "        for s in min_samples_split:\n",
        "            out[(d, s)] = {}\n",
        "            # Create a DecisionTreeClassifier based on the given hyperparameters and fit it to the data\n",
        "            tree = DecisionTreeClassifier(criterion=criterion,\n",
        "                                         max_depth=d,\n",
        "                                         min_samples_split=s)\n",
        "            tree.fit(X_train, t_train)\n",
        "\n",
        "            # Store the validation and training scores in the `out` dictionary\n",
        "            out[(d, s)]['val'] = tree.score(X_train, t_train)\n",
        "            out[(d, s)]['train'] = tree.score(X_valid, t_valid)\n",
        "\n",
        "    return out"
      ]
    },
    {
      "cell_type": "markdown",
      "id": "graduate-alpha",
      "metadata": {
        "id": "graduate-alpha"
      },
      "source": [
        "**Graded Task:** In this task, we will use an approach called **grid search** to\n",
        "tune hyperparameters: we will list possible values for each hyperparameter,\n",
        "and then attempt every combination of hyperparameter choices. In our case,\n",
        "we will start with some possible values for `max_depth`, `min_samples_split` and `criterion`. Then we will try all combinations\n",
        "of these hyperparameter choices.\n",
        "\n",
        "Complete the code below that performs grid search, by using `build_all_models`\n",
        "to build models and evaluate hyperparameter choices.\n",
        "Print the best parameters and corresponding scores (accuracy) for each of\n",
        "criterion=entropy and criterion=gini (i.e. you should have 2 print statements, 1 for each criterion)."
      ]
    },
    {
      "cell_type": "code",
      "execution_count": 53,
      "id": "universal-setup",
      "metadata": {
        "id": "universal-setup",
        "outputId": "d4b00880-ba32-4e2f-aa11-8fffb3e9feef",
        "colab": {
          "base_uri": "https://localhost:8080/"
        }
      },
      "outputs": [
        {
          "output_type": "stream",
          "name": "stdout",
          "text": [
            "\n",
            "Using criterion entropy\n",
            "Best parameters for entropy: max_depth=25, min_samples_split=2\n",
            "Best validation accuracy: 1.0000\n",
            "Training accuracy at best params: 0.9613\n",
            "\n",
            "Using criterion gini\n",
            "Best parameters for gini: max_depth=25, min_samples_split=2\n",
            "Best validation accuracy: 1.0000\n",
            "Training accuracy at best params: 0.9580\n"
          ]
        }
      ],
      "source": [
        "# Hyperparameters values to try in our grid search\n",
        "criterions = [\"entropy\", \"gini\"]\n",
        "max_depths = [1, 5, 10, 15, 20, 25, 30, 50, 100]\n",
        "min_samples_split = [2, 4, 8, 16, 32, 64, 128, 256, 512, 1024]\n",
        "\n",
        "for criterion in criterions:\n",
        "    print(\"\\nUsing criterion {}\".format(criterion))\n",
        "    res = build_all_models(max_depths, min_samples_split, criterion,\n",
        "                           X_train=X_train, t_train=t_train,\n",
        "                           X_valid=X_val, t_valid=t_val)\n",
        "\n",
        "    # Complete this loop which should search for the optimal\n",
        "    #  (max_depth, min_samples_split) given this criterion\n",
        "\n",
        "    best_val_score = 0\n",
        "    best_params = None\n",
        "\n",
        "    for (d, s) in res:\n",
        "        val_score = res[(d, s)]['val']\n",
        "        if val_score > best_val_score:\n",
        "            best_val_score = val_score\n",
        "            best_params = (d, s)\n",
        "\n",
        "    print(\"Best parameters for {}: max_depth={}, min_samples_split={}\".format(\n",
        "        criterion, best_params[0], best_params[1]\n",
        "    ))\n",
        "    print(\"Best validation accuracy: {:.4f}\".format(best_val_score))\n",
        "    print(\"Training accuracy at best params: {:.4f}\".format(res[best_params]['train']))"
      ]
    },
    {
      "cell_type": "markdown",
      "id": "raising-private",
      "metadata": {
        "id": "raising-private"
      },
      "source": [
        "## Part 4. Test accuracy\n",
        "\n",
        "**Task:** Use the optimal set of hyperparameters you previously discovered to fit a new Decision Tree model to the data. Report the test score."
      ]
    },
    {
      "cell_type": "code",
      "execution_count": null,
      "id": "virtual-iraqi",
      "metadata": {
        "id": "virtual-iraqi"
      },
      "outputs": [],
      "source": [
        "best_tree = None # TODO"
      ]
    },
    {
      "cell_type": "markdown",
      "id": "existing-bench",
      "metadata": {
        "id": "existing-bench"
      },
      "source": [
        "The accuracy measure above considers every mis-classification that is made by our model an `error`, and it assumes that each and every error is of equal importance. However, in many domains, not all errors are of equal importance at all! Some mistakes may have significant negative impacts on people, while others may not.  In future labs, we'll look more closely at different kinds of errors that our models may make and reflect on how these errors might be related to risks.\n",
        "\n",
        "For now, however, let's simply reflect on some shortcomings of the accuracy measure above.\n",
        "\n",
        "**Graded Task:** Assume we have two decision trees that both report 95% accuracy on our validation set.\n",
        "Why might a doctor prefer to use one tree rather than the other?  Answer below in 100 words or less."
      ]
    },
    {
      "cell_type": "code",
      "execution_count": null,
      "id": "informed-project",
      "metadata": {
        "id": "informed-project"
      },
      "outputs": [],
      "source": [
        "# TODO"
      ]
    }
  ],
  "metadata": {
    "colab": {
      "provenance": [],
      "toc_visible": true
    },
    "language_info": {
      "name": "python"
    },
    "kernelspec": {
      "name": "python3",
      "display_name": "Python 3"
    }
  },
  "nbformat": 4,
  "nbformat_minor": 5
}