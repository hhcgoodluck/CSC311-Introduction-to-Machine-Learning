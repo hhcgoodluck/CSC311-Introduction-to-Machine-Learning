{
  "cells": [
    {
      "cell_type": "markdown",
      "id": "ready-external",
      "metadata": {
        "id": "ready-external"
      },
      "source": [
        "# CSC311 Lab 2: Decision Trees and Accuracy-based Diagnostics\n",
        "\n",
        "All artificial intelligence systems have the potential to fail and in some domains\n",
        "(like health) failures can have grave consequences.  When we work in these domains,\n",
        "it's important for us to understand our algorithmic errors and their potential risk.\n",
        "\n",
        "<!--\n",
        "In labs 2, 5 and 7, we'll loosely be following the autiding procedure suggested by [Lui et. al](https://www.thelancet.com/journals/landig/article/PIIS2589-7500(22)00003-6/fulltext) in order to build and analyze a decision making system that operates in a high risk domain.\n",
        "-->\n",
        "\n",
        "In labs 2, 5 and 7, we will use data from The National Health and Nutrition Examination Survey [NHANES](https://www.cdc.gov/nchs/nhanes/index.htm) in the United States.\n",
        "This survey runs annually to assess people's health and nutritional status, and it combines data from interviews and physical examinations. We will be exploring a\n",
        "handful of attributes from the 2014 instance of this survey and their ability to predict heart disease.\n",
        "Making decisions using health data is particularly high risk, so we will use this opportunity to discuss\n",
        "how to assess our model prior to using it.\n",
        "\n",
        "<!--\n",
        "We will then do some testing according to\n",
        "the [auditing recipe](https://www.thelancet.com/journals/landig/article/PIIS2589-7500(22)00003-6/fulltext#seccestitle40) presented by Liu.\n",
        "-->\n",
        "\n",
        "In this lab, we will explore the features in this data set, use `sklearn` to fit a\n",
        "decision tree to our data, and do some work to select hyperparamters that maximize\n",
        "accuracy (or minimize the number of our classification mistakes). In future labs, we\n",
        "will be exploring our mistakes, relating them to important subgroups, and reflecting\n",
        "on our model's robustness. We will also consider how assessments of risk associated\n",
        "with our errors should or could inform our decision making criteria.\n",
        "\n",
        "By the end of this lab, you will be able to:\n",
        "\n",
        "1. Perform an exploratory analysis to understand the features that we use to make predictions.\n",
        "2. Transform features into formats amenable to machine learning (i.e. using one-hot embeddings).\n",
        "3. Use `sklearn` to fit a decision tree to our data and determine its training/validation/test accuracy.\n",
        "4. Visualize, understand and interpret a decision tree diagram.\n",
        "5. Explain how various hyperparameter choices may cause our decision tree to underfit or overfit data.\n",
        "6. Perform hyperparameter tuning to search for the optimal hyperparameters of a decision tree.\n",
        "\n",
        "Please work in groups of 1-2 during the labs.\n",
        "\n",
        "Acknowledgements:\n",
        "\n",
        "- Thanks to https://www.kaggle.com/code/tobyanderson/health-survey-analysis for some utilities to decode NHANES categories!  \n",
        "- This lab was created in collaboration with, Prof. Sonya Allin, Mustafa Haiderbhai, Carolyn Quinlan, Brandon Jaipersaud and others.\n",
        "\n",
        "## Submission\n",
        "\n",
        "If you are working with a partner, start by creating a group on Markus. If you are working alone,\n",
        "click \"Working Alone\".\n",
        "\n",
        "Submit the ipynb file `lab02.ipynb` on Markus\n",
        "**containing all your solutions to the Graded Tasks**.\n",
        "Your notebook file must contain your code **and outputs** where applicable,\n",
        "including printed lines and images.\n",
        "Your TA will not run your code for the purpose of grading.\n",
        "\n",
        "For this lab, you should submit the following:\n",
        "\n",
        "\n",
        "- Part 1. Your explanation for whether our features are likely to be informative predictors. (1 point)\n",
        "- Part 1. Your explanation for why encoding categorical variables as numeric values is problematic for a decision tree. (1 point)\n",
        "- Part 1. Your explanation as to why there is no need to normalize the features of a decision tree. (1 point)\n",
        "- Part 2. Your classification of `X_train[5]` based on your generated decision tree diagram and a justification for your classification. (1 point)\n",
        "- Part 2. The values of `max_depth` you chose to make your decision tree underfit/overfit, along with the generated diagrams. A justification as to why those values make the tree underfit/overfit. (1 point)\n",
        "- Part 2. The values of `min_samples_split` you chose to make your decision tree underfit/overfit. A justification as to why those values make the tree underfit/overfit. (1 point)\n",
        "- Part 3. Your implementation of `build_all_models`.  (2 points)\n",
        "- Part 3. Your implementation of grid search, including print statement(s) that show your best parameters and corresponding scores for both `entropy` and `gini` criteria.  (1 point)\n",
        "- Part 4. Your reflections on the exercise, and our definition of a model that performs \"well\". (1 point)\n",
        "\n",
        "## Google Colab Setup\n",
        "\n",
        "As before, we will import `matplotlib` and `numpy` for plotting and linear algebra\n",
        "manipulations."
      ]
    },
    {
      "cell_type": "code",
      "execution_count": 1,
      "id": "certified-instrument",
      "metadata": {
        "id": "certified-instrument"
      },
      "outputs": [],
      "source": [
        "import matplotlib.pyplot as plt # For plotting\n",
        "import numpy as np              # Linear algebra library"
      ]
    },
    {
      "cell_type": "markdown",
      "id": "numeric-turning",
      "metadata": {
        "id": "numeric-turning"
      },
      "source": [
        "In addition to using `numpy` for its linear algebra functionalities, we will also use\n",
        "a library called `pandas` to help us read CSV files and manipulate tabular data.\n",
        "The below code reads each of the csv files into a **data frame**, which is a way that\n",
        "`pandas` stores tabular data.\n",
        "As an added bonus, Jupyter notebooks display these data frames in a human-readable way."
      ]
    },
    {
      "cell_type": "code",
      "execution_count": 2,
      "id": "competitive-thomson",
      "metadata": {
        "id": "competitive-thomson"
      },
      "outputs": [],
      "source": [
        "import pandas as pd"
      ]
    },
    {
      "cell_type": "markdown",
      "id": "fitting-bullet",
      "metadata": {
        "id": "fitting-bullet"
      },
      "source": [
        "As before, we will start by downloading the data to Google Colab."
      ]
    },
    {
      "cell_type": "code",
      "execution_count": 3,
      "id": "blind-israeli",
      "metadata": {
        "id": "blind-israeli",
        "outputId": "7f7d0f73-54c3-4fb4-e1c8-9ae6e119c54b",
        "colab": {
          "base_uri": "https://localhost:8080/"
        }
      },
      "outputs": [
        {
          "output_type": "stream",
          "name": "stdout",
          "text": [
            "--2025-09-15 13:03:07--  https://www.cs.toronto.edu/~lczhang/311/lab02/NHANES-heart.csv\n",
            "Resolving www.cs.toronto.edu (www.cs.toronto.edu)... 128.100.3.30\n",
            "Connecting to www.cs.toronto.edu (www.cs.toronto.edu)|128.100.3.30|:443... connected.\n",
            "HTTP request sent, awaiting response... 200 OK\n",
            "Length: 450659 (440K) [text/csv]\n",
            "Saving to: ‘NHANES-heart.csv’\n",
            "\n",
            "NHANES-heart.csv    100%[===================>] 440.10K  1.56MB/s    in 0.3s    \n",
            "\n",
            "2025-09-15 13:03:08 (1.56 MB/s) - ‘NHANES-heart.csv’ saved [450659/450659]\n",
            "\n"
          ]
        }
      ],
      "source": [
        "!wget https://www.cs.toronto.edu/~lczhang/311/lab02/NHANES-heart.csv"
      ]
    },
    {
      "cell_type": "markdown",
      "id": "handy-korea",
      "metadata": {
        "id": "handy-korea"
      },
      "source": [
        "Use pandas to read the dataset."
      ]
    },
    {
      "cell_type": "code",
      "execution_count": 4,
      "id": "gentle-howard",
      "metadata": {
        "id": "gentle-howard",
        "outputId": "b682016e-ef00-4971-c15c-31794c34b0f5",
        "colab": {
          "base_uri": "https://localhost:8080/",
          "height": 512
        }
      },
      "outputs": [
        {
          "output_type": "execute_result",
          "data": {
            "text/plain": [
              "      gender  race_ethnicity  chest_pain_ever  drink_alcohol  age   BMI  \\\n",
              "0          1               4              1.0            1.0   62  29.1   \n",
              "1          1               6              2.0            1.0   50  20.9   \n",
              "2          2               1              2.0            2.0   62  16.6   \n",
              "3          1               3              2.0            1.0   61  17.6   \n",
              "4          1               4              2.0            1.0   69  13.5   \n",
              "...      ...             ...              ...            ...  ...   ...   \n",
              "7995       2               3              1.0            2.0   76  24.6   \n",
              "7996       2               2              2.0            2.0   43  29.0   \n",
              "7997       1               6              2.0            2.0   51  14.3   \n",
              "7998       1               2              1.0            1.0   64  24.6   \n",
              "7999       2               3              2.0            2.0   80  32.2   \n",
              "\n",
              "      weight_kg  blood_pressure_sys  diastolic_bp  blood_cholesterol  \\\n",
              "0          77.3               104.0          56.0               5.64   \n",
              "1          42.9               118.0          46.0               5.25   \n",
              "2          27.3               116.0          66.0               3.23   \n",
              "3          26.2                90.0          52.0               3.67   \n",
              "4          21.0               116.0          66.0               4.50   \n",
              "...         ...                 ...           ...                ...   \n",
              "7995       13.1               116.0          66.0               4.50   \n",
              "7996       81.4               134.0          62.0               3.05   \n",
              "7997       15.6               116.0          66.0               4.50   \n",
              "7998       11.6               116.0          66.0               4.50   \n",
              "7999       78.3               114.0          66.0               4.55   \n",
              "\n",
              "      calories  family_income  target_heart  \n",
              "0        815.0           0.87           0.0  \n",
              "1       2339.0           3.63           0.0  \n",
              "2       1405.0           3.09           0.0  \n",
              "3       1735.0           2.13           0.0  \n",
              "4       1735.0           1.74           0.0  \n",
              "...        ...            ...           ...  \n",
              "7995    1735.0           2.05           1.0  \n",
              "7996    1735.0           0.45           1.0  \n",
              "7997    1735.0           0.48           1.0  \n",
              "7998    1120.0           0.31           1.0  \n",
              "7999    3274.0           0.62           1.0  \n",
              "\n",
              "[8000 rows x 13 columns]"
            ],
            "text/html": [
              "\n",
              "  <div id=\"df-e3d30a2d-7ad4-4246-adcb-23f610828561\" class=\"colab-df-container\">\n",
              "    <div>\n",
              "<style scoped>\n",
              "    .dataframe tbody tr th:only-of-type {\n",
              "        vertical-align: middle;\n",
              "    }\n",
              "\n",
              "    .dataframe tbody tr th {\n",
              "        vertical-align: top;\n",
              "    }\n",
              "\n",
              "    .dataframe thead th {\n",
              "        text-align: right;\n",
              "    }\n",
              "</style>\n",
              "<table border=\"1\" class=\"dataframe\">\n",
              "  <thead>\n",
              "    <tr style=\"text-align: right;\">\n",
              "      <th></th>\n",
              "      <th>gender</th>\n",
              "      <th>race_ethnicity</th>\n",
              "      <th>chest_pain_ever</th>\n",
              "      <th>drink_alcohol</th>\n",
              "      <th>age</th>\n",
              "      <th>BMI</th>\n",
              "      <th>weight_kg</th>\n",
              "      <th>blood_pressure_sys</th>\n",
              "      <th>diastolic_bp</th>\n",
              "      <th>blood_cholesterol</th>\n",
              "      <th>calories</th>\n",
              "      <th>family_income</th>\n",
              "      <th>target_heart</th>\n",
              "    </tr>\n",
              "  </thead>\n",
              "  <tbody>\n",
              "    <tr>\n",
              "      <th>0</th>\n",
              "      <td>1</td>\n",
              "      <td>4</td>\n",
              "      <td>1.0</td>\n",
              "      <td>1.0</td>\n",
              "      <td>62</td>\n",
              "      <td>29.1</td>\n",
              "      <td>77.3</td>\n",
              "      <td>104.0</td>\n",
              "      <td>56.0</td>\n",
              "      <td>5.64</td>\n",
              "      <td>815.0</td>\n",
              "      <td>0.87</td>\n",
              "      <td>0.0</td>\n",
              "    </tr>\n",
              "    <tr>\n",
              "      <th>1</th>\n",
              "      <td>1</td>\n",
              "      <td>6</td>\n",
              "      <td>2.0</td>\n",
              "      <td>1.0</td>\n",
              "      <td>50</td>\n",
              "      <td>20.9</td>\n",
              "      <td>42.9</td>\n",
              "      <td>118.0</td>\n",
              "      <td>46.0</td>\n",
              "      <td>5.25</td>\n",
              "      <td>2339.0</td>\n",
              "      <td>3.63</td>\n",
              "      <td>0.0</td>\n",
              "    </tr>\n",
              "    <tr>\n",
              "      <th>2</th>\n",
              "      <td>2</td>\n",
              "      <td>1</td>\n",
              "      <td>2.0</td>\n",
              "      <td>2.0</td>\n",
              "      <td>62</td>\n",
              "      <td>16.6</td>\n",
              "      <td>27.3</td>\n",
              "      <td>116.0</td>\n",
              "      <td>66.0</td>\n",
              "      <td>3.23</td>\n",
              "      <td>1405.0</td>\n",
              "      <td>3.09</td>\n",
              "      <td>0.0</td>\n",
              "    </tr>\n",
              "    <tr>\n",
              "      <th>3</th>\n",
              "      <td>1</td>\n",
              "      <td>3</td>\n",
              "      <td>2.0</td>\n",
              "      <td>1.0</td>\n",
              "      <td>61</td>\n",
              "      <td>17.6</td>\n",
              "      <td>26.2</td>\n",
              "      <td>90.0</td>\n",
              "      <td>52.0</td>\n",
              "      <td>3.67</td>\n",
              "      <td>1735.0</td>\n",
              "      <td>2.13</td>\n",
              "      <td>0.0</td>\n",
              "    </tr>\n",
              "    <tr>\n",
              "      <th>4</th>\n",
              "      <td>1</td>\n",
              "      <td>4</td>\n",
              "      <td>2.0</td>\n",
              "      <td>1.0</td>\n",
              "      <td>69</td>\n",
              "      <td>13.5</td>\n",
              "      <td>21.0</td>\n",
              "      <td>116.0</td>\n",
              "      <td>66.0</td>\n",
              "      <td>4.50</td>\n",
              "      <td>1735.0</td>\n",
              "      <td>1.74</td>\n",
              "      <td>0.0</td>\n",
              "    </tr>\n",
              "    <tr>\n",
              "      <th>...</th>\n",
              "      <td>...</td>\n",
              "      <td>...</td>\n",
              "      <td>...</td>\n",
              "      <td>...</td>\n",
              "      <td>...</td>\n",
              "      <td>...</td>\n",
              "      <td>...</td>\n",
              "      <td>...</td>\n",
              "      <td>...</td>\n",
              "      <td>...</td>\n",
              "      <td>...</td>\n",
              "      <td>...</td>\n",
              "      <td>...</td>\n",
              "    </tr>\n",
              "    <tr>\n",
              "      <th>7995</th>\n",
              "      <td>2</td>\n",
              "      <td>3</td>\n",
              "      <td>1.0</td>\n",
              "      <td>2.0</td>\n",
              "      <td>76</td>\n",
              "      <td>24.6</td>\n",
              "      <td>13.1</td>\n",
              "      <td>116.0</td>\n",
              "      <td>66.0</td>\n",
              "      <td>4.50</td>\n",
              "      <td>1735.0</td>\n",
              "      <td>2.05</td>\n",
              "      <td>1.0</td>\n",
              "    </tr>\n",
              "    <tr>\n",
              "      <th>7996</th>\n",
              "      <td>2</td>\n",
              "      <td>2</td>\n",
              "      <td>2.0</td>\n",
              "      <td>2.0</td>\n",
              "      <td>43</td>\n",
              "      <td>29.0</td>\n",
              "      <td>81.4</td>\n",
              "      <td>134.0</td>\n",
              "      <td>62.0</td>\n",
              "      <td>3.05</td>\n",
              "      <td>1735.0</td>\n",
              "      <td>0.45</td>\n",
              "      <td>1.0</td>\n",
              "    </tr>\n",
              "    <tr>\n",
              "      <th>7997</th>\n",
              "      <td>1</td>\n",
              "      <td>6</td>\n",
              "      <td>2.0</td>\n",
              "      <td>2.0</td>\n",
              "      <td>51</td>\n",
              "      <td>14.3</td>\n",
              "      <td>15.6</td>\n",
              "      <td>116.0</td>\n",
              "      <td>66.0</td>\n",
              "      <td>4.50</td>\n",
              "      <td>1735.0</td>\n",
              "      <td>0.48</td>\n",
              "      <td>1.0</td>\n",
              "    </tr>\n",
              "    <tr>\n",
              "      <th>7998</th>\n",
              "      <td>1</td>\n",
              "      <td>2</td>\n",
              "      <td>1.0</td>\n",
              "      <td>1.0</td>\n",
              "      <td>64</td>\n",
              "      <td>24.6</td>\n",
              "      <td>11.6</td>\n",
              "      <td>116.0</td>\n",
              "      <td>66.0</td>\n",
              "      <td>4.50</td>\n",
              "      <td>1120.0</td>\n",
              "      <td>0.31</td>\n",
              "      <td>1.0</td>\n",
              "    </tr>\n",
              "    <tr>\n",
              "      <th>7999</th>\n",
              "      <td>2</td>\n",
              "      <td>3</td>\n",
              "      <td>2.0</td>\n",
              "      <td>2.0</td>\n",
              "      <td>80</td>\n",
              "      <td>32.2</td>\n",
              "      <td>78.3</td>\n",
              "      <td>114.0</td>\n",
              "      <td>66.0</td>\n",
              "      <td>4.55</td>\n",
              "      <td>3274.0</td>\n",
              "      <td>0.62</td>\n",
              "      <td>1.0</td>\n",
              "    </tr>\n",
              "  </tbody>\n",
              "</table>\n",
              "<p>8000 rows × 13 columns</p>\n",
              "</div>\n",
              "    <div class=\"colab-df-buttons\">\n",
              "\n",
              "  <div class=\"colab-df-container\">\n",
              "    <button class=\"colab-df-convert\" onclick=\"convertToInteractive('df-e3d30a2d-7ad4-4246-adcb-23f610828561')\"\n",
              "            title=\"Convert this dataframe to an interactive table.\"\n",
              "            style=\"display:none;\">\n",
              "\n",
              "  <svg xmlns=\"http://www.w3.org/2000/svg\" height=\"24px\" viewBox=\"0 -960 960 960\">\n",
              "    <path d=\"M120-120v-720h720v720H120Zm60-500h600v-160H180v160Zm220 220h160v-160H400v160Zm0 220h160v-160H400v160ZM180-400h160v-160H180v160Zm440 0h160v-160H620v160ZM180-180h160v-160H180v160Zm440 0h160v-160H620v160Z\"/>\n",
              "  </svg>\n",
              "    </button>\n",
              "\n",
              "  <style>\n",
              "    .colab-df-container {\n",
              "      display:flex;\n",
              "      gap: 12px;\n",
              "    }\n",
              "\n",
              "    .colab-df-convert {\n",
              "      background-color: #E8F0FE;\n",
              "      border: none;\n",
              "      border-radius: 50%;\n",
              "      cursor: pointer;\n",
              "      display: none;\n",
              "      fill: #1967D2;\n",
              "      height: 32px;\n",
              "      padding: 0 0 0 0;\n",
              "      width: 32px;\n",
              "    }\n",
              "\n",
              "    .colab-df-convert:hover {\n",
              "      background-color: #E2EBFA;\n",
              "      box-shadow: 0px 1px 2px rgba(60, 64, 67, 0.3), 0px 1px 3px 1px rgba(60, 64, 67, 0.15);\n",
              "      fill: #174EA6;\n",
              "    }\n",
              "\n",
              "    .colab-df-buttons div {\n",
              "      margin-bottom: 4px;\n",
              "    }\n",
              "\n",
              "    [theme=dark] .colab-df-convert {\n",
              "      background-color: #3B4455;\n",
              "      fill: #D2E3FC;\n",
              "    }\n",
              "\n",
              "    [theme=dark] .colab-df-convert:hover {\n",
              "      background-color: #434B5C;\n",
              "      box-shadow: 0px 1px 3px 1px rgba(0, 0, 0, 0.15);\n",
              "      filter: drop-shadow(0px 1px 2px rgba(0, 0, 0, 0.3));\n",
              "      fill: #FFFFFF;\n",
              "    }\n",
              "  </style>\n",
              "\n",
              "    <script>\n",
              "      const buttonEl =\n",
              "        document.querySelector('#df-e3d30a2d-7ad4-4246-adcb-23f610828561 button.colab-df-convert');\n",
              "      buttonEl.style.display =\n",
              "        google.colab.kernel.accessAllowed ? 'block' : 'none';\n",
              "\n",
              "      async function convertToInteractive(key) {\n",
              "        const element = document.querySelector('#df-e3d30a2d-7ad4-4246-adcb-23f610828561');\n",
              "        const dataTable =\n",
              "          await google.colab.kernel.invokeFunction('convertToInteractive',\n",
              "                                                    [key], {});\n",
              "        if (!dataTable) return;\n",
              "\n",
              "        const docLinkHtml = 'Like what you see? Visit the ' +\n",
              "          '<a target=\"_blank\" href=https://colab.research.google.com/notebooks/data_table.ipynb>data table notebook</a>'\n",
              "          + ' to learn more about interactive tables.';\n",
              "        element.innerHTML = '';\n",
              "        dataTable['output_type'] = 'display_data';\n",
              "        await google.colab.output.renderOutput(dataTable, element);\n",
              "        const docLink = document.createElement('div');\n",
              "        docLink.innerHTML = docLinkHtml;\n",
              "        element.appendChild(docLink);\n",
              "      }\n",
              "    </script>\n",
              "  </div>\n",
              "\n",
              "\n",
              "    <div id=\"df-997cbf34-2f5e-44e5-b99d-969bb5df01ad\">\n",
              "      <button class=\"colab-df-quickchart\" onclick=\"quickchart('df-997cbf34-2f5e-44e5-b99d-969bb5df01ad')\"\n",
              "                title=\"Suggest charts\"\n",
              "                style=\"display:none;\">\n",
              "\n",
              "<svg xmlns=\"http://www.w3.org/2000/svg\" height=\"24px\"viewBox=\"0 0 24 24\"\n",
              "     width=\"24px\">\n",
              "    <g>\n",
              "        <path d=\"M19 3H5c-1.1 0-2 .9-2 2v14c0 1.1.9 2 2 2h14c1.1 0 2-.9 2-2V5c0-1.1-.9-2-2-2zM9 17H7v-7h2v7zm4 0h-2V7h2v10zm4 0h-2v-4h2v4z\"/>\n",
              "    </g>\n",
              "</svg>\n",
              "      </button>\n",
              "\n",
              "<style>\n",
              "  .colab-df-quickchart {\n",
              "      --bg-color: #E8F0FE;\n",
              "      --fill-color: #1967D2;\n",
              "      --hover-bg-color: #E2EBFA;\n",
              "      --hover-fill-color: #174EA6;\n",
              "      --disabled-fill-color: #AAA;\n",
              "      --disabled-bg-color: #DDD;\n",
              "  }\n",
              "\n",
              "  [theme=dark] .colab-df-quickchart {\n",
              "      --bg-color: #3B4455;\n",
              "      --fill-color: #D2E3FC;\n",
              "      --hover-bg-color: #434B5C;\n",
              "      --hover-fill-color: #FFFFFF;\n",
              "      --disabled-bg-color: #3B4455;\n",
              "      --disabled-fill-color: #666;\n",
              "  }\n",
              "\n",
              "  .colab-df-quickchart {\n",
              "    background-color: var(--bg-color);\n",
              "    border: none;\n",
              "    border-radius: 50%;\n",
              "    cursor: pointer;\n",
              "    display: none;\n",
              "    fill: var(--fill-color);\n",
              "    height: 32px;\n",
              "    padding: 0;\n",
              "    width: 32px;\n",
              "  }\n",
              "\n",
              "  .colab-df-quickchart:hover {\n",
              "    background-color: var(--hover-bg-color);\n",
              "    box-shadow: 0 1px 2px rgba(60, 64, 67, 0.3), 0 1px 3px 1px rgba(60, 64, 67, 0.15);\n",
              "    fill: var(--button-hover-fill-color);\n",
              "  }\n",
              "\n",
              "  .colab-df-quickchart-complete:disabled,\n",
              "  .colab-df-quickchart-complete:disabled:hover {\n",
              "    background-color: var(--disabled-bg-color);\n",
              "    fill: var(--disabled-fill-color);\n",
              "    box-shadow: none;\n",
              "  }\n",
              "\n",
              "  .colab-df-spinner {\n",
              "    border: 2px solid var(--fill-color);\n",
              "    border-color: transparent;\n",
              "    border-bottom-color: var(--fill-color);\n",
              "    animation:\n",
              "      spin 1s steps(1) infinite;\n",
              "  }\n",
              "\n",
              "  @keyframes spin {\n",
              "    0% {\n",
              "      border-color: transparent;\n",
              "      border-bottom-color: var(--fill-color);\n",
              "      border-left-color: var(--fill-color);\n",
              "    }\n",
              "    20% {\n",
              "      border-color: transparent;\n",
              "      border-left-color: var(--fill-color);\n",
              "      border-top-color: var(--fill-color);\n",
              "    }\n",
              "    30% {\n",
              "      border-color: transparent;\n",
              "      border-left-color: var(--fill-color);\n",
              "      border-top-color: var(--fill-color);\n",
              "      border-right-color: var(--fill-color);\n",
              "    }\n",
              "    40% {\n",
              "      border-color: transparent;\n",
              "      border-right-color: var(--fill-color);\n",
              "      border-top-color: var(--fill-color);\n",
              "    }\n",
              "    60% {\n",
              "      border-color: transparent;\n",
              "      border-right-color: var(--fill-color);\n",
              "    }\n",
              "    80% {\n",
              "      border-color: transparent;\n",
              "      border-right-color: var(--fill-color);\n",
              "      border-bottom-color: var(--fill-color);\n",
              "    }\n",
              "    90% {\n",
              "      border-color: transparent;\n",
              "      border-bottom-color: var(--fill-color);\n",
              "    }\n",
              "  }\n",
              "</style>\n",
              "\n",
              "      <script>\n",
              "        async function quickchart(key) {\n",
              "          const quickchartButtonEl =\n",
              "            document.querySelector('#' + key + ' button');\n",
              "          quickchartButtonEl.disabled = true;  // To prevent multiple clicks.\n",
              "          quickchartButtonEl.classList.add('colab-df-spinner');\n",
              "          try {\n",
              "            const charts = await google.colab.kernel.invokeFunction(\n",
              "                'suggestCharts', [key], {});\n",
              "          } catch (error) {\n",
              "            console.error('Error during call to suggestCharts:', error);\n",
              "          }\n",
              "          quickchartButtonEl.classList.remove('colab-df-spinner');\n",
              "          quickchartButtonEl.classList.add('colab-df-quickchart-complete');\n",
              "        }\n",
              "        (() => {\n",
              "          let quickchartButtonEl =\n",
              "            document.querySelector('#df-997cbf34-2f5e-44e5-b99d-969bb5df01ad button');\n",
              "          quickchartButtonEl.style.display =\n",
              "            google.colab.kernel.accessAllowed ? 'block' : 'none';\n",
              "        })();\n",
              "      </script>\n",
              "    </div>\n",
              "\n",
              "  <div id=\"id_91bd89b1-3671-4e92-b996-c3cd85ca2284\">\n",
              "    <style>\n",
              "      .colab-df-generate {\n",
              "        background-color: #E8F0FE;\n",
              "        border: none;\n",
              "        border-radius: 50%;\n",
              "        cursor: pointer;\n",
              "        display: none;\n",
              "        fill: #1967D2;\n",
              "        height: 32px;\n",
              "        padding: 0 0 0 0;\n",
              "        width: 32px;\n",
              "      }\n",
              "\n",
              "      .colab-df-generate:hover {\n",
              "        background-color: #E2EBFA;\n",
              "        box-shadow: 0px 1px 2px rgba(60, 64, 67, 0.3), 0px 1px 3px 1px rgba(60, 64, 67, 0.15);\n",
              "        fill: #174EA6;\n",
              "      }\n",
              "\n",
              "      [theme=dark] .colab-df-generate {\n",
              "        background-color: #3B4455;\n",
              "        fill: #D2E3FC;\n",
              "      }\n",
              "\n",
              "      [theme=dark] .colab-df-generate:hover {\n",
              "        background-color: #434B5C;\n",
              "        box-shadow: 0px 1px 3px 1px rgba(0, 0, 0, 0.15);\n",
              "        filter: drop-shadow(0px 1px 2px rgba(0, 0, 0, 0.3));\n",
              "        fill: #FFFFFF;\n",
              "      }\n",
              "    </style>\n",
              "    <button class=\"colab-df-generate\" onclick=\"generateWithVariable('data')\"\n",
              "            title=\"Generate code using this dataframe.\"\n",
              "            style=\"display:none;\">\n",
              "\n",
              "  <svg xmlns=\"http://www.w3.org/2000/svg\" height=\"24px\"viewBox=\"0 0 24 24\"\n",
              "       width=\"24px\">\n",
              "    <path d=\"M7,19H8.4L18.45,9,17,7.55,7,17.6ZM5,21V16.75L18.45,3.32a2,2,0,0,1,2.83,0l1.4,1.43a1.91,1.91,0,0,1,.58,1.4,1.91,1.91,0,0,1-.58,1.4L9.25,21ZM18.45,9,17,7.55Zm-12,3A5.31,5.31,0,0,0,4.9,8.1,5.31,5.31,0,0,0,1,6.5,5.31,5.31,0,0,0,4.9,4.9,5.31,5.31,0,0,0,6.5,1,5.31,5.31,0,0,0,8.1,4.9,5.31,5.31,0,0,0,12,6.5,5.46,5.46,0,0,0,6.5,12Z\"/>\n",
              "  </svg>\n",
              "    </button>\n",
              "    <script>\n",
              "      (() => {\n",
              "      const buttonEl =\n",
              "        document.querySelector('#id_91bd89b1-3671-4e92-b996-c3cd85ca2284 button.colab-df-generate');\n",
              "      buttonEl.style.display =\n",
              "        google.colab.kernel.accessAllowed ? 'block' : 'none';\n",
              "\n",
              "      buttonEl.onclick = () => {\n",
              "        google.colab.notebook.generateWithVariable('data');\n",
              "      }\n",
              "      })();\n",
              "    </script>\n",
              "  </div>\n",
              "\n",
              "    </div>\n",
              "  </div>\n"
            ],
            "application/vnd.google.colaboratory.intrinsic+json": {
              "type": "dataframe",
              "variable_name": "data",
              "summary": "{\n  \"name\": \"data\",\n  \"rows\": 8000,\n  \"fields\": [\n    {\n      \"column\": \"gender\",\n      \"properties\": {\n        \"dtype\": \"number\",\n        \"std\": 0,\n        \"min\": 1,\n        \"max\": 2,\n        \"num_unique_values\": 2,\n        \"samples\": [\n          2,\n          1\n        ],\n        \"semantic_type\": \"\",\n        \"description\": \"\"\n      }\n    },\n    {\n      \"column\": \"race_ethnicity\",\n      \"properties\": {\n        \"dtype\": \"number\",\n        \"std\": 1,\n        \"min\": 1,\n        \"max\": 7,\n        \"num_unique_values\": 6,\n        \"samples\": [\n          4,\n          6\n        ],\n        \"semantic_type\": \"\",\n        \"description\": \"\"\n      }\n    },\n    {\n      \"column\": \"chest_pain_ever\",\n      \"properties\": {\n        \"dtype\": \"number\",\n        \"std\": 0.47727372455543154,\n        \"min\": 1.0,\n        \"max\": 2.0,\n        \"num_unique_values\": 2,\n        \"samples\": [\n          2.0,\n          1.0\n        ],\n        \"semantic_type\": \"\",\n        \"description\": \"\"\n      }\n    },\n    {\n      \"column\": \"drink_alcohol\",\n      \"properties\": {\n        \"dtype\": \"number\",\n        \"std\": 0.46017097805176493,\n        \"min\": 1.0,\n        \"max\": 2.0,\n        \"num_unique_values\": 2,\n        \"samples\": [\n          2.0,\n          1.0\n        ],\n        \"semantic_type\": \"\",\n        \"description\": \"\"\n      }\n    },\n    {\n      \"column\": \"age\",\n      \"properties\": {\n        \"dtype\": \"number\",\n        \"std\": 12,\n        \"min\": 40,\n        \"max\": 80,\n        \"num_unique_values\": 41,\n        \"samples\": [\n          57,\n          47\n        ],\n        \"semantic_type\": \"\",\n        \"description\": \"\"\n      }\n    },\n    {\n      \"column\": \"BMI\",\n      \"properties\": {\n        \"dtype\": \"number\",\n        \"std\": 7.6834655093013104,\n        \"min\": 12.9,\n        \"max\": 82.9,\n        \"num_unique_values\": 349,\n        \"samples\": [\n          24.4,\n          46.8\n        ],\n        \"semantic_type\": \"\",\n        \"description\": \"\"\n      }\n    },\n    {\n      \"column\": \"weight_kg\",\n      \"properties\": {\n        \"dtype\": \"number\",\n        \"std\": 32.80324239692345,\n        \"min\": 3.3,\n        \"max\": 201.6,\n        \"num_unique_values\": 1023,\n        \"samples\": [\n          3.9,\n          59.3\n        ],\n        \"semantic_type\": \"\",\n        \"description\": \"\"\n      }\n    },\n    {\n      \"column\": \"blood_pressure_sys\",\n      \"properties\": {\n        \"dtype\": \"number\",\n        \"std\": 15.050114716976,\n        \"min\": 82.0,\n        \"max\": 220.0,\n        \"num_unique_values\": 57,\n        \"samples\": [\n          104.0,\n          100.0\n        ],\n        \"semantic_type\": \"\",\n        \"description\": \"\"\n      }\n    },\n    {\n      \"column\": \"diastolic_bp\",\n      \"properties\": {\n        \"dtype\": \"number\",\n        \"std\": 11.610892584264533,\n        \"min\": 0.0,\n        \"max\": 116.0,\n        \"num_unique_values\": 46,\n        \"samples\": [\n          28.0,\n          94.0\n        ],\n        \"semantic_type\": \"\",\n        \"description\": \"\"\n      }\n    },\n    {\n      \"column\": \"blood_cholesterol\",\n      \"properties\": {\n        \"dtype\": \"number\",\n        \"std\": 0.9084032890202964,\n        \"min\": 2.02,\n        \"max\": 11.97,\n        \"num_unique_values\": 209,\n        \"samples\": [\n          4.63,\n          6.57\n        ],\n        \"semantic_type\": \"\",\n        \"description\": \"\"\n      }\n    },\n    {\n      \"column\": \"calories\",\n      \"properties\": {\n        \"dtype\": \"number\",\n        \"std\": 867.4943115089055,\n        \"min\": 171.0,\n        \"max\": 8496.0,\n        \"num_unique_values\": 1576,\n        \"samples\": [\n          844.0,\n          2259.0\n        ],\n        \"semantic_type\": \"\",\n        \"description\": \"\"\n      }\n    },\n    {\n      \"column\": \"family_income\",\n      \"properties\": {\n        \"dtype\": \"number\",\n        \"std\": 1.532800386326236,\n        \"min\": 0.0,\n        \"max\": 5.0,\n        \"num_unique_values\": 366,\n        \"samples\": [\n          1.23,\n          4.45\n        ],\n        \"semantic_type\": \"\",\n        \"description\": \"\"\n      }\n    },\n    {\n      \"column\": \"target_heart\",\n      \"properties\": {\n        \"dtype\": \"number\",\n        \"std\": 0.5000312529299927,\n        \"min\": 0.0,\n        \"max\": 1.0,\n        \"num_unique_values\": 2,\n        \"samples\": [\n          1.0,\n          0.0\n        ],\n        \"semantic_type\": \"\",\n        \"description\": \"\"\n      }\n    }\n  ]\n}"
            }
          },
          "metadata": {},
          "execution_count": 4
        }
      ],
      "source": [
        "# read each of the csv files as a *pandas data frame*\n",
        "data = pd.read_csv(\"NHANES-heart.csv\")\n",
        "\n",
        "# display one the dataframes in the notebook\n",
        "data"
      ]
    },
    {
      "cell_type": "markdown",
      "id": "known-insight",
      "metadata": {
        "id": "known-insight"
      },
      "source": [
        "## Part 1. Data\n",
        "\n",
        "We will be focusing on NHANES survey data relevant to the assessment of heart disease.\n",
        "Note however that assessing the presence of heart disease based on this survey data is not an easy task.\n",
        "This is because people may have heart disease but not know it, or people may think they have heart disease\n",
        "when they do not. In our data, we have defined an individual as having heart disease if they answered \"Yes\"\n",
        "to this question on the NHANES survey: \"Have you ever been told by a doctor that you had congestive heart\n",
        "failure, coronary heart disease, a heart attack, or a stroke?\".  This is, as you may notice, not the perfect\n",
        "measure of heart disease! It is however the information we have in hand and it is consistent with the way others\n",
        "have defined heart disease in the [literature](https://www.ncbi.nlm.nih.gov/pmc/articles/PMC6836338/).\n",
        "\n",
        "If you are interested in better understanding the NHANES survey responses, we encourage you to look at\n",
        "the [NHANES data dictionary](https://wwwn.cdc.gov/nchs/nhanes/continuousnhanes/default.aspx). Understanding\n",
        "your data is extremely important, as there are often situations in which measurements may be ambiguous or\n",
        "inaccurate, and these inaccuracies impact any decision making algorithm you create.\n",
        "\n",
        "If you do work to gather data, it will be your responsibility to document this data.  And if you use data to\n",
        "create an algorithm, it will be your responsibility to understand its limitations.  If you are interested in\n",
        "best practices related to data documentation, we encourage you to read [Gebru's article on this topic](https://arxiv.org/pdf/1803.09010.pdf).\n",
        "You may also be interested in current data [reporting standards](https://www.bmj.com/content/370/bmj.m3164) for clinical trials that involve automated decision making tools.\n",
        "\n",
        "In this lab, we will be looking at 10 features from the NHANES data set. We have done work to clean the data for you so that it is approachable, but we encourage you to take a look at the raw data as you are able.  The definitions of the features are as follows:\n",
        "\n",
        "- `gender` (RIAGENDR): which is binary 2=female, 1=male\n",
        "- `race_ethnicity` (RIDRETH3): which can be 1=mexican american, 2=other hispanic, 3=white, 4=black, 6=asian, ...\n",
        "- `age` (RIDAGEYR): Age in years\n",
        "- `drink_alcohol` (ALQ101): which is binary; 1 indicates the individual reportedly drinks alcohol and 2 indicates they do not\n",
        "- `blood_cholesterol` (LBDTCSI): Results of an individual's blood cholesterol tests (mmol of cholesterol/L of blood)\n",
        "- `blood_pressure_sys` (BPXSY1): an individual's systolic blood pressure\n",
        "- `diastolic_bp` (BPXDI1): an individual's diastolic blood pressure\n",
        "- `calories` (DR1TKCAL): the number of calories an individual eats per day\n",
        "- `BMI` (BMXBMI): an individual's Body Mass Index (which can be used to assess obesity)\n",
        "- `chest_pain_ever` (CDQ001): If an individual has ever reported chest pain.\n",
        "- `family_income` (INDFMPIR): Ratio of a family's income to poverty threshold\n",
        "\n",
        "We will be using these features to predict the column `target_heart`:\n",
        "\n",
        "- `target_heart`: An individual reports that they have heart disease (1=yes, 0=no).\n",
        "\n",
        "\n",
        "Let's start by exploring the data that we have in hand. Pandas has a nice function to summarize the mean and dispersion of each feature in our data frame:"
      ]
    },
    {
      "cell_type": "code",
      "execution_count": 5,
      "id": "bridal-lawrence",
      "metadata": {
        "collapsed": true,
        "id": "bridal-lawrence",
        "outputId": "60a3102e-ea59-4d25-9e42-8af5089ea523",
        "colab": {
          "base_uri": "https://localhost:8080/",
          "height": 459
        }
      },
      "outputs": [
        {
          "output_type": "execute_result",
          "data": {
            "text/plain": [
              "            gender  race_ethnicity  chest_pain_ever  drink_alcohol  \\\n",
              "count  8000.000000     8000.000000      8000.000000    8000.000000   \n",
              "mean      1.498375        3.222000         1.649125       1.304375   \n",
              "std       0.500029        1.330672         0.477274       0.460171   \n",
              "min       1.000000        1.000000         1.000000       1.000000   \n",
              "25%       1.000000        3.000000         1.000000       1.000000   \n",
              "50%       1.000000        3.000000         2.000000       1.000000   \n",
              "75%       2.000000        4.000000         2.000000       2.000000   \n",
              "max       2.000000        7.000000         2.000000       2.000000   \n",
              "\n",
              "               age          BMI    weight_kg  blood_pressure_sys  \\\n",
              "count  8000.000000  8000.000000  8000.000000         8000.000000   \n",
              "mean     62.627875    25.352687    61.112887          117.135500   \n",
              "std      12.225806     7.683466    32.803242           15.050115   \n",
              "min      40.000000    12.900000     3.300000           82.000000   \n",
              "25%      52.000000    19.700000    33.600000          108.000000   \n",
              "50%      63.000000    24.600000    63.700000          116.000000   \n",
              "75%      73.000000    29.500000    83.000000          122.000000   \n",
              "max      80.000000    82.900000   201.600000          220.000000   \n",
              "\n",
              "       diastolic_bp  blood_cholesterol     calories  family_income  \\\n",
              "count   8000.000000        8000.000000  8000.000000    8000.000000   \n",
              "mean      65.705000           4.584376  1866.986875       2.456017   \n",
              "std       11.610893           0.908403   867.494312       1.532800   \n",
              "min        0.000000           2.020000   171.000000       0.000000   \n",
              "25%       60.000000           4.090000  1337.750000       1.180000   \n",
              "50%       66.000000           4.500000  1735.000000       2.050000   \n",
              "75%       72.000000           4.970000  2215.250000       3.800000   \n",
              "max      116.000000          11.970000  8496.000000       5.000000   \n",
              "\n",
              "       target_heart  \n",
              "count   8000.000000  \n",
              "mean       0.500000  \n",
              "std        0.500031  \n",
              "min        0.000000  \n",
              "25%        0.000000  \n",
              "50%        0.500000  \n",
              "75%        1.000000  \n",
              "max        1.000000  "
            ],
            "text/html": [
              "\n",
              "  <div id=\"df-9ff4cac0-6a0c-47b4-98a5-bbb7a9c549a7\" class=\"colab-df-container\">\n",
              "    <div>\n",
              "<style scoped>\n",
              "    .dataframe tbody tr th:only-of-type {\n",
              "        vertical-align: middle;\n",
              "    }\n",
              "\n",
              "    .dataframe tbody tr th {\n",
              "        vertical-align: top;\n",
              "    }\n",
              "\n",
              "    .dataframe thead th {\n",
              "        text-align: right;\n",
              "    }\n",
              "</style>\n",
              "<table border=\"1\" class=\"dataframe\">\n",
              "  <thead>\n",
              "    <tr style=\"text-align: right;\">\n",
              "      <th></th>\n",
              "      <th>gender</th>\n",
              "      <th>race_ethnicity</th>\n",
              "      <th>chest_pain_ever</th>\n",
              "      <th>drink_alcohol</th>\n",
              "      <th>age</th>\n",
              "      <th>BMI</th>\n",
              "      <th>weight_kg</th>\n",
              "      <th>blood_pressure_sys</th>\n",
              "      <th>diastolic_bp</th>\n",
              "      <th>blood_cholesterol</th>\n",
              "      <th>calories</th>\n",
              "      <th>family_income</th>\n",
              "      <th>target_heart</th>\n",
              "    </tr>\n",
              "  </thead>\n",
              "  <tbody>\n",
              "    <tr>\n",
              "      <th>count</th>\n",
              "      <td>8000.000000</td>\n",
              "      <td>8000.000000</td>\n",
              "      <td>8000.000000</td>\n",
              "      <td>8000.000000</td>\n",
              "      <td>8000.000000</td>\n",
              "      <td>8000.000000</td>\n",
              "      <td>8000.000000</td>\n",
              "      <td>8000.000000</td>\n",
              "      <td>8000.000000</td>\n",
              "      <td>8000.000000</td>\n",
              "      <td>8000.000000</td>\n",
              "      <td>8000.000000</td>\n",
              "      <td>8000.000000</td>\n",
              "    </tr>\n",
              "    <tr>\n",
              "      <th>mean</th>\n",
              "      <td>1.498375</td>\n",
              "      <td>3.222000</td>\n",
              "      <td>1.649125</td>\n",
              "      <td>1.304375</td>\n",
              "      <td>62.627875</td>\n",
              "      <td>25.352687</td>\n",
              "      <td>61.112887</td>\n",
              "      <td>117.135500</td>\n",
              "      <td>65.705000</td>\n",
              "      <td>4.584376</td>\n",
              "      <td>1866.986875</td>\n",
              "      <td>2.456017</td>\n",
              "      <td>0.500000</td>\n",
              "    </tr>\n",
              "    <tr>\n",
              "      <th>std</th>\n",
              "      <td>0.500029</td>\n",
              "      <td>1.330672</td>\n",
              "      <td>0.477274</td>\n",
              "      <td>0.460171</td>\n",
              "      <td>12.225806</td>\n",
              "      <td>7.683466</td>\n",
              "      <td>32.803242</td>\n",
              "      <td>15.050115</td>\n",
              "      <td>11.610893</td>\n",
              "      <td>0.908403</td>\n",
              "      <td>867.494312</td>\n",
              "      <td>1.532800</td>\n",
              "      <td>0.500031</td>\n",
              "    </tr>\n",
              "    <tr>\n",
              "      <th>min</th>\n",
              "      <td>1.000000</td>\n",
              "      <td>1.000000</td>\n",
              "      <td>1.000000</td>\n",
              "      <td>1.000000</td>\n",
              "      <td>40.000000</td>\n",
              "      <td>12.900000</td>\n",
              "      <td>3.300000</td>\n",
              "      <td>82.000000</td>\n",
              "      <td>0.000000</td>\n",
              "      <td>2.020000</td>\n",
              "      <td>171.000000</td>\n",
              "      <td>0.000000</td>\n",
              "      <td>0.000000</td>\n",
              "    </tr>\n",
              "    <tr>\n",
              "      <th>25%</th>\n",
              "      <td>1.000000</td>\n",
              "      <td>3.000000</td>\n",
              "      <td>1.000000</td>\n",
              "      <td>1.000000</td>\n",
              "      <td>52.000000</td>\n",
              "      <td>19.700000</td>\n",
              "      <td>33.600000</td>\n",
              "      <td>108.000000</td>\n",
              "      <td>60.000000</td>\n",
              "      <td>4.090000</td>\n",
              "      <td>1337.750000</td>\n",
              "      <td>1.180000</td>\n",
              "      <td>0.000000</td>\n",
              "    </tr>\n",
              "    <tr>\n",
              "      <th>50%</th>\n",
              "      <td>1.000000</td>\n",
              "      <td>3.000000</td>\n",
              "      <td>2.000000</td>\n",
              "      <td>1.000000</td>\n",
              "      <td>63.000000</td>\n",
              "      <td>24.600000</td>\n",
              "      <td>63.700000</td>\n",
              "      <td>116.000000</td>\n",
              "      <td>66.000000</td>\n",
              "      <td>4.500000</td>\n",
              "      <td>1735.000000</td>\n",
              "      <td>2.050000</td>\n",
              "      <td>0.500000</td>\n",
              "    </tr>\n",
              "    <tr>\n",
              "      <th>75%</th>\n",
              "      <td>2.000000</td>\n",
              "      <td>4.000000</td>\n",
              "      <td>2.000000</td>\n",
              "      <td>2.000000</td>\n",
              "      <td>73.000000</td>\n",
              "      <td>29.500000</td>\n",
              "      <td>83.000000</td>\n",
              "      <td>122.000000</td>\n",
              "      <td>72.000000</td>\n",
              "      <td>4.970000</td>\n",
              "      <td>2215.250000</td>\n",
              "      <td>3.800000</td>\n",
              "      <td>1.000000</td>\n",
              "    </tr>\n",
              "    <tr>\n",
              "      <th>max</th>\n",
              "      <td>2.000000</td>\n",
              "      <td>7.000000</td>\n",
              "      <td>2.000000</td>\n",
              "      <td>2.000000</td>\n",
              "      <td>80.000000</td>\n",
              "      <td>82.900000</td>\n",
              "      <td>201.600000</td>\n",
              "      <td>220.000000</td>\n",
              "      <td>116.000000</td>\n",
              "      <td>11.970000</td>\n",
              "      <td>8496.000000</td>\n",
              "      <td>5.000000</td>\n",
              "      <td>1.000000</td>\n",
              "    </tr>\n",
              "  </tbody>\n",
              "</table>\n",
              "</div>\n",
              "    <div class=\"colab-df-buttons\">\n",
              "\n",
              "  <div class=\"colab-df-container\">\n",
              "    <button class=\"colab-df-convert\" onclick=\"convertToInteractive('df-9ff4cac0-6a0c-47b4-98a5-bbb7a9c549a7')\"\n",
              "            title=\"Convert this dataframe to an interactive table.\"\n",
              "            style=\"display:none;\">\n",
              "\n",
              "  <svg xmlns=\"http://www.w3.org/2000/svg\" height=\"24px\" viewBox=\"0 -960 960 960\">\n",
              "    <path d=\"M120-120v-720h720v720H120Zm60-500h600v-160H180v160Zm220 220h160v-160H400v160Zm0 220h160v-160H400v160ZM180-400h160v-160H180v160Zm440 0h160v-160H620v160ZM180-180h160v-160H180v160Zm440 0h160v-160H620v160Z\"/>\n",
              "  </svg>\n",
              "    </button>\n",
              "\n",
              "  <style>\n",
              "    .colab-df-container {\n",
              "      display:flex;\n",
              "      gap: 12px;\n",
              "    }\n",
              "\n",
              "    .colab-df-convert {\n",
              "      background-color: #E8F0FE;\n",
              "      border: none;\n",
              "      border-radius: 50%;\n",
              "      cursor: pointer;\n",
              "      display: none;\n",
              "      fill: #1967D2;\n",
              "      height: 32px;\n",
              "      padding: 0 0 0 0;\n",
              "      width: 32px;\n",
              "    }\n",
              "\n",
              "    .colab-df-convert:hover {\n",
              "      background-color: #E2EBFA;\n",
              "      box-shadow: 0px 1px 2px rgba(60, 64, 67, 0.3), 0px 1px 3px 1px rgba(60, 64, 67, 0.15);\n",
              "      fill: #174EA6;\n",
              "    }\n",
              "\n",
              "    .colab-df-buttons div {\n",
              "      margin-bottom: 4px;\n",
              "    }\n",
              "\n",
              "    [theme=dark] .colab-df-convert {\n",
              "      background-color: #3B4455;\n",
              "      fill: #D2E3FC;\n",
              "    }\n",
              "\n",
              "    [theme=dark] .colab-df-convert:hover {\n",
              "      background-color: #434B5C;\n",
              "      box-shadow: 0px 1px 3px 1px rgba(0, 0, 0, 0.15);\n",
              "      filter: drop-shadow(0px 1px 2px rgba(0, 0, 0, 0.3));\n",
              "      fill: #FFFFFF;\n",
              "    }\n",
              "  </style>\n",
              "\n",
              "    <script>\n",
              "      const buttonEl =\n",
              "        document.querySelector('#df-9ff4cac0-6a0c-47b4-98a5-bbb7a9c549a7 button.colab-df-convert');\n",
              "      buttonEl.style.display =\n",
              "        google.colab.kernel.accessAllowed ? 'block' : 'none';\n",
              "\n",
              "      async function convertToInteractive(key) {\n",
              "        const element = document.querySelector('#df-9ff4cac0-6a0c-47b4-98a5-bbb7a9c549a7');\n",
              "        const dataTable =\n",
              "          await google.colab.kernel.invokeFunction('convertToInteractive',\n",
              "                                                    [key], {});\n",
              "        if (!dataTable) return;\n",
              "\n",
              "        const docLinkHtml = 'Like what you see? Visit the ' +\n",
              "          '<a target=\"_blank\" href=https://colab.research.google.com/notebooks/data_table.ipynb>data table notebook</a>'\n",
              "          + ' to learn more about interactive tables.';\n",
              "        element.innerHTML = '';\n",
              "        dataTable['output_type'] = 'display_data';\n",
              "        await google.colab.output.renderOutput(dataTable, element);\n",
              "        const docLink = document.createElement('div');\n",
              "        docLink.innerHTML = docLinkHtml;\n",
              "        element.appendChild(docLink);\n",
              "      }\n",
              "    </script>\n",
              "  </div>\n",
              "\n",
              "\n",
              "    <div id=\"df-a44d3524-46d9-4297-a30f-8b8adbd3e34d\">\n",
              "      <button class=\"colab-df-quickchart\" onclick=\"quickchart('df-a44d3524-46d9-4297-a30f-8b8adbd3e34d')\"\n",
              "                title=\"Suggest charts\"\n",
              "                style=\"display:none;\">\n",
              "\n",
              "<svg xmlns=\"http://www.w3.org/2000/svg\" height=\"24px\"viewBox=\"0 0 24 24\"\n",
              "     width=\"24px\">\n",
              "    <g>\n",
              "        <path d=\"M19 3H5c-1.1 0-2 .9-2 2v14c0 1.1.9 2 2 2h14c1.1 0 2-.9 2-2V5c0-1.1-.9-2-2-2zM9 17H7v-7h2v7zm4 0h-2V7h2v10zm4 0h-2v-4h2v4z\"/>\n",
              "    </g>\n",
              "</svg>\n",
              "      </button>\n",
              "\n",
              "<style>\n",
              "  .colab-df-quickchart {\n",
              "      --bg-color: #E8F0FE;\n",
              "      --fill-color: #1967D2;\n",
              "      --hover-bg-color: #E2EBFA;\n",
              "      --hover-fill-color: #174EA6;\n",
              "      --disabled-fill-color: #AAA;\n",
              "      --disabled-bg-color: #DDD;\n",
              "  }\n",
              "\n",
              "  [theme=dark] .colab-df-quickchart {\n",
              "      --bg-color: #3B4455;\n",
              "      --fill-color: #D2E3FC;\n",
              "      --hover-bg-color: #434B5C;\n",
              "      --hover-fill-color: #FFFFFF;\n",
              "      --disabled-bg-color: #3B4455;\n",
              "      --disabled-fill-color: #666;\n",
              "  }\n",
              "\n",
              "  .colab-df-quickchart {\n",
              "    background-color: var(--bg-color);\n",
              "    border: none;\n",
              "    border-radius: 50%;\n",
              "    cursor: pointer;\n",
              "    display: none;\n",
              "    fill: var(--fill-color);\n",
              "    height: 32px;\n",
              "    padding: 0;\n",
              "    width: 32px;\n",
              "  }\n",
              "\n",
              "  .colab-df-quickchart:hover {\n",
              "    background-color: var(--hover-bg-color);\n",
              "    box-shadow: 0 1px 2px rgba(60, 64, 67, 0.3), 0 1px 3px 1px rgba(60, 64, 67, 0.15);\n",
              "    fill: var(--button-hover-fill-color);\n",
              "  }\n",
              "\n",
              "  .colab-df-quickchart-complete:disabled,\n",
              "  .colab-df-quickchart-complete:disabled:hover {\n",
              "    background-color: var(--disabled-bg-color);\n",
              "    fill: var(--disabled-fill-color);\n",
              "    box-shadow: none;\n",
              "  }\n",
              "\n",
              "  .colab-df-spinner {\n",
              "    border: 2px solid var(--fill-color);\n",
              "    border-color: transparent;\n",
              "    border-bottom-color: var(--fill-color);\n",
              "    animation:\n",
              "      spin 1s steps(1) infinite;\n",
              "  }\n",
              "\n",
              "  @keyframes spin {\n",
              "    0% {\n",
              "      border-color: transparent;\n",
              "      border-bottom-color: var(--fill-color);\n",
              "      border-left-color: var(--fill-color);\n",
              "    }\n",
              "    20% {\n",
              "      border-color: transparent;\n",
              "      border-left-color: var(--fill-color);\n",
              "      border-top-color: var(--fill-color);\n",
              "    }\n",
              "    30% {\n",
              "      border-color: transparent;\n",
              "      border-left-color: var(--fill-color);\n",
              "      border-top-color: var(--fill-color);\n",
              "      border-right-color: var(--fill-color);\n",
              "    }\n",
              "    40% {\n",
              "      border-color: transparent;\n",
              "      border-right-color: var(--fill-color);\n",
              "      border-top-color: var(--fill-color);\n",
              "    }\n",
              "    60% {\n",
              "      border-color: transparent;\n",
              "      border-right-color: var(--fill-color);\n",
              "    }\n",
              "    80% {\n",
              "      border-color: transparent;\n",
              "      border-right-color: var(--fill-color);\n",
              "      border-bottom-color: var(--fill-color);\n",
              "    }\n",
              "    90% {\n",
              "      border-color: transparent;\n",
              "      border-bottom-color: var(--fill-color);\n",
              "    }\n",
              "  }\n",
              "</style>\n",
              "\n",
              "      <script>\n",
              "        async function quickchart(key) {\n",
              "          const quickchartButtonEl =\n",
              "            document.querySelector('#' + key + ' button');\n",
              "          quickchartButtonEl.disabled = true;  // To prevent multiple clicks.\n",
              "          quickchartButtonEl.classList.add('colab-df-spinner');\n",
              "          try {\n",
              "            const charts = await google.colab.kernel.invokeFunction(\n",
              "                'suggestCharts', [key], {});\n",
              "          } catch (error) {\n",
              "            console.error('Error during call to suggestCharts:', error);\n",
              "          }\n",
              "          quickchartButtonEl.classList.remove('colab-df-spinner');\n",
              "          quickchartButtonEl.classList.add('colab-df-quickchart-complete');\n",
              "        }\n",
              "        (() => {\n",
              "          let quickchartButtonEl =\n",
              "            document.querySelector('#df-a44d3524-46d9-4297-a30f-8b8adbd3e34d button');\n",
              "          quickchartButtonEl.style.display =\n",
              "            google.colab.kernel.accessAllowed ? 'block' : 'none';\n",
              "        })();\n",
              "      </script>\n",
              "    </div>\n",
              "\n",
              "    </div>\n",
              "  </div>\n"
            ],
            "application/vnd.google.colaboratory.intrinsic+json": {
              "type": "dataframe",
              "summary": "{\n  \"name\": \"data\",\n  \"rows\": 8,\n  \"fields\": [\n    {\n      \"column\": \"gender\",\n      \"properties\": {\n        \"dtype\": \"number\",\n        \"std\": 2827.9726854238465,\n        \"min\": 0.5000286121329514,\n        \"max\": 8000.0,\n        \"num_unique_values\": 5,\n        \"samples\": [\n          1.498375,\n          2.0,\n          0.5000286121329514\n        ],\n        \"semantic_type\": \"\",\n        \"description\": \"\"\n      }\n    },\n    {\n      \"column\": \"race_ethnicity\",\n      \"properties\": {\n        \"dtype\": \"number\",\n        \"std\": 2827.288636297873,\n        \"min\": 1.0,\n        \"max\": 8000.0,\n        \"num_unique_values\": 7,\n        \"samples\": [\n          8000.0,\n          3.222,\n          4.0\n        ],\n        \"semantic_type\": \"\",\n        \"description\": \"\"\n      }\n    },\n    {\n      \"column\": \"chest_pain_ever\",\n      \"properties\": {\n        \"dtype\": \"number\",\n        \"std\": 2827.91572242477,\n        \"min\": 0.47727372455543154,\n        \"max\": 8000.0,\n        \"num_unique_values\": 5,\n        \"samples\": [\n          1.649125,\n          2.0,\n          0.47727372455543154\n        ],\n        \"semantic_type\": \"\",\n        \"description\": \"\"\n      }\n    },\n    {\n      \"column\": \"drink_alcohol\",\n      \"properties\": {\n        \"dtype\": \"number\",\n        \"std\": 2827.984497306394,\n        \"min\": 0.46017097805176493,\n        \"max\": 8000.0,\n        \"num_unique_values\": 5,\n        \"samples\": [\n          1.304375,\n          2.0,\n          0.46017097805176493\n        ],\n        \"semantic_type\": \"\",\n        \"description\": \"\"\n      }\n    },\n    {\n      \"column\": \"age\",\n      \"properties\": {\n        \"dtype\": \"number\",\n        \"std\": 2809.169786901361,\n        \"min\": 12.225805976533609,\n        \"max\": 8000.0,\n        \"num_unique_values\": 8,\n        \"samples\": [\n          62.627875,\n          63.0,\n          8000.0\n        ],\n        \"semantic_type\": \"\",\n        \"description\": \"\"\n      }\n    },\n    {\n      \"column\": \"BMI\",\n      \"properties\": {\n        \"dtype\": \"number\",\n        \"std\": 2818.2871984865915,\n        \"min\": 7.6834655093013104,\n        \"max\": 8000.0,\n        \"num_unique_values\": 8,\n        \"samples\": [\n          25.3526875,\n          24.6,\n          8000.0\n        ],\n        \"semantic_type\": \"\",\n        \"description\": \"\"\n      }\n    },\n    {\n      \"column\": \"weight_kg\",\n      \"properties\": {\n        \"dtype\": \"number\",\n        \"std\": 2804.8583780060617,\n        \"min\": 3.3,\n        \"max\": 8000.0,\n        \"num_unique_values\": 8,\n        \"samples\": [\n          61.1128875,\n          63.7,\n          8000.0\n        ],\n        \"semantic_type\": \"\",\n        \"description\": \"\"\n      }\n    },\n    {\n      \"column\": \"blood_pressure_sys\",\n      \"properties\": {\n        \"dtype\": \"number\",\n        \"std\": 2789.5882390136485,\n        \"min\": 15.050114716976,\n        \"max\": 8000.0,\n        \"num_unique_values\": 8,\n        \"samples\": [\n          117.1355,\n          116.0,\n          8000.0\n        ],\n        \"semantic_type\": \"\",\n        \"description\": \"\"\n      }\n    },\n    {\n      \"column\": \"diastolic_bp\",\n      \"properties\": {\n        \"dtype\": \"number\",\n        \"std\": 2808.8959488105297,\n        \"min\": 0.0,\n        \"max\": 8000.0,\n        \"num_unique_values\": 8,\n        \"samples\": [\n          65.705,\n          66.0,\n          8000.0\n        ],\n        \"semantic_type\": \"\",\n        \"description\": \"\"\n      }\n    },\n    {\n      \"column\": \"blood_cholesterol\",\n      \"properties\": {\n        \"dtype\": \"number\",\n        \"std\": 2826.7601051573447,\n        \"min\": 0.9084032890202964,\n        \"max\": 8000.0,\n        \"num_unique_values\": 8,\n        \"samples\": [\n          4.584376249999999,\n          4.5,\n          8000.0\n        ],\n        \"semantic_type\": \"\",\n        \"description\": \"\"\n      }\n    },\n    {\n      \"column\": \"calories\",\n      \"properties\": {\n        \"dtype\": \"number\",\n        \"std\": 3250.5003096128016,\n        \"min\": 171.0,\n        \"max\": 8496.0,\n        \"num_unique_values\": 8,\n        \"samples\": [\n          1866.986875,\n          1735.0,\n          8000.0\n        ],\n        \"semantic_type\": \"\",\n        \"description\": \"\"\n      }\n    },\n    {\n      \"column\": \"family_income\",\n      \"properties\": {\n        \"dtype\": \"number\",\n        \"std\": 2827.6184756108432,\n        \"min\": 0.0,\n        \"max\": 8000.0,\n        \"num_unique_values\": 8,\n        \"samples\": [\n          2.4560174999999997,\n          2.05,\n          8000.0\n        ],\n        \"semantic_type\": \"\",\n        \"description\": \"\"\n      }\n    },\n    {\n      \"column\": \"target_heart\",\n      \"properties\": {\n        \"dtype\": \"number\",\n        \"std\": 2828.250371727774,\n        \"min\": 0.0,\n        \"max\": 8000.0,\n        \"num_unique_values\": 5,\n        \"samples\": [\n          0.5,\n          1.0,\n          0.5000312529299927\n        ],\n        \"semantic_type\": \"\",\n        \"description\": \"\"\n      }\n    }\n  ]\n}"
            }
          },
          "metadata": {},
          "execution_count": 5
        }
      ],
      "source": [
        "data.describe()"
      ]
    },
    {
      "cell_type": "markdown",
      "id": "polished-treatment",
      "metadata": {
        "id": "polished-treatment"
      },
      "source": [
        "We can also visualize the spread of numerical features using *box plots*. A box plot visually summarizes much of the information that is produced by a call to data.describe(). The orange line in the middle of each box represents the median (or 50th percentile) of the data.  Each box spans a range from the 25th to 75th percentile of the attribute in question. Outliers are plotted as points outside of the box.\n",
        "\n",
        "If, after you review some box plots, you are not comfortable with how box plots work, [Khan Academy has a good series of videos that explain how to read and interpret them.](https://www.khanacademy.org/math/statistics-probability/summarizing-quantitative-data/box-whisker-plots/v/reading-box-and-whisker-plots)"
      ]
    },
    {
      "cell_type": "code",
      "execution_count": 6,
      "id": "norman-mandate",
      "metadata": {
        "collapsed": true,
        "id": "norman-mandate",
        "outputId": "dc0b0472-6400-46c2-b3ac-05c212456f65",
        "colab": {
          "base_uri": "https://localhost:8080/",
          "height": 595
        }
      },
      "outputs": [
        {
          "output_type": "execute_result",
          "data": {
            "text/plain": [
              "{'whiskers': [<matplotlib.lines.Line2D at 0x7a44acd76720>,\n",
              "  <matplotlib.lines.Line2D at 0x7a44acd76930>],\n",
              " 'caps': [<matplotlib.lines.Line2D at 0x7a44acd76c60>,\n",
              "  <matplotlib.lines.Line2D at 0x7a44acd76f90>],\n",
              " 'boxes': [<matplotlib.lines.Line2D at 0x7a44ad009b20>],\n",
              " 'medians': [<matplotlib.lines.Line2D at 0x7a44acd772c0>],\n",
              " 'fliers': [<matplotlib.lines.Line2D at 0x7a44acd775c0>],\n",
              " 'means': []}"
            ]
          },
          "metadata": {},
          "execution_count": 6
        },
        {
          "output_type": "display_data",
          "data": {
            "text/plain": [
              "<Figure size 640x480 with 1 Axes>"
            ],
            "image/png": "[encoded data removed]"
          },
          "metadata": {}
        }
      ],
      "source": [
        "plt.title(\"Box Plot Showing the Distribution of 'weight_kg'\")\n",
        "plt.boxplot(data[\"weight_kg\"])"
      ]
    },
    {
      "cell_type": "code",
      "execution_count": 8,
      "id": "japanese-index",
      "metadata": {
        "collapsed": true,
        "id": "japanese-index",
        "outputId": "9ea576ec-30b0-4509-c01a-5ad6649c9da5",
        "colab": {
          "base_uri": "https://localhost:8080/",
          "height": 595
        }
      },
      "outputs": [
        {
          "output_type": "execute_result",
          "data": {
            "text/plain": [
              "{'whiskers': [<matplotlib.lines.Line2D at 0x7a44ace50d70>,\n",
              "  <matplotlib.lines.Line2D at 0x7a44ace52120>],\n",
              " 'caps': [<matplotlib.lines.Line2D at 0x7a44ace52420>,\n",
              "  <matplotlib.lines.Line2D at 0x7a44ace52780>],\n",
              " 'boxes': [<matplotlib.lines.Line2D at 0x7a44ace51dc0>],\n",
              " 'medians': [<matplotlib.lines.Line2D at 0x7a44ace52ab0>],\n",
              " 'fliers': [<matplotlib.lines.Line2D at 0x7a44ace52de0>],\n",
              " 'means': []}"
            ]
          },
          "metadata": {},
          "execution_count": 8
        },
        {
          "output_type": "display_data",
          "data": {
            "text/plain": [
              "<Figure size 640x480 with 1 Axes>"
            ],
            "image/png": "[encoded data removed]"
          },
          "metadata": {}
        }
      ],
      "source": [
        "plt.title(\"Box Plot Showing the Distribution of 'age'\")\n",
        "plt.boxplot(data[\"age\"])"
      ]
    },
    {
      "cell_type": "markdown",
      "id": "circular-cheat",
      "metadata": {
        "id": "circular-cheat"
      },
      "source": [
        "In the first box plot, we see that half of the people in the data set are under 64 kg,\n",
        "just as shown in the table generated by `data.describe()`. We see also that there are some outliers who weigh more than the general population of people in our data set.\n",
        "\n",
        "\n",
        "**Task:** Plot box plots for the remaining numerical features."
      ]
    },
    {
      "cell_type": "code",
      "execution_count": 7,
      "id": "brutal-pioneer",
      "metadata": {
        "collapsed": true,
        "id": "brutal-pioneer",
        "outputId": "445edc2f-e8a4-4350-d81f-a1954f55739c",
        "colab": {
          "base_uri": "https://localhost:8080/",
          "height": 595
        }
      },
      "outputs": [
        {
          "output_type": "execute_result",
          "data": {
            "text/plain": [
              "{'whiskers': [<matplotlib.lines.Line2D at 0x7a44acdfbda0>,\n",
              "  <matplotlib.lines.Line2D at 0x7a44ace041d0>],\n",
              " 'caps': [<matplotlib.lines.Line2D at 0x7a44ace044d0>,\n",
              "  <matplotlib.lines.Line2D at 0x7a44ace047d0>],\n",
              " 'boxes': [<matplotlib.lines.Line2D at 0x7a44acdfbaa0>],\n",
              " 'medians': [<matplotlib.lines.Line2D at 0x7a44ace04b60>],\n",
              " 'fliers': [<matplotlib.lines.Line2D at 0x7a44ace04e90>],\n",
              " 'means': []}"
            ]
          },
          "metadata": {},
          "execution_count": 7
        },
        {
          "output_type": "display_data",
          "data": {
            "text/plain": [
              "<Figure size 640x480 with 1 Axes>"
            ],
            "image/png": "[encoded data removed]"
          },
          "metadata": {}
        }
      ],
      "source": [
        "plt.title(\"Box Plot Showing the Distribution of 'blood_cholesterol'\")\n",
        "plt.boxplot(data[\"blood_cholesterol\"])"
      ]
    },
    {
      "cell_type": "code",
      "source": [
        "plt.title(\"Box Plot Showing the Distribution of 'blood_pressure_sys'\")\n",
        "plt.boxplot(data[\"blood_pressure_sys\"])"
      ],
      "metadata": {
        "collapsed": true,
        "id": "61BfTxbm89Vp",
        "outputId": "fa47c5f5-dbbd-498b-dcfc-272d96e17f29",
        "colab": {
          "base_uri": "https://localhost:8080/",
          "height": 595
        }
      },
      "id": "61BfTxbm89Vp",
      "execution_count": 9,
      "outputs": [
        {
          "output_type": "execute_result",
          "data": {
            "text/plain": [
              "{'whiskers': [<matplotlib.lines.Line2D at 0x7a44aaca21e0>,\n",
              "  <matplotlib.lines.Line2D at 0x7a44aad0c530>],\n",
              " 'caps': [<matplotlib.lines.Line2D at 0x7a44aad0c860>,\n",
              "  <matplotlib.lines.Line2D at 0x7a44aad0cb60>],\n",
              " 'boxes': [<matplotlib.lines.Line2D at 0x7a44aacabf50>],\n",
              " 'medians': [<matplotlib.lines.Line2D at 0x7a44ad041c70>],\n",
              " 'fliers': [<matplotlib.lines.Line2D at 0x7a44aad0cfb0>],\n",
              " 'means': []}"
            ]
          },
          "metadata": {},
          "execution_count": 9
        },
        {
          "output_type": "display_data",
          "data": {
            "text/plain": [
              "<Figure size 640x480 with 1 Axes>"
            ],
            "image/png": "[encoded data removed]"
          },
          "metadata": {}
        }
      ]
    },
    {
      "cell_type": "code",
      "source": [
        "plt.title(\"Box Plot Showing the Distribution of 'diastolic_bp'\")\n",
        "plt.boxplot(data[\"diastolic_bp\"])"
      ],
      "metadata": {
        "collapsed": true,
        "id": "wOR5gQDJ9c6B",
        "outputId": "3fb6ddad-cf83-4d95-b8e4-a9cd4042b4b7",
        "colab": {
          "base_uri": "https://localhost:8080/",
          "height": 595
        }
      },
      "id": "wOR5gQDJ9c6B",
      "execution_count": 10,
      "outputs": [
        {
          "output_type": "execute_result",
          "data": {
            "text/plain": [
              "{'whiskers': [<matplotlib.lines.Line2D at 0x7a44aad63350>,\n",
              "  <matplotlib.lines.Line2D at 0x7a44aab68590>],\n",
              " 'caps': [<matplotlib.lines.Line2D at 0x7a44aab68860>,\n",
              "  <matplotlib.lines.Line2D at 0x7a44aab68b30>],\n",
              " 'boxes': [<matplotlib.lines.Line2D at 0x7a44aab68080>],\n",
              " 'medians': [<matplotlib.lines.Line2D at 0x7a44aab68da0>],\n",
              " 'fliers': [<matplotlib.lines.Line2D at 0x7a44aab69070>],\n",
              " 'means': []}"
            ]
          },
          "metadata": {},
          "execution_count": 10
        },
        {
          "output_type": "display_data",
          "data": {
            "text/plain": [
              "<Figure size 640x480 with 1 Axes>"
            ],
            "image/png": "[encoded data removed]"
          },
          "metadata": {}
        }
      ]
    },
    {
      "cell_type": "code",
      "source": [
        "plt.title(\"Box Plot Showing the Distribution of 'calories'\")\n",
        "plt.boxplot(data[\"calories\"])"
      ],
      "metadata": {
        "collapsed": true,
        "id": "Tn4czGup9li6",
        "outputId": "1ff1898f-84ca-4a1d-a3c0-ae9d12f07502",
        "colab": {
          "base_uri": "https://localhost:8080/",
          "height": 595
        }
      },
      "id": "Tn4czGup9li6",
      "execution_count": 11,
      "outputs": [
        {
          "output_type": "execute_result",
          "data": {
            "text/plain": [
              "{'whiskers': [<matplotlib.lines.Line2D at 0x7a44aabd3320>,\n",
              "  <matplotlib.lines.Line2D at 0x7a44aabd3620>],\n",
              " 'caps': [<matplotlib.lines.Line2D at 0x7a44aabd3920>,\n",
              "  <matplotlib.lines.Line2D at 0x7a44aabd3c50>],\n",
              " 'boxes': [<matplotlib.lines.Line2D at 0x7a44aabd2570>],\n",
              " 'medians': [<matplotlib.lines.Line2D at 0x7a44aabd3ef0>],\n",
              " 'fliers': [<matplotlib.lines.Line2D at 0x7a44aac00230>],\n",
              " 'means': []}"
            ]
          },
          "metadata": {},
          "execution_count": 11
        },
        {
          "output_type": "display_data",
          "data": {
            "text/plain": [
              "<Figure size 640x480 with 1 Axes>"
            ],
            "image/png": "[encoded data removed]"
          },
          "metadata": {}
        }
      ]
    },
    {
      "cell_type": "code",
      "source": [
        "plt.title(\"Box Plot Showing the Distribution of 'BMI'\")\n",
        "plt.boxplot(data[\"BMI\"])"
      ],
      "metadata": {
        "collapsed": true,
        "id": "TmNoDEM_9ntx",
        "outputId": "d56bb74f-9b8d-4fb0-bde6-87817047d392",
        "colab": {
          "base_uri": "https://localhost:8080/",
          "height": 595
        }
      },
      "id": "TmNoDEM_9ntx",
      "execution_count": 12,
      "outputs": [
        {
          "output_type": "execute_result",
          "data": {
            "text/plain": [
              "{'whiskers': [<matplotlib.lines.Line2D at 0x7a44aac45280>,\n",
              "  <matplotlib.lines.Line2D at 0x7a44aac45580>],\n",
              " 'caps': [<matplotlib.lines.Line2D at 0x7a44aac458b0>,\n",
              "  <matplotlib.lines.Line2D at 0x7a44aac45ac0>],\n",
              " 'boxes': [<matplotlib.lines.Line2D at 0x7a44aac44fb0>],\n",
              " 'medians': [<matplotlib.lines.Line2D at 0x7a44aac45dc0>],\n",
              " 'fliers': [<matplotlib.lines.Line2D at 0x7a44aac460c0>],\n",
              " 'means': []}"
            ]
          },
          "metadata": {},
          "execution_count": 12
        },
        {
          "output_type": "display_data",
          "data": {
            "text/plain": [
              "<Figure size 640x480 with 1 Axes>"
            ],
            "image/png": "[encoded data removed]"
          },
          "metadata": {}
        }
      ]
    },
    {
      "cell_type": "code",
      "source": [
        "plt.title(\"Box Plot Showing the Distribution of 'family_income'\")\n",
        "plt.boxplot(data[\"family_income\"])"
      ],
      "metadata": {
        "collapsed": true,
        "id": "LPZPv6kA9pyW",
        "outputId": "a272e164-2fc0-45e5-b135-1fca423e0de3",
        "colab": {
          "base_uri": "https://localhost:8080/",
          "height": 595
        }
      },
      "id": "LPZPv6kA9pyW",
      "execution_count": 13,
      "outputs": [
        {
          "output_type": "execute_result",
          "data": {
            "text/plain": [
              "{'whiskers': [<matplotlib.lines.Line2D at 0x7a44aa9a9820>,\n",
              "  <matplotlib.lines.Line2D at 0x7a44aa9a9af0>],\n",
              " 'caps': [<matplotlib.lines.Line2D at 0x7a44aa9a9d90>,\n",
              "  <matplotlib.lines.Line2D at 0x7a44aa9aa090>],\n",
              " 'boxes': [<matplotlib.lines.Line2D at 0x7a44aa9a9550>],\n",
              " 'medians': [<matplotlib.lines.Line2D at 0x7a44aa9aa390>],\n",
              " 'fliers': [<matplotlib.lines.Line2D at 0x7a44aa9aa660>],\n",
              " 'means': []}"
            ]
          },
          "metadata": {},
          "execution_count": 13
        },
        {
          "output_type": "display_data",
          "data": {
            "text/plain": [
              "<Figure size 640x480 with 1 Axes>"
            ],
            "image/png": "[encoded data removed]"
          },
          "metadata": {}
        }
      ]
    },
    {
      "cell_type": "markdown",
      "id": "blocked-variation",
      "metadata": {
        "id": "blocked-variation"
      },
      "source": [
        "For the categorical features, we can also tabulate the frequency that each category\n",
        "occurs in the data set:"
      ]
    },
    {
      "cell_type": "code",
      "execution_count": 14,
      "id": "marked-respect",
      "metadata": {
        "id": "marked-respect",
        "outputId": "20691036-b3f6-4894-e38e-26b5f45e3df5",
        "colab": {
          "base_uri": "https://localhost:8080/",
          "height": 178
        }
      },
      "outputs": [
        {
          "output_type": "execute_result",
          "data": {
            "text/plain": [
              "gender\n",
              "1    4013\n",
              "2    3987\n",
              "Name: count, dtype: int64"
            ],
            "text/html": [
              "<div>\n",
              "<style scoped>\n",
              "    .dataframe tbody tr th:only-of-type {\n",
              "        vertical-align: middle;\n",
              "    }\n",
              "\n",
              "    .dataframe tbody tr th {\n",
              "        vertical-align: top;\n",
              "    }\n",
              "\n",
              "    .dataframe thead th {\n",
              "        text-align: right;\n",
              "    }\n",
              "</style>\n",
              "<table border=\"1\" class=\"dataframe\">\n",
              "  <thead>\n",
              "    <tr style=\"text-align: right;\">\n",
              "      <th></th>\n",
              "      <th>count</th>\n",
              "    </tr>\n",
              "    <tr>\n",
              "      <th>gender</th>\n",
              "      <th></th>\n",
              "    </tr>\n",
              "  </thead>\n",
              "  <tbody>\n",
              "    <tr>\n",
              "      <th>1</th>\n",
              "      <td>4013</td>\n",
              "    </tr>\n",
              "    <tr>\n",
              "      <th>2</th>\n",
              "      <td>3987</td>\n",
              "    </tr>\n",
              "  </tbody>\n",
              "</table>\n",
              "</div><br><label><b>dtype:</b> int64</label>"
            ]
          },
          "metadata": {},
          "execution_count": 14
        }
      ],
      "source": [
        "data['gender'].value_counts()"
      ]
    },
    {
      "cell_type": "code",
      "execution_count": 15,
      "id": "mediterranean-interest",
      "metadata": {
        "id": "mediterranean-interest",
        "outputId": "7cc64e04-0d80-41ec-d60f-e6c0f6bb7019",
        "colab": {
          "base_uri": "https://localhost:8080/",
          "height": 178
        }
      },
      "outputs": [
        {
          "output_type": "execute_result",
          "data": {
            "text/plain": [
              "drink_alcohol\n",
              "1.0    5565\n",
              "2.0    2435\n",
              "Name: count, dtype: int64"
            ],
            "text/html": [
              "<div>\n",
              "<style scoped>\n",
              "    .dataframe tbody tr th:only-of-type {\n",
              "        vertical-align: middle;\n",
              "    }\n",
              "\n",
              "    .dataframe tbody tr th {\n",
              "        vertical-align: top;\n",
              "    }\n",
              "\n",
              "    .dataframe thead th {\n",
              "        text-align: right;\n",
              "    }\n",
              "</style>\n",
              "<table border=\"1\" class=\"dataframe\">\n",
              "  <thead>\n",
              "    <tr style=\"text-align: right;\">\n",
              "      <th></th>\n",
              "      <th>count</th>\n",
              "    </tr>\n",
              "    <tr>\n",
              "      <th>drink_alcohol</th>\n",
              "      <th></th>\n",
              "    </tr>\n",
              "  </thead>\n",
              "  <tbody>\n",
              "    <tr>\n",
              "      <th>1.0</th>\n",
              "      <td>5565</td>\n",
              "    </tr>\n",
              "    <tr>\n",
              "      <th>2.0</th>\n",
              "      <td>2435</td>\n",
              "    </tr>\n",
              "  </tbody>\n",
              "</table>\n",
              "</div><br><label><b>dtype:</b> int64</label>"
            ]
          },
          "metadata": {},
          "execution_count": 15
        }
      ],
      "source": [
        "data['drink_alcohol'].value_counts()"
      ]
    },
    {
      "cell_type": "code",
      "execution_count": 16,
      "id": "alert-copper",
      "metadata": {
        "id": "alert-copper",
        "outputId": "561ad6be-fd1b-4c8b-e919-08a1c0e8d732",
        "colab": {
          "base_uri": "https://localhost:8080/",
          "height": 178
        }
      },
      "outputs": [
        {
          "output_type": "execute_result",
          "data": {
            "text/plain": [
              "chest_pain_ever\n",
              "2.0    5193\n",
              "1.0    2807\n",
              "Name: count, dtype: int64"
            ],
            "text/html": [
              "<div>\n",
              "<style scoped>\n",
              "    .dataframe tbody tr th:only-of-type {\n",
              "        vertical-align: middle;\n",
              "    }\n",
              "\n",
              "    .dataframe tbody tr th {\n",
              "        vertical-align: top;\n",
              "    }\n",
              "\n",
              "    .dataframe thead th {\n",
              "        text-align: right;\n",
              "    }\n",
              "</style>\n",
              "<table border=\"1\" class=\"dataframe\">\n",
              "  <thead>\n",
              "    <tr style=\"text-align: right;\">\n",
              "      <th></th>\n",
              "      <th>count</th>\n",
              "    </tr>\n",
              "    <tr>\n",
              "      <th>chest_pain_ever</th>\n",
              "      <th></th>\n",
              "    </tr>\n",
              "  </thead>\n",
              "  <tbody>\n",
              "    <tr>\n",
              "      <th>2.0</th>\n",
              "      <td>5193</td>\n",
              "    </tr>\n",
              "    <tr>\n",
              "      <th>1.0</th>\n",
              "      <td>2807</td>\n",
              "    </tr>\n",
              "  </tbody>\n",
              "</table>\n",
              "</div><br><label><b>dtype:</b> int64</label>"
            ]
          },
          "metadata": {},
          "execution_count": 16
        }
      ],
      "source": [
        "data['chest_pain_ever'].value_counts()"
      ]
    },
    {
      "cell_type": "markdown",
      "id": "smaller-lottery",
      "metadata": {
        "id": "smaller-lottery"
      },
      "source": [
        "We see there are roughly equal numbers of men and women in the dataset and the majority report they drink alcohol.  About 1 in 4 report that they have experienced chest pain at some point in their lives.\n",
        "\n",
        "Finally, let's take a look at the distribution of our target variable."
      ]
    },
    {
      "cell_type": "code",
      "execution_count": 17,
      "id": "statutory-hamburg",
      "metadata": {
        "id": "statutory-hamburg",
        "outputId": "7c53326f-f326-46cf-853c-cc626ff16707",
        "colab": {
          "base_uri": "https://localhost:8080/",
          "height": 178
        }
      },
      "outputs": [
        {
          "output_type": "execute_result",
          "data": {
            "text/plain": [
              "target_heart\n",
              "0.0    4000\n",
              "1.0    4000\n",
              "Name: count, dtype: int64"
            ],
            "text/html": [
              "<div>\n",
              "<style scoped>\n",
              "    .dataframe tbody tr th:only-of-type {\n",
              "        vertical-align: middle;\n",
              "    }\n",
              "\n",
              "    .dataframe tbody tr th {\n",
              "        vertical-align: top;\n",
              "    }\n",
              "\n",
              "    .dataframe thead th {\n",
              "        text-align: right;\n",
              "    }\n",
              "</style>\n",
              "<table border=\"1\" class=\"dataframe\">\n",
              "  <thead>\n",
              "    <tr style=\"text-align: right;\">\n",
              "      <th></th>\n",
              "      <th>count</th>\n",
              "    </tr>\n",
              "    <tr>\n",
              "      <th>target_heart</th>\n",
              "      <th></th>\n",
              "    </tr>\n",
              "  </thead>\n",
              "  <tbody>\n",
              "    <tr>\n",
              "      <th>0.0</th>\n",
              "      <td>4000</td>\n",
              "    </tr>\n",
              "    <tr>\n",
              "      <th>1.0</th>\n",
              "      <td>4000</td>\n",
              "    </tr>\n",
              "  </tbody>\n",
              "</table>\n",
              "</div><br><label><b>dtype:</b> int64</label>"
            ]
          },
          "metadata": {},
          "execution_count": 17
        }
      ],
      "source": [
        "data['target_heart'].value_counts()"
      ]
    },
    {
      "cell_type": "markdown",
      "id": "scheduled-gallery",
      "metadata": {
        "id": "scheduled-gallery"
      },
      "source": [
        "Note there are an equal number of cases that are labelled as having heart disease as not having heart disease.  This is both curious and convenient but it is absolutely **NOT** representative of the distribution of heart disease in the general population.  In the general population of Canada, about 1 in 12 (or 8%) have heart disease.  This is roughly the same as the distribution of reported heart disease across all NHANES survey respondents.  So why doesn't the data we are analyzing here reflect this distribution?  This is because we have sampled the NHANES survey data so as to **balance** the cases of heart disease against the cases without.\n",
        "\n",
        "**Task** Why did we create a dataset with a roughly equal number of data points that have `target_heart=1` and `target_heart=0`? In particular, what do you think might happen to our decision tree if we allowed 92% our training data to reflect the true prevalence of heart disease? <!-- ... and to therefore consist of data points with `target_heart=0`? -->"
      ]
    },
    {
      "cell_type": "code",
      "execution_count": 18,
      "id": "fancy-closure",
      "metadata": {
        "id": "fancy-closure"
      },
      "outputs": [],
      "source": [
        "# With highly imbalanced data, a decision tree tends to favor the majority class\n",
        "# and fails to learn the minority class features.\n",
        "\n",
        "# This leads to high overall accuracy but poor performance on the minority class,\n",
        "# making the predictions unreliable."
      ]
    },
    {
      "cell_type": "markdown",
      "id": "olive-message",
      "metadata": {
        "id": "olive-message"
      },
      "source": [
        "**Task**: Let's continue exploring our data by plotting separate box plots for people with heart disease and people without heart disease. These box plots for (for `blood_cholesterol`, `age`, `calories` and `BMI`) should give you a sense of whether people with heart disease are\n",
        "different from those without heart disease, according to each of these characteristics. You should see that those with heart disease are, on average, older."
      ]
    },
    {
      "cell_type": "code",
      "execution_count": 54,
      "id": "scientific-generator",
      "metadata": {
        "id": "scientific-generator",
        "outputId": "e2dd7cef-cd53-4120-8b67-a975e3730787",
        "colab": {
          "base_uri": "https://localhost:8080/",
          "height": 496
        }
      },
      "outputs": [
        {
          "output_type": "execute_result",
          "data": {
            "text/plain": [
              "<Axes: title={'center': 'blood_cholesterol'}, xlabel='target_heart'>"
            ]
          },
          "metadata": {},
          "execution_count": 54
        },
        {
          "output_type": "display_data",
          "data": {
            "text/plain": [
              "<Figure size 640x480 with 1 Axes>"
            ],
            "image/png": "[encoded data removed]"
          },
          "metadata": {}
        }
      ],
      "source": [
        "# analyze the distribution of blood_cholesterol for people with and without heart disease\n",
        "data.boxplot(column='blood_cholesterol', by='target_heart')"
      ]
    },
    {
      "cell_type": "code",
      "source": [
        "# analyze the distribution of age for people with and without heart disease\n",
        "data.boxplot(column='age', by='target_heart')"
      ],
      "metadata": {
        "id": "8lEafGAmOTc5",
        "outputId": "a8f3ace7-da43-4a01-cc00-f09c47bad58a",
        "colab": {
          "base_uri": "https://localhost:8080/",
          "height": 496
        }
      },
      "id": "8lEafGAmOTc5",
      "execution_count": 55,
      "outputs": [
        {
          "output_type": "execute_result",
          "data": {
            "text/plain": [
              "<Axes: title={'center': 'age'}, xlabel='target_heart'>"
            ]
          },
          "metadata": {},
          "execution_count": 55
        },
        {
          "output_type": "display_data",
          "data": {
            "text/plain": [
              "<Figure size 640x480 with 1 Axes>"
            ],
            "image/png": "[encoded data removed]"
          },
          "metadata": {}
        }
      ]
    },
    {
      "cell_type": "code",
      "source": [
        "# analyze the distribution of calories for people with and without heart disease\n",
        "data.boxplot(column='calories', by='target_heart')"
      ],
      "metadata": {
        "id": "AtLOchahOZd9",
        "outputId": "49a24860-a97f-4417-c3ea-5449a435046e",
        "colab": {
          "base_uri": "https://localhost:8080/",
          "height": 496
        }
      },
      "id": "AtLOchahOZd9",
      "execution_count": 56,
      "outputs": [
        {
          "output_type": "execute_result",
          "data": {
            "text/plain": [
              "<Axes: title={'center': 'calories'}, xlabel='target_heart'>"
            ]
          },
          "metadata": {},
          "execution_count": 56
        },
        {
          "output_type": "display_data",
          "data": {
            "text/plain": [
              "<Figure size 640x480 with 1 Axes>"
            ],
            "image/png": "[encoded data removed]"
          },
          "metadata": {}
        }
      ]
    },
    {
      "cell_type": "code",
      "source": [
        "# analyze the distribution of BMI for people with and without heart disease\n",
        "data.boxplot(column='BMI', by='target_heart')"
      ],
      "metadata": {
        "id": "4LU3U8h3Od0L",
        "outputId": "49f98e07-d216-4b87-d340-ee9c87045b18",
        "colab": {
          "base_uri": "https://localhost:8080/",
          "height": 496
        }
      },
      "id": "4LU3U8h3Od0L",
      "execution_count": 57,
      "outputs": [
        {
          "output_type": "execute_result",
          "data": {
            "text/plain": [
              "<Axes: title={'center': 'BMI'}, xlabel='target_heart'>"
            ]
          },
          "metadata": {},
          "execution_count": 57
        },
        {
          "output_type": "display_data",
          "data": {
            "text/plain": [
              "<Figure size 640x480 with 1 Axes>"
            ],
            "image/png": "[encoded data removed]"
          },
          "metadata": {}
        }
      ]
    },
    {
      "cell_type": "markdown",
      "id": "empirical-jaguar",
      "metadata": {
        "id": "empirical-jaguar"
      },
      "source": [
        "**Task**: We will do the same type of exploration for the categorical\n",
        "variables. Read the documentation for\n",
        "[pandas.crosstab](https://pandas.pydata.org/docs/reference/api/pandas.crosstab.html)\n",
        "so that you can explain the results of the following calls:"
      ]
    },
    {
      "cell_type": "code",
      "execution_count": 58,
      "id": "interesting-kelly",
      "metadata": {
        "id": "interesting-kelly",
        "outputId": "04567808-f18e-4852-b565-04e31a6f9b7b",
        "colab": {
          "base_uri": "https://localhost:8080/",
          "height": 143
        }
      },
      "outputs": [
        {
          "output_type": "execute_result",
          "data": {
            "text/plain": [
              "gender           1     2\n",
              "target_heart            \n",
              "0.0           1819  2181\n",
              "1.0           2194  1806"
            ],
            "text/html": [
              "\n",
              "  <div id=\"df-1852fbfd-2f9a-4300-a032-c344d69cc9e0\" class=\"colab-df-container\">\n",
              "    <div>\n",
              "<style scoped>\n",
              "    .dataframe tbody tr th:only-of-type {\n",
              "        vertical-align: middle;\n",
              "    }\n",
              "\n",
              "    .dataframe tbody tr th {\n",
              "        vertical-align: top;\n",
              "    }\n",
              "\n",
              "    .dataframe thead th {\n",
              "        text-align: right;\n",
              "    }\n",
              "</style>\n",
              "<table border=\"1\" class=\"dataframe\">\n",
              "  <thead>\n",
              "    <tr style=\"text-align: right;\">\n",
              "      <th>gender</th>\n",
              "      <th>1</th>\n",
              "      <th>2</th>\n",
              "    </tr>\n",
              "    <tr>\n",
              "      <th>target_heart</th>\n",
              "      <th></th>\n",
              "      <th></th>\n",
              "    </tr>\n",
              "  </thead>\n",
              "  <tbody>\n",
              "    <tr>\n",
              "      <th>0.0</th>\n",
              "      <td>1819</td>\n",
              "      <td>2181</td>\n",
              "    </tr>\n",
              "    <tr>\n",
              "      <th>1.0</th>\n",
              "      <td>2194</td>\n",
              "      <td>1806</td>\n",
              "    </tr>\n",
              "  </tbody>\n",
              "</table>\n",
              "</div>\n",
              "    <div class=\"colab-df-buttons\">\n",
              "\n",
              "  <div class=\"colab-df-container\">\n",
              "    <button class=\"colab-df-convert\" onclick=\"convertToInteractive('df-1852fbfd-2f9a-4300-a032-c344d69cc9e0')\"\n",
              "            title=\"Convert this dataframe to an interactive table.\"\n",
              "            style=\"display:none;\">\n",
              "\n",
              "  <svg xmlns=\"http://www.w3.org/2000/svg\" height=\"24px\" viewBox=\"0 -960 960 960\">\n",
              "    <path d=\"M120-120v-720h720v720H120Zm60-500h600v-160H180v160Zm220 220h160v-160H400v160Zm0 220h160v-160H400v160ZM180-400h160v-160H180v160Zm440 0h160v-160H620v160ZM180-180h160v-160H180v160Zm440 0h160v-160H620v160Z\"/>\n",
              "  </svg>\n",
              "    </button>\n",
              "\n",
              "  <style>\n",
              "    .colab-df-container {\n",
              "      display:flex;\n",
              "      gap: 12px;\n",
              "    }\n",
              "\n",
              "    .colab-df-convert {\n",
              "      background-color: #E8F0FE;\n",
              "      border: none;\n",
              "      border-radius: 50%;\n",
              "      cursor: pointer;\n",
              "      display: none;\n",
              "      fill: #1967D2;\n",
              "      height: 32px;\n",
              "      padding: 0 0 0 0;\n",
              "      width: 32px;\n",
              "    }\n",
              "\n",
              "    .colab-df-convert:hover {\n",
              "      background-color: #E2EBFA;\n",
              "      box-shadow: 0px 1px 2px rgba(60, 64, 67, 0.3), 0px 1px 3px 1px rgba(60, 64, 67, 0.15);\n",
              "      fill: #174EA6;\n",
              "    }\n",
              "\n",
              "    .colab-df-buttons div {\n",
              "      margin-bottom: 4px;\n",
              "    }\n",
              "\n",
              "    [theme=dark] .colab-df-convert {\n",
              "      background-color: #3B4455;\n",
              "      fill: #D2E3FC;\n",
              "    }\n",
              "\n",
              "    [theme=dark] .colab-df-convert:hover {\n",
              "      background-color: #434B5C;\n",
              "      box-shadow: 0px 1px 3px 1px rgba(0, 0, 0, 0.15);\n",
              "      filter: drop-shadow(0px 1px 2px rgba(0, 0, 0, 0.3));\n",
              "      fill: #FFFFFF;\n",
              "    }\n",
              "  </style>\n",
              "\n",
              "    <script>\n",
              "      const buttonEl =\n",
              "        document.querySelector('#df-1852fbfd-2f9a-4300-a032-c344d69cc9e0 button.colab-df-convert');\n",
              "      buttonEl.style.display =\n",
              "        google.colab.kernel.accessAllowed ? 'block' : 'none';\n",
              "\n",
              "      async function convertToInteractive(key) {\n",
              "        const element = document.querySelector('#df-1852fbfd-2f9a-4300-a032-c344d69cc9e0');\n",
              "        const dataTable =\n",
              "          await google.colab.kernel.invokeFunction('convertToInteractive',\n",
              "                                                    [key], {});\n",
              "        if (!dataTable) return;\n",
              "\n",
              "        const docLinkHtml = 'Like what you see? Visit the ' +\n",
              "          '<a target=\"_blank\" href=https://colab.research.google.com/notebooks/data_table.ipynb>data table notebook</a>'\n",
              "          + ' to learn more about interactive tables.';\n",
              "        element.innerHTML = '';\n",
              "        dataTable['output_type'] = 'display_data';\n",
              "        await google.colab.output.renderOutput(dataTable, element);\n",
              "        const docLink = document.createElement('div');\n",
              "        docLink.innerHTML = docLinkHtml;\n",
              "        element.appendChild(docLink);\n",
              "      }\n",
              "    </script>\n",
              "  </div>\n",
              "\n",
              "\n",
              "    <div id=\"df-4232c2ee-af6e-4761-adcf-82bbf355d63b\">\n",
              "      <button class=\"colab-df-quickchart\" onclick=\"quickchart('df-4232c2ee-af6e-4761-adcf-82bbf355d63b')\"\n",
              "                title=\"Suggest charts\"\n",
              "                style=\"display:none;\">\n",
              "\n",
              "<svg xmlns=\"http://www.w3.org/2000/svg\" height=\"24px\"viewBox=\"0 0 24 24\"\n",
              "     width=\"24px\">\n",
              "    <g>\n",
              "        <path d=\"M19 3H5c-1.1 0-2 .9-2 2v14c0 1.1.9 2 2 2h14c1.1 0 2-.9 2-2V5c0-1.1-.9-2-2-2zM9 17H7v-7h2v7zm4 0h-2V7h2v10zm4 0h-2v-4h2v4z\"/>\n",
              "    </g>\n",
              "</svg>\n",
              "      </button>\n",
              "\n",
              "<style>\n",
              "  .colab-df-quickchart {\n",
              "      --bg-color: #E8F0FE;\n",
              "      --fill-color: #1967D2;\n",
              "      --hover-bg-color: #E2EBFA;\n",
              "      --hover-fill-color: #174EA6;\n",
              "      --disabled-fill-color: #AAA;\n",
              "      --disabled-bg-color: #DDD;\n",
              "  }\n",
              "\n",
              "  [theme=dark] .colab-df-quickchart {\n",
              "      --bg-color: #3B4455;\n",
              "      --fill-color: #D2E3FC;\n",
              "      --hover-bg-color: #434B5C;\n",
              "      --hover-fill-color: #FFFFFF;\n",
              "      --disabled-bg-color: #3B4455;\n",
              "      --disabled-fill-color: #666;\n",
              "  }\n",
              "\n",
              "  .colab-df-quickchart {\n",
              "    background-color: var(--bg-color);\n",
              "    border: none;\n",
              "    border-radius: 50%;\n",
              "    cursor: pointer;\n",
              "    display: none;\n",
              "    fill: var(--fill-color);\n",
              "    height: 32px;\n",
              "    padding: 0;\n",
              "    width: 32px;\n",
              "  }\n",
              "\n",
              "  .colab-df-quickchart:hover {\n",
              "    background-color: var(--hover-bg-color);\n",
              "    box-shadow: 0 1px 2px rgba(60, 64, 67, 0.3), 0 1px 3px 1px rgba(60, 64, 67, 0.15);\n",
              "    fill: var(--button-hover-fill-color);\n",
              "  }\n",
              "\n",
              "  .colab-df-quickchart-complete:disabled,\n",
              "  .colab-df-quickchart-complete:disabled:hover {\n",
              "    background-color: var(--disabled-bg-color);\n",
              "    fill: var(--disabled-fill-color);\n",
              "    box-shadow: none;\n",
              "  }\n",
              "\n",
              "  .colab-df-spinner {\n",
              "    border: 2px solid var(--fill-color);\n",
              "    border-color: transparent;\n",
              "    border-bottom-color: var(--fill-color);\n",
              "    animation:\n",
              "      spin 1s steps(1) infinite;\n",
              "  }\n",
              "\n",
              "  @keyframes spin {\n",
              "    0% {\n",
              "      border-color: transparent;\n",
              "      border-bottom-color: var(--fill-color);\n",
              "      border-left-color: var(--fill-color);\n",
              "    }\n",
              "    20% {\n",
              "      border-color: transparent;\n",
              "      border-left-color: var(--fill-color);\n",
              "      border-top-color: var(--fill-color);\n",
              "    }\n",
              "    30% {\n",
              "      border-color: transparent;\n",
              "      border-left-color: var(--fill-color);\n",
              "      border-top-color: var(--fill-color);\n",
              "      border-right-color: var(--fill-color);\n",
              "    }\n",
              "    40% {\n",
              "      border-color: transparent;\n",
              "      border-right-color: var(--fill-color);\n",
              "      border-top-color: var(--fill-color);\n",
              "    }\n",
              "    60% {\n",
              "      border-color: transparent;\n",
              "      border-right-color: var(--fill-color);\n",
              "    }\n",
              "    80% {\n",
              "      border-color: transparent;\n",
              "      border-right-color: var(--fill-color);\n",
              "      border-bottom-color: var(--fill-color);\n",
              "    }\n",
              "    90% {\n",
              "      border-color: transparent;\n",
              "      border-bottom-color: var(--fill-color);\n",
              "    }\n",
              "  }\n",
              "</style>\n",
              "\n",
              "      <script>\n",
              "        async function quickchart(key) {\n",
              "          const quickchartButtonEl =\n",
              "            document.querySelector('#' + key + ' button');\n",
              "          quickchartButtonEl.disabled = true;  // To prevent multiple clicks.\n",
              "          quickchartButtonEl.classList.add('colab-df-spinner');\n",
              "          try {\n",
              "            const charts = await google.colab.kernel.invokeFunction(\n",
              "                'suggestCharts', [key], {});\n",
              "          } catch (error) {\n",
              "            console.error('Error during call to suggestCharts:', error);\n",
              "          }\n",
              "          quickchartButtonEl.classList.remove('colab-df-spinner');\n",
              "          quickchartButtonEl.classList.add('colab-df-quickchart-complete');\n",
              "        }\n",
              "        (() => {\n",
              "          let quickchartButtonEl =\n",
              "            document.querySelector('#df-4232c2ee-af6e-4761-adcf-82bbf355d63b button');\n",
              "          quickchartButtonEl.style.display =\n",
              "            google.colab.kernel.accessAllowed ? 'block' : 'none';\n",
              "        })();\n",
              "      </script>\n",
              "    </div>\n",
              "\n",
              "    </div>\n",
              "  </div>\n"
            ],
            "application/vnd.google.colaboratory.intrinsic+json": {
              "type": "dataframe",
              "summary": "{\n  \"name\": \"pd\",\n  \"rows\": 2,\n  \"fields\": [\n    {\n      \"column\": \"target_heart\",\n      \"properties\": {\n        \"dtype\": \"number\",\n        \"std\": 0.7071067811865476,\n        \"min\": 0.0,\n        \"max\": 1.0,\n        \"num_unique_values\": 2,\n        \"samples\": [\n          1.0,\n          0.0\n        ],\n        \"semantic_type\": \"\",\n        \"description\": \"\"\n      }\n    },\n    {\n      \"column\": 1,\n      \"properties\": {\n        \"dtype\": \"number\",\n        \"std\": 265,\n        \"min\": 1819,\n        \"max\": 2194,\n        \"num_unique_values\": 2,\n        \"samples\": [\n          2194,\n          1819\n        ],\n        \"semantic_type\": \"\",\n        \"description\": \"\"\n      }\n    },\n    {\n      \"column\": 2,\n      \"properties\": {\n        \"dtype\": \"number\",\n        \"std\": 265,\n        \"min\": 1806,\n        \"max\": 2181,\n        \"num_unique_values\": 2,\n        \"samples\": [\n          1806,\n          2181\n        ],\n        \"semantic_type\": \"\",\n        \"description\": \"\"\n      }\n    }\n  ]\n}"
            }
          },
          "metadata": {},
          "execution_count": 58
        }
      ],
      "source": [
        "pd.crosstab(data[\"target_heart\"], data[\"gender\"])"
      ]
    },
    {
      "cell_type": "code",
      "execution_count": 59,
      "id": "living-nashville",
      "metadata": {
        "id": "living-nashville",
        "outputId": "cd834f6d-308b-46b5-bffc-fdcff817af7b",
        "colab": {
          "base_uri": "https://localhost:8080/",
          "height": 143
        }
      },
      "outputs": [
        {
          "output_type": "execute_result",
          "data": {
            "text/plain": [
              "drink_alcohol   1.0   2.0\n",
              "target_heart             \n",
              "0.0            2824  1176\n",
              "1.0            2741  1259"
            ],
            "text/html": [
              "\n",
              "  <div id=\"df-5c2f1b57-b1dc-4022-afe3-187d6a384cc7\" class=\"colab-df-container\">\n",
              "    <div>\n",
              "<style scoped>\n",
              "    .dataframe tbody tr th:only-of-type {\n",
              "        vertical-align: middle;\n",
              "    }\n",
              "\n",
              "    .dataframe tbody tr th {\n",
              "        vertical-align: top;\n",
              "    }\n",
              "\n",
              "    .dataframe thead th {\n",
              "        text-align: right;\n",
              "    }\n",
              "</style>\n",
              "<table border=\"1\" class=\"dataframe\">\n",
              "  <thead>\n",
              "    <tr style=\"text-align: right;\">\n",
              "      <th>drink_alcohol</th>\n",
              "      <th>1.0</th>\n",
              "      <th>2.0</th>\n",
              "    </tr>\n",
              "    <tr>\n",
              "      <th>target_heart</th>\n",
              "      <th></th>\n",
              "      <th></th>\n",
              "    </tr>\n",
              "  </thead>\n",
              "  <tbody>\n",
              "    <tr>\n",
              "      <th>0.0</th>\n",
              "      <td>2824</td>\n",
              "      <td>1176</td>\n",
              "    </tr>\n",
              "    <tr>\n",
              "      <th>1.0</th>\n",
              "      <td>2741</td>\n",
              "      <td>1259</td>\n",
              "    </tr>\n",
              "  </tbody>\n",
              "</table>\n",
              "</div>\n",
              "    <div class=\"colab-df-buttons\">\n",
              "\n",
              "  <div class=\"colab-df-container\">\n",
              "    <button class=\"colab-df-convert\" onclick=\"convertToInteractive('df-5c2f1b57-b1dc-4022-afe3-187d6a384cc7')\"\n",
              "            title=\"Convert this dataframe to an interactive table.\"\n",
              "            style=\"display:none;\">\n",
              "\n",
              "  <svg xmlns=\"http://www.w3.org/2000/svg\" height=\"24px\" viewBox=\"0 -960 960 960\">\n",
              "    <path d=\"M120-120v-720h720v720H120Zm60-500h600v-160H180v160Zm220 220h160v-160H400v160Zm0 220h160v-160H400v160ZM180-400h160v-160H180v160Zm440 0h160v-160H620v160ZM180-180h160v-160H180v160Zm440 0h160v-160H620v160Z\"/>\n",
              "  </svg>\n",
              "    </button>\n",
              "\n",
              "  <style>\n",
              "    .colab-df-container {\n",
              "      display:flex;\n",
              "      gap: 12px;\n",
              "    }\n",
              "\n",
              "    .colab-df-convert {\n",
              "      background-color: #E8F0FE;\n",
              "      border: none;\n",
              "      border-radius: 50%;\n",
              "      cursor: pointer;\n",
              "      display: none;\n",
              "      fill: #1967D2;\n",
              "      height: 32px;\n",
              "      padding: 0 0 0 0;\n",
              "      width: 32px;\n",
              "    }\n",
              "\n",
              "    .colab-df-convert:hover {\n",
              "      background-color: #E2EBFA;\n",
              "      box-shadow: 0px 1px 2px rgba(60, 64, 67, 0.3), 0px 1px 3px 1px rgba(60, 64, 67, 0.15);\n",
              "      fill: #174EA6;\n",
              "    }\n",
              "\n",
              "    .colab-df-buttons div {\n",
              "      margin-bottom: 4px;\n",
              "    }\n",
              "\n",
              "    [theme=dark] .colab-df-convert {\n",
              "      background-color: #3B4455;\n",
              "      fill: #D2E3FC;\n",
              "    }\n",
              "\n",
              "    [theme=dark] .colab-df-convert:hover {\n",
              "      background-color: #434B5C;\n",
              "      box-shadow: 0px 1px 3px 1px rgba(0, 0, 0, 0.15);\n",
              "      filter: drop-shadow(0px 1px 2px rgba(0, 0, 0, 0.3));\n",
              "      fill: #FFFFFF;\n",
              "    }\n",
              "  </style>\n",
              "\n",
              "    <script>\n",
              "      const buttonEl =\n",
              "        document.querySelector('#df-5c2f1b57-b1dc-4022-afe3-187d6a384cc7 button.colab-df-convert');\n",
              "      buttonEl.style.display =\n",
              "        google.colab.kernel.accessAllowed ? 'block' : 'none';\n",
              "\n",
              "      async function convertToInteractive(key) {\n",
              "        const element = document.querySelector('#df-5c2f1b57-b1dc-4022-afe3-187d6a384cc7');\n",
              "        const dataTable =\n",
              "          await google.colab.kernel.invokeFunction('convertToInteractive',\n",
              "                                                    [key], {});\n",
              "        if (!dataTable) return;\n",
              "\n",
              "        const docLinkHtml = 'Like what you see? Visit the ' +\n",
              "          '<a target=\"_blank\" href=https://colab.research.google.com/notebooks/data_table.ipynb>data table notebook</a>'\n",
              "          + ' to learn more about interactive tables.';\n",
              "        element.innerHTML = '';\n",
              "        dataTable['output_type'] = 'display_data';\n",
              "        await google.colab.output.renderOutput(dataTable, element);\n",
              "        const docLink = document.createElement('div');\n",
              "        docLink.innerHTML = docLinkHtml;\n",
              "        element.appendChild(docLink);\n",
              "      }\n",
              "    </script>\n",
              "  </div>\n",
              "\n",
              "\n",
              "    <div id=\"df-379985da-292e-4922-adfe-1c7e4f526a3a\">\n",
              "      <button class=\"colab-df-quickchart\" onclick=\"quickchart('df-379985da-292e-4922-adfe-1c7e4f526a3a')\"\n",
              "                title=\"Suggest charts\"\n",
              "                style=\"display:none;\">\n",
              "\n",
              "<svg xmlns=\"http://www.w3.org/2000/svg\" height=\"24px\"viewBox=\"0 0 24 24\"\n",
              "     width=\"24px\">\n",
              "    <g>\n",
              "        <path d=\"M19 3H5c-1.1 0-2 .9-2 2v14c0 1.1.9 2 2 2h14c1.1 0 2-.9 2-2V5c0-1.1-.9-2-2-2zM9 17H7v-7h2v7zm4 0h-2V7h2v10zm4 0h-2v-4h2v4z\"/>\n",
              "    </g>\n",
              "</svg>\n",
              "      </button>\n",
              "\n",
              "<style>\n",
              "  .colab-df-quickchart {\n",
              "      --bg-color: #E8F0FE;\n",
              "      --fill-color: #1967D2;\n",
              "      --hover-bg-color: #E2EBFA;\n",
              "      --hover-fill-color: #174EA6;\n",
              "      --disabled-fill-color: #AAA;\n",
              "      --disabled-bg-color: #DDD;\n",
              "  }\n",
              "\n",
              "  [theme=dark] .colab-df-quickchart {\n",
              "      --bg-color: #3B4455;\n",
              "      --fill-color: #D2E3FC;\n",
              "      --hover-bg-color: #434B5C;\n",
              "      --hover-fill-color: #FFFFFF;\n",
              "      --disabled-bg-color: #3B4455;\n",
              "      --disabled-fill-color: #666;\n",
              "  }\n",
              "\n",
              "  .colab-df-quickchart {\n",
              "    background-color: var(--bg-color);\n",
              "    border: none;\n",
              "    border-radius: 50%;\n",
              "    cursor: pointer;\n",
              "    display: none;\n",
              "    fill: var(--fill-color);\n",
              "    height: 32px;\n",
              "    padding: 0;\n",
              "    width: 32px;\n",
              "  }\n",
              "\n",
              "  .colab-df-quickchart:hover {\n",
              "    background-color: var(--hover-bg-color);\n",
              "    box-shadow: 0 1px 2px rgba(60, 64, 67, 0.3), 0 1px 3px 1px rgba(60, 64, 67, 0.15);\n",
              "    fill: var(--button-hover-fill-color);\n",
              "  }\n",
              "\n",
              "  .colab-df-quickchart-complete:disabled,\n",
              "  .colab-df-quickchart-complete:disabled:hover {\n",
              "    background-color: var(--disabled-bg-color);\n",
              "    fill: var(--disabled-fill-color);\n",
              "    box-shadow: none;\n",
              "  }\n",
              "\n",
              "  .colab-df-spinner {\n",
              "    border: 2px solid var(--fill-color);\n",
              "    border-color: transparent;\n",
              "    border-bottom-color: var(--fill-color);\n",
              "    animation:\n",
              "      spin 1s steps(1) infinite;\n",
              "  }\n",
              "\n",
              "  @keyframes spin {\n",
              "    0% {\n",
              "      border-color: transparent;\n",
              "      border-bottom-color: var(--fill-color);\n",
              "      border-left-color: var(--fill-color);\n",
              "    }\n",
              "    20% {\n",
              "      border-color: transparent;\n",
              "      border-left-color: var(--fill-color);\n",
              "      border-top-color: var(--fill-color);\n",
              "    }\n",
              "    30% {\n",
              "      border-color: transparent;\n",
              "      border-left-color: var(--fill-color);\n",
              "      border-top-color: var(--fill-color);\n",
              "      border-right-color: var(--fill-color);\n",
              "    }\n",
              "    40% {\n",
              "      border-color: transparent;\n",
              "      border-right-color: var(--fill-color);\n",
              "      border-top-color: var(--fill-color);\n",
              "    }\n",
              "    60% {\n",
              "      border-color: transparent;\n",
              "      border-right-color: var(--fill-color);\n",
              "    }\n",
              "    80% {\n",
              "      border-color: transparent;\n",
              "      border-right-color: var(--fill-color);\n",
              "      border-bottom-color: var(--fill-color);\n",
              "    }\n",
              "    90% {\n",
              "      border-color: transparent;\n",
              "      border-bottom-color: var(--fill-color);\n",
              "    }\n",
              "  }\n",
              "</style>\n",
              "\n",
              "      <script>\n",
              "        async function quickchart(key) {\n",
              "          const quickchartButtonEl =\n",
              "            document.querySelector('#' + key + ' button');\n",
              "          quickchartButtonEl.disabled = true;  // To prevent multiple clicks.\n",
              "          quickchartButtonEl.classList.add('colab-df-spinner');\n",
              "          try {\n",
              "            const charts = await google.colab.kernel.invokeFunction(\n",
              "                'suggestCharts', [key], {});\n",
              "          } catch (error) {\n",
              "            console.error('Error during call to suggestCharts:', error);\n",
              "          }\n",
              "          quickchartButtonEl.classList.remove('colab-df-spinner');\n",
              "          quickchartButtonEl.classList.add('colab-df-quickchart-complete');\n",
              "        }\n",
              "        (() => {\n",
              "          let quickchartButtonEl =\n",
              "            document.querySelector('#df-379985da-292e-4922-adfe-1c7e4f526a3a button');\n",
              "          quickchartButtonEl.style.display =\n",
              "            google.colab.kernel.accessAllowed ? 'block' : 'none';\n",
              "        })();\n",
              "      </script>\n",
              "    </div>\n",
              "\n",
              "    </div>\n",
              "  </div>\n"
            ],
            "application/vnd.google.colaboratory.intrinsic+json": {
              "type": "dataframe",
              "summary": "{\n  \"name\": \"pd\",\n  \"rows\": 2,\n  \"fields\": [\n    {\n      \"column\": \"target_heart\",\n      \"properties\": {\n        \"dtype\": \"number\",\n        \"std\": 0.7071067811865476,\n        \"min\": 0.0,\n        \"max\": 1.0,\n        \"num_unique_values\": 2,\n        \"samples\": [\n          1.0,\n          0.0\n        ],\n        \"semantic_type\": \"\",\n        \"description\": \"\"\n      }\n    },\n    {\n      \"column\": 1.0,\n      \"properties\": {\n        \"dtype\": \"number\",\n        \"std\": 58,\n        \"min\": 2741,\n        \"max\": 2824,\n        \"num_unique_values\": 2,\n        \"samples\": [\n          2741,\n          2824\n        ],\n        \"semantic_type\": \"\",\n        \"description\": \"\"\n      }\n    },\n    {\n      \"column\": 2.0,\n      \"properties\": {\n        \"dtype\": \"number\",\n        \"std\": 58,\n        \"min\": 1176,\n        \"max\": 1259,\n        \"num_unique_values\": 2,\n        \"samples\": [\n          1259,\n          1176\n        ],\n        \"semantic_type\": \"\",\n        \"description\": \"\"\n      }\n    }\n  ]\n}"
            }
          },
          "metadata": {},
          "execution_count": 59
        }
      ],
      "source": [
        "pd.crosstab(data[\"target_heart\"], data[\"drink_alcohol\"])"
      ]
    },
    {
      "cell_type": "code",
      "execution_count": 60,
      "id": "ideal-registrar",
      "metadata": {
        "id": "ideal-registrar",
        "outputId": "f6e53aac-3773-49c8-c0e5-2dfc26cb58dd",
        "colab": {
          "base_uri": "https://localhost:8080/",
          "height": 143
        }
      },
      "outputs": [
        {
          "output_type": "execute_result",
          "data": {
            "text/plain": [
              "chest_pain_ever   1.0   2.0\n",
              "target_heart               \n",
              "0.0               791  3209\n",
              "1.0              2016  1984"
            ],
            "text/html": [
              "\n",
              "  <div id=\"df-54e6e8aa-5f56-48c5-bacc-2b44f83fe905\" class=\"colab-df-container\">\n",
              "    <div>\n",
              "<style scoped>\n",
              "    .dataframe tbody tr th:only-of-type {\n",
              "        vertical-align: middle;\n",
              "    }\n",
              "\n",
              "    .dataframe tbody tr th {\n",
              "        vertical-align: top;\n",
              "    }\n",
              "\n",
              "    .dataframe thead th {\n",
              "        text-align: right;\n",
              "    }\n",
              "</style>\n",
              "<table border=\"1\" class=\"dataframe\">\n",
              "  <thead>\n",
              "    <tr style=\"text-align: right;\">\n",
              "      <th>chest_pain_ever</th>\n",
              "      <th>1.0</th>\n",
              "      <th>2.0</th>\n",
              "    </tr>\n",
              "    <tr>\n",
              "      <th>target_heart</th>\n",
              "      <th></th>\n",
              "      <th></th>\n",
              "    </tr>\n",
              "  </thead>\n",
              "  <tbody>\n",
              "    <tr>\n",
              "      <th>0.0</th>\n",
              "      <td>791</td>\n",
              "      <td>3209</td>\n",
              "    </tr>\n",
              "    <tr>\n",
              "      <th>1.0</th>\n",
              "      <td>2016</td>\n",
              "      <td>1984</td>\n",
              "    </tr>\n",
              "  </tbody>\n",
              "</table>\n",
              "</div>\n",
              "    <div class=\"colab-df-buttons\">\n",
              "\n",
              "  <div class=\"colab-df-container\">\n",
              "    <button class=\"colab-df-convert\" onclick=\"convertToInteractive('df-54e6e8aa-5f56-48c5-bacc-2b44f83fe905')\"\n",
              "            title=\"Convert this dataframe to an interactive table.\"\n",
              "            style=\"display:none;\">\n",
              "\n",
              "  <svg xmlns=\"http://www.w3.org/2000/svg\" height=\"24px\" viewBox=\"0 -960 960 960\">\n",
              "    <path d=\"M120-120v-720h720v720H120Zm60-500h600v-160H180v160Zm220 220h160v-160H400v160Zm0 220h160v-160H400v160ZM180-400h160v-160H180v160Zm440 0h160v-160H620v160ZM180-180h160v-160H180v160Zm440 0h160v-160H620v160Z\"/>\n",
              "  </svg>\n",
              "    </button>\n",
              "\n",
              "  <style>\n",
              "    .colab-df-container {\n",
              "      display:flex;\n",
              "      gap: 12px;\n",
              "    }\n",
              "\n",
              "    .colab-df-convert {\n",
              "      background-color: #E8F0FE;\n",
              "      border: none;\n",
              "      border-radius: 50%;\n",
              "      cursor: pointer;\n",
              "      display: none;\n",
              "      fill: #1967D2;\n",
              "      height: 32px;\n",
              "      padding: 0 0 0 0;\n",
              "      width: 32px;\n",
              "    }\n",
              "\n",
              "    .colab-df-convert:hover {\n",
              "      background-color: #E2EBFA;\n",
              "      box-shadow: 0px 1px 2px rgba(60, 64, 67, 0.3), 0px 1px 3px 1px rgba(60, 64, 67, 0.15);\n",
              "      fill: #174EA6;\n",
              "    }\n",
              "\n",
              "    .colab-df-buttons div {\n",
              "      margin-bottom: 4px;\n",
              "    }\n",
              "\n",
              "    [theme=dark] .colab-df-convert {\n",
              "      background-color: #3B4455;\n",
              "      fill: #D2E3FC;\n",
              "    }\n",
              "\n",
              "    [theme=dark] .colab-df-convert:hover {\n",
              "      background-color: #434B5C;\n",
              "      box-shadow: 0px 1px 3px 1px rgba(0, 0, 0, 0.15);\n",
              "      filter: drop-shadow(0px 1px 2px rgba(0, 0, 0, 0.3));\n",
              "      fill: #FFFFFF;\n",
              "    }\n",
              "  </style>\n",
              "\n",
              "    <script>\n",
              "      const buttonEl =\n",
              "        document.querySelector('#df-54e6e8aa-5f56-48c5-bacc-2b44f83fe905 button.colab-df-convert');\n",
              "      buttonEl.style.display =\n",
              "        google.colab.kernel.accessAllowed ? 'block' : 'none';\n",
              "\n",
              "      async function convertToInteractive(key) {\n",
              "        const element = document.querySelector('#df-54e6e8aa-5f56-48c5-bacc-2b44f83fe905');\n",
              "        const dataTable =\n",
              "          await google.colab.kernel.invokeFunction('convertToInteractive',\n",
              "                                                    [key], {});\n",
              "        if (!dataTable) return;\n",
              "\n",
              "        const docLinkHtml = 'Like what you see? Visit the ' +\n",
              "          '<a target=\"_blank\" href=https://colab.research.google.com/notebooks/data_table.ipynb>data table notebook</a>'\n",
              "          + ' to learn more about interactive tables.';\n",
              "        element.innerHTML = '';\n",
              "        dataTable['output_type'] = 'display_data';\n",
              "        await google.colab.output.renderOutput(dataTable, element);\n",
              "        const docLink = document.createElement('div');\n",
              "        docLink.innerHTML = docLinkHtml;\n",
              "        element.appendChild(docLink);\n",
              "      }\n",
              "    </script>\n",
              "  </div>\n",
              "\n",
              "\n",
              "    <div id=\"df-348b6a35-1647-4133-a49d-c4f89ccf7017\">\n",
              "      <button class=\"colab-df-quickchart\" onclick=\"quickchart('df-348b6a35-1647-4133-a49d-c4f89ccf7017')\"\n",
              "                title=\"Suggest charts\"\n",
              "                style=\"display:none;\">\n",
              "\n",
              "<svg xmlns=\"http://www.w3.org/2000/svg\" height=\"24px\"viewBox=\"0 0 24 24\"\n",
              "     width=\"24px\">\n",
              "    <g>\n",
              "        <path d=\"M19 3H5c-1.1 0-2 .9-2 2v14c0 1.1.9 2 2 2h14c1.1 0 2-.9 2-2V5c0-1.1-.9-2-2-2zM9 17H7v-7h2v7zm4 0h-2V7h2v10zm4 0h-2v-4h2v4z\"/>\n",
              "    </g>\n",
              "</svg>\n",
              "      </button>\n",
              "\n",
              "<style>\n",
              "  .colab-df-quickchart {\n",
              "      --bg-color: #E8F0FE;\n",
              "      --fill-color: #1967D2;\n",
              "      --hover-bg-color: #E2EBFA;\n",
              "      --hover-fill-color: #174EA6;\n",
              "      --disabled-fill-color: #AAA;\n",
              "      --disabled-bg-color: #DDD;\n",
              "  }\n",
              "\n",
              "  [theme=dark] .colab-df-quickchart {\n",
              "      --bg-color: #3B4455;\n",
              "      --fill-color: #D2E3FC;\n",
              "      --hover-bg-color: #434B5C;\n",
              "      --hover-fill-color: #FFFFFF;\n",
              "      --disabled-bg-color: #3B4455;\n",
              "      --disabled-fill-color: #666;\n",
              "  }\n",
              "\n",
              "  .colab-df-quickchart {\n",
              "    background-color: var(--bg-color);\n",
              "    border: none;\n",
              "    border-radius: 50%;\n",
              "    cursor: pointer;\n",
              "    display: none;\n",
              "    fill: var(--fill-color);\n",
              "    height: 32px;\n",
              "    padding: 0;\n",
              "    width: 32px;\n",
              "  }\n",
              "\n",
              "  .colab-df-quickchart:hover {\n",
              "    background-color: var(--hover-bg-color);\n",
              "    box-shadow: 0 1px 2px rgba(60, 64, 67, 0.3), 0 1px 3px 1px rgba(60, 64, 67, 0.15);\n",
              "    fill: var(--button-hover-fill-color);\n",
              "  }\n",
              "\n",
              "  .colab-df-quickchart-complete:disabled,\n",
              "  .colab-df-quickchart-complete:disabled:hover {\n",
              "    background-color: var(--disabled-bg-color);\n",
              "    fill: var(--disabled-fill-color);\n",
              "    box-shadow: none;\n",
              "  }\n",
              "\n",
              "  .colab-df-spinner {\n",
              "    border: 2px solid var(--fill-color);\n",
              "    border-color: transparent;\n",
              "    border-bottom-color: var(--fill-color);\n",
              "    animation:\n",
              "      spin 1s steps(1) infinite;\n",
              "  }\n",
              "\n",
              "  @keyframes spin {\n",
              "    0% {\n",
              "      border-color: transparent;\n",
              "      border-bottom-color: var(--fill-color);\n",
              "      border-left-color: var(--fill-color);\n",
              "    }\n",
              "    20% {\n",
              "      border-color: transparent;\n",
              "      border-left-color: var(--fill-color);\n",
              "      border-top-color: var(--fill-color);\n",
              "    }\n",
              "    30% {\n",
              "      border-color: transparent;\n",
              "      border-left-color: var(--fill-color);\n",
              "      border-top-color: var(--fill-color);\n",
              "      border-right-color: var(--fill-color);\n",
              "    }\n",
              "    40% {\n",
              "      border-color: transparent;\n",
              "      border-right-color: var(--fill-color);\n",
              "      border-top-color: var(--fill-color);\n",
              "    }\n",
              "    60% {\n",
              "      border-color: transparent;\n",
              "      border-right-color: var(--fill-color);\n",
              "    }\n",
              "    80% {\n",
              "      border-color: transparent;\n",
              "      border-right-color: var(--fill-color);\n",
              "      border-bottom-color: var(--fill-color);\n",
              "    }\n",
              "    90% {\n",
              "      border-color: transparent;\n",
              "      border-bottom-color: var(--fill-color);\n",
              "    }\n",
              "  }\n",
              "</style>\n",
              "\n",
              "      <script>\n",
              "        async function quickchart(key) {\n",
              "          const quickchartButtonEl =\n",
              "            document.querySelector('#' + key + ' button');\n",
              "          quickchartButtonEl.disabled = true;  // To prevent multiple clicks.\n",
              "          quickchartButtonEl.classList.add('colab-df-spinner');\n",
              "          try {\n",
              "            const charts = await google.colab.kernel.invokeFunction(\n",
              "                'suggestCharts', [key], {});\n",
              "          } catch (error) {\n",
              "            console.error('Error during call to suggestCharts:', error);\n",
              "          }\n",
              "          quickchartButtonEl.classList.remove('colab-df-spinner');\n",
              "          quickchartButtonEl.classList.add('colab-df-quickchart-complete');\n",
              "        }\n",
              "        (() => {\n",
              "          let quickchartButtonEl =\n",
              "            document.querySelector('#df-348b6a35-1647-4133-a49d-c4f89ccf7017 button');\n",
              "          quickchartButtonEl.style.display =\n",
              "            google.colab.kernel.accessAllowed ? 'block' : 'none';\n",
              "        })();\n",
              "      </script>\n",
              "    </div>\n",
              "\n",
              "    </div>\n",
              "  </div>\n"
            ],
            "application/vnd.google.colaboratory.intrinsic+json": {
              "type": "dataframe",
              "summary": "{\n  \"name\": \"pd\",\n  \"rows\": 2,\n  \"fields\": [\n    {\n      \"column\": \"target_heart\",\n      \"properties\": {\n        \"dtype\": \"number\",\n        \"std\": 0.7071067811865476,\n        \"min\": 0.0,\n        \"max\": 1.0,\n        \"num_unique_values\": 2,\n        \"samples\": [\n          1.0,\n          0.0\n        ],\n        \"semantic_type\": \"\",\n        \"description\": \"\"\n      }\n    },\n    {\n      \"column\": 1.0,\n      \"properties\": {\n        \"dtype\": \"number\",\n        \"std\": 866,\n        \"min\": 791,\n        \"max\": 2016,\n        \"num_unique_values\": 2,\n        \"samples\": [\n          2016,\n          791\n        ],\n        \"semantic_type\": \"\",\n        \"description\": \"\"\n      }\n    },\n    {\n      \"column\": 2.0,\n      \"properties\": {\n        \"dtype\": \"number\",\n        \"std\": 866,\n        \"min\": 1984,\n        \"max\": 3209,\n        \"num_unique_values\": 2,\n        \"samples\": [\n          1984,\n          3209\n        ],\n        \"semantic_type\": \"\",\n        \"description\": \"\"\n      }\n    }\n  ]\n}"
            }
          },
          "metadata": {},
          "execution_count": 60
        }
      ],
      "source": [
        "pd.crosstab(data[\"target_heart\"], data[\"chest_pain_ever\"])"
      ]
    },
    {
      "cell_type": "markdown",
      "id": "alone-matrix",
      "metadata": {
        "id": "alone-matrix"
      },
      "source": [
        "**Graded Task**:\n",
        "Do you expect each of \"blood_cholesterol\", \"age\",  \"calories\", and \"BMI\" to be an informative predictor for \"target_heart\"?\n",
        "What about \"gender\", \"drink_alcohol\" and \"chest_pain_ever\"?\n",
        "Using your output from above, briefly explain why or why not."
      ]
    },
    {
      "cell_type": "code",
      "execution_count": 122,
      "id": "logical-aging",
      "metadata": {
        "id": "logical-aging"
      },
      "outputs": [],
      "source": [
        "# Numerical Variables\n",
        "# blood_cholesterol: (No)\n",
        "# The distribution for people with and without heart disease are nearly identical(Both about 4.5),\n",
        "# suggesting cholesterol is not an informative predictor.\n",
        "\n",
        "# age: (Yes)\n",
        "# The age distribution for people with heart disease is clearly shifted higher (70 year old),\n",
        "# compared with people without heart disease (57 year old), indicating age is a strong predictor.\n",
        "\n",
        "# calories: (No)\n",
        "# There is no noticeable difference in calorie intake between the two groups(Both about 1800),\n",
        "# making it a weak predictor.\n",
        "\n",
        "# BMI: (No)\n",
        "# The distribution for people with and without heart disease are nearly identical(Both about 25),\n",
        "# suggesting BMI value is not an informative predictor.\n",
        "\n",
        "\n",
        "# Categorical variables\n",
        "# gender: (Yes)\n",
        "# Gender shows an effect on heart disease risk,\n",
        "# as the distribution between males and females differs across target groups.\n",
        "\n",
        "# drink_alcohol: (No)\n",
        "# Drinking alcohol does not show a strong effect on heart disease,\n",
        "# since the proportions in both groups are very similar.\n",
        "\n",
        "# chest_pain_ever: (Yes)\n",
        "# Experiencing chest pain has a strong effect on heart disease,\n",
        "# with those reporting chest pain more likely to have heart problems.\n"
      ]
    },
    {
      "cell_type": "markdown",
      "id": "exclusive-munich",
      "metadata": {
        "id": "exclusive-munich"
      },
      "source": [
        "**Task**: Complete the exploratory data analysis by visualizing the remaining features.\n",
        "You should get a sense of whether these features may be informative predictors,\n",
        "and the distribution of these features.\n",
        "\n",
        "As a side note, this is also a great time to look for unexpected issues with the data.\n",
        "Is there missing data? Is there data that is outside the normal range that you would expect\n",
        "(e.g. an age of 500)? Are there features that almost always take on the same value,\n",
        "and would therefore likely not to be useful?"
      ]
    },
    {
      "cell_type": "code",
      "execution_count": 61,
      "id": "aggregate-delicious",
      "metadata": {
        "id": "aggregate-delicious",
        "colab": {
          "base_uri": "https://localhost:8080/",
          "height": 143
        },
        "outputId": "78baac02-97a8-448d-ebdb-f842e462652b"
      },
      "outputs": [
        {
          "output_type": "execute_result",
          "data": {
            "text/plain": [
              "race_ethnicity    1    2     3    4    6   7\n",
              "target_heart                                \n",
              "0.0             561  385  1773  768  449  64\n",
              "1.0             362  264  2217  828  244  85"
            ],
            "text/html": [
              "\n",
              "  <div id=\"df-eddebcdd-8f1e-45e6-9b74-1f16853533cd\" class=\"colab-df-container\">\n",
              "    <div>\n",
              "<style scoped>\n",
              "    .dataframe tbody tr th:only-of-type {\n",
              "        vertical-align: middle;\n",
              "    }\n",
              "\n",
              "    .dataframe tbody tr th {\n",
              "        vertical-align: top;\n",
              "    }\n",
              "\n",
              "    .dataframe thead th {\n",
              "        text-align: right;\n",
              "    }\n",
              "</style>\n",
              "<table border=\"1\" class=\"dataframe\">\n",
              "  <thead>\n",
              "    <tr style=\"text-align: right;\">\n",
              "      <th>race_ethnicity</th>\n",
              "      <th>1</th>\n",
              "      <th>2</th>\n",
              "      <th>3</th>\n",
              "      <th>4</th>\n",
              "      <th>6</th>\n",
              "      <th>7</th>\n",
              "    </tr>\n",
              "    <tr>\n",
              "      <th>target_heart</th>\n",
              "      <th></th>\n",
              "      <th></th>\n",
              "      <th></th>\n",
              "      <th></th>\n",
              "      <th></th>\n",
              "      <th></th>\n",
              "    </tr>\n",
              "  </thead>\n",
              "  <tbody>\n",
              "    <tr>\n",
              "      <th>0.0</th>\n",
              "      <td>561</td>\n",
              "      <td>385</td>\n",
              "      <td>1773</td>\n",
              "      <td>768</td>\n",
              "      <td>449</td>\n",
              "      <td>64</td>\n",
              "    </tr>\n",
              "    <tr>\n",
              "      <th>1.0</th>\n",
              "      <td>362</td>\n",
              "      <td>264</td>\n",
              "      <td>2217</td>\n",
              "      <td>828</td>\n",
              "      <td>244</td>\n",
              "      <td>85</td>\n",
              "    </tr>\n",
              "  </tbody>\n",
              "</table>\n",
              "</div>\n",
              "    <div class=\"colab-df-buttons\">\n",
              "\n",
              "  <div class=\"colab-df-container\">\n",
              "    <button class=\"colab-df-convert\" onclick=\"convertToInteractive('df-eddebcdd-8f1e-45e6-9b74-1f16853533cd')\"\n",
              "            title=\"Convert this dataframe to an interactive table.\"\n",
              "            style=\"display:none;\">\n",
              "\n",
              "  <svg xmlns=\"http://www.w3.org/2000/svg\" height=\"24px\" viewBox=\"0 -960 960 960\">\n",
              "    <path d=\"M120-120v-720h720v720H120Zm60-500h600v-160H180v160Zm220 220h160v-160H400v160Zm0 220h160v-160H400v160ZM180-400h160v-160H180v160Zm440 0h160v-160H620v160ZM180-180h160v-160H180v160Zm440 0h160v-160H620v160Z\"/>\n",
              "  </svg>\n",
              "    </button>\n",
              "\n",
              "  <style>\n",
              "    .colab-df-container {\n",
              "      display:flex;\n",
              "      gap: 12px;\n",
              "    }\n",
              "\n",
              "    .colab-df-convert {\n",
              "      background-color: #E8F0FE;\n",
              "      border: none;\n",
              "      border-radius: 50%;\n",
              "      cursor: pointer;\n",
              "      display: none;\n",
              "      fill: #1967D2;\n",
              "      height: 32px;\n",
              "      padding: 0 0 0 0;\n",
              "      width: 32px;\n",
              "    }\n",
              "\n",
              "    .colab-df-convert:hover {\n",
              "      background-color: #E2EBFA;\n",
              "      box-shadow: 0px 1px 2px rgba(60, 64, 67, 0.3), 0px 1px 3px 1px rgba(60, 64, 67, 0.15);\n",
              "      fill: #174EA6;\n",
              "    }\n",
              "\n",
              "    .colab-df-buttons div {\n",
              "      margin-bottom: 4px;\n",
              "    }\n",
              "\n",
              "    [theme=dark] .colab-df-convert {\n",
              "      background-color: #3B4455;\n",
              "      fill: #D2E3FC;\n",
              "    }\n",
              "\n",
              "    [theme=dark] .colab-df-convert:hover {\n",
              "      background-color: #434B5C;\n",
              "      box-shadow: 0px 1px 3px 1px rgba(0, 0, 0, 0.15);\n",
              "      filter: drop-shadow(0px 1px 2px rgba(0, 0, 0, 0.3));\n",
              "      fill: #FFFFFF;\n",
              "    }\n",
              "  </style>\n",
              "\n",
              "    <script>\n",
              "      const buttonEl =\n",
              "        document.querySelector('#df-eddebcdd-8f1e-45e6-9b74-1f16853533cd button.colab-df-convert');\n",
              "      buttonEl.style.display =\n",
              "        google.colab.kernel.accessAllowed ? 'block' : 'none';\n",
              "\n",
              "      async function convertToInteractive(key) {\n",
              "        const element = document.querySelector('#df-eddebcdd-8f1e-45e6-9b74-1f16853533cd');\n",
              "        const dataTable =\n",
              "          await google.colab.kernel.invokeFunction('convertToInteractive',\n",
              "                                                    [key], {});\n",
              "        if (!dataTable) return;\n",
              "\n",
              "        const docLinkHtml = 'Like what you see? Visit the ' +\n",
              "          '<a target=\"_blank\" href=https://colab.research.google.com/notebooks/data_table.ipynb>data table notebook</a>'\n",
              "          + ' to learn more about interactive tables.';\n",
              "        element.innerHTML = '';\n",
              "        dataTable['output_type'] = 'display_data';\n",
              "        await google.colab.output.renderOutput(dataTable, element);\n",
              "        const docLink = document.createElement('div');\n",
              "        docLink.innerHTML = docLinkHtml;\n",
              "        element.appendChild(docLink);\n",
              "      }\n",
              "    </script>\n",
              "  </div>\n",
              "\n",
              "\n",
              "    <div id=\"df-49740eef-64f0-4adb-a0e0-7034edd04260\">\n",
              "      <button class=\"colab-df-quickchart\" onclick=\"quickchart('df-49740eef-64f0-4adb-a0e0-7034edd04260')\"\n",
              "                title=\"Suggest charts\"\n",
              "                style=\"display:none;\">\n",
              "\n",
              "<svg xmlns=\"http://www.w3.org/2000/svg\" height=\"24px\"viewBox=\"0 0 24 24\"\n",
              "     width=\"24px\">\n",
              "    <g>\n",
              "        <path d=\"M19 3H5c-1.1 0-2 .9-2 2v14c0 1.1.9 2 2 2h14c1.1 0 2-.9 2-2V5c0-1.1-.9-2-2-2zM9 17H7v-7h2v7zm4 0h-2V7h2v10zm4 0h-2v-4h2v4z\"/>\n",
              "    </g>\n",
              "</svg>\n",
              "      </button>\n",
              "\n",
              "<style>\n",
              "  .colab-df-quickchart {\n",
              "      --bg-color: #E8F0FE;\n",
              "      --fill-color: #1967D2;\n",
              "      --hover-bg-color: #E2EBFA;\n",
              "      --hover-fill-color: #174EA6;\n",
              "      --disabled-fill-color: #AAA;\n",
              "      --disabled-bg-color: #DDD;\n",
              "  }\n",
              "\n",
              "  [theme=dark] .colab-df-quickchart {\n",
              "      --bg-color: #3B4455;\n",
              "      --fill-color: #D2E3FC;\n",
              "      --hover-bg-color: #434B5C;\n",
              "      --hover-fill-color: #FFFFFF;\n",
              "      --disabled-bg-color: #3B4455;\n",
              "      --disabled-fill-color: #666;\n",
              "  }\n",
              "\n",
              "  .colab-df-quickchart {\n",
              "    background-color: var(--bg-color);\n",
              "    border: none;\n",
              "    border-radius: 50%;\n",
              "    cursor: pointer;\n",
              "    display: none;\n",
              "    fill: var(--fill-color);\n",
              "    height: 32px;\n",
              "    padding: 0;\n",
              "    width: 32px;\n",
              "  }\n",
              "\n",
              "  .colab-df-quickchart:hover {\n",
              "    background-color: var(--hover-bg-color);\n",
              "    box-shadow: 0 1px 2px rgba(60, 64, 67, 0.3), 0 1px 3px 1px rgba(60, 64, 67, 0.15);\n",
              "    fill: var(--button-hover-fill-color);\n",
              "  }\n",
              "\n",
              "  .colab-df-quickchart-complete:disabled,\n",
              "  .colab-df-quickchart-complete:disabled:hover {\n",
              "    background-color: var(--disabled-bg-color);\n",
              "    fill: var(--disabled-fill-color);\n",
              "    box-shadow: none;\n",
              "  }\n",
              "\n",
              "  .colab-df-spinner {\n",
              "    border: 2px solid var(--fill-color);\n",
              "    border-color: transparent;\n",
              "    border-bottom-color: var(--fill-color);\n",
              "    animation:\n",
              "      spin 1s steps(1) infinite;\n",
              "  }\n",
              "\n",
              "  @keyframes spin {\n",
              "    0% {\n",
              "      border-color: transparent;\n",
              "      border-bottom-color: var(--fill-color);\n",
              "      border-left-color: var(--fill-color);\n",
              "    }\n",
              "    20% {\n",
              "      border-color: transparent;\n",
              "      border-left-color: var(--fill-color);\n",
              "      border-top-color: var(--fill-color);\n",
              "    }\n",
              "    30% {\n",
              "      border-color: transparent;\n",
              "      border-left-color: var(--fill-color);\n",
              "      border-top-color: var(--fill-color);\n",
              "      border-right-color: var(--fill-color);\n",
              "    }\n",
              "    40% {\n",
              "      border-color: transparent;\n",
              "      border-right-color: var(--fill-color);\n",
              "      border-top-color: var(--fill-color);\n",
              "    }\n",
              "    60% {\n",
              "      border-color: transparent;\n",
              "      border-right-color: var(--fill-color);\n",
              "    }\n",
              "    80% {\n",
              "      border-color: transparent;\n",
              "      border-right-color: var(--fill-color);\n",
              "      border-bottom-color: var(--fill-color);\n",
              "    }\n",
              "    90% {\n",
              "      border-color: transparent;\n",
              "      border-bottom-color: var(--fill-color);\n",
              "    }\n",
              "  }\n",
              "</style>\n",
              "\n",
              "      <script>\n",
              "        async function quickchart(key) {\n",
              "          const quickchartButtonEl =\n",
              "            document.querySelector('#' + key + ' button');\n",
              "          quickchartButtonEl.disabled = true;  // To prevent multiple clicks.\n",
              "          quickchartButtonEl.classList.add('colab-df-spinner');\n",
              "          try {\n",
              "            const charts = await google.colab.kernel.invokeFunction(\n",
              "                'suggestCharts', [key], {});\n",
              "          } catch (error) {\n",
              "            console.error('Error during call to suggestCharts:', error);\n",
              "          }\n",
              "          quickchartButtonEl.classList.remove('colab-df-spinner');\n",
              "          quickchartButtonEl.classList.add('colab-df-quickchart-complete');\n",
              "        }\n",
              "        (() => {\n",
              "          let quickchartButtonEl =\n",
              "            document.querySelector('#df-49740eef-64f0-4adb-a0e0-7034edd04260 button');\n",
              "          quickchartButtonEl.style.display =\n",
              "            google.colab.kernel.accessAllowed ? 'block' : 'none';\n",
              "        })();\n",
              "      </script>\n",
              "    </div>\n",
              "\n",
              "    </div>\n",
              "  </div>\n"
            ],
            "application/vnd.google.colaboratory.intrinsic+json": {
              "type": "dataframe",
              "summary": "{\n  \"name\": \"pd\",\n  \"rows\": 2,\n  \"fields\": [\n    {\n      \"column\": \"target_heart\",\n      \"properties\": {\n        \"dtype\": \"number\",\n        \"std\": 0.7071067811865476,\n        \"min\": 0.0,\n        \"max\": 1.0,\n        \"num_unique_values\": 2,\n        \"samples\": [\n          1.0,\n          0.0\n        ],\n        \"semantic_type\": \"\",\n        \"description\": \"\"\n      }\n    },\n    {\n      \"column\": 1,\n      \"properties\": {\n        \"dtype\": \"number\",\n        \"std\": 140,\n        \"min\": 362,\n        \"max\": 561,\n        \"num_unique_values\": 2,\n        \"samples\": [\n          362,\n          561\n        ],\n        \"semantic_type\": \"\",\n        \"description\": \"\"\n      }\n    },\n    {\n      \"column\": 2,\n      \"properties\": {\n        \"dtype\": \"number\",\n        \"std\": 85,\n        \"min\": 264,\n        \"max\": 385,\n        \"num_unique_values\": 2,\n        \"samples\": [\n          264,\n          385\n        ],\n        \"semantic_type\": \"\",\n        \"description\": \"\"\n      }\n    },\n    {\n      \"column\": 3,\n      \"properties\": {\n        \"dtype\": \"number\",\n        \"std\": 313,\n        \"min\": 1773,\n        \"max\": 2217,\n        \"num_unique_values\": 2,\n        \"samples\": [\n          2217,\n          1773\n        ],\n        \"semantic_type\": \"\",\n        \"description\": \"\"\n      }\n    },\n    {\n      \"column\": 4,\n      \"properties\": {\n        \"dtype\": \"number\",\n        \"std\": 42,\n        \"min\": 768,\n        \"max\": 828,\n        \"num_unique_values\": 2,\n        \"samples\": [\n          828,\n          768\n        ],\n        \"semantic_type\": \"\",\n        \"description\": \"\"\n      }\n    },\n    {\n      \"column\": 6,\n      \"properties\": {\n        \"dtype\": \"number\",\n        \"std\": 144,\n        \"min\": 244,\n        \"max\": 449,\n        \"num_unique_values\": 2,\n        \"samples\": [\n          244,\n          449\n        ],\n        \"semantic_type\": \"\",\n        \"description\": \"\"\n      }\n    },\n    {\n      \"column\": 7,\n      \"properties\": {\n        \"dtype\": \"number\",\n        \"std\": 14,\n        \"min\": 64,\n        \"max\": 85,\n        \"num_unique_values\": 2,\n        \"samples\": [\n          85,\n          64\n        ],\n        \"semantic_type\": \"\",\n        \"description\": \"\"\n      }\n    }\n  ]\n}"
            }
          },
          "metadata": {},
          "execution_count": 61
        }
      ],
      "source": [
        "# race_ethnicity\n",
        "pd.crosstab(data[\"target_heart\"], data[\"race_ethnicity\"])"
      ]
    },
    {
      "cell_type": "code",
      "source": [
        "# blood_pressure_sys\n",
        "data.boxplot(column='blood_pressure_sys', by='target_heart')"
      ],
      "metadata": {
        "colab": {
          "base_uri": "https://localhost:8080/",
          "height": 496
        },
        "id": "o0w2HLaZ_TBu",
        "outputId": "c89d6a98-ae05-4874-d51b-ebbc2ee28b7e"
      },
      "id": "o0w2HLaZ_TBu",
      "execution_count": 62,
      "outputs": [
        {
          "output_type": "execute_result",
          "data": {
            "text/plain": [
              "<Axes: title={'center': 'blood_pressure_sys'}, xlabel='target_heart'>"
            ]
          },
          "metadata": {},
          "execution_count": 62
        },
        {
          "output_type": "display_data",
          "data": {
            "text/plain": [
              "<Figure size 640x480 with 1 Axes>"
            ],
            "image/png": "[encoded data removed]"
          },
          "metadata": {}
        }
      ]
    },
    {
      "cell_type": "code",
      "source": [
        "# diastolic_bp\n",
        "data.boxplot(column='diastolic_bp', by='target_heart')"
      ],
      "metadata": {
        "colab": {
          "base_uri": "https://localhost:8080/",
          "height": 496
        },
        "id": "JXaG-6bc_p8J",
        "outputId": "ed14bebf-db1a-4353-ba2a-67894fd5f849"
      },
      "id": "JXaG-6bc_p8J",
      "execution_count": 63,
      "outputs": [
        {
          "output_type": "execute_result",
          "data": {
            "text/plain": [
              "<Axes: title={'center': 'diastolic_bp'}, xlabel='target_heart'>"
            ]
          },
          "metadata": {},
          "execution_count": 63
        },
        {
          "output_type": "display_data",
          "data": {
            "text/plain": [
              "<Figure size 640x480 with 1 Axes>"
            ],
            "image/png": "[encoded data removed]"
          },
          "metadata": {}
        }
      ]
    },
    {
      "cell_type": "code",
      "source": [
        "# family_income\n",
        "data.boxplot(column='family_income', by='target_heart')"
      ],
      "metadata": {
        "colab": {
          "base_uri": "https://localhost:8080/",
          "height": 496
        },
        "id": "7tpkP-Ja_4jI",
        "outputId": "9351abeb-2876-4207-b9d7-4cc7585d53fd"
      },
      "id": "7tpkP-Ja_4jI",
      "execution_count": 64,
      "outputs": [
        {
          "output_type": "execute_result",
          "data": {
            "text/plain": [
              "<Axes: title={'center': 'family_income'}, xlabel='target_heart'>"
            ]
          },
          "metadata": {},
          "execution_count": 64
        },
        {
          "output_type": "display_data",
          "data": {
            "text/plain": [
              "<Figure size 640x480 with 1 Axes>"
            ],
            "image/png": "[encoded data removed]"
          },
          "metadata": {}
        }
      ]
    },
    {
      "cell_type": "markdown",
      "id": "adapted-completion",
      "metadata": {
        "id": "adapted-completion"
      },
      "source": [
        "**Graded Task**: Before being able to use our data to train a decision tree model,\n",
        "we need to transform some of the ways that our features are encoded. In particular, we need to change our current encoding of `gender`\n",
        "and `race_ethnicity`.  Explain why the current encoding should not be used with a decision tree classifier."
      ]
    },
    {
      "cell_type": "code",
      "execution_count": null,
      "id": "under-computer",
      "metadata": {
        "id": "under-computer"
      },
      "outputs": [],
      "source": [
        " # The current numeric encoding of gender and race_ethnicity assigns arbitrary numbers to categories (e.g., Male = 1, Female = 2).\n",
        " # A decision tree interprets these numbers as ordered values and may split on thresholds like “< 1.5,”\n",
        " # which falsely implies that one category is larger or smaller than another.\n",
        " # Since categorical features have no natural order, this can produce meaningless or biased splits."
      ]
    },
    {
      "cell_type": "markdown",
      "id": "solid-zealand",
      "metadata": {
        "id": "solid-zealand"
      },
      "source": [
        "To solve the problem with our current encoding, we will encode categorical features using\n",
        "**indicator variables**. We will construct an indicator variable for every possible\n",
        "*value* or *category*.  More specifically, we will make a separate indicator variable for `race_ethicity_white`,\n",
        "`race_ethicity_black`, etc, with each feature taking on a value of 1 or 0.\n",
        "\n",
        "We will also group together `race_ethnicity=1` and\n",
        "`race_ethnicity=2` since these groups represent \"Mexican American\" and\n",
        "\"Other Hispanic\" and these groups are smaller than the others.\n",
        "This is a modeling decision born out of our understanding of the data,\n",
        "**and it may not be the correct decision**!\n",
        "Typically, many factors would go into decisions like this, including discussions\n",
        "with colleagues to understand where the data comes from and how the model will be used.\n",
        "Model building is also an iterative process: we may want to build multiple models with different\n",
        "feature representations, and compare the performance and other characteristics of\n",
        "these models.\n",
        "\n",
        "**Task**: Convert `data` into a numpy array `data_fets` with $N=8000$\n",
        "rows and with the following columns:\n",
        "\n",
        "- An indicator feature with value 1 iff `gender=2` (female)\n",
        "- An indicator feature with value 1 iff `race_ethnicity=1` or `race_ethnicity=2` (hispanic)\n",
        "- An indicator feature with value 1 iff `race_ethnicity=3` (white)\n",
        "- An indicator feature with value 1 iff `race_ethnicity=4` (black)\n",
        "- An indicator feature with value 1 iff `race_ethnicity=6` (asian)\n",
        "- An indicator feature with value 1 iff `chest_pain_ever=1`\n",
        "- An indicator feature with value 1 iff `drink_alcohol=1`\n",
        "- The numerical `age` feature\n",
        "- The numerical `blood_cholesterol` feature\n",
        "- The numerical `BMI` feature\n",
        "- The numerical `blood_pressure_sys` feature\n",
        "- The numerical `diastolic_bp` feature\n",
        "- The numerical `calories` feature\n",
        "- The numerical `family_income` feature\n",
        "\n",
        "Some of the features are provided for you. Complete the remaining features.\n",
        "\n",
        "This code works by creating individual numpy (1D) arrays for each feature,\n",
        "and then stacking them together into a single (2D) numpy array."
      ]
    },
    {
      "cell_type": "code",
      "execution_count": 27,
      "id": "understood-bhutan",
      "metadata": {
        "id": "understood-bhutan",
        "outputId": "3064e064-c0c2-4433-d7e1-c06439f78e22",
        "colab": {
          "base_uri": "https://localhost:8080/"
        }
      },
      "outputs": [
        {
          "output_type": "stream",
          "name": "stdout",
          "text": [
            "(8000, 14)\n"
          ]
        }
      ],
      "source": [
        "data_fets = np.stack([\n",
        "    # gender_female: this code creates an array of booleans, which converted into 0 and 1\n",
        "    data[\"gender\"] == 2,\n",
        "    # re_hispanic: this code leverages addition to perform an \"or\" operation\n",
        "    (data[\"race_ethnicity\"] == 1) + (data[\"race_ethnicity\"] == 2),\n",
        "    # re_white\n",
        "    data[\"race_ethnicity\"] == 3,\n",
        "    # re_black\n",
        "    data[\"race_ethnicity\"] == 4,\n",
        "    # re_aisan\n",
        "    data[\"race_ethnicity\"] == 6,\n",
        "    # chest_pain_ever\n",
        "    data[\"chest_pain_ever\"] == 1,\n",
        "    # drink_alcohol\n",
        "    data[\"drink_alcohol\"] == 1,\n",
        "    # age: this is a numeric value and no transformations are required\n",
        "    data[\"age\"],\n",
        "    # blood_cholesterol: this is a numeric value and no transformations are required\n",
        "    data[\"blood_cholesterol\"],\n",
        "    # BMI: this is a numeric value and no transformations are required\n",
        "    data[\"BMI\"],\n",
        "    # blood_pressure_sys: this is a numeric value and no transformations are required\n",
        "    data[\"blood_pressure_sys\"],\n",
        "    # diastolic_bp: this is a numeric value and no transformations are required\n",
        "    data[\"diastolic_bp\"],\n",
        "    # calories: this is a numeric value and no transformations are required\n",
        "    data[\"calories\"],\n",
        "    # family_income: this is a numeric value and no transformations are required\n",
        "    data[\"family_income\"]\n",
        "], axis=1)\n",
        "\n",
        "print(data_fets.shape) # Should be (8000, 14)"
      ]
    },
    {
      "cell_type": "markdown",
      "id": "hollywood-anatomy",
      "metadata": {
        "id": "hollywood-anatomy"
      },
      "source": [
        "We will also declare a new array to store all the feature names. This will come in handy later when we visualize decision trees."
      ]
    },
    {
      "cell_type": "code",
      "execution_count": 28,
      "id": "endless-corruption",
      "metadata": {
        "id": "endless-corruption"
      },
      "outputs": [],
      "source": [
        "feature_names = [\n",
        "    \"gender_female\",\n",
        "    \"re_hispanic\",\n",
        "    \"re_white\",\n",
        "    \"re_black\",\n",
        "    \"re_asian\",\n",
        "    \"chest_pain\",\n",
        "    \"drink_alcohol\",\n",
        "    \"age\",\n",
        "    \"blood_cholesterol\",\n",
        "    \"BMI\",\n",
        "    \"blood_pressure_sys\",\n",
        "    \"diastolic_bp\",\n",
        "    \"calories\",\n",
        "    \"family_income\"]"
      ]
    },
    {
      "cell_type": "markdown",
      "id": "opened-psychology",
      "metadata": {
        "id": "opened-psychology"
      },
      "source": [
        "**Task** Finally, let's separate our data into training, validation, and test sets.\n",
        "We will use 5000 data points for training, 1500 for validation, and 1500 for test.\n",
        "\n",
        "Instead of manually splitting the data into two sets, we will use a function provided by `sklearn` which randomly splits the data for us. Use the `train_test_split` function to split the data into training and test sets. To ensure that the randomization is consistent across runs, please supply the following parameter to the `train_test_split` function: 'random_state=1'.  This will ensure that the each time you run your code, you are placing the same data points in your training, test and validation sets.\n",
        "\n",
        "You will likely need to read the [documentation](https://scikit-learn.org/stable/modules/generated/sklearn.model_selection.train_test_split.html) for the `sklearn.model_selection.train_test_splits` to get this job done."
      ]
    },
    {
      "cell_type": "code",
      "execution_count": 29,
      "id": "vocal-quest",
      "metadata": {
        "id": "vocal-quest"
      },
      "outputs": [],
      "source": [
        "\n",
        "from sklearn.model_selection import train_test_split\n",
        "\n",
        "# Split the data into X (dependent variables) and t (response variable)\n",
        "X = data_fets\n",
        "t = np.array(data[\"target_heart\"])\n",
        "\n",
        "# First, we will use `train_test_split` to split the data set into\n",
        "# 6500 training+validation, and 1500 test:\n",
        "X_tv, X_test, t_tv, t_test = train_test_split(X, t, test_size=1500/8000, random_state=1)\n",
        "\n",
        "# Then, use `train_test_split` to split the training+validation data\n",
        "# into 5000 train and 1500 validation\n",
        "X_train, X_val, t_train, t_val = train_test_split(X_tv, t_tv, test_size=1500/6500, random_state=1)"
      ]
    },
    {
      "cell_type": "markdown",
      "id": "bored-departure",
      "metadata": {
        "id": "bored-departure"
      },
      "source": [
        "**Graded Task**: Recall that in lab 1, normalizing our features yielded a\n",
        "marked improvement in the performance (accuracy) of our kNN model.\n",
        "Explain why normalizing our features will likely *not* improve a\n",
        "decision tree classifier.\n",
        "\n",
        "Your explanation serves as justification for *not* normalizing our features before continuing."
      ]
    },
    {
      "cell_type": "code",
      "execution_count": 30,
      "id": "medium-water",
      "metadata": {
        "id": "medium-water"
      },
      "outputs": [],
      "source": [
        "# Normalization helps kNN because it relies on distance, and unequal feature scales distort distance measures.\n",
        "# Decision trees, however, split based on feature order and thresholds, which are unaffected by scaling.\n",
        "# Thus, normalization does not improve decision tree performance."
      ]
    },
    {
      "cell_type": "markdown",
      "id": "great-invite",
      "metadata": {
        "id": "great-invite"
      },
      "source": [
        "## Part 2. Using `sklearn` to Implement and Visualize Decision Trees\n",
        "\n",
        "One advantage of decision trees over other models is that they are easy\n",
        "to interpret and visualize.  The function `visualize_tree` below can be used to plot an `sklearn` decision tree model in your Colab Notebook."
      ]
    },
    {
      "cell_type": "code",
      "execution_count": 31,
      "id": "right-theorem",
      "metadata": {
        "id": "right-theorem"
      },
      "outputs": [],
      "source": [
        "from sklearn.tree import DecisionTreeClassifier\n",
        "\n",
        "# imports to visualize tree\n",
        "from sklearn import tree as treeViz\n",
        "import graphviz\n",
        "import pydotplus\n",
        "from IPython.display import display"
      ]
    },
    {
      "cell_type": "code",
      "execution_count": 32,
      "id": "personalized-evans",
      "metadata": {
        "id": "personalized-evans"
      },
      "outputs": [],
      "source": [
        "def visualize_tree(model, max_depth=5):\n",
        "    \"\"\"\n",
        "    Generate and return an image representing an Sklearn decision tree.\n",
        "\n",
        "    Each node in the visualization represents a node in the decision tree.\n",
        "    In addition, visualization for each node contains:\n",
        "        - The feature that is split on\n",
        "        - The entropy (of the outputs `t`) at the node\n",
        "        - The number of training samples at the node\n",
        "        - The number of training samples with true/false values\n",
        "        - The majority class (heart disease or not)\n",
        "    The colour of the node also shows the majority class and purity\n",
        "\n",
        "    See here: https://scikit-learn.org/stable/modules/generated/sklearn.tree.export_graphviz.html\n",
        "\n",
        "    Parameters:\n",
        "        `model` - An Sklearn decision tree model\n",
        "        `max_depth` - Max depth of decision tree to be rendered in the notebook.\n",
        "         This is useful since the tree can get very large if the max_depth is\n",
        "         set too high and thus making the resulting figure difficult to interpret.\n",
        "    \"\"\"\n",
        "    dot_data = treeViz.export_graphviz(model,\n",
        "                                       feature_names=feature_names,\n",
        "                                       max_depth=max_depth,\n",
        "                                       class_names=[\"heart_no\", \"heart_yes\"],\n",
        "                                       filled=True,\n",
        "                                       rounded=True)\n",
        "    return display(graphviz.Source(dot_data))\n"
      ]
    },
    {
      "cell_type": "markdown",
      "id": "colonial-round",
      "metadata": {
        "id": "colonial-round"
      },
      "source": [
        "Next, we will use sklearn's `DecisionTreeClassifier` to create some decision trees to fit to our data.\n",
        "\n",
        "**Task:** Fit a `DecisionTreeClassifier` to our dataset. Use `entropy` to measure the quality of a decision tree split, and set the `max_depth` to 3. Then, print the training and validation scores (accuracy).\n",
        "\n",
        "See more here: https://scikit-learn.org/stable/modules/generated/sklearn.tree.DecisionTreeClassifier.html"
      ]
    },
    {
      "cell_type": "code",
      "execution_count": 66,
      "id": "paperback-money",
      "metadata": {
        "id": "paperback-money",
        "colab": {
          "base_uri": "https://localhost:8080/"
        },
        "outputId": "2473c411-f07e-4944-dded-2d5e60817798"
      },
      "outputs": [
        {
          "output_type": "stream",
          "name": "stdout",
          "text": [
            "Training Accuracy: 0.7152\n",
            "Validation Accuracy: 0.7193333333333334\n"
          ]
        }
      ],
      "source": [
        "# Creating a DecisionTreeClassifier\n",
        "tree = DecisionTreeClassifier(criterion=\"entropy\", max_depth=3)\n",
        "\n",
        "# fit it to our data\n",
        "tree.fit(X_train, t_train)\n",
        "\n",
        "# Print the training and validation scores (accuracy)\n",
        "print(\"Training Accuracy:\", tree.score(X_train, t_train))\n",
        "print(\"Validation Accuracy:\", tree.score(X_val, t_val))"
      ]
    },
    {
      "cell_type": "markdown",
      "id": "legitimate-economy",
      "metadata": {
        "id": "legitimate-economy"
      },
      "source": [
        "**Task:** Use `visualize_tree` to visualize the decision tree that was fit."
      ]
    },
    {
      "cell_type": "code",
      "execution_count": 67,
      "id": "unlimited-editor",
      "metadata": {
        "id": "unlimited-editor",
        "colab": {
          "base_uri": "https://localhost:8080/",
          "height": 618
        },
        "outputId": "a457713d-543c-4b9b-ef55-48526ff9334d"
      },
      "outputs": [
        {
          "output_type": "display_data",
          "data": {
            "image/svg+xml": "<?xml version=\"1.0\" encoding=\"UTF-8\" standalone=\"no\"?>\n<!DOCTYPE svg PUBLIC \"-//W3C//DTD SVG 1.1//EN\"\n \"http://www.w3.org/Graphics/SVG/1.1/DTD/svg11.dtd\">\n<!-- Generated by graphviz version 2.43.0 (0)\n -->\n<!-- Title: Tree Pages: 1 -->\n<svg width=\"1143pt\" height=\"433pt\"\n viewBox=\"0.00 0.00 1142.50 433.00\" xmlns=\"http://www.w3.org/2000/svg\" xmlns:xlink=\"http://www.w3.org/1999/xlink\">\n<g id=\"graph0\" class=\"graph\" transform=\"scale(1 1) rotate(0) translate(4 429)\">\n<title>Tree</title>\n<polygon fill=\"white\" stroke=\"transparent\" points=\"-4,4 -4,-429 1138.5,-429 1138.5,4 -4,4\"/>\n<!-- 0 -->\n<g id=\"node1\" class=\"node\">\n<title>0</title>\n<path fill=\"#fefcfb\" stroke=\"black\" d=\"M636.5,-425C636.5,-425 498.5,-425 498.5,-425 492.5,-425 486.5,-419 486.5,-413 486.5,-413 486.5,-354 486.5,-354 486.5,-348 492.5,-342 498.5,-342 498.5,-342 636.5,-342 636.5,-342 642.5,-342 648.5,-348 648.5,-354 648.5,-354 648.5,-413 648.5,-413 648.5,-419 642.5,-425 636.5,-425\"/>\n<text text-anchor=\"middle\" x=\"567.5\" y=\"-409.8\" font-family=\"Helvetica,sans-Serif\" font-size=\"14.00\">age &lt;= 64.5</text>\n<text text-anchor=\"middle\" x=\"567.5\" y=\"-394.8\" font-family=\"Helvetica,sans-Serif\" font-size=\"14.00\">entropy = 1.0</text>\n<text text-anchor=\"middle\" x=\"567.5\" y=\"-379.8\" font-family=\"Helvetica,sans-Serif\" font-size=\"14.00\">samples = 5000</text>\n<text text-anchor=\"middle\" x=\"567.5\" y=\"-364.8\" font-family=\"Helvetica,sans-Serif\" font-size=\"14.00\">value = [2528.0, 2472.0]</text>\n<text text-anchor=\"middle\" x=\"567.5\" y=\"-349.8\" font-family=\"Helvetica,sans-Serif\" font-size=\"14.00\">class = heart_no</text>\n</g>\n<!-- 1 -->\n<g id=\"node2\" class=\"node\">\n<title>1</title>\n<path fill=\"#f1be98\" stroke=\"black\" d=\"M481,-306C481,-306 350,-306 350,-306 344,-306 338,-300 338,-294 338,-294 338,-235 338,-235 338,-229 344,-223 350,-223 350,-223 481,-223 481,-223 487,-223 493,-229 493,-235 493,-235 493,-294 493,-294 493,-300 487,-306 481,-306\"/>\n<text text-anchor=\"middle\" x=\"415.5\" y=\"-290.8\" font-family=\"Helvetica,sans-Serif\" font-size=\"14.00\">chest_pain &lt;= 0.5</text>\n<text text-anchor=\"middle\" x=\"415.5\" y=\"-275.8\" font-family=\"Helvetica,sans-Serif\" font-size=\"14.00\">entropy = 0.909</text>\n<text text-anchor=\"middle\" x=\"415.5\" y=\"-260.8\" font-family=\"Helvetica,sans-Serif\" font-size=\"14.00\">samples = 2652</text>\n<text text-anchor=\"middle\" x=\"415.5\" y=\"-245.8\" font-family=\"Helvetica,sans-Serif\" font-size=\"14.00\">value = [1791.0, 861.0]</text>\n<text text-anchor=\"middle\" x=\"415.5\" y=\"-230.8\" font-family=\"Helvetica,sans-Serif\" font-size=\"14.00\">class = heart_no</text>\n</g>\n<!-- 0&#45;&gt;1 -->\n<g id=\"edge1\" class=\"edge\">\n<title>0&#45;&gt;1</title>\n<path fill=\"none\" stroke=\"black\" d=\"M514.76,-341.91C502.38,-332.38 489.09,-322.15 476.39,-312.37\"/>\n<polygon fill=\"black\" stroke=\"black\" points=\"478.2,-309.35 468.14,-306.02 473.93,-314.89 478.2,-309.35\"/>\n<text text-anchor=\"middle\" x=\"471.37\" y=\"-327.11\" font-family=\"Helvetica,sans-Serif\" font-size=\"14.00\">True</text>\n</g>\n<!-- 8 -->\n<g id=\"node9\" class=\"node\">\n<title>8</title>\n<path fill=\"#94caf1\" stroke=\"black\" d=\"M753.5,-306C753.5,-306 645.5,-306 645.5,-306 639.5,-306 633.5,-300 633.5,-294 633.5,-294 633.5,-235 633.5,-235 633.5,-229 639.5,-223 645.5,-223 645.5,-223 753.5,-223 753.5,-223 759.5,-223 765.5,-229 765.5,-235 765.5,-235 765.5,-294 765.5,-294 765.5,-300 759.5,-306 753.5,-306\"/>\n<text text-anchor=\"middle\" x=\"699.5\" y=\"-290.8\" font-family=\"Helvetica,sans-Serif\" font-size=\"14.00\">chest_pain &lt;= 0.5</text>\n<text text-anchor=\"middle\" x=\"699.5\" y=\"-275.8\" font-family=\"Helvetica,sans-Serif\" font-size=\"14.00\">entropy = 0.898</text>\n<text text-anchor=\"middle\" x=\"699.5\" y=\"-260.8\" font-family=\"Helvetica,sans-Serif\" font-size=\"14.00\">samples = 2348</text>\n<text text-anchor=\"middle\" x=\"699.5\" y=\"-245.8\" font-family=\"Helvetica,sans-Serif\" font-size=\"14.00\">value = [737, 1611]</text>\n<text text-anchor=\"middle\" x=\"699.5\" y=\"-230.8\" font-family=\"Helvetica,sans-Serif\" font-size=\"14.00\">class = heart_yes</text>\n</g>\n<!-- 0&#45;&gt;8 -->\n<g id=\"edge8\" class=\"edge\">\n<title>0&#45;&gt;8</title>\n<path fill=\"none\" stroke=\"black\" d=\"M613.3,-341.91C623.84,-332.56 635.15,-322.54 645.99,-312.93\"/>\n<polygon fill=\"black\" stroke=\"black\" points=\"648.62,-315.27 653.78,-306.02 643.98,-310.03 648.62,-315.27\"/>\n<text text-anchor=\"middle\" x=\"652.28\" y=\"-327.28\" font-family=\"Helvetica,sans-Serif\" font-size=\"14.00\">False</text>\n</g>\n<!-- 2 -->\n<g id=\"node3\" class=\"node\">\n<title>2</title>\n<path fill=\"#eca36f\" stroke=\"black\" d=\"M251.5,-187C251.5,-187 143.5,-187 143.5,-187 137.5,-187 131.5,-181 131.5,-175 131.5,-175 131.5,-116 131.5,-116 131.5,-110 137.5,-104 143.5,-104 143.5,-104 251.5,-104 251.5,-104 257.5,-104 263.5,-110 263.5,-116 263.5,-116 263.5,-175 263.5,-175 263.5,-181 257.5,-187 251.5,-187\"/>\n<text text-anchor=\"middle\" x=\"197.5\" y=\"-171.8\" font-family=\"Helvetica,sans-Serif\" font-size=\"14.00\">age &lt;= 47.5</text>\n<text text-anchor=\"middle\" x=\"197.5\" y=\"-156.8\" font-family=\"Helvetica,sans-Serif\" font-size=\"14.00\">entropy = 0.747</text>\n<text text-anchor=\"middle\" x=\"197.5\" y=\"-141.8\" font-family=\"Helvetica,sans-Serif\" font-size=\"14.00\">samples = 1818</text>\n<text text-anchor=\"middle\" x=\"197.5\" y=\"-126.8\" font-family=\"Helvetica,sans-Serif\" font-size=\"14.00\">value = [1431, 387]</text>\n<text text-anchor=\"middle\" x=\"197.5\" y=\"-111.8\" font-family=\"Helvetica,sans-Serif\" font-size=\"14.00\">class = heart_no</text>\n</g>\n<!-- 1&#45;&gt;2 -->\n<g id=\"edge2\" class=\"edge\">\n<title>1&#45;&gt;2</title>\n<path fill=\"none\" stroke=\"black\" d=\"M339.87,-222.91C318.03,-211.19 294.22,-198.41 272.43,-186.72\"/>\n<polygon fill=\"black\" stroke=\"black\" points=\"274.02,-183.6 263.55,-181.95 270.71,-189.76 274.02,-183.6\"/>\n</g>\n<!-- 5 -->\n<g id=\"node6\" class=\"node\">\n<title>5</title>\n<path fill=\"#cfe7f9\" stroke=\"black\" d=\"M466,-187C466,-187 365,-187 365,-187 359,-187 353,-181 353,-175 353,-175 353,-116 353,-116 353,-110 359,-104 365,-104 365,-104 466,-104 466,-104 472,-104 478,-110 478,-116 478,-116 478,-175 478,-175 478,-181 472,-187 466,-187\"/>\n<text text-anchor=\"middle\" x=\"415.5\" y=\"-171.8\" font-family=\"Helvetica,sans-Serif\" font-size=\"14.00\">age &lt;= 56.5</text>\n<text text-anchor=\"middle\" x=\"415.5\" y=\"-156.8\" font-family=\"Helvetica,sans-Serif\" font-size=\"14.00\">entropy = 0.986</text>\n<text text-anchor=\"middle\" x=\"415.5\" y=\"-141.8\" font-family=\"Helvetica,sans-Serif\" font-size=\"14.00\">samples = 834</text>\n<text text-anchor=\"middle\" x=\"415.5\" y=\"-126.8\" font-family=\"Helvetica,sans-Serif\" font-size=\"14.00\">value = [360, 474]</text>\n<text text-anchor=\"middle\" x=\"415.5\" y=\"-111.8\" font-family=\"Helvetica,sans-Serif\" font-size=\"14.00\">class = heart_yes</text>\n</g>\n<!-- 1&#45;&gt;5 -->\n<g id=\"edge5\" class=\"edge\">\n<title>1&#45;&gt;5</title>\n<path fill=\"none\" stroke=\"black\" d=\"M415.5,-222.91C415.5,-214.65 415.5,-205.86 415.5,-197.3\"/>\n<polygon fill=\"black\" stroke=\"black\" points=\"419,-197.02 415.5,-187.02 412,-197.02 419,-197.02\"/>\n</g>\n<!-- 3 -->\n<g id=\"node4\" class=\"node\">\n<title>3</title>\n<path fill=\"#e68641\" stroke=\"black\" d=\"M105,-68C105,-68 12,-68 12,-68 6,-68 0,-62 0,-56 0,-56 0,-12 0,-12 0,-6 6,0 12,0 12,0 105,0 105,0 111,0 117,-6 117,-12 117,-12 117,-56 117,-56 117,-62 111,-68 105,-68\"/>\n<text text-anchor=\"middle\" x=\"58.5\" y=\"-52.8\" font-family=\"Helvetica,sans-Serif\" font-size=\"14.00\">entropy = 0.232</text>\n<text text-anchor=\"middle\" x=\"58.5\" y=\"-37.8\" font-family=\"Helvetica,sans-Serif\" font-size=\"14.00\">samples = 529</text>\n<text text-anchor=\"middle\" x=\"58.5\" y=\"-22.8\" font-family=\"Helvetica,sans-Serif\" font-size=\"14.00\">value = [509, 20]</text>\n<text text-anchor=\"middle\" x=\"58.5\" y=\"-7.8\" font-family=\"Helvetica,sans-Serif\" font-size=\"14.00\">class = heart_no</text>\n</g>\n<!-- 2&#45;&gt;3 -->\n<g id=\"edge3\" class=\"edge\">\n<title>2&#45;&gt;3</title>\n<path fill=\"none\" stroke=\"black\" d=\"M145.74,-103.73C133.7,-94.24 120.9,-84.16 108.92,-74.72\"/>\n<polygon fill=\"black\" stroke=\"black\" points=\"110.79,-71.74 100.77,-68.3 106.46,-77.24 110.79,-71.74\"/>\n</g>\n<!-- 4 -->\n<g id=\"node5\" class=\"node\">\n<title>4</title>\n<path fill=\"#efb388\" stroke=\"black\" d=\"M248,-68C248,-68 147,-68 147,-68 141,-68 135,-62 135,-56 135,-56 135,-12 135,-12 135,-6 141,0 147,0 147,0 248,0 248,0 254,0 260,-6 260,-12 260,-12 260,-56 260,-56 260,-62 254,-68 248,-68\"/>\n<text text-anchor=\"middle\" x=\"197.5\" y=\"-52.8\" font-family=\"Helvetica,sans-Serif\" font-size=\"14.00\">entropy = 0.862</text>\n<text text-anchor=\"middle\" x=\"197.5\" y=\"-37.8\" font-family=\"Helvetica,sans-Serif\" font-size=\"14.00\">samples = 1289</text>\n<text text-anchor=\"middle\" x=\"197.5\" y=\"-22.8\" font-family=\"Helvetica,sans-Serif\" font-size=\"14.00\">value = [922, 367]</text>\n<text text-anchor=\"middle\" x=\"197.5\" y=\"-7.8\" font-family=\"Helvetica,sans-Serif\" font-size=\"14.00\">class = heart_no</text>\n</g>\n<!-- 2&#45;&gt;4 -->\n<g id=\"edge4\" class=\"edge\">\n<title>2&#45;&gt;4</title>\n<path fill=\"none\" stroke=\"black\" d=\"M197.5,-103.73C197.5,-95.52 197.5,-86.86 197.5,-78.56\"/>\n<polygon fill=\"black\" stroke=\"black\" points=\"201,-78.3 197.5,-68.3 194,-78.3 201,-78.3\"/>\n</g>\n<!-- 6 -->\n<g id=\"node7\" class=\"node\">\n<title>6</title>\n<path fill=\"#fae6d7\" stroke=\"black\" d=\"M391,-68C391,-68 290,-68 290,-68 284,-68 278,-62 278,-56 278,-56 278,-12 278,-12 278,-6 284,0 290,0 290,0 391,0 391,0 397,0 403,-6 403,-12 403,-12 403,-56 403,-56 403,-62 397,-68 391,-68\"/>\n<text text-anchor=\"middle\" x=\"340.5\" y=\"-52.8\" font-family=\"Helvetica,sans-Serif\" font-size=\"14.00\">entropy = 0.991</text>\n<text text-anchor=\"middle\" x=\"340.5\" y=\"-37.8\" font-family=\"Helvetica,sans-Serif\" font-size=\"14.00\">samples = 448</text>\n<text text-anchor=\"middle\" x=\"340.5\" y=\"-22.8\" font-family=\"Helvetica,sans-Serif\" font-size=\"14.00\">value = [249, 199]</text>\n<text text-anchor=\"middle\" x=\"340.5\" y=\"-7.8\" font-family=\"Helvetica,sans-Serif\" font-size=\"14.00\">class = heart_no</text>\n</g>\n<!-- 5&#45;&gt;6 -->\n<g id=\"edge6\" class=\"edge\">\n<title>5&#45;&gt;6</title>\n<path fill=\"none\" stroke=\"black\" d=\"M387.57,-103.73C381.51,-94.88 375.1,-85.51 369.01,-76.63\"/>\n<polygon fill=\"black\" stroke=\"black\" points=\"371.85,-74.57 363.31,-68.3 366.07,-78.53 371.85,-74.57\"/>\n</g>\n<!-- 7 -->\n<g id=\"node8\" class=\"node\">\n<title>7</title>\n<path fill=\"#89c5ef\" stroke=\"black\" d=\"M556,-68C556,-68 433,-68 433,-68 427,-68 421,-62 421,-56 421,-56 421,-12 421,-12 421,-6 427,0 433,0 433,0 556,0 556,0 562,0 568,-6 568,-12 568,-12 568,-56 568,-56 568,-62 562,-68 556,-68\"/>\n<text text-anchor=\"middle\" x=\"494.5\" y=\"-52.8\" font-family=\"Helvetica,sans-Serif\" font-size=\"14.00\">entropy = 0.866</text>\n<text text-anchor=\"middle\" x=\"494.5\" y=\"-37.8\" font-family=\"Helvetica,sans-Serif\" font-size=\"14.00\">samples = 386</text>\n<text text-anchor=\"middle\" x=\"494.5\" y=\"-22.8\" font-family=\"Helvetica,sans-Serif\" font-size=\"14.00\">value = [111.0, 275.0]</text>\n<text text-anchor=\"middle\" x=\"494.5\" y=\"-7.8\" font-family=\"Helvetica,sans-Serif\" font-size=\"14.00\">class = heart_yes</text>\n</g>\n<!-- 5&#45;&gt;7 -->\n<g id=\"edge7\" class=\"edge\">\n<title>5&#45;&gt;7</title>\n<path fill=\"none\" stroke=\"black\" d=\"M444.92,-103.73C451.3,-94.88 458.06,-85.51 464.47,-76.63\"/>\n<polygon fill=\"black\" stroke=\"black\" points=\"467.46,-78.46 470.48,-68.3 461.79,-74.36 467.46,-78.46\"/>\n</g>\n<!-- 9 -->\n<g id=\"node10\" class=\"node\">\n<title>9</title>\n<path fill=\"#c8e4f8\" stroke=\"black\" d=\"M761,-187C761,-187 638,-187 638,-187 632,-187 626,-181 626,-175 626,-175 626,-116 626,-116 626,-110 632,-104 638,-104 638,-104 761,-104 761,-104 767,-104 773,-110 773,-116 773,-116 773,-175 773,-175 773,-181 767,-187 761,-187\"/>\n<text text-anchor=\"middle\" x=\"699.5\" y=\"-171.8\" font-family=\"Helvetica,sans-Serif\" font-size=\"14.00\">age &lt;= 77.5</text>\n<text text-anchor=\"middle\" x=\"699.5\" y=\"-156.8\" font-family=\"Helvetica,sans-Serif\" font-size=\"14.00\">entropy = 0.981</text>\n<text text-anchor=\"middle\" x=\"699.5\" y=\"-141.8\" font-family=\"Helvetica,sans-Serif\" font-size=\"14.00\">samples = 1465</text>\n<text text-anchor=\"middle\" x=\"699.5\" y=\"-126.8\" font-family=\"Helvetica,sans-Serif\" font-size=\"14.00\">value = [614.0, 851.0]</text>\n<text text-anchor=\"middle\" x=\"699.5\" y=\"-111.8\" font-family=\"Helvetica,sans-Serif\" font-size=\"14.00\">class = heart_yes</text>\n</g>\n<!-- 8&#45;&gt;9 -->\n<g id=\"edge9\" class=\"edge\">\n<title>8&#45;&gt;9</title>\n<path fill=\"none\" stroke=\"black\" d=\"M699.5,-222.91C699.5,-214.65 699.5,-205.86 699.5,-197.3\"/>\n<polygon fill=\"black\" stroke=\"black\" points=\"703,-197.02 699.5,-187.02 696,-197.02 703,-197.02\"/>\n</g>\n<!-- 12 -->\n<g id=\"node13\" class=\"node\">\n<title>12</title>\n<path fill=\"#59ade9\" stroke=\"black\" d=\"M1011.5,-187C1011.5,-187 855.5,-187 855.5,-187 849.5,-187 843.5,-181 843.5,-175 843.5,-175 843.5,-116 843.5,-116 843.5,-110 849.5,-104 855.5,-104 855.5,-104 1011.5,-104 1011.5,-104 1017.5,-104 1023.5,-110 1023.5,-116 1023.5,-116 1023.5,-175 1023.5,-175 1023.5,-181 1017.5,-187 1011.5,-187\"/>\n<text text-anchor=\"middle\" x=\"933.5\" y=\"-171.8\" font-family=\"Helvetica,sans-Serif\" font-size=\"14.00\">blood_cholesterol &lt;= 3.605</text>\n<text text-anchor=\"middle\" x=\"933.5\" y=\"-156.8\" font-family=\"Helvetica,sans-Serif\" font-size=\"14.00\">entropy = 0.582</text>\n<text text-anchor=\"middle\" x=\"933.5\" y=\"-141.8\" font-family=\"Helvetica,sans-Serif\" font-size=\"14.00\">samples = 883</text>\n<text text-anchor=\"middle\" x=\"933.5\" y=\"-126.8\" font-family=\"Helvetica,sans-Serif\" font-size=\"14.00\">value = [123.0, 760.0]</text>\n<text text-anchor=\"middle\" x=\"933.5\" y=\"-111.8\" font-family=\"Helvetica,sans-Serif\" font-size=\"14.00\">class = heart_yes</text>\n</g>\n<!-- 8&#45;&gt;12 -->\n<g id=\"edge12\" class=\"edge\">\n<title>8&#45;&gt;12</title>\n<path fill=\"none\" stroke=\"black\" d=\"M765.62,-230.44C789.67,-218.41 817.3,-204.6 843.1,-191.7\"/>\n<polygon fill=\"black\" stroke=\"black\" points=\"844.76,-194.78 852.14,-187.18 841.63,-188.52 844.76,-194.78\"/>\n</g>\n<!-- 10 -->\n<g id=\"node11\" class=\"node\">\n<title>10</title>\n<path fill=\"#fefcfb\" stroke=\"black\" d=\"M699,-68C699,-68 598,-68 598,-68 592,-68 586,-62 586,-56 586,-56 586,-12 586,-12 586,-6 592,0 598,0 598,0 699,0 699,0 705,0 711,-6 711,-12 711,-12 711,-56 711,-56 711,-62 705,-68 699,-68\"/>\n<text text-anchor=\"middle\" x=\"648.5\" y=\"-52.8\" font-family=\"Helvetica,sans-Serif\" font-size=\"14.00\">entropy = 1.0</text>\n<text text-anchor=\"middle\" x=\"648.5\" y=\"-37.8\" font-family=\"Helvetica,sans-Serif\" font-size=\"14.00\">samples = 936</text>\n<text text-anchor=\"middle\" x=\"648.5\" y=\"-22.8\" font-family=\"Helvetica,sans-Serif\" font-size=\"14.00\">value = [473, 463]</text>\n<text text-anchor=\"middle\" x=\"648.5\" y=\"-7.8\" font-family=\"Helvetica,sans-Serif\" font-size=\"14.00\">class = heart_no</text>\n</g>\n<!-- 9&#45;&gt;10 -->\n<g id=\"edge10\" class=\"edge\">\n<title>9&#45;&gt;10</title>\n<path fill=\"none\" stroke=\"black\" d=\"M680.51,-103.73C676.52,-95.15 672.29,-86.09 668.27,-77.46\"/>\n<polygon fill=\"black\" stroke=\"black\" points=\"671.4,-75.89 664.01,-68.3 665.06,-78.84 671.4,-75.89\"/>\n</g>\n<!-- 11 -->\n<g id=\"node12\" class=\"node\">\n<title>11</title>\n<path fill=\"#81c1ee\" stroke=\"black\" d=\"M842,-68C842,-68 741,-68 741,-68 735,-68 729,-62 729,-56 729,-56 729,-12 729,-12 729,-6 735,0 741,0 741,0 842,0 842,0 848,0 854,-6 854,-12 854,-12 854,-56 854,-56 854,-62 848,-68 842,-68\"/>\n<text text-anchor=\"middle\" x=\"791.5\" y=\"-52.8\" font-family=\"Helvetica,sans-Serif\" font-size=\"14.00\">entropy = 0.836</text>\n<text text-anchor=\"middle\" x=\"791.5\" y=\"-37.8\" font-family=\"Helvetica,sans-Serif\" font-size=\"14.00\">samples = 529</text>\n<text text-anchor=\"middle\" x=\"791.5\" y=\"-22.8\" font-family=\"Helvetica,sans-Serif\" font-size=\"14.00\">value = [141, 388]</text>\n<text text-anchor=\"middle\" x=\"791.5\" y=\"-7.8\" font-family=\"Helvetica,sans-Serif\" font-size=\"14.00\">class = heart_yes</text>\n</g>\n<!-- 9&#45;&gt;11 -->\n<g id=\"edge11\" class=\"edge\">\n<title>9&#45;&gt;11</title>\n<path fill=\"none\" stroke=\"black\" d=\"M733.76,-103.73C741.34,-94.7 749.39,-85.12 756.98,-76.08\"/>\n<polygon fill=\"black\" stroke=\"black\" points=\"759.77,-78.21 763.52,-68.3 754.41,-73.7 759.77,-78.21\"/>\n</g>\n<!-- 13 -->\n<g id=\"node14\" class=\"node\">\n<title>13</title>\n<path fill=\"#bddef6\" stroke=\"black\" d=\"M982.5,-68C982.5,-68 884.5,-68 884.5,-68 878.5,-68 872.5,-62 872.5,-56 872.5,-56 872.5,-12 872.5,-12 872.5,-6 878.5,0 884.5,0 884.5,0 982.5,0 982.5,0 988.5,0 994.5,-6 994.5,-12 994.5,-12 994.5,-56 994.5,-56 994.5,-62 988.5,-68 982.5,-68\"/>\n<text text-anchor=\"middle\" x=\"933.5\" y=\"-52.8\" font-family=\"Helvetica,sans-Serif\" font-size=\"14.00\">entropy = 0.971</text>\n<text text-anchor=\"middle\" x=\"933.5\" y=\"-37.8\" font-family=\"Helvetica,sans-Serif\" font-size=\"14.00\">samples = 60</text>\n<text text-anchor=\"middle\" x=\"933.5\" y=\"-22.8\" font-family=\"Helvetica,sans-Serif\" font-size=\"14.00\">value = [24, 36]</text>\n<text text-anchor=\"middle\" x=\"933.5\" y=\"-7.8\" font-family=\"Helvetica,sans-Serif\" font-size=\"14.00\">class = heart_yes</text>\n</g>\n<!-- 12&#45;&gt;13 -->\n<g id=\"edge13\" class=\"edge\">\n<title>12&#45;&gt;13</title>\n<path fill=\"none\" stroke=\"black\" d=\"M933.5,-103.73C933.5,-95.52 933.5,-86.86 933.5,-78.56\"/>\n<polygon fill=\"black\" stroke=\"black\" points=\"937,-78.3 933.5,-68.3 930,-78.3 937,-78.3\"/>\n</g>\n<!-- 14 -->\n<g id=\"node15\" class=\"node\">\n<title>14</title>\n<path fill=\"#54aae9\" stroke=\"black\" d=\"M1122.5,-68C1122.5,-68 1024.5,-68 1024.5,-68 1018.5,-68 1012.5,-62 1012.5,-56 1012.5,-56 1012.5,-12 1012.5,-12 1012.5,-6 1018.5,0 1024.5,0 1024.5,0 1122.5,0 1122.5,0 1128.5,0 1134.5,-6 1134.5,-12 1134.5,-12 1134.5,-56 1134.5,-56 1134.5,-62 1128.5,-68 1122.5,-68\"/>\n<text text-anchor=\"middle\" x=\"1073.5\" y=\"-52.8\" font-family=\"Helvetica,sans-Serif\" font-size=\"14.00\">entropy = 0.53</text>\n<text text-anchor=\"middle\" x=\"1073.5\" y=\"-37.8\" font-family=\"Helvetica,sans-Serif\" font-size=\"14.00\">samples = 823</text>\n<text text-anchor=\"middle\" x=\"1073.5\" y=\"-22.8\" font-family=\"Helvetica,sans-Serif\" font-size=\"14.00\">value = [99, 724]</text>\n<text text-anchor=\"middle\" x=\"1073.5\" y=\"-7.8\" font-family=\"Helvetica,sans-Serif\" font-size=\"14.00\">class = heart_yes</text>\n</g>\n<!-- 12&#45;&gt;14 -->\n<g id=\"edge14\" class=\"edge\">\n<title>12&#45;&gt;14</title>\n<path fill=\"none\" stroke=\"black\" d=\"M985.63,-103.73C997.76,-94.24 1010.65,-84.16 1022.72,-74.72\"/>\n<polygon fill=\"black\" stroke=\"black\" points=\"1025.2,-77.22 1030.93,-68.3 1020.89,-71.7 1025.2,-77.22\"/>\n</g>\n</g>\n</svg>\n",
            "text/plain": [
              "<graphviz.sources.Source at 0x7a44a041bd40>"
            ]
          },
          "metadata": {}
        }
      ],
      "source": [
        "# call visualize_tree on the tree that was fit\n",
        "visualize_tree(tree)"
      ]
    },
    {
      "cell_type": "markdown",
      "id": "restricted-thong",
      "metadata": {
        "id": "restricted-thong"
      },
      "source": [
        "If this is done correctly, you should see your decision tree rendered above in your notebook.\n",
        "\n",
        "Let's try to interpret the decision tree we just generated!\n",
        "\n",
        "**Graded Task:** Using the decision tree you generated above, classify the training example `X_train[5]` by hand.\n",
        "In your write up, determine the set of nodes in the decision tree that we must visit to classify this training example."
      ]
    },
    {
      "cell_type": "code",
      "execution_count": 36,
      "id": "welcome-consumer",
      "metadata": {
        "id": "welcome-consumer",
        "colab": {
          "base_uri": "https://localhost:8080/"
        },
        "outputId": "47d12c8f-c89b-4af3-8f27-ab287bcdc377"
      },
      "outputs": [
        {
          "output_type": "stream",
          "name": "stdout",
          "text": [
            "{'gender_female': np.float64(1.0), 're_hispanic': np.float64(1.0), 're_white': np.float64(0.0), 're_black': np.float64(0.0), 're_asian': np.float64(0.0), 'chest_pain': np.float64(1.0), 'drink_alcohol': np.float64(0.0), 'age': np.float64(44.0), 'blood_cholesterol': np.float64(2.9), 'BMI': np.float64(18.8), 'blood_pressure_sys': np.float64(96.0), 'diastolic_bp': np.float64(58.0), 'calories': np.float64(2588.0), 'family_income': np.float64(0.81)}\n"
          ]
        }
      ],
      "source": [
        "# Perform the classification of this data point by hand\n",
        "print(dict(zip(feature_names, X_train[5])))"
      ]
    },
    {
      "cell_type": "code",
      "source": [
        "# Start:  Root Node\n",
        "# First:  depth=1 Left Node  (Since age: 44 <= 64.5 True)\n",
        "# Second: depth=2 Right Node (Since chest_pain: 1.0 <= 0.5 False)\n",
        "# Third:  depth=3 Left Node  (Since age: 44 <= 56.5 True)\n",
        "# Prediction: heart_no"
      ],
      "metadata": {
        "id": "gmcatPMXKMTw"
      },
      "id": "gmcatPMXKMTw",
      "execution_count": 68,
      "outputs": []
    },
    {
      "cell_type": "markdown",
      "id": "injured-employer",
      "metadata": {
        "id": "injured-employer"
      },
      "source": [
        "We will now explore some hyperparameter choices that may cause our decision tree to underfit or overfit our data. Recall that overfitting means that, while our model may accurately capture relationships between inputs and our classification target in training data, it may not capture such relationships in the validation data. By contrast, underfitting occurs when our model lacks the complexity to model relationships in either training or validation data.  \n",
        "\n",
        "**Task:** Similar to what you did above, create another `DecisionTreeClassifier` that uses `entropy` to measure the quality of a split. Set the `max_depth` to a value that will cause the tree to *underfit*. Report the accuracy on the validation and training sets. Visualize the tree by calling `visualize_tree`."
      ]
    },
    {
      "cell_type": "code",
      "execution_count": 44,
      "id": "steady-culture",
      "metadata": {
        "id": "steady-culture",
        "colab": {
          "base_uri": "https://localhost:8080/",
          "height": 317
        },
        "outputId": "154c2e9d-f2e6-4967-ddb0-cfdc5f29c0c1"
      },
      "outputs": [
        {
          "output_type": "stream",
          "name": "stdout",
          "text": [
            "Training Accuracy: 0.6804\n",
            "Validation Accuracy: 0.6793333333333333\n"
          ]
        },
        {
          "output_type": "display_data",
          "data": {
            "image/svg+xml": "<?xml version=\"1.0\" encoding=\"UTF-8\" standalone=\"no\"?>\n<!DOCTYPE svg PUBLIC \"-//W3C//DTD SVG 1.1//EN\"\n \"http://www.w3.org/Graphics/SVG/1.1/DTD/svg11.dtd\">\n<!-- Generated by graphviz version 2.43.0 (0)\n -->\n<!-- Title: Tree Pages: 1 -->\n<svg width=\"314pt\" height=\"195pt\"\n viewBox=\"0.00 0.00 313.50 195.00\" xmlns=\"http://www.w3.org/2000/svg\" xmlns:xlink=\"http://www.w3.org/1999/xlink\">\n<g id=\"graph0\" class=\"graph\" transform=\"scale(1 1) rotate(0) translate(4 191)\">\n<title>Tree</title>\n<polygon fill=\"white\" stroke=\"transparent\" points=\"-4,4 -4,-191 309.5,-191 309.5,4 -4,4\"/>\n<!-- 0 -->\n<g id=\"node1\" class=\"node\">\n<title>0</title>\n<path fill=\"#fefcfb\" stroke=\"black\" d=\"M227.5,-187C227.5,-187 89.5,-187 89.5,-187 83.5,-187 77.5,-181 77.5,-175 77.5,-175 77.5,-116 77.5,-116 77.5,-110 83.5,-104 89.5,-104 89.5,-104 227.5,-104 227.5,-104 233.5,-104 239.5,-110 239.5,-116 239.5,-116 239.5,-175 239.5,-175 239.5,-181 233.5,-187 227.5,-187\"/>\n<text text-anchor=\"middle\" x=\"158.5\" y=\"-171.8\" font-family=\"Helvetica,sans-Serif\" font-size=\"14.00\">age &lt;= 64.5</text>\n<text text-anchor=\"middle\" x=\"158.5\" y=\"-156.8\" font-family=\"Helvetica,sans-Serif\" font-size=\"14.00\">entropy = 1.0</text>\n<text text-anchor=\"middle\" x=\"158.5\" y=\"-141.8\" font-family=\"Helvetica,sans-Serif\" font-size=\"14.00\">samples = 5000</text>\n<text text-anchor=\"middle\" x=\"158.5\" y=\"-126.8\" font-family=\"Helvetica,sans-Serif\" font-size=\"14.00\">value = [2528.0, 2472.0]</text>\n<text text-anchor=\"middle\" x=\"158.5\" y=\"-111.8\" font-family=\"Helvetica,sans-Serif\" font-size=\"14.00\">class = heart_no</text>\n</g>\n<!-- 1 -->\n<g id=\"node2\" class=\"node\">\n<title>1</title>\n<path fill=\"#f1be98\" stroke=\"black\" d=\"M143,-68C143,-68 12,-68 12,-68 6,-68 0,-62 0,-56 0,-56 0,-12 0,-12 0,-6 6,0 12,0 12,0 143,0 143,0 149,0 155,-6 155,-12 155,-12 155,-56 155,-56 155,-62 149,-68 143,-68\"/>\n<text text-anchor=\"middle\" x=\"77.5\" y=\"-52.8\" font-family=\"Helvetica,sans-Serif\" font-size=\"14.00\">entropy = 0.909</text>\n<text text-anchor=\"middle\" x=\"77.5\" y=\"-37.8\" font-family=\"Helvetica,sans-Serif\" font-size=\"14.00\">samples = 2652</text>\n<text text-anchor=\"middle\" x=\"77.5\" y=\"-22.8\" font-family=\"Helvetica,sans-Serif\" font-size=\"14.00\">value = [1791.0, 861.0]</text>\n<text text-anchor=\"middle\" x=\"77.5\" y=\"-7.8\" font-family=\"Helvetica,sans-Serif\" font-size=\"14.00\">class = heart_no</text>\n</g>\n<!-- 0&#45;&gt;1 -->\n<g id=\"edge1\" class=\"edge\">\n<title>0&#45;&gt;1</title>\n<path fill=\"none\" stroke=\"black\" d=\"M128.34,-103.73C121.73,-94.79 114.72,-85.32 108.09,-76.36\"/>\n<polygon fill=\"black\" stroke=\"black\" points=\"110.89,-74.26 102.13,-68.3 105.27,-78.42 110.89,-74.26\"/>\n<text text-anchor=\"middle\" x=\"98.43\" y=\"-89.32\" font-family=\"Helvetica,sans-Serif\" font-size=\"14.00\">True</text>\n</g>\n<!-- 2 -->\n<g id=\"node3\" class=\"node\">\n<title>2</title>\n<path fill=\"#94caf1\" stroke=\"black\" d=\"M293.5,-68C293.5,-68 185.5,-68 185.5,-68 179.5,-68 173.5,-62 173.5,-56 173.5,-56 173.5,-12 173.5,-12 173.5,-6 179.5,0 185.5,0 185.5,0 293.5,0 293.5,0 299.5,0 305.5,-6 305.5,-12 305.5,-12 305.5,-56 305.5,-56 305.5,-62 299.5,-68 293.5,-68\"/>\n<text text-anchor=\"middle\" x=\"239.5\" y=\"-52.8\" font-family=\"Helvetica,sans-Serif\" font-size=\"14.00\">entropy = 0.898</text>\n<text text-anchor=\"middle\" x=\"239.5\" y=\"-37.8\" font-family=\"Helvetica,sans-Serif\" font-size=\"14.00\">samples = 2348</text>\n<text text-anchor=\"middle\" x=\"239.5\" y=\"-22.8\" font-family=\"Helvetica,sans-Serif\" font-size=\"14.00\">value = [737, 1611]</text>\n<text text-anchor=\"middle\" x=\"239.5\" y=\"-7.8\" font-family=\"Helvetica,sans-Serif\" font-size=\"14.00\">class = heart_yes</text>\n</g>\n<!-- 0&#45;&gt;2 -->\n<g id=\"edge2\" class=\"edge\">\n<title>0&#45;&gt;2</title>\n<path fill=\"none\" stroke=\"black\" d=\"M188.66,-103.73C195.27,-94.79 202.28,-85.32 208.91,-76.36\"/>\n<polygon fill=\"black\" stroke=\"black\" points=\"211.73,-78.42 214.87,-68.3 206.11,-74.26 211.73,-78.42\"/>\n<text text-anchor=\"middle\" x=\"218.57\" y=\"-89.32\" font-family=\"Helvetica,sans-Serif\" font-size=\"14.00\">False</text>\n</g>\n</g>\n</svg>\n",
            "text/plain": [
              "<graphviz.sources.Source at 0x7a449fa69d00>"
            ]
          },
          "metadata": {}
        }
      ],
      "source": [
        "# create a DecisionTreeClassifier\n",
        "tree_underfit = DecisionTreeClassifier(criterion=\"entropy\", max_depth=1)\n",
        "\n",
        "# fit it to our data\n",
        "tree_underfit.fit(X_train, t_train)\n",
        "\n",
        "# Print the training and validation accuracy\n",
        "print(\"Training Accuracy:\", tree_underfit.score(X_train, t_train))\n",
        "print(\"Validation Accuracy:\", tree_underfit.score(X_val, t_val))\n",
        "\n",
        "# visualize the tree\n",
        "visualize_tree(tree_underfit)"
      ]
    },
    {
      "cell_type": "markdown",
      "id": "colored-median",
      "metadata": {
        "id": "colored-median"
      },
      "source": [
        "**Task:** Repeat the same computation as above, but set the `max_depth` to a value that will cause the tree to *overfit*. When using `visualize_tree` to visualize the tree, leave the default max depth parameter as 5."
      ]
    },
    {
      "cell_type": "code",
      "execution_count": 75,
      "id": "constitutional-notification",
      "metadata": {
        "id": "constitutional-notification",
        "colab": {
          "base_uri": "https://localhost:8080/",
          "height": 971
        },
        "outputId": "1382d6db-57bf-40a8-c9c0-4ecb4702e254"
      },
      "outputs": [
        {
          "output_type": "stream",
          "name": "stdout",
          "text": [
            "Training Accuracy: 0.7466\n",
            "Validation Accuracy: 0.7433333333333333\n"
          ]
        },
        {
          "output_type": "display_data",
          "data": {
            "image/svg+xml": "<?xml version=\"1.0\" encoding=\"UTF-8\" standalone=\"no\"?>\n<!DOCTYPE svg PUBLIC \"-//W3C//DTD SVG 1.1//EN\"\n \"http://www.w3.org/Graphics/SVG/1.1/DTD/svg11.dtd\">\n<!-- Generated by graphviz version 2.43.0 (0)\n -->\n<!-- Title: Tree Pages: 1 -->\n<svg width=\"3943pt\" height=\"671pt\"\n viewBox=\"0.00 0.00 3943.00 671.00\" xmlns=\"http://www.w3.org/2000/svg\" xmlns:xlink=\"http://www.w3.org/1999/xlink\">\n<g id=\"graph0\" class=\"graph\" transform=\"scale(1 1) rotate(0) translate(4 667)\">\n<title>Tree</title>\n<polygon fill=\"white\" stroke=\"transparent\" points=\"-4,4 -4,-667 3939,-667 3939,4 -4,4\"/>\n<!-- 0 -->\n<g id=\"node1\" class=\"node\">\n<title>0</title>\n<path fill=\"#fefcfb\" stroke=\"black\" d=\"M2096,-663C2096,-663 1958,-663 1958,-663 1952,-663 1946,-657 1946,-651 1946,-651 1946,-592 1946,-592 1946,-586 1952,-580 1958,-580 1958,-580 2096,-580 2096,-580 2102,-580 2108,-586 2108,-592 2108,-592 2108,-651 2108,-651 2108,-657 2102,-663 2096,-663\"/>\n<text text-anchor=\"middle\" x=\"2027\" y=\"-647.8\" font-family=\"Helvetica,sans-Serif\" font-size=\"14.00\">age &lt;= 64.5</text>\n<text text-anchor=\"middle\" x=\"2027\" y=\"-632.8\" font-family=\"Helvetica,sans-Serif\" font-size=\"14.00\">entropy = 1.0</text>\n<text text-anchor=\"middle\" x=\"2027\" y=\"-617.8\" font-family=\"Helvetica,sans-Serif\" font-size=\"14.00\">samples = 5000</text>\n<text text-anchor=\"middle\" x=\"2027\" y=\"-602.8\" font-family=\"Helvetica,sans-Serif\" font-size=\"14.00\">value = [2528.0, 2472.0]</text>\n<text text-anchor=\"middle\" x=\"2027\" y=\"-587.8\" font-family=\"Helvetica,sans-Serif\" font-size=\"14.00\">class = heart_no</text>\n</g>\n<!-- 1 -->\n<g id=\"node2\" class=\"node\">\n<title>1</title>\n<path fill=\"#f1be98\" stroke=\"black\" d=\"M1531.5,-544C1531.5,-544 1400.5,-544 1400.5,-544 1394.5,-544 1388.5,-538 1388.5,-532 1388.5,-532 1388.5,-473 1388.5,-473 1388.5,-467 1394.5,-461 1400.5,-461 1400.5,-461 1531.5,-461 1531.5,-461 1537.5,-461 1543.5,-467 1543.5,-473 1543.5,-473 1543.5,-532 1543.5,-532 1543.5,-538 1537.5,-544 1531.5,-544\"/>\n<text text-anchor=\"middle\" x=\"1466\" y=\"-528.8\" font-family=\"Helvetica,sans-Serif\" font-size=\"14.00\">chest_pain &lt;= 0.5</text>\n<text text-anchor=\"middle\" x=\"1466\" y=\"-513.8\" font-family=\"Helvetica,sans-Serif\" font-size=\"14.00\">entropy = 0.909</text>\n<text text-anchor=\"middle\" x=\"1466\" y=\"-498.8\" font-family=\"Helvetica,sans-Serif\" font-size=\"14.00\">samples = 2652</text>\n<text text-anchor=\"middle\" x=\"1466\" y=\"-483.8\" font-family=\"Helvetica,sans-Serif\" font-size=\"14.00\">value = [1791.0, 861.0]</text>\n<text text-anchor=\"middle\" x=\"1466\" y=\"-468.8\" font-family=\"Helvetica,sans-Serif\" font-size=\"14.00\">class = heart_no</text>\n</g>\n<!-- 0&#45;&gt;1 -->\n<g id=\"edge1\" class=\"edge\">\n<title>0&#45;&gt;1</title>\n<path fill=\"none\" stroke=\"black\" d=\"M1945.73,-603.55C1841.34,-581.78 1660.86,-544.14 1553.53,-521.76\"/>\n<polygon fill=\"black\" stroke=\"black\" points=\"1554.2,-518.32 1543.7,-519.7 1552.77,-525.17 1554.2,-518.32\"/>\n<text text-anchor=\"middle\" x=\"1557.39\" y=\"-536.92\" font-family=\"Helvetica,sans-Serif\" font-size=\"14.00\">True</text>\n</g>\n<!-- 30 -->\n<g id=\"node31\" class=\"node\">\n<title>30</title>\n<path fill=\"#94caf1\" stroke=\"black\" d=\"M2594,-544C2594,-544 2486,-544 2486,-544 2480,-544 2474,-538 2474,-532 2474,-532 2474,-473 2474,-473 2474,-467 2480,-461 2486,-461 2486,-461 2594,-461 2594,-461 2600,-461 2606,-467 2606,-473 2606,-473 2606,-532 2606,-532 2606,-538 2600,-544 2594,-544\"/>\n<text text-anchor=\"middle\" x=\"2540\" y=\"-528.8\" font-family=\"Helvetica,sans-Serif\" font-size=\"14.00\">chest_pain &lt;= 0.5</text>\n<text text-anchor=\"middle\" x=\"2540\" y=\"-513.8\" font-family=\"Helvetica,sans-Serif\" font-size=\"14.00\">entropy = 0.898</text>\n<text text-anchor=\"middle\" x=\"2540\" y=\"-498.8\" font-family=\"Helvetica,sans-Serif\" font-size=\"14.00\">samples = 2348</text>\n<text text-anchor=\"middle\" x=\"2540\" y=\"-483.8\" font-family=\"Helvetica,sans-Serif\" font-size=\"14.00\">value = [737, 1611]</text>\n<text text-anchor=\"middle\" x=\"2540\" y=\"-468.8\" font-family=\"Helvetica,sans-Serif\" font-size=\"14.00\">class = heart_yes</text>\n</g>\n<!-- 0&#45;&gt;30 -->\n<g id=\"edge30\" class=\"edge\">\n<title>0&#45;&gt;30</title>\n<path fill=\"none\" stroke=\"black\" d=\"M2108,-602.03C2205.63,-579.76 2368.41,-542.63 2463.83,-520.87\"/>\n<polygon fill=\"black\" stroke=\"black\" points=\"2464.73,-524.26 2473.7,-518.62 2463.17,-517.43 2464.73,-524.26\"/>\n<text text-anchor=\"middle\" x=\"2460.39\" y=\"-536.09\" font-family=\"Helvetica,sans-Serif\" font-size=\"14.00\">False</text>\n</g>\n<!-- 2 -->\n<g id=\"node3\" class=\"node\">\n<title>2</title>\n<path fill=\"#eca36f\" stroke=\"black\" d=\"M646,-425C646,-425 538,-425 538,-425 532,-425 526,-419 526,-413 526,-413 526,-354 526,-354 526,-348 532,-342 538,-342 538,-342 646,-342 646,-342 652,-342 658,-348 658,-354 658,-354 658,-413 658,-413 658,-419 652,-425 646,-425\"/>\n<text text-anchor=\"middle\" x=\"592\" y=\"-409.8\" font-family=\"Helvetica,sans-Serif\" font-size=\"14.00\">age &lt;= 47.5</text>\n<text text-anchor=\"middle\" x=\"592\" y=\"-394.8\" font-family=\"Helvetica,sans-Serif\" font-size=\"14.00\">entropy = 0.747</text>\n<text text-anchor=\"middle\" x=\"592\" y=\"-379.8\" font-family=\"Helvetica,sans-Serif\" font-size=\"14.00\">samples = 1818</text>\n<text text-anchor=\"middle\" x=\"592\" y=\"-364.8\" font-family=\"Helvetica,sans-Serif\" font-size=\"14.00\">value = [1431, 387]</text>\n<text text-anchor=\"middle\" x=\"592\" y=\"-349.8\" font-family=\"Helvetica,sans-Serif\" font-size=\"14.00\">class = heart_no</text>\n</g>\n<!-- 1&#45;&gt;2 -->\n<g id=\"edge2\" class=\"edge\">\n<title>1&#45;&gt;2</title>\n<path fill=\"none\" stroke=\"black\" d=\"M1388.44,-491.12C1222.2,-468.86 833.29,-416.8 668.24,-394.71\"/>\n<polygon fill=\"black\" stroke=\"black\" points=\"668.55,-391.22 658.17,-393.36 667.62,-398.15 668.55,-391.22\"/>\n</g>\n<!-- 15 -->\n<g id=\"node16\" class=\"node\">\n<title>15</title>\n<path fill=\"#cfe7f9\" stroke=\"black\" d=\"M1516.5,-425C1516.5,-425 1415.5,-425 1415.5,-425 1409.5,-425 1403.5,-419 1403.5,-413 1403.5,-413 1403.5,-354 1403.5,-354 1403.5,-348 1409.5,-342 1415.5,-342 1415.5,-342 1516.5,-342 1516.5,-342 1522.5,-342 1528.5,-348 1528.5,-354 1528.5,-354 1528.5,-413 1528.5,-413 1528.5,-419 1522.5,-425 1516.5,-425\"/>\n<text text-anchor=\"middle\" x=\"1466\" y=\"-409.8\" font-family=\"Helvetica,sans-Serif\" font-size=\"14.00\">age &lt;= 56.5</text>\n<text text-anchor=\"middle\" x=\"1466\" y=\"-394.8\" font-family=\"Helvetica,sans-Serif\" font-size=\"14.00\">entropy = 0.986</text>\n<text text-anchor=\"middle\" x=\"1466\" y=\"-379.8\" font-family=\"Helvetica,sans-Serif\" font-size=\"14.00\">samples = 834</text>\n<text text-anchor=\"middle\" x=\"1466\" y=\"-364.8\" font-family=\"Helvetica,sans-Serif\" font-size=\"14.00\">value = [360, 474]</text>\n<text text-anchor=\"middle\" x=\"1466\" y=\"-349.8\" font-family=\"Helvetica,sans-Serif\" font-size=\"14.00\">class = heart_yes</text>\n</g>\n<!-- 1&#45;&gt;15 -->\n<g id=\"edge15\" class=\"edge\">\n<title>1&#45;&gt;15</title>\n<path fill=\"none\" stroke=\"black\" d=\"M1466,-460.91C1466,-452.65 1466,-443.86 1466,-435.3\"/>\n<polygon fill=\"black\" stroke=\"black\" points=\"1469.5,-435.02 1466,-425.02 1462.5,-435.02 1469.5,-435.02\"/>\n</g>\n<!-- 3 -->\n<g id=\"node4\" class=\"node\">\n<title>3</title>\n<path fill=\"#e68641\" stroke=\"black\" d=\"M287,-306C287,-306 161,-306 161,-306 155,-306 149,-300 149,-294 149,-294 149,-235 149,-235 149,-229 155,-223 161,-223 161,-223 287,-223 287,-223 293,-223 299,-229 299,-235 299,-235 299,-294 299,-294 299,-300 293,-306 287,-306\"/>\n<text text-anchor=\"middle\" x=\"224\" y=\"-290.8\" font-family=\"Helvetica,sans-Serif\" font-size=\"14.00\">gender_female &lt;= 0.5</text>\n<text text-anchor=\"middle\" x=\"224\" y=\"-275.8\" font-family=\"Helvetica,sans-Serif\" font-size=\"14.00\">entropy = 0.232</text>\n<text text-anchor=\"middle\" x=\"224\" y=\"-260.8\" font-family=\"Helvetica,sans-Serif\" font-size=\"14.00\">samples = 529</text>\n<text text-anchor=\"middle\" x=\"224\" y=\"-245.8\" font-family=\"Helvetica,sans-Serif\" font-size=\"14.00\">value = [509, 20]</text>\n<text text-anchor=\"middle\" x=\"224\" y=\"-230.8\" font-family=\"Helvetica,sans-Serif\" font-size=\"14.00\">class = heart_no</text>\n</g>\n<!-- 2&#45;&gt;3 -->\n<g id=\"edge3\" class=\"edge\">\n<title>2&#45;&gt;3</title>\n<path fill=\"none\" stroke=\"black\" d=\"M525.78,-361.45C465.04,-342.13 374.74,-313.43 308.75,-292.44\"/>\n<polygon fill=\"black\" stroke=\"black\" points=\"309.79,-289.1 299.2,-289.41 307.66,-295.77 309.79,-289.1\"/>\n</g>\n<!-- 8 -->\n<g id=\"node9\" class=\"node\">\n<title>8</title>\n<path fill=\"#efb388\" stroke=\"black\" d=\"M657.5,-306C657.5,-306 526.5,-306 526.5,-306 520.5,-306 514.5,-300 514.5,-294 514.5,-294 514.5,-235 514.5,-235 514.5,-229 520.5,-223 526.5,-223 526.5,-223 657.5,-223 657.5,-223 663.5,-223 669.5,-229 669.5,-235 669.5,-235 669.5,-294 669.5,-294 669.5,-300 663.5,-306 657.5,-306\"/>\n<text text-anchor=\"middle\" x=\"592\" y=\"-290.8\" font-family=\"Helvetica,sans-Serif\" font-size=\"14.00\">family_income &lt;= 4.88</text>\n<text text-anchor=\"middle\" x=\"592\" y=\"-275.8\" font-family=\"Helvetica,sans-Serif\" font-size=\"14.00\">entropy = 0.862</text>\n<text text-anchor=\"middle\" x=\"592\" y=\"-260.8\" font-family=\"Helvetica,sans-Serif\" font-size=\"14.00\">samples = 1289</text>\n<text text-anchor=\"middle\" x=\"592\" y=\"-245.8\" font-family=\"Helvetica,sans-Serif\" font-size=\"14.00\">value = [922, 367]</text>\n<text text-anchor=\"middle\" x=\"592\" y=\"-230.8\" font-family=\"Helvetica,sans-Serif\" font-size=\"14.00\">class = heart_no</text>\n</g>\n<!-- 2&#45;&gt;8 -->\n<g id=\"edge8\" class=\"edge\">\n<title>2&#45;&gt;8</title>\n<path fill=\"none\" stroke=\"black\" d=\"M592,-341.91C592,-333.65 592,-324.86 592,-316.3\"/>\n<polygon fill=\"black\" stroke=\"black\" points=\"595.5,-316.02 592,-306.02 588.5,-316.02 595.5,-316.02\"/>\n</g>\n<!-- 4 -->\n<g id=\"node5\" class=\"node\">\n<title>4</title>\n<path fill=\"#e58139\" stroke=\"black\" d=\"M104,-179.5C104,-179.5 12,-179.5 12,-179.5 6,-179.5 0,-173.5 0,-167.5 0,-167.5 0,-123.5 0,-123.5 0,-117.5 6,-111.5 12,-111.5 12,-111.5 104,-111.5 104,-111.5 110,-111.5 116,-117.5 116,-123.5 116,-123.5 116,-167.5 116,-167.5 116,-173.5 110,-179.5 104,-179.5\"/>\n<text text-anchor=\"middle\" x=\"58\" y=\"-164.3\" font-family=\"Helvetica,sans-Serif\" font-size=\"14.00\">entropy = 0.0</text>\n<text text-anchor=\"middle\" x=\"58\" y=\"-149.3\" font-family=\"Helvetica,sans-Serif\" font-size=\"14.00\">samples = 235</text>\n<text text-anchor=\"middle\" x=\"58\" y=\"-134.3\" font-family=\"Helvetica,sans-Serif\" font-size=\"14.00\">value = [235, 0]</text>\n<text text-anchor=\"middle\" x=\"58\" y=\"-119.3\" font-family=\"Helvetica,sans-Serif\" font-size=\"14.00\">class = heart_no</text>\n</g>\n<!-- 3&#45;&gt;4 -->\n<g id=\"edge4\" class=\"edge\">\n<title>3&#45;&gt;4</title>\n<path fill=\"none\" stroke=\"black\" d=\"M166.41,-222.91C149.19,-210.77 130.35,-197.49 113.28,-185.46\"/>\n<polygon fill=\"black\" stroke=\"black\" points=\"115.25,-182.57 105.06,-179.67 111.21,-188.29 115.25,-182.57\"/>\n</g>\n<!-- 5 -->\n<g id=\"node6\" class=\"node\">\n<title>5</title>\n<path fill=\"#e78a47\" stroke=\"black\" d=\"M302,-187C302,-187 146,-187 146,-187 140,-187 134,-181 134,-175 134,-175 134,-116 134,-116 134,-110 140,-104 146,-104 146,-104 302,-104 302,-104 308,-104 314,-110 314,-116 314,-116 314,-175 314,-175 314,-181 308,-187 302,-187\"/>\n<text text-anchor=\"middle\" x=\"224\" y=\"-171.8\" font-family=\"Helvetica,sans-Serif\" font-size=\"14.00\">blood_cholesterol &lt;= 5.315</text>\n<text text-anchor=\"middle\" x=\"224\" y=\"-156.8\" font-family=\"Helvetica,sans-Serif\" font-size=\"14.00\">entropy = 0.359</text>\n<text text-anchor=\"middle\" x=\"224\" y=\"-141.8\" font-family=\"Helvetica,sans-Serif\" font-size=\"14.00\">samples = 294</text>\n<text text-anchor=\"middle\" x=\"224\" y=\"-126.8\" font-family=\"Helvetica,sans-Serif\" font-size=\"14.00\">value = [274.0, 20.0]</text>\n<text text-anchor=\"middle\" x=\"224\" y=\"-111.8\" font-family=\"Helvetica,sans-Serif\" font-size=\"14.00\">class = heart_no</text>\n</g>\n<!-- 3&#45;&gt;5 -->\n<g id=\"edge5\" class=\"edge\">\n<title>3&#45;&gt;5</title>\n<path fill=\"none\" stroke=\"black\" d=\"M224,-222.91C224,-214.65 224,-205.86 224,-197.3\"/>\n<polygon fill=\"black\" stroke=\"black\" points=\"227.5,-197.02 224,-187.02 220.5,-197.02 227.5,-197.02\"/>\n</g>\n<!-- 6 -->\n<g id=\"node7\" class=\"node\">\n<title>6</title>\n<path fill=\"#e68540\" stroke=\"black\" d=\"M136,-68C136,-68 44,-68 44,-68 38,-68 32,-62 32,-56 32,-56 32,-12 32,-12 32,-6 38,0 44,0 44,0 136,0 136,0 142,0 148,-6 148,-12 148,-12 148,-56 148,-56 148,-62 142,-68 136,-68\"/>\n<text text-anchor=\"middle\" x=\"90\" y=\"-52.8\" font-family=\"Helvetica,sans-Serif\" font-size=\"14.00\">entropy = 0.215</text>\n<text text-anchor=\"middle\" x=\"90\" y=\"-37.8\" font-family=\"Helvetica,sans-Serif\" font-size=\"14.00\">samples = 234</text>\n<text text-anchor=\"middle\" x=\"90\" y=\"-22.8\" font-family=\"Helvetica,sans-Serif\" font-size=\"14.00\">value = [226, 8]</text>\n<text text-anchor=\"middle\" x=\"90\" y=\"-7.8\" font-family=\"Helvetica,sans-Serif\" font-size=\"14.00\">class = heart_no</text>\n</g>\n<!-- 5&#45;&gt;6 -->\n<g id=\"edge6\" class=\"edge\">\n<title>5&#45;&gt;6</title>\n<path fill=\"none\" stroke=\"black\" d=\"M174.1,-103.73C162.5,-94.24 150.15,-84.16 138.6,-74.72\"/>\n<polygon fill=\"black\" stroke=\"black\" points=\"140.71,-71.92 130.75,-68.3 136.28,-77.34 140.71,-71.92\"/>\n</g>\n<!-- 7 -->\n<g id=\"node8\" class=\"node\">\n<title>7</title>\n<path fill=\"#eca06a\" stroke=\"black\" d=\"M270,-68C270,-68 178,-68 178,-68 172,-68 166,-62 166,-56 166,-56 166,-12 166,-12 166,-6 172,0 178,0 178,0 270,0 270,0 276,0 282,-6 282,-12 282,-12 282,-56 282,-56 282,-62 276,-68 270,-68\"/>\n<text text-anchor=\"middle\" x=\"224\" y=\"-52.8\" font-family=\"Helvetica,sans-Serif\" font-size=\"14.00\">entropy = 0.722</text>\n<text text-anchor=\"middle\" x=\"224\" y=\"-37.8\" font-family=\"Helvetica,sans-Serif\" font-size=\"14.00\">samples = 60</text>\n<text text-anchor=\"middle\" x=\"224\" y=\"-22.8\" font-family=\"Helvetica,sans-Serif\" font-size=\"14.00\">value = [48, 12]</text>\n<text text-anchor=\"middle\" x=\"224\" y=\"-7.8\" font-family=\"Helvetica,sans-Serif\" font-size=\"14.00\">class = heart_no</text>\n</g>\n<!-- 5&#45;&gt;7 -->\n<g id=\"edge7\" class=\"edge\">\n<title>5&#45;&gt;7</title>\n<path fill=\"none\" stroke=\"black\" d=\"M224,-103.73C224,-95.52 224,-86.86 224,-78.56\"/>\n<polygon fill=\"black\" stroke=\"black\" points=\"227.5,-78.3 224,-68.3 220.5,-78.3 227.5,-78.3\"/>\n</g>\n<!-- 9 -->\n<g id=\"node10\" class=\"node\">\n<title>9</title>\n<path fill=\"#f3c4a3\" stroke=\"black\" d=\"M577.5,-187C577.5,-187 446.5,-187 446.5,-187 440.5,-187 434.5,-181 434.5,-175 434.5,-175 434.5,-116 434.5,-116 434.5,-110 440.5,-104 446.5,-104 446.5,-104 577.5,-104 577.5,-104 583.5,-104 589.5,-110 589.5,-116 589.5,-116 589.5,-175 589.5,-175 589.5,-181 583.5,-187 577.5,-187\"/>\n<text text-anchor=\"middle\" x=\"512\" y=\"-171.8\" font-family=\"Helvetica,sans-Serif\" font-size=\"14.00\">family_income &lt;= 2.92</text>\n<text text-anchor=\"middle\" x=\"512\" y=\"-156.8\" font-family=\"Helvetica,sans-Serif\" font-size=\"14.00\">entropy = 0.932</text>\n<text text-anchor=\"middle\" x=\"512\" y=\"-141.8\" font-family=\"Helvetica,sans-Serif\" font-size=\"14.00\">samples = 1026</text>\n<text text-anchor=\"middle\" x=\"512\" y=\"-126.8\" font-family=\"Helvetica,sans-Serif\" font-size=\"14.00\">value = [669, 357]</text>\n<text text-anchor=\"middle\" x=\"512\" y=\"-111.8\" font-family=\"Helvetica,sans-Serif\" font-size=\"14.00\">class = heart_no</text>\n</g>\n<!-- 8&#45;&gt;9 -->\n<g id=\"edge9\" class=\"edge\">\n<title>8&#45;&gt;9</title>\n<path fill=\"none\" stroke=\"black\" d=\"M564.24,-222.91C558.16,-214.01 551.66,-204.51 545.39,-195.33\"/>\n<polygon fill=\"black\" stroke=\"black\" points=\"548.24,-193.3 539.71,-187.02 542.46,-197.25 548.24,-193.3\"/>\n</g>\n<!-- 12 -->\n<g id=\"node13\" class=\"node\">\n<title>12</title>\n<path fill=\"#e68641\" stroke=\"black\" d=\"M724,-187C724,-187 620,-187 620,-187 614,-187 608,-181 608,-175 608,-175 608,-116 608,-116 608,-110 614,-104 620,-104 620,-104 724,-104 724,-104 730,-104 736,-110 736,-116 736,-116 736,-175 736,-175 736,-181 730,-187 724,-187\"/>\n<text text-anchor=\"middle\" x=\"672\" y=\"-171.8\" font-family=\"Helvetica,sans-Serif\" font-size=\"14.00\">re_hispanic &lt;= 0.5</text>\n<text text-anchor=\"middle\" x=\"672\" y=\"-156.8\" font-family=\"Helvetica,sans-Serif\" font-size=\"14.00\">entropy = 0.233</text>\n<text text-anchor=\"middle\" x=\"672\" y=\"-141.8\" font-family=\"Helvetica,sans-Serif\" font-size=\"14.00\">samples = 263</text>\n<text text-anchor=\"middle\" x=\"672\" y=\"-126.8\" font-family=\"Helvetica,sans-Serif\" font-size=\"14.00\">value = [253, 10]</text>\n<text text-anchor=\"middle\" x=\"672\" y=\"-111.8\" font-family=\"Helvetica,sans-Serif\" font-size=\"14.00\">class = heart_no</text>\n</g>\n<!-- 8&#45;&gt;12 -->\n<g id=\"edge12\" class=\"edge\">\n<title>8&#45;&gt;12</title>\n<path fill=\"none\" stroke=\"black\" d=\"M619.76,-222.91C625.84,-214.01 632.34,-204.51 638.61,-195.33\"/>\n<polygon fill=\"black\" stroke=\"black\" points=\"641.54,-197.25 644.29,-187.02 635.76,-193.3 641.54,-197.25\"/>\n</g>\n<!-- 10 -->\n<g id=\"node11\" class=\"node\">\n<title>10</title>\n<path fill=\"#f5cfb4\" stroke=\"black\" d=\"M435.5,-68C435.5,-68 312.5,-68 312.5,-68 306.5,-68 300.5,-62 300.5,-56 300.5,-56 300.5,-12 300.5,-12 300.5,-6 306.5,0 312.5,0 312.5,0 435.5,0 435.5,0 441.5,0 447.5,-6 447.5,-12 447.5,-12 447.5,-56 447.5,-56 447.5,-62 441.5,-68 435.5,-68\"/>\n<text text-anchor=\"middle\" x=\"374\" y=\"-52.8\" font-family=\"Helvetica,sans-Serif\" font-size=\"14.00\">entropy = 0.96</text>\n<text text-anchor=\"middle\" x=\"374\" y=\"-37.8\" font-family=\"Helvetica,sans-Serif\" font-size=\"14.00\">samples = 812</text>\n<text text-anchor=\"middle\" x=\"374\" y=\"-22.8\" font-family=\"Helvetica,sans-Serif\" font-size=\"14.00\">value = [501.0, 311.0]</text>\n<text text-anchor=\"middle\" x=\"374\" y=\"-7.8\" font-family=\"Helvetica,sans-Serif\" font-size=\"14.00\">class = heart_no</text>\n</g>\n<!-- 9&#45;&gt;10 -->\n<g id=\"edge10\" class=\"edge\">\n<title>9&#45;&gt;10</title>\n<path fill=\"none\" stroke=\"black\" d=\"M460.61,-103.73C448.66,-94.24 435.95,-84.16 424.05,-74.72\"/>\n<polygon fill=\"black\" stroke=\"black\" points=\"425.98,-71.77 415.97,-68.3 421.62,-77.26 425.98,-71.77\"/>\n</g>\n<!-- 11 -->\n<g id=\"node12\" class=\"node\">\n<title>11</title>\n<path fill=\"#eca46f\" stroke=\"black\" d=\"M570.5,-68C570.5,-68 477.5,-68 477.5,-68 471.5,-68 465.5,-62 465.5,-56 465.5,-56 465.5,-12 465.5,-12 465.5,-6 471.5,0 477.5,0 477.5,0 570.5,0 570.5,0 576.5,0 582.5,-6 582.5,-12 582.5,-12 582.5,-56 582.5,-56 582.5,-62 576.5,-68 570.5,-68\"/>\n<text text-anchor=\"middle\" x=\"524\" y=\"-52.8\" font-family=\"Helvetica,sans-Serif\" font-size=\"14.00\">entropy = 0.751</text>\n<text text-anchor=\"middle\" x=\"524\" y=\"-37.8\" font-family=\"Helvetica,sans-Serif\" font-size=\"14.00\">samples = 214</text>\n<text text-anchor=\"middle\" x=\"524\" y=\"-22.8\" font-family=\"Helvetica,sans-Serif\" font-size=\"14.00\">value = [168, 46]</text>\n<text text-anchor=\"middle\" x=\"524\" y=\"-7.8\" font-family=\"Helvetica,sans-Serif\" font-size=\"14.00\">class = heart_no</text>\n</g>\n<!-- 9&#45;&gt;11 -->\n<g id=\"edge11\" class=\"edge\">\n<title>9&#45;&gt;11</title>\n<path fill=\"none\" stroke=\"black\" d=\"M516.47,-103.73C517.38,-95.43 518.34,-86.67 519.26,-78.28\"/>\n<polygon fill=\"black\" stroke=\"black\" points=\"522.74,-78.62 520.35,-68.3 515.78,-77.86 522.74,-78.62\"/>\n</g>\n<!-- 13 -->\n<g id=\"node14\" class=\"node\">\n<title>13</title>\n<path fill=\"#e58139\" stroke=\"black\" d=\"M705,-68C705,-68 613,-68 613,-68 607,-68 601,-62 601,-56 601,-56 601,-12 601,-12 601,-6 607,0 613,0 613,0 705,0 705,0 711,0 717,-6 717,-12 717,-12 717,-56 717,-56 717,-62 711,-68 705,-68\"/>\n<text text-anchor=\"middle\" x=\"659\" y=\"-52.8\" font-family=\"Helvetica,sans-Serif\" font-size=\"14.00\">entropy = 0.0</text>\n<text text-anchor=\"middle\" x=\"659\" y=\"-37.8\" font-family=\"Helvetica,sans-Serif\" font-size=\"14.00\">samples = 218</text>\n<text text-anchor=\"middle\" x=\"659\" y=\"-22.8\" font-family=\"Helvetica,sans-Serif\" font-size=\"14.00\">value = [218, 0]</text>\n<text text-anchor=\"middle\" x=\"659\" y=\"-7.8\" font-family=\"Helvetica,sans-Serif\" font-size=\"14.00\">class = heart_no</text>\n</g>\n<!-- 12&#45;&gt;13 -->\n<g id=\"edge13\" class=\"edge\">\n<title>12&#45;&gt;13</title>\n<path fill=\"none\" stroke=\"black\" d=\"M667.16,-103.73C666.17,-95.43 665.13,-86.67 664.14,-78.28\"/>\n<polygon fill=\"black\" stroke=\"black\" points=\"667.61,-77.82 662.95,-68.3 660.66,-78.64 667.61,-77.82\"/>\n</g>\n<!-- 14 -->\n<g id=\"node15\" class=\"node\">\n<title>14</title>\n<path fill=\"#eca572\" stroke=\"black\" d=\"M839,-68C839,-68 747,-68 747,-68 741,-68 735,-62 735,-56 735,-56 735,-12 735,-12 735,-6 741,0 747,0 747,0 839,0 839,0 845,0 851,-6 851,-12 851,-12 851,-56 851,-56 851,-62 845,-68 839,-68\"/>\n<text text-anchor=\"middle\" x=\"793\" y=\"-52.8\" font-family=\"Helvetica,sans-Serif\" font-size=\"14.00\">entropy = 0.764</text>\n<text text-anchor=\"middle\" x=\"793\" y=\"-37.8\" font-family=\"Helvetica,sans-Serif\" font-size=\"14.00\">samples = 45</text>\n<text text-anchor=\"middle\" x=\"793\" y=\"-22.8\" font-family=\"Helvetica,sans-Serif\" font-size=\"14.00\">value = [35, 10]</text>\n<text text-anchor=\"middle\" x=\"793\" y=\"-7.8\" font-family=\"Helvetica,sans-Serif\" font-size=\"14.00\">class = heart_no</text>\n</g>\n<!-- 12&#45;&gt;14 -->\n<g id=\"edge14\" class=\"edge\">\n<title>12&#45;&gt;14</title>\n<path fill=\"none\" stroke=\"black\" d=\"M717.06,-103.73C727.34,-94.42 738.25,-84.54 748.51,-75.26\"/>\n<polygon fill=\"black\" stroke=\"black\" points=\"751.14,-77.6 756.2,-68.3 746.44,-72.41 751.14,-77.6\"/>\n</g>\n<!-- 16 -->\n<g id=\"node17\" class=\"node\">\n<title>16</title>\n<path fill=\"#fae6d7\" stroke=\"black\" d=\"M1360.5,-306C1360.5,-306 1229.5,-306 1229.5,-306 1223.5,-306 1217.5,-300 1217.5,-294 1217.5,-294 1217.5,-235 1217.5,-235 1217.5,-229 1223.5,-223 1229.5,-223 1229.5,-223 1360.5,-223 1360.5,-223 1366.5,-223 1372.5,-229 1372.5,-235 1372.5,-235 1372.5,-294 1372.5,-294 1372.5,-300 1366.5,-306 1360.5,-306\"/>\n<text text-anchor=\"middle\" x=\"1295\" y=\"-290.8\" font-family=\"Helvetica,sans-Serif\" font-size=\"14.00\">family_income &lt;= 4.17</text>\n<text text-anchor=\"middle\" x=\"1295\" y=\"-275.8\" font-family=\"Helvetica,sans-Serif\" font-size=\"14.00\">entropy = 0.991</text>\n<text text-anchor=\"middle\" x=\"1295\" y=\"-260.8\" font-family=\"Helvetica,sans-Serif\" font-size=\"14.00\">samples = 448</text>\n<text text-anchor=\"middle\" x=\"1295\" y=\"-245.8\" font-family=\"Helvetica,sans-Serif\" font-size=\"14.00\">value = [249, 199]</text>\n<text text-anchor=\"middle\" x=\"1295\" y=\"-230.8\" font-family=\"Helvetica,sans-Serif\" font-size=\"14.00\">class = heart_no</text>\n</g>\n<!-- 15&#45;&gt;16 -->\n<g id=\"edge16\" class=\"edge\">\n<title>15&#45;&gt;16</title>\n<path fill=\"none\" stroke=\"black\" d=\"M1406.67,-341.91C1392.48,-332.2 1377.22,-321.76 1362.69,-311.81\"/>\n<polygon fill=\"black\" stroke=\"black\" points=\"1364.45,-308.78 1354.22,-306.02 1360.5,-314.56 1364.45,-308.78\"/>\n</g>\n<!-- 23 -->\n<g id=\"node24\" class=\"node\">\n<title>23</title>\n<path fill=\"#89c5ef\" stroke=\"black\" d=\"M1631.5,-306C1631.5,-306 1508.5,-306 1508.5,-306 1502.5,-306 1496.5,-300 1496.5,-294 1496.5,-294 1496.5,-235 1496.5,-235 1496.5,-229 1502.5,-223 1508.5,-223 1508.5,-223 1631.5,-223 1631.5,-223 1637.5,-223 1643.5,-229 1643.5,-235 1643.5,-235 1643.5,-294 1643.5,-294 1643.5,-300 1637.5,-306 1631.5,-306\"/>\n<text text-anchor=\"middle\" x=\"1570\" y=\"-290.8\" font-family=\"Helvetica,sans-Serif\" font-size=\"14.00\">age &lt;= 58.5</text>\n<text text-anchor=\"middle\" x=\"1570\" y=\"-275.8\" font-family=\"Helvetica,sans-Serif\" font-size=\"14.00\">entropy = 0.866</text>\n<text text-anchor=\"middle\" x=\"1570\" y=\"-260.8\" font-family=\"Helvetica,sans-Serif\" font-size=\"14.00\">samples = 386</text>\n<text text-anchor=\"middle\" x=\"1570\" y=\"-245.8\" font-family=\"Helvetica,sans-Serif\" font-size=\"14.00\">value = [111.0, 275.0]</text>\n<text text-anchor=\"middle\" x=\"1570\" y=\"-230.8\" font-family=\"Helvetica,sans-Serif\" font-size=\"14.00\">class = heart_yes</text>\n</g>\n<!-- 15&#45;&gt;23 -->\n<g id=\"edge23\" class=\"edge\">\n<title>15&#45;&gt;23</title>\n<path fill=\"none\" stroke=\"black\" d=\"M1502.08,-341.91C1510.15,-332.83 1518.78,-323.12 1527.09,-313.77\"/>\n<polygon fill=\"black\" stroke=\"black\" points=\"1529.95,-315.82 1533.98,-306.02 1524.72,-311.17 1529.95,-315.82\"/>\n</g>\n<!-- 17 -->\n<g id=\"node18\" class=\"node\">\n<title>17</title>\n<path fill=\"#f9fcfe\" stroke=\"black\" d=\"M1127.5,-187C1127.5,-187 1026.5,-187 1026.5,-187 1020.5,-187 1014.5,-181 1014.5,-175 1014.5,-175 1014.5,-116 1014.5,-116 1014.5,-110 1020.5,-104 1026.5,-104 1026.5,-104 1127.5,-104 1127.5,-104 1133.5,-104 1139.5,-110 1139.5,-116 1139.5,-116 1139.5,-175 1139.5,-175 1139.5,-181 1133.5,-187 1127.5,-187\"/>\n<text text-anchor=\"middle\" x=\"1077\" y=\"-171.8\" font-family=\"Helvetica,sans-Serif\" font-size=\"14.00\">age &lt;= 42.5</text>\n<text text-anchor=\"middle\" x=\"1077\" y=\"-156.8\" font-family=\"Helvetica,sans-Serif\" font-size=\"14.00\">entropy = 1.0</text>\n<text text-anchor=\"middle\" x=\"1077\" y=\"-141.8\" font-family=\"Helvetica,sans-Serif\" font-size=\"14.00\">samples = 380</text>\n<text text-anchor=\"middle\" x=\"1077\" y=\"-126.8\" font-family=\"Helvetica,sans-Serif\" font-size=\"14.00\">value = [187, 193]</text>\n<text text-anchor=\"middle\" x=\"1077\" y=\"-111.8\" font-family=\"Helvetica,sans-Serif\" font-size=\"14.00\">class = heart_yes</text>\n</g>\n<!-- 16&#45;&gt;17 -->\n<g id=\"edge17\" class=\"edge\">\n<title>16&#45;&gt;17</title>\n<path fill=\"none\" stroke=\"black\" d=\"M1219.37,-222.91C1196.35,-210.55 1171.14,-197.02 1148.41,-184.83\"/>\n<polygon fill=\"black\" stroke=\"black\" points=\"1149.97,-181.69 1139.5,-180.04 1146.66,-187.86 1149.97,-181.69\"/>\n</g>\n<!-- 20 -->\n<g id=\"node21\" class=\"node\">\n<title>20</title>\n<path fill=\"#e88d4c\" stroke=\"black\" d=\"M1341,-187C1341,-187 1249,-187 1249,-187 1243,-187 1237,-181 1237,-175 1237,-175 1237,-116 1237,-116 1237,-110 1243,-104 1249,-104 1249,-104 1341,-104 1341,-104 1347,-104 1353,-110 1353,-116 1353,-116 1353,-175 1353,-175 1353,-181 1347,-187 1341,-187\"/>\n<text text-anchor=\"middle\" x=\"1295\" y=\"-171.8\" font-family=\"Helvetica,sans-Serif\" font-size=\"14.00\">BMI &lt;= 41.25</text>\n<text text-anchor=\"middle\" x=\"1295\" y=\"-156.8\" font-family=\"Helvetica,sans-Serif\" font-size=\"14.00\">entropy = 0.431</text>\n<text text-anchor=\"middle\" x=\"1295\" y=\"-141.8\" font-family=\"Helvetica,sans-Serif\" font-size=\"14.00\">samples = 68</text>\n<text text-anchor=\"middle\" x=\"1295\" y=\"-126.8\" font-family=\"Helvetica,sans-Serif\" font-size=\"14.00\">value = [62, 6]</text>\n<text text-anchor=\"middle\" x=\"1295\" y=\"-111.8\" font-family=\"Helvetica,sans-Serif\" font-size=\"14.00\">class = heart_no</text>\n</g>\n<!-- 16&#45;&gt;20 -->\n<g id=\"edge20\" class=\"edge\">\n<title>16&#45;&gt;20</title>\n<path fill=\"none\" stroke=\"black\" d=\"M1295,-222.91C1295,-214.65 1295,-205.86 1295,-197.3\"/>\n<polygon fill=\"black\" stroke=\"black\" points=\"1298.5,-197.02 1295,-187.02 1291.5,-197.02 1298.5,-197.02\"/>\n</g>\n<!-- 18 -->\n<g id=\"node19\" class=\"node\">\n<title>18</title>\n<path fill=\"#e78c49\" stroke=\"black\" d=\"M973,-68C973,-68 881,-68 881,-68 875,-68 869,-62 869,-56 869,-56 869,-12 869,-12 869,-6 875,0 881,0 881,0 973,0 973,0 979,0 985,-6 985,-12 985,-12 985,-56 985,-56 985,-62 979,-68 973,-68\"/>\n<text text-anchor=\"middle\" x=\"927\" y=\"-52.8\" font-family=\"Helvetica,sans-Serif\" font-size=\"14.00\">entropy = 0.391</text>\n<text text-anchor=\"middle\" x=\"927\" y=\"-37.8\" font-family=\"Helvetica,sans-Serif\" font-size=\"14.00\">samples = 39</text>\n<text text-anchor=\"middle\" x=\"927\" y=\"-22.8\" font-family=\"Helvetica,sans-Serif\" font-size=\"14.00\">value = [36, 3]</text>\n<text text-anchor=\"middle\" x=\"927\" y=\"-7.8\" font-family=\"Helvetica,sans-Serif\" font-size=\"14.00\">class = heart_no</text>\n</g>\n<!-- 17&#45;&gt;18 -->\n<g id=\"edge18\" class=\"edge\">\n<title>17&#45;&gt;18</title>\n<path fill=\"none\" stroke=\"black\" d=\"M1021.15,-103.73C1008.03,-94.15 994.07,-83.96 981.03,-74.44\"/>\n<polygon fill=\"black\" stroke=\"black\" points=\"982.76,-71.37 972.62,-68.3 978.63,-77.02 982.76,-71.37\"/>\n</g>\n<!-- 19 -->\n<g id=\"node20\" class=\"node\">\n<title>19</title>\n<path fill=\"#d6ebfa\" stroke=\"black\" d=\"M1138.5,-68C1138.5,-68 1015.5,-68 1015.5,-68 1009.5,-68 1003.5,-62 1003.5,-56 1003.5,-56 1003.5,-12 1003.5,-12 1003.5,-6 1009.5,0 1015.5,0 1015.5,0 1138.5,0 1138.5,0 1144.5,0 1150.5,-6 1150.5,-12 1150.5,-12 1150.5,-56 1150.5,-56 1150.5,-62 1144.5,-68 1138.5,-68\"/>\n<text text-anchor=\"middle\" x=\"1077\" y=\"-52.8\" font-family=\"Helvetica,sans-Serif\" font-size=\"14.00\">entropy = 0.991</text>\n<text text-anchor=\"middle\" x=\"1077\" y=\"-37.8\" font-family=\"Helvetica,sans-Serif\" font-size=\"14.00\">samples = 341</text>\n<text text-anchor=\"middle\" x=\"1077\" y=\"-22.8\" font-family=\"Helvetica,sans-Serif\" font-size=\"14.00\">value = [151.0, 190.0]</text>\n<text text-anchor=\"middle\" x=\"1077\" y=\"-7.8\" font-family=\"Helvetica,sans-Serif\" font-size=\"14.00\">class = heart_yes</text>\n</g>\n<!-- 17&#45;&gt;19 -->\n<g id=\"edge19\" class=\"edge\">\n<title>17&#45;&gt;19</title>\n<path fill=\"none\" stroke=\"black\" d=\"M1077,-103.73C1077,-95.52 1077,-86.86 1077,-78.56\"/>\n<polygon fill=\"black\" stroke=\"black\" points=\"1080.5,-78.3 1077,-68.3 1073.5,-78.3 1080.5,-78.3\"/>\n</g>\n<!-- 21 -->\n<g id=\"node22\" class=\"node\">\n<title>21</title>\n<path fill=\"#e6853f\" stroke=\"black\" d=\"M1273,-68C1273,-68 1181,-68 1181,-68 1175,-68 1169,-62 1169,-56 1169,-56 1169,-12 1169,-12 1169,-6 1175,0 1181,0 1181,0 1273,0 1273,0 1279,0 1285,-6 1285,-12 1285,-12 1285,-56 1285,-56 1285,-62 1279,-68 1273,-68\"/>\n<text text-anchor=\"middle\" x=\"1227\" y=\"-52.8\" font-family=\"Helvetica,sans-Serif\" font-size=\"14.00\">entropy = 0.201</text>\n<text text-anchor=\"middle\" x=\"1227\" y=\"-37.8\" font-family=\"Helvetica,sans-Serif\" font-size=\"14.00\">samples = 64</text>\n<text text-anchor=\"middle\" x=\"1227\" y=\"-22.8\" font-family=\"Helvetica,sans-Serif\" font-size=\"14.00\">value = [62, 2]</text>\n<text text-anchor=\"middle\" x=\"1227\" y=\"-7.8\" font-family=\"Helvetica,sans-Serif\" font-size=\"14.00\">class = heart_no</text>\n</g>\n<!-- 20&#45;&gt;21 -->\n<g id=\"edge21\" class=\"edge\">\n<title>20&#45;&gt;21</title>\n<path fill=\"none\" stroke=\"black\" d=\"M1269.68,-103.73C1264.24,-94.97 1258.49,-85.7 1253.02,-76.91\"/>\n<polygon fill=\"black\" stroke=\"black\" points=\"1255.93,-74.95 1247.68,-68.3 1249.98,-78.64 1255.93,-74.95\"/>\n</g>\n<!-- 22 -->\n<g id=\"node23\" class=\"node\">\n<title>22</title>\n<path fill=\"#399de5\" stroke=\"black\" d=\"M1413,-68C1413,-68 1315,-68 1315,-68 1309,-68 1303,-62 1303,-56 1303,-56 1303,-12 1303,-12 1303,-6 1309,0 1315,0 1315,0 1413,0 1413,0 1419,0 1425,-6 1425,-12 1425,-12 1425,-56 1425,-56 1425,-62 1419,-68 1413,-68\"/>\n<text text-anchor=\"middle\" x=\"1364\" y=\"-52.8\" font-family=\"Helvetica,sans-Serif\" font-size=\"14.00\">entropy = 0.0</text>\n<text text-anchor=\"middle\" x=\"1364\" y=\"-37.8\" font-family=\"Helvetica,sans-Serif\" font-size=\"14.00\">samples = 4</text>\n<text text-anchor=\"middle\" x=\"1364\" y=\"-22.8\" font-family=\"Helvetica,sans-Serif\" font-size=\"14.00\">value = [0, 4]</text>\n<text text-anchor=\"middle\" x=\"1364\" y=\"-7.8\" font-family=\"Helvetica,sans-Serif\" font-size=\"14.00\">class = heart_yes</text>\n</g>\n<!-- 20&#45;&gt;22 -->\n<g id=\"edge22\" class=\"edge\">\n<title>20&#45;&gt;22</title>\n<path fill=\"none\" stroke=\"black\" d=\"M1320.69,-103.73C1326.21,-94.97 1332.05,-85.7 1337.59,-76.91\"/>\n<polygon fill=\"black\" stroke=\"black\" points=\"1340.65,-78.63 1343.02,-68.3 1334.72,-74.89 1340.65,-78.63\"/>\n</g>\n<!-- 24 -->\n<g id=\"node25\" class=\"node\">\n<title>24</title>\n<path fill=\"#4ea7e8\" stroke=\"black\" d=\"M1619,-187C1619,-187 1521,-187 1521,-187 1515,-187 1509,-181 1509,-175 1509,-175 1509,-116 1509,-116 1509,-110 1515,-104 1521,-104 1521,-104 1619,-104 1619,-104 1625,-104 1631,-110 1631,-116 1631,-116 1631,-175 1631,-175 1631,-181 1625,-187 1619,-187\"/>\n<text text-anchor=\"middle\" x=\"1570\" y=\"-171.8\" font-family=\"Helvetica,sans-Serif\" font-size=\"14.00\">BMI &lt;= 16.1</text>\n<text text-anchor=\"middle\" x=\"1570\" y=\"-156.8\" font-family=\"Helvetica,sans-Serif\" font-size=\"14.00\">entropy = 0.455</text>\n<text text-anchor=\"middle\" x=\"1570\" y=\"-141.8\" font-family=\"Helvetica,sans-Serif\" font-size=\"14.00\">samples = 94</text>\n<text text-anchor=\"middle\" x=\"1570\" y=\"-126.8\" font-family=\"Helvetica,sans-Serif\" font-size=\"14.00\">value = [9, 85]</text>\n<text text-anchor=\"middle\" x=\"1570\" y=\"-111.8\" font-family=\"Helvetica,sans-Serif\" font-size=\"14.00\">class = heart_yes</text>\n</g>\n<!-- 23&#45;&gt;24 -->\n<g id=\"edge24\" class=\"edge\">\n<title>23&#45;&gt;24</title>\n<path fill=\"none\" stroke=\"black\" d=\"M1570,-222.91C1570,-214.65 1570,-205.86 1570,-197.3\"/>\n<polygon fill=\"black\" stroke=\"black\" points=\"1573.5,-197.02 1570,-187.02 1566.5,-197.02 1573.5,-197.02\"/>\n</g>\n<!-- 27 -->\n<g id=\"node28\" class=\"node\">\n<title>27</title>\n<path fill=\"#a3d2f3\" stroke=\"black\" d=\"M1841,-187C1841,-187 1727,-187 1727,-187 1721,-187 1715,-181 1715,-175 1715,-175 1715,-116 1715,-116 1715,-110 1721,-104 1727,-104 1727,-104 1841,-104 1841,-104 1847,-104 1853,-110 1853,-116 1853,-116 1853,-175 1853,-175 1853,-181 1847,-187 1841,-187\"/>\n<text text-anchor=\"middle\" x=\"1784\" y=\"-171.8\" font-family=\"Helvetica,sans-Serif\" font-size=\"14.00\">diastolic_bp &lt;= 81.0</text>\n<text text-anchor=\"middle\" x=\"1784\" y=\"-156.8\" font-family=\"Helvetica,sans-Serif\" font-size=\"14.00\">entropy = 0.933</text>\n<text text-anchor=\"middle\" x=\"1784\" y=\"-141.8\" font-family=\"Helvetica,sans-Serif\" font-size=\"14.00\">samples = 292</text>\n<text text-anchor=\"middle\" x=\"1784\" y=\"-126.8\" font-family=\"Helvetica,sans-Serif\" font-size=\"14.00\">value = [102, 190]</text>\n<text text-anchor=\"middle\" x=\"1784\" y=\"-111.8\" font-family=\"Helvetica,sans-Serif\" font-size=\"14.00\">class = heart_yes</text>\n</g>\n<!-- 23&#45;&gt;27 -->\n<g id=\"edge27\" class=\"edge\">\n<title>23&#45;&gt;27</title>\n<path fill=\"none\" stroke=\"black\" d=\"M1643.65,-223.24C1663.76,-212.24 1685.63,-200.28 1705.98,-189.16\"/>\n<polygon fill=\"black\" stroke=\"black\" points=\"1707.81,-192.15 1714.9,-184.28 1704.45,-186 1707.81,-192.15\"/>\n</g>\n<!-- 25 -->\n<g id=\"node26\" class=\"node\">\n<title>25</title>\n<path fill=\"#bddef6\" stroke=\"black\" d=\"M1553,-68C1553,-68 1455,-68 1455,-68 1449,-68 1443,-62 1443,-56 1443,-56 1443,-12 1443,-12 1443,-6 1449,0 1455,0 1455,0 1553,0 1553,0 1559,0 1565,-6 1565,-12 1565,-12 1565,-56 1565,-56 1565,-62 1559,-68 1553,-68\"/>\n<text text-anchor=\"middle\" x=\"1504\" y=\"-52.8\" font-family=\"Helvetica,sans-Serif\" font-size=\"14.00\">entropy = 0.971</text>\n<text text-anchor=\"middle\" x=\"1504\" y=\"-37.8\" font-family=\"Helvetica,sans-Serif\" font-size=\"14.00\">samples = 10</text>\n<text text-anchor=\"middle\" x=\"1504\" y=\"-22.8\" font-family=\"Helvetica,sans-Serif\" font-size=\"14.00\">value = [4, 6]</text>\n<text text-anchor=\"middle\" x=\"1504\" y=\"-7.8\" font-family=\"Helvetica,sans-Serif\" font-size=\"14.00\">class = heart_yes</text>\n</g>\n<!-- 24&#45;&gt;25 -->\n<g id=\"edge25\" class=\"edge\">\n<title>24&#45;&gt;25</title>\n<path fill=\"none\" stroke=\"black\" d=\"M1545.42,-103.73C1540.15,-94.97 1534.56,-85.7 1529.26,-76.91\"/>\n<polygon fill=\"black\" stroke=\"black\" points=\"1532.23,-75.06 1524.07,-68.3 1526.24,-78.67 1532.23,-75.06\"/>\n</g>\n<!-- 26 -->\n<g id=\"node27\" class=\"node\">\n<title>26</title>\n<path fill=\"#46a3e7\" stroke=\"black\" d=\"M1693,-68C1693,-68 1595,-68 1595,-68 1589,-68 1583,-62 1583,-56 1583,-56 1583,-12 1583,-12 1583,-6 1589,0 1595,0 1595,0 1693,0 1693,0 1699,0 1705,-6 1705,-12 1705,-12 1705,-56 1705,-56 1705,-62 1699,-68 1693,-68\"/>\n<text text-anchor=\"middle\" x=\"1644\" y=\"-52.8\" font-family=\"Helvetica,sans-Serif\" font-size=\"14.00\">entropy = 0.326</text>\n<text text-anchor=\"middle\" x=\"1644\" y=\"-37.8\" font-family=\"Helvetica,sans-Serif\" font-size=\"14.00\">samples = 84</text>\n<text text-anchor=\"middle\" x=\"1644\" y=\"-22.8\" font-family=\"Helvetica,sans-Serif\" font-size=\"14.00\">value = [5, 79]</text>\n<text text-anchor=\"middle\" x=\"1644\" y=\"-7.8\" font-family=\"Helvetica,sans-Serif\" font-size=\"14.00\">class = heart_yes</text>\n</g>\n<!-- 24&#45;&gt;26 -->\n<g id=\"edge26\" class=\"edge\">\n<title>24&#45;&gt;26</title>\n<path fill=\"none\" stroke=\"black\" d=\"M1597.55,-103.73C1603.53,-94.88 1609.87,-85.51 1615.87,-76.63\"/>\n<polygon fill=\"black\" stroke=\"black\" points=\"1618.8,-78.54 1621.5,-68.3 1613,-74.63 1618.8,-78.54\"/>\n</g>\n<!-- 28 -->\n<g id=\"node29\" class=\"node\">\n<title>28</title>\n<path fill=\"#97cbf1\" stroke=\"black\" d=\"M1833,-68C1833,-68 1735,-68 1735,-68 1729,-68 1723,-62 1723,-56 1723,-56 1723,-12 1723,-12 1723,-6 1729,0 1735,0 1735,0 1833,0 1833,0 1839,0 1845,-6 1845,-12 1845,-12 1845,-56 1845,-56 1845,-62 1839,-68 1833,-68\"/>\n<text text-anchor=\"middle\" x=\"1784\" y=\"-52.8\" font-family=\"Helvetica,sans-Serif\" font-size=\"14.00\">entropy = 0.906</text>\n<text text-anchor=\"middle\" x=\"1784\" y=\"-37.8\" font-family=\"Helvetica,sans-Serif\" font-size=\"14.00\">samples = 280</text>\n<text text-anchor=\"middle\" x=\"1784\" y=\"-22.8\" font-family=\"Helvetica,sans-Serif\" font-size=\"14.00\">value = [90, 190]</text>\n<text text-anchor=\"middle\" x=\"1784\" y=\"-7.8\" font-family=\"Helvetica,sans-Serif\" font-size=\"14.00\">class = heart_yes</text>\n</g>\n<!-- 27&#45;&gt;28 -->\n<g id=\"edge28\" class=\"edge\">\n<title>27&#45;&gt;28</title>\n<path fill=\"none\" stroke=\"black\" d=\"M1784,-103.73C1784,-95.52 1784,-86.86 1784,-78.56\"/>\n<polygon fill=\"black\" stroke=\"black\" points=\"1787.5,-78.3 1784,-68.3 1780.5,-78.3 1787.5,-78.3\"/>\n</g>\n<!-- 29 -->\n<g id=\"node30\" class=\"node\">\n<title>29</title>\n<path fill=\"#e58139\" stroke=\"black\" d=\"M1967,-68C1967,-68 1875,-68 1875,-68 1869,-68 1863,-62 1863,-56 1863,-56 1863,-12 1863,-12 1863,-6 1869,0 1875,0 1875,0 1967,0 1967,0 1973,0 1979,-6 1979,-12 1979,-12 1979,-56 1979,-56 1979,-62 1973,-68 1967,-68\"/>\n<text text-anchor=\"middle\" x=\"1921\" y=\"-52.8\" font-family=\"Helvetica,sans-Serif\" font-size=\"14.00\">entropy = 0.0</text>\n<text text-anchor=\"middle\" x=\"1921\" y=\"-37.8\" font-family=\"Helvetica,sans-Serif\" font-size=\"14.00\">samples = 12</text>\n<text text-anchor=\"middle\" x=\"1921\" y=\"-22.8\" font-family=\"Helvetica,sans-Serif\" font-size=\"14.00\">value = [12, 0]</text>\n<text text-anchor=\"middle\" x=\"1921\" y=\"-7.8\" font-family=\"Helvetica,sans-Serif\" font-size=\"14.00\">class = heart_no</text>\n</g>\n<!-- 27&#45;&gt;29 -->\n<g id=\"edge29\" class=\"edge\">\n<title>27&#45;&gt;29</title>\n<path fill=\"none\" stroke=\"black\" d=\"M1835.01,-103.73C1846.88,-94.24 1859.5,-84.16 1871.31,-74.72\"/>\n<polygon fill=\"black\" stroke=\"black\" points=\"1873.71,-77.28 1879.34,-68.3 1869.34,-71.81 1873.71,-77.28\"/>\n</g>\n<!-- 31 -->\n<g id=\"node32\" class=\"node\">\n<title>31</title>\n<path fill=\"#c8e4f8\" stroke=\"black\" d=\"M2601.5,-425C2601.5,-425 2478.5,-425 2478.5,-425 2472.5,-425 2466.5,-419 2466.5,-413 2466.5,-413 2466.5,-354 2466.5,-354 2466.5,-348 2472.5,-342 2478.5,-342 2478.5,-342 2601.5,-342 2601.5,-342 2607.5,-342 2613.5,-348 2613.5,-354 2613.5,-354 2613.5,-413 2613.5,-413 2613.5,-419 2607.5,-425 2601.5,-425\"/>\n<text text-anchor=\"middle\" x=\"2540\" y=\"-409.8\" font-family=\"Helvetica,sans-Serif\" font-size=\"14.00\">age &lt;= 77.5</text>\n<text text-anchor=\"middle\" x=\"2540\" y=\"-394.8\" font-family=\"Helvetica,sans-Serif\" font-size=\"14.00\">entropy = 0.981</text>\n<text text-anchor=\"middle\" x=\"2540\" y=\"-379.8\" font-family=\"Helvetica,sans-Serif\" font-size=\"14.00\">samples = 1465</text>\n<text text-anchor=\"middle\" x=\"2540\" y=\"-364.8\" font-family=\"Helvetica,sans-Serif\" font-size=\"14.00\">value = [614.0, 851.0]</text>\n<text text-anchor=\"middle\" x=\"2540\" y=\"-349.8\" font-family=\"Helvetica,sans-Serif\" font-size=\"14.00\">class = heart_yes</text>\n</g>\n<!-- 30&#45;&gt;31 -->\n<g id=\"edge31\" class=\"edge\">\n<title>30&#45;&gt;31</title>\n<path fill=\"none\" stroke=\"black\" d=\"M2540,-460.91C2540,-452.65 2540,-443.86 2540,-435.3\"/>\n<polygon fill=\"black\" stroke=\"black\" points=\"2543.5,-435.02 2540,-425.02 2536.5,-435.02 2543.5,-435.02\"/>\n</g>\n<!-- 46 -->\n<g id=\"node47\" class=\"node\">\n<title>46</title>\n<path fill=\"#59ade9\" stroke=\"black\" d=\"M3363,-425C3363,-425 3207,-425 3207,-425 3201,-425 3195,-419 3195,-413 3195,-413 3195,-354 3195,-354 3195,-348 3201,-342 3207,-342 3207,-342 3363,-342 3363,-342 3369,-342 3375,-348 3375,-354 3375,-354 3375,-413 3375,-413 3375,-419 3369,-425 3363,-425\"/>\n<text text-anchor=\"middle\" x=\"3285\" y=\"-409.8\" font-family=\"Helvetica,sans-Serif\" font-size=\"14.00\">blood_cholesterol &lt;= 3.605</text>\n<text text-anchor=\"middle\" x=\"3285\" y=\"-394.8\" font-family=\"Helvetica,sans-Serif\" font-size=\"14.00\">entropy = 0.582</text>\n<text text-anchor=\"middle\" x=\"3285\" y=\"-379.8\" font-family=\"Helvetica,sans-Serif\" font-size=\"14.00\">samples = 883</text>\n<text text-anchor=\"middle\" x=\"3285\" y=\"-364.8\" font-family=\"Helvetica,sans-Serif\" font-size=\"14.00\">value = [123.0, 760.0]</text>\n<text text-anchor=\"middle\" x=\"3285\" y=\"-349.8\" font-family=\"Helvetica,sans-Serif\" font-size=\"14.00\">class = heart_yes</text>\n</g>\n<!-- 30&#45;&gt;46 -->\n<g id=\"edge46\" class=\"edge\">\n<title>30&#45;&gt;46</title>\n<path fill=\"none\" stroke=\"black\" d=\"M2606.11,-491.12C2737.05,-470.55 3030.03,-424.54 3184.8,-400.24\"/>\n<polygon fill=\"black\" stroke=\"black\" points=\"3185.45,-403.68 3194.79,-398.67 3184.36,-396.76 3185.45,-403.68\"/>\n</g>\n<!-- 32 -->\n<g id=\"node33\" class=\"node\">\n<title>32</title>\n<path fill=\"#fefcfb\" stroke=\"black\" d=\"M2467.5,-306C2467.5,-306 2336.5,-306 2336.5,-306 2330.5,-306 2324.5,-300 2324.5,-294 2324.5,-294 2324.5,-235 2324.5,-235 2324.5,-229 2330.5,-223 2336.5,-223 2336.5,-223 2467.5,-223 2467.5,-223 2473.5,-223 2479.5,-229 2479.5,-235 2479.5,-235 2479.5,-294 2479.5,-294 2479.5,-300 2473.5,-306 2467.5,-306\"/>\n<text text-anchor=\"middle\" x=\"2402\" y=\"-290.8\" font-family=\"Helvetica,sans-Serif\" font-size=\"14.00\">family_income &lt;= 3.84</text>\n<text text-anchor=\"middle\" x=\"2402\" y=\"-275.8\" font-family=\"Helvetica,sans-Serif\" font-size=\"14.00\">entropy = 1.0</text>\n<text text-anchor=\"middle\" x=\"2402\" y=\"-260.8\" font-family=\"Helvetica,sans-Serif\" font-size=\"14.00\">samples = 936</text>\n<text text-anchor=\"middle\" x=\"2402\" y=\"-245.8\" font-family=\"Helvetica,sans-Serif\" font-size=\"14.00\">value = [473, 463]</text>\n<text text-anchor=\"middle\" x=\"2402\" y=\"-230.8\" font-family=\"Helvetica,sans-Serif\" font-size=\"14.00\">class = heart_no</text>\n</g>\n<!-- 31&#45;&gt;32 -->\n<g id=\"edge32\" class=\"edge\">\n<title>31&#45;&gt;32</title>\n<path fill=\"none\" stroke=\"black\" d=\"M2492.12,-341.91C2480.99,-332.47 2469.05,-322.34 2457.61,-312.65\"/>\n<polygon fill=\"black\" stroke=\"black\" points=\"2459.68,-309.82 2449.79,-306.02 2455.16,-315.16 2459.68,-309.82\"/>\n</g>\n<!-- 39 -->\n<g id=\"node40\" class=\"node\">\n<title>39</title>\n<path fill=\"#81c1ee\" stroke=\"black\" d=\"M2724,-306C2724,-306 2598,-306 2598,-306 2592,-306 2586,-300 2586,-294 2586,-294 2586,-235 2586,-235 2586,-229 2592,-223 2598,-223 2598,-223 2724,-223 2724,-223 2730,-223 2736,-229 2736,-235 2736,-235 2736,-294 2736,-294 2736,-300 2730,-306 2724,-306\"/>\n<text text-anchor=\"middle\" x=\"2661\" y=\"-290.8\" font-family=\"Helvetica,sans-Serif\" font-size=\"14.00\">gender_female &lt;= 0.5</text>\n<text text-anchor=\"middle\" x=\"2661\" y=\"-275.8\" font-family=\"Helvetica,sans-Serif\" font-size=\"14.00\">entropy = 0.836</text>\n<text text-anchor=\"middle\" x=\"2661\" y=\"-260.8\" font-family=\"Helvetica,sans-Serif\" font-size=\"14.00\">samples = 529</text>\n<text text-anchor=\"middle\" x=\"2661\" y=\"-245.8\" font-family=\"Helvetica,sans-Serif\" font-size=\"14.00\">value = [141, 388]</text>\n<text text-anchor=\"middle\" x=\"2661\" y=\"-230.8\" font-family=\"Helvetica,sans-Serif\" font-size=\"14.00\">class = heart_yes</text>\n</g>\n<!-- 31&#45;&gt;39 -->\n<g id=\"edge39\" class=\"edge\">\n<title>31&#45;&gt;39</title>\n<path fill=\"none\" stroke=\"black\" d=\"M2581.98,-341.91C2591.55,-332.65 2601.81,-322.73 2611.66,-313.21\"/>\n<polygon fill=\"black\" stroke=\"black\" points=\"2614.34,-315.49 2619.09,-306.02 2609.47,-310.46 2614.34,-315.49\"/>\n</g>\n<!-- 33 -->\n<g id=\"node34\" class=\"node\">\n<title>33</title>\n<path fill=\"#dbedfa\" stroke=\"black\" d=\"M2261.5,-187C2261.5,-187 2138.5,-187 2138.5,-187 2132.5,-187 2126.5,-181 2126.5,-175 2126.5,-175 2126.5,-116 2126.5,-116 2126.5,-110 2132.5,-104 2138.5,-104 2138.5,-104 2261.5,-104 2261.5,-104 2267.5,-104 2273.5,-110 2273.5,-116 2273.5,-116 2273.5,-175 2273.5,-175 2273.5,-181 2267.5,-187 2261.5,-187\"/>\n<text text-anchor=\"middle\" x=\"2200\" y=\"-171.8\" font-family=\"Helvetica,sans-Serif\" font-size=\"14.00\">BMI &lt;= 16.05</text>\n<text text-anchor=\"middle\" x=\"2200\" y=\"-156.8\" font-family=\"Helvetica,sans-Serif\" font-size=\"14.00\">entropy = 0.993</text>\n<text text-anchor=\"middle\" x=\"2200\" y=\"-141.8\" font-family=\"Helvetica,sans-Serif\" font-size=\"14.00\">samples = 737</text>\n<text text-anchor=\"middle\" x=\"2200\" y=\"-126.8\" font-family=\"Helvetica,sans-Serif\" font-size=\"14.00\">value = [332.0, 405.0]</text>\n<text text-anchor=\"middle\" x=\"2200\" y=\"-111.8\" font-family=\"Helvetica,sans-Serif\" font-size=\"14.00\">class = heart_yes</text>\n</g>\n<!-- 32&#45;&gt;33 -->\n<g id=\"edge33\" class=\"edge\">\n<title>32&#45;&gt;33</title>\n<path fill=\"none\" stroke=\"black\" d=\"M2331.92,-222.91C2314.84,-213.02 2296.46,-202.37 2278.99,-192.25\"/>\n<polygon fill=\"black\" stroke=\"black\" points=\"2280.37,-189 2269.96,-187.02 2276.86,-195.06 2280.37,-189\"/>\n</g>\n<!-- 36 -->\n<g id=\"node37\" class=\"node\">\n<title>36</title>\n<path fill=\"#f0b58a\" stroke=\"black\" d=\"M2448.5,-187C2448.5,-187 2355.5,-187 2355.5,-187 2349.5,-187 2343.5,-181 2343.5,-175 2343.5,-175 2343.5,-116 2343.5,-116 2343.5,-110 2349.5,-104 2355.5,-104 2355.5,-104 2448.5,-104 2448.5,-104 2454.5,-104 2460.5,-110 2460.5,-116 2460.5,-116 2460.5,-175 2460.5,-175 2460.5,-181 2454.5,-187 2448.5,-187\"/>\n<text text-anchor=\"middle\" x=\"2402\" y=\"-171.8\" font-family=\"Helvetica,sans-Serif\" font-size=\"14.00\">BMI &lt;= 23.25</text>\n<text text-anchor=\"middle\" x=\"2402\" y=\"-156.8\" font-family=\"Helvetica,sans-Serif\" font-size=\"14.00\">entropy = 0.871</text>\n<text text-anchor=\"middle\" x=\"2402\" y=\"-141.8\" font-family=\"Helvetica,sans-Serif\" font-size=\"14.00\">samples = 199</text>\n<text text-anchor=\"middle\" x=\"2402\" y=\"-126.8\" font-family=\"Helvetica,sans-Serif\" font-size=\"14.00\">value = [141, 58]</text>\n<text text-anchor=\"middle\" x=\"2402\" y=\"-111.8\" font-family=\"Helvetica,sans-Serif\" font-size=\"14.00\">class = heart_no</text>\n</g>\n<!-- 32&#45;&gt;36 -->\n<g id=\"edge36\" class=\"edge\">\n<title>32&#45;&gt;36</title>\n<path fill=\"none\" stroke=\"black\" d=\"M2402,-222.91C2402,-214.65 2402,-205.86 2402,-197.3\"/>\n<polygon fill=\"black\" stroke=\"black\" points=\"2405.5,-197.02 2402,-187.02 2398.5,-197.02 2405.5,-197.02\"/>\n</g>\n<!-- 34 -->\n<g id=\"node35\" class=\"node\">\n<title>34</title>\n<path fill=\"#67b4eb\" stroke=\"black\" d=\"M2107,-68C2107,-68 2009,-68 2009,-68 2003,-68 1997,-62 1997,-56 1997,-56 1997,-12 1997,-12 1997,-6 2003,0 2009,0 2009,0 2107,0 2107,0 2113,0 2119,-6 2119,-12 2119,-12 2119,-56 2119,-56 2119,-62 2113,-68 2107,-68\"/>\n<text text-anchor=\"middle\" x=\"2058\" y=\"-52.8\" font-family=\"Helvetica,sans-Serif\" font-size=\"14.00\">entropy = 0.701</text>\n<text text-anchor=\"middle\" x=\"2058\" y=\"-37.8\" font-family=\"Helvetica,sans-Serif\" font-size=\"14.00\">samples = 100</text>\n<text text-anchor=\"middle\" x=\"2058\" y=\"-22.8\" font-family=\"Helvetica,sans-Serif\" font-size=\"14.00\">value = [19, 81]</text>\n<text text-anchor=\"middle\" x=\"2058\" y=\"-7.8\" font-family=\"Helvetica,sans-Serif\" font-size=\"14.00\">class = heart_yes</text>\n</g>\n<!-- 33&#45;&gt;34 -->\n<g id=\"edge34\" class=\"edge\">\n<title>33&#45;&gt;34</title>\n<path fill=\"none\" stroke=\"black\" d=\"M2147.12,-103.73C2134.71,-94.15 2121.49,-83.96 2109.15,-74.44\"/>\n<polygon fill=\"black\" stroke=\"black\" points=\"2111.24,-71.63 2101.18,-68.3 2106.96,-77.18 2111.24,-71.63\"/>\n</g>\n<!-- 35 -->\n<g id=\"node36\" class=\"node\">\n<title>35</title>\n<path fill=\"#f8fcfe\" stroke=\"black\" d=\"M2250.5,-68C2250.5,-68 2149.5,-68 2149.5,-68 2143.5,-68 2137.5,-62 2137.5,-56 2137.5,-56 2137.5,-12 2137.5,-12 2137.5,-6 2143.5,0 2149.5,0 2149.5,0 2250.5,0 2250.5,0 2256.5,0 2262.5,-6 2262.5,-12 2262.5,-12 2262.5,-56 2262.5,-56 2262.5,-62 2256.5,-68 2250.5,-68\"/>\n<text text-anchor=\"middle\" x=\"2200\" y=\"-52.8\" font-family=\"Helvetica,sans-Serif\" font-size=\"14.00\">entropy = 1.0</text>\n<text text-anchor=\"middle\" x=\"2200\" y=\"-37.8\" font-family=\"Helvetica,sans-Serif\" font-size=\"14.00\">samples = 637</text>\n<text text-anchor=\"middle\" x=\"2200\" y=\"-22.8\" font-family=\"Helvetica,sans-Serif\" font-size=\"14.00\">value = [313, 324]</text>\n<text text-anchor=\"middle\" x=\"2200\" y=\"-7.8\" font-family=\"Helvetica,sans-Serif\" font-size=\"14.00\">class = heart_yes</text>\n</g>\n<!-- 33&#45;&gt;35 -->\n<g id=\"edge35\" class=\"edge\">\n<title>33&#45;&gt;35</title>\n<path fill=\"none\" stroke=\"black\" d=\"M2200,-103.73C2200,-95.52 2200,-86.86 2200,-78.56\"/>\n<polygon fill=\"black\" stroke=\"black\" points=\"2203.5,-78.3 2200,-68.3 2196.5,-78.3 2203.5,-78.3\"/>\n</g>\n<!-- 37 -->\n<g id=\"node38\" class=\"node\">\n<title>37</title>\n<path fill=\"#fae7d9\" stroke=\"black\" d=\"M2401,-68C2401,-68 2293,-68 2293,-68 2287,-68 2281,-62 2281,-56 2281,-56 2281,-12 2281,-12 2281,-6 2287,0 2293,0 2293,0 2401,0 2401,0 2407,0 2413,-6 2413,-12 2413,-12 2413,-56 2413,-56 2413,-62 2407,-68 2401,-68\"/>\n<text text-anchor=\"middle\" x=\"2347\" y=\"-52.8\" font-family=\"Helvetica,sans-Serif\" font-size=\"14.00\">entropy = 0.992</text>\n<text text-anchor=\"middle\" x=\"2347\" y=\"-37.8\" font-family=\"Helvetica,sans-Serif\" font-size=\"14.00\">samples = 114</text>\n<text text-anchor=\"middle\" x=\"2347\" y=\"-22.8\" font-family=\"Helvetica,sans-Serif\" font-size=\"14.00\">value = [63.0, 51.0]</text>\n<text text-anchor=\"middle\" x=\"2347\" y=\"-7.8\" font-family=\"Helvetica,sans-Serif\" font-size=\"14.00\">class = heart_no</text>\n</g>\n<!-- 36&#45;&gt;37 -->\n<g id=\"edge37\" class=\"edge\">\n<title>36&#45;&gt;37</title>\n<path fill=\"none\" stroke=\"black\" d=\"M2381.52,-103.73C2377.21,-95.15 2372.66,-86.09 2368.32,-77.46\"/>\n<polygon fill=\"black\" stroke=\"black\" points=\"2371.34,-75.66 2363.73,-68.3 2365.09,-78.81 2371.34,-75.66\"/>\n</g>\n<!-- 38 -->\n<g id=\"node39\" class=\"node\">\n<title>38</title>\n<path fill=\"#e78c4b\" stroke=\"black\" d=\"M2535,-68C2535,-68 2443,-68 2443,-68 2437,-68 2431,-62 2431,-56 2431,-56 2431,-12 2431,-12 2431,-6 2437,0 2443,0 2443,0 2535,0 2535,0 2541,0 2547,-6 2547,-12 2547,-12 2547,-56 2547,-56 2547,-62 2541,-68 2535,-68\"/>\n<text text-anchor=\"middle\" x=\"2489\" y=\"-52.8\" font-family=\"Helvetica,sans-Serif\" font-size=\"14.00\">entropy = 0.41</text>\n<text text-anchor=\"middle\" x=\"2489\" y=\"-37.8\" font-family=\"Helvetica,sans-Serif\" font-size=\"14.00\">samples = 85</text>\n<text text-anchor=\"middle\" x=\"2489\" y=\"-22.8\" font-family=\"Helvetica,sans-Serif\" font-size=\"14.00\">value = [78, 7]</text>\n<text text-anchor=\"middle\" x=\"2489\" y=\"-7.8\" font-family=\"Helvetica,sans-Serif\" font-size=\"14.00\">class = heart_no</text>\n</g>\n<!-- 36&#45;&gt;38 -->\n<g id=\"edge38\" class=\"edge\">\n<title>36&#45;&gt;38</title>\n<path fill=\"none\" stroke=\"black\" d=\"M2434.4,-103.73C2441.5,-94.79 2449.02,-85.32 2456.14,-76.36\"/>\n<polygon fill=\"black\" stroke=\"black\" points=\"2459.06,-78.31 2462.54,-68.3 2453.58,-73.95 2459.06,-78.31\"/>\n</g>\n<!-- 40 -->\n<g id=\"node41\" class=\"node\">\n<title>40</title>\n<path fill=\"#69b5eb\" stroke=\"black\" d=\"M2739,-187C2739,-187 2583,-187 2583,-187 2577,-187 2571,-181 2571,-175 2571,-175 2571,-116 2571,-116 2571,-110 2577,-104 2583,-104 2583,-104 2739,-104 2739,-104 2745,-104 2751,-110 2751,-116 2751,-116 2751,-175 2751,-175 2751,-181 2745,-187 2739,-187\"/>\n<text text-anchor=\"middle\" x=\"2661\" y=\"-171.8\" font-family=\"Helvetica,sans-Serif\" font-size=\"14.00\">blood_cholesterol &lt;= 3.375</text>\n<text text-anchor=\"middle\" x=\"2661\" y=\"-156.8\" font-family=\"Helvetica,sans-Serif\" font-size=\"14.00\">entropy = 0.71</text>\n<text text-anchor=\"middle\" x=\"2661\" y=\"-141.8\" font-family=\"Helvetica,sans-Serif\" font-size=\"14.00\">samples = 299</text>\n<text text-anchor=\"middle\" x=\"2661\" y=\"-126.8\" font-family=\"Helvetica,sans-Serif\" font-size=\"14.00\">value = [58, 241]</text>\n<text text-anchor=\"middle\" x=\"2661\" y=\"-111.8\" font-family=\"Helvetica,sans-Serif\" font-size=\"14.00\">class = heart_yes</text>\n</g>\n<!-- 39&#45;&gt;40 -->\n<g id=\"edge40\" class=\"edge\">\n<title>39&#45;&gt;40</title>\n<path fill=\"none\" stroke=\"black\" d=\"M2661,-222.91C2661,-214.65 2661,-205.86 2661,-197.3\"/>\n<polygon fill=\"black\" stroke=\"black\" points=\"2664.5,-197.02 2661,-187.02 2657.5,-197.02 2664.5,-197.02\"/>\n</g>\n<!-- 43 -->\n<g id=\"node44\" class=\"node\">\n<title>43</title>\n<path fill=\"#a9d4f4\" stroke=\"black\" d=\"M2988.5,-187C2988.5,-187 2817.5,-187 2817.5,-187 2811.5,-187 2805.5,-181 2805.5,-175 2805.5,-175 2805.5,-116 2805.5,-116 2805.5,-110 2811.5,-104 2817.5,-104 2817.5,-104 2988.5,-104 2988.5,-104 2994.5,-104 3000.5,-110 3000.5,-116 3000.5,-116 3000.5,-175 3000.5,-175 3000.5,-181 2994.5,-187 2988.5,-187\"/>\n<text text-anchor=\"middle\" x=\"2903\" y=\"-171.8\" font-family=\"Helvetica,sans-Serif\" font-size=\"14.00\">blood_pressure_sys &lt;= 101.0</text>\n<text text-anchor=\"middle\" x=\"2903\" y=\"-156.8\" font-family=\"Helvetica,sans-Serif\" font-size=\"14.00\">entropy = 0.943</text>\n<text text-anchor=\"middle\" x=\"2903\" y=\"-141.8\" font-family=\"Helvetica,sans-Serif\" font-size=\"14.00\">samples = 230</text>\n<text text-anchor=\"middle\" x=\"2903\" y=\"-126.8\" font-family=\"Helvetica,sans-Serif\" font-size=\"14.00\">value = [83, 147]</text>\n<text text-anchor=\"middle\" x=\"2903\" y=\"-111.8\" font-family=\"Helvetica,sans-Serif\" font-size=\"14.00\">class = heart_yes</text>\n</g>\n<!-- 39&#45;&gt;43 -->\n<g id=\"edge43\" class=\"edge\">\n<title>39&#45;&gt;43</title>\n<path fill=\"none\" stroke=\"black\" d=\"M2736.24,-227.12C2759.5,-215.88 2785.39,-203.36 2809.71,-191.6\"/>\n<polygon fill=\"black\" stroke=\"black\" points=\"2811.47,-194.64 2818.95,-187.14 2808.42,-188.34 2811.47,-194.64\"/>\n</g>\n<!-- 41 -->\n<g id=\"node42\" class=\"node\">\n<title>41</title>\n<path fill=\"#399de5\" stroke=\"black\" d=\"M2675,-68C2675,-68 2577,-68 2577,-68 2571,-68 2565,-62 2565,-56 2565,-56 2565,-12 2565,-12 2565,-6 2571,0 2577,0 2577,0 2675,0 2675,0 2681,0 2687,-6 2687,-12 2687,-12 2687,-56 2687,-56 2687,-62 2681,-68 2675,-68\"/>\n<text text-anchor=\"middle\" x=\"2626\" y=\"-52.8\" font-family=\"Helvetica,sans-Serif\" font-size=\"14.00\">entropy = 0.0</text>\n<text text-anchor=\"middle\" x=\"2626\" y=\"-37.8\" font-family=\"Helvetica,sans-Serif\" font-size=\"14.00\">samples = 46</text>\n<text text-anchor=\"middle\" x=\"2626\" y=\"-22.8\" font-family=\"Helvetica,sans-Serif\" font-size=\"14.00\">value = [0, 46]</text>\n<text text-anchor=\"middle\" x=\"2626\" y=\"-7.8\" font-family=\"Helvetica,sans-Serif\" font-size=\"14.00\">class = heart_yes</text>\n</g>\n<!-- 40&#45;&gt;41 -->\n<g id=\"edge41\" class=\"edge\">\n<title>40&#45;&gt;41</title>\n<path fill=\"none\" stroke=\"black\" d=\"M2647.97,-103.73C2645.29,-95.34 2642.45,-86.47 2639.75,-78.01\"/>\n<polygon fill=\"black\" stroke=\"black\" points=\"2643.02,-76.76 2636.64,-68.3 2636.35,-78.89 2643.02,-76.76\"/>\n</g>\n<!-- 42 -->\n<g id=\"node43\" class=\"node\">\n<title>42</title>\n<path fill=\"#74baed\" stroke=\"black\" d=\"M2815,-68C2815,-68 2717,-68 2717,-68 2711,-68 2705,-62 2705,-56 2705,-56 2705,-12 2705,-12 2705,-6 2711,0 2717,0 2717,0 2815,0 2815,0 2821,0 2827,-6 2827,-12 2827,-12 2827,-56 2827,-56 2827,-62 2821,-68 2815,-68\"/>\n<text text-anchor=\"middle\" x=\"2766\" y=\"-52.8\" font-family=\"Helvetica,sans-Serif\" font-size=\"14.00\">entropy = 0.777</text>\n<text text-anchor=\"middle\" x=\"2766\" y=\"-37.8\" font-family=\"Helvetica,sans-Serif\" font-size=\"14.00\">samples = 253</text>\n<text text-anchor=\"middle\" x=\"2766\" y=\"-22.8\" font-family=\"Helvetica,sans-Serif\" font-size=\"14.00\">value = [58, 195]</text>\n<text text-anchor=\"middle\" x=\"2766\" y=\"-7.8\" font-family=\"Helvetica,sans-Serif\" font-size=\"14.00\">class = heart_yes</text>\n</g>\n<!-- 40&#45;&gt;42 -->\n<g id=\"edge42\" class=\"edge\">\n<title>40&#45;&gt;42</title>\n<path fill=\"none\" stroke=\"black\" d=\"M2700.1,-103.73C2708.93,-94.51 2718.31,-84.74 2727.13,-75.53\"/>\n<polygon fill=\"black\" stroke=\"black\" points=\"2729.67,-77.94 2734.07,-68.3 2724.62,-73.1 2729.67,-77.94\"/>\n</g>\n<!-- 44 -->\n<g id=\"node45\" class=\"node\">\n<title>44</title>\n<path fill=\"#e58139\" stroke=\"black\" d=\"M2949,-68C2949,-68 2857,-68 2857,-68 2851,-68 2845,-62 2845,-56 2845,-56 2845,-12 2845,-12 2845,-6 2851,0 2857,0 2857,0 2949,0 2949,0 2955,0 2961,-6 2961,-12 2961,-12 2961,-56 2961,-56 2961,-62 2955,-68 2949,-68\"/>\n<text text-anchor=\"middle\" x=\"2903\" y=\"-52.8\" font-family=\"Helvetica,sans-Serif\" font-size=\"14.00\">entropy = 0.0</text>\n<text text-anchor=\"middle\" x=\"2903\" y=\"-37.8\" font-family=\"Helvetica,sans-Serif\" font-size=\"14.00\">samples = 9</text>\n<text text-anchor=\"middle\" x=\"2903\" y=\"-22.8\" font-family=\"Helvetica,sans-Serif\" font-size=\"14.00\">value = [9, 0]</text>\n<text text-anchor=\"middle\" x=\"2903\" y=\"-7.8\" font-family=\"Helvetica,sans-Serif\" font-size=\"14.00\">class = heart_no</text>\n</g>\n<!-- 43&#45;&gt;44 -->\n<g id=\"edge44\" class=\"edge\">\n<title>43&#45;&gt;44</title>\n<path fill=\"none\" stroke=\"black\" d=\"M2903,-103.73C2903,-95.52 2903,-86.86 2903,-78.56\"/>\n<polygon fill=\"black\" stroke=\"black\" points=\"2906.5,-78.3 2903,-68.3 2899.5,-78.3 2906.5,-78.3\"/>\n</g>\n<!-- 45 -->\n<g id=\"node46\" class=\"node\">\n<title>45</title>\n<path fill=\"#9dcef2\" stroke=\"black\" d=\"M3089,-68C3089,-68 2991,-68 2991,-68 2985,-68 2979,-62 2979,-56 2979,-56 2979,-12 2979,-12 2979,-6 2985,0 2991,0 2991,0 3089,0 3089,0 3095,0 3101,-6 3101,-12 3101,-12 3101,-56 3101,-56 3101,-62 3095,-68 3089,-68\"/>\n<text text-anchor=\"middle\" x=\"3040\" y=\"-52.8\" font-family=\"Helvetica,sans-Serif\" font-size=\"14.00\">entropy = 0.92</text>\n<text text-anchor=\"middle\" x=\"3040\" y=\"-37.8\" font-family=\"Helvetica,sans-Serif\" font-size=\"14.00\">samples = 221</text>\n<text text-anchor=\"middle\" x=\"3040\" y=\"-22.8\" font-family=\"Helvetica,sans-Serif\" font-size=\"14.00\">value = [74, 147]</text>\n<text text-anchor=\"middle\" x=\"3040\" y=\"-7.8\" font-family=\"Helvetica,sans-Serif\" font-size=\"14.00\">class = heart_yes</text>\n</g>\n<!-- 43&#45;&gt;45 -->\n<g id=\"edge45\" class=\"edge\">\n<title>43&#45;&gt;45</title>\n<path fill=\"none\" stroke=\"black\" d=\"M2954.01,-103.73C2965.88,-94.24 2978.5,-84.16 2990.31,-74.72\"/>\n<polygon fill=\"black\" stroke=\"black\" points=\"2992.71,-77.28 2998.34,-68.3 2988.34,-71.81 2992.71,-77.28\"/>\n</g>\n<!-- 47 -->\n<g id=\"node48\" class=\"node\">\n<title>47</title>\n<path fill=\"#bddef6\" stroke=\"black\" d=\"M3334,-306C3334,-306 3236,-306 3236,-306 3230,-306 3224,-300 3224,-294 3224,-294 3224,-235 3224,-235 3224,-229 3230,-223 3236,-223 3236,-223 3334,-223 3334,-223 3340,-223 3346,-229 3346,-235 3346,-235 3346,-294 3346,-294 3346,-300 3340,-306 3334,-306\"/>\n<text text-anchor=\"middle\" x=\"3285\" y=\"-290.8\" font-family=\"Helvetica,sans-Serif\" font-size=\"14.00\">BMI &lt;= 27.05</text>\n<text text-anchor=\"middle\" x=\"3285\" y=\"-275.8\" font-family=\"Helvetica,sans-Serif\" font-size=\"14.00\">entropy = 0.971</text>\n<text text-anchor=\"middle\" x=\"3285\" y=\"-260.8\" font-family=\"Helvetica,sans-Serif\" font-size=\"14.00\">samples = 60</text>\n<text text-anchor=\"middle\" x=\"3285\" y=\"-245.8\" font-family=\"Helvetica,sans-Serif\" font-size=\"14.00\">value = [24, 36]</text>\n<text text-anchor=\"middle\" x=\"3285\" y=\"-230.8\" font-family=\"Helvetica,sans-Serif\" font-size=\"14.00\">class = heart_yes</text>\n</g>\n<!-- 46&#45;&gt;47 -->\n<g id=\"edge47\" class=\"edge\">\n<title>46&#45;&gt;47</title>\n<path fill=\"none\" stroke=\"black\" d=\"M3285,-341.91C3285,-333.65 3285,-324.86 3285,-316.3\"/>\n<polygon fill=\"black\" stroke=\"black\" points=\"3288.5,-316.02 3285,-306.02 3281.5,-316.02 3288.5,-316.02\"/>\n</g>\n<!-- 52 -->\n<g id=\"node53\" class=\"node\">\n<title>52</title>\n<path fill=\"#54aae9\" stroke=\"black\" d=\"M3644.5,-306C3644.5,-306 3473.5,-306 3473.5,-306 3467.5,-306 3461.5,-300 3461.5,-294 3461.5,-294 3461.5,-235 3461.5,-235 3461.5,-229 3467.5,-223 3473.5,-223 3473.5,-223 3644.5,-223 3644.5,-223 3650.5,-223 3656.5,-229 3656.5,-235 3656.5,-235 3656.5,-294 3656.5,-294 3656.5,-300 3650.5,-306 3644.5,-306\"/>\n<text text-anchor=\"middle\" x=\"3559\" y=\"-290.8\" font-family=\"Helvetica,sans-Serif\" font-size=\"14.00\">blood_pressure_sys &lt;= 135.0</text>\n<text text-anchor=\"middle\" x=\"3559\" y=\"-275.8\" font-family=\"Helvetica,sans-Serif\" font-size=\"14.00\">entropy = 0.53</text>\n<text text-anchor=\"middle\" x=\"3559\" y=\"-260.8\" font-family=\"Helvetica,sans-Serif\" font-size=\"14.00\">samples = 823</text>\n<text text-anchor=\"middle\" x=\"3559\" y=\"-245.8\" font-family=\"Helvetica,sans-Serif\" font-size=\"14.00\">value = [99, 724]</text>\n<text text-anchor=\"middle\" x=\"3559\" y=\"-230.8\" font-family=\"Helvetica,sans-Serif\" font-size=\"14.00\">class = heart_yes</text>\n</g>\n<!-- 46&#45;&gt;52 -->\n<g id=\"edge52\" class=\"edge\">\n<title>46&#45;&gt;52</title>\n<path fill=\"none\" stroke=\"black\" d=\"M3375.1,-344.03C3400.63,-333.12 3428.64,-321.17 3454.92,-309.94\"/>\n<polygon fill=\"black\" stroke=\"black\" points=\"3456.32,-313.15 3464.14,-306.01 3453.57,-306.71 3456.32,-313.15\"/>\n</g>\n<!-- 48 -->\n<g id=\"node49\" class=\"node\">\n<title>48</title>\n<path fill=\"#6ab6ec\" stroke=\"black\" d=\"M3278.5,-187C3278.5,-187 3129.5,-187 3129.5,-187 3123.5,-187 3117.5,-181 3117.5,-175 3117.5,-175 3117.5,-116 3117.5,-116 3117.5,-110 3123.5,-104 3129.5,-104 3129.5,-104 3278.5,-104 3278.5,-104 3284.5,-104 3290.5,-110 3290.5,-116 3290.5,-116 3290.5,-175 3290.5,-175 3290.5,-181 3284.5,-187 3278.5,-187\"/>\n<text text-anchor=\"middle\" x=\"3204\" y=\"-171.8\" font-family=\"Helvetica,sans-Serif\" font-size=\"14.00\">blood_cholesterol &lt;= 3.48</text>\n<text text-anchor=\"middle\" x=\"3204\" y=\"-156.8\" font-family=\"Helvetica,sans-Serif\" font-size=\"14.00\">entropy = 0.722</text>\n<text text-anchor=\"middle\" x=\"3204\" y=\"-141.8\" font-family=\"Helvetica,sans-Serif\" font-size=\"14.00\">samples = 45</text>\n<text text-anchor=\"middle\" x=\"3204\" y=\"-126.8\" font-family=\"Helvetica,sans-Serif\" font-size=\"14.00\">value = [9, 36]</text>\n<text text-anchor=\"middle\" x=\"3204\" y=\"-111.8\" font-family=\"Helvetica,sans-Serif\" font-size=\"14.00\">class = heart_yes</text>\n</g>\n<!-- 47&#45;&gt;48 -->\n<g id=\"edge48\" class=\"edge\">\n<title>47&#45;&gt;48</title>\n<path fill=\"none\" stroke=\"black\" d=\"M3256.9,-222.91C3250.74,-214.01 3244.16,-204.51 3237.81,-195.33\"/>\n<polygon fill=\"black\" stroke=\"black\" points=\"3240.62,-193.25 3232.05,-187.02 3234.87,-197.24 3240.62,-193.25\"/>\n</g>\n<!-- 51 -->\n<g id=\"node52\" class=\"node\">\n<title>51</title>\n<path fill=\"#e58139\" stroke=\"black\" d=\"M3413,-179.5C3413,-179.5 3321,-179.5 3321,-179.5 3315,-179.5 3309,-173.5 3309,-167.5 3309,-167.5 3309,-123.5 3309,-123.5 3309,-117.5 3315,-111.5 3321,-111.5 3321,-111.5 3413,-111.5 3413,-111.5 3419,-111.5 3425,-117.5 3425,-123.5 3425,-123.5 3425,-167.5 3425,-167.5 3425,-173.5 3419,-179.5 3413,-179.5\"/>\n<text text-anchor=\"middle\" x=\"3367\" y=\"-164.3\" font-family=\"Helvetica,sans-Serif\" font-size=\"14.00\">entropy = 0.0</text>\n<text text-anchor=\"middle\" x=\"3367\" y=\"-149.3\" font-family=\"Helvetica,sans-Serif\" font-size=\"14.00\">samples = 15</text>\n<text text-anchor=\"middle\" x=\"3367\" y=\"-134.3\" font-family=\"Helvetica,sans-Serif\" font-size=\"14.00\">value = [15, 0]</text>\n<text text-anchor=\"middle\" x=\"3367\" y=\"-119.3\" font-family=\"Helvetica,sans-Serif\" font-size=\"14.00\">class = heart_no</text>\n</g>\n<!-- 47&#45;&gt;51 -->\n<g id=\"edge51\" class=\"edge\">\n<title>47&#45;&gt;51</title>\n<path fill=\"none\" stroke=\"black\" d=\"M3313.45,-222.91C3321.34,-211.65 3329.91,-199.42 3337.84,-188.11\"/>\n<polygon fill=\"black\" stroke=\"black\" points=\"3340.88,-189.86 3343.75,-179.67 3335.15,-185.85 3340.88,-189.86\"/>\n</g>\n<!-- 49 -->\n<g id=\"node50\" class=\"node\">\n<title>49</title>\n<path fill=\"#4fa8e8\" stroke=\"black\" d=\"M3229,-68C3229,-68 3131,-68 3131,-68 3125,-68 3119,-62 3119,-56 3119,-56 3119,-12 3119,-12 3119,-6 3125,0 3131,0 3131,0 3229,0 3229,0 3235,0 3241,-6 3241,-12 3241,-12 3241,-56 3241,-56 3241,-62 3235,-68 3229,-68\"/>\n<text text-anchor=\"middle\" x=\"3180\" y=\"-52.8\" font-family=\"Helvetica,sans-Serif\" font-size=\"14.00\">entropy = 0.469</text>\n<text text-anchor=\"middle\" x=\"3180\" y=\"-37.8\" font-family=\"Helvetica,sans-Serif\" font-size=\"14.00\">samples = 40</text>\n<text text-anchor=\"middle\" x=\"3180\" y=\"-22.8\" font-family=\"Helvetica,sans-Serif\" font-size=\"14.00\">value = [4, 36]</text>\n<text text-anchor=\"middle\" x=\"3180\" y=\"-7.8\" font-family=\"Helvetica,sans-Serif\" font-size=\"14.00\">class = heart_yes</text>\n</g>\n<!-- 48&#45;&gt;49 -->\n<g id=\"edge49\" class=\"edge\">\n<title>48&#45;&gt;49</title>\n<path fill=\"none\" stroke=\"black\" d=\"M3195.06,-103.73C3193.24,-95.43 3191.32,-86.67 3189.49,-78.28\"/>\n<polygon fill=\"black\" stroke=\"black\" points=\"3192.86,-77.32 3187.3,-68.3 3186.02,-78.82 3192.86,-77.32\"/>\n</g>\n<!-- 50 -->\n<g id=\"node51\" class=\"node\">\n<title>50</title>\n<path fill=\"#e58139\" stroke=\"black\" d=\"M3363,-68C3363,-68 3271,-68 3271,-68 3265,-68 3259,-62 3259,-56 3259,-56 3259,-12 3259,-12 3259,-6 3265,0 3271,0 3271,0 3363,0 3363,0 3369,0 3375,-6 3375,-12 3375,-12 3375,-56 3375,-56 3375,-62 3369,-68 3363,-68\"/>\n<text text-anchor=\"middle\" x=\"3317\" y=\"-52.8\" font-family=\"Helvetica,sans-Serif\" font-size=\"14.00\">entropy = 0.0</text>\n<text text-anchor=\"middle\" x=\"3317\" y=\"-37.8\" font-family=\"Helvetica,sans-Serif\" font-size=\"14.00\">samples = 5</text>\n<text text-anchor=\"middle\" x=\"3317\" y=\"-22.8\" font-family=\"Helvetica,sans-Serif\" font-size=\"14.00\">value = [5, 0]</text>\n<text text-anchor=\"middle\" x=\"3317\" y=\"-7.8\" font-family=\"Helvetica,sans-Serif\" font-size=\"14.00\">class = heart_no</text>\n</g>\n<!-- 48&#45;&gt;50 -->\n<g id=\"edge50\" class=\"edge\">\n<title>48&#45;&gt;50</title>\n<path fill=\"none\" stroke=\"black\" d=\"M3246.08,-103.73C3255.68,-94.42 3265.87,-84.54 3275.45,-75.26\"/>\n<polygon fill=\"black\" stroke=\"black\" points=\"3277.89,-77.77 3282.64,-68.3 3273.02,-72.75 3277.89,-77.77\"/>\n</g>\n<!-- 53 -->\n<g id=\"node54\" class=\"node\">\n<title>53</title>\n<path fill=\"#59ade9\" stroke=\"black\" d=\"M3616,-187C3616,-187 3502,-187 3502,-187 3496,-187 3490,-181 3490,-175 3490,-175 3490,-116 3490,-116 3490,-110 3496,-104 3502,-104 3502,-104 3616,-104 3616,-104 3622,-104 3628,-110 3628,-116 3628,-116 3628,-175 3628,-175 3628,-181 3622,-187 3616,-187\"/>\n<text text-anchor=\"middle\" x=\"3559\" y=\"-171.8\" font-family=\"Helvetica,sans-Serif\" font-size=\"14.00\">diastolic_bp &lt;= 57.0</text>\n<text text-anchor=\"middle\" x=\"3559\" y=\"-156.8\" font-family=\"Helvetica,sans-Serif\" font-size=\"14.00\">entropy = 0.586</text>\n<text text-anchor=\"middle\" x=\"3559\" y=\"-141.8\" font-family=\"Helvetica,sans-Serif\" font-size=\"14.00\">samples = 668</text>\n<text text-anchor=\"middle\" x=\"3559\" y=\"-126.8\" font-family=\"Helvetica,sans-Serif\" font-size=\"14.00\">value = [94, 574]</text>\n<text text-anchor=\"middle\" x=\"3559\" y=\"-111.8\" font-family=\"Helvetica,sans-Serif\" font-size=\"14.00\">class = heart_yes</text>\n</g>\n<!-- 52&#45;&gt;53 -->\n<g id=\"edge53\" class=\"edge\">\n<title>52&#45;&gt;53</title>\n<path fill=\"none\" stroke=\"black\" d=\"M3559,-222.91C3559,-214.65 3559,-205.86 3559,-197.3\"/>\n<polygon fill=\"black\" stroke=\"black\" points=\"3562.5,-197.02 3559,-187.02 3555.5,-197.02 3562.5,-197.02\"/>\n</g>\n<!-- 56 -->\n<g id=\"node57\" class=\"node\">\n<title>56</title>\n<path fill=\"#40a0e6\" stroke=\"black\" d=\"M3786,-187C3786,-187 3682,-187 3682,-187 3676,-187 3670,-181 3670,-175 3670,-175 3670,-116 3670,-116 3670,-110 3676,-104 3682,-104 3682,-104 3786,-104 3786,-104 3792,-104 3798,-110 3798,-116 3798,-116 3798,-175 3798,-175 3798,-181 3792,-187 3786,-187\"/>\n<text text-anchor=\"middle\" x=\"3734\" y=\"-171.8\" font-family=\"Helvetica,sans-Serif\" font-size=\"14.00\">calories &lt;= 1992.5</text>\n<text text-anchor=\"middle\" x=\"3734\" y=\"-156.8\" font-family=\"Helvetica,sans-Serif\" font-size=\"14.00\">entropy = 0.206</text>\n<text text-anchor=\"middle\" x=\"3734\" y=\"-141.8\" font-family=\"Helvetica,sans-Serif\" font-size=\"14.00\">samples = 155</text>\n<text text-anchor=\"middle\" x=\"3734\" y=\"-126.8\" font-family=\"Helvetica,sans-Serif\" font-size=\"14.00\">value = [5, 150]</text>\n<text text-anchor=\"middle\" x=\"3734\" y=\"-111.8\" font-family=\"Helvetica,sans-Serif\" font-size=\"14.00\">class = heart_yes</text>\n</g>\n<!-- 52&#45;&gt;56 -->\n<g id=\"edge56\" class=\"edge\">\n<title>52&#45;&gt;56</title>\n<path fill=\"none\" stroke=\"black\" d=\"M3619.72,-222.91C3634.24,-213.2 3649.85,-202.76 3664.73,-192.81\"/>\n<polygon fill=\"black\" stroke=\"black\" points=\"3667.02,-195.49 3673.39,-187.02 3663.13,-189.67 3667.02,-195.49\"/>\n</g>\n<!-- 54 -->\n<g id=\"node55\" class=\"node\">\n<title>54</title>\n<path fill=\"#9acdf2\" stroke=\"black\" d=\"M3503,-68C3503,-68 3405,-68 3405,-68 3399,-68 3393,-62 3393,-56 3393,-56 3393,-12 3393,-12 3393,-6 3399,0 3405,0 3405,0 3503,0 3503,0 3509,0 3515,-6 3515,-12 3515,-12 3515,-56 3515,-56 3515,-62 3509,-68 3503,-68\"/>\n<text text-anchor=\"middle\" x=\"3454\" y=\"-52.8\" font-family=\"Helvetica,sans-Serif\" font-size=\"14.00\">entropy = 0.914</text>\n<text text-anchor=\"middle\" x=\"3454\" y=\"-37.8\" font-family=\"Helvetica,sans-Serif\" font-size=\"14.00\">samples = 76</text>\n<text text-anchor=\"middle\" x=\"3454\" y=\"-22.8\" font-family=\"Helvetica,sans-Serif\" font-size=\"14.00\">value = [25, 51]</text>\n<text text-anchor=\"middle\" x=\"3454\" y=\"-7.8\" font-family=\"Helvetica,sans-Serif\" font-size=\"14.00\">class = heart_yes</text>\n</g>\n<!-- 53&#45;&gt;54 -->\n<g id=\"edge54\" class=\"edge\">\n<title>53&#45;&gt;54</title>\n<path fill=\"none\" stroke=\"black\" d=\"M3519.9,-103.73C3511.07,-94.51 3501.69,-84.74 3492.87,-75.53\"/>\n<polygon fill=\"black\" stroke=\"black\" points=\"3495.38,-73.1 3485.93,-68.3 3490.33,-77.94 3495.38,-73.1\"/>\n</g>\n<!-- 55 -->\n<g id=\"node56\" class=\"node\">\n<title>55</title>\n<path fill=\"#53aae8\" stroke=\"black\" d=\"M3643,-68C3643,-68 3545,-68 3545,-68 3539,-68 3533,-62 3533,-56 3533,-56 3533,-12 3533,-12 3533,-6 3539,0 3545,0 3545,0 3643,0 3643,0 3649,0 3655,-6 3655,-12 3655,-12 3655,-56 3655,-56 3655,-62 3649,-68 3643,-68\"/>\n<text text-anchor=\"middle\" x=\"3594\" y=\"-52.8\" font-family=\"Helvetica,sans-Serif\" font-size=\"14.00\">entropy = 0.519</text>\n<text text-anchor=\"middle\" x=\"3594\" y=\"-37.8\" font-family=\"Helvetica,sans-Serif\" font-size=\"14.00\">samples = 592</text>\n<text text-anchor=\"middle\" x=\"3594\" y=\"-22.8\" font-family=\"Helvetica,sans-Serif\" font-size=\"14.00\">value = [69, 523]</text>\n<text text-anchor=\"middle\" x=\"3594\" y=\"-7.8\" font-family=\"Helvetica,sans-Serif\" font-size=\"14.00\">class = heart_yes</text>\n</g>\n<!-- 53&#45;&gt;55 -->\n<g id=\"edge55\" class=\"edge\">\n<title>53&#45;&gt;55</title>\n<path fill=\"none\" stroke=\"black\" d=\"M3572.03,-103.73C3574.71,-95.34 3577.55,-86.47 3580.25,-78.01\"/>\n<polygon fill=\"black\" stroke=\"black\" points=\"3583.65,-78.89 3583.36,-68.3 3576.98,-76.76 3583.65,-78.89\"/>\n</g>\n<!-- 57 -->\n<g id=\"node58\" class=\"node\">\n<title>57</title>\n<path fill=\"#399de5\" stroke=\"black\" d=\"M3783,-68C3783,-68 3685,-68 3685,-68 3679,-68 3673,-62 3673,-56 3673,-56 3673,-12 3673,-12 3673,-6 3679,0 3685,0 3685,0 3783,0 3783,0 3789,0 3795,-6 3795,-12 3795,-12 3795,-56 3795,-56 3795,-62 3789,-68 3783,-68\"/>\n<text text-anchor=\"middle\" x=\"3734\" y=\"-52.8\" font-family=\"Helvetica,sans-Serif\" font-size=\"14.00\">entropy = 0.0</text>\n<text text-anchor=\"middle\" x=\"3734\" y=\"-37.8\" font-family=\"Helvetica,sans-Serif\" font-size=\"14.00\">samples = 110</text>\n<text text-anchor=\"middle\" x=\"3734\" y=\"-22.8\" font-family=\"Helvetica,sans-Serif\" font-size=\"14.00\">value = [0, 110]</text>\n<text text-anchor=\"middle\" x=\"3734\" y=\"-7.8\" font-family=\"Helvetica,sans-Serif\" font-size=\"14.00\">class = heart_yes</text>\n</g>\n<!-- 56&#45;&gt;57 -->\n<g id=\"edge57\" class=\"edge\">\n<title>56&#45;&gt;57</title>\n<path fill=\"none\" stroke=\"black\" d=\"M3734,-103.73C3734,-95.52 3734,-86.86 3734,-78.56\"/>\n<polygon fill=\"black\" stroke=\"black\" points=\"3737.5,-78.3 3734,-68.3 3730.5,-78.3 3737.5,-78.3\"/>\n</g>\n<!-- 58 -->\n<g id=\"node59\" class=\"node\">\n<title>58</title>\n<path fill=\"#52a9e8\" stroke=\"black\" d=\"M3923,-68C3923,-68 3825,-68 3825,-68 3819,-68 3813,-62 3813,-56 3813,-56 3813,-12 3813,-12 3813,-6 3819,0 3825,0 3825,0 3923,0 3923,0 3929,0 3935,-6 3935,-12 3935,-12 3935,-56 3935,-56 3935,-62 3929,-68 3923,-68\"/>\n<text text-anchor=\"middle\" x=\"3874\" y=\"-52.8\" font-family=\"Helvetica,sans-Serif\" font-size=\"14.00\">entropy = 0.503</text>\n<text text-anchor=\"middle\" x=\"3874\" y=\"-37.8\" font-family=\"Helvetica,sans-Serif\" font-size=\"14.00\">samples = 45</text>\n<text text-anchor=\"middle\" x=\"3874\" y=\"-22.8\" font-family=\"Helvetica,sans-Serif\" font-size=\"14.00\">value = [5, 40]</text>\n<text text-anchor=\"middle\" x=\"3874\" y=\"-7.8\" font-family=\"Helvetica,sans-Serif\" font-size=\"14.00\">class = heart_yes</text>\n</g>\n<!-- 56&#45;&gt;58 -->\n<g id=\"edge58\" class=\"edge\">\n<title>56&#45;&gt;58</title>\n<path fill=\"none\" stroke=\"black\" d=\"M3786.13,-103.73C3798.26,-94.24 3811.15,-84.16 3823.22,-74.72\"/>\n<polygon fill=\"black\" stroke=\"black\" points=\"3825.7,-77.22 3831.43,-68.3 3821.39,-71.7 3825.7,-77.22\"/>\n</g>\n</g>\n</svg>\n",
            "text/plain": [
              "<graphviz.sources.Source at 0x7a44aaa69ca0>"
            ]
          },
          "metadata": {}
        }
      ],
      "source": [
        "# create a DecisionTreeClassifier\n",
        "tree_overfit = DecisionTreeClassifier(criterion=\"entropy\", max_depth=5)\n",
        "\n",
        "# fit it to our data\n",
        "tree_overfit.fit(X_train, t_train)\n",
        "\n",
        "# Print the training and validation accuracy\n",
        "print(\"Training Accuracy:\", tree_overfit.score(X_train, t_train))\n",
        "print(\"Validation Accuracy:\", tree_overfit.score(X_val, t_val))\n",
        "\n",
        "# visualize the tree\n",
        "visualize_tree(tree_overfit)"
      ]
    },
    {
      "cell_type": "markdown",
      "id": "vocal-scheme",
      "metadata": {
        "id": "vocal-scheme"
      },
      "source": [
        "**Graded Task:** What value of `max_depth` did you choose to make the tree underfit, or overfit? Why do these values cause the graph to underfit, or overfit?"
      ]
    },
    {
      "cell_type": "code",
      "execution_count": 78,
      "id": "proper-gallery",
      "metadata": {
        "id": "proper-gallery"
      },
      "outputs": [],
      "source": [
        "# Using max_depth=1 causes underfitting\n",
        "# because the tree is too simple to capture patterns (low train/validation accuracy).\n",
        "\n",
        "# Using max_depth=5 causes overfitting\n",
        "# because the tree becomes too complex, fitting training data closely but not improving validation accuracy."
      ]
    },
    {
      "cell_type": "markdown",
      "id": "amended-facial",
      "metadata": {
        "id": "amended-facial"
      },
      "source": [
        "We will now repeat the same computation as above, but vary the `min_samples_split` parameter instead of `max_depth`.\n",
        "\n",
        "**Task:** Similar to what we've been doing above, create another `DecisionTreeClassifier` that uses `entropy` to measure the quality of a split. This time set `min_samples_split` to a value that would cause the tree to *underfit*.  Omit the `max_depth` parameter. Report the accuracy (obtained via the `score()` method) on the validation and training sets. Visualize the tree."
      ]
    },
    {
      "cell_type": "code",
      "execution_count": 83,
      "id": "balanced-bridge",
      "metadata": {
        "id": "balanced-bridge",
        "colab": {
          "base_uri": "https://localhost:8080/",
          "height": 1000
        },
        "outputId": "f1e9ea35-8656-4a02-b6b1-e9c937b78113"
      },
      "outputs": [
        {
          "output_type": "stream",
          "name": "stdout",
          "text": [
            "Training Accuracy (underfit): 0.7298\n",
            "Validation Accuracy (underfit): 0.7406666666666667\n"
          ]
        },
        {
          "output_type": "display_data",
          "data": {
            "image/svg+xml": "<?xml version=\"1.0\" encoding=\"UTF-8\" standalone=\"no\"?>\n<!DOCTYPE svg PUBLIC \"-//W3C//DTD SVG 1.1//EN\"\n \"http://www.w3.org/Graphics/SVG/1.1/DTD/svg11.dtd\">\n<!-- Generated by graphviz version 2.43.0 (0)\n -->\n<!-- Title: Tree Pages: 1 -->\n<svg width=\"1327pt\" height=\"758pt\"\n viewBox=\"0.00 0.00 1326.50 758.00\" xmlns=\"http://www.w3.org/2000/svg\" xmlns:xlink=\"http://www.w3.org/1999/xlink\">\n<g id=\"graph0\" class=\"graph\" transform=\"scale(1 1) rotate(0) translate(4 754)\">\n<title>Tree</title>\n<polygon fill=\"white\" stroke=\"transparent\" points=\"-4,4 -4,-754 1322.5,-754 1322.5,4 -4,4\"/>\n<!-- 0 -->\n<g id=\"node1\" class=\"node\">\n<title>0</title>\n<path fill=\"#fefcfb\" stroke=\"black\" d=\"M690.5,-750C690.5,-750 552.5,-750 552.5,-750 546.5,-750 540.5,-744 540.5,-738 540.5,-738 540.5,-679 540.5,-679 540.5,-673 546.5,-667 552.5,-667 552.5,-667 690.5,-667 690.5,-667 696.5,-667 702.5,-673 702.5,-679 702.5,-679 702.5,-738 702.5,-738 702.5,-744 696.5,-750 690.5,-750\"/>\n<text text-anchor=\"middle\" x=\"621.5\" y=\"-734.8\" font-family=\"Helvetica,sans-Serif\" font-size=\"14.00\">age &lt;= 64.5</text>\n<text text-anchor=\"middle\" x=\"621.5\" y=\"-719.8\" font-family=\"Helvetica,sans-Serif\" font-size=\"14.00\">entropy = 1.0</text>\n<text text-anchor=\"middle\" x=\"621.5\" y=\"-704.8\" font-family=\"Helvetica,sans-Serif\" font-size=\"14.00\">samples = 5000</text>\n<text text-anchor=\"middle\" x=\"621.5\" y=\"-689.8\" font-family=\"Helvetica,sans-Serif\" font-size=\"14.00\">value = [2528.0, 2472.0]</text>\n<text text-anchor=\"middle\" x=\"621.5\" y=\"-674.8\" font-family=\"Helvetica,sans-Serif\" font-size=\"14.00\">class = heart_no</text>\n</g>\n<!-- 1 -->\n<g id=\"node2\" class=\"node\">\n<title>1</title>\n<path fill=\"#f1be98\" stroke=\"black\" d=\"M526,-631C526,-631 395,-631 395,-631 389,-631 383,-625 383,-619 383,-619 383,-560 383,-560 383,-554 389,-548 395,-548 395,-548 526,-548 526,-548 532,-548 538,-554 538,-560 538,-560 538,-619 538,-619 538,-625 532,-631 526,-631\"/>\n<text text-anchor=\"middle\" x=\"460.5\" y=\"-615.8\" font-family=\"Helvetica,sans-Serif\" font-size=\"14.00\">chest_pain &lt;= 0.5</text>\n<text text-anchor=\"middle\" x=\"460.5\" y=\"-600.8\" font-family=\"Helvetica,sans-Serif\" font-size=\"14.00\">entropy = 0.909</text>\n<text text-anchor=\"middle\" x=\"460.5\" y=\"-585.8\" font-family=\"Helvetica,sans-Serif\" font-size=\"14.00\">samples = 2652</text>\n<text text-anchor=\"middle\" x=\"460.5\" y=\"-570.8\" font-family=\"Helvetica,sans-Serif\" font-size=\"14.00\">value = [1791.0, 861.0]</text>\n<text text-anchor=\"middle\" x=\"460.5\" y=\"-555.8\" font-family=\"Helvetica,sans-Serif\" font-size=\"14.00\">class = heart_no</text>\n</g>\n<!-- 0&#45;&gt;1 -->\n<g id=\"edge1\" class=\"edge\">\n<title>0&#45;&gt;1</title>\n<path fill=\"none\" stroke=\"black\" d=\"M565.64,-666.91C552.4,-657.29 538.18,-646.95 524.61,-637.09\"/>\n<polygon fill=\"black\" stroke=\"black\" points=\"526.41,-634.07 516.26,-631.02 522.29,-639.73 526.41,-634.07\"/>\n<text text-anchor=\"middle\" x=\"520.17\" y=\"-652.01\" font-family=\"Helvetica,sans-Serif\" font-size=\"14.00\">True</text>\n</g>\n<!-- 14 -->\n<g id=\"node15\" class=\"node\">\n<title>14</title>\n<path fill=\"#94caf1\" stroke=\"black\" d=\"M819.5,-631C819.5,-631 711.5,-631 711.5,-631 705.5,-631 699.5,-625 699.5,-619 699.5,-619 699.5,-560 699.5,-560 699.5,-554 705.5,-548 711.5,-548 711.5,-548 819.5,-548 819.5,-548 825.5,-548 831.5,-554 831.5,-560 831.5,-560 831.5,-619 831.5,-619 831.5,-625 825.5,-631 819.5,-631\"/>\n<text text-anchor=\"middle\" x=\"765.5\" y=\"-615.8\" font-family=\"Helvetica,sans-Serif\" font-size=\"14.00\">chest_pain &lt;= 0.5</text>\n<text text-anchor=\"middle\" x=\"765.5\" y=\"-600.8\" font-family=\"Helvetica,sans-Serif\" font-size=\"14.00\">entropy = 0.898</text>\n<text text-anchor=\"middle\" x=\"765.5\" y=\"-585.8\" font-family=\"Helvetica,sans-Serif\" font-size=\"14.00\">samples = 2348</text>\n<text text-anchor=\"middle\" x=\"765.5\" y=\"-570.8\" font-family=\"Helvetica,sans-Serif\" font-size=\"14.00\">value = [737, 1611]</text>\n<text text-anchor=\"middle\" x=\"765.5\" y=\"-555.8\" font-family=\"Helvetica,sans-Serif\" font-size=\"14.00\">class = heart_yes</text>\n</g>\n<!-- 0&#45;&gt;14 -->\n<g id=\"edge14\" class=\"edge\">\n<title>0&#45;&gt;14</title>\n<path fill=\"none\" stroke=\"black\" d=\"M671.46,-666.91C683.19,-657.38 695.78,-647.15 707.81,-637.37\"/>\n<polygon fill=\"black\" stroke=\"black\" points=\"710.07,-640.04 715.63,-631.02 705.66,-634.61 710.07,-640.04\"/>\n<text text-anchor=\"middle\" x=\"713.06\" y=\"-652.19\" font-family=\"Helvetica,sans-Serif\" font-size=\"14.00\">False</text>\n</g>\n<!-- 2 -->\n<g id=\"node3\" class=\"node\">\n<title>2</title>\n<path fill=\"#eca36f\" stroke=\"black\" d=\"M279.5,-512C279.5,-512 171.5,-512 171.5,-512 165.5,-512 159.5,-506 159.5,-500 159.5,-500 159.5,-441 159.5,-441 159.5,-435 165.5,-429 171.5,-429 171.5,-429 279.5,-429 279.5,-429 285.5,-429 291.5,-435 291.5,-441 291.5,-441 291.5,-500 291.5,-500 291.5,-506 285.5,-512 279.5,-512\"/>\n<text text-anchor=\"middle\" x=\"225.5\" y=\"-496.8\" font-family=\"Helvetica,sans-Serif\" font-size=\"14.00\">age &lt;= 47.5</text>\n<text text-anchor=\"middle\" x=\"225.5\" y=\"-481.8\" font-family=\"Helvetica,sans-Serif\" font-size=\"14.00\">entropy = 0.747</text>\n<text text-anchor=\"middle\" x=\"225.5\" y=\"-466.8\" font-family=\"Helvetica,sans-Serif\" font-size=\"14.00\">samples = 1818</text>\n<text text-anchor=\"middle\" x=\"225.5\" y=\"-451.8\" font-family=\"Helvetica,sans-Serif\" font-size=\"14.00\">value = [1431, 387]</text>\n<text text-anchor=\"middle\" x=\"225.5\" y=\"-436.8\" font-family=\"Helvetica,sans-Serif\" font-size=\"14.00\">class = heart_no</text>\n</g>\n<!-- 1&#45;&gt;2 -->\n<g id=\"edge2\" class=\"edge\">\n<title>1&#45;&gt;2</title>\n<path fill=\"none\" stroke=\"black\" d=\"M382.9,-549.87C356.47,-536.71 326.99,-522.03 300.74,-508.96\"/>\n<polygon fill=\"black\" stroke=\"black\" points=\"302.12,-505.74 291.61,-504.41 299,-512 302.12,-505.74\"/>\n</g>\n<!-- 11 -->\n<g id=\"node12\" class=\"node\">\n<title>11</title>\n<path fill=\"#cfe7f9\" stroke=\"black\" d=\"M511,-512C511,-512 410,-512 410,-512 404,-512 398,-506 398,-500 398,-500 398,-441 398,-441 398,-435 404,-429 410,-429 410,-429 511,-429 511,-429 517,-429 523,-435 523,-441 523,-441 523,-500 523,-500 523,-506 517,-512 511,-512\"/>\n<text text-anchor=\"middle\" x=\"460.5\" y=\"-496.8\" font-family=\"Helvetica,sans-Serif\" font-size=\"14.00\">age &lt;= 56.5</text>\n<text text-anchor=\"middle\" x=\"460.5\" y=\"-481.8\" font-family=\"Helvetica,sans-Serif\" font-size=\"14.00\">entropy = 0.986</text>\n<text text-anchor=\"middle\" x=\"460.5\" y=\"-466.8\" font-family=\"Helvetica,sans-Serif\" font-size=\"14.00\">samples = 834</text>\n<text text-anchor=\"middle\" x=\"460.5\" y=\"-451.8\" font-family=\"Helvetica,sans-Serif\" font-size=\"14.00\">value = [360, 474]</text>\n<text text-anchor=\"middle\" x=\"460.5\" y=\"-436.8\" font-family=\"Helvetica,sans-Serif\" font-size=\"14.00\">class = heart_yes</text>\n</g>\n<!-- 1&#45;&gt;11 -->\n<g id=\"edge11\" class=\"edge\">\n<title>1&#45;&gt;11</title>\n<path fill=\"none\" stroke=\"black\" d=\"M460.5,-547.91C460.5,-539.65 460.5,-530.86 460.5,-522.3\"/>\n<polygon fill=\"black\" stroke=\"black\" points=\"464,-522.02 460.5,-512.02 457,-522.02 464,-522.02\"/>\n</g>\n<!-- 3 -->\n<g id=\"node4\" class=\"node\">\n<title>3</title>\n<path fill=\"#e68641\" stroke=\"black\" d=\"M118,-385.5C118,-385.5 25,-385.5 25,-385.5 19,-385.5 13,-379.5 13,-373.5 13,-373.5 13,-329.5 13,-329.5 13,-323.5 19,-317.5 25,-317.5 25,-317.5 118,-317.5 118,-317.5 124,-317.5 130,-323.5 130,-329.5 130,-329.5 130,-373.5 130,-373.5 130,-379.5 124,-385.5 118,-385.5\"/>\n<text text-anchor=\"middle\" x=\"71.5\" y=\"-370.3\" font-family=\"Helvetica,sans-Serif\" font-size=\"14.00\">entropy = 0.232</text>\n<text text-anchor=\"middle\" x=\"71.5\" y=\"-355.3\" font-family=\"Helvetica,sans-Serif\" font-size=\"14.00\">samples = 529</text>\n<text text-anchor=\"middle\" x=\"71.5\" y=\"-340.3\" font-family=\"Helvetica,sans-Serif\" font-size=\"14.00\">value = [509, 20]</text>\n<text text-anchor=\"middle\" x=\"71.5\" y=\"-325.3\" font-family=\"Helvetica,sans-Serif\" font-size=\"14.00\">class = heart_no</text>\n</g>\n<!-- 2&#45;&gt;3 -->\n<g id=\"edge3\" class=\"edge\">\n<title>2&#45;&gt;3</title>\n<path fill=\"none\" stroke=\"black\" d=\"M172.07,-428.91C156.24,-416.88 138.94,-403.73 123.22,-391.79\"/>\n<polygon fill=\"black\" stroke=\"black\" points=\"125.24,-388.93 115.16,-385.67 121,-394.5 125.24,-388.93\"/>\n</g>\n<!-- 4 -->\n<g id=\"node5\" class=\"node\">\n<title>4</title>\n<path fill=\"#efb388\" stroke=\"black\" d=\"M291,-393C291,-393 160,-393 160,-393 154,-393 148,-387 148,-381 148,-381 148,-322 148,-322 148,-316 154,-310 160,-310 160,-310 291,-310 291,-310 297,-310 303,-316 303,-322 303,-322 303,-381 303,-381 303,-387 297,-393 291,-393\"/>\n<text text-anchor=\"middle\" x=\"225.5\" y=\"-377.8\" font-family=\"Helvetica,sans-Serif\" font-size=\"14.00\">family_income &lt;= 4.88</text>\n<text text-anchor=\"middle\" x=\"225.5\" y=\"-362.8\" font-family=\"Helvetica,sans-Serif\" font-size=\"14.00\">entropy = 0.862</text>\n<text text-anchor=\"middle\" x=\"225.5\" y=\"-347.8\" font-family=\"Helvetica,sans-Serif\" font-size=\"14.00\">samples = 1289</text>\n<text text-anchor=\"middle\" x=\"225.5\" y=\"-332.8\" font-family=\"Helvetica,sans-Serif\" font-size=\"14.00\">value = [922, 367]</text>\n<text text-anchor=\"middle\" x=\"225.5\" y=\"-317.8\" font-family=\"Helvetica,sans-Serif\" font-size=\"14.00\">class = heart_no</text>\n</g>\n<!-- 2&#45;&gt;4 -->\n<g id=\"edge4\" class=\"edge\">\n<title>2&#45;&gt;4</title>\n<path fill=\"none\" stroke=\"black\" d=\"M225.5,-428.91C225.5,-420.65 225.5,-411.86 225.5,-403.3\"/>\n<polygon fill=\"black\" stroke=\"black\" points=\"229,-403.02 225.5,-393.02 222,-403.02 229,-403.02\"/>\n</g>\n<!-- 5 -->\n<g id=\"node6\" class=\"node\">\n<title>5</title>\n<path fill=\"#f3c4a3\" stroke=\"black\" d=\"M214,-274C214,-274 83,-274 83,-274 77,-274 71,-268 71,-262 71,-262 71,-203 71,-203 71,-197 77,-191 83,-191 83,-191 214,-191 214,-191 220,-191 226,-197 226,-203 226,-203 226,-262 226,-262 226,-268 220,-274 214,-274\"/>\n<text text-anchor=\"middle\" x=\"148.5\" y=\"-258.8\" font-family=\"Helvetica,sans-Serif\" font-size=\"14.00\">family_income &lt;= 2.92</text>\n<text text-anchor=\"middle\" x=\"148.5\" y=\"-243.8\" font-family=\"Helvetica,sans-Serif\" font-size=\"14.00\">entropy = 0.932</text>\n<text text-anchor=\"middle\" x=\"148.5\" y=\"-228.8\" font-family=\"Helvetica,sans-Serif\" font-size=\"14.00\">samples = 1026</text>\n<text text-anchor=\"middle\" x=\"148.5\" y=\"-213.8\" font-family=\"Helvetica,sans-Serif\" font-size=\"14.00\">value = [669, 357]</text>\n<text text-anchor=\"middle\" x=\"148.5\" y=\"-198.8\" font-family=\"Helvetica,sans-Serif\" font-size=\"14.00\">class = heart_no</text>\n</g>\n<!-- 4&#45;&gt;5 -->\n<g id=\"edge5\" class=\"edge\">\n<title>4&#45;&gt;5</title>\n<path fill=\"none\" stroke=\"black\" d=\"M198.79,-309.91C192.99,-301.1 186.8,-291.7 180.82,-282.61\"/>\n<polygon fill=\"black\" stroke=\"black\" points=\"183.59,-280.45 175.17,-274.02 177.74,-284.3 183.59,-280.45\"/>\n</g>\n<!-- 10 -->\n<g id=\"node11\" class=\"node\">\n<title>10</title>\n<path fill=\"#e68641\" stroke=\"black\" d=\"M349,-266.5C349,-266.5 256,-266.5 256,-266.5 250,-266.5 244,-260.5 244,-254.5 244,-254.5 244,-210.5 244,-210.5 244,-204.5 250,-198.5 256,-198.5 256,-198.5 349,-198.5 349,-198.5 355,-198.5 361,-204.5 361,-210.5 361,-210.5 361,-254.5 361,-254.5 361,-260.5 355,-266.5 349,-266.5\"/>\n<text text-anchor=\"middle\" x=\"302.5\" y=\"-251.3\" font-family=\"Helvetica,sans-Serif\" font-size=\"14.00\">entropy = 0.233</text>\n<text text-anchor=\"middle\" x=\"302.5\" y=\"-236.3\" font-family=\"Helvetica,sans-Serif\" font-size=\"14.00\">samples = 263</text>\n<text text-anchor=\"middle\" x=\"302.5\" y=\"-221.3\" font-family=\"Helvetica,sans-Serif\" font-size=\"14.00\">value = [253, 10]</text>\n<text text-anchor=\"middle\" x=\"302.5\" y=\"-206.3\" font-family=\"Helvetica,sans-Serif\" font-size=\"14.00\">class = heart_no</text>\n</g>\n<!-- 4&#45;&gt;10 -->\n<g id=\"edge10\" class=\"edge\">\n<title>4&#45;&gt;10</title>\n<path fill=\"none\" stroke=\"black\" d=\"M252.21,-309.91C259.62,-298.65 267.67,-286.42 275.12,-275.11\"/>\n<polygon fill=\"black\" stroke=\"black\" points=\"278.1,-276.94 280.67,-266.67 272.25,-273.1 278.1,-276.94\"/>\n</g>\n<!-- 6 -->\n<g id=\"node7\" class=\"node\">\n<title>6</title>\n<path fill=\"#f5cfb4\" stroke=\"black\" d=\"M135,-155C135,-155 12,-155 12,-155 6,-155 0,-149 0,-143 0,-143 0,-84 0,-84 0,-78 6,-72 12,-72 12,-72 135,-72 135,-72 141,-72 147,-78 147,-84 147,-84 147,-143 147,-143 147,-149 141,-155 135,-155\"/>\n<text text-anchor=\"middle\" x=\"73.5\" y=\"-139.8\" font-family=\"Helvetica,sans-Serif\" font-size=\"14.00\">diastolic_bp &lt;= 71.0</text>\n<text text-anchor=\"middle\" x=\"73.5\" y=\"-124.8\" font-family=\"Helvetica,sans-Serif\" font-size=\"14.00\">entropy = 0.96</text>\n<text text-anchor=\"middle\" x=\"73.5\" y=\"-109.8\" font-family=\"Helvetica,sans-Serif\" font-size=\"14.00\">samples = 812</text>\n<text text-anchor=\"middle\" x=\"73.5\" y=\"-94.8\" font-family=\"Helvetica,sans-Serif\" font-size=\"14.00\">value = [501.0, 311.0]</text>\n<text text-anchor=\"middle\" x=\"73.5\" y=\"-79.8\" font-family=\"Helvetica,sans-Serif\" font-size=\"14.00\">class = heart_no</text>\n</g>\n<!-- 5&#45;&gt;6 -->\n<g id=\"edge6\" class=\"edge\">\n<title>5&#45;&gt;6</title>\n<path fill=\"none\" stroke=\"black\" d=\"M122.48,-190.91C116.84,-182.1 110.81,-172.7 104.98,-163.61\"/>\n<polygon fill=\"black\" stroke=\"black\" points=\"107.82,-161.55 99.47,-155.02 101.93,-165.33 107.82,-161.55\"/>\n</g>\n<!-- 9 -->\n<g id=\"node10\" class=\"node\">\n<title>9</title>\n<path fill=\"#eca46f\" stroke=\"black\" d=\"M270,-147.5C270,-147.5 177,-147.5 177,-147.5 171,-147.5 165,-141.5 165,-135.5 165,-135.5 165,-91.5 165,-91.5 165,-85.5 171,-79.5 177,-79.5 177,-79.5 270,-79.5 270,-79.5 276,-79.5 282,-85.5 282,-91.5 282,-91.5 282,-135.5 282,-135.5 282,-141.5 276,-147.5 270,-147.5\"/>\n<text text-anchor=\"middle\" x=\"223.5\" y=\"-132.3\" font-family=\"Helvetica,sans-Serif\" font-size=\"14.00\">entropy = 0.751</text>\n<text text-anchor=\"middle\" x=\"223.5\" y=\"-117.3\" font-family=\"Helvetica,sans-Serif\" font-size=\"14.00\">samples = 214</text>\n<text text-anchor=\"middle\" x=\"223.5\" y=\"-102.3\" font-family=\"Helvetica,sans-Serif\" font-size=\"14.00\">value = [168, 46]</text>\n<text text-anchor=\"middle\" x=\"223.5\" y=\"-87.3\" font-family=\"Helvetica,sans-Serif\" font-size=\"14.00\">class = heart_no</text>\n</g>\n<!-- 5&#45;&gt;9 -->\n<g id=\"edge9\" class=\"edge\">\n<title>5&#45;&gt;9</title>\n<path fill=\"none\" stroke=\"black\" d=\"M174.52,-190.91C181.74,-179.65 189.58,-167.42 196.83,-156.11\"/>\n<polygon fill=\"black\" stroke=\"black\" points=\"199.79,-157.97 202.24,-147.67 193.9,-154.2 199.79,-157.97\"/>\n</g>\n<!-- 7 -->\n<g id=\"node8\" class=\"node\">\n<title>7</title>\n<path fill=\"#c0c0c0\" stroke=\"black\" d=\"M52.5,-36C52.5,-36 22.5,-36 22.5,-36 16.5,-36 10.5,-30 10.5,-24 10.5,-24 10.5,-12 10.5,-12 10.5,-6 16.5,0 22.5,0 22.5,0 52.5,0 52.5,0 58.5,0 64.5,-6 64.5,-12 64.5,-12 64.5,-24 64.5,-24 64.5,-30 58.5,-36 52.5,-36\"/>\n<text text-anchor=\"middle\" x=\"37.5\" y=\"-14.3\" font-family=\"Helvetica,sans-Serif\" font-size=\"14.00\">(...)</text>\n</g>\n<!-- 6&#45;&gt;7 -->\n<g id=\"edge7\" class=\"edge\">\n<title>6&#45;&gt;7</title>\n<path fill=\"none\" stroke=\"black\" d=\"M57.81,-71.76C54.46,-63.04 50.99,-54.04 47.89,-45.99\"/>\n<polygon fill=\"black\" stroke=\"black\" points=\"51.06,-44.48 44.2,-36.41 44.53,-46.99 51.06,-44.48\"/>\n</g>\n<!-- 8 -->\n<g id=\"node9\" class=\"node\">\n<title>8</title>\n<path fill=\"#c0c0c0\" stroke=\"black\" d=\"M124.5,-36C124.5,-36 94.5,-36 94.5,-36 88.5,-36 82.5,-30 82.5,-24 82.5,-24 82.5,-12 82.5,-12 82.5,-6 88.5,0 94.5,0 94.5,0 124.5,0 124.5,0 130.5,0 136.5,-6 136.5,-12 136.5,-12 136.5,-24 136.5,-24 136.5,-30 130.5,-36 124.5,-36\"/>\n<text text-anchor=\"middle\" x=\"109.5\" y=\"-14.3\" font-family=\"Helvetica,sans-Serif\" font-size=\"14.00\">(...)</text>\n</g>\n<!-- 6&#45;&gt;8 -->\n<g id=\"edge8\" class=\"edge\">\n<title>6&#45;&gt;8</title>\n<path fill=\"none\" stroke=\"black\" d=\"M89.19,-71.76C92.54,-63.04 96.01,-54.04 99.11,-45.99\"/>\n<polygon fill=\"black\" stroke=\"black\" points=\"102.47,-46.99 102.8,-36.41 95.94,-44.48 102.47,-46.99\"/>\n</g>\n<!-- 12 -->\n<g id=\"node13\" class=\"node\">\n<title>12</title>\n<path fill=\"#fae6d7\" stroke=\"black\" d=\"M434,-385.5C434,-385.5 333,-385.5 333,-385.5 327,-385.5 321,-379.5 321,-373.5 321,-373.5 321,-329.5 321,-329.5 321,-323.5 327,-317.5 333,-317.5 333,-317.5 434,-317.5 434,-317.5 440,-317.5 446,-323.5 446,-329.5 446,-329.5 446,-373.5 446,-373.5 446,-379.5 440,-385.5 434,-385.5\"/>\n<text text-anchor=\"middle\" x=\"383.5\" y=\"-370.3\" font-family=\"Helvetica,sans-Serif\" font-size=\"14.00\">entropy = 0.991</text>\n<text text-anchor=\"middle\" x=\"383.5\" y=\"-355.3\" font-family=\"Helvetica,sans-Serif\" font-size=\"14.00\">samples = 448</text>\n<text text-anchor=\"middle\" x=\"383.5\" y=\"-340.3\" font-family=\"Helvetica,sans-Serif\" font-size=\"14.00\">value = [249, 199]</text>\n<text text-anchor=\"middle\" x=\"383.5\" y=\"-325.3\" font-family=\"Helvetica,sans-Serif\" font-size=\"14.00\">class = heart_no</text>\n</g>\n<!-- 11&#45;&gt;12 -->\n<g id=\"edge12\" class=\"edge\">\n<title>11&#45;&gt;12</title>\n<path fill=\"none\" stroke=\"black\" d=\"M433.79,-428.91C426.38,-417.65 418.33,-405.42 410.88,-394.11\"/>\n<polygon fill=\"black\" stroke=\"black\" points=\"413.75,-392.1 405.33,-385.67 407.9,-395.94 413.75,-392.1\"/>\n</g>\n<!-- 13 -->\n<g id=\"node14\" class=\"node\">\n<title>13</title>\n<path fill=\"#89c5ef\" stroke=\"black\" d=\"M599,-385.5C599,-385.5 476,-385.5 476,-385.5 470,-385.5 464,-379.5 464,-373.5 464,-373.5 464,-329.5 464,-329.5 464,-323.5 470,-317.5 476,-317.5 476,-317.5 599,-317.5 599,-317.5 605,-317.5 611,-323.5 611,-329.5 611,-329.5 611,-373.5 611,-373.5 611,-379.5 605,-385.5 599,-385.5\"/>\n<text text-anchor=\"middle\" x=\"537.5\" y=\"-370.3\" font-family=\"Helvetica,sans-Serif\" font-size=\"14.00\">entropy = 0.866</text>\n<text text-anchor=\"middle\" x=\"537.5\" y=\"-355.3\" font-family=\"Helvetica,sans-Serif\" font-size=\"14.00\">samples = 386</text>\n<text text-anchor=\"middle\" x=\"537.5\" y=\"-340.3\" font-family=\"Helvetica,sans-Serif\" font-size=\"14.00\">value = [111.0, 275.0]</text>\n<text text-anchor=\"middle\" x=\"537.5\" y=\"-325.3\" font-family=\"Helvetica,sans-Serif\" font-size=\"14.00\">class = heart_yes</text>\n</g>\n<!-- 11&#45;&gt;13 -->\n<g id=\"edge13\" class=\"edge\">\n<title>11&#45;&gt;13</title>\n<path fill=\"none\" stroke=\"black\" d=\"M487.21,-428.91C494.62,-417.65 502.67,-405.42 510.12,-394.11\"/>\n<polygon fill=\"black\" stroke=\"black\" points=\"513.1,-395.94 515.67,-385.67 507.25,-392.1 513.1,-395.94\"/>\n</g>\n<!-- 15 -->\n<g id=\"node16\" class=\"node\">\n<title>15</title>\n<path fill=\"#c8e4f8\" stroke=\"black\" d=\"M827,-512C827,-512 704,-512 704,-512 698,-512 692,-506 692,-500 692,-500 692,-441 692,-441 692,-435 698,-429 704,-429 704,-429 827,-429 827,-429 833,-429 839,-435 839,-441 839,-441 839,-500 839,-500 839,-506 833,-512 827,-512\"/>\n<text text-anchor=\"middle\" x=\"765.5\" y=\"-496.8\" font-family=\"Helvetica,sans-Serif\" font-size=\"14.00\">age &lt;= 77.5</text>\n<text text-anchor=\"middle\" x=\"765.5\" y=\"-481.8\" font-family=\"Helvetica,sans-Serif\" font-size=\"14.00\">entropy = 0.981</text>\n<text text-anchor=\"middle\" x=\"765.5\" y=\"-466.8\" font-family=\"Helvetica,sans-Serif\" font-size=\"14.00\">samples = 1465</text>\n<text text-anchor=\"middle\" x=\"765.5\" y=\"-451.8\" font-family=\"Helvetica,sans-Serif\" font-size=\"14.00\">value = [614.0, 851.0]</text>\n<text text-anchor=\"middle\" x=\"765.5\" y=\"-436.8\" font-family=\"Helvetica,sans-Serif\" font-size=\"14.00\">class = heart_yes</text>\n</g>\n<!-- 14&#45;&gt;15 -->\n<g id=\"edge15\" class=\"edge\">\n<title>14&#45;&gt;15</title>\n<path fill=\"none\" stroke=\"black\" d=\"M765.5,-547.91C765.5,-539.65 765.5,-530.86 765.5,-522.3\"/>\n<polygon fill=\"black\" stroke=\"black\" points=\"769,-522.02 765.5,-512.02 762,-522.02 769,-522.02\"/>\n</g>\n<!-- 22 -->\n<g id=\"node23\" class=\"node\">\n<title>22</title>\n<path fill=\"#59ade9\" stroke=\"black\" d=\"M1084.5,-512C1084.5,-512 928.5,-512 928.5,-512 922.5,-512 916.5,-506 916.5,-500 916.5,-500 916.5,-441 916.5,-441 916.5,-435 922.5,-429 928.5,-429 928.5,-429 1084.5,-429 1084.5,-429 1090.5,-429 1096.5,-435 1096.5,-441 1096.5,-441 1096.5,-500 1096.5,-500 1096.5,-506 1090.5,-512 1084.5,-512\"/>\n<text text-anchor=\"middle\" x=\"1006.5\" y=\"-496.8\" font-family=\"Helvetica,sans-Serif\" font-size=\"14.00\">blood_cholesterol &lt;= 3.605</text>\n<text text-anchor=\"middle\" x=\"1006.5\" y=\"-481.8\" font-family=\"Helvetica,sans-Serif\" font-size=\"14.00\">entropy = 0.582</text>\n<text text-anchor=\"middle\" x=\"1006.5\" y=\"-466.8\" font-family=\"Helvetica,sans-Serif\" font-size=\"14.00\">samples = 883</text>\n<text text-anchor=\"middle\" x=\"1006.5\" y=\"-451.8\" font-family=\"Helvetica,sans-Serif\" font-size=\"14.00\">value = [123.0, 760.0]</text>\n<text text-anchor=\"middle\" x=\"1006.5\" y=\"-436.8\" font-family=\"Helvetica,sans-Serif\" font-size=\"14.00\">class = heart_yes</text>\n</g>\n<!-- 14&#45;&gt;22 -->\n<g id=\"edge22\" class=\"edge\">\n<title>14&#45;&gt;22</title>\n<path fill=\"none\" stroke=\"black\" d=\"M831.67,-556.37C856.96,-544.1 886.29,-529.86 913.61,-516.59\"/>\n<polygon fill=\"black\" stroke=\"black\" points=\"915.33,-519.65 922.8,-512.14 912.27,-513.36 915.33,-519.65\"/>\n</g>\n<!-- 16 -->\n<g id=\"node17\" class=\"node\">\n<title>16</title>\n<path fill=\"#fefcfb\" stroke=\"black\" d=\"M772,-393C772,-393 641,-393 641,-393 635,-393 629,-387 629,-381 629,-381 629,-322 629,-322 629,-316 635,-310 641,-310 641,-310 772,-310 772,-310 778,-310 784,-316 784,-322 784,-322 784,-381 784,-381 784,-387 778,-393 772,-393\"/>\n<text text-anchor=\"middle\" x=\"706.5\" y=\"-377.8\" font-family=\"Helvetica,sans-Serif\" font-size=\"14.00\">family_income &lt;= 3.84</text>\n<text text-anchor=\"middle\" x=\"706.5\" y=\"-362.8\" font-family=\"Helvetica,sans-Serif\" font-size=\"14.00\">entropy = 1.0</text>\n<text text-anchor=\"middle\" x=\"706.5\" y=\"-347.8\" font-family=\"Helvetica,sans-Serif\" font-size=\"14.00\">samples = 936</text>\n<text text-anchor=\"middle\" x=\"706.5\" y=\"-332.8\" font-family=\"Helvetica,sans-Serif\" font-size=\"14.00\">value = [473, 463]</text>\n<text text-anchor=\"middle\" x=\"706.5\" y=\"-317.8\" font-family=\"Helvetica,sans-Serif\" font-size=\"14.00\">class = heart_no</text>\n</g>\n<!-- 15&#45;&gt;16 -->\n<g id=\"edge16\" class=\"edge\">\n<title>15&#45;&gt;16</title>\n<path fill=\"none\" stroke=\"black\" d=\"M745.03,-428.91C740.68,-420.29 736.05,-411.09 731.55,-402.17\"/>\n<polygon fill=\"black\" stroke=\"black\" points=\"734.56,-400.37 726.93,-393.02 728.31,-403.53 734.56,-400.37\"/>\n</g>\n<!-- 21 -->\n<g id=\"node22\" class=\"node\">\n<title>21</title>\n<path fill=\"#81c1ee\" stroke=\"black\" d=\"M915,-385.5C915,-385.5 814,-385.5 814,-385.5 808,-385.5 802,-379.5 802,-373.5 802,-373.5 802,-329.5 802,-329.5 802,-323.5 808,-317.5 814,-317.5 814,-317.5 915,-317.5 915,-317.5 921,-317.5 927,-323.5 927,-329.5 927,-329.5 927,-373.5 927,-373.5 927,-379.5 921,-385.5 915,-385.5\"/>\n<text text-anchor=\"middle\" x=\"864.5\" y=\"-370.3\" font-family=\"Helvetica,sans-Serif\" font-size=\"14.00\">entropy = 0.836</text>\n<text text-anchor=\"middle\" x=\"864.5\" y=\"-355.3\" font-family=\"Helvetica,sans-Serif\" font-size=\"14.00\">samples = 529</text>\n<text text-anchor=\"middle\" x=\"864.5\" y=\"-340.3\" font-family=\"Helvetica,sans-Serif\" font-size=\"14.00\">value = [141, 388]</text>\n<text text-anchor=\"middle\" x=\"864.5\" y=\"-325.3\" font-family=\"Helvetica,sans-Serif\" font-size=\"14.00\">class = heart_yes</text>\n</g>\n<!-- 15&#45;&gt;21 -->\n<g id=\"edge21\" class=\"edge\">\n<title>15&#45;&gt;21</title>\n<path fill=\"none\" stroke=\"black\" d=\"M799.85,-428.91C809.56,-417.43 820.13,-404.94 829.86,-393.44\"/>\n<polygon fill=\"black\" stroke=\"black\" points=\"832.65,-395.56 836.44,-385.67 827.3,-391.04 832.65,-395.56\"/>\n</g>\n<!-- 17 -->\n<g id=\"node18\" class=\"node\">\n<title>17</title>\n<path fill=\"#dbedfa\" stroke=\"black\" d=\"M693,-274C693,-274 570,-274 570,-274 564,-274 558,-268 558,-262 558,-262 558,-203 558,-203 558,-197 564,-191 570,-191 570,-191 693,-191 693,-191 699,-191 705,-197 705,-203 705,-203 705,-262 705,-262 705,-268 699,-274 693,-274\"/>\n<text text-anchor=\"middle\" x=\"631.5\" y=\"-258.8\" font-family=\"Helvetica,sans-Serif\" font-size=\"14.00\">BMI &lt;= 16.05</text>\n<text text-anchor=\"middle\" x=\"631.5\" y=\"-243.8\" font-family=\"Helvetica,sans-Serif\" font-size=\"14.00\">entropy = 0.993</text>\n<text text-anchor=\"middle\" x=\"631.5\" y=\"-228.8\" font-family=\"Helvetica,sans-Serif\" font-size=\"14.00\">samples = 737</text>\n<text text-anchor=\"middle\" x=\"631.5\" y=\"-213.8\" font-family=\"Helvetica,sans-Serif\" font-size=\"14.00\">value = [332.0, 405.0]</text>\n<text text-anchor=\"middle\" x=\"631.5\" y=\"-198.8\" font-family=\"Helvetica,sans-Serif\" font-size=\"14.00\">class = heart_yes</text>\n</g>\n<!-- 16&#45;&gt;17 -->\n<g id=\"edge17\" class=\"edge\">\n<title>16&#45;&gt;17</title>\n<path fill=\"none\" stroke=\"black\" d=\"M680.48,-309.91C674.84,-301.1 668.81,-291.7 662.98,-282.61\"/>\n<polygon fill=\"black\" stroke=\"black\" points=\"665.82,-280.55 657.47,-274.02 659.93,-284.33 665.82,-280.55\"/>\n</g>\n<!-- 20 -->\n<g id=\"node21\" class=\"node\">\n<title>20</title>\n<path fill=\"#f0b58a\" stroke=\"black\" d=\"M828,-266.5C828,-266.5 735,-266.5 735,-266.5 729,-266.5 723,-260.5 723,-254.5 723,-254.5 723,-210.5 723,-210.5 723,-204.5 729,-198.5 735,-198.5 735,-198.5 828,-198.5 828,-198.5 834,-198.5 840,-204.5 840,-210.5 840,-210.5 840,-254.5 840,-254.5 840,-260.5 834,-266.5 828,-266.5\"/>\n<text text-anchor=\"middle\" x=\"781.5\" y=\"-251.3\" font-family=\"Helvetica,sans-Serif\" font-size=\"14.00\">entropy = 0.871</text>\n<text text-anchor=\"middle\" x=\"781.5\" y=\"-236.3\" font-family=\"Helvetica,sans-Serif\" font-size=\"14.00\">samples = 199</text>\n<text text-anchor=\"middle\" x=\"781.5\" y=\"-221.3\" font-family=\"Helvetica,sans-Serif\" font-size=\"14.00\">value = [141, 58]</text>\n<text text-anchor=\"middle\" x=\"781.5\" y=\"-206.3\" font-family=\"Helvetica,sans-Serif\" font-size=\"14.00\">class = heart_no</text>\n</g>\n<!-- 16&#45;&gt;20 -->\n<g id=\"edge20\" class=\"edge\">\n<title>16&#45;&gt;20</title>\n<path fill=\"none\" stroke=\"black\" d=\"M732.52,-309.91C739.74,-298.65 747.58,-286.42 754.83,-275.11\"/>\n<polygon fill=\"black\" stroke=\"black\" points=\"757.79,-276.97 760.24,-266.67 751.9,-273.2 757.79,-276.97\"/>\n</g>\n<!-- 18 -->\n<g id=\"node19\" class=\"node\">\n<title>18</title>\n<path fill=\"#67b4eb\" stroke=\"black\" d=\"M621.5,-147.5C621.5,-147.5 523.5,-147.5 523.5,-147.5 517.5,-147.5 511.5,-141.5 511.5,-135.5 511.5,-135.5 511.5,-91.5 511.5,-91.5 511.5,-85.5 517.5,-79.5 523.5,-79.5 523.5,-79.5 621.5,-79.5 621.5,-79.5 627.5,-79.5 633.5,-85.5 633.5,-91.5 633.5,-91.5 633.5,-135.5 633.5,-135.5 633.5,-141.5 627.5,-147.5 621.5,-147.5\"/>\n<text text-anchor=\"middle\" x=\"572.5\" y=\"-132.3\" font-family=\"Helvetica,sans-Serif\" font-size=\"14.00\">entropy = 0.701</text>\n<text text-anchor=\"middle\" x=\"572.5\" y=\"-117.3\" font-family=\"Helvetica,sans-Serif\" font-size=\"14.00\">samples = 100</text>\n<text text-anchor=\"middle\" x=\"572.5\" y=\"-102.3\" font-family=\"Helvetica,sans-Serif\" font-size=\"14.00\">value = [19, 81]</text>\n<text text-anchor=\"middle\" x=\"572.5\" y=\"-87.3\" font-family=\"Helvetica,sans-Serif\" font-size=\"14.00\">class = heart_yes</text>\n</g>\n<!-- 17&#45;&gt;18 -->\n<g id=\"edge18\" class=\"edge\">\n<title>17&#45;&gt;18</title>\n<path fill=\"none\" stroke=\"black\" d=\"M611.03,-190.91C605.47,-179.87 599.43,-167.9 593.82,-156.77\"/>\n<polygon fill=\"black\" stroke=\"black\" points=\"596.85,-155.02 589.23,-147.67 590.6,-158.17 596.85,-155.02\"/>\n</g>\n<!-- 19 -->\n<g id=\"node20\" class=\"node\">\n<title>19</title>\n<path fill=\"#f8fcfe\" stroke=\"black\" d=\"M765,-147.5C765,-147.5 664,-147.5 664,-147.5 658,-147.5 652,-141.5 652,-135.5 652,-135.5 652,-91.5 652,-91.5 652,-85.5 658,-79.5 664,-79.5 664,-79.5 765,-79.5 765,-79.5 771,-79.5 777,-85.5 777,-91.5 777,-91.5 777,-135.5 777,-135.5 777,-141.5 771,-147.5 765,-147.5\"/>\n<text text-anchor=\"middle\" x=\"714.5\" y=\"-132.3\" font-family=\"Helvetica,sans-Serif\" font-size=\"14.00\">entropy = 1.0</text>\n<text text-anchor=\"middle\" x=\"714.5\" y=\"-117.3\" font-family=\"Helvetica,sans-Serif\" font-size=\"14.00\">samples = 637</text>\n<text text-anchor=\"middle\" x=\"714.5\" y=\"-102.3\" font-family=\"Helvetica,sans-Serif\" font-size=\"14.00\">value = [313, 324]</text>\n<text text-anchor=\"middle\" x=\"714.5\" y=\"-87.3\" font-family=\"Helvetica,sans-Serif\" font-size=\"14.00\">class = heart_yes</text>\n</g>\n<!-- 17&#45;&gt;19 -->\n<g id=\"edge19\" class=\"edge\">\n<title>17&#45;&gt;19</title>\n<path fill=\"none\" stroke=\"black\" d=\"M660.3,-190.91C668.28,-179.65 676.96,-167.42 684.98,-156.11\"/>\n<polygon fill=\"black\" stroke=\"black\" points=\"688.04,-157.85 690.97,-147.67 682.33,-153.8 688.04,-157.85\"/>\n</g>\n<!-- 23 -->\n<g id=\"node24\" class=\"node\">\n<title>23</title>\n<path fill=\"#bddef6\" stroke=\"black\" d=\"M1055.5,-385.5C1055.5,-385.5 957.5,-385.5 957.5,-385.5 951.5,-385.5 945.5,-379.5 945.5,-373.5 945.5,-373.5 945.5,-329.5 945.5,-329.5 945.5,-323.5 951.5,-317.5 957.5,-317.5 957.5,-317.5 1055.5,-317.5 1055.5,-317.5 1061.5,-317.5 1067.5,-323.5 1067.5,-329.5 1067.5,-329.5 1067.5,-373.5 1067.5,-373.5 1067.5,-379.5 1061.5,-385.5 1055.5,-385.5\"/>\n<text text-anchor=\"middle\" x=\"1006.5\" y=\"-370.3\" font-family=\"Helvetica,sans-Serif\" font-size=\"14.00\">entropy = 0.971</text>\n<text text-anchor=\"middle\" x=\"1006.5\" y=\"-355.3\" font-family=\"Helvetica,sans-Serif\" font-size=\"14.00\">samples = 60</text>\n<text text-anchor=\"middle\" x=\"1006.5\" y=\"-340.3\" font-family=\"Helvetica,sans-Serif\" font-size=\"14.00\">value = [24, 36]</text>\n<text text-anchor=\"middle\" x=\"1006.5\" y=\"-325.3\" font-family=\"Helvetica,sans-Serif\" font-size=\"14.00\">class = heart_yes</text>\n</g>\n<!-- 22&#45;&gt;23 -->\n<g id=\"edge23\" class=\"edge\">\n<title>22&#45;&gt;23</title>\n<path fill=\"none\" stroke=\"black\" d=\"M1006.5,-428.91C1006.5,-418.2 1006.5,-406.62 1006.5,-395.78\"/>\n<polygon fill=\"black\" stroke=\"black\" points=\"1010,-395.67 1006.5,-385.67 1003,-395.67 1010,-395.67\"/>\n</g>\n<!-- 24 -->\n<g id=\"node25\" class=\"node\">\n<title>24</title>\n<path fill=\"#54aae9\" stroke=\"black\" d=\"M1269,-393C1269,-393 1098,-393 1098,-393 1092,-393 1086,-387 1086,-381 1086,-381 1086,-322 1086,-322 1086,-316 1092,-310 1098,-310 1098,-310 1269,-310 1269,-310 1275,-310 1281,-316 1281,-322 1281,-322 1281,-381 1281,-381 1281,-387 1275,-393 1269,-393\"/>\n<text text-anchor=\"middle\" x=\"1183.5\" y=\"-377.8\" font-family=\"Helvetica,sans-Serif\" font-size=\"14.00\">blood_pressure_sys &lt;= 135.0</text>\n<text text-anchor=\"middle\" x=\"1183.5\" y=\"-362.8\" font-family=\"Helvetica,sans-Serif\" font-size=\"14.00\">entropy = 0.53</text>\n<text text-anchor=\"middle\" x=\"1183.5\" y=\"-347.8\" font-family=\"Helvetica,sans-Serif\" font-size=\"14.00\">samples = 823</text>\n<text text-anchor=\"middle\" x=\"1183.5\" y=\"-332.8\" font-family=\"Helvetica,sans-Serif\" font-size=\"14.00\">value = [99, 724]</text>\n<text text-anchor=\"middle\" x=\"1183.5\" y=\"-317.8\" font-family=\"Helvetica,sans-Serif\" font-size=\"14.00\">class = heart_yes</text>\n</g>\n<!-- 22&#45;&gt;24 -->\n<g id=\"edge24\" class=\"edge\">\n<title>22&#45;&gt;24</title>\n<path fill=\"none\" stroke=\"black\" d=\"M1067.91,-428.91C1082.6,-419.2 1098.39,-408.76 1113.44,-398.81\"/>\n<polygon fill=\"black\" stroke=\"black\" points=\"1115.79,-401.45 1122.2,-393.02 1111.93,-395.62 1115.79,-401.45\"/>\n</g>\n<!-- 25 -->\n<g id=\"node26\" class=\"node\">\n<title>25</title>\n<path fill=\"#59ade9\" stroke=\"black\" d=\"M1166.5,-274C1166.5,-274 1052.5,-274 1052.5,-274 1046.5,-274 1040.5,-268 1040.5,-262 1040.5,-262 1040.5,-203 1040.5,-203 1040.5,-197 1046.5,-191 1052.5,-191 1052.5,-191 1166.5,-191 1166.5,-191 1172.5,-191 1178.5,-197 1178.5,-203 1178.5,-203 1178.5,-262 1178.5,-262 1178.5,-268 1172.5,-274 1166.5,-274\"/>\n<text text-anchor=\"middle\" x=\"1109.5\" y=\"-258.8\" font-family=\"Helvetica,sans-Serif\" font-size=\"14.00\">diastolic_bp &lt;= 57.0</text>\n<text text-anchor=\"middle\" x=\"1109.5\" y=\"-243.8\" font-family=\"Helvetica,sans-Serif\" font-size=\"14.00\">entropy = 0.586</text>\n<text text-anchor=\"middle\" x=\"1109.5\" y=\"-228.8\" font-family=\"Helvetica,sans-Serif\" font-size=\"14.00\">samples = 668</text>\n<text text-anchor=\"middle\" x=\"1109.5\" y=\"-213.8\" font-family=\"Helvetica,sans-Serif\" font-size=\"14.00\">value = [94, 574]</text>\n<text text-anchor=\"middle\" x=\"1109.5\" y=\"-198.8\" font-family=\"Helvetica,sans-Serif\" font-size=\"14.00\">class = heart_yes</text>\n</g>\n<!-- 24&#45;&gt;25 -->\n<g id=\"edge25\" class=\"edge\">\n<title>24&#45;&gt;25</title>\n<path fill=\"none\" stroke=\"black\" d=\"M1157.83,-309.91C1152.26,-301.1 1146.31,-291.7 1140.56,-282.61\"/>\n<polygon fill=\"black\" stroke=\"black\" points=\"1143.43,-280.6 1135.13,-274.02 1137.52,-284.34 1143.43,-280.6\"/>\n</g>\n<!-- 28 -->\n<g id=\"node29\" class=\"node\">\n<title>28</title>\n<path fill=\"#40a0e6\" stroke=\"black\" d=\"M1306.5,-266.5C1306.5,-266.5 1208.5,-266.5 1208.5,-266.5 1202.5,-266.5 1196.5,-260.5 1196.5,-254.5 1196.5,-254.5 1196.5,-210.5 1196.5,-210.5 1196.5,-204.5 1202.5,-198.5 1208.5,-198.5 1208.5,-198.5 1306.5,-198.5 1306.5,-198.5 1312.5,-198.5 1318.5,-204.5 1318.5,-210.5 1318.5,-210.5 1318.5,-254.5 1318.5,-254.5 1318.5,-260.5 1312.5,-266.5 1306.5,-266.5\"/>\n<text text-anchor=\"middle\" x=\"1257.5\" y=\"-251.3\" font-family=\"Helvetica,sans-Serif\" font-size=\"14.00\">entropy = 0.206</text>\n<text text-anchor=\"middle\" x=\"1257.5\" y=\"-236.3\" font-family=\"Helvetica,sans-Serif\" font-size=\"14.00\">samples = 155</text>\n<text text-anchor=\"middle\" x=\"1257.5\" y=\"-221.3\" font-family=\"Helvetica,sans-Serif\" font-size=\"14.00\">value = [5, 150]</text>\n<text text-anchor=\"middle\" x=\"1257.5\" y=\"-206.3\" font-family=\"Helvetica,sans-Serif\" font-size=\"14.00\">class = heart_yes</text>\n</g>\n<!-- 24&#45;&gt;28 -->\n<g id=\"edge28\" class=\"edge\">\n<title>24&#45;&gt;28</title>\n<path fill=\"none\" stroke=\"black\" d=\"M1209.17,-309.91C1216.22,-298.76 1223.88,-286.66 1230.97,-275.44\"/>\n<polygon fill=\"black\" stroke=\"black\" points=\"1234.14,-276.99 1236.52,-266.67 1228.22,-273.25 1234.14,-276.99\"/>\n</g>\n<!-- 26 -->\n<g id=\"node27\" class=\"node\">\n<title>26</title>\n<path fill=\"#9acdf2\" stroke=\"black\" d=\"M1088.5,-147.5C1088.5,-147.5 990.5,-147.5 990.5,-147.5 984.5,-147.5 978.5,-141.5 978.5,-135.5 978.5,-135.5 978.5,-91.5 978.5,-91.5 978.5,-85.5 984.5,-79.5 990.5,-79.5 990.5,-79.5 1088.5,-79.5 1088.5,-79.5 1094.5,-79.5 1100.5,-85.5 1100.5,-91.5 1100.5,-91.5 1100.5,-135.5 1100.5,-135.5 1100.5,-141.5 1094.5,-147.5 1088.5,-147.5\"/>\n<text text-anchor=\"middle\" x=\"1039.5\" y=\"-132.3\" font-family=\"Helvetica,sans-Serif\" font-size=\"14.00\">entropy = 0.914</text>\n<text text-anchor=\"middle\" x=\"1039.5\" y=\"-117.3\" font-family=\"Helvetica,sans-Serif\" font-size=\"14.00\">samples = 76</text>\n<text text-anchor=\"middle\" x=\"1039.5\" y=\"-102.3\" font-family=\"Helvetica,sans-Serif\" font-size=\"14.00\">value = [25, 51]</text>\n<text text-anchor=\"middle\" x=\"1039.5\" y=\"-87.3\" font-family=\"Helvetica,sans-Serif\" font-size=\"14.00\">class = heart_yes</text>\n</g>\n<!-- 25&#45;&gt;26 -->\n<g id=\"edge26\" class=\"edge\">\n<title>25&#45;&gt;26</title>\n<path fill=\"none\" stroke=\"black\" d=\"M1085.21,-190.91C1078.55,-179.76 1071.3,-167.66 1064.59,-156.44\"/>\n<polygon fill=\"black\" stroke=\"black\" points=\"1067.48,-154.45 1059.34,-147.67 1061.47,-158.05 1067.48,-154.45\"/>\n</g>\n<!-- 27 -->\n<g id=\"node28\" class=\"node\">\n<title>27</title>\n<path fill=\"#53aae8\" stroke=\"black\" d=\"M1228.5,-147.5C1228.5,-147.5 1130.5,-147.5 1130.5,-147.5 1124.5,-147.5 1118.5,-141.5 1118.5,-135.5 1118.5,-135.5 1118.5,-91.5 1118.5,-91.5 1118.5,-85.5 1124.5,-79.5 1130.5,-79.5 1130.5,-79.5 1228.5,-79.5 1228.5,-79.5 1234.5,-79.5 1240.5,-85.5 1240.5,-91.5 1240.5,-91.5 1240.5,-135.5 1240.5,-135.5 1240.5,-141.5 1234.5,-147.5 1228.5,-147.5\"/>\n<text text-anchor=\"middle\" x=\"1179.5\" y=\"-132.3\" font-family=\"Helvetica,sans-Serif\" font-size=\"14.00\">entropy = 0.519</text>\n<text text-anchor=\"middle\" x=\"1179.5\" y=\"-117.3\" font-family=\"Helvetica,sans-Serif\" font-size=\"14.00\">samples = 592</text>\n<text text-anchor=\"middle\" x=\"1179.5\" y=\"-102.3\" font-family=\"Helvetica,sans-Serif\" font-size=\"14.00\">value = [69, 523]</text>\n<text text-anchor=\"middle\" x=\"1179.5\" y=\"-87.3\" font-family=\"Helvetica,sans-Serif\" font-size=\"14.00\">class = heart_yes</text>\n</g>\n<!-- 25&#45;&gt;27 -->\n<g id=\"edge27\" class=\"edge\">\n<title>25&#45;&gt;27</title>\n<path fill=\"none\" stroke=\"black\" d=\"M1133.79,-190.91C1140.45,-179.76 1147.7,-167.66 1154.41,-156.44\"/>\n<polygon fill=\"black\" stroke=\"black\" points=\"1157.53,-158.05 1159.66,-147.67 1151.52,-154.45 1157.53,-158.05\"/>\n</g>\n</g>\n</svg>\n",
            "text/plain": [
              "<graphviz.sources.Source at 0x7a449ed0b3e0>"
            ]
          },
          "metadata": {}
        }
      ],
      "source": [
        "# Underfit：Need at least 100 samples to split at each node\n",
        "tree_underfit = DecisionTreeClassifier(criterion=\"entropy\", min_samples_split=650)\n",
        "tree_underfit.fit(X_train, t_train)\n",
        "\n",
        "print(\"Training Accuracy (underfit):\", tree_underfit.score(X_train, t_train))\n",
        "print(\"Validation Accuracy (underfit):\", tree_underfit.score(X_val, t_val))\n",
        "\n",
        "# visualize the tree\n",
        "visualize_tree(tree_underfit)"
      ]
    },
    {
      "cell_type": "markdown",
      "id": "wound-procedure",
      "metadata": {
        "id": "wound-procedure"
      },
      "source": [
        "**Task:** Repeat the same thing you did above. Set `min_samples_split` to a value that would cause the tree to *overfit*. Omit the `max_depth` parameter. Report the accuracy on the validation and training sets. When using `visualize_tree` to visualize the tree, you can leave the default max depth parameter as 5."
      ]
    },
    {
      "cell_type": "code",
      "execution_count": 50,
      "id": "capable-burst",
      "metadata": {
        "id": "capable-burst",
        "colab": {
          "base_uri": "https://localhost:8080/",
          "height": 1000
        },
        "outputId": "60e8c1bb-6101-468a-e0af-3566dde4a71d"
      },
      "outputs": [
        {
          "output_type": "stream",
          "name": "stdout",
          "text": [
            "Training Accuracy (overfit): 1.0\n",
            "Validation Accuracy (overfit): 0.964\n"
          ]
        },
        {
          "output_type": "display_data",
          "data": {
            "image/svg+xml": "<?xml version=\"1.0\" encoding=\"UTF-8\" standalone=\"no\"?>\n<!DOCTYPE svg PUBLIC \"-//W3C//DTD SVG 1.1//EN\"\n \"http://www.w3.org/Graphics/SVG/1.1/DTD/svg11.dtd\">\n<!-- Generated by graphviz version 2.43.0 (0)\n -->\n<!-- Title: Tree Pages: 1 -->\n<svg width=\"4340pt\" height=\"758pt\"\n viewBox=\"0.00 0.00 4340.00 758.00\" xmlns=\"http://www.w3.org/2000/svg\" xmlns:xlink=\"http://www.w3.org/1999/xlink\">\n<g id=\"graph0\" class=\"graph\" transform=\"scale(1 1) rotate(0) translate(4 754)\">\n<title>Tree</title>\n<polygon fill=\"white\" stroke=\"transparent\" points=\"-4,4 -4,-754 4336,-754 4336,4 -4,4\"/>\n<!-- 0 -->\n<g id=\"node1\" class=\"node\">\n<title>0</title>\n<path fill=\"#fefcfb\" stroke=\"black\" d=\"M2559.5,-750C2559.5,-750 2421.5,-750 2421.5,-750 2415.5,-750 2409.5,-744 2409.5,-738 2409.5,-738 2409.5,-679 2409.5,-679 2409.5,-673 2415.5,-667 2421.5,-667 2421.5,-667 2559.5,-667 2559.5,-667 2565.5,-667 2571.5,-673 2571.5,-679 2571.5,-679 2571.5,-738 2571.5,-738 2571.5,-744 2565.5,-750 2559.5,-750\"/>\n<text text-anchor=\"middle\" x=\"2490.5\" y=\"-734.8\" font-family=\"Helvetica,sans-Serif\" font-size=\"14.00\">age &lt;= 64.5</text>\n<text text-anchor=\"middle\" x=\"2490.5\" y=\"-719.8\" font-family=\"Helvetica,sans-Serif\" font-size=\"14.00\">entropy = 1.0</text>\n<text text-anchor=\"middle\" x=\"2490.5\" y=\"-704.8\" font-family=\"Helvetica,sans-Serif\" font-size=\"14.00\">samples = 5000</text>\n<text text-anchor=\"middle\" x=\"2490.5\" y=\"-689.8\" font-family=\"Helvetica,sans-Serif\" font-size=\"14.00\">value = [2528.0, 2472.0]</text>\n<text text-anchor=\"middle\" x=\"2490.5\" y=\"-674.8\" font-family=\"Helvetica,sans-Serif\" font-size=\"14.00\">class = heart_no</text>\n</g>\n<!-- 1 -->\n<g id=\"node2\" class=\"node\">\n<title>1</title>\n<path fill=\"#f1be98\" stroke=\"black\" d=\"M1745,-631C1745,-631 1614,-631 1614,-631 1608,-631 1602,-625 1602,-619 1602,-619 1602,-560 1602,-560 1602,-554 1608,-548 1614,-548 1614,-548 1745,-548 1745,-548 1751,-548 1757,-554 1757,-560 1757,-560 1757,-619 1757,-619 1757,-625 1751,-631 1745,-631\"/>\n<text text-anchor=\"middle\" x=\"1679.5\" y=\"-615.8\" font-family=\"Helvetica,sans-Serif\" font-size=\"14.00\">chest_pain &lt;= 0.5</text>\n<text text-anchor=\"middle\" x=\"1679.5\" y=\"-600.8\" font-family=\"Helvetica,sans-Serif\" font-size=\"14.00\">entropy = 0.909</text>\n<text text-anchor=\"middle\" x=\"1679.5\" y=\"-585.8\" font-family=\"Helvetica,sans-Serif\" font-size=\"14.00\">samples = 2652</text>\n<text text-anchor=\"middle\" x=\"1679.5\" y=\"-570.8\" font-family=\"Helvetica,sans-Serif\" font-size=\"14.00\">value = [1791.0, 861.0]</text>\n<text text-anchor=\"middle\" x=\"1679.5\" y=\"-555.8\" font-family=\"Helvetica,sans-Serif\" font-size=\"14.00\">class = heart_no</text>\n</g>\n<!-- 0&#45;&gt;1 -->\n<g id=\"edge1\" class=\"edge\">\n<title>0&#45;&gt;1</title>\n<path fill=\"none\" stroke=\"black\" d=\"M2409.4,-695.8C2256.21,-673.7 1925.51,-625.99 1767.3,-603.17\"/>\n<polygon fill=\"black\" stroke=\"black\" points=\"1767.53,-599.66 1757.13,-601.7 1766.53,-606.59 1767.53,-599.66\"/>\n<text text-anchor=\"middle\" x=\"1772.1\" y=\"-618.02\" font-family=\"Helvetica,sans-Serif\" font-size=\"14.00\">True</text>\n</g>\n<!-- 332 -->\n<g id=\"node53\" class=\"node\">\n<title>332</title>\n<path fill=\"#94caf1\" stroke=\"black\" d=\"M2809.5,-631C2809.5,-631 2701.5,-631 2701.5,-631 2695.5,-631 2689.5,-625 2689.5,-619 2689.5,-619 2689.5,-560 2689.5,-560 2689.5,-554 2695.5,-548 2701.5,-548 2701.5,-548 2809.5,-548 2809.5,-548 2815.5,-548 2821.5,-554 2821.5,-560 2821.5,-560 2821.5,-619 2821.5,-619 2821.5,-625 2815.5,-631 2809.5,-631\"/>\n<text text-anchor=\"middle\" x=\"2755.5\" y=\"-615.8\" font-family=\"Helvetica,sans-Serif\" font-size=\"14.00\">chest_pain &lt;= 0.5</text>\n<text text-anchor=\"middle\" x=\"2755.5\" y=\"-600.8\" font-family=\"Helvetica,sans-Serif\" font-size=\"14.00\">entropy = 0.898</text>\n<text text-anchor=\"middle\" x=\"2755.5\" y=\"-585.8\" font-family=\"Helvetica,sans-Serif\" font-size=\"14.00\">samples = 2348</text>\n<text text-anchor=\"middle\" x=\"2755.5\" y=\"-570.8\" font-family=\"Helvetica,sans-Serif\" font-size=\"14.00\">value = [737, 1611]</text>\n<text text-anchor=\"middle\" x=\"2755.5\" y=\"-555.8\" font-family=\"Helvetica,sans-Serif\" font-size=\"14.00\">class = heart_yes</text>\n</g>\n<!-- 0&#45;&gt;332 -->\n<g id=\"edge52\" class=\"edge\">\n<title>0&#45;&gt;332</title>\n<path fill=\"none\" stroke=\"black\" d=\"M2571.81,-671.6C2606.3,-656.37 2646.26,-638.73 2680.08,-623.8\"/>\n<polygon fill=\"black\" stroke=\"black\" points=\"2681.71,-626.9 2689.45,-619.66 2678.88,-620.5 2681.71,-626.9\"/>\n<text text-anchor=\"middle\" x=\"2680.41\" y=\"-639.27\" font-family=\"Helvetica,sans-Serif\" font-size=\"14.00\">False</text>\n</g>\n<!-- 2 -->\n<g id=\"node3\" class=\"node\">\n<title>2</title>\n<path fill=\"#eca36f\" stroke=\"black\" d=\"M745.5,-512C745.5,-512 637.5,-512 637.5,-512 631.5,-512 625.5,-506 625.5,-500 625.5,-500 625.5,-441 625.5,-441 625.5,-435 631.5,-429 637.5,-429 637.5,-429 745.5,-429 745.5,-429 751.5,-429 757.5,-435 757.5,-441 757.5,-441 757.5,-500 757.5,-500 757.5,-506 751.5,-512 745.5,-512\"/>\n<text text-anchor=\"middle\" x=\"691.5\" y=\"-496.8\" font-family=\"Helvetica,sans-Serif\" font-size=\"14.00\">age &lt;= 47.5</text>\n<text text-anchor=\"middle\" x=\"691.5\" y=\"-481.8\" font-family=\"Helvetica,sans-Serif\" font-size=\"14.00\">entropy = 0.747</text>\n<text text-anchor=\"middle\" x=\"691.5\" y=\"-466.8\" font-family=\"Helvetica,sans-Serif\" font-size=\"14.00\">samples = 1818</text>\n<text text-anchor=\"middle\" x=\"691.5\" y=\"-451.8\" font-family=\"Helvetica,sans-Serif\" font-size=\"14.00\">value = [1431, 387]</text>\n<text text-anchor=\"middle\" x=\"691.5\" y=\"-436.8\" font-family=\"Helvetica,sans-Serif\" font-size=\"14.00\">class = heart_no</text>\n</g>\n<!-- 1&#45;&gt;2 -->\n<g id=\"edge2\" class=\"edge\">\n<title>1&#45;&gt;2</title>\n<path fill=\"none\" stroke=\"black\" d=\"M1601.97,-579.32C1417.03,-557.42 951.7,-502.31 767.9,-480.55\"/>\n<polygon fill=\"black\" stroke=\"black\" points=\"768.12,-477.05 757.78,-479.35 767.3,-484 768.12,-477.05\"/>\n</g>\n<!-- 185 -->\n<g id=\"node26\" class=\"node\">\n<title>185</title>\n<path fill=\"#cfe7f9\" stroke=\"black\" d=\"M1730,-512C1730,-512 1629,-512 1629,-512 1623,-512 1617,-506 1617,-500 1617,-500 1617,-441 1617,-441 1617,-435 1623,-429 1629,-429 1629,-429 1730,-429 1730,-429 1736,-429 1742,-435 1742,-441 1742,-441 1742,-500 1742,-500 1742,-506 1736,-512 1730,-512\"/>\n<text text-anchor=\"middle\" x=\"1679.5\" y=\"-496.8\" font-family=\"Helvetica,sans-Serif\" font-size=\"14.00\">age &lt;= 56.5</text>\n<text text-anchor=\"middle\" x=\"1679.5\" y=\"-481.8\" font-family=\"Helvetica,sans-Serif\" font-size=\"14.00\">entropy = 0.986</text>\n<text text-anchor=\"middle\" x=\"1679.5\" y=\"-466.8\" font-family=\"Helvetica,sans-Serif\" font-size=\"14.00\">samples = 834</text>\n<text text-anchor=\"middle\" x=\"1679.5\" y=\"-451.8\" font-family=\"Helvetica,sans-Serif\" font-size=\"14.00\">value = [360, 474]</text>\n<text text-anchor=\"middle\" x=\"1679.5\" y=\"-436.8\" font-family=\"Helvetica,sans-Serif\" font-size=\"14.00\">class = heart_yes</text>\n</g>\n<!-- 1&#45;&gt;185 -->\n<g id=\"edge25\" class=\"edge\">\n<title>1&#45;&gt;185</title>\n<path fill=\"none\" stroke=\"black\" d=\"M1679.5,-547.91C1679.5,-539.65 1679.5,-530.86 1679.5,-522.3\"/>\n<polygon fill=\"black\" stroke=\"black\" points=\"1683,-522.02 1679.5,-512.02 1676,-522.02 1683,-522.02\"/>\n</g>\n<!-- 3 -->\n<g id=\"node4\" class=\"node\">\n<title>3</title>\n<path fill=\"#e68641\" stroke=\"black\" d=\"M326.5,-393C326.5,-393 200.5,-393 200.5,-393 194.5,-393 188.5,-387 188.5,-381 188.5,-381 188.5,-322 188.5,-322 188.5,-316 194.5,-310 200.5,-310 200.5,-310 326.5,-310 326.5,-310 332.5,-310 338.5,-316 338.5,-322 338.5,-322 338.5,-381 338.5,-381 338.5,-387 332.5,-393 326.5,-393\"/>\n<text text-anchor=\"middle\" x=\"263.5\" y=\"-377.8\" font-family=\"Helvetica,sans-Serif\" font-size=\"14.00\">gender_female &lt;= 0.5</text>\n<text text-anchor=\"middle\" x=\"263.5\" y=\"-362.8\" font-family=\"Helvetica,sans-Serif\" font-size=\"14.00\">entropy = 0.232</text>\n<text text-anchor=\"middle\" x=\"263.5\" y=\"-347.8\" font-family=\"Helvetica,sans-Serif\" font-size=\"14.00\">samples = 529</text>\n<text text-anchor=\"middle\" x=\"263.5\" y=\"-332.8\" font-family=\"Helvetica,sans-Serif\" font-size=\"14.00\">value = [509, 20]</text>\n<text text-anchor=\"middle\" x=\"263.5\" y=\"-317.8\" font-family=\"Helvetica,sans-Serif\" font-size=\"14.00\">class = heart_no</text>\n</g>\n<!-- 2&#45;&gt;3 -->\n<g id=\"edge3\" class=\"edge\">\n<title>2&#45;&gt;3</title>\n<path fill=\"none\" stroke=\"black\" d=\"M625.09,-451.35C550.64,-430.99 429.7,-397.93 348.43,-375.72\"/>\n<polygon fill=\"black\" stroke=\"black\" points=\"349.29,-372.32 338.72,-373.06 347.44,-379.07 349.29,-372.32\"/>\n</g>\n<!-- 28 -->\n<g id=\"node13\" class=\"node\">\n<title>28</title>\n<path fill=\"#efb388\" stroke=\"black\" d=\"M757,-393C757,-393 626,-393 626,-393 620,-393 614,-387 614,-381 614,-381 614,-322 614,-322 614,-316 620,-310 626,-310 626,-310 757,-310 757,-310 763,-310 769,-316 769,-322 769,-322 769,-381 769,-381 769,-387 763,-393 757,-393\"/>\n<text text-anchor=\"middle\" x=\"691.5\" y=\"-377.8\" font-family=\"Helvetica,sans-Serif\" font-size=\"14.00\">family_income &lt;= 4.88</text>\n<text text-anchor=\"middle\" x=\"691.5\" y=\"-362.8\" font-family=\"Helvetica,sans-Serif\" font-size=\"14.00\">entropy = 0.862</text>\n<text text-anchor=\"middle\" x=\"691.5\" y=\"-347.8\" font-family=\"Helvetica,sans-Serif\" font-size=\"14.00\">samples = 1289</text>\n<text text-anchor=\"middle\" x=\"691.5\" y=\"-332.8\" font-family=\"Helvetica,sans-Serif\" font-size=\"14.00\">value = [922, 367]</text>\n<text text-anchor=\"middle\" x=\"691.5\" y=\"-317.8\" font-family=\"Helvetica,sans-Serif\" font-size=\"14.00\">class = heart_no</text>\n</g>\n<!-- 2&#45;&gt;28 -->\n<g id=\"edge12\" class=\"edge\">\n<title>2&#45;&gt;28</title>\n<path fill=\"none\" stroke=\"black\" d=\"M691.5,-428.91C691.5,-420.65 691.5,-411.86 691.5,-403.3\"/>\n<polygon fill=\"black\" stroke=\"black\" points=\"695,-403.02 691.5,-393.02 688,-403.02 695,-403.02\"/>\n</g>\n<!-- 4 -->\n<g id=\"node5\" class=\"node\">\n<title>4</title>\n<path fill=\"#e58139\" stroke=\"black\" d=\"M143.5,-266.5C143.5,-266.5 51.5,-266.5 51.5,-266.5 45.5,-266.5 39.5,-260.5 39.5,-254.5 39.5,-254.5 39.5,-210.5 39.5,-210.5 39.5,-204.5 45.5,-198.5 51.5,-198.5 51.5,-198.5 143.5,-198.5 143.5,-198.5 149.5,-198.5 155.5,-204.5 155.5,-210.5 155.5,-210.5 155.5,-254.5 155.5,-254.5 155.5,-260.5 149.5,-266.5 143.5,-266.5\"/>\n<text text-anchor=\"middle\" x=\"97.5\" y=\"-251.3\" font-family=\"Helvetica,sans-Serif\" font-size=\"14.00\">entropy = 0.0</text>\n<text text-anchor=\"middle\" x=\"97.5\" y=\"-236.3\" font-family=\"Helvetica,sans-Serif\" font-size=\"14.00\">samples = 235</text>\n<text text-anchor=\"middle\" x=\"97.5\" y=\"-221.3\" font-family=\"Helvetica,sans-Serif\" font-size=\"14.00\">value = [235, 0]</text>\n<text text-anchor=\"middle\" x=\"97.5\" y=\"-206.3\" font-family=\"Helvetica,sans-Serif\" font-size=\"14.00\">class = heart_no</text>\n</g>\n<!-- 3&#45;&gt;4 -->\n<g id=\"edge4\" class=\"edge\">\n<title>3&#45;&gt;4</title>\n<path fill=\"none\" stroke=\"black\" d=\"M205.91,-309.91C188.69,-297.77 169.85,-284.49 152.78,-272.46\"/>\n<polygon fill=\"black\" stroke=\"black\" points=\"154.75,-269.57 144.56,-266.67 150.71,-275.29 154.75,-269.57\"/>\n</g>\n<!-- 5 -->\n<g id=\"node6\" class=\"node\">\n<title>5</title>\n<path fill=\"#e78a47\" stroke=\"black\" d=\"M341.5,-274C341.5,-274 185.5,-274 185.5,-274 179.5,-274 173.5,-268 173.5,-262 173.5,-262 173.5,-203 173.5,-203 173.5,-197 179.5,-191 185.5,-191 185.5,-191 341.5,-191 341.5,-191 347.5,-191 353.5,-197 353.5,-203 353.5,-203 353.5,-262 353.5,-262 353.5,-268 347.5,-274 341.5,-274\"/>\n<text text-anchor=\"middle\" x=\"263.5\" y=\"-258.8\" font-family=\"Helvetica,sans-Serif\" font-size=\"14.00\">blood_cholesterol &lt;= 5.315</text>\n<text text-anchor=\"middle\" x=\"263.5\" y=\"-243.8\" font-family=\"Helvetica,sans-Serif\" font-size=\"14.00\">entropy = 0.359</text>\n<text text-anchor=\"middle\" x=\"263.5\" y=\"-228.8\" font-family=\"Helvetica,sans-Serif\" font-size=\"14.00\">samples = 294</text>\n<text text-anchor=\"middle\" x=\"263.5\" y=\"-213.8\" font-family=\"Helvetica,sans-Serif\" font-size=\"14.00\">value = [274.0, 20.0]</text>\n<text text-anchor=\"middle\" x=\"263.5\" y=\"-198.8\" font-family=\"Helvetica,sans-Serif\" font-size=\"14.00\">class = heart_no</text>\n</g>\n<!-- 3&#45;&gt;5 -->\n<g id=\"edge5\" class=\"edge\">\n<title>3&#45;&gt;5</title>\n<path fill=\"none\" stroke=\"black\" d=\"M263.5,-309.91C263.5,-301.65 263.5,-292.86 263.5,-284.3\"/>\n<polygon fill=\"black\" stroke=\"black\" points=\"267,-284.02 263.5,-274.02 260,-284.02 267,-284.02\"/>\n</g>\n<!-- 6 -->\n<g id=\"node7\" class=\"node\">\n<title>6</title>\n<path fill=\"#e68540\" stroke=\"black\" d=\"M143,-155C143,-155 12,-155 12,-155 6,-155 0,-149 0,-143 0,-143 0,-84 0,-84 0,-78 6,-72 12,-72 12,-72 143,-72 143,-72 149,-72 155,-78 155,-84 155,-84 155,-143 155,-143 155,-149 149,-155 143,-155\"/>\n<text text-anchor=\"middle\" x=\"77.5\" y=\"-139.8\" font-family=\"Helvetica,sans-Serif\" font-size=\"14.00\">family_income &lt;= 0.46</text>\n<text text-anchor=\"middle\" x=\"77.5\" y=\"-124.8\" font-family=\"Helvetica,sans-Serif\" font-size=\"14.00\">entropy = 0.215</text>\n<text text-anchor=\"middle\" x=\"77.5\" y=\"-109.8\" font-family=\"Helvetica,sans-Serif\" font-size=\"14.00\">samples = 234</text>\n<text text-anchor=\"middle\" x=\"77.5\" y=\"-94.8\" font-family=\"Helvetica,sans-Serif\" font-size=\"14.00\">value = [226, 8]</text>\n<text text-anchor=\"middle\" x=\"77.5\" y=\"-79.8\" font-family=\"Helvetica,sans-Serif\" font-size=\"14.00\">class = heart_no</text>\n</g>\n<!-- 5&#45;&gt;6 -->\n<g id=\"edge6\" class=\"edge\">\n<title>5&#45;&gt;6</title>\n<path fill=\"none\" stroke=\"black\" d=\"M198.97,-190.91C183.39,-181.11 166.63,-170.56 150.68,-160.53\"/>\n<polygon fill=\"black\" stroke=\"black\" points=\"152.25,-157.38 141.92,-155.02 148.52,-163.31 152.25,-157.38\"/>\n</g>\n<!-- 17 -->\n<g id=\"node10\" class=\"node\">\n<title>17</title>\n<path fill=\"#eca06a\" stroke=\"black\" d=\"M341.5,-155C341.5,-155 185.5,-155 185.5,-155 179.5,-155 173.5,-149 173.5,-143 173.5,-143 173.5,-84 173.5,-84 173.5,-78 179.5,-72 185.5,-72 185.5,-72 341.5,-72 341.5,-72 347.5,-72 353.5,-78 353.5,-84 353.5,-84 353.5,-143 353.5,-143 353.5,-149 347.5,-155 341.5,-155\"/>\n<text text-anchor=\"middle\" x=\"263.5\" y=\"-139.8\" font-family=\"Helvetica,sans-Serif\" font-size=\"14.00\">blood_cholesterol &lt;= 5.625</text>\n<text text-anchor=\"middle\" x=\"263.5\" y=\"-124.8\" font-family=\"Helvetica,sans-Serif\" font-size=\"14.00\">entropy = 0.722</text>\n<text text-anchor=\"middle\" x=\"263.5\" y=\"-109.8\" font-family=\"Helvetica,sans-Serif\" font-size=\"14.00\">samples = 60</text>\n<text text-anchor=\"middle\" x=\"263.5\" y=\"-94.8\" font-family=\"Helvetica,sans-Serif\" font-size=\"14.00\">value = [48, 12]</text>\n<text text-anchor=\"middle\" x=\"263.5\" y=\"-79.8\" font-family=\"Helvetica,sans-Serif\" font-size=\"14.00\">class = heart_no</text>\n</g>\n<!-- 5&#45;&gt;17 -->\n<g id=\"edge9\" class=\"edge\">\n<title>5&#45;&gt;17</title>\n<path fill=\"none\" stroke=\"black\" d=\"M263.5,-190.91C263.5,-182.65 263.5,-173.86 263.5,-165.3\"/>\n<polygon fill=\"black\" stroke=\"black\" points=\"267,-165.02 263.5,-155.02 260,-165.02 267,-165.02\"/>\n</g>\n<!-- 7 -->\n<g id=\"node8\" class=\"node\">\n<title>7</title>\n<path fill=\"#c0c0c0\" stroke=\"black\" d=\"M56.5,-36C56.5,-36 26.5,-36 26.5,-36 20.5,-36 14.5,-30 14.5,-24 14.5,-24 14.5,-12 14.5,-12 14.5,-6 20.5,0 26.5,0 26.5,0 56.5,0 56.5,0 62.5,0 68.5,-6 68.5,-12 68.5,-12 68.5,-24 68.5,-24 68.5,-30 62.5,-36 56.5,-36\"/>\n<text text-anchor=\"middle\" x=\"41.5\" y=\"-14.3\" font-family=\"Helvetica,sans-Serif\" font-size=\"14.00\">(...)</text>\n</g>\n<!-- 6&#45;&gt;7 -->\n<g id=\"edge7\" class=\"edge\">\n<title>6&#45;&gt;7</title>\n<path fill=\"none\" stroke=\"black\" d=\"M61.81,-71.76C58.46,-63.04 54.99,-54.04 51.89,-45.99\"/>\n<polygon fill=\"black\" stroke=\"black\" points=\"55.06,-44.48 48.2,-36.41 48.53,-46.99 55.06,-44.48\"/>\n</g>\n<!-- 10 -->\n<g id=\"node9\" class=\"node\">\n<title>10</title>\n<path fill=\"#c0c0c0\" stroke=\"black\" d=\"M128.5,-36C128.5,-36 98.5,-36 98.5,-36 92.5,-36 86.5,-30 86.5,-24 86.5,-24 86.5,-12 86.5,-12 86.5,-6 92.5,0 98.5,0 98.5,0 128.5,0 128.5,0 134.5,0 140.5,-6 140.5,-12 140.5,-12 140.5,-24 140.5,-24 140.5,-30 134.5,-36 128.5,-36\"/>\n<text text-anchor=\"middle\" x=\"113.5\" y=\"-14.3\" font-family=\"Helvetica,sans-Serif\" font-size=\"14.00\">(...)</text>\n</g>\n<!-- 6&#45;&gt;10 -->\n<g id=\"edge8\" class=\"edge\">\n<title>6&#45;&gt;10</title>\n<path fill=\"none\" stroke=\"black\" d=\"M93.19,-71.76C96.54,-63.04 100.01,-54.04 103.11,-45.99\"/>\n<polygon fill=\"black\" stroke=\"black\" points=\"106.47,-46.99 106.8,-36.41 99.94,-44.48 106.47,-46.99\"/>\n</g>\n<!-- 18 -->\n<g id=\"node11\" class=\"node\">\n<title>18</title>\n<path fill=\"#c0c0c0\" stroke=\"black\" d=\"M242.5,-36C242.5,-36 212.5,-36 212.5,-36 206.5,-36 200.5,-30 200.5,-24 200.5,-24 200.5,-12 200.5,-12 200.5,-6 206.5,0 212.5,0 212.5,0 242.5,0 242.5,0 248.5,0 254.5,-6 254.5,-12 254.5,-12 254.5,-24 254.5,-24 254.5,-30 248.5,-36 242.5,-36\"/>\n<text text-anchor=\"middle\" x=\"227.5\" y=\"-14.3\" font-family=\"Helvetica,sans-Serif\" font-size=\"14.00\">(...)</text>\n</g>\n<!-- 17&#45;&gt;18 -->\n<g id=\"edge10\" class=\"edge\">\n<title>17&#45;&gt;18</title>\n<path fill=\"none\" stroke=\"black\" d=\"M247.81,-71.76C244.46,-63.04 240.99,-54.04 237.89,-45.99\"/>\n<polygon fill=\"black\" stroke=\"black\" points=\"241.06,-44.48 234.2,-36.41 234.53,-46.99 241.06,-44.48\"/>\n</g>\n<!-- 27 -->\n<g id=\"node12\" class=\"node\">\n<title>27</title>\n<path fill=\"#c0c0c0\" stroke=\"black\" d=\"M314.5,-36C314.5,-36 284.5,-36 284.5,-36 278.5,-36 272.5,-30 272.5,-24 272.5,-24 272.5,-12 272.5,-12 272.5,-6 278.5,0 284.5,0 284.5,0 314.5,0 314.5,0 320.5,0 326.5,-6 326.5,-12 326.5,-12 326.5,-24 326.5,-24 326.5,-30 320.5,-36 314.5,-36\"/>\n<text text-anchor=\"middle\" x=\"299.5\" y=\"-14.3\" font-family=\"Helvetica,sans-Serif\" font-size=\"14.00\">(...)</text>\n</g>\n<!-- 17&#45;&gt;27 -->\n<g id=\"edge11\" class=\"edge\">\n<title>17&#45;&gt;27</title>\n<path fill=\"none\" stroke=\"black\" d=\"M279.19,-71.76C282.54,-63.04 286.01,-54.04 289.11,-45.99\"/>\n<polygon fill=\"black\" stroke=\"black\" points=\"292.47,-46.99 292.8,-36.41 285.94,-44.48 292.47,-46.99\"/>\n</g>\n<!-- 29 -->\n<g id=\"node14\" class=\"node\">\n<title>29</title>\n<path fill=\"#f3c4a3\" stroke=\"black\" d=\"M677,-274C677,-274 546,-274 546,-274 540,-274 534,-268 534,-262 534,-262 534,-203 534,-203 534,-197 540,-191 546,-191 546,-191 677,-191 677,-191 683,-191 689,-197 689,-203 689,-203 689,-262 689,-262 689,-268 683,-274 677,-274\"/>\n<text text-anchor=\"middle\" x=\"611.5\" y=\"-258.8\" font-family=\"Helvetica,sans-Serif\" font-size=\"14.00\">family_income &lt;= 2.92</text>\n<text text-anchor=\"middle\" x=\"611.5\" y=\"-243.8\" font-family=\"Helvetica,sans-Serif\" font-size=\"14.00\">entropy = 0.932</text>\n<text text-anchor=\"middle\" x=\"611.5\" y=\"-228.8\" font-family=\"Helvetica,sans-Serif\" font-size=\"14.00\">samples = 1026</text>\n<text text-anchor=\"middle\" x=\"611.5\" y=\"-213.8\" font-family=\"Helvetica,sans-Serif\" font-size=\"14.00\">value = [669, 357]</text>\n<text text-anchor=\"middle\" x=\"611.5\" y=\"-198.8\" font-family=\"Helvetica,sans-Serif\" font-size=\"14.00\">class = heart_no</text>\n</g>\n<!-- 28&#45;&gt;29 -->\n<g id=\"edge13\" class=\"edge\">\n<title>28&#45;&gt;29</title>\n<path fill=\"none\" stroke=\"black\" d=\"M663.74,-309.91C657.66,-301.01 651.16,-291.51 644.89,-282.33\"/>\n<polygon fill=\"black\" stroke=\"black\" points=\"647.74,-280.3 639.21,-274.02 641.96,-284.25 647.74,-280.3\"/>\n</g>\n<!-- 176 -->\n<g id=\"node21\" class=\"node\">\n<title>176</title>\n<path fill=\"#e68641\" stroke=\"black\" d=\"M823.5,-274C823.5,-274 719.5,-274 719.5,-274 713.5,-274 707.5,-268 707.5,-262 707.5,-262 707.5,-203 707.5,-203 707.5,-197 713.5,-191 719.5,-191 719.5,-191 823.5,-191 823.5,-191 829.5,-191 835.5,-197 835.5,-203 835.5,-203 835.5,-262 835.5,-262 835.5,-268 829.5,-274 823.5,-274\"/>\n<text text-anchor=\"middle\" x=\"771.5\" y=\"-258.8\" font-family=\"Helvetica,sans-Serif\" font-size=\"14.00\">re_hispanic &lt;= 0.5</text>\n<text text-anchor=\"middle\" x=\"771.5\" y=\"-243.8\" font-family=\"Helvetica,sans-Serif\" font-size=\"14.00\">entropy = 0.233</text>\n<text text-anchor=\"middle\" x=\"771.5\" y=\"-228.8\" font-family=\"Helvetica,sans-Serif\" font-size=\"14.00\">samples = 263</text>\n<text text-anchor=\"middle\" x=\"771.5\" y=\"-213.8\" font-family=\"Helvetica,sans-Serif\" font-size=\"14.00\">value = [253, 10]</text>\n<text text-anchor=\"middle\" x=\"771.5\" y=\"-198.8\" font-family=\"Helvetica,sans-Serif\" font-size=\"14.00\">class = heart_no</text>\n</g>\n<!-- 28&#45;&gt;176 -->\n<g id=\"edge20\" class=\"edge\">\n<title>28&#45;&gt;176</title>\n<path fill=\"none\" stroke=\"black\" d=\"M719.26,-309.91C725.34,-301.01 731.84,-291.51 738.11,-282.33\"/>\n<polygon fill=\"black\" stroke=\"black\" points=\"741.04,-284.25 743.79,-274.02 735.26,-280.3 741.04,-284.25\"/>\n</g>\n<!-- 30 -->\n<g id=\"node15\" class=\"node\">\n<title>30</title>\n<path fill=\"#f5cfb4\" stroke=\"black\" d=\"M507,-155C507,-155 384,-155 384,-155 378,-155 372,-149 372,-143 372,-143 372,-84 372,-84 372,-78 378,-72 384,-72 384,-72 507,-72 507,-72 513,-72 519,-78 519,-84 519,-84 519,-143 519,-143 519,-149 513,-155 507,-155\"/>\n<text text-anchor=\"middle\" x=\"445.5\" y=\"-139.8\" font-family=\"Helvetica,sans-Serif\" font-size=\"14.00\">diastolic_bp &lt;= 71.0</text>\n<text text-anchor=\"middle\" x=\"445.5\" y=\"-124.8\" font-family=\"Helvetica,sans-Serif\" font-size=\"14.00\">entropy = 0.96</text>\n<text text-anchor=\"middle\" x=\"445.5\" y=\"-109.8\" font-family=\"Helvetica,sans-Serif\" font-size=\"14.00\">samples = 812</text>\n<text text-anchor=\"middle\" x=\"445.5\" y=\"-94.8\" font-family=\"Helvetica,sans-Serif\" font-size=\"14.00\">value = [501.0, 311.0]</text>\n<text text-anchor=\"middle\" x=\"445.5\" y=\"-79.8\" font-family=\"Helvetica,sans-Serif\" font-size=\"14.00\">class = heart_no</text>\n</g>\n<!-- 29&#45;&gt;30 -->\n<g id=\"edge14\" class=\"edge\">\n<title>29&#45;&gt;30</title>\n<path fill=\"none\" stroke=\"black\" d=\"M553.91,-190.91C540.13,-181.2 525.32,-170.76 511.21,-160.81\"/>\n<polygon fill=\"black\" stroke=\"black\" points=\"513.18,-157.92 502.99,-155.02 509.15,-163.64 513.18,-157.92\"/>\n</g>\n<!-- 147 -->\n<g id=\"node18\" class=\"node\">\n<title>147</title>\n<path fill=\"#eca46f\" stroke=\"black\" d=\"M680,-155C680,-155 549,-155 549,-155 543,-155 537,-149 537,-143 537,-143 537,-84 537,-84 537,-78 543,-72 549,-72 549,-72 680,-72 680,-72 686,-72 692,-78 692,-84 692,-84 692,-143 692,-143 692,-149 686,-155 680,-155\"/>\n<text text-anchor=\"middle\" x=\"614.5\" y=\"-139.8\" font-family=\"Helvetica,sans-Serif\" font-size=\"14.00\">family_income &lt;= 4.27</text>\n<text text-anchor=\"middle\" x=\"614.5\" y=\"-124.8\" font-family=\"Helvetica,sans-Serif\" font-size=\"14.00\">entropy = 0.751</text>\n<text text-anchor=\"middle\" x=\"614.5\" y=\"-109.8\" font-family=\"Helvetica,sans-Serif\" font-size=\"14.00\">samples = 214</text>\n<text text-anchor=\"middle\" x=\"614.5\" y=\"-94.8\" font-family=\"Helvetica,sans-Serif\" font-size=\"14.00\">value = [168, 46]</text>\n<text text-anchor=\"middle\" x=\"614.5\" y=\"-79.8\" font-family=\"Helvetica,sans-Serif\" font-size=\"14.00\">class = heart_no</text>\n</g>\n<!-- 29&#45;&gt;147 -->\n<g id=\"edge17\" class=\"edge\">\n<title>29&#45;&gt;147</title>\n<path fill=\"none\" stroke=\"black\" d=\"M612.54,-190.91C612.75,-182.56 612.98,-173.67 613.2,-165.02\"/>\n<polygon fill=\"black\" stroke=\"black\" points=\"616.7,-165.11 613.46,-155.02 609.71,-164.93 616.7,-165.11\"/>\n</g>\n<!-- 31 -->\n<g id=\"node16\" class=\"node\">\n<title>31</title>\n<path fill=\"#c0c0c0\" stroke=\"black\" d=\"M441.5,-36C441.5,-36 411.5,-36 411.5,-36 405.5,-36 399.5,-30 399.5,-24 399.5,-24 399.5,-12 399.5,-12 399.5,-6 405.5,0 411.5,0 411.5,0 441.5,0 441.5,0 447.5,0 453.5,-6 453.5,-12 453.5,-12 453.5,-24 453.5,-24 453.5,-30 447.5,-36 441.5,-36\"/>\n<text text-anchor=\"middle\" x=\"426.5\" y=\"-14.3\" font-family=\"Helvetica,sans-Serif\" font-size=\"14.00\">(...)</text>\n</g>\n<!-- 30&#45;&gt;31 -->\n<g id=\"edge15\" class=\"edge\">\n<title>30&#45;&gt;31</title>\n<path fill=\"none\" stroke=\"black\" d=\"M437.22,-71.76C435.47,-63.14 433.66,-54.24 432.04,-46.26\"/>\n<polygon fill=\"black\" stroke=\"black\" points=\"435.46,-45.51 430.04,-36.41 428.6,-46.9 435.46,-45.51\"/>\n</g>\n<!-- 124 -->\n<g id=\"node17\" class=\"node\">\n<title>124</title>\n<path fill=\"#c0c0c0\" stroke=\"black\" d=\"M513.5,-36C513.5,-36 483.5,-36 483.5,-36 477.5,-36 471.5,-30 471.5,-24 471.5,-24 471.5,-12 471.5,-12 471.5,-6 477.5,0 483.5,0 483.5,0 513.5,0 513.5,0 519.5,0 525.5,-6 525.5,-12 525.5,-12 525.5,-24 525.5,-24 525.5,-30 519.5,-36 513.5,-36\"/>\n<text text-anchor=\"middle\" x=\"498.5\" y=\"-14.3\" font-family=\"Helvetica,sans-Serif\" font-size=\"14.00\">(...)</text>\n</g>\n<!-- 30&#45;&gt;124 -->\n<g id=\"edge16\" class=\"edge\">\n<title>30&#45;&gt;124</title>\n<path fill=\"none\" stroke=\"black\" d=\"M468.59,-71.76C473.7,-62.75 478.98,-53.44 483.65,-45.19\"/>\n<polygon fill=\"black\" stroke=\"black\" points=\"486.75,-46.83 488.63,-36.41 480.66,-43.38 486.75,-46.83\"/>\n</g>\n<!-- 148 -->\n<g id=\"node19\" class=\"node\">\n<title>148</title>\n<path fill=\"#c0c0c0\" stroke=\"black\" d=\"M607.5,-36C607.5,-36 577.5,-36 577.5,-36 571.5,-36 565.5,-30 565.5,-24 565.5,-24 565.5,-12 565.5,-12 565.5,-6 571.5,0 577.5,0 577.5,0 607.5,0 607.5,0 613.5,0 619.5,-6 619.5,-12 619.5,-12 619.5,-24 619.5,-24 619.5,-30 613.5,-36 607.5,-36\"/>\n<text text-anchor=\"middle\" x=\"592.5\" y=\"-14.3\" font-family=\"Helvetica,sans-Serif\" font-size=\"14.00\">(...)</text>\n</g>\n<!-- 147&#45;&gt;148 -->\n<g id=\"edge18\" class=\"edge\">\n<title>147&#45;&gt;148</title>\n<path fill=\"none\" stroke=\"black\" d=\"M604.91,-71.76C602.89,-63.14 600.79,-54.24 598.91,-46.26\"/>\n<polygon fill=\"black\" stroke=\"black\" points=\"602.29,-45.34 596.6,-36.41 595.48,-46.94 602.29,-45.34\"/>\n</g>\n<!-- 163 -->\n<g id=\"node20\" class=\"node\">\n<title>163</title>\n<path fill=\"#c0c0c0\" stroke=\"black\" d=\"M679.5,-36C679.5,-36 649.5,-36 649.5,-36 643.5,-36 637.5,-30 637.5,-24 637.5,-24 637.5,-12 637.5,-12 637.5,-6 643.5,0 649.5,0 649.5,0 679.5,0 679.5,0 685.5,0 691.5,-6 691.5,-12 691.5,-12 691.5,-24 691.5,-24 691.5,-30 685.5,-36 679.5,-36\"/>\n<text text-anchor=\"middle\" x=\"664.5\" y=\"-14.3\" font-family=\"Helvetica,sans-Serif\" font-size=\"14.00\">(...)</text>\n</g>\n<!-- 147&#45;&gt;163 -->\n<g id=\"edge19\" class=\"edge\">\n<title>147&#45;&gt;163</title>\n<path fill=\"none\" stroke=\"black\" d=\"M636.29,-71.76C641.05,-62.85 645.98,-53.64 650.35,-45.46\"/>\n<polygon fill=\"black\" stroke=\"black\" points=\"653.56,-46.87 655.19,-36.41 647.39,-43.57 653.56,-46.87\"/>\n</g>\n<!-- 177 -->\n<g id=\"node22\" class=\"node\">\n<title>177</title>\n<path fill=\"#e58139\" stroke=\"black\" d=\"M814.5,-147.5C814.5,-147.5 722.5,-147.5 722.5,-147.5 716.5,-147.5 710.5,-141.5 710.5,-135.5 710.5,-135.5 710.5,-91.5 710.5,-91.5 710.5,-85.5 716.5,-79.5 722.5,-79.5 722.5,-79.5 814.5,-79.5 814.5,-79.5 820.5,-79.5 826.5,-85.5 826.5,-91.5 826.5,-91.5 826.5,-135.5 826.5,-135.5 826.5,-141.5 820.5,-147.5 814.5,-147.5\"/>\n<text text-anchor=\"middle\" x=\"768.5\" y=\"-132.3\" font-family=\"Helvetica,sans-Serif\" font-size=\"14.00\">entropy = 0.0</text>\n<text text-anchor=\"middle\" x=\"768.5\" y=\"-117.3\" font-family=\"Helvetica,sans-Serif\" font-size=\"14.00\">samples = 218</text>\n<text text-anchor=\"middle\" x=\"768.5\" y=\"-102.3\" font-family=\"Helvetica,sans-Serif\" font-size=\"14.00\">value = [218, 0]</text>\n<text text-anchor=\"middle\" x=\"768.5\" y=\"-87.3\" font-family=\"Helvetica,sans-Serif\" font-size=\"14.00\">class = heart_no</text>\n</g>\n<!-- 176&#45;&gt;177 -->\n<g id=\"edge21\" class=\"edge\">\n<title>176&#45;&gt;177</title>\n<path fill=\"none\" stroke=\"black\" d=\"M770.46,-190.91C770.18,-180.2 769.89,-168.62 769.61,-157.78\"/>\n<polygon fill=\"black\" stroke=\"black\" points=\"773.11,-157.57 769.35,-147.67 766.11,-157.75 773.11,-157.57\"/>\n</g>\n<!-- 178 -->\n<g id=\"node23\" class=\"node\">\n<title>178</title>\n<path fill=\"#eca572\" stroke=\"black\" d=\"M948.5,-155C948.5,-155 856.5,-155 856.5,-155 850.5,-155 844.5,-149 844.5,-143 844.5,-143 844.5,-84 844.5,-84 844.5,-78 850.5,-72 856.5,-72 856.5,-72 948.5,-72 948.5,-72 954.5,-72 960.5,-78 960.5,-84 960.5,-84 960.5,-143 960.5,-143 960.5,-149 954.5,-155 948.5,-155\"/>\n<text text-anchor=\"middle\" x=\"902.5\" y=\"-139.8\" font-family=\"Helvetica,sans-Serif\" font-size=\"14.00\">age &lt;= 48.5</text>\n<text text-anchor=\"middle\" x=\"902.5\" y=\"-124.8\" font-family=\"Helvetica,sans-Serif\" font-size=\"14.00\">entropy = 0.764</text>\n<text text-anchor=\"middle\" x=\"902.5\" y=\"-109.8\" font-family=\"Helvetica,sans-Serif\" font-size=\"14.00\">samples = 45</text>\n<text text-anchor=\"middle\" x=\"902.5\" y=\"-94.8\" font-family=\"Helvetica,sans-Serif\" font-size=\"14.00\">value = [35, 10]</text>\n<text text-anchor=\"middle\" x=\"902.5\" y=\"-79.8\" font-family=\"Helvetica,sans-Serif\" font-size=\"14.00\">class = heart_no</text>\n</g>\n<!-- 176&#45;&gt;178 -->\n<g id=\"edge22\" class=\"edge\">\n<title>176&#45;&gt;178</title>\n<path fill=\"none\" stroke=\"black\" d=\"M816.95,-190.91C827.42,-181.56 838.64,-171.54 849.4,-161.93\"/>\n<polygon fill=\"black\" stroke=\"black\" points=\"852,-164.29 857.13,-155.02 847.34,-159.07 852,-164.29\"/>\n</g>\n<!-- 179 -->\n<g id=\"node24\" class=\"node\">\n<title>179</title>\n<path fill=\"#c0c0c0\" stroke=\"black\" d=\"M857.5,-36C857.5,-36 827.5,-36 827.5,-36 821.5,-36 815.5,-30 815.5,-24 815.5,-24 815.5,-12 815.5,-12 815.5,-6 821.5,0 827.5,0 827.5,0 857.5,0 857.5,0 863.5,0 869.5,-6 869.5,-12 869.5,-12 869.5,-24 869.5,-24 869.5,-30 863.5,-36 857.5,-36\"/>\n<text text-anchor=\"middle\" x=\"842.5\" y=\"-14.3\" font-family=\"Helvetica,sans-Serif\" font-size=\"14.00\">(...)</text>\n</g>\n<!-- 178&#45;&gt;179 -->\n<g id=\"edge23\" class=\"edge\">\n<title>178&#45;&gt;179</title>\n<path fill=\"none\" stroke=\"black\" d=\"M876.36,-71.76C870.51,-62.65 864.47,-53.24 859.14,-44.92\"/>\n<polygon fill=\"black\" stroke=\"black\" points=\"862.02,-42.93 853.67,-36.41 856.12,-46.71 862.02,-42.93\"/>\n</g>\n<!-- 180 -->\n<g id=\"node25\" class=\"node\">\n<title>180</title>\n<path fill=\"#c0c0c0\" stroke=\"black\" d=\"M929.5,-36C929.5,-36 899.5,-36 899.5,-36 893.5,-36 887.5,-30 887.5,-24 887.5,-24 887.5,-12 887.5,-12 887.5,-6 893.5,0 899.5,0 899.5,0 929.5,0 929.5,0 935.5,0 941.5,-6 941.5,-12 941.5,-12 941.5,-24 941.5,-24 941.5,-30 935.5,-36 929.5,-36\"/>\n<text text-anchor=\"middle\" x=\"914.5\" y=\"-14.3\" font-family=\"Helvetica,sans-Serif\" font-size=\"14.00\">(...)</text>\n</g>\n<!-- 178&#45;&gt;180 -->\n<g id=\"edge24\" class=\"edge\">\n<title>178&#45;&gt;180</title>\n<path fill=\"none\" stroke=\"black\" d=\"M907.73,-71.76C908.82,-63.24 909.95,-54.44 910.97,-46.53\"/>\n<polygon fill=\"black\" stroke=\"black\" points=\"914.46,-46.77 912.27,-36.41 907.52,-45.88 914.46,-46.77\"/>\n</g>\n<!-- 186 -->\n<g id=\"node27\" class=\"node\">\n<title>186</title>\n<path fill=\"#fae6d7\" stroke=\"black\" d=\"M1496,-393C1496,-393 1365,-393 1365,-393 1359,-393 1353,-387 1353,-381 1353,-381 1353,-322 1353,-322 1353,-316 1359,-310 1365,-310 1365,-310 1496,-310 1496,-310 1502,-310 1508,-316 1508,-322 1508,-322 1508,-381 1508,-381 1508,-387 1502,-393 1496,-393\"/>\n<text text-anchor=\"middle\" x=\"1430.5\" y=\"-377.8\" font-family=\"Helvetica,sans-Serif\" font-size=\"14.00\">family_income &lt;= 4.17</text>\n<text text-anchor=\"middle\" x=\"1430.5\" y=\"-362.8\" font-family=\"Helvetica,sans-Serif\" font-size=\"14.00\">entropy = 0.991</text>\n<text text-anchor=\"middle\" x=\"1430.5\" y=\"-347.8\" font-family=\"Helvetica,sans-Serif\" font-size=\"14.00\">samples = 448</text>\n<text text-anchor=\"middle\" x=\"1430.5\" y=\"-332.8\" font-family=\"Helvetica,sans-Serif\" font-size=\"14.00\">value = [249, 199]</text>\n<text text-anchor=\"middle\" x=\"1430.5\" y=\"-317.8\" font-family=\"Helvetica,sans-Serif\" font-size=\"14.00\">class = heart_no</text>\n</g>\n<!-- 185&#45;&gt;186 -->\n<g id=\"edge26\" class=\"edge\">\n<title>185&#45;&gt;186</title>\n<path fill=\"none\" stroke=\"black\" d=\"M1616.99,-440.13C1586.83,-425.96 1550.17,-408.73 1517.35,-393.31\"/>\n<polygon fill=\"black\" stroke=\"black\" points=\"1518.74,-390.1 1508.2,-389.01 1515.77,-396.43 1518.74,-390.1\"/>\n</g>\n<!-- 265 -->\n<g id=\"node40\" class=\"node\">\n<title>265</title>\n<path fill=\"#89c5ef\" stroke=\"black\" d=\"M1832,-393C1832,-393 1709,-393 1709,-393 1703,-393 1697,-387 1697,-381 1697,-381 1697,-322 1697,-322 1697,-316 1703,-310 1709,-310 1709,-310 1832,-310 1832,-310 1838,-310 1844,-316 1844,-322 1844,-322 1844,-381 1844,-381 1844,-387 1838,-393 1832,-393\"/>\n<text text-anchor=\"middle\" x=\"1770.5\" y=\"-377.8\" font-family=\"Helvetica,sans-Serif\" font-size=\"14.00\">age &lt;= 58.5</text>\n<text text-anchor=\"middle\" x=\"1770.5\" y=\"-362.8\" font-family=\"Helvetica,sans-Serif\" font-size=\"14.00\">entropy = 0.866</text>\n<text text-anchor=\"middle\" x=\"1770.5\" y=\"-347.8\" font-family=\"Helvetica,sans-Serif\" font-size=\"14.00\">samples = 386</text>\n<text text-anchor=\"middle\" x=\"1770.5\" y=\"-332.8\" font-family=\"Helvetica,sans-Serif\" font-size=\"14.00\">value = [111.0, 275.0]</text>\n<text text-anchor=\"middle\" x=\"1770.5\" y=\"-317.8\" font-family=\"Helvetica,sans-Serif\" font-size=\"14.00\">class = heart_yes</text>\n</g>\n<!-- 185&#45;&gt;265 -->\n<g id=\"edge39\" class=\"edge\">\n<title>185&#45;&gt;265</title>\n<path fill=\"none\" stroke=\"black\" d=\"M1711.07,-428.91C1718.06,-419.92 1725.53,-410.32 1732.74,-401.05\"/>\n<polygon fill=\"black\" stroke=\"black\" points=\"1735.61,-403.06 1738.98,-393.02 1730.08,-398.77 1735.61,-403.06\"/>\n</g>\n<!-- 187 -->\n<g id=\"node28\" class=\"node\">\n<title>187</title>\n<path fill=\"#f9fcfe\" stroke=\"black\" d=\"M1250,-274C1250,-274 1149,-274 1149,-274 1143,-274 1137,-268 1137,-262 1137,-262 1137,-203 1137,-203 1137,-197 1143,-191 1149,-191 1149,-191 1250,-191 1250,-191 1256,-191 1262,-197 1262,-203 1262,-203 1262,-262 1262,-262 1262,-268 1256,-274 1250,-274\"/>\n<text text-anchor=\"middle\" x=\"1199.5\" y=\"-258.8\" font-family=\"Helvetica,sans-Serif\" font-size=\"14.00\">age &lt;= 42.5</text>\n<text text-anchor=\"middle\" x=\"1199.5\" y=\"-243.8\" font-family=\"Helvetica,sans-Serif\" font-size=\"14.00\">entropy = 1.0</text>\n<text text-anchor=\"middle\" x=\"1199.5\" y=\"-228.8\" font-family=\"Helvetica,sans-Serif\" font-size=\"14.00\">samples = 380</text>\n<text text-anchor=\"middle\" x=\"1199.5\" y=\"-213.8\" font-family=\"Helvetica,sans-Serif\" font-size=\"14.00\">value = [187, 193]</text>\n<text text-anchor=\"middle\" x=\"1199.5\" y=\"-198.8\" font-family=\"Helvetica,sans-Serif\" font-size=\"14.00\">class = heart_yes</text>\n</g>\n<!-- 186&#45;&gt;187 -->\n<g id=\"edge27\" class=\"edge\">\n<title>186&#45;&gt;187</title>\n<path fill=\"none\" stroke=\"black\" d=\"M1352.94,-311.22C1326.56,-297.85 1297.21,-282.99 1271.3,-269.86\"/>\n<polygon fill=\"black\" stroke=\"black\" points=\"1272.79,-266.7 1262.29,-265.3 1269.63,-272.94 1272.79,-266.7\"/>\n</g>\n<!-- 258 -->\n<g id=\"node35\" class=\"node\">\n<title>258</title>\n<path fill=\"#e88d4c\" stroke=\"black\" d=\"M1476.5,-274C1476.5,-274 1384.5,-274 1384.5,-274 1378.5,-274 1372.5,-268 1372.5,-262 1372.5,-262 1372.5,-203 1372.5,-203 1372.5,-197 1378.5,-191 1384.5,-191 1384.5,-191 1476.5,-191 1476.5,-191 1482.5,-191 1488.5,-197 1488.5,-203 1488.5,-203 1488.5,-262 1488.5,-262 1488.5,-268 1482.5,-274 1476.5,-274\"/>\n<text text-anchor=\"middle\" x=\"1430.5\" y=\"-258.8\" font-family=\"Helvetica,sans-Serif\" font-size=\"14.00\">BMI &lt;= 41.25</text>\n<text text-anchor=\"middle\" x=\"1430.5\" y=\"-243.8\" font-family=\"Helvetica,sans-Serif\" font-size=\"14.00\">entropy = 0.431</text>\n<text text-anchor=\"middle\" x=\"1430.5\" y=\"-228.8\" font-family=\"Helvetica,sans-Serif\" font-size=\"14.00\">samples = 68</text>\n<text text-anchor=\"middle\" x=\"1430.5\" y=\"-213.8\" font-family=\"Helvetica,sans-Serif\" font-size=\"14.00\">value = [62, 6]</text>\n<text text-anchor=\"middle\" x=\"1430.5\" y=\"-198.8\" font-family=\"Helvetica,sans-Serif\" font-size=\"14.00\">class = heart_no</text>\n</g>\n<!-- 186&#45;&gt;258 -->\n<g id=\"edge34\" class=\"edge\">\n<title>186&#45;&gt;258</title>\n<path fill=\"none\" stroke=\"black\" d=\"M1430.5,-309.91C1430.5,-301.65 1430.5,-292.86 1430.5,-284.3\"/>\n<polygon fill=\"black\" stroke=\"black\" points=\"1434,-284.02 1430.5,-274.02 1427,-284.02 1434,-284.02\"/>\n</g>\n<!-- 188 -->\n<g id=\"node29\" class=\"node\">\n<title>188</title>\n<path fill=\"#e78c49\" stroke=\"black\" d=\"M1082.5,-155C1082.5,-155 990.5,-155 990.5,-155 984.5,-155 978.5,-149 978.5,-143 978.5,-143 978.5,-84 978.5,-84 978.5,-78 984.5,-72 990.5,-72 990.5,-72 1082.5,-72 1082.5,-72 1088.5,-72 1094.5,-78 1094.5,-84 1094.5,-84 1094.5,-143 1094.5,-143 1094.5,-149 1088.5,-155 1082.5,-155\"/>\n<text text-anchor=\"middle\" x=\"1036.5\" y=\"-139.8\" font-family=\"Helvetica,sans-Serif\" font-size=\"14.00\">BMI &lt;= 17.05</text>\n<text text-anchor=\"middle\" x=\"1036.5\" y=\"-124.8\" font-family=\"Helvetica,sans-Serif\" font-size=\"14.00\">entropy = 0.391</text>\n<text text-anchor=\"middle\" x=\"1036.5\" y=\"-109.8\" font-family=\"Helvetica,sans-Serif\" font-size=\"14.00\">samples = 39</text>\n<text text-anchor=\"middle\" x=\"1036.5\" y=\"-94.8\" font-family=\"Helvetica,sans-Serif\" font-size=\"14.00\">value = [36, 3]</text>\n<text text-anchor=\"middle\" x=\"1036.5\" y=\"-79.8\" font-family=\"Helvetica,sans-Serif\" font-size=\"14.00\">class = heart_no</text>\n</g>\n<!-- 187&#45;&gt;188 -->\n<g id=\"edge28\" class=\"edge\">\n<title>187&#45;&gt;188</title>\n<path fill=\"none\" stroke=\"black\" d=\"M1142.95,-190.91C1129.55,-181.29 1115.15,-170.95 1101.41,-161.09\"/>\n<polygon fill=\"black\" stroke=\"black\" points=\"1103.12,-158.01 1092.95,-155.02 1099.03,-163.7 1103.12,-158.01\"/>\n</g>\n<!-- 193 -->\n<g id=\"node32\" class=\"node\">\n<title>193</title>\n<path fill=\"#d6ebfa\" stroke=\"black\" d=\"M1274,-155C1274,-155 1125,-155 1125,-155 1119,-155 1113,-149 1113,-143 1113,-143 1113,-84 1113,-84 1113,-78 1119,-72 1125,-72 1125,-72 1274,-72 1274,-72 1280,-72 1286,-78 1286,-84 1286,-84 1286,-143 1286,-143 1286,-149 1280,-155 1274,-155\"/>\n<text text-anchor=\"middle\" x=\"1199.5\" y=\"-139.8\" font-family=\"Helvetica,sans-Serif\" font-size=\"14.00\">blood_cholesterol &lt;= 3.79</text>\n<text text-anchor=\"middle\" x=\"1199.5\" y=\"-124.8\" font-family=\"Helvetica,sans-Serif\" font-size=\"14.00\">entropy = 0.991</text>\n<text text-anchor=\"middle\" x=\"1199.5\" y=\"-109.8\" font-family=\"Helvetica,sans-Serif\" font-size=\"14.00\">samples = 341</text>\n<text text-anchor=\"middle\" x=\"1199.5\" y=\"-94.8\" font-family=\"Helvetica,sans-Serif\" font-size=\"14.00\">value = [151.0, 190.0]</text>\n<text text-anchor=\"middle\" x=\"1199.5\" y=\"-79.8\" font-family=\"Helvetica,sans-Serif\" font-size=\"14.00\">class = heart_yes</text>\n</g>\n<!-- 187&#45;&gt;193 -->\n<g id=\"edge31\" class=\"edge\">\n<title>187&#45;&gt;193</title>\n<path fill=\"none\" stroke=\"black\" d=\"M1199.5,-190.91C1199.5,-182.65 1199.5,-173.86 1199.5,-165.3\"/>\n<polygon fill=\"black\" stroke=\"black\" points=\"1203,-165.02 1199.5,-155.02 1196,-165.02 1203,-165.02\"/>\n</g>\n<!-- 189 -->\n<g id=\"node30\" class=\"node\">\n<title>189</title>\n<path fill=\"#c0c0c0\" stroke=\"black\" d=\"M1005.5,-36C1005.5,-36 975.5,-36 975.5,-36 969.5,-36 963.5,-30 963.5,-24 963.5,-24 963.5,-12 963.5,-12 963.5,-6 969.5,0 975.5,0 975.5,0 1005.5,0 1005.5,0 1011.5,0 1017.5,-6 1017.5,-12 1017.5,-12 1017.5,-24 1017.5,-24 1017.5,-30 1011.5,-36 1005.5,-36\"/>\n<text text-anchor=\"middle\" x=\"990.5\" y=\"-14.3\" font-family=\"Helvetica,sans-Serif\" font-size=\"14.00\">(...)</text>\n</g>\n<!-- 188&#45;&gt;189 -->\n<g id=\"edge29\" class=\"edge\">\n<title>188&#45;&gt;189</title>\n<path fill=\"none\" stroke=\"black\" d=\"M1016.46,-71.76C1012.07,-62.85 1007.54,-53.64 1003.52,-45.46\"/>\n<polygon fill=\"black\" stroke=\"black\" points=\"1006.62,-43.83 999.06,-36.41 1000.34,-46.92 1006.62,-43.83\"/>\n</g>\n<!-- 192 -->\n<g id=\"node31\" class=\"node\">\n<title>192</title>\n<path fill=\"#c0c0c0\" stroke=\"black\" d=\"M1077.5,-36C1077.5,-36 1047.5,-36 1047.5,-36 1041.5,-36 1035.5,-30 1035.5,-24 1035.5,-24 1035.5,-12 1035.5,-12 1035.5,-6 1041.5,0 1047.5,0 1047.5,0 1077.5,0 1077.5,0 1083.5,0 1089.5,-6 1089.5,-12 1089.5,-12 1089.5,-24 1089.5,-24 1089.5,-30 1083.5,-36 1077.5,-36\"/>\n<text text-anchor=\"middle\" x=\"1062.5\" y=\"-14.3\" font-family=\"Helvetica,sans-Serif\" font-size=\"14.00\">(...)</text>\n</g>\n<!-- 188&#45;&gt;192 -->\n<g id=\"edge30\" class=\"edge\">\n<title>188&#45;&gt;192</title>\n<path fill=\"none\" stroke=\"black\" d=\"M1047.83,-71.76C1050.23,-63.14 1052.7,-54.24 1054.92,-46.26\"/>\n<polygon fill=\"black\" stroke=\"black\" points=\"1058.35,-46.98 1057.66,-36.41 1051.61,-45.1 1058.35,-46.98\"/>\n</g>\n<!-- 194 -->\n<g id=\"node33\" class=\"node\">\n<title>194</title>\n<path fill=\"#c0c0c0\" stroke=\"black\" d=\"M1151.5,-36C1151.5,-36 1121.5,-36 1121.5,-36 1115.5,-36 1109.5,-30 1109.5,-24 1109.5,-24 1109.5,-12 1109.5,-12 1109.5,-6 1115.5,0 1121.5,0 1121.5,0 1151.5,0 1151.5,0 1157.5,0 1163.5,-6 1163.5,-12 1163.5,-12 1163.5,-24 1163.5,-24 1163.5,-30 1157.5,-36 1151.5,-36\"/>\n<text text-anchor=\"middle\" x=\"1136.5\" y=\"-14.3\" font-family=\"Helvetica,sans-Serif\" font-size=\"14.00\">(...)</text>\n</g>\n<!-- 193&#45;&gt;194 -->\n<g id=\"edge32\" class=\"edge\">\n<title>193&#45;&gt;194</title>\n<path fill=\"none\" stroke=\"black\" d=\"M1172.05,-71.76C1165.91,-62.65 1159.57,-53.24 1153.97,-44.92\"/>\n<polygon fill=\"black\" stroke=\"black\" points=\"1156.72,-42.74 1148.23,-36.41 1150.91,-46.65 1156.72,-42.74\"/>\n</g>\n<!-- 209 -->\n<g id=\"node34\" class=\"node\">\n<title>209</title>\n<path fill=\"#c0c0c0\" stroke=\"black\" d=\"M1223.5,-36C1223.5,-36 1193.5,-36 1193.5,-36 1187.5,-36 1181.5,-30 1181.5,-24 1181.5,-24 1181.5,-12 1181.5,-12 1181.5,-6 1187.5,0 1193.5,0 1193.5,0 1223.5,0 1223.5,0 1229.5,0 1235.5,-6 1235.5,-12 1235.5,-12 1235.5,-24 1235.5,-24 1235.5,-30 1229.5,-36 1223.5,-36\"/>\n<text text-anchor=\"middle\" x=\"1208.5\" y=\"-14.3\" font-family=\"Helvetica,sans-Serif\" font-size=\"14.00\">(...)</text>\n</g>\n<!-- 193&#45;&gt;209 -->\n<g id=\"edge33\" class=\"edge\">\n<title>193&#45;&gt;209</title>\n<path fill=\"none\" stroke=\"black\" d=\"M1203.42,-71.76C1204.24,-63.24 1205.09,-54.44 1205.85,-46.53\"/>\n<polygon fill=\"black\" stroke=\"black\" points=\"1209.35,-46.69 1206.82,-36.41 1202.38,-46.02 1209.35,-46.69\"/>\n</g>\n<!-- 259 -->\n<g id=\"node36\" class=\"node\">\n<title>259</title>\n<path fill=\"#e6853f\" stroke=\"black\" d=\"M1408.5,-155C1408.5,-155 1316.5,-155 1316.5,-155 1310.5,-155 1304.5,-149 1304.5,-143 1304.5,-143 1304.5,-84 1304.5,-84 1304.5,-78 1310.5,-72 1316.5,-72 1316.5,-72 1408.5,-72 1408.5,-72 1414.5,-72 1420.5,-78 1420.5,-84 1420.5,-84 1420.5,-143 1420.5,-143 1420.5,-149 1414.5,-155 1408.5,-155\"/>\n<text text-anchor=\"middle\" x=\"1362.5\" y=\"-139.8\" font-family=\"Helvetica,sans-Serif\" font-size=\"14.00\">BMI &lt;= 19.95</text>\n<text text-anchor=\"middle\" x=\"1362.5\" y=\"-124.8\" font-family=\"Helvetica,sans-Serif\" font-size=\"14.00\">entropy = 0.201</text>\n<text text-anchor=\"middle\" x=\"1362.5\" y=\"-109.8\" font-family=\"Helvetica,sans-Serif\" font-size=\"14.00\">samples = 64</text>\n<text text-anchor=\"middle\" x=\"1362.5\" y=\"-94.8\" font-family=\"Helvetica,sans-Serif\" font-size=\"14.00\">value = [62, 2]</text>\n<text text-anchor=\"middle\" x=\"1362.5\" y=\"-79.8\" font-family=\"Helvetica,sans-Serif\" font-size=\"14.00\">class = heart_no</text>\n</g>\n<!-- 258&#45;&gt;259 -->\n<g id=\"edge35\" class=\"edge\">\n<title>258&#45;&gt;259</title>\n<path fill=\"none\" stroke=\"black\" d=\"M1406.91,-190.91C1401.84,-182.2 1396.44,-172.9 1391.21,-163.89\"/>\n<polygon fill=\"black\" stroke=\"black\" points=\"1394.1,-161.91 1386.05,-155.02 1388.05,-165.43 1394.1,-161.91\"/>\n</g>\n<!-- 264 -->\n<g id=\"node39\" class=\"node\">\n<title>264</title>\n<path fill=\"#399de5\" stroke=\"black\" d=\"M1548.5,-147.5C1548.5,-147.5 1450.5,-147.5 1450.5,-147.5 1444.5,-147.5 1438.5,-141.5 1438.5,-135.5 1438.5,-135.5 1438.5,-91.5 1438.5,-91.5 1438.5,-85.5 1444.5,-79.5 1450.5,-79.5 1450.5,-79.5 1548.5,-79.5 1548.5,-79.5 1554.5,-79.5 1560.5,-85.5 1560.5,-91.5 1560.5,-91.5 1560.5,-135.5 1560.5,-135.5 1560.5,-141.5 1554.5,-147.5 1548.5,-147.5\"/>\n<text text-anchor=\"middle\" x=\"1499.5\" y=\"-132.3\" font-family=\"Helvetica,sans-Serif\" font-size=\"14.00\">entropy = 0.0</text>\n<text text-anchor=\"middle\" x=\"1499.5\" y=\"-117.3\" font-family=\"Helvetica,sans-Serif\" font-size=\"14.00\">samples = 4</text>\n<text text-anchor=\"middle\" x=\"1499.5\" y=\"-102.3\" font-family=\"Helvetica,sans-Serif\" font-size=\"14.00\">value = [0, 4]</text>\n<text text-anchor=\"middle\" x=\"1499.5\" y=\"-87.3\" font-family=\"Helvetica,sans-Serif\" font-size=\"14.00\">class = heart_yes</text>\n</g>\n<!-- 258&#45;&gt;264 -->\n<g id=\"edge38\" class=\"edge\">\n<title>258&#45;&gt;264</title>\n<path fill=\"none\" stroke=\"black\" d=\"M1454.44,-190.91C1461.01,-179.76 1468.15,-167.66 1474.77,-156.44\"/>\n<polygon fill=\"black\" stroke=\"black\" points=\"1477.87,-158.06 1479.94,-147.67 1471.85,-154.5 1477.87,-158.06\"/>\n</g>\n<!-- 260 -->\n<g id=\"node37\" class=\"node\">\n<title>260</title>\n<path fill=\"#c0c0c0\" stroke=\"black\" d=\"M1341.5,-36C1341.5,-36 1311.5,-36 1311.5,-36 1305.5,-36 1299.5,-30 1299.5,-24 1299.5,-24 1299.5,-12 1299.5,-12 1299.5,-6 1305.5,0 1311.5,0 1311.5,0 1341.5,0 1341.5,0 1347.5,0 1353.5,-6 1353.5,-12 1353.5,-12 1353.5,-24 1353.5,-24 1353.5,-30 1347.5,-36 1341.5,-36\"/>\n<text text-anchor=\"middle\" x=\"1326.5\" y=\"-14.3\" font-family=\"Helvetica,sans-Serif\" font-size=\"14.00\">(...)</text>\n</g>\n<!-- 259&#45;&gt;260 -->\n<g id=\"edge36\" class=\"edge\">\n<title>259&#45;&gt;260</title>\n<path fill=\"none\" stroke=\"black\" d=\"M1346.81,-71.76C1343.46,-63.04 1339.99,-54.04 1336.89,-45.99\"/>\n<polygon fill=\"black\" stroke=\"black\" points=\"1340.06,-44.48 1333.2,-36.41 1333.53,-46.99 1340.06,-44.48\"/>\n</g>\n<!-- 263 -->\n<g id=\"node38\" class=\"node\">\n<title>263</title>\n<path fill=\"#c0c0c0\" stroke=\"black\" d=\"M1413.5,-36C1413.5,-36 1383.5,-36 1383.5,-36 1377.5,-36 1371.5,-30 1371.5,-24 1371.5,-24 1371.5,-12 1371.5,-12 1371.5,-6 1377.5,0 1383.5,0 1383.5,0 1413.5,0 1413.5,0 1419.5,0 1425.5,-6 1425.5,-12 1425.5,-12 1425.5,-24 1425.5,-24 1425.5,-30 1419.5,-36 1413.5,-36\"/>\n<text text-anchor=\"middle\" x=\"1398.5\" y=\"-14.3\" font-family=\"Helvetica,sans-Serif\" font-size=\"14.00\">(...)</text>\n</g>\n<!-- 259&#45;&gt;263 -->\n<g id=\"edge37\" class=\"edge\">\n<title>259&#45;&gt;263</title>\n<path fill=\"none\" stroke=\"black\" d=\"M1378.19,-71.76C1381.54,-63.04 1385.01,-54.04 1388.11,-45.99\"/>\n<polygon fill=\"black\" stroke=\"black\" points=\"1391.47,-46.99 1391.8,-36.41 1384.94,-44.48 1391.47,-46.99\"/>\n</g>\n<!-- 266 -->\n<g id=\"node41\" class=\"node\">\n<title>266</title>\n<path fill=\"#4ea7e8\" stroke=\"black\" d=\"M1819.5,-274C1819.5,-274 1721.5,-274 1721.5,-274 1715.5,-274 1709.5,-268 1709.5,-262 1709.5,-262 1709.5,-203 1709.5,-203 1709.5,-197 1715.5,-191 1721.5,-191 1721.5,-191 1819.5,-191 1819.5,-191 1825.5,-191 1831.5,-197 1831.5,-203 1831.5,-203 1831.5,-262 1831.5,-262 1831.5,-268 1825.5,-274 1819.5,-274\"/>\n<text text-anchor=\"middle\" x=\"1770.5\" y=\"-258.8\" font-family=\"Helvetica,sans-Serif\" font-size=\"14.00\">BMI &lt;= 16.1</text>\n<text text-anchor=\"middle\" x=\"1770.5\" y=\"-243.8\" font-family=\"Helvetica,sans-Serif\" font-size=\"14.00\">entropy = 0.455</text>\n<text text-anchor=\"middle\" x=\"1770.5\" y=\"-228.8\" font-family=\"Helvetica,sans-Serif\" font-size=\"14.00\">samples = 94</text>\n<text text-anchor=\"middle\" x=\"1770.5\" y=\"-213.8\" font-family=\"Helvetica,sans-Serif\" font-size=\"14.00\">value = [9, 85]</text>\n<text text-anchor=\"middle\" x=\"1770.5\" y=\"-198.8\" font-family=\"Helvetica,sans-Serif\" font-size=\"14.00\">class = heart_yes</text>\n</g>\n<!-- 265&#45;&gt;266 -->\n<g id=\"edge40\" class=\"edge\">\n<title>265&#45;&gt;266</title>\n<path fill=\"none\" stroke=\"black\" d=\"M1770.5,-309.91C1770.5,-301.65 1770.5,-292.86 1770.5,-284.3\"/>\n<polygon fill=\"black\" stroke=\"black\" points=\"1774,-284.02 1770.5,-274.02 1767,-284.02 1774,-284.02\"/>\n</g>\n<!-- 279 -->\n<g id=\"node48\" class=\"node\">\n<title>279</title>\n<path fill=\"#a3d2f3\" stroke=\"black\" d=\"M2089.5,-274C2089.5,-274 1975.5,-274 1975.5,-274 1969.5,-274 1963.5,-268 1963.5,-262 1963.5,-262 1963.5,-203 1963.5,-203 1963.5,-197 1969.5,-191 1975.5,-191 1975.5,-191 2089.5,-191 2089.5,-191 2095.5,-191 2101.5,-197 2101.5,-203 2101.5,-203 2101.5,-262 2101.5,-262 2101.5,-268 2095.5,-274 2089.5,-274\"/>\n<text text-anchor=\"middle\" x=\"2032.5\" y=\"-258.8\" font-family=\"Helvetica,sans-Serif\" font-size=\"14.00\">diastolic_bp &lt;= 81.0</text>\n<text text-anchor=\"middle\" x=\"2032.5\" y=\"-243.8\" font-family=\"Helvetica,sans-Serif\" font-size=\"14.00\">entropy = 0.933</text>\n<text text-anchor=\"middle\" x=\"2032.5\" y=\"-228.8\" font-family=\"Helvetica,sans-Serif\" font-size=\"14.00\">samples = 292</text>\n<text text-anchor=\"middle\" x=\"2032.5\" y=\"-213.8\" font-family=\"Helvetica,sans-Serif\" font-size=\"14.00\">value = [102, 190]</text>\n<text text-anchor=\"middle\" x=\"2032.5\" y=\"-198.8\" font-family=\"Helvetica,sans-Serif\" font-size=\"14.00\">class = heart_yes</text>\n</g>\n<!-- 265&#45;&gt;279 -->\n<g id=\"edge47\" class=\"edge\">\n<title>265&#45;&gt;279</title>\n<path fill=\"none\" stroke=\"black\" d=\"M1844.18,-317.6C1878.5,-302.27 1919.35,-284.03 1954.22,-268.46\"/>\n<polygon fill=\"black\" stroke=\"black\" points=\"1955.72,-271.62 1963.42,-264.35 1952.86,-265.23 1955.72,-271.62\"/>\n</g>\n<!-- 267 -->\n<g id=\"node42\" class=\"node\">\n<title>267</title>\n<path fill=\"#bddef6\" stroke=\"black\" d=\"M1740,-155C1740,-155 1591,-155 1591,-155 1585,-155 1579,-149 1579,-143 1579,-143 1579,-84 1579,-84 1579,-78 1585,-72 1591,-72 1591,-72 1740,-72 1740,-72 1746,-72 1752,-78 1752,-84 1752,-84 1752,-143 1752,-143 1752,-149 1746,-155 1740,-155\"/>\n<text text-anchor=\"middle\" x=\"1665.5\" y=\"-139.8\" font-family=\"Helvetica,sans-Serif\" font-size=\"14.00\">blood_cholesterol &lt;= 3.57</text>\n<text text-anchor=\"middle\" x=\"1665.5\" y=\"-124.8\" font-family=\"Helvetica,sans-Serif\" font-size=\"14.00\">entropy = 0.971</text>\n<text text-anchor=\"middle\" x=\"1665.5\" y=\"-109.8\" font-family=\"Helvetica,sans-Serif\" font-size=\"14.00\">samples = 10</text>\n<text text-anchor=\"middle\" x=\"1665.5\" y=\"-94.8\" font-family=\"Helvetica,sans-Serif\" font-size=\"14.00\">value = [4, 6]</text>\n<text text-anchor=\"middle\" x=\"1665.5\" y=\"-79.8\" font-family=\"Helvetica,sans-Serif\" font-size=\"14.00\">class = heart_yes</text>\n</g>\n<!-- 266&#45;&gt;267 -->\n<g id=\"edge41\" class=\"edge\">\n<title>266&#45;&gt;267</title>\n<path fill=\"none\" stroke=\"black\" d=\"M1734.07,-190.91C1725.85,-181.74 1717.04,-171.93 1708.57,-162.49\"/>\n<polygon fill=\"black\" stroke=\"black\" points=\"1711.15,-160.13 1701.86,-155.02 1705.94,-164.8 1711.15,-160.13\"/>\n</g>\n<!-- 270 -->\n<g id=\"node45\" class=\"node\">\n<title>270</title>\n<path fill=\"#46a3e7\" stroke=\"black\" d=\"M1938.5,-155C1938.5,-155 1782.5,-155 1782.5,-155 1776.5,-155 1770.5,-149 1770.5,-143 1770.5,-143 1770.5,-84 1770.5,-84 1770.5,-78 1776.5,-72 1782.5,-72 1782.5,-72 1938.5,-72 1938.5,-72 1944.5,-72 1950.5,-78 1950.5,-84 1950.5,-84 1950.5,-143 1950.5,-143 1950.5,-149 1944.5,-155 1938.5,-155\"/>\n<text text-anchor=\"middle\" x=\"1860.5\" y=\"-139.8\" font-family=\"Helvetica,sans-Serif\" font-size=\"14.00\">blood_cholesterol &lt;= 5.545</text>\n<text text-anchor=\"middle\" x=\"1860.5\" y=\"-124.8\" font-family=\"Helvetica,sans-Serif\" font-size=\"14.00\">entropy = 0.326</text>\n<text text-anchor=\"middle\" x=\"1860.5\" y=\"-109.8\" font-family=\"Helvetica,sans-Serif\" font-size=\"14.00\">samples = 84</text>\n<text text-anchor=\"middle\" x=\"1860.5\" y=\"-94.8\" font-family=\"Helvetica,sans-Serif\" font-size=\"14.00\">value = [5, 79]</text>\n<text text-anchor=\"middle\" x=\"1860.5\" y=\"-79.8\" font-family=\"Helvetica,sans-Serif\" font-size=\"14.00\">class = heart_yes</text>\n</g>\n<!-- 266&#45;&gt;270 -->\n<g id=\"edge44\" class=\"edge\">\n<title>266&#45;&gt;270</title>\n<path fill=\"none\" stroke=\"black\" d=\"M1801.73,-190.91C1808.64,-181.92 1816.03,-172.32 1823.15,-163.05\"/>\n<polygon fill=\"black\" stroke=\"black\" points=\"1826.01,-165.08 1829.33,-155.02 1820.46,-160.81 1826.01,-165.08\"/>\n</g>\n<!-- 268 -->\n<g id=\"node43\" class=\"node\">\n<title>268</title>\n<path fill=\"#c0c0c0\" stroke=\"black\" d=\"M1644.5,-36C1644.5,-36 1614.5,-36 1614.5,-36 1608.5,-36 1602.5,-30 1602.5,-24 1602.5,-24 1602.5,-12 1602.5,-12 1602.5,-6 1608.5,0 1614.5,0 1614.5,0 1644.5,0 1644.5,0 1650.5,0 1656.5,-6 1656.5,-12 1656.5,-12 1656.5,-24 1656.5,-24 1656.5,-30 1650.5,-36 1644.5,-36\"/>\n<text text-anchor=\"middle\" x=\"1629.5\" y=\"-14.3\" font-family=\"Helvetica,sans-Serif\" font-size=\"14.00\">(...)</text>\n</g>\n<!-- 267&#45;&gt;268 -->\n<g id=\"edge42\" class=\"edge\">\n<title>267&#45;&gt;268</title>\n<path fill=\"none\" stroke=\"black\" d=\"M1649.81,-71.76C1646.46,-63.04 1642.99,-54.04 1639.89,-45.99\"/>\n<polygon fill=\"black\" stroke=\"black\" points=\"1643.06,-44.48 1636.2,-36.41 1636.53,-46.99 1643.06,-44.48\"/>\n</g>\n<!-- 269 -->\n<g id=\"node44\" class=\"node\">\n<title>269</title>\n<path fill=\"#c0c0c0\" stroke=\"black\" d=\"M1716.5,-36C1716.5,-36 1686.5,-36 1686.5,-36 1680.5,-36 1674.5,-30 1674.5,-24 1674.5,-24 1674.5,-12 1674.5,-12 1674.5,-6 1680.5,0 1686.5,0 1686.5,0 1716.5,0 1716.5,0 1722.5,0 1728.5,-6 1728.5,-12 1728.5,-12 1728.5,-24 1728.5,-24 1728.5,-30 1722.5,-36 1716.5,-36\"/>\n<text text-anchor=\"middle\" x=\"1701.5\" y=\"-14.3\" font-family=\"Helvetica,sans-Serif\" font-size=\"14.00\">(...)</text>\n</g>\n<!-- 267&#45;&gt;269 -->\n<g id=\"edge43\" class=\"edge\">\n<title>267&#45;&gt;269</title>\n<path fill=\"none\" stroke=\"black\" d=\"M1681.19,-71.76C1684.54,-63.04 1688.01,-54.04 1691.11,-45.99\"/>\n<polygon fill=\"black\" stroke=\"black\" points=\"1694.47,-46.99 1694.8,-36.41 1687.94,-44.48 1694.47,-46.99\"/>\n</g>\n<!-- 271 -->\n<g id=\"node46\" class=\"node\">\n<title>271</title>\n<path fill=\"#c0c0c0\" stroke=\"black\" d=\"M1851.5,-36C1851.5,-36 1821.5,-36 1821.5,-36 1815.5,-36 1809.5,-30 1809.5,-24 1809.5,-24 1809.5,-12 1809.5,-12 1809.5,-6 1815.5,0 1821.5,0 1821.5,0 1851.5,0 1851.5,0 1857.5,0 1863.5,-6 1863.5,-12 1863.5,-12 1863.5,-24 1863.5,-24 1863.5,-30 1857.5,-36 1851.5,-36\"/>\n<text text-anchor=\"middle\" x=\"1836.5\" y=\"-14.3\" font-family=\"Helvetica,sans-Serif\" font-size=\"14.00\">(...)</text>\n</g>\n<!-- 270&#45;&gt;271 -->\n<g id=\"edge45\" class=\"edge\">\n<title>270&#45;&gt;271</title>\n<path fill=\"none\" stroke=\"black\" d=\"M1850.04,-71.76C1847.83,-63.14 1845.55,-54.24 1843.5,-46.26\"/>\n<polygon fill=\"black\" stroke=\"black\" points=\"1846.84,-45.22 1840.97,-36.41 1840.06,-46.96 1846.84,-45.22\"/>\n</g>\n<!-- 276 -->\n<g id=\"node47\" class=\"node\">\n<title>276</title>\n<path fill=\"#c0c0c0\" stroke=\"black\" d=\"M1923.5,-36C1923.5,-36 1893.5,-36 1893.5,-36 1887.5,-36 1881.5,-30 1881.5,-24 1881.5,-24 1881.5,-12 1881.5,-12 1881.5,-6 1887.5,0 1893.5,0 1893.5,0 1923.5,0 1923.5,0 1929.5,0 1935.5,-6 1935.5,-12 1935.5,-12 1935.5,-24 1935.5,-24 1935.5,-30 1929.5,-36 1923.5,-36\"/>\n<text text-anchor=\"middle\" x=\"1908.5\" y=\"-14.3\" font-family=\"Helvetica,sans-Serif\" font-size=\"14.00\">(...)</text>\n</g>\n<!-- 270&#45;&gt;276 -->\n<g id=\"edge46\" class=\"edge\">\n<title>270&#45;&gt;276</title>\n<path fill=\"none\" stroke=\"black\" d=\"M1881.41,-71.76C1885.99,-62.85 1890.72,-53.64 1894.92,-45.46\"/>\n<polygon fill=\"black\" stroke=\"black\" points=\"1898.11,-46.9 1899.56,-36.41 1891.88,-43.7 1898.11,-46.9\"/>\n</g>\n<!-- 280 -->\n<g id=\"node49\" class=\"node\">\n<title>280</title>\n<path fill=\"#97cbf1\" stroke=\"black\" d=\"M2084.5,-155C2084.5,-155 1980.5,-155 1980.5,-155 1974.5,-155 1968.5,-149 1968.5,-143 1968.5,-143 1968.5,-84 1968.5,-84 1968.5,-78 1974.5,-72 1980.5,-72 1980.5,-72 2084.5,-72 2084.5,-72 2090.5,-72 2096.5,-78 2096.5,-84 2096.5,-84 2096.5,-143 2096.5,-143 2096.5,-149 2090.5,-155 2084.5,-155\"/>\n<text text-anchor=\"middle\" x=\"2032.5\" y=\"-139.8\" font-family=\"Helvetica,sans-Serif\" font-size=\"14.00\">calories &lt;= 3316.5</text>\n<text text-anchor=\"middle\" x=\"2032.5\" y=\"-124.8\" font-family=\"Helvetica,sans-Serif\" font-size=\"14.00\">entropy = 0.906</text>\n<text text-anchor=\"middle\" x=\"2032.5\" y=\"-109.8\" font-family=\"Helvetica,sans-Serif\" font-size=\"14.00\">samples = 280</text>\n<text text-anchor=\"middle\" x=\"2032.5\" y=\"-94.8\" font-family=\"Helvetica,sans-Serif\" font-size=\"14.00\">value = [90, 190]</text>\n<text text-anchor=\"middle\" x=\"2032.5\" y=\"-79.8\" font-family=\"Helvetica,sans-Serif\" font-size=\"14.00\">class = heart_yes</text>\n</g>\n<!-- 279&#45;&gt;280 -->\n<g id=\"edge48\" class=\"edge\">\n<title>279&#45;&gt;280</title>\n<path fill=\"none\" stroke=\"black\" d=\"M2032.5,-190.91C2032.5,-182.65 2032.5,-173.86 2032.5,-165.3\"/>\n<polygon fill=\"black\" stroke=\"black\" points=\"2036,-165.02 2032.5,-155.02 2029,-165.02 2036,-165.02\"/>\n</g>\n<!-- 331 -->\n<g id=\"node52\" class=\"node\">\n<title>331</title>\n<path fill=\"#e58139\" stroke=\"black\" d=\"M2218.5,-147.5C2218.5,-147.5 2126.5,-147.5 2126.5,-147.5 2120.5,-147.5 2114.5,-141.5 2114.5,-135.5 2114.5,-135.5 2114.5,-91.5 2114.5,-91.5 2114.5,-85.5 2120.5,-79.5 2126.5,-79.5 2126.5,-79.5 2218.5,-79.5 2218.5,-79.5 2224.5,-79.5 2230.5,-85.5 2230.5,-91.5 2230.5,-91.5 2230.5,-135.5 2230.5,-135.5 2230.5,-141.5 2224.5,-147.5 2218.5,-147.5\"/>\n<text text-anchor=\"middle\" x=\"2172.5\" y=\"-132.3\" font-family=\"Helvetica,sans-Serif\" font-size=\"14.00\">entropy = 0.0</text>\n<text text-anchor=\"middle\" x=\"2172.5\" y=\"-117.3\" font-family=\"Helvetica,sans-Serif\" font-size=\"14.00\">samples = 12</text>\n<text text-anchor=\"middle\" x=\"2172.5\" y=\"-102.3\" font-family=\"Helvetica,sans-Serif\" font-size=\"14.00\">value = [12, 0]</text>\n<text text-anchor=\"middle\" x=\"2172.5\" y=\"-87.3\" font-family=\"Helvetica,sans-Serif\" font-size=\"14.00\">class = heart_no</text>\n</g>\n<!-- 279&#45;&gt;331 -->\n<g id=\"edge51\" class=\"edge\">\n<title>279&#45;&gt;331</title>\n<path fill=\"none\" stroke=\"black\" d=\"M2081.07,-190.91C2095.33,-178.99 2110.91,-165.98 2125.09,-154.12\"/>\n<polygon fill=\"black\" stroke=\"black\" points=\"2127.38,-156.77 2132.81,-147.67 2122.9,-151.39 2127.38,-156.77\"/>\n</g>\n<!-- 281 -->\n<g id=\"node50\" class=\"node\">\n<title>281</title>\n<path fill=\"#c0c0c0\" stroke=\"black\" d=\"M1998.5,-36C1998.5,-36 1968.5,-36 1968.5,-36 1962.5,-36 1956.5,-30 1956.5,-24 1956.5,-24 1956.5,-12 1956.5,-12 1956.5,-6 1962.5,0 1968.5,0 1968.5,0 1998.5,0 1998.5,0 2004.5,0 2010.5,-6 2010.5,-12 2010.5,-12 2010.5,-24 2010.5,-24 2010.5,-30 2004.5,-36 1998.5,-36\"/>\n<text text-anchor=\"middle\" x=\"1983.5\" y=\"-14.3\" font-family=\"Helvetica,sans-Serif\" font-size=\"14.00\">(...)</text>\n</g>\n<!-- 280&#45;&gt;281 -->\n<g id=\"edge49\" class=\"edge\">\n<title>280&#45;&gt;281</title>\n<path fill=\"none\" stroke=\"black\" d=\"M2011.15,-71.76C2006.48,-62.85 2001.65,-53.64 1997.37,-45.46\"/>\n<polygon fill=\"black\" stroke=\"black\" points=\"2000.36,-43.64 1992.62,-36.41 1994.16,-46.89 2000.36,-43.64\"/>\n</g>\n<!-- 330 -->\n<g id=\"node51\" class=\"node\">\n<title>330</title>\n<path fill=\"#c0c0c0\" stroke=\"black\" d=\"M2070.5,-36C2070.5,-36 2040.5,-36 2040.5,-36 2034.5,-36 2028.5,-30 2028.5,-24 2028.5,-24 2028.5,-12 2028.5,-12 2028.5,-6 2034.5,0 2040.5,0 2040.5,0 2070.5,0 2070.5,0 2076.5,0 2082.5,-6 2082.5,-12 2082.5,-12 2082.5,-24 2082.5,-24 2082.5,-30 2076.5,-36 2070.5,-36\"/>\n<text text-anchor=\"middle\" x=\"2055.5\" y=\"-14.3\" font-family=\"Helvetica,sans-Serif\" font-size=\"14.00\">(...)</text>\n</g>\n<!-- 280&#45;&gt;330 -->\n<g id=\"edge50\" class=\"edge\">\n<title>280&#45;&gt;330</title>\n<path fill=\"none\" stroke=\"black\" d=\"M2042.52,-71.76C2044.64,-63.14 2046.83,-54.24 2048.79,-46.26\"/>\n<polygon fill=\"black\" stroke=\"black\" points=\"2052.23,-46.95 2051.22,-36.41 2045.43,-45.28 2052.23,-46.95\"/>\n</g>\n<!-- 333 -->\n<g id=\"node54\" class=\"node\">\n<title>333</title>\n<path fill=\"#c8e4f8\" stroke=\"black\" d=\"M2817,-512C2817,-512 2694,-512 2694,-512 2688,-512 2682,-506 2682,-500 2682,-500 2682,-441 2682,-441 2682,-435 2688,-429 2694,-429 2694,-429 2817,-429 2817,-429 2823,-429 2829,-435 2829,-441 2829,-441 2829,-500 2829,-500 2829,-506 2823,-512 2817,-512\"/>\n<text text-anchor=\"middle\" x=\"2755.5\" y=\"-496.8\" font-family=\"Helvetica,sans-Serif\" font-size=\"14.00\">age &lt;= 77.5</text>\n<text text-anchor=\"middle\" x=\"2755.5\" y=\"-481.8\" font-family=\"Helvetica,sans-Serif\" font-size=\"14.00\">entropy = 0.981</text>\n<text text-anchor=\"middle\" x=\"2755.5\" y=\"-466.8\" font-family=\"Helvetica,sans-Serif\" font-size=\"14.00\">samples = 1465</text>\n<text text-anchor=\"middle\" x=\"2755.5\" y=\"-451.8\" font-family=\"Helvetica,sans-Serif\" font-size=\"14.00\">value = [614.0, 851.0]</text>\n<text text-anchor=\"middle\" x=\"2755.5\" y=\"-436.8\" font-family=\"Helvetica,sans-Serif\" font-size=\"14.00\">class = heart_yes</text>\n</g>\n<!-- 332&#45;&gt;333 -->\n<g id=\"edge53\" class=\"edge\">\n<title>332&#45;&gt;333</title>\n<path fill=\"none\" stroke=\"black\" d=\"M2755.5,-547.91C2755.5,-539.65 2755.5,-530.86 2755.5,-522.3\"/>\n<polygon fill=\"black\" stroke=\"black\" points=\"2759,-522.02 2755.5,-512.02 2752,-522.02 2759,-522.02\"/>\n</g>\n<!-- 570 -->\n<g id=\"node81\" class=\"node\">\n<title>570</title>\n<path fill=\"#59ade9\" stroke=\"black\" d=\"M3676.5,-512C3676.5,-512 3520.5,-512 3520.5,-512 3514.5,-512 3508.5,-506 3508.5,-500 3508.5,-500 3508.5,-441 3508.5,-441 3508.5,-435 3514.5,-429 3520.5,-429 3520.5,-429 3676.5,-429 3676.5,-429 3682.5,-429 3688.5,-435 3688.5,-441 3688.5,-441 3688.5,-500 3688.5,-500 3688.5,-506 3682.5,-512 3676.5,-512\"/>\n<text text-anchor=\"middle\" x=\"3598.5\" y=\"-496.8\" font-family=\"Helvetica,sans-Serif\" font-size=\"14.00\">blood_cholesterol &lt;= 3.605</text>\n<text text-anchor=\"middle\" x=\"3598.5\" y=\"-481.8\" font-family=\"Helvetica,sans-Serif\" font-size=\"14.00\">entropy = 0.582</text>\n<text text-anchor=\"middle\" x=\"3598.5\" y=\"-466.8\" font-family=\"Helvetica,sans-Serif\" font-size=\"14.00\">samples = 883</text>\n<text text-anchor=\"middle\" x=\"3598.5\" y=\"-451.8\" font-family=\"Helvetica,sans-Serif\" font-size=\"14.00\">value = [123.0, 760.0]</text>\n<text text-anchor=\"middle\" x=\"3598.5\" y=\"-436.8\" font-family=\"Helvetica,sans-Serif\" font-size=\"14.00\">class = heart_yes</text>\n</g>\n<!-- 332&#45;&gt;570 -->\n<g id=\"edge80\" class=\"edge\">\n<title>332&#45;&gt;570</title>\n<path fill=\"none\" stroke=\"black\" d=\"M2821.65,-579.32C2968.81,-558.89 3324.01,-509.6 3498.45,-485.39\"/>\n<polygon fill=\"black\" stroke=\"black\" points=\"3498.97,-488.85 3508.4,-484.01 3498.01,-481.91 3498.97,-488.85\"/>\n</g>\n<!-- 334 -->\n<g id=\"node55\" class=\"node\">\n<title>334</title>\n<path fill=\"#fefcfb\" stroke=\"black\" d=\"M2751,-393C2751,-393 2620,-393 2620,-393 2614,-393 2608,-387 2608,-381 2608,-381 2608,-322 2608,-322 2608,-316 2614,-310 2620,-310 2620,-310 2751,-310 2751,-310 2757,-310 2763,-316 2763,-322 2763,-322 2763,-381 2763,-381 2763,-387 2757,-393 2751,-393\"/>\n<text text-anchor=\"middle\" x=\"2685.5\" y=\"-377.8\" font-family=\"Helvetica,sans-Serif\" font-size=\"14.00\">family_income &lt;= 3.84</text>\n<text text-anchor=\"middle\" x=\"2685.5\" y=\"-362.8\" font-family=\"Helvetica,sans-Serif\" font-size=\"14.00\">entropy = 1.0</text>\n<text text-anchor=\"middle\" x=\"2685.5\" y=\"-347.8\" font-family=\"Helvetica,sans-Serif\" font-size=\"14.00\">samples = 936</text>\n<text text-anchor=\"middle\" x=\"2685.5\" y=\"-332.8\" font-family=\"Helvetica,sans-Serif\" font-size=\"14.00\">value = [473, 463]</text>\n<text text-anchor=\"middle\" x=\"2685.5\" y=\"-317.8\" font-family=\"Helvetica,sans-Serif\" font-size=\"14.00\">class = heart_no</text>\n</g>\n<!-- 333&#45;&gt;334 -->\n<g id=\"edge54\" class=\"edge\">\n<title>333&#45;&gt;334</title>\n<path fill=\"none\" stroke=\"black\" d=\"M2731.21,-428.91C2725.95,-420.1 2720.32,-410.7 2714.88,-401.61\"/>\n<polygon fill=\"black\" stroke=\"black\" points=\"2717.88,-399.81 2709.74,-393.02 2711.87,-403.4 2717.88,-399.81\"/>\n</g>\n<!-- 481 -->\n<g id=\"node70\" class=\"node\">\n<title>481</title>\n<path fill=\"#81c1ee\" stroke=\"black\" d=\"M3003.5,-393C3003.5,-393 2877.5,-393 2877.5,-393 2871.5,-393 2865.5,-387 2865.5,-381 2865.5,-381 2865.5,-322 2865.5,-322 2865.5,-316 2871.5,-310 2877.5,-310 2877.5,-310 3003.5,-310 3003.5,-310 3009.5,-310 3015.5,-316 3015.5,-322 3015.5,-322 3015.5,-381 3015.5,-381 3015.5,-387 3009.5,-393 3003.5,-393\"/>\n<text text-anchor=\"middle\" x=\"2940.5\" y=\"-377.8\" font-family=\"Helvetica,sans-Serif\" font-size=\"14.00\">gender_female &lt;= 0.5</text>\n<text text-anchor=\"middle\" x=\"2940.5\" y=\"-362.8\" font-family=\"Helvetica,sans-Serif\" font-size=\"14.00\">entropy = 0.836</text>\n<text text-anchor=\"middle\" x=\"2940.5\" y=\"-347.8\" font-family=\"Helvetica,sans-Serif\" font-size=\"14.00\">samples = 529</text>\n<text text-anchor=\"middle\" x=\"2940.5\" y=\"-332.8\" font-family=\"Helvetica,sans-Serif\" font-size=\"14.00\">value = [141, 388]</text>\n<text text-anchor=\"middle\" x=\"2940.5\" y=\"-317.8\" font-family=\"Helvetica,sans-Serif\" font-size=\"14.00\">class = heart_yes</text>\n</g>\n<!-- 333&#45;&gt;481 -->\n<g id=\"edge69\" class=\"edge\">\n<title>333&#45;&gt;481</title>\n<path fill=\"none\" stroke=\"black\" d=\"M2819.68,-428.91C2835.18,-419.11 2851.85,-408.56 2867.71,-398.53\"/>\n<polygon fill=\"black\" stroke=\"black\" points=\"2869.85,-401.32 2876.43,-393.02 2866.11,-395.41 2869.85,-401.32\"/>\n</g>\n<!-- 335 -->\n<g id=\"node56\" class=\"node\">\n<title>335</title>\n<path fill=\"#dbedfa\" stroke=\"black\" d=\"M2519,-274C2519,-274 2396,-274 2396,-274 2390,-274 2384,-268 2384,-262 2384,-262 2384,-203 2384,-203 2384,-197 2390,-191 2396,-191 2396,-191 2519,-191 2519,-191 2525,-191 2531,-197 2531,-203 2531,-203 2531,-262 2531,-262 2531,-268 2525,-274 2519,-274\"/>\n<text text-anchor=\"middle\" x=\"2457.5\" y=\"-258.8\" font-family=\"Helvetica,sans-Serif\" font-size=\"14.00\">BMI &lt;= 16.05</text>\n<text text-anchor=\"middle\" x=\"2457.5\" y=\"-243.8\" font-family=\"Helvetica,sans-Serif\" font-size=\"14.00\">entropy = 0.993</text>\n<text text-anchor=\"middle\" x=\"2457.5\" y=\"-228.8\" font-family=\"Helvetica,sans-Serif\" font-size=\"14.00\">samples = 737</text>\n<text text-anchor=\"middle\" x=\"2457.5\" y=\"-213.8\" font-family=\"Helvetica,sans-Serif\" font-size=\"14.00\">value = [332.0, 405.0]</text>\n<text text-anchor=\"middle\" x=\"2457.5\" y=\"-198.8\" font-family=\"Helvetica,sans-Serif\" font-size=\"14.00\">class = heart_yes</text>\n</g>\n<!-- 334&#45;&gt;335 -->\n<g id=\"edge55\" class=\"edge\">\n<title>334&#45;&gt;335</title>\n<path fill=\"none\" stroke=\"black\" d=\"M2607.99,-310.73C2586.21,-299.55 2562.43,-287.35 2540.35,-276.02\"/>\n<polygon fill=\"black\" stroke=\"black\" points=\"2541.82,-272.84 2531.33,-271.39 2538.63,-279.07 2541.82,-272.84\"/>\n</g>\n<!-- 456 -->\n<g id=\"node63\" class=\"node\">\n<title>456</title>\n<path fill=\"#f0b58a\" stroke=\"black\" d=\"M2732,-274C2732,-274 2639,-274 2639,-274 2633,-274 2627,-268 2627,-262 2627,-262 2627,-203 2627,-203 2627,-197 2633,-191 2639,-191 2639,-191 2732,-191 2732,-191 2738,-191 2744,-197 2744,-203 2744,-203 2744,-262 2744,-262 2744,-268 2738,-274 2732,-274\"/>\n<text text-anchor=\"middle\" x=\"2685.5\" y=\"-258.8\" font-family=\"Helvetica,sans-Serif\" font-size=\"14.00\">BMI &lt;= 23.25</text>\n<text text-anchor=\"middle\" x=\"2685.5\" y=\"-243.8\" font-family=\"Helvetica,sans-Serif\" font-size=\"14.00\">entropy = 0.871</text>\n<text text-anchor=\"middle\" x=\"2685.5\" y=\"-228.8\" font-family=\"Helvetica,sans-Serif\" font-size=\"14.00\">samples = 199</text>\n<text text-anchor=\"middle\" x=\"2685.5\" y=\"-213.8\" font-family=\"Helvetica,sans-Serif\" font-size=\"14.00\">value = [141, 58]</text>\n<text text-anchor=\"middle\" x=\"2685.5\" y=\"-198.8\" font-family=\"Helvetica,sans-Serif\" font-size=\"14.00\">class = heart_no</text>\n</g>\n<!-- 334&#45;&gt;456 -->\n<g id=\"edge62\" class=\"edge\">\n<title>334&#45;&gt;456</title>\n<path fill=\"none\" stroke=\"black\" d=\"M2685.5,-309.91C2685.5,-301.65 2685.5,-292.86 2685.5,-284.3\"/>\n<polygon fill=\"black\" stroke=\"black\" points=\"2689,-284.02 2685.5,-274.02 2682,-284.02 2689,-284.02\"/>\n</g>\n<!-- 336 -->\n<g id=\"node57\" class=\"node\">\n<title>336</title>\n<path fill=\"#67b4eb\" stroke=\"black\" d=\"M2358.5,-155C2358.5,-155 2260.5,-155 2260.5,-155 2254.5,-155 2248.5,-149 2248.5,-143 2248.5,-143 2248.5,-84 2248.5,-84 2248.5,-78 2254.5,-72 2260.5,-72 2260.5,-72 2358.5,-72 2358.5,-72 2364.5,-72 2370.5,-78 2370.5,-84 2370.5,-84 2370.5,-143 2370.5,-143 2370.5,-149 2364.5,-155 2358.5,-155\"/>\n<text text-anchor=\"middle\" x=\"2309.5\" y=\"-139.8\" font-family=\"Helvetica,sans-Serif\" font-size=\"14.00\">BMI &lt;= 13.85</text>\n<text text-anchor=\"middle\" x=\"2309.5\" y=\"-124.8\" font-family=\"Helvetica,sans-Serif\" font-size=\"14.00\">entropy = 0.701</text>\n<text text-anchor=\"middle\" x=\"2309.5\" y=\"-109.8\" font-family=\"Helvetica,sans-Serif\" font-size=\"14.00\">samples = 100</text>\n<text text-anchor=\"middle\" x=\"2309.5\" y=\"-94.8\" font-family=\"Helvetica,sans-Serif\" font-size=\"14.00\">value = [19, 81]</text>\n<text text-anchor=\"middle\" x=\"2309.5\" y=\"-79.8\" font-family=\"Helvetica,sans-Serif\" font-size=\"14.00\">class = heart_yes</text>\n</g>\n<!-- 335&#45;&gt;336 -->\n<g id=\"edge56\" class=\"edge\">\n<title>335&#45;&gt;336</title>\n<path fill=\"none\" stroke=\"black\" d=\"M2406.15,-190.91C2394.1,-181.38 2381.16,-171.15 2368.79,-161.37\"/>\n<polygon fill=\"black\" stroke=\"black\" points=\"2370.77,-158.48 2360.76,-155.02 2366.43,-163.97 2370.77,-158.48\"/>\n</g>\n<!-- 355 -->\n<g id=\"node60\" class=\"node\">\n<title>355</title>\n<path fill=\"#f8fcfe\" stroke=\"black\" d=\"M2514.5,-155C2514.5,-155 2400.5,-155 2400.5,-155 2394.5,-155 2388.5,-149 2388.5,-143 2388.5,-143 2388.5,-84 2388.5,-84 2388.5,-78 2394.5,-72 2400.5,-72 2400.5,-72 2514.5,-72 2514.5,-72 2520.5,-72 2526.5,-78 2526.5,-84 2526.5,-84 2526.5,-143 2526.5,-143 2526.5,-149 2520.5,-155 2514.5,-155\"/>\n<text text-anchor=\"middle\" x=\"2457.5\" y=\"-139.8\" font-family=\"Helvetica,sans-Serif\" font-size=\"14.00\">diastolic_bp &lt;= 83.0</text>\n<text text-anchor=\"middle\" x=\"2457.5\" y=\"-124.8\" font-family=\"Helvetica,sans-Serif\" font-size=\"14.00\">entropy = 1.0</text>\n<text text-anchor=\"middle\" x=\"2457.5\" y=\"-109.8\" font-family=\"Helvetica,sans-Serif\" font-size=\"14.00\">samples = 637</text>\n<text text-anchor=\"middle\" x=\"2457.5\" y=\"-94.8\" font-family=\"Helvetica,sans-Serif\" font-size=\"14.00\">value = [313, 324]</text>\n<text text-anchor=\"middle\" x=\"2457.5\" y=\"-79.8\" font-family=\"Helvetica,sans-Serif\" font-size=\"14.00\">class = heart_yes</text>\n</g>\n<!-- 335&#45;&gt;355 -->\n<g id=\"edge59\" class=\"edge\">\n<title>335&#45;&gt;355</title>\n<path fill=\"none\" stroke=\"black\" d=\"M2457.5,-190.91C2457.5,-182.65 2457.5,-173.86 2457.5,-165.3\"/>\n<polygon fill=\"black\" stroke=\"black\" points=\"2461,-165.02 2457.5,-155.02 2454,-165.02 2461,-165.02\"/>\n</g>\n<!-- 337 -->\n<g id=\"node58\" class=\"node\">\n<title>337</title>\n<path fill=\"#c0c0c0\" stroke=\"black\" d=\"M2257.5,-36C2257.5,-36 2227.5,-36 2227.5,-36 2221.5,-36 2215.5,-30 2215.5,-24 2215.5,-24 2215.5,-12 2215.5,-12 2215.5,-6 2221.5,0 2227.5,0 2227.5,0 2257.5,0 2257.5,0 2263.5,0 2269.5,-6 2269.5,-12 2269.5,-12 2269.5,-24 2269.5,-24 2269.5,-30 2263.5,-36 2257.5,-36\"/>\n<text text-anchor=\"middle\" x=\"2242.5\" y=\"-14.3\" font-family=\"Helvetica,sans-Serif\" font-size=\"14.00\">(...)</text>\n</g>\n<!-- 336&#45;&gt;337 -->\n<g id=\"edge57\" class=\"edge\">\n<title>336&#45;&gt;337</title>\n<path fill=\"none\" stroke=\"black\" d=\"M2280.31,-71.76C2273.71,-62.56 2266.89,-53.04 2260.89,-44.66\"/>\n<polygon fill=\"black\" stroke=\"black\" points=\"2263.64,-42.49 2254.97,-36.41 2257.95,-46.57 2263.64,-42.49\"/>\n</g>\n<!-- 338 -->\n<g id=\"node59\" class=\"node\">\n<title>338</title>\n<path fill=\"#c0c0c0\" stroke=\"black\" d=\"M2329.5,-36C2329.5,-36 2299.5,-36 2299.5,-36 2293.5,-36 2287.5,-30 2287.5,-24 2287.5,-24 2287.5,-12 2287.5,-12 2287.5,-6 2293.5,0 2299.5,0 2299.5,0 2329.5,0 2329.5,0 2335.5,0 2341.5,-6 2341.5,-12 2341.5,-12 2341.5,-24 2341.5,-24 2341.5,-30 2335.5,-36 2329.5,-36\"/>\n<text text-anchor=\"middle\" x=\"2314.5\" y=\"-14.3\" font-family=\"Helvetica,sans-Serif\" font-size=\"14.00\">(...)</text>\n</g>\n<!-- 336&#45;&gt;338 -->\n<g id=\"edge58\" class=\"edge\">\n<title>336&#45;&gt;338</title>\n<path fill=\"none\" stroke=\"black\" d=\"M2311.68,-71.76C2312.13,-63.24 2312.6,-54.44 2313.03,-46.53\"/>\n<polygon fill=\"black\" stroke=\"black\" points=\"2316.53,-46.58 2313.57,-36.41 2309.54,-46.2 2316.53,-46.58\"/>\n</g>\n<!-- 356 -->\n<g id=\"node61\" class=\"node\">\n<title>356</title>\n<path fill=\"#c0c0c0\" stroke=\"black\" d=\"M2439.5,-36C2439.5,-36 2409.5,-36 2409.5,-36 2403.5,-36 2397.5,-30 2397.5,-24 2397.5,-24 2397.5,-12 2397.5,-12 2397.5,-6 2403.5,0 2409.5,0 2409.5,0 2439.5,0 2439.5,0 2445.5,0 2451.5,-6 2451.5,-12 2451.5,-12 2451.5,-24 2451.5,-24 2451.5,-30 2445.5,-36 2439.5,-36\"/>\n<text text-anchor=\"middle\" x=\"2424.5\" y=\"-14.3\" font-family=\"Helvetica,sans-Serif\" font-size=\"14.00\">(...)</text>\n</g>\n<!-- 355&#45;&gt;356 -->\n<g id=\"edge60\" class=\"edge\">\n<title>355&#45;&gt;356</title>\n<path fill=\"none\" stroke=\"black\" d=\"M2443.12,-71.76C2440.04,-63.04 2436.87,-54.04 2434.03,-45.99\"/>\n<polygon fill=\"black\" stroke=\"black\" points=\"2437.27,-44.67 2430.64,-36.41 2430.67,-47 2437.27,-44.67\"/>\n</g>\n<!-- 455 -->\n<g id=\"node62\" class=\"node\">\n<title>455</title>\n<path fill=\"#c0c0c0\" stroke=\"black\" d=\"M2511.5,-36C2511.5,-36 2481.5,-36 2481.5,-36 2475.5,-36 2469.5,-30 2469.5,-24 2469.5,-24 2469.5,-12 2469.5,-12 2469.5,-6 2475.5,0 2481.5,0 2481.5,0 2511.5,0 2511.5,0 2517.5,0 2523.5,-6 2523.5,-12 2523.5,-12 2523.5,-24 2523.5,-24 2523.5,-30 2517.5,-36 2511.5,-36\"/>\n<text text-anchor=\"middle\" x=\"2496.5\" y=\"-14.3\" font-family=\"Helvetica,sans-Serif\" font-size=\"14.00\">(...)</text>\n</g>\n<!-- 355&#45;&gt;455 -->\n<g id=\"edge61\" class=\"edge\">\n<title>355&#45;&gt;455</title>\n<path fill=\"none\" stroke=\"black\" d=\"M2474.49,-71.76C2478.17,-62.94 2481.97,-53.84 2485.35,-45.72\"/>\n<polygon fill=\"black\" stroke=\"black\" points=\"2488.62,-46.98 2489.24,-36.41 2482.16,-44.29 2488.62,-46.98\"/>\n</g>\n<!-- 457 -->\n<g id=\"node64\" class=\"node\">\n<title>457</title>\n<path fill=\"#fae7d9\" stroke=\"black\" d=\"M2670.5,-155C2670.5,-155 2556.5,-155 2556.5,-155 2550.5,-155 2544.5,-149 2544.5,-143 2544.5,-143 2544.5,-84 2544.5,-84 2544.5,-78 2550.5,-72 2556.5,-72 2556.5,-72 2670.5,-72 2670.5,-72 2676.5,-72 2682.5,-78 2682.5,-84 2682.5,-84 2682.5,-143 2682.5,-143 2682.5,-149 2676.5,-155 2670.5,-155\"/>\n<text text-anchor=\"middle\" x=\"2613.5\" y=\"-139.8\" font-family=\"Helvetica,sans-Serif\" font-size=\"14.00\">diastolic_bp &lt;= 57.0</text>\n<text text-anchor=\"middle\" x=\"2613.5\" y=\"-124.8\" font-family=\"Helvetica,sans-Serif\" font-size=\"14.00\">entropy = 0.992</text>\n<text text-anchor=\"middle\" x=\"2613.5\" y=\"-109.8\" font-family=\"Helvetica,sans-Serif\" font-size=\"14.00\">samples = 114</text>\n<text text-anchor=\"middle\" x=\"2613.5\" y=\"-94.8\" font-family=\"Helvetica,sans-Serif\" font-size=\"14.00\">value = [63.0, 51.0]</text>\n<text text-anchor=\"middle\" x=\"2613.5\" y=\"-79.8\" font-family=\"Helvetica,sans-Serif\" font-size=\"14.00\">class = heart_no</text>\n</g>\n<!-- 456&#45;&gt;457 -->\n<g id=\"edge63\" class=\"edge\">\n<title>456&#45;&gt;457</title>\n<path fill=\"none\" stroke=\"black\" d=\"M2660.52,-190.91C2655.1,-182.1 2649.32,-172.7 2643.72,-163.61\"/>\n<polygon fill=\"black\" stroke=\"black\" points=\"2646.66,-161.7 2638.44,-155.02 2640.7,-165.37 2646.66,-161.7\"/>\n</g>\n<!-- 472 -->\n<g id=\"node67\" class=\"node\">\n<title>472</title>\n<path fill=\"#e78c4b\" stroke=\"black\" d=\"M2804.5,-155C2804.5,-155 2712.5,-155 2712.5,-155 2706.5,-155 2700.5,-149 2700.5,-143 2700.5,-143 2700.5,-84 2700.5,-84 2700.5,-78 2706.5,-72 2712.5,-72 2712.5,-72 2804.5,-72 2804.5,-72 2810.5,-72 2816.5,-78 2816.5,-84 2816.5,-84 2816.5,-143 2816.5,-143 2816.5,-149 2810.5,-155 2804.5,-155\"/>\n<text text-anchor=\"middle\" x=\"2758.5\" y=\"-139.8\" font-family=\"Helvetica,sans-Serif\" font-size=\"14.00\">age &lt;= 73.5</text>\n<text text-anchor=\"middle\" x=\"2758.5\" y=\"-124.8\" font-family=\"Helvetica,sans-Serif\" font-size=\"14.00\">entropy = 0.41</text>\n<text text-anchor=\"middle\" x=\"2758.5\" y=\"-109.8\" font-family=\"Helvetica,sans-Serif\" font-size=\"14.00\">samples = 85</text>\n<text text-anchor=\"middle\" x=\"2758.5\" y=\"-94.8\" font-family=\"Helvetica,sans-Serif\" font-size=\"14.00\">value = [78, 7]</text>\n<text text-anchor=\"middle\" x=\"2758.5\" y=\"-79.8\" font-family=\"Helvetica,sans-Serif\" font-size=\"14.00\">class = heart_no</text>\n</g>\n<!-- 456&#45;&gt;472 -->\n<g id=\"edge66\" class=\"edge\">\n<title>456&#45;&gt;472</title>\n<path fill=\"none\" stroke=\"black\" d=\"M2710.83,-190.91C2716.32,-182.1 2722.19,-172.7 2727.86,-163.61\"/>\n<polygon fill=\"black\" stroke=\"black\" points=\"2730.89,-165.36 2733.22,-155.02 2724.95,-161.65 2730.89,-165.36\"/>\n</g>\n<!-- 458 -->\n<g id=\"node65\" class=\"node\">\n<title>458</title>\n<path fill=\"#c0c0c0\" stroke=\"black\" d=\"M2589.5,-36C2589.5,-36 2559.5,-36 2559.5,-36 2553.5,-36 2547.5,-30 2547.5,-24 2547.5,-24 2547.5,-12 2547.5,-12 2547.5,-6 2553.5,0 2559.5,0 2559.5,0 2589.5,0 2589.5,0 2595.5,0 2601.5,-6 2601.5,-12 2601.5,-12 2601.5,-24 2601.5,-24 2601.5,-30 2595.5,-36 2589.5,-36\"/>\n<text text-anchor=\"middle\" x=\"2574.5\" y=\"-14.3\" font-family=\"Helvetica,sans-Serif\" font-size=\"14.00\">(...)</text>\n</g>\n<!-- 457&#45;&gt;458 -->\n<g id=\"edge64\" class=\"edge\">\n<title>457&#45;&gt;458</title>\n<path fill=\"none\" stroke=\"black\" d=\"M2596.51,-71.76C2592.83,-62.94 2589.03,-53.84 2585.65,-45.72\"/>\n<polygon fill=\"black\" stroke=\"black\" points=\"2588.84,-44.29 2581.76,-36.41 2582.38,-46.98 2588.84,-44.29\"/>\n</g>\n<!-- 461 -->\n<g id=\"node66\" class=\"node\">\n<title>461</title>\n<path fill=\"#c0c0c0\" stroke=\"black\" d=\"M2661.5,-36C2661.5,-36 2631.5,-36 2631.5,-36 2625.5,-36 2619.5,-30 2619.5,-24 2619.5,-24 2619.5,-12 2619.5,-12 2619.5,-6 2625.5,0 2631.5,0 2631.5,0 2661.5,0 2661.5,0 2667.5,0 2673.5,-6 2673.5,-12 2673.5,-12 2673.5,-24 2673.5,-24 2673.5,-30 2667.5,-36 2661.5,-36\"/>\n<text text-anchor=\"middle\" x=\"2646.5\" y=\"-14.3\" font-family=\"Helvetica,sans-Serif\" font-size=\"14.00\">(...)</text>\n</g>\n<!-- 457&#45;&gt;461 -->\n<g id=\"edge65\" class=\"edge\">\n<title>457&#45;&gt;461</title>\n<path fill=\"none\" stroke=\"black\" d=\"M2627.88,-71.76C2630.96,-63.04 2634.13,-54.04 2636.97,-45.99\"/>\n<polygon fill=\"black\" stroke=\"black\" points=\"2640.33,-47 2640.36,-36.41 2633.73,-44.67 2640.33,-47\"/>\n</g>\n<!-- 473 -->\n<g id=\"node68\" class=\"node\">\n<title>473</title>\n<path fill=\"#c0c0c0\" stroke=\"black\" d=\"M2733.5,-36C2733.5,-36 2703.5,-36 2703.5,-36 2697.5,-36 2691.5,-30 2691.5,-24 2691.5,-24 2691.5,-12 2691.5,-12 2691.5,-6 2697.5,0 2703.5,0 2703.5,0 2733.5,0 2733.5,0 2739.5,0 2745.5,-6 2745.5,-12 2745.5,-12 2745.5,-24 2745.5,-24 2745.5,-30 2739.5,-36 2733.5,-36\"/>\n<text text-anchor=\"middle\" x=\"2718.5\" y=\"-14.3\" font-family=\"Helvetica,sans-Serif\" font-size=\"14.00\">(...)</text>\n</g>\n<!-- 472&#45;&gt;473 -->\n<g id=\"edge67\" class=\"edge\">\n<title>472&#45;&gt;473</title>\n<path fill=\"none\" stroke=\"black\" d=\"M2741.07,-71.76C2737.3,-62.94 2733.4,-53.84 2729.93,-45.72\"/>\n<polygon fill=\"black\" stroke=\"black\" points=\"2733.1,-44.22 2725.95,-36.41 2726.66,-46.98 2733.1,-44.22\"/>\n</g>\n<!-- 474 -->\n<g id=\"node69\" class=\"node\">\n<title>474</title>\n<path fill=\"#c0c0c0\" stroke=\"black\" d=\"M2805.5,-36C2805.5,-36 2775.5,-36 2775.5,-36 2769.5,-36 2763.5,-30 2763.5,-24 2763.5,-24 2763.5,-12 2763.5,-12 2763.5,-6 2769.5,0 2775.5,0 2775.5,0 2805.5,0 2805.5,0 2811.5,0 2817.5,-6 2817.5,-12 2817.5,-12 2817.5,-24 2817.5,-24 2817.5,-30 2811.5,-36 2805.5,-36\"/>\n<text text-anchor=\"middle\" x=\"2790.5\" y=\"-14.3\" font-family=\"Helvetica,sans-Serif\" font-size=\"14.00\">(...)</text>\n</g>\n<!-- 472&#45;&gt;474 -->\n<g id=\"edge68\" class=\"edge\">\n<title>472&#45;&gt;474</title>\n<path fill=\"none\" stroke=\"black\" d=\"M2772.44,-71.76C2775.43,-63.04 2778.51,-54.04 2781.26,-45.99\"/>\n<polygon fill=\"black\" stroke=\"black\" points=\"2784.62,-47 2784.54,-36.41 2777.99,-44.73 2784.62,-47\"/>\n</g>\n<!-- 482 -->\n<g id=\"node71\" class=\"node\">\n<title>482</title>\n<path fill=\"#69b5eb\" stroke=\"black\" d=\"M3018.5,-274C3018.5,-274 2862.5,-274 2862.5,-274 2856.5,-274 2850.5,-268 2850.5,-262 2850.5,-262 2850.5,-203 2850.5,-203 2850.5,-197 2856.5,-191 2862.5,-191 2862.5,-191 3018.5,-191 3018.5,-191 3024.5,-191 3030.5,-197 3030.5,-203 3030.5,-203 3030.5,-262 3030.5,-262 3030.5,-268 3024.5,-274 3018.5,-274\"/>\n<text text-anchor=\"middle\" x=\"2940.5\" y=\"-258.8\" font-family=\"Helvetica,sans-Serif\" font-size=\"14.00\">blood_cholesterol &lt;= 3.375</text>\n<text text-anchor=\"middle\" x=\"2940.5\" y=\"-243.8\" font-family=\"Helvetica,sans-Serif\" font-size=\"14.00\">entropy = 0.71</text>\n<text text-anchor=\"middle\" x=\"2940.5\" y=\"-228.8\" font-family=\"Helvetica,sans-Serif\" font-size=\"14.00\">samples = 299</text>\n<text text-anchor=\"middle\" x=\"2940.5\" y=\"-213.8\" font-family=\"Helvetica,sans-Serif\" font-size=\"14.00\">value = [58, 241]</text>\n<text text-anchor=\"middle\" x=\"2940.5\" y=\"-198.8\" font-family=\"Helvetica,sans-Serif\" font-size=\"14.00\">class = heart_yes</text>\n</g>\n<!-- 481&#45;&gt;482 -->\n<g id=\"edge70\" class=\"edge\">\n<title>481&#45;&gt;482</title>\n<path fill=\"none\" stroke=\"black\" d=\"M2940.5,-309.91C2940.5,-301.65 2940.5,-292.86 2940.5,-284.3\"/>\n<polygon fill=\"black\" stroke=\"black\" points=\"2944,-284.02 2940.5,-274.02 2937,-284.02 2944,-284.02\"/>\n</g>\n<!-- 529 -->\n<g id=\"node76\" class=\"node\">\n<title>529</title>\n<path fill=\"#a9d4f4\" stroke=\"black\" d=\"M3276,-274C3276,-274 3105,-274 3105,-274 3099,-274 3093,-268 3093,-262 3093,-262 3093,-203 3093,-203 3093,-197 3099,-191 3105,-191 3105,-191 3276,-191 3276,-191 3282,-191 3288,-197 3288,-203 3288,-203 3288,-262 3288,-262 3288,-268 3282,-274 3276,-274\"/>\n<text text-anchor=\"middle\" x=\"3190.5\" y=\"-258.8\" font-family=\"Helvetica,sans-Serif\" font-size=\"14.00\">blood_pressure_sys &lt;= 101.0</text>\n<text text-anchor=\"middle\" x=\"3190.5\" y=\"-243.8\" font-family=\"Helvetica,sans-Serif\" font-size=\"14.00\">entropy = 0.943</text>\n<text text-anchor=\"middle\" x=\"3190.5\" y=\"-228.8\" font-family=\"Helvetica,sans-Serif\" font-size=\"14.00\">samples = 230</text>\n<text text-anchor=\"middle\" x=\"3190.5\" y=\"-213.8\" font-family=\"Helvetica,sans-Serif\" font-size=\"14.00\">value = [83, 147]</text>\n<text text-anchor=\"middle\" x=\"3190.5\" y=\"-198.8\" font-family=\"Helvetica,sans-Serif\" font-size=\"14.00\">class = heart_yes</text>\n</g>\n<!-- 481&#45;&gt;529 -->\n<g id=\"edge75\" class=\"edge\">\n<title>481&#45;&gt;529</title>\n<path fill=\"none\" stroke=\"black\" d=\"M3015.51,-315.4C3040.34,-303.78 3068.32,-290.68 3094.51,-278.43\"/>\n<polygon fill=\"black\" stroke=\"black\" points=\"3096.11,-281.54 3103.68,-274.13 3093.14,-275.2 3096.11,-281.54\"/>\n</g>\n<!-- 483 -->\n<g id=\"node72\" class=\"node\">\n<title>483</title>\n<path fill=\"#399de5\" stroke=\"black\" d=\"M2944.5,-147.5C2944.5,-147.5 2846.5,-147.5 2846.5,-147.5 2840.5,-147.5 2834.5,-141.5 2834.5,-135.5 2834.5,-135.5 2834.5,-91.5 2834.5,-91.5 2834.5,-85.5 2840.5,-79.5 2846.5,-79.5 2846.5,-79.5 2944.5,-79.5 2944.5,-79.5 2950.5,-79.5 2956.5,-85.5 2956.5,-91.5 2956.5,-91.5 2956.5,-135.5 2956.5,-135.5 2956.5,-141.5 2950.5,-147.5 2944.5,-147.5\"/>\n<text text-anchor=\"middle\" x=\"2895.5\" y=\"-132.3\" font-family=\"Helvetica,sans-Serif\" font-size=\"14.00\">entropy = 0.0</text>\n<text text-anchor=\"middle\" x=\"2895.5\" y=\"-117.3\" font-family=\"Helvetica,sans-Serif\" font-size=\"14.00\">samples = 46</text>\n<text text-anchor=\"middle\" x=\"2895.5\" y=\"-102.3\" font-family=\"Helvetica,sans-Serif\" font-size=\"14.00\">value = [0, 46]</text>\n<text text-anchor=\"middle\" x=\"2895.5\" y=\"-87.3\" font-family=\"Helvetica,sans-Serif\" font-size=\"14.00\">class = heart_yes</text>\n</g>\n<!-- 482&#45;&gt;483 -->\n<g id=\"edge71\" class=\"edge\">\n<title>482&#45;&gt;483</title>\n<path fill=\"none\" stroke=\"black\" d=\"M2924.89,-190.91C2920.69,-179.98 2916.13,-168.14 2911.89,-157.11\"/>\n<polygon fill=\"black\" stroke=\"black\" points=\"2915.11,-155.74 2908.26,-147.67 2908.58,-158.26 2915.11,-155.74\"/>\n</g>\n<!-- 484 -->\n<g id=\"node73\" class=\"node\">\n<title>484</title>\n<path fill=\"#74baed\" stroke=\"black\" d=\"M3102,-155C3102,-155 2987,-155 2987,-155 2981,-155 2975,-149 2975,-143 2975,-143 2975,-84 2975,-84 2975,-78 2981,-72 2987,-72 2987,-72 3102,-72 3102,-72 3108,-72 3114,-78 3114,-84 3114,-84 3114,-143 3114,-143 3114,-149 3108,-155 3102,-155\"/>\n<text text-anchor=\"middle\" x=\"3044.5\" y=\"-139.8\" font-family=\"Helvetica,sans-Serif\" font-size=\"14.00\">drink_alcohol &lt;= 0.5</text>\n<text text-anchor=\"middle\" x=\"3044.5\" y=\"-124.8\" font-family=\"Helvetica,sans-Serif\" font-size=\"14.00\">entropy = 0.777</text>\n<text text-anchor=\"middle\" x=\"3044.5\" y=\"-109.8\" font-family=\"Helvetica,sans-Serif\" font-size=\"14.00\">samples = 253</text>\n<text text-anchor=\"middle\" x=\"3044.5\" y=\"-94.8\" font-family=\"Helvetica,sans-Serif\" font-size=\"14.00\">value = [58, 195]</text>\n<text text-anchor=\"middle\" x=\"3044.5\" y=\"-79.8\" font-family=\"Helvetica,sans-Serif\" font-size=\"14.00\">class = heart_yes</text>\n</g>\n<!-- 482&#45;&gt;484 -->\n<g id=\"edge72\" class=\"edge\">\n<title>482&#45;&gt;484</title>\n<path fill=\"none\" stroke=\"black\" d=\"M2976.58,-190.91C2984.65,-181.83 2993.28,-172.12 3001.59,-162.77\"/>\n<polygon fill=\"black\" stroke=\"black\" points=\"3004.45,-164.82 3008.48,-155.02 2999.22,-160.17 3004.45,-164.82\"/>\n</g>\n<!-- 485 -->\n<g id=\"node74\" class=\"node\">\n<title>485</title>\n<path fill=\"#c0c0c0\" stroke=\"black\" d=\"M3023.5,-36C3023.5,-36 2993.5,-36 2993.5,-36 2987.5,-36 2981.5,-30 2981.5,-24 2981.5,-24 2981.5,-12 2981.5,-12 2981.5,-6 2987.5,0 2993.5,0 2993.5,0 3023.5,0 3023.5,0 3029.5,0 3035.5,-6 3035.5,-12 3035.5,-12 3035.5,-24 3035.5,-24 3035.5,-30 3029.5,-36 3023.5,-36\"/>\n<text text-anchor=\"middle\" x=\"3008.5\" y=\"-14.3\" font-family=\"Helvetica,sans-Serif\" font-size=\"14.00\">(...)</text>\n</g>\n<!-- 484&#45;&gt;485 -->\n<g id=\"edge73\" class=\"edge\">\n<title>484&#45;&gt;485</title>\n<path fill=\"none\" stroke=\"black\" d=\"M3028.81,-71.76C3025.46,-63.04 3021.99,-54.04 3018.89,-45.99\"/>\n<polygon fill=\"black\" stroke=\"black\" points=\"3022.06,-44.48 3015.2,-36.41 3015.53,-46.99 3022.06,-44.48\"/>\n</g>\n<!-- 494 -->\n<g id=\"node75\" class=\"node\">\n<title>494</title>\n<path fill=\"#c0c0c0\" stroke=\"black\" d=\"M3095.5,-36C3095.5,-36 3065.5,-36 3065.5,-36 3059.5,-36 3053.5,-30 3053.5,-24 3053.5,-24 3053.5,-12 3053.5,-12 3053.5,-6 3059.5,0 3065.5,0 3065.5,0 3095.5,0 3095.5,0 3101.5,0 3107.5,-6 3107.5,-12 3107.5,-12 3107.5,-24 3107.5,-24 3107.5,-30 3101.5,-36 3095.5,-36\"/>\n<text text-anchor=\"middle\" x=\"3080.5\" y=\"-14.3\" font-family=\"Helvetica,sans-Serif\" font-size=\"14.00\">(...)</text>\n</g>\n<!-- 484&#45;&gt;494 -->\n<g id=\"edge74\" class=\"edge\">\n<title>484&#45;&gt;494</title>\n<path fill=\"none\" stroke=\"black\" d=\"M3060.19,-71.76C3063.54,-63.04 3067.01,-54.04 3070.11,-45.99\"/>\n<polygon fill=\"black\" stroke=\"black\" points=\"3073.47,-46.99 3073.8,-36.41 3066.94,-44.48 3073.47,-46.99\"/>\n</g>\n<!-- 530 -->\n<g id=\"node77\" class=\"node\">\n<title>530</title>\n<path fill=\"#e58139\" stroke=\"black\" d=\"M3236.5,-147.5C3236.5,-147.5 3144.5,-147.5 3144.5,-147.5 3138.5,-147.5 3132.5,-141.5 3132.5,-135.5 3132.5,-135.5 3132.5,-91.5 3132.5,-91.5 3132.5,-85.5 3138.5,-79.5 3144.5,-79.5 3144.5,-79.5 3236.5,-79.5 3236.5,-79.5 3242.5,-79.5 3248.5,-85.5 3248.5,-91.5 3248.5,-91.5 3248.5,-135.5 3248.5,-135.5 3248.5,-141.5 3242.5,-147.5 3236.5,-147.5\"/>\n<text text-anchor=\"middle\" x=\"3190.5\" y=\"-132.3\" font-family=\"Helvetica,sans-Serif\" font-size=\"14.00\">entropy = 0.0</text>\n<text text-anchor=\"middle\" x=\"3190.5\" y=\"-117.3\" font-family=\"Helvetica,sans-Serif\" font-size=\"14.00\">samples = 9</text>\n<text text-anchor=\"middle\" x=\"3190.5\" y=\"-102.3\" font-family=\"Helvetica,sans-Serif\" font-size=\"14.00\">value = [9, 0]</text>\n<text text-anchor=\"middle\" x=\"3190.5\" y=\"-87.3\" font-family=\"Helvetica,sans-Serif\" font-size=\"14.00\">class = heart_no</text>\n</g>\n<!-- 529&#45;&gt;530 -->\n<g id=\"edge76\" class=\"edge\">\n<title>529&#45;&gt;530</title>\n<path fill=\"none\" stroke=\"black\" d=\"M3190.5,-190.91C3190.5,-180.2 3190.5,-168.62 3190.5,-157.78\"/>\n<polygon fill=\"black\" stroke=\"black\" points=\"3194,-157.67 3190.5,-147.67 3187,-157.67 3194,-157.67\"/>\n</g>\n<!-- 531 -->\n<g id=\"node78\" class=\"node\">\n<title>531</title>\n<path fill=\"#9dcef2\" stroke=\"black\" d=\"M3382.5,-155C3382.5,-155 3278.5,-155 3278.5,-155 3272.5,-155 3266.5,-149 3266.5,-143 3266.5,-143 3266.5,-84 3266.5,-84 3266.5,-78 3272.5,-72 3278.5,-72 3278.5,-72 3382.5,-72 3382.5,-72 3388.5,-72 3394.5,-78 3394.5,-84 3394.5,-84 3394.5,-143 3394.5,-143 3394.5,-149 3388.5,-155 3382.5,-155\"/>\n<text text-anchor=\"middle\" x=\"3330.5\" y=\"-139.8\" font-family=\"Helvetica,sans-Serif\" font-size=\"14.00\">calories &lt;= 2746.0</text>\n<text text-anchor=\"middle\" x=\"3330.5\" y=\"-124.8\" font-family=\"Helvetica,sans-Serif\" font-size=\"14.00\">entropy = 0.92</text>\n<text text-anchor=\"middle\" x=\"3330.5\" y=\"-109.8\" font-family=\"Helvetica,sans-Serif\" font-size=\"14.00\">samples = 221</text>\n<text text-anchor=\"middle\" x=\"3330.5\" y=\"-94.8\" font-family=\"Helvetica,sans-Serif\" font-size=\"14.00\">value = [74, 147]</text>\n<text text-anchor=\"middle\" x=\"3330.5\" y=\"-79.8\" font-family=\"Helvetica,sans-Serif\" font-size=\"14.00\">class = heart_yes</text>\n</g>\n<!-- 529&#45;&gt;531 -->\n<g id=\"edge77\" class=\"edge\">\n<title>529&#45;&gt;531</title>\n<path fill=\"none\" stroke=\"black\" d=\"M3239.07,-190.91C3250.37,-181.47 3262.48,-171.34 3274.08,-161.65\"/>\n<polygon fill=\"black\" stroke=\"black\" points=\"3276.58,-164.12 3282.01,-155.02 3272.1,-158.75 3276.58,-164.12\"/>\n</g>\n<!-- 532 -->\n<g id=\"node79\" class=\"node\">\n<title>532</title>\n<path fill=\"#c0c0c0\" stroke=\"black\" d=\"M3277.5,-36C3277.5,-36 3247.5,-36 3247.5,-36 3241.5,-36 3235.5,-30 3235.5,-24 3235.5,-24 3235.5,-12 3235.5,-12 3235.5,-6 3241.5,0 3247.5,0 3247.5,0 3277.5,0 3277.5,0 3283.5,0 3289.5,-6 3289.5,-12 3289.5,-12 3289.5,-24 3289.5,-24 3289.5,-30 3283.5,-36 3277.5,-36\"/>\n<text text-anchor=\"middle\" x=\"3262.5\" y=\"-14.3\" font-family=\"Helvetica,sans-Serif\" font-size=\"14.00\">(...)</text>\n</g>\n<!-- 531&#45;&gt;532 -->\n<g id=\"edge78\" class=\"edge\">\n<title>531&#45;&gt;532</title>\n<path fill=\"none\" stroke=\"black\" d=\"M3300.87,-71.76C3294.18,-62.56 3287.25,-53.04 3281.16,-44.66\"/>\n<polygon fill=\"black\" stroke=\"black\" points=\"3283.87,-42.43 3275.16,-36.41 3278.21,-46.55 3283.87,-42.43\"/>\n</g>\n<!-- 563 -->\n<g id=\"node80\" class=\"node\">\n<title>563</title>\n<path fill=\"#c0c0c0\" stroke=\"black\" d=\"M3349.5,-36C3349.5,-36 3319.5,-36 3319.5,-36 3313.5,-36 3307.5,-30 3307.5,-24 3307.5,-24 3307.5,-12 3307.5,-12 3307.5,-6 3313.5,0 3319.5,0 3319.5,0 3349.5,0 3349.5,0 3355.5,0 3361.5,-6 3361.5,-12 3361.5,-12 3361.5,-24 3361.5,-24 3361.5,-30 3355.5,-36 3349.5,-36\"/>\n<text text-anchor=\"middle\" x=\"3334.5\" y=\"-14.3\" font-family=\"Helvetica,sans-Serif\" font-size=\"14.00\">(...)</text>\n</g>\n<!-- 531&#45;&gt;563 -->\n<g id=\"edge79\" class=\"edge\">\n<title>531&#45;&gt;563</title>\n<path fill=\"none\" stroke=\"black\" d=\"M3332.24,-71.76C3332.61,-63.24 3332.98,-54.44 3333.32,-46.53\"/>\n<polygon fill=\"black\" stroke=\"black\" points=\"3336.82,-46.55 3333.76,-36.41 3329.83,-46.25 3336.82,-46.55\"/>\n</g>\n<!-- 571 -->\n<g id=\"node82\" class=\"node\">\n<title>571</title>\n<path fill=\"#bddef6\" stroke=\"black\" d=\"M3647.5,-393C3647.5,-393 3549.5,-393 3549.5,-393 3543.5,-393 3537.5,-387 3537.5,-381 3537.5,-381 3537.5,-322 3537.5,-322 3537.5,-316 3543.5,-310 3549.5,-310 3549.5,-310 3647.5,-310 3647.5,-310 3653.5,-310 3659.5,-316 3659.5,-322 3659.5,-322 3659.5,-381 3659.5,-381 3659.5,-387 3653.5,-393 3647.5,-393\"/>\n<text text-anchor=\"middle\" x=\"3598.5\" y=\"-377.8\" font-family=\"Helvetica,sans-Serif\" font-size=\"14.00\">BMI &lt;= 27.05</text>\n<text text-anchor=\"middle\" x=\"3598.5\" y=\"-362.8\" font-family=\"Helvetica,sans-Serif\" font-size=\"14.00\">entropy = 0.971</text>\n<text text-anchor=\"middle\" x=\"3598.5\" y=\"-347.8\" font-family=\"Helvetica,sans-Serif\" font-size=\"14.00\">samples = 60</text>\n<text text-anchor=\"middle\" x=\"3598.5\" y=\"-332.8\" font-family=\"Helvetica,sans-Serif\" font-size=\"14.00\">value = [24, 36]</text>\n<text text-anchor=\"middle\" x=\"3598.5\" y=\"-317.8\" font-family=\"Helvetica,sans-Serif\" font-size=\"14.00\">class = heart_yes</text>\n</g>\n<!-- 570&#45;&gt;571 -->\n<g id=\"edge81\" class=\"edge\">\n<title>570&#45;&gt;571</title>\n<path fill=\"none\" stroke=\"black\" d=\"M3598.5,-428.91C3598.5,-420.65 3598.5,-411.86 3598.5,-403.3\"/>\n<polygon fill=\"black\" stroke=\"black\" points=\"3602,-403.02 3598.5,-393.02 3595,-403.02 3602,-403.02\"/>\n</g>\n<!-- 580 -->\n<g id=\"node89\" class=\"node\">\n<title>580</title>\n<path fill=\"#54aae9\" stroke=\"black\" d=\"M3980,-393C3980,-393 3809,-393 3809,-393 3803,-393 3797,-387 3797,-381 3797,-381 3797,-322 3797,-322 3797,-316 3803,-310 3809,-310 3809,-310 3980,-310 3980,-310 3986,-310 3992,-316 3992,-322 3992,-322 3992,-381 3992,-381 3992,-387 3986,-393 3980,-393\"/>\n<text text-anchor=\"middle\" x=\"3894.5\" y=\"-377.8\" font-family=\"Helvetica,sans-Serif\" font-size=\"14.00\">blood_pressure_sys &lt;= 135.0</text>\n<text text-anchor=\"middle\" x=\"3894.5\" y=\"-362.8\" font-family=\"Helvetica,sans-Serif\" font-size=\"14.00\">entropy = 0.53</text>\n<text text-anchor=\"middle\" x=\"3894.5\" y=\"-347.8\" font-family=\"Helvetica,sans-Serif\" font-size=\"14.00\">samples = 823</text>\n<text text-anchor=\"middle\" x=\"3894.5\" y=\"-332.8\" font-family=\"Helvetica,sans-Serif\" font-size=\"14.00\">value = [99, 724]</text>\n<text text-anchor=\"middle\" x=\"3894.5\" y=\"-317.8\" font-family=\"Helvetica,sans-Serif\" font-size=\"14.00\">class = heart_yes</text>\n</g>\n<!-- 570&#45;&gt;580 -->\n<g id=\"edge88\" class=\"edge\">\n<title>570&#45;&gt;580</title>\n<path fill=\"none\" stroke=\"black\" d=\"M3688.52,-433.92C3719.71,-421.59 3754.98,-407.65 3787.42,-394.83\"/>\n<polygon fill=\"black\" stroke=\"black\" points=\"3788.92,-398 3796.93,-391.07 3786.34,-391.49 3788.92,-398\"/>\n</g>\n<!-- 572 -->\n<g id=\"node83\" class=\"node\">\n<title>572</title>\n<path fill=\"#6ab6ec\" stroke=\"black\" d=\"M3592,-274C3592,-274 3443,-274 3443,-274 3437,-274 3431,-268 3431,-262 3431,-262 3431,-203 3431,-203 3431,-197 3437,-191 3443,-191 3443,-191 3592,-191 3592,-191 3598,-191 3604,-197 3604,-203 3604,-203 3604,-262 3604,-262 3604,-268 3598,-274 3592,-274\"/>\n<text text-anchor=\"middle\" x=\"3517.5\" y=\"-258.8\" font-family=\"Helvetica,sans-Serif\" font-size=\"14.00\">blood_cholesterol &lt;= 3.48</text>\n<text text-anchor=\"middle\" x=\"3517.5\" y=\"-243.8\" font-family=\"Helvetica,sans-Serif\" font-size=\"14.00\">entropy = 0.722</text>\n<text text-anchor=\"middle\" x=\"3517.5\" y=\"-228.8\" font-family=\"Helvetica,sans-Serif\" font-size=\"14.00\">samples = 45</text>\n<text text-anchor=\"middle\" x=\"3517.5\" y=\"-213.8\" font-family=\"Helvetica,sans-Serif\" font-size=\"14.00\">value = [9, 36]</text>\n<text text-anchor=\"middle\" x=\"3517.5\" y=\"-198.8\" font-family=\"Helvetica,sans-Serif\" font-size=\"14.00\">class = heart_yes</text>\n</g>\n<!-- 571&#45;&gt;572 -->\n<g id=\"edge82\" class=\"edge\">\n<title>571&#45;&gt;572</title>\n<path fill=\"none\" stroke=\"black\" d=\"M3570.4,-309.91C3564.24,-301.01 3557.66,-291.51 3551.31,-282.33\"/>\n<polygon fill=\"black\" stroke=\"black\" points=\"3554.12,-280.25 3545.55,-274.02 3548.37,-284.24 3554.12,-280.25\"/>\n</g>\n<!-- 579 -->\n<g id=\"node88\" class=\"node\">\n<title>579</title>\n<path fill=\"#e58139\" stroke=\"black\" d=\"M3726.5,-266.5C3726.5,-266.5 3634.5,-266.5 3634.5,-266.5 3628.5,-266.5 3622.5,-260.5 3622.5,-254.5 3622.5,-254.5 3622.5,-210.5 3622.5,-210.5 3622.5,-204.5 3628.5,-198.5 3634.5,-198.5 3634.5,-198.5 3726.5,-198.5 3726.5,-198.5 3732.5,-198.5 3738.5,-204.5 3738.5,-210.5 3738.5,-210.5 3738.5,-254.5 3738.5,-254.5 3738.5,-260.5 3732.5,-266.5 3726.5,-266.5\"/>\n<text text-anchor=\"middle\" x=\"3680.5\" y=\"-251.3\" font-family=\"Helvetica,sans-Serif\" font-size=\"14.00\">entropy = 0.0</text>\n<text text-anchor=\"middle\" x=\"3680.5\" y=\"-236.3\" font-family=\"Helvetica,sans-Serif\" font-size=\"14.00\">samples = 15</text>\n<text text-anchor=\"middle\" x=\"3680.5\" y=\"-221.3\" font-family=\"Helvetica,sans-Serif\" font-size=\"14.00\">value = [15, 0]</text>\n<text text-anchor=\"middle\" x=\"3680.5\" y=\"-206.3\" font-family=\"Helvetica,sans-Serif\" font-size=\"14.00\">class = heart_no</text>\n</g>\n<!-- 571&#45;&gt;579 -->\n<g id=\"edge87\" class=\"edge\">\n<title>571&#45;&gt;579</title>\n<path fill=\"none\" stroke=\"black\" d=\"M3626.95,-309.91C3634.84,-298.65 3643.41,-286.42 3651.34,-275.11\"/>\n<polygon fill=\"black\" stroke=\"black\" points=\"3654.38,-276.86 3657.25,-266.67 3648.65,-272.85 3654.38,-276.86\"/>\n</g>\n<!-- 573 -->\n<g id=\"node84\" class=\"node\">\n<title>573</title>\n<path fill=\"#4fa8e8\" stroke=\"black\" d=\"M3540,-155C3540,-155 3425,-155 3425,-155 3419,-155 3413,-149 3413,-143 3413,-143 3413,-84 3413,-84 3413,-78 3419,-72 3425,-72 3425,-72 3540,-72 3540,-72 3546,-72 3552,-78 3552,-84 3552,-84 3552,-143 3552,-143 3552,-149 3546,-155 3540,-155\"/>\n<text text-anchor=\"middle\" x=\"3482.5\" y=\"-139.8\" font-family=\"Helvetica,sans-Serif\" font-size=\"14.00\">drink_alcohol &lt;= 0.5</text>\n<text text-anchor=\"middle\" x=\"3482.5\" y=\"-124.8\" font-family=\"Helvetica,sans-Serif\" font-size=\"14.00\">entropy = 0.469</text>\n<text text-anchor=\"middle\" x=\"3482.5\" y=\"-109.8\" font-family=\"Helvetica,sans-Serif\" font-size=\"14.00\">samples = 40</text>\n<text text-anchor=\"middle\" x=\"3482.5\" y=\"-94.8\" font-family=\"Helvetica,sans-Serif\" font-size=\"14.00\">value = [4, 36]</text>\n<text text-anchor=\"middle\" x=\"3482.5\" y=\"-79.8\" font-family=\"Helvetica,sans-Serif\" font-size=\"14.00\">class = heart_yes</text>\n</g>\n<!-- 572&#45;&gt;573 -->\n<g id=\"edge83\" class=\"edge\">\n<title>572&#45;&gt;573</title>\n<path fill=\"none\" stroke=\"black\" d=\"M3505.36,-190.91C3502.83,-182.47 3500.14,-173.48 3497.53,-164.74\"/>\n<polygon fill=\"black\" stroke=\"black\" points=\"3500.84,-163.6 3494.62,-155.02 3494.13,-165.6 3500.84,-163.6\"/>\n</g>\n<!-- 578 -->\n<g id=\"node87\" class=\"node\">\n<title>578</title>\n<path fill=\"#e58139\" stroke=\"black\" d=\"M3674.5,-147.5C3674.5,-147.5 3582.5,-147.5 3582.5,-147.5 3576.5,-147.5 3570.5,-141.5 3570.5,-135.5 3570.5,-135.5 3570.5,-91.5 3570.5,-91.5 3570.5,-85.5 3576.5,-79.5 3582.5,-79.5 3582.5,-79.5 3674.5,-79.5 3674.5,-79.5 3680.5,-79.5 3686.5,-85.5 3686.5,-91.5 3686.5,-91.5 3686.5,-135.5 3686.5,-135.5 3686.5,-141.5 3680.5,-147.5 3674.5,-147.5\"/>\n<text text-anchor=\"middle\" x=\"3628.5\" y=\"-132.3\" font-family=\"Helvetica,sans-Serif\" font-size=\"14.00\">entropy = 0.0</text>\n<text text-anchor=\"middle\" x=\"3628.5\" y=\"-117.3\" font-family=\"Helvetica,sans-Serif\" font-size=\"14.00\">samples = 5</text>\n<text text-anchor=\"middle\" x=\"3628.5\" y=\"-102.3\" font-family=\"Helvetica,sans-Serif\" font-size=\"14.00\">value = [5, 0]</text>\n<text text-anchor=\"middle\" x=\"3628.5\" y=\"-87.3\" font-family=\"Helvetica,sans-Serif\" font-size=\"14.00\">class = heart_no</text>\n</g>\n<!-- 572&#45;&gt;578 -->\n<g id=\"edge86\" class=\"edge\">\n<title>572&#45;&gt;578</title>\n<path fill=\"none\" stroke=\"black\" d=\"M3556.01,-190.91C3567,-179.32 3578.98,-166.7 3589.97,-155.11\"/>\n<polygon fill=\"black\" stroke=\"black\" points=\"3592.69,-157.33 3597.03,-147.67 3587.61,-152.51 3592.69,-157.33\"/>\n</g>\n<!-- 574 -->\n<g id=\"node85\" class=\"node\">\n<title>574</title>\n<path fill=\"#c0c0c0\" stroke=\"black\" d=\"M3461.5,-36C3461.5,-36 3431.5,-36 3431.5,-36 3425.5,-36 3419.5,-30 3419.5,-24 3419.5,-24 3419.5,-12 3419.5,-12 3419.5,-6 3425.5,0 3431.5,0 3431.5,0 3461.5,0 3461.5,0 3467.5,0 3473.5,-6 3473.5,-12 3473.5,-12 3473.5,-24 3473.5,-24 3473.5,-30 3467.5,-36 3461.5,-36\"/>\n<text text-anchor=\"middle\" x=\"3446.5\" y=\"-14.3\" font-family=\"Helvetica,sans-Serif\" font-size=\"14.00\">(...)</text>\n</g>\n<!-- 573&#45;&gt;574 -->\n<g id=\"edge84\" class=\"edge\">\n<title>573&#45;&gt;574</title>\n<path fill=\"none\" stroke=\"black\" d=\"M3466.81,-71.76C3463.46,-63.04 3459.99,-54.04 3456.89,-45.99\"/>\n<polygon fill=\"black\" stroke=\"black\" points=\"3460.06,-44.48 3453.2,-36.41 3453.53,-46.99 3460.06,-44.48\"/>\n</g>\n<!-- 577 -->\n<g id=\"node86\" class=\"node\">\n<title>577</title>\n<path fill=\"#c0c0c0\" stroke=\"black\" d=\"M3533.5,-36C3533.5,-36 3503.5,-36 3503.5,-36 3497.5,-36 3491.5,-30 3491.5,-24 3491.5,-24 3491.5,-12 3491.5,-12 3491.5,-6 3497.5,0 3503.5,0 3503.5,0 3533.5,0 3533.5,0 3539.5,0 3545.5,-6 3545.5,-12 3545.5,-12 3545.5,-24 3545.5,-24 3545.5,-30 3539.5,-36 3533.5,-36\"/>\n<text text-anchor=\"middle\" x=\"3518.5\" y=\"-14.3\" font-family=\"Helvetica,sans-Serif\" font-size=\"14.00\">(...)</text>\n</g>\n<!-- 573&#45;&gt;577 -->\n<g id=\"edge85\" class=\"edge\">\n<title>573&#45;&gt;577</title>\n<path fill=\"none\" stroke=\"black\" d=\"M3498.19,-71.76C3501.54,-63.04 3505.01,-54.04 3508.11,-45.99\"/>\n<polygon fill=\"black\" stroke=\"black\" points=\"3511.47,-46.99 3511.8,-36.41 3504.94,-44.48 3511.47,-46.99\"/>\n</g>\n<!-- 581 -->\n<g id=\"node90\" class=\"node\">\n<title>581</title>\n<path fill=\"#59ade9\" stroke=\"black\" d=\"M3951.5,-274C3951.5,-274 3837.5,-274 3837.5,-274 3831.5,-274 3825.5,-268 3825.5,-262 3825.5,-262 3825.5,-203 3825.5,-203 3825.5,-197 3831.5,-191 3837.5,-191 3837.5,-191 3951.5,-191 3951.5,-191 3957.5,-191 3963.5,-197 3963.5,-203 3963.5,-203 3963.5,-262 3963.5,-262 3963.5,-268 3957.5,-274 3951.5,-274\"/>\n<text text-anchor=\"middle\" x=\"3894.5\" y=\"-258.8\" font-family=\"Helvetica,sans-Serif\" font-size=\"14.00\">diastolic_bp &lt;= 57.0</text>\n<text text-anchor=\"middle\" x=\"3894.5\" y=\"-243.8\" font-family=\"Helvetica,sans-Serif\" font-size=\"14.00\">entropy = 0.586</text>\n<text text-anchor=\"middle\" x=\"3894.5\" y=\"-228.8\" font-family=\"Helvetica,sans-Serif\" font-size=\"14.00\">samples = 668</text>\n<text text-anchor=\"middle\" x=\"3894.5\" y=\"-213.8\" font-family=\"Helvetica,sans-Serif\" font-size=\"14.00\">value = [94, 574]</text>\n<text text-anchor=\"middle\" x=\"3894.5\" y=\"-198.8\" font-family=\"Helvetica,sans-Serif\" font-size=\"14.00\">class = heart_yes</text>\n</g>\n<!-- 580&#45;&gt;581 -->\n<g id=\"edge89\" class=\"edge\">\n<title>580&#45;&gt;581</title>\n<path fill=\"none\" stroke=\"black\" d=\"M3894.5,-309.91C3894.5,-301.65 3894.5,-292.86 3894.5,-284.3\"/>\n<polygon fill=\"black\" stroke=\"black\" points=\"3898,-284.02 3894.5,-274.02 3891,-284.02 3898,-284.02\"/>\n</g>\n<!-- 666 -->\n<g id=\"node97\" class=\"node\">\n<title>666</title>\n<path fill=\"#40a0e6\" stroke=\"black\" d=\"M4131.5,-274C4131.5,-274 4027.5,-274 4027.5,-274 4021.5,-274 4015.5,-268 4015.5,-262 4015.5,-262 4015.5,-203 4015.5,-203 4015.5,-197 4021.5,-191 4027.5,-191 4027.5,-191 4131.5,-191 4131.5,-191 4137.5,-191 4143.5,-197 4143.5,-203 4143.5,-203 4143.5,-262 4143.5,-262 4143.5,-268 4137.5,-274 4131.5,-274\"/>\n<text text-anchor=\"middle\" x=\"4079.5\" y=\"-258.8\" font-family=\"Helvetica,sans-Serif\" font-size=\"14.00\">calories &lt;= 1992.5</text>\n<text text-anchor=\"middle\" x=\"4079.5\" y=\"-243.8\" font-family=\"Helvetica,sans-Serif\" font-size=\"14.00\">entropy = 0.206</text>\n<text text-anchor=\"middle\" x=\"4079.5\" y=\"-228.8\" font-family=\"Helvetica,sans-Serif\" font-size=\"14.00\">samples = 155</text>\n<text text-anchor=\"middle\" x=\"4079.5\" y=\"-213.8\" font-family=\"Helvetica,sans-Serif\" font-size=\"14.00\">value = [5, 150]</text>\n<text text-anchor=\"middle\" x=\"4079.5\" y=\"-198.8\" font-family=\"Helvetica,sans-Serif\" font-size=\"14.00\">class = heart_yes</text>\n</g>\n<!-- 580&#45;&gt;666 -->\n<g id=\"edge96\" class=\"edge\">\n<title>580&#45;&gt;666</title>\n<path fill=\"none\" stroke=\"black\" d=\"M3958.68,-309.91C3974.18,-300.11 3990.85,-289.56 4006.71,-279.53\"/>\n<polygon fill=\"black\" stroke=\"black\" points=\"4008.85,-282.32 4015.43,-274.02 4005.11,-276.41 4008.85,-282.32\"/>\n</g>\n<!-- 582 -->\n<g id=\"node91\" class=\"node\">\n<title>582</title>\n<path fill=\"#9acdf2\" stroke=\"black\" d=\"M3848,-155C3848,-155 3717,-155 3717,-155 3711,-155 3705,-149 3705,-143 3705,-143 3705,-84 3705,-84 3705,-78 3711,-72 3717,-72 3717,-72 3848,-72 3848,-72 3854,-72 3860,-78 3860,-84 3860,-84 3860,-143 3860,-143 3860,-149 3854,-155 3848,-155\"/>\n<text text-anchor=\"middle\" x=\"3782.5\" y=\"-139.8\" font-family=\"Helvetica,sans-Serif\" font-size=\"14.00\">family_income &lt;= 1.19</text>\n<text text-anchor=\"middle\" x=\"3782.5\" y=\"-124.8\" font-family=\"Helvetica,sans-Serif\" font-size=\"14.00\">entropy = 0.914</text>\n<text text-anchor=\"middle\" x=\"3782.5\" y=\"-109.8\" font-family=\"Helvetica,sans-Serif\" font-size=\"14.00\">samples = 76</text>\n<text text-anchor=\"middle\" x=\"3782.5\" y=\"-94.8\" font-family=\"Helvetica,sans-Serif\" font-size=\"14.00\">value = [25, 51]</text>\n<text text-anchor=\"middle\" x=\"3782.5\" y=\"-79.8\" font-family=\"Helvetica,sans-Serif\" font-size=\"14.00\">class = heart_yes</text>\n</g>\n<!-- 581&#45;&gt;582 -->\n<g id=\"edge90\" class=\"edge\">\n<title>581&#45;&gt;582</title>\n<path fill=\"none\" stroke=\"black\" d=\"M3855.64,-190.91C3846.87,-181.74 3837.47,-171.93 3828.44,-162.49\"/>\n<polygon fill=\"black\" stroke=\"black\" points=\"3830.73,-159.82 3821.29,-155.02 3825.68,-164.66 3830.73,-159.82\"/>\n</g>\n<!-- 595 -->\n<g id=\"node94\" class=\"node\">\n<title>595</title>\n<path fill=\"#53aae8\" stroke=\"black\" d=\"M3988.5,-155C3988.5,-155 3890.5,-155 3890.5,-155 3884.5,-155 3878.5,-149 3878.5,-143 3878.5,-143 3878.5,-84 3878.5,-84 3878.5,-78 3884.5,-72 3890.5,-72 3890.5,-72 3988.5,-72 3988.5,-72 3994.5,-72 4000.5,-78 4000.5,-84 4000.5,-84 4000.5,-143 4000.5,-143 4000.5,-149 3994.5,-155 3988.5,-155\"/>\n<text text-anchor=\"middle\" x=\"3939.5\" y=\"-139.8\" font-family=\"Helvetica,sans-Serif\" font-size=\"14.00\">calories &lt;= 522.0</text>\n<text text-anchor=\"middle\" x=\"3939.5\" y=\"-124.8\" font-family=\"Helvetica,sans-Serif\" font-size=\"14.00\">entropy = 0.519</text>\n<text text-anchor=\"middle\" x=\"3939.5\" y=\"-109.8\" font-family=\"Helvetica,sans-Serif\" font-size=\"14.00\">samples = 592</text>\n<text text-anchor=\"middle\" x=\"3939.5\" y=\"-94.8\" font-family=\"Helvetica,sans-Serif\" font-size=\"14.00\">value = [69, 523]</text>\n<text text-anchor=\"middle\" x=\"3939.5\" y=\"-79.8\" font-family=\"Helvetica,sans-Serif\" font-size=\"14.00\">class = heart_yes</text>\n</g>\n<!-- 581&#45;&gt;595 -->\n<g id=\"edge93\" class=\"edge\">\n<title>581&#45;&gt;595</title>\n<path fill=\"none\" stroke=\"black\" d=\"M3910.11,-190.91C3913.39,-182.38 3916.89,-173.28 3920.29,-164.46\"/>\n<polygon fill=\"black\" stroke=\"black\" points=\"3923.59,-165.61 3923.92,-155.02 3917.06,-163.1 3923.59,-165.61\"/>\n</g>\n<!-- 583 -->\n<g id=\"node92\" class=\"node\">\n<title>583</title>\n<path fill=\"#c0c0c0\" stroke=\"black\" d=\"M3761.5,-36C3761.5,-36 3731.5,-36 3731.5,-36 3725.5,-36 3719.5,-30 3719.5,-24 3719.5,-24 3719.5,-12 3719.5,-12 3719.5,-6 3725.5,0 3731.5,0 3731.5,0 3761.5,0 3761.5,0 3767.5,0 3773.5,-6 3773.5,-12 3773.5,-12 3773.5,-24 3773.5,-24 3773.5,-30 3767.5,-36 3761.5,-36\"/>\n<text text-anchor=\"middle\" x=\"3746.5\" y=\"-14.3\" font-family=\"Helvetica,sans-Serif\" font-size=\"14.00\">(...)</text>\n</g>\n<!-- 582&#45;&gt;583 -->\n<g id=\"edge91\" class=\"edge\">\n<title>582&#45;&gt;583</title>\n<path fill=\"none\" stroke=\"black\" d=\"M3766.81,-71.76C3763.46,-63.04 3759.99,-54.04 3756.89,-45.99\"/>\n<polygon fill=\"black\" stroke=\"black\" points=\"3760.06,-44.48 3753.2,-36.41 3753.53,-46.99 3760.06,-44.48\"/>\n</g>\n<!-- 584 -->\n<g id=\"node93\" class=\"node\">\n<title>584</title>\n<path fill=\"#c0c0c0\" stroke=\"black\" d=\"M3833.5,-36C3833.5,-36 3803.5,-36 3803.5,-36 3797.5,-36 3791.5,-30 3791.5,-24 3791.5,-24 3791.5,-12 3791.5,-12 3791.5,-6 3797.5,0 3803.5,0 3803.5,0 3833.5,0 3833.5,0 3839.5,0 3845.5,-6 3845.5,-12 3845.5,-12 3845.5,-24 3845.5,-24 3845.5,-30 3839.5,-36 3833.5,-36\"/>\n<text text-anchor=\"middle\" x=\"3818.5\" y=\"-14.3\" font-family=\"Helvetica,sans-Serif\" font-size=\"14.00\">(...)</text>\n</g>\n<!-- 582&#45;&gt;584 -->\n<g id=\"edge92\" class=\"edge\">\n<title>582&#45;&gt;584</title>\n<path fill=\"none\" stroke=\"black\" d=\"M3798.19,-71.76C3801.54,-63.04 3805.01,-54.04 3808.11,-45.99\"/>\n<polygon fill=\"black\" stroke=\"black\" points=\"3811.47,-46.99 3811.8,-36.41 3804.94,-44.48 3811.47,-46.99\"/>\n</g>\n<!-- 596 -->\n<g id=\"node95\" class=\"node\">\n<title>596</title>\n<path fill=\"#c0c0c0\" stroke=\"black\" d=\"M3930.5,-36C3930.5,-36 3900.5,-36 3900.5,-36 3894.5,-36 3888.5,-30 3888.5,-24 3888.5,-24 3888.5,-12 3888.5,-12 3888.5,-6 3894.5,0 3900.5,0 3900.5,0 3930.5,0 3930.5,0 3936.5,0 3942.5,-6 3942.5,-12 3942.5,-12 3942.5,-24 3942.5,-24 3942.5,-30 3936.5,-36 3930.5,-36\"/>\n<text text-anchor=\"middle\" x=\"3915.5\" y=\"-14.3\" font-family=\"Helvetica,sans-Serif\" font-size=\"14.00\">(...)</text>\n</g>\n<!-- 595&#45;&gt;596 -->\n<g id=\"edge94\" class=\"edge\">\n<title>595&#45;&gt;596</title>\n<path fill=\"none\" stroke=\"black\" d=\"M3929.04,-71.76C3926.83,-63.14 3924.55,-54.24 3922.5,-46.26\"/>\n<polygon fill=\"black\" stroke=\"black\" points=\"3925.84,-45.22 3919.97,-36.41 3919.06,-46.96 3925.84,-45.22\"/>\n</g>\n<!-- 597 -->\n<g id=\"node96\" class=\"node\">\n<title>597</title>\n<path fill=\"#c0c0c0\" stroke=\"black\" d=\"M4002.5,-36C4002.5,-36 3972.5,-36 3972.5,-36 3966.5,-36 3960.5,-30 3960.5,-24 3960.5,-24 3960.5,-12 3960.5,-12 3960.5,-6 3966.5,0 3972.5,0 3972.5,0 4002.5,0 4002.5,0 4008.5,0 4014.5,-6 4014.5,-12 4014.5,-12 4014.5,-24 4014.5,-24 4014.5,-30 4008.5,-36 4002.5,-36\"/>\n<text text-anchor=\"middle\" x=\"3987.5\" y=\"-14.3\" font-family=\"Helvetica,sans-Serif\" font-size=\"14.00\">(...)</text>\n</g>\n<!-- 595&#45;&gt;597 -->\n<g id=\"edge95\" class=\"edge\">\n<title>595&#45;&gt;597</title>\n<path fill=\"none\" stroke=\"black\" d=\"M3960.41,-71.76C3964.99,-62.85 3969.72,-53.64 3973.92,-45.46\"/>\n<polygon fill=\"black\" stroke=\"black\" points=\"3977.11,-46.9 3978.56,-36.41 3970.88,-43.7 3977.11,-46.9\"/>\n</g>\n<!-- 667 -->\n<g id=\"node98\" class=\"node\">\n<title>667</title>\n<path fill=\"#399de5\" stroke=\"black\" d=\"M4128.5,-147.5C4128.5,-147.5 4030.5,-147.5 4030.5,-147.5 4024.5,-147.5 4018.5,-141.5 4018.5,-135.5 4018.5,-135.5 4018.5,-91.5 4018.5,-91.5 4018.5,-85.5 4024.5,-79.5 4030.5,-79.5 4030.5,-79.5 4128.5,-79.5 4128.5,-79.5 4134.5,-79.5 4140.5,-85.5 4140.5,-91.5 4140.5,-91.5 4140.5,-135.5 4140.5,-135.5 4140.5,-141.5 4134.5,-147.5 4128.5,-147.5\"/>\n<text text-anchor=\"middle\" x=\"4079.5\" y=\"-132.3\" font-family=\"Helvetica,sans-Serif\" font-size=\"14.00\">entropy = 0.0</text>\n<text text-anchor=\"middle\" x=\"4079.5\" y=\"-117.3\" font-family=\"Helvetica,sans-Serif\" font-size=\"14.00\">samples = 110</text>\n<text text-anchor=\"middle\" x=\"4079.5\" y=\"-102.3\" font-family=\"Helvetica,sans-Serif\" font-size=\"14.00\">value = [0, 110]</text>\n<text text-anchor=\"middle\" x=\"4079.5\" y=\"-87.3\" font-family=\"Helvetica,sans-Serif\" font-size=\"14.00\">class = heart_yes</text>\n</g>\n<!-- 666&#45;&gt;667 -->\n<g id=\"edge97\" class=\"edge\">\n<title>666&#45;&gt;667</title>\n<path fill=\"none\" stroke=\"black\" d=\"M4079.5,-190.91C4079.5,-180.2 4079.5,-168.62 4079.5,-157.78\"/>\n<polygon fill=\"black\" stroke=\"black\" points=\"4083,-157.67 4079.5,-147.67 4076,-157.67 4083,-157.67\"/>\n</g>\n<!-- 668 -->\n<g id=\"node99\" class=\"node\">\n<title>668</title>\n<path fill=\"#52a9e8\" stroke=\"black\" d=\"M4320,-155C4320,-155 4171,-155 4171,-155 4165,-155 4159,-149 4159,-143 4159,-143 4159,-84 4159,-84 4159,-78 4165,-72 4171,-72 4171,-72 4320,-72 4320,-72 4326,-72 4332,-78 4332,-84 4332,-84 4332,-143 4332,-143 4332,-149 4326,-155 4320,-155\"/>\n<text text-anchor=\"middle\" x=\"4245.5\" y=\"-139.8\" font-family=\"Helvetica,sans-Serif\" font-size=\"14.00\">blood_cholesterol &lt;= 4.72</text>\n<text text-anchor=\"middle\" x=\"4245.5\" y=\"-124.8\" font-family=\"Helvetica,sans-Serif\" font-size=\"14.00\">entropy = 0.503</text>\n<text text-anchor=\"middle\" x=\"4245.5\" y=\"-109.8\" font-family=\"Helvetica,sans-Serif\" font-size=\"14.00\">samples = 45</text>\n<text text-anchor=\"middle\" x=\"4245.5\" y=\"-94.8\" font-family=\"Helvetica,sans-Serif\" font-size=\"14.00\">value = [5, 40]</text>\n<text text-anchor=\"middle\" x=\"4245.5\" y=\"-79.8\" font-family=\"Helvetica,sans-Serif\" font-size=\"14.00\">class = heart_yes</text>\n</g>\n<!-- 666&#45;&gt;668 -->\n<g id=\"edge98\" class=\"edge\">\n<title>666&#45;&gt;668</title>\n<path fill=\"none\" stroke=\"black\" d=\"M4137.09,-190.91C4150.87,-181.2 4165.68,-170.76 4179.79,-160.81\"/>\n<polygon fill=\"black\" stroke=\"black\" points=\"4181.85,-163.64 4188.01,-155.02 4177.82,-157.92 4181.85,-163.64\"/>\n</g>\n<!-- 669 -->\n<g id=\"node100\" class=\"node\">\n<title>669</title>\n<path fill=\"#c0c0c0\" stroke=\"black\" d=\"M4224.5,-36C4224.5,-36 4194.5,-36 4194.5,-36 4188.5,-36 4182.5,-30 4182.5,-24 4182.5,-24 4182.5,-12 4182.5,-12 4182.5,-6 4188.5,0 4194.5,0 4194.5,0 4224.5,0 4224.5,0 4230.5,0 4236.5,-6 4236.5,-12 4236.5,-12 4236.5,-24 4236.5,-24 4236.5,-30 4230.5,-36 4224.5,-36\"/>\n<text text-anchor=\"middle\" x=\"4209.5\" y=\"-14.3\" font-family=\"Helvetica,sans-Serif\" font-size=\"14.00\">(...)</text>\n</g>\n<!-- 668&#45;&gt;669 -->\n<g id=\"edge99\" class=\"edge\">\n<title>668&#45;&gt;669</title>\n<path fill=\"none\" stroke=\"black\" d=\"M4229.81,-71.76C4226.46,-63.04 4222.99,-54.04 4219.89,-45.99\"/>\n<polygon fill=\"black\" stroke=\"black\" points=\"4223.06,-44.48 4216.2,-36.41 4216.53,-46.99 4223.06,-44.48\"/>\n</g>\n<!-- 672 -->\n<g id=\"node101\" class=\"node\">\n<title>672</title>\n<path fill=\"#c0c0c0\" stroke=\"black\" d=\"M4296.5,-36C4296.5,-36 4266.5,-36 4266.5,-36 4260.5,-36 4254.5,-30 4254.5,-24 4254.5,-24 4254.5,-12 4254.5,-12 4254.5,-6 4260.5,0 4266.5,0 4266.5,0 4296.5,0 4296.5,0 4302.5,0 4308.5,-6 4308.5,-12 4308.5,-12 4308.5,-24 4308.5,-24 4308.5,-30 4302.5,-36 4296.5,-36\"/>\n<text text-anchor=\"middle\" x=\"4281.5\" y=\"-14.3\" font-family=\"Helvetica,sans-Serif\" font-size=\"14.00\">(...)</text>\n</g>\n<!-- 668&#45;&gt;672 -->\n<g id=\"edge100\" class=\"edge\">\n<title>668&#45;&gt;672</title>\n<path fill=\"none\" stroke=\"black\" d=\"M4261.19,-71.76C4264.54,-63.04 4268.01,-54.04 4271.11,-45.99\"/>\n<polygon fill=\"black\" stroke=\"black\" points=\"4274.47,-46.99 4274.8,-36.41 4267.94,-44.48 4274.47,-46.99\"/>\n</g>\n</g>\n</svg>\n",
            "text/plain": [
              "<graphviz.sources.Source at 0x7a44a0341dc0>"
            ]
          },
          "metadata": {}
        }
      ],
      "source": [
        "# Overfit\n",
        "tree_overfit = DecisionTreeClassifier(criterion=\"entropy\", min_samples_split=2)\n",
        "tree_overfit.fit(X_train, t_train)\n",
        "\n",
        "print(\"Training Accuracy (overfit):\", tree_overfit.score(X_train, t_train))\n",
        "print(\"Validation Accuracy (overfit):\", tree_overfit.score(X_val, t_val))\n",
        "\n",
        "# visualize the tree\n",
        "visualize_tree(tree_overfit)"
      ]
    },
    {
      "cell_type": "markdown",
      "id": "grave-dimension",
      "metadata": {
        "id": "grave-dimension"
      },
      "source": [
        "**Graded Task:** What value of `min_samples_split` did you choose to make the tree underfit, or overfit? Why do these values cause the graph to underfit, or overfit?"
      ]
    },
    {
      "cell_type": "code",
      "execution_count": 90,
      "id": "iraqi-hygiene",
      "metadata": {
        "id": "iraqi-hygiene"
      },
      "outputs": [],
      "source": [
        "# Set min_samples_split=500 to make the tree underfit.\n",
        "# because requiring such a large number of samples at each split prevents the tree from capturing important patterns,\n",
        "# leading to low training and validation accuracy.\n",
        "\n",
        "# Set min_samples_split=2 to make the tree overfit.\n",
        "# because allowing splits with very few samples lets the tree grow too deep and memorize noise,\n",
        "# which increases training accuracy but reduces generalization on validation data."
      ]
    },
    {
      "cell_type": "markdown",
      "id": "persistent-browse",
      "metadata": {
        "id": "persistent-browse"
      },
      "source": [
        "**Task:** What differences in training accuracy do you see between your underfitted and overfitted decision trees? Why might this be the case?"
      ]
    },
    {
      "cell_type": "code",
      "execution_count": 89,
      "id": "valuable-baseball",
      "metadata": {
        "id": "valuable-baseball"
      },
      "outputs": [],
      "source": [
        "# Differences in Training-Accuracy\n",
        "\n",
        "# The Underfitted tree shows lower training accuracy\n",
        "# because its shallow structure cannot capture the complexity of the data.\n",
        "\n",
        "# The overfitted tree, on the other hand, has much higher training accuracy\n",
        "# since it memorizes too many details of the training set.\n",
        "\n",
        "# This difference arises because underfitting lacks model capacity,\n",
        "# while overfitting uses excessive capacity, fitting both signal and noise in the training data."
      ]
    },
    {
      "cell_type": "markdown",
      "id": "varying-nashville",
      "metadata": {
        "id": "varying-nashville"
      },
      "source": [
        "## Part 3. Hyperparameter Tuning\n",
        "\n",
        "So far, we have experimented with two Decision Tree hyperparameters: `max_depth` and `min_samples_split`. Another hyperparameter we can vary is the `criterion` for measuring split quality. In lecture, and earlier in this lab, we used `entropy` as the criterion. Another criterion that Sklearn supports is `gini` (Gini impurity index). You don't need to know the implementation details behind this as we'll rely on Sklearn to compute it. However, if you are interested in learning more about this alternative impurity index, we encourage you to [read more about it](https://en.wikipedia.org/wiki/Gini_coefficient).\n",
        "\n",
        "Thus, our goal is now to figure out what combination of `max_depth`, `min_samples_split` and `criterion` results in the \"best\" decision tree. It is up to you to determine what \"best\" means in this context.\n",
        "\n",
        "**Graded Task:** Start by completing `build_all_models` based on the function specification.\n",
        "This function builds many trees, one for each combination of hyperparameters, and\n",
        "then compares them."
      ]
    },
    {
      "cell_type": "code",
      "execution_count": 51,
      "id": "hired-person",
      "metadata": {
        "id": "hired-person"
      },
      "outputs": [],
      "source": [
        "def build_all_models(max_depths,\n",
        "                     min_samples_split,\n",
        "                     criterion,\n",
        "                     X_train=X_train,\n",
        "                     t_train=t_train,\n",
        "                     X_valid=X_val,\n",
        "                     t_valid=t_val):\n",
        "    \"\"\"\n",
        "    Parameters:\n",
        "        `max_depths` - A list of values representing the max_depth values to be\n",
        "                       try as hyperparameter values\n",
        "        `min_samples_split` - An list of values representing the min_samples_split\n",
        "                       values to try as hyperpareameter values\n",
        "        `criterion` -  A string; either \"entropy\" or \"gini\"\n",
        "\n",
        "    Returns a dictionary, `out`, whose keys are the the hyperparameter choices, and whose values are\n",
        "    the training and validation accuracies (via the `score()` method).\n",
        "    In other words, out[(max_depth, min_samples_split)]['val'] = validation score and\n",
        "                    out[(max_depth, min_samples_split)]['train'] = training score\n",
        "    For that combination of (max_depth, min_samples_split) hyperparameters.\n",
        "    \"\"\"\n",
        "    out = {}\n",
        "\n",
        "    for d in max_depths:\n",
        "        for s in min_samples_split:\n",
        "            out[(d, s)] = {}\n",
        "            # Create a DecisionTreeClassifier based on the given hyperparameters and fit it to the data\n",
        "            tree = DecisionTreeClassifier(criterion=criterion,\n",
        "                                         max_depth=d,\n",
        "                                         min_samples_split=s)\n",
        "            tree.fit(X_train, t_train)\n",
        "\n",
        "            # Store the validation and training scores in the `out` dictionary\n",
        "            out[(d, s)]['val'] = tree.score(X_train, t_train)\n",
        "            out[(d, s)]['train'] = tree.score(X_valid, t_valid)\n",
        "\n",
        "    return out"
      ]
    },
    {
      "cell_type": "markdown",
      "id": "graduate-alpha",
      "metadata": {
        "id": "graduate-alpha"
      },
      "source": [
        "**Graded Task:** In this task, we will use an approach called **grid search** to\n",
        "tune hyperparameters: we will list possible values for each hyperparameter,\n",
        "and then attempt every combination of hyperparameter choices. In our case,\n",
        "we will start with some possible values for `max_depth`, `min_samples_split` and `criterion`. Then we will try all combinations\n",
        "of these hyperparameter choices.\n",
        "\n",
        "Complete the code below that performs grid search, by using `build_all_models`\n",
        "to build models and evaluate hyperparameter choices.\n",
        "Print the best parameters and corresponding scores (accuracy) for each of\n",
        "criterion=entropy and criterion=gini (i.e. you should have 2 print statements, 1 for each criterion)."
      ]
    },
    {
      "cell_type": "code",
      "execution_count": 87,
      "id": "universal-setup",
      "metadata": {
        "id": "universal-setup",
        "colab": {
          "base_uri": "https://localhost:8080/"
        },
        "outputId": "ec4921cc-1dbe-4982-844e-e1e5ec2f576d"
      },
      "outputs": [
        {
          "output_type": "stream",
          "name": "stdout",
          "text": [
            "\n",
            "Using criterion entropy\n",
            "Best parameters for entropy: max_depth=25, min_samples_split=2\n",
            "Training accuracy: 0.9627\n",
            "Validation accuracy: 1.0000\n",
            "\n",
            "Using criterion gini\n",
            "Best parameters for gini: max_depth=25, min_samples_split=2\n",
            "Training accuracy: 0.9547\n",
            "Validation accuracy: 1.0000\n"
          ]
        }
      ],
      "source": [
        "# Hyperparameters values to try in our grid search\n",
        "criterions = [\"entropy\", \"gini\"]\n",
        "max_depths = [1, 5, 10, 15, 20, 25, 30, 50, 100]\n",
        "min_samples_split = [2, 4, 8, 16, 32, 64, 128, 256, 512, 1024]\n",
        "\n",
        "for criterion in criterions:\n",
        "    print(\"\\nUsing criterion {}\".format(criterion))\n",
        "    res = build_all_models(max_depths, min_samples_split, criterion,\n",
        "                           X_train=X_train, t_train=t_train,\n",
        "                           X_valid=X_val, t_valid=t_val)\n",
        "\n",
        "    # Complete this loop which should search for the optimal\n",
        "    #  (max_depth, min_samples_split) given this criterion\n",
        "\n",
        "    best_val_score = 0\n",
        "    best_params = None\n",
        "\n",
        "    for (d, s) in res:\n",
        "        val_score = res[(d, s)]['val']\n",
        "        if val_score > best_val_score:\n",
        "            best_val_score = val_score\n",
        "            best_params = (d, s)\n",
        "\n",
        "    print(\"Best parameters for {}: max_depth={}, min_samples_split={}\".format(\n",
        "        criterion, best_params[0], best_params[1]\n",
        "    ))\n",
        "\n",
        "    print(\"Training accuracy: {:.4f}\".format(res[best_params]['train']))\n",
        "    print(\"Validation accuracy: {:.4f}\".format(best_val_score))"
      ]
    },
    {
      "cell_type": "markdown",
      "id": "raising-private",
      "metadata": {
        "id": "raising-private"
      },
      "source": [
        "## Part 4. Test accuracy\n",
        "\n",
        "**Task:** Use the optimal set of hyperparameters you previously discovered to fit a new Decision Tree model to the data. Report the test score."
      ]
    },
    {
      "cell_type": "code",
      "execution_count": 121,
      "id": "virtual-iraqi",
      "metadata": {
        "id": "virtual-iraqi",
        "colab": {
          "base_uri": "https://localhost:8080/"
        },
        "outputId": "00f411c5-94e5-4c85-d5ee-4b4a98641da3"
      },
      "outputs": [
        {
          "output_type": "stream",
          "name": "stdout",
          "text": [
            "Test Accuracy: 0.97\n"
          ]
        }
      ],
      "source": [
        "best_tree = DecisionTreeClassifier(\n",
        "    criterion=\"entropy\",\n",
        "    max_depth=25,\n",
        "    min_samples_split=2\n",
        ")\n",
        "\n",
        "best_tree.fit(X_train, t_train)\n",
        "\n",
        "test_score = best_tree.score(X_test, t_test)\n",
        "print(\"Test Accuracy:\", test_score)"
      ]
    },
    {
      "cell_type": "markdown",
      "id": "existing-bench",
      "metadata": {
        "id": "existing-bench"
      },
      "source": [
        "The accuracy measure above considers every mis-classification that is made by our model an `error`, and it assumes that each and every error is of equal importance. However, in many domains, not all errors are of equal importance at all! Some mistakes may have significant negative impacts on people, while others may not.  In future labs, we'll look more closely at different kinds of errors that our models may make and reflect on how these errors might be related to risks.\n",
        "\n",
        "For now, however, let's simply reflect on some shortcomings of the accuracy measure above.\n",
        "\n",
        "**Graded Task:** Assume we have two decision trees that both report 95% accuracy on our validation set.\n",
        "Why might a doctor prefer to use one tree rather than the other?  Answer below in 100 words or less."
      ]
    },
    {
      "cell_type": "code",
      "execution_count": 88,
      "id": "informed-project",
      "metadata": {
        "id": "informed-project"
      },
      "outputs": [],
      "source": [
        "# Although both trees achieve 95% accuracy, the distribution of their errors may differ.\n",
        "# One tree might produce more false positives (predicting disease when the patient is healthy),\n",
        "# while the other produces more false negatives (predicting healthy when the patient is actually sick).\n",
        "\n",
        "# In medicine, false negatives are usually more dangerous because they can delay diagnosis and treatment.\n",
        "# Therefore, even with the same overall accuracy, a doctor would prefer the tree that minimizes false negatives,\n",
        "# since reducing this type of error is more critical for patient safety."
      ]
    }
  ],
  "metadata": {
    "colab": {
      "provenance": [],
      "toc_visible": true
    },
    "language_info": {
      "name": "python"
    },
    "kernelspec": {
      "name": "python3",
      "display_name": "Python 3"
    }
  },
  "nbformat": 4,
  "nbformat_minor": 5
}