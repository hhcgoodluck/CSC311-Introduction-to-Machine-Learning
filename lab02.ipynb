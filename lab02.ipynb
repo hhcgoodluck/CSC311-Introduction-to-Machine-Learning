{
 "cells": [
  {
   "cell_type": "markdown",
   "id": "ready-external",
   "metadata": {},
   "source": [
    "# CSC311 Lab 2: Decision Trees and Accuracy-based Diagnostics\n",
    "\n",
    "All artificial intelligence systems have the potential to fail and in some domains\n",
    "(like health) failures can have grave consequences.  When we work in these domains,\n",
    "it's important for us to understand our algorithmic errors and their potential risk.\n",
    "\n",
    "<!--\n",
    "In labs 2, 5 and 7, we'll loosely be following the autiding procedure suggested by [Lui et. al](https://www.thelancet.com/journals/landig/article/PIIS2589-7500(22)00003-6/fulltext) in order to build and analyze a decision making system that operates in a high risk domain.\n",
    "-->\n",
    "\n",
    "In labs 2, 5 and 7, we will use data from The National Health and Nutrition Examination Survey [NHANES](https://www.cdc.gov/nchs/nhanes/index.htm) in the United States.\n",
    "This survey runs annually to assess people's health and nutritional status, and it combines data from interviews and physical examinations. We will be exploring a\n",
    "handful of attributes from the 2014 instance of this survey and their ability to predict heart disease.\n",
    "Making decisions using health data is particularly high risk, so we will use this opportunity to discuss\n",
    "how to assess our model prior to using it.\n",
    "\n",
    "<!--\n",
    "We will then do some testing according to\n",
    "the [auditing recipe](https://www.thelancet.com/journals/landig/article/PIIS2589-7500(22)00003-6/fulltext#seccestitle40) presented by Liu.\n",
    "-->\n",
    "\n",
    "In this lab, we will explore the features in this data set, use `sklearn` to fit a\n",
    "decision tree to our data, and do some work to select hyperparamters that maximize\n",
    "accuracy (or minimize the number of our classification mistakes). In future labs, we\n",
    "will be exploring our mistakes, relating them to important subgroups, and reflecting\n",
    "on our model's robustness. We will also consider how assessments of risk associated\n",
    "with our errors should or could inform our decision making criteria.\n",
    "\n",
    "By the end of this lab, you will be able to:\n",
    "\n",
    "1. Perform an exploratory analysis to understand the features that we use to make predictions.\n",
    "2. Transform features into formats amenable to machine learning (i.e. using one-hot embeddings).\n",
    "3. Use `sklearn` to fit a decision tree to our data and determine its training/validation/test accuracy. \n",
    "4. Visualize, understand and interpret a decision tree diagram.\n",
    "5. Explain how various hyperparameter choices may cause our decision tree to underfit or overfit data.\n",
    "6. Perform hyperparameter tuning to search for the optimal hyperparameters of a decision tree. \n",
    "\n",
    "Please work in groups of 1-2 during the labs.\n",
    "\n",
    "Acknowledgements:\n",
    "\n",
    "- Thanks to https://www.kaggle.com/code/tobyanderson/health-survey-analysis for some utilities to decode NHANES categories!  \n",
    "- This lab was created in collaboration with, Prof. Sonya Allin, Mustafa Haiderbhai, Carolyn Quinlan, Brandon Jaipersaud and others.\n",
    "\n",
    "## Submission\n",
    "\n",
    "If you are working with a partner, start by creating a group on Markus. If you are working alone,\n",
    "click \"Working Alone\".\n",
    "\n",
    "Submit the ipynb file `lab02.ipynb` on Markus \n",
    "**containing all your solutions to the Graded Tasks**.\n",
    "Your notebook file must contain your code **and outputs** where applicable,\n",
    "including printed lines and images.\n",
    "Your TA will not run your code for the purpose of grading.\n",
    "\n",
    "For this lab, you should submit the following:\n",
    "\n",
    "\n",
    "- Part 1. Your explanation for whether our features are likely to be informative predictors. (1 point)\n",
    "- Part 1. Your explanation for why encoding categorical variables as numeric values is problematic for a decision tree. (1 point)\n",
    "- Part 1. Your explanation as to why there is no need to normalize the features of a decision tree. (1 point)\n",
    "- Part 2. Your classification of `X_train[5]` based on your generated decision tree diagram and a justification for your classification. (1 point)\n",
    "- Part 2. The values of `max_depth` you chose to make your decision tree underfit/overfit, along with the generated diagrams. A justification as to why those values make the tree underfit/overfit. (1 point)\n",
    "- Part 2. The values of `min_samples_split` you chose to make your decision tree underfit/overfit. A justification as to why those values make the tree underfit/overfit. (1 point)\n",
    "- Part 3. Your implementation of `build_all_models`.  (2 points)\n",
    "- Part 3. Your implementation of grid search, including print statement(s) that show your best parameters and corresponding scores for both `entropy` and `gini` criteria.  (1 point)\n",
    "- Part 4. Your reflections on the exercise, and our definition of a model that performs \"well\". (1 point)\n",
    "\n",
    "## Google Colab Setup\n",
    "\n",
    "As before, we will import `matplotlib` and `numpy` for plotting and linear algebra\n",
    "manipulations."
   ]
  },
  {
   "cell_type": "code",
   "execution_count": null,
   "id": "certified-instrument",
   "metadata": {},
   "outputs": [],
   "source": [
    "import matplotlib.pyplot as plt # For plotting\n",
    "import numpy as np              # Linear algebra library"
   ]
  },
  {
   "cell_type": "markdown",
   "id": "numeric-turning",
   "metadata": {},
   "source": [
    "In addition to using `numpy` for its linear algebra functionalities, we will also use\n",
    "a library called `pandas` to help us read CSV files and manipulate tabular data.\n",
    "The below code reads each of the csv files into a **data frame**, which is a way that\n",
    "`pandas` stores tabular data. \n",
    "As an added bonus, Jupyter notebooks display these data frames in a human-readable way."
   ]
  },
  {
   "cell_type": "code",
   "execution_count": null,
   "id": "competitive-thomson",
   "metadata": {},
   "outputs": [],
   "source": [
    "import pandas as pd"
   ]
  },
  {
   "cell_type": "markdown",
   "id": "fitting-bullet",
   "metadata": {},
   "source": [
    "As before, we will start by downloading the data to Google Colab."
   ]
  },
  {
   "cell_type": "code",
   "execution_count": null,
   "id": "blind-israeli",
   "metadata": {},
   "outputs": [],
   "source": [
    "!wget https://www.cs.toronto.edu/~lczhang/311/lab02/NHANES-heart.csv"
   ]
  },
  {
   "cell_type": "markdown",
   "id": "handy-korea",
   "metadata": {},
   "source": [
    "Use pandas to read the dataset."
   ]
  },
  {
   "cell_type": "code",
   "execution_count": null,
   "id": "gentle-howard",
   "metadata": {},
   "outputs": [],
   "source": [
    "# read each of the csv files as a *pandas data frame*\n",
    "data = pd.read_csv(\"NHANES-heart.csv\")\n",
    "\n",
    "# display one the dataframes in the notebook\n",
    "data"
   ]
  },
  {
   "cell_type": "markdown",
   "id": "known-insight",
   "metadata": {},
   "source": [
    "## Part 1. Data\n",
    "\n",
    "We will be focusing on NHANES survey data relevant to the assessment of heart disease. \n",
    "Note however that assessing the presence of heart disease based on this survey data is not an easy task.\n",
    "This is because people may have heart disease but not know it, or people may think they have heart disease\n",
    "when they do not. In our data, we have defined an individual as having heart disease if they answered \"Yes\"\n",
    "to this question on the NHANES survey: \"Have you ever been told by a doctor that you had congestive heart\n",
    "failure, coronary heart disease, a heart attack, or a stroke?\".  This is, as you may notice, not the perfect\n",
    "measure of heart disease! It is however the information we have in hand and it is consistent with the way others\n",
    "have defined heart disease in the [literature](https://www.ncbi.nlm.nih.gov/pmc/articles/PMC6836338/).\n",
    "\n",
    "If you are interested in better understanding the NHANES survey responses, we encourage you to look at\n",
    "the [NHANES data dictionary](https://wwwn.cdc.gov/nchs/nhanes/continuousnhanes/default.aspx). Understanding\n",
    "your data is extremely important, as there are often situations in which measurements may be ambiguous or\n",
    "inaccurate, and these inaccuracies impact any decision making algorithm you create.\n",
    "\n",
    "If you do work to gather data, it will be your responsibility to document this data.  And if you use data to\n",
    "create an algorithm, it will be your responsibility to understand its limitations.  If you are interested in\n",
    "best practices related to data documentation, we encourage you to read [Gebru's article on this topic](https://arxiv.org/pdf/1803.09010.pdf).\n",
    "You may also be interested in current data [reporting standards](https://www.bmj.com/content/370/bmj.m3164) for clinical trials that involve automated decision making tools.\n",
    "\n",
    "In this lab, we will be looking at 10 features from the NHANES data set. We have done work to clean the data for you so that it is approachable, but we encourage you to take a look at the raw data as you are able.  The definitions of the features are as follows:\n",
    " \n",
    "- `gender` (RIAGENDR): which is binary 2=female, 1=male\n",
    "- `race_ethnicity` (RIDRETH3): which can be 1=mexican american, 2=other hispanic, 3=white, 4=black, 6=asian, ...\n",
    "- `age` (RIDAGEYR): Age in years\n",
    "- `drink_alcohol` (ALQ101): which is binary; 1 indicates the individual reportedly drinks alcohol and 2 indicates they do not\n",
    "- `blood_cholesterol` (LBDTCSI): Results of an individual's blood cholesterol tests (mmol of cholesterol/L of blood)\n",
    "- `blood_pressure_sys` (BPXSY1): an individual's systolic blood pressure\n",
    "- `diastolic_bp` (BPXDI1): an individual's diastolic blood pressure\n",
    "- `calories` (DR1TKCAL): the number of calories an individual eats per day\n",
    "- `BMI` (BMXBMI): an individual's Body Mass Index (which can be used to assess obesity)\n",
    "- `chest_pain_ever` (CDQ001): If an individual has ever reported chest pain.\n",
    "- `family_income` (INDFMPIR): Ratio of a family's income to poverty threshold\n",
    "\n",
    "We will be using these features to predict the column `target_heart`:\n",
    "\n",
    "- `target_heart`: An individual reports that they have heart disease (1=yes, 0=no).\n",
    "\n",
    "\n",
    "Let's start by exploring the data that we have in hand. Pandas has a nice function to summarize the mean and dispersion of each feature in our data frame:"
   ]
  },
  {
   "cell_type": "code",
   "execution_count": null,
   "id": "bridal-lawrence",
   "metadata": {},
   "outputs": [],
   "source": [
    "data.describe()"
   ]
  },
  {
   "cell_type": "markdown",
   "id": "polished-treatment",
   "metadata": {},
   "source": [
    "We can also visualize the spread of numerical features using *box plots*. A box plot visually summarizes much of the information that is produced by a call to data.describe(). The orange line in the middle of each box represents the median (or 50th percentile) of the data.  Each box spans a range from the 25th to 75th percentile of the attribute in question. Outliers are plotted as points outside of the box.\n",
    "\n",
    "If, after you review some box plots, you are not comfortable with how box plots work, [Khan Academy has a good series of videos that explain how to read and interpret them.](https://www.khanacademy.org/math/statistics-probability/summarizing-quantitative-data/box-whisker-plots/v/reading-box-and-whisker-plots)"
   ]
  },
  {
   "cell_type": "code",
   "execution_count": null,
   "id": "norman-mandate",
   "metadata": {},
   "outputs": [],
   "source": [
    "plt.title(\"Box Plot Showing the Distribution of 'weight_kg'\")\n",
    "plt.boxplot(data[\"weight_kg\"])"
   ]
  },
  {
   "cell_type": "code",
   "execution_count": null,
   "id": "japanese-index",
   "metadata": {},
   "outputs": [],
   "source": [
    "plt.title(\"Box Plot Showing the Distribution of 'age'\")\n",
    "plt.boxplot(data[\"age\"])"
   ]
  },
  {
   "cell_type": "markdown",
   "id": "circular-cheat",
   "metadata": {},
   "source": [
    "In the first box plot, we see that half of the people in the data set are under 64 kg,\n",
    "just as shown in the table generated by `data.describe()`. We see also that there are some outliers who weigh more than the general population of people in our data set.\n",
    "\n",
    "\n",
    "**Task:** Plot box plots for the remaining numerical features."
   ]
  },
  {
   "cell_type": "code",
   "execution_count": null,
   "id": "brutal-pioneer",
   "metadata": {},
   "outputs": [],
   "source": [
    "# TODO"
   ]
  },
  {
   "cell_type": "markdown",
   "id": "blocked-variation",
   "metadata": {},
   "source": [
    "For the categorical features, we can also tabulate the frequency that each category\n",
    "occurs in the data set:"
   ]
  },
  {
   "cell_type": "code",
   "execution_count": null,
   "id": "marked-respect",
   "metadata": {},
   "outputs": [],
   "source": [
    "data['gender'].value_counts()"
   ]
  },
  {
   "cell_type": "code",
   "execution_count": null,
   "id": "mediterranean-interest",
   "metadata": {},
   "outputs": [],
   "source": [
    "data['drink_alcohol'].value_counts()"
   ]
  },
  {
   "cell_type": "code",
   "execution_count": null,
   "id": "alert-copper",
   "metadata": {},
   "outputs": [],
   "source": [
    "data['chest_pain_ever'].value_counts()"
   ]
  },
  {
   "cell_type": "markdown",
   "id": "smaller-lottery",
   "metadata": {},
   "source": [
    "We see there are roughly equal numbers of men and women in the dataset and the majority report they drink alcohol.  About 1 in 4 report that they have experienced chest pain at some point in their lives.\n",
    "\n",
    "Finally, let's take a look at the distribution of our target variable."
   ]
  },
  {
   "cell_type": "code",
   "execution_count": null,
   "id": "statutory-hamburg",
   "metadata": {},
   "outputs": [],
   "source": [
    "data['target_heart'].value_counts()"
   ]
  },
  {
   "cell_type": "markdown",
   "id": "scheduled-gallery",
   "metadata": {},
   "source": [
    "Note there are an equal number of cases that are labelled as having heart disease as not having heart disease.  This is both curious and convenient but it is absolutely **NOT** representative of the distribution of heart disease in the general population.  In the general population of Canada, about 1 in 12 (or 8%) have heart disease.  This is roughly the same as the distribution of reported heart disease across all NHANES survey respondents.  So why doesn't the data we are analyzing here reflect this distribution?  This is because we have sampled the NHANES survey data so as to **balance** the cases of heart disease against the cases without. \n",
    "\n",
    "**Task** Why did we create a dataset with a roughly equal number of data points that have `target_heart=1` and `target_heart=0`? In particular, what do you think might happen to our decision tree if we allowed 92% our training data to reflect the true prevalence of heart disease? <!-- ... and to therefore consist of data points with `target_heart=0`? -->"
   ]
  },
  {
   "cell_type": "code",
   "execution_count": null,
   "id": "fancy-closure",
   "metadata": {},
   "outputs": [],
   "source": [
    "# TODO"
   ]
  },
  {
   "cell_type": "markdown",
   "id": "olive-message",
   "metadata": {},
   "source": [
    "**Task**: Let's continue exploring our data by plotting separate box plots for people with heart disease and people without heart disease. These box plots for (for `blood_cholesterol`, `age`, `calories` and `BMI`) should give you a sense of whether people with heart disease are\n",
    "different from those without heart disease, according to each of these characteristics. You should see that those with heart disease are, on average, older."
   ]
  },
  {
   "cell_type": "code",
   "execution_count": null,
   "id": "scientific-generator",
   "metadata": {},
   "outputs": [],
   "source": [
    "# analyze the distribution of blood_cholesterol for people with and without heart disease\n",
    "data.boxplot(column='blood_cholesterol', by='target_heart')\n",
    "\n",
    "# TODO do the same for 'age', 'calories', and 'BMI'"
   ]
  },
  {
   "cell_type": "markdown",
   "id": "empirical-jaguar",
   "metadata": {},
   "source": [
    "**Task**: We will do the same type of exploration for the categorical\n",
    "variables. Read the documentation for \n",
    "[pandas.crosstab](https://pandas.pydata.org/docs/reference/api/pandas.crosstab.html)\n",
    "so that you can explain the results of the following calls:"
   ]
  },
  {
   "cell_type": "code",
   "execution_count": null,
   "id": "interesting-kelly",
   "metadata": {},
   "outputs": [],
   "source": [
    "pd.crosstab(data[\"target_heart\"], data[\"gender\"])"
   ]
  },
  {
   "cell_type": "code",
   "execution_count": null,
   "id": "living-nashville",
   "metadata": {},
   "outputs": [],
   "source": [
    "pd.crosstab(data[\"target_heart\"], data[\"drink_alcohol\"])"
   ]
  },
  {
   "cell_type": "code",
   "execution_count": null,
   "id": "ideal-registrar",
   "metadata": {},
   "outputs": [],
   "source": [
    "pd.crosstab(data[\"target_heart\"], data[\"chest_pain_ever\"])"
   ]
  },
  {
   "cell_type": "markdown",
   "id": "alone-matrix",
   "metadata": {},
   "source": [
    "**Graded Task**: \n",
    "Do you expect each of \"blood_cholesterol\", \"age\",  \"calories\", and \"BMI\" to be an informative predictor for \"target_heart\"?\n",
    "What about \"gender\", \"drink_alcohol\" and \"chest_pain_ever\"?\n",
    "Using your output from above, briefly explain why or why not."
   ]
  },
  {
   "cell_type": "code",
   "execution_count": null,
   "id": "logical-aging",
   "metadata": {},
   "outputs": [],
   "source": [
    "# TODO: your prediction as to whether these features are informative predictors.\n",
    "# For full credit, justify your answer with the figures above. Include the\n",
    "# figures above in your submission."
   ]
  },
  {
   "cell_type": "markdown",
   "id": "exclusive-munich",
   "metadata": {},
   "source": [
    "**Task**: Complete the exploratory data analysis by visualizing the remaining features.\n",
    "You should get a sense of whether these features may be informative predictors,\n",
    "and the distribution of these features.\n",
    "\n",
    "As a side note, this is also a great time to look for unexpected issues with the data.\n",
    "Is there missing data? Is there data that is outside the normal range that you would expect\n",
    "(e.g. an age of 500)? Are there features that almost always take on the same value,\n",
    "and would therefore likely not to be useful?"
   ]
  },
  {
   "cell_type": "code",
   "execution_count": null,
   "id": "aggregate-delicious",
   "metadata": {},
   "outputs": [],
   "source": [
    "# TODO"
   ]
  },
  {
   "cell_type": "markdown",
   "id": "adapted-completion",
   "metadata": {},
   "source": [
    "**Graded Task**: Before being able to use our data to train a decision tree model,\n",
    "we need to transform some of the ways that our features are encoded. In particular, we need to change our current encoding of `gender`\n",
    "and `race_ethnicity`.  Explain why the current encoding should not be used with a decision tree classifier."
   ]
  },
  {
   "cell_type": "code",
   "execution_count": null,
   "id": "under-computer",
   "metadata": {},
   "outputs": [],
   "source": [
    "# TODO: your explanation"
   ]
  },
  {
   "cell_type": "markdown",
   "id": "solid-zealand",
   "metadata": {},
   "source": [
    "To solve the problem with our current encoding, we will encode categorical features using\n",
    "**indicator variables**. We will construct an indicator variable for every possible\n",
    "*value* or *category*.  More specifically, we will make a separate indicator variable for `race_ethicity_white`,\n",
    "`race_ethicity_black`, etc, with each feature taking on a value of 1 or 0.\n",
    "\n",
    "We will also group together `race_ethnicity=1` and \n",
    "`race_ethnicity=2` since these groups represent \"Mexican American\" and \n",
    "\"Other Hispanic\" and these groups are smaller than the others.\n",
    "This is a modeling decision born out of our understanding of the data, \n",
    "**and it may not be the correct decision**!\n",
    "Typically, many factors would go into decisions like this, including discussions\n",
    "with colleagues to understand where the data comes from and how the model will be used.\n",
    "Model building is also an iterative process: we may want to build multiple models with different\n",
    "feature representations, and compare the performance and other characteristics of\n",
    "these models.\n",
    "\n",
    "**Task**: Convert `data` into a numpy array `data_fets` with $N=8000$\n",
    "rows and with the following columns:\n",
    "\n",
    "- An indicator feature with value 1 iff `gender=2` (female)\n",
    "- An indicator feature with value 1 iff `race_ethnicity=1` or `race_ethnicity=2` (hispanic)\n",
    "- An indicator feature with value 1 iff `race_ethnicity=3` (white)\n",
    "- An indicator feature with value 1 iff `race_ethnicity=4` (black)\n",
    "- An indicator feature with value 1 iff `race_ethnicity=6` (asian)\n",
    "- An indicator feature with value 1 iff `chest_pain_ever=1`\n",
    "- An indicator feature with value 1 iff `drink_alcohol=1`\n",
    "- The numerical `age` feature\n",
    "- The numerical `blood_cholesterol` feature\n",
    "- The numerical `BMI` feature\n",
    "- The numerical `blood_pressure_sys` feature\n",
    "- The numerical `diastolic_bp` feature\n",
    "- The numerical `calories` feature\n",
    "- The numerical `family_income` feature\n",
    "\n",
    "Some of the features are provided for you. Complete the remaining features.\n",
    "\n",
    "This code works by creating individual numpy (1D) arrays for each feature,\n",
    "and then stacking them together into a single (2D) numpy array."
   ]
  },
  {
   "cell_type": "code",
   "execution_count": null,
   "id": "understood-bhutan",
   "metadata": {},
   "outputs": [],
   "source": [
    "data_fets = np.stack([\n",
    "    # gender_female: this code creates an array of booleans, which converted into 0 and 1\n",
    "    data[\"gender\"] == 2, \n",
    "    # re_hispanic: this code leverages addition to perform an \"or\" operation\n",
    "    (data[\"race_ethnicity\"] == 1) + (data[\"race_ethnicity\"] == 2),\n",
    "    # re_white\n",
    "    data[\"race_ethnicity\"] == 3,  \n",
    "    # re_black\n",
    "    data[\"race_ethnicity\"] == 4,\n",
    "    # re_aisan\n",
    "    data[\"race_ethnicity\"] == 6,\n",
    "    # chest_pain_ever\n",
    "    data[\"chest_pain_ever\"] == 1,\n",
    "    # drink_alcohol\n",
    "    data[\"drink_alcohol\"] == 1,\n",
    "    # age: this is a numeric value and no transformations are required\n",
    "    data[\"age\"],\n",
    "    # blood_cholesterol: TODO\n",
    "    # BMI: TODO\n",
    "    # blood_pressure_sys: TODO\n",
    "    # diastolic_bp: TODO\n",
    "    # calories: TODO\n",
    "    # family_income: TODO\n",
    "], axis=1)\n",
    "\n",
    "print(data_fets.shape) # Should be (8000, 14)"
   ]
  },
  {
   "cell_type": "markdown",
   "id": "hollywood-anatomy",
   "metadata": {},
   "source": [
    "We will also declare a new array to store all the feature names. This will come in handy later when we visualize decision trees."
   ]
  },
  {
   "cell_type": "code",
   "execution_count": null,
   "id": "endless-corruption",
   "metadata": {},
   "outputs": [],
   "source": [
    "feature_names = [\n",
    "    \"gender_female\", \n",
    "    \"re_hispanic\", \n",
    "    \"re_white\",\n",
    "    \"re_black\",\n",
    "    \"re_asian\",\n",
    "    \"chest_pain\",\n",
    "    \"drink_alcohol\",\n",
    "    \"age\",\n",
    "    \"blood_cholesterol\",\n",
    "    \"BMI\",\n",
    "    \"blood_pressure_sys\",\n",
    "    \"diastolic_bp\",\n",
    "    \"calories\",\n",
    "    \"family_income\"]"
   ]
  },
  {
   "cell_type": "markdown",
   "id": "opened-psychology",
   "metadata": {},
   "source": [
    "**Task** Finally, let's separate our data into training, validation, and test sets.\n",
    "We will use 5000 data points for training, 1500 for validation, and 1500 for test.\n",
    "\n",
    "Instead of manually splitting the data into two sets, we will use a function provided by `sklearn` which randomly splits the data for us. Use the `train_test_split` function to split the data into training and test sets. To ensure that the randomization is consistent across runs, please supply the following parameter to the `train_test_split` function: 'random_state=1'.  This will ensure that the each time you run your code, you are placing the same data points in your training, test and validation sets.\n",
    "\n",
    "You will likely need to read the [documentation](https://scikit-learn.org/stable/modules/generated/sklearn.model_selection.train_test_split.html) for the `sklearn.model_selection.train_test_splits` to get this job done."
   ]
  },
  {
   "cell_type": "code",
   "execution_count": null,
   "id": "vocal-quest",
   "metadata": {},
   "outputs": [],
   "source": [
    "\n",
    "from sklearn.model_selection import train_test_split\n",
    "\n",
    "# Split the data into X (dependent variables) and t (response variable)\n",
    "X = data_fets\n",
    "t = np.array(data[\"target_heart\"])\n",
    "\n",
    "# First, we will use `train_test_split` to split the data set into\n",
    "# 6500 training+validation, and 1500 test:\n",
    "X_tv, X_test, t_tv, t_test = train_test_split(X, t, test_size=1500/8000, random_state=1)\n",
    "\n",
    "# Then, use `train_test_split` to split the training+validation data\n",
    "# into 5000 train and 1500 validation"
   ]
  },
  {
   "cell_type": "markdown",
   "id": "bored-departure",
   "metadata": {},
   "source": [
    "**Graded Task**: Recall that in lab 1, normalizing our features yielded a\n",
    "marked improvement in the performance (accuracy) of our kNN model.\n",
    "Explain why normalizing our features will likely *not* improve a \n",
    "decision tree classifier.\n",
    "\n",
    "Your explanation serves as justification for *not* normalizing our features before continuing."
   ]
  },
  {
   "cell_type": "code",
   "execution_count": null,
   "id": "medium-water",
   "metadata": {},
   "outputs": [],
   "source": [
    "# TODO"
   ]
  },
  {
   "cell_type": "markdown",
   "id": "great-invite",
   "metadata": {},
   "source": [
    "## Part 2. Using `sklearn` to Implement and Visualize Decision Trees\n",
    "\n",
    "One advantage of decision trees over other models is that they are easy\n",
    "to interpret and visualize.  The function `visualize_tree` below can be used to plot an `sklearn` decision tree model in your Colab Notebook."
   ]
  },
  {
   "cell_type": "code",
   "execution_count": null,
   "id": "right-theorem",
   "metadata": {},
   "outputs": [],
   "source": [
    "from sklearn.tree import DecisionTreeClassifier\n",
    "\n",
    "# imports to visualize tree\n",
    "from sklearn import tree as treeViz\n",
    "import graphviz\n",
    "import pydotplus\n",
    "from IPython.display import display"
   ]
  },
  {
   "cell_type": "code",
   "execution_count": null,
   "id": "personalized-evans",
   "metadata": {},
   "outputs": [],
   "source": [
    "def visualize_tree(model, max_depth=5):\n",
    "    \"\"\" \n",
    "    Generate and return an image representing an Sklearn decision tree.\n",
    "\n",
    "    Each node in the visualization represents a node in the decision tree.\n",
    "    In addition, visualization for each node contains:\n",
    "        - The feature that is split on\n",
    "        - The entropy (of the outputs `t`) at the node\n",
    "        - The number of training samples at the node\n",
    "        - The number of training samples with true/false values\n",
    "        - The majority class (heart disease or not)\n",
    "    The colour of the node also shows the majority class and purity\n",
    "\n",
    "    See here: https://scikit-learn.org/stable/modules/generated/sklearn.tree.export_graphviz.html\n",
    "\n",
    "    Parameters:\n",
    "        `model` - An Sklearn decision tree model\n",
    "        `max_depth` - Max depth of decision tree to be rendered in the notebook.\n",
    "         This is useful since the tree can get very large if the max_depth is\n",
    "         set too high and thus making the resulting figure difficult to interpret.\n",
    "    \"\"\"\n",
    "    dot_data = treeViz.export_graphviz(model,\n",
    "                                       feature_names=feature_names,\n",
    "                                       max_depth=max_depth,\n",
    "                                       class_names=[\"heart_no\", \"heart_yes\"],\n",
    "                                       filled=True,\n",
    "                                       rounded=True)\n",
    "    return display(graphviz.Source(dot_data))\n",
    "    "
   ]
  },
  {
   "cell_type": "markdown",
   "id": "colonial-round",
   "metadata": {},
   "source": [
    "Next, we will use sklearn's `DecisionTreeClassifier` to create some decision trees to fit to our data. \n",
    "\n",
    "**Task:** Fit a `DecisionTreeClassifier` to our dataset. Use `entropy` to measure the quality of a decision tree split, and set the `max_depth` to 3. Then, print the training and validation scores (accuracy).\n",
    "\n",
    "See more here: https://scikit-learn.org/stable/modules/generated/sklearn.tree.DecisionTreeClassifier.html"
   ]
  },
  {
   "cell_type": "code",
   "execution_count": null,
   "id": "paperback-money",
   "metadata": {},
   "outputs": [],
   "source": [
    "# Creating a DecisionTreeClassifier  \n",
    "tree = DecisionTreeClassifier(criterion=\"entropy\", max_depth=3)\n",
    "\n",
    "# TODO: fit it to our data\n",
    "\n",
    "# Print the training and validation scores (accuracy)\n",
    "print(\"Training Accuracy:\", tree.score(X_train, t_train))\n",
    "print(\"Validation Accuracy:\", tree.score(X_valid, t_valid))"
   ]
  },
  {
   "cell_type": "markdown",
   "id": "legitimate-economy",
   "metadata": {},
   "source": [
    "**Task:** Use `visualize_tree` to visualize the decision tree that was fit."
   ]
  },
  {
   "cell_type": "code",
   "execution_count": null,
   "id": "unlimited-editor",
   "metadata": {},
   "outputs": [],
   "source": [
    "# TODO: call visualize_tree on the tree that was fit"
   ]
  },
  {
   "cell_type": "markdown",
   "id": "restricted-thong",
   "metadata": {},
   "source": [
    "If this is done correctly, you should see your decision tree rendered above in your notebook.\n",
    "\n",
    "Let's try to interpret the decision tree we just generated! \n",
    "\n",
    "**Graded Task:** Using the decision tree you generated above, classify the training example `X_train[5]` by hand.\n",
    "In your write up, determine the set of nodes in the decision tree that we must visit to classify this training example."
   ]
  },
  {
   "cell_type": "code",
   "execution_count": null,
   "id": "welcome-consumer",
   "metadata": {},
   "outputs": [],
   "source": [
    "# TODO: Perform the classification of this data point by hand\n",
    "print(dict(zip(feature_names, X_train[5])))"
   ]
  },
  {
   "cell_type": "markdown",
   "id": "injured-employer",
   "metadata": {},
   "source": [
    "We will now explore some hyperparameter choices that may cause our decision tree to underfit or overfit our data. Recall that overfitting means that, while our model may accurately capture relationships between inputs and our classification target in training data, it may not capture such relationships in the validation data. By contrast, underfitting occurs when our model lacks the complexity to model relationships in either training or validation data.  \n",
    "\n",
    "**Task:** Similar to what you did above, create another `DecisionTreeClassifier` that uses `entropy` to measure the quality of a split. Set the `max_depth` to a value that will cause the tree to *underfit*. Report the accuracy on the validation and training sets. Visualize the tree by calling `visualize_tree`."
   ]
  },
  {
   "cell_type": "code",
   "execution_count": null,
   "id": "steady-culture",
   "metadata": {},
   "outputs": [],
   "source": [
    "# TODO: create a DecisionTreeClassifier  \n",
    "\n",
    "# TODO: fit it to our data\n",
    "\n",
    "# Print the training and validation accuracy\n",
    "print(\"Training Accuracy:\", tree.score(X_train, t_train))\n",
    "print(\"Validation Accuracy:\", tree.score(X_valid, t_valid))\n",
    "\n",
    "# TODO: visualize the tree"
   ]
  },
  {
   "cell_type": "markdown",
   "id": "colored-median",
   "metadata": {},
   "source": [
    "**Task:** Repeat the same computation as above, but set the `max_depth` to a value that will cause the tree to *overfit*. When using `visualize_tree` to visualize the tree, leave the default max depth parameter as 5."
   ]
  },
  {
   "cell_type": "code",
   "execution_count": null,
   "id": "constitutional-notification",
   "metadata": {},
   "outputs": [],
   "source": [
    "# TODO"
   ]
  },
  {
   "cell_type": "markdown",
   "id": "vocal-scheme",
   "metadata": {},
   "source": [
    "**Graded Task:** What value of `max_depth` did you choose to make the tree underfit, or overfit? Why do these values cause the graph to underfit, or overfit?"
   ]
  },
  {
   "cell_type": "code",
   "execution_count": null,
   "id": "proper-gallery",
   "metadata": {},
   "outputs": [],
   "source": [
    "# TODO"
   ]
  },
  {
   "cell_type": "markdown",
   "id": "amended-facial",
   "metadata": {},
   "source": [
    "We will now repeat the same computation as above, but vary the `min_samples_split` parameter instead of `max_depth`.\n",
    "\n",
    "**Task:** Similar to what we've been doing above, create another `DecisionTreeClassifier` that uses `entropy` to measure the quality of a split. This time set `min_samples_split` to a value that would cause the tree to *underfit*.  Omit the `max_depth` parameter. Report the accuracy (obtained via the `score()` method) on the validation and training sets. Visualize the tree."
   ]
  },
  {
   "cell_type": "code",
   "execution_count": null,
   "id": "balanced-bridge",
   "metadata": {},
   "outputs": [],
   "source": [
    "# TODO"
   ]
  },
  {
   "cell_type": "markdown",
   "id": "wound-procedure",
   "metadata": {},
   "source": [
    "**Task:** Repeat the same thing you did above. Set `min_samples_split` to a value that would cause the tree to *overfit*. Omit the `max_depth` parameter. Report the accuracy on the validation and training sets. When using `visualize_tree` to visualize the tree, you can leave the default max depth parameter as 5."
   ]
  },
  {
   "cell_type": "code",
   "execution_count": null,
   "id": "capable-burst",
   "metadata": {},
   "outputs": [],
   "source": [
    "# TODO"
   ]
  },
  {
   "cell_type": "markdown",
   "id": "grave-dimension",
   "metadata": {},
   "source": [
    "**Graded Task:** What value of `min_samples_split` did you choose to make the tree underfit, or overfit? Why do these values cause the graph to underfit, or overfit?"
   ]
  },
  {
   "cell_type": "code",
   "execution_count": null,
   "id": "iraqi-hygiene",
   "metadata": {},
   "outputs": [],
   "source": [
    "# TODO"
   ]
  },
  {
   "cell_type": "markdown",
   "id": "persistent-browse",
   "metadata": {},
   "source": [
    "**Task:** What differences in training accuracy do you see between your underfitted and overfitted decision trees? Why might this be the case?"
   ]
  },
  {
   "cell_type": "code",
   "execution_count": null,
   "id": "valuable-baseball",
   "metadata": {},
   "outputs": [],
   "source": [
    "# TODO"
   ]
  },
  {
   "cell_type": "markdown",
   "id": "varying-nashville",
   "metadata": {},
   "source": [
    "## Part 3. Hyperparameter Tuning\n",
    "\n",
    "So far, we have experimented with two Decision Tree hyperparameters: `max_depth` and `min_samples_split`. Another hyperparameter we can vary is the `criterion` for measuring split quality. In lecture, and earlier in this lab, we used `entropy` as the criterion. Another criterion that Sklearn supports is `gini` (Gini impurity index). You don't need to know the implementation details behind this as we'll rely on Sklearn to compute it. However, if you are interested in learning more about this alternative impurity index, we encourage you to [read more about it](https://en.wikipedia.org/wiki/Gini_coefficient).\n",
    "\n",
    "Thus, our goal is now to figure out what combination of `max_depth`, `min_samples_split` and `criterion` results in the \"best\" decision tree. It is up to you to determine what \"best\" means in this context.\n",
    "\n",
    "**Graded Task:** Start by completing `build_all_models` based on the function specification.\n",
    "This function builds many trees, one for each combination of hyperparameters, and\n",
    "then compares them."
   ]
  },
  {
   "cell_type": "code",
   "execution_count": null,
   "id": "hired-person",
   "metadata": {},
   "outputs": [],
   "source": [
    "def build_all_models(max_depths,\n",
    "                     min_samples_split,\n",
    "                     criterion,\n",
    "                     X_train=X_train,\n",
    "                     t_train=t_train,\n",
    "                     X_valid=X_valid,\n",
    "                     t_valid=t_valid):\n",
    "    \"\"\"\n",
    "    Parameters:\n",
    "        `max_depths` - A list of values representing the max_depth values to be\n",
    "                       try as hyperparameter values\n",
    "        `min_samples_split` - An list of values representing the min_samples_split\n",
    "                       values to try as hyperpareameter values\n",
    "        `criterion` -  A string; either \"entropy\" or \"gini\"\n",
    "\n",
    "    Returns a dictionary, `out`, whose keys are the the hyperparameter choices, and whose values are\n",
    "    the training and validation accuracies (via the `score()` method).\n",
    "    In other words, out[(max_depth, min_samples_split)]['val'] = validation score and\n",
    "                    out[(max_depth, min_samples_split)]['train'] = training score\n",
    "    For that combination of (max_depth, min_samples_split) hyperparameters.\n",
    "    \"\"\"\n",
    "    out = {}\n",
    "\n",
    "    for d in max_depths:\n",
    "        for s in min_samples_split:\n",
    "            out[(d, s)] = {}\n",
    "            # Create a DecisionTreeClassifier based on the given hyperparameters and fit it to the data\n",
    "            tree = None # TODO\n",
    "\n",
    "            # TODO: store the validation and training scores in the `out` dictionary\n",
    "            out[(d, s)]['val'] = None # TODO\n",
    "            out[(d, s)]['train'] = None # TODO\n",
    "    return out"
   ]
  },
  {
   "cell_type": "markdown",
   "id": "graduate-alpha",
   "metadata": {},
   "source": [
    "**Graded Task:** In this task, we will use an approach called **grid search** to\n",
    "tune hyperparameters: we will list possible values for each hyperparameter,\n",
    "and then attempt every combination of hyperparameter choices. In our case,\n",
    "we will start with some possible values for `max_depth`, `min_samples_split` and `criterion`. Then we will try all combinations\n",
    "of these hyperparameter choices.\n",
    "\n",
    "Complete the code below that performs grid search, by using `build_all_models`\n",
    "to build models and evaluate hyperparameter choices.\n",
    "Print the best parameters and corresponding scores (accuracy) for each of\n",
    "criterion=entropy and criterion=gini (i.e. you should have 2 print statements, 1 for each criterion)."
   ]
  },
  {
   "cell_type": "code",
   "execution_count": null,
   "id": "universal-setup",
   "metadata": {},
   "outputs": [],
   "source": [
    "# Hyperparameters values to try in our grid search\n",
    "criterions = [\"entropy\", \"gini\"]\n",
    "max_depths = [1, 5, 10, 15, 20, 25, 30, 50, 100]\n",
    "min_samples_split = [2, 4, 8, 16, 32, 64, 128, 256, 512, 1024]\n",
    "\n",
    "for criterion in criterions:\n",
    "    print(\"\\nUsing criterion {}\".format(criterion))\n",
    "    res = None # TODO: call `build_all_models` for the given hyperparameters\n",
    "   \n",
    "    # TODO: complete this loop which should search for the optimal\n",
    "    #  (max_depth, min_samples_split) given this criterion\n",
    "    for d, s in res:\n",
    "        pass # TODO\n"
   ]
  },
  {
   "cell_type": "markdown",
   "id": "raising-private",
   "metadata": {},
   "source": [
    "## Part 4. Test accuracy\n",
    "\n",
    "**Task:** Use the optimal set of hyperparameters you previously discovered to fit a new Decision Tree model to the data. Report the test score."
   ]
  },
  {
   "cell_type": "code",
   "execution_count": null,
   "id": "virtual-iraqi",
   "metadata": {},
   "outputs": [],
   "source": [
    "best_tree = None # TODO"
   ]
  },
  {
   "cell_type": "markdown",
   "id": "existing-bench",
   "metadata": {},
   "source": [
    "The accuracy measure above considers every mis-classification that is made by our model an `error`, and it assumes that each and every error is of equal importance. However, in many domains, not all errors are of equal importance at all! Some mistakes may have significant negative impacts on people, while others may not.  In future labs, we'll look more closely at different kinds of errors that our models may make and reflect on how these errors might be related to risks. \n",
    "\n",
    "For now, however, let's simply reflect on some shortcomings of the accuracy measure above. \n",
    "\n",
    "**Graded Task:** Assume we have two decision trees that both report 95% accuracy on our validation set.\n",
    "Why might a doctor prefer to use one tree rather than the other?  Answer below in 100 words or less."
   ]
  },
  {
   "cell_type": "code",
   "execution_count": null,
   "id": "informed-project",
   "metadata": {},
   "outputs": [],
   "source": [
    "# TODO"
   ]
  }
 ],
 "metadata": {},
 "nbformat": 4,
 "nbformat_minor": 5
}
